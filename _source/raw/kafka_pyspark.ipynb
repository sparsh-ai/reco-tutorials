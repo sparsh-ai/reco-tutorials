{
 "cells": [
  {
   "cell_type": "code",
   "execution_count": 1,
   "metadata": {
    "colab": {
     "base_uri": "https://localhost:8080/"
    },
    "executionInfo": {
     "elapsed": 5494,
     "status": "ok",
     "timestamp": 1616504089763,
     "user": {
      "displayName": "Sparsh Agarwal",
      "photoUrl": "",
      "userId": "13037694610922482904"
     },
     "user_tz": -330
    },
    "id": "eou9qcd2Jc1q",
    "outputId": "d2a56d51-3965-4ec3-e2e4-0760d2768844"
   },
   "outputs": [
    {
     "name": "stdout",
     "output_type": "stream",
     "text": [
      "\u001b[K     |████████████████████████████████| 2.7MB 5.6MB/s \n",
      "\u001b[?25h"
     ]
    }
   ],
   "source": [
    "!pip install confluent_kafka -q"
   ]
  },
  {
   "cell_type": "code",
   "execution_count": 23,
   "metadata": {
    "executionInfo": {
     "elapsed": 1291,
     "status": "ok",
     "timestamp": 1616505553469,
     "user": {
      "displayName": "Sparsh Agarwal",
      "photoUrl": "",
      "userId": "13037694610922482904"
     },
     "user_tz": -330
    },
    "id": "awNCBBkOJqmF"
   },
   "outputs": [],
   "source": [
    "import json\n",
    "import sys\n",
    "import os\n",
    "import pandas as pd\n",
    "\n",
    "from confluent_kafka import Producer\n",
    "from confluent_kafka import Consumer, KafkaException, KafkaError"
   ]
  },
  {
   "cell_type": "code",
   "execution_count": 13,
   "metadata": {
    "executionInfo": {
     "elapsed": 1735,
     "status": "ok",
     "timestamp": 1616504656335,
     "user": {
      "displayName": "Sparsh Agarwal",
      "photoUrl": "",
      "userId": "13037694610922482904"
     },
     "user_tz": -330
    },
    "id": "lV6OPybKoPNm"
   },
   "outputs": [],
   "source": [
    "os.environ['CLOUDKARAFKA_BROKERS'] = \"<secret>\"\n",
    "os.environ['CLOUDKARAFKA_USERNAME'] = \"<secret>\"\n",
    "os.environ['CLOUDKARAFKA_PASSWORD'] = \"<secret>\"\n",
    "os.environ['CLOUDKARAFKA_TOPIC'] = \"<secret>\""
   ]
  },
  {
   "cell_type": "code",
   "execution_count": 17,
   "metadata": {
    "colab": {
     "base_uri": "https://localhost:8080/"
    },
    "executionInfo": {
     "elapsed": 1068,
     "status": "ok",
     "timestamp": 1616504940070,
     "user": {
      "displayName": "Sparsh Agarwal",
      "photoUrl": "",
      "userId": "13037694610922482904"
     },
     "user_tz": -330
    },
    "id": "-lulTQA9KaW9",
    "outputId": "6de5f230-cb03-4369-cccf-ee36b71bea63"
   },
   "outputs": [
    {
     "name": "stdout",
     "output_type": "stream",
     "text": [
      "{'movieId': 1, 'title': 'Toy Story (1995)', 'genres': 'Adventure|Animation|Children|Comedy|Fantasy'}\n"
     ]
    }
   ],
   "source": [
    "# !wget http://files.grouplens.org/datasets/movielens/ml-latest-small.zip\n",
    "# !unzip ml-latest-small.zip\n",
    "\n",
    "df = pd.read_csv('./ml-latest-small/movies.csv')\n",
    "df.head().to_json('df.json')\n",
    "df_json = pd.read_json('df.json')\n",
    "movie_list= df_json.to_dict(orient=\"records\")\n",
    "print(movie_list[0])"
   ]
  },
  {
   "cell_type": "code",
   "execution_count": 38,
   "metadata": {
    "colab": {
     "base_uri": "https://localhost:8080/"
    },
    "executionInfo": {
     "elapsed": 4071,
     "status": "ok",
     "timestamp": 1616507608718,
     "user": {
      "displayName": "Sparsh Agarwal",
      "photoUrl": "",
      "userId": "13037694610922482904"
     },
     "user_tz": -330
    },
    "id": "W7jI5h7yL3I_",
    "outputId": "100e1fbf-d63d-430c-a328-c34831c6ade0"
   },
   "outputs": [
    {
     "name": "stdout",
     "output_type": "stream",
     "text": [
      "Message to be send :  {'movieId': 1, 'title': 'Toy Story (1995)', 'genres': 'Adventure|Animation|Children|Comedy|Fantasy'}\n",
      "Message to be send :  {'movieId': 2, 'title': 'Jumanji (1995)', 'genres': 'Adventure|Children|Fantasy'}\n",
      "Message to be send :  {'movieId': 3, 'title': 'Grumpier Old Men (1995)', 'genres': 'Comedy|Romance'}\n",
      "Message to be send :  {'movieId': 4, 'title': 'Waiting to Exhale (1995)', 'genres': 'Comedy|Drama|Romance'}\n",
      "Message to be send :  {'movieId': 5, 'title': 'Father of the Bride Part II (1995)', 'genres': 'Comedy'}\n"
     ]
    },
    {
     "name": "stderr",
     "output_type": "stream",
     "text": [
      "% Waiting for 5 deliveries\n",
      "% Message delivered to 2nizjcn5-entree [1]\n",
      "% Message delivered to 2nizjcn5-entree [1]\n",
      "% Message delivered to 2nizjcn5-entree [3]\n",
      "% Message delivered to 2nizjcn5-entree [2]\n",
      "% Message delivered to 2nizjcn5-entree [2]\n"
     ]
    },
    {
     "data": {
      "text/plain": [
       "0"
      ]
     },
     "execution_count": 38,
     "metadata": {
      "tags": []
     },
     "output_type": "execute_result"
    }
   ],
   "source": [
    "topic = os.environ['CLOUDKARAFKA_TOPIC'].split(\",\")[0]\n",
    "\n",
    "conf = {\n",
    "    'bootstrap.servers': os.environ['CLOUDKARAFKA_BROKERS'],\n",
    "    'session.timeout.ms': 6000,\n",
    "    'default.topic.config': {'auto.offset.reset': 'smallest'},\n",
    "    'security.protocol': 'SASL_SSL',\n",
    "    'sasl.mechanisms': 'SCRAM-SHA-256',\n",
    "    'sasl.username': os.environ['CLOUDKARAFKA_USERNAME'],\n",
    "    'sasl.password': os.environ['CLOUDKARAFKA_PASSWORD']\n",
    "    }\n",
    "\n",
    "p = Producer(**conf)\n",
    "\n",
    "def delivery_callback(err, msg):\n",
    "    if err:\n",
    "        sys.stderr.write('%% Message failed delivery: %s\\n' % err)\n",
    "    else:\n",
    "        sys.stderr.write('%% Message delivered to %s [%d]\\n' %\n",
    "                          (msg.topic(), msg.partition()))\n",
    "\n",
    "for movie in movie_list:\n",
    "    try:\n",
    "        print(\"Message to be send : \", movie)\n",
    "        p.produce(topic, str(movie), callback=delivery_callback)\n",
    "    except BufferError as e:\n",
    "        sys.stderr.write('%% Local producer queue is full (%d messages awaiting delivery): try again\\n' %\n",
    "                          len(p))\n",
    "    p.poll(0)\n",
    "\n",
    "sys.stderr.write('%% Waiting for %d deliveries\\n' % len(p))\n",
    "p.flush()"
   ]
  },
  {
   "cell_type": "code",
   "execution_count": 25,
   "metadata": {
    "executionInfo": {
     "elapsed": 8828,
     "status": "ok",
     "timestamp": 1616505814810,
     "user": {
      "displayName": "Sparsh Agarwal",
      "photoUrl": "",
      "userId": "13037694610922482904"
     },
     "user_tz": -330
    },
    "id": "oPyjm3WTPpEm"
   },
   "outputs": [],
   "source": [
    "# !apt-get install openjdk-8-jdk-headless -qq > /dev/null\n",
    "# !wget -q https://archive.apache.org/dist/spark/spark-3.0.0/spark-3.0.0-bin-hadoop3.2.tgz\n",
    "# !tar xf spark-3.0.0-bin-hadoop3.2.tgz\n",
    "# !pip install -q findspark\n",
    "# !pip install -q pyspark\n",
    "\n",
    "import os\n",
    "os.environ[\"JAVA_HOME\"] = \"/usr/lib/jvm/java-8-openjdk-amd64\"\n",
    "os.environ[\"SPARK_HOME\"] = \"/content/spark-3.0.0-bin-hadoop3.2\"\n",
    "\n",
    "import findspark\n",
    "findspark.init()"
   ]
  },
  {
   "cell_type": "code",
   "execution_count": 39,
   "metadata": {
    "colab": {
     "base_uri": "https://localhost:8080/"
    },
    "executionInfo": {
     "elapsed": 7542,
     "status": "ok",
     "timestamp": 1616507641457,
     "user": {
      "displayName": "Sparsh Agarwal",
      "photoUrl": "",
      "userId": "13037694610922482904"
     },
     "user_tz": -330
    },
    "id": "2eQ7RsExoP-4",
    "outputId": "ef5fad2a-9c2f-4b11-b827-30a46bbb0c09"
   },
   "outputs": [
    {
     "name": "stdout",
     "output_type": "stream",
     "text": [
      "1\n",
      "2\n",
      "3\n",
      "4\n",
      "5\n",
      "6\n"
     ]
    },
    {
     "name": "stderr",
     "output_type": "stream",
     "text": [
      "% 2nizjcn5-entree [1] at offset 2 with key None:\n",
      "% 2nizjcn5-entree [1] at offset 3 with key None:\n"
     ]
    },
    {
     "name": "stdout",
     "output_type": "stream",
     "text": [
      "b\"{'movieId': 2, 'title': 'Jumanji (1995)', 'genres': 'Adventure|Children|Fantasy'}\"\n",
      "7\n",
      "b\"{'movieId': 3, 'title': 'Grumpier Old Men (1995)', 'genres': 'Comedy|Romance'}\"\n",
      "8\n"
     ]
    },
    {
     "name": "stderr",
     "output_type": "stream",
     "text": [
      "% 2nizjcn5-entree [3] at offset 6 with key None:\n",
      "% 2nizjcn5-entree [2] at offset 4 with key None:\n",
      "% 2nizjcn5-entree [2] at offset 5 with key None:\n"
     ]
    },
    {
     "name": "stdout",
     "output_type": "stream",
     "text": [
      "b\"{'movieId': 1, 'title': 'Toy Story (1995)', 'genres': 'Adventure|Animation|Children|Comedy|Fantasy'}\"\n",
      "9\n",
      "b\"{'movieId': 4, 'title': 'Waiting to Exhale (1995)', 'genres': 'Comedy|Drama|Romance'}\"\n",
      "10\n",
      "b\"{'movieId': 5, 'title': 'Father of the Bride Part II (1995)', 'genres': 'Comedy'}\"\n"
     ]
    }
   ],
   "source": [
    "topics = os.environ['CLOUDKARAFKA_TOPIC'].split(\",\")\n",
    "\n",
    "# Consumer configuration\n",
    "conf = {\n",
    "    'bootstrap.servers': os.environ['CLOUDKARAFKA_BROKERS'],\n",
    "    'group.id': \"%s-consumer\" % os.environ['CLOUDKARAFKA_USERNAME'],\n",
    "    'session.timeout.ms': 6000,\n",
    "    'default.topic.config': {'auto.offset.reset': 'smallest'},\n",
    "    'security.protocol': 'SASL_SSL',\n",
    "'sasl.mechanisms': 'SCRAM-SHA-256',\n",
    "    'sasl.username': os.environ['CLOUDKARAFKA_USERNAME'],\n",
    "    'sasl.password': os.environ['CLOUDKARAFKA_PASSWORD']\n",
    "}\n",
    "\n",
    "c = Consumer(**conf)\n",
    "c.subscribe(topics)\n",
    "\n",
    "# while True:\n",
    "for i in range(10):\n",
    "  i+=1\n",
    "  print(i)\n",
    "  msg = c.poll(timeout=1.0)\n",
    "  if msg is None:\n",
    "      continue\n",
    "  if msg.error():\n",
    "      # Error or event\n",
    "      if msg.error().code() == KafkaError._PARTITION_EOF:\n",
    "          # End of partition event\n",
    "          sys.stderr.write('%% %s [%d] reached end at offset %d\\n' %\n",
    "                            (msg.topic(), msg.partition(), msg.offset()))\n",
    "      elif msg.error():\n",
    "          # Error\n",
    "          raise KafkaException(msg.error())\n",
    "  else:\n",
    "      # Proper message\n",
    "      sys.stderr.write('%% %s [%d] at offset %d with key %s:\\n' %\n",
    "                        (msg.topic(), msg.partition(), msg.offset(),\n",
    "                        str(msg.key())))\n",
    "      print(msg.value())\n",
    "\n",
    "c.close()"
   ]
  },
  {
   "cell_type": "code",
   "execution_count": null,
   "metadata": {
    "id": "pvIYMbntobtU"
   },
   "outputs": [],
   "source": []
  }
 ],
 "metadata": {
  "colab": {
   "authorship_tag": "ABX9TyOY1inB0F80EuAX36YKmgGc",
   "collapsed_sections": [],
   "name": "RecSys Kafka PySpark",
   "provenance": []
  },
  "kernelspec": {
   "display_name": "Python 3",
   "language": "python",
   "name": "python3"
  },
  "language_info": {
   "codemirror_mode": {
    "name": "ipython",
    "version": 3
   },
   "file_extension": ".py",
   "mimetype": "text/x-python",
   "name": "python",
   "nbconvert_exporter": "python",
   "pygments_lexer": "ipython3",
   "version": "3.7.3"
  }
 },
 "nbformat": 4,
 "nbformat_minor": 4
}
