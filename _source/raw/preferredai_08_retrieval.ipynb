{
  "nbformat": 4,
  "nbformat_minor": 0,
  "metadata": {
    "colab": {
      "name": "08_retrieval.ipynb",
      "provenance": [],
      "collapsed_sections": []
    },
    "kernelspec": {
      "name": "python3",
      "display_name": "Python 3"
    },
    "accelerator": "GPU"
  },
  "cells": [
    {
      "cell_type": "markdown",
      "metadata": {
        "id": "xLXWx4uhqtYJ",
        "colab_type": "text"
      },
      "source": [
        "<table class=\"tfo-notebook-buttons\" align=\"left\">\n",
        "  <td>\n",
        "    <a target=\"_blank\" href=\"https://colab.research.google.com/github/PreferredAI/tutorials/blob/master/recommender-systems/08_retrieval.ipynb\"><img src=\"https://www.tensorflow.org/images/colab_logo_32px.png\" />Run in Google Colab</a>\n",
        "  </td>\n",
        "  <td>\n",
        "    <a target=\"_blank\" href=\"https://github.com/PreferredAI/tutorials/blob/master/recommender-systems/08_retrieval.ipynb\"><img src=\"https://www.tensorflow.org/images/GitHub-Mark-32px.png\" />View source on GitHub</a>\n",
        "  </td>\n",
        "</table>"
      ]
    },
    {
      "cell_type": "markdown",
      "metadata": {
        "id": "wzPrmZOMtXt1",
        "colab_type": "text"
      },
      "source": [
        "# Recommendation Retrieval \n"
      ]
    },
    {
      "cell_type": "markdown",
      "metadata": {
        "id": "cBBggZxMmFG3",
        "colab_type": "text"
      },
      "source": [
        "A typical recommender system has two phases.  In the first phase (preference learning), which can be done offline, we learn the model from observations.  In the second phase (retrieval), upon the appearance of a user, we retrieve the top-ranked recommendations for that user.  This latter phase needs to be done online.  In this tutorial, we investigate ways to speed up the retrieval phase by avoiding an exhaustive search over all items.  The focus is on matrix factorization-based recommender systems."
      ]
    },
    {
      "cell_type": "markdown",
      "metadata": {
        "id": "MqktDa7H2hKz",
        "colab_type": "text"
      },
      "source": [
        "## 1. Setup"
      ]
    },
    {
      "cell_type": "code",
      "metadata": {
        "id": "41oWCMUG2eC_",
        "colab_type": "code",
        "colab": {}
      },
      "source": [
        "!pip install --quiet cornac==1.6.1 torch>=0.4.1"
      ],
      "execution_count": 1,
      "outputs": []
    },
    {
      "cell_type": "code",
      "metadata": {
        "id": "YqKrDcGH2k7E",
        "colab_type": "code",
        "colab": {
          "base_uri": "https://localhost:8080/",
          "height": 68
        },
        "outputId": "ca2a7d7e-b8d4-4426-af34-d919fb692613"
      },
      "source": [
        "import os\n",
        "import sys\n",
        "import time\n",
        "import random\n",
        "import pickle\n",
        "from operator import itemgetter\n",
        "from collections import defaultdict\n",
        "\n",
        "import tqdm.auto as tqdm\n",
        "import numpy as np\n",
        "import pandas as pd\n",
        "import matplotlib.pyplot as plt\n",
        "%matplotlib inline\n",
        "\n",
        "import cornac\n",
        "from cornac.utils import cache\n",
        "from cornac.datasets import movielens\n",
        "from cornac.eval_methods import RatioSplit\n",
        "from cornac.models import PMF, BPR, IBPR\n",
        "\n",
        "print(f\"System version: {sys.version}\")\n",
        "print(f\"Cornac version: {cornac.__version__}\")\n",
        "\n",
        "SEED = 42\n",
        "VERBOSE = True"
      ],
      "execution_count": 2,
      "outputs": [
        {
          "output_type": "stream",
          "text": [
            "System version: 3.6.9 (default, Apr 18 2020, 01:56:04) \n",
            "[GCC 8.4.0]\n",
            "Cornac version: 1.6.1\n"
          ],
          "name": "stdout"
        }
      ]
    },
    {
      "cell_type": "markdown",
      "metadata": {
        "id": "MIFkpFiVs47-",
        "colab_type": "text"
      },
      "source": [
        "## 2. Recommendation Retrieval is a Similarity Search Problem"
      ]
    },
    {
      "cell_type": "markdown",
      "metadata": {
        "id": "4WHXbb7TtCtG",
        "colab_type": "text"
      },
      "source": [
        "The two phases of a matrix factorization-based recommender system are:\n",
        "1. **Learning phase:** derive a $d$-dimensional latent vector $\\mathbf{u}_i$ for each user $i$ and a $d$-dimensional latent vector $\\mathbf{v}_j$ for each item $j$. The user-item relationship is modeled using the inner product kernel, i.e., the user preference of user $i$ for an item $j$ is given by:\n",
        "\n",
        "$$\\hat{r}_{i,j} = \\mathbf{u}_i^T \\mathbf{v}_j$$\n",
        "\n",
        "2. **Retrieval phase:** given a user vector $\\mathbf{u}_i$, construct a recommendation list of $K$ items with the highest preference scores. This step requires $\\mathcal{O}(d \\times M)$ preference score computations for $M$ number of items.\n"
      ]
    },
    {
      "cell_type": "markdown",
      "metadata": {
        "id": "1_OydLTFwg-J",
        "colab_type": "text"
      },
      "source": [
        "### Probabilistic Matrix Factorization"
      ]
    },
    {
      "cell_type": "markdown",
      "metadata": {
        "id": "-VsQWKF4whse",
        "colab_type": "text"
      },
      "source": [
        "For the retrieval phase, the straightforward approach is to exhaustively compute the preference score for every item and maintain the top-$K$. Let us take a closer look through an example based on Probabilistic Matrix Factorization (PMF) [1].\n",
        "\n",
        "For PMF, the objective is to learn for each user $i$ a vector $\\mathbf{u}_i$ and each item $j$ a vector $\\mathbf{v}_j$, such that the following error function is minimized over the set of observed ratings $\\mathbf{R}$:\n",
        "\\begin{equation}\n",
        " \\mathcal{L} = \\sum_{r_{ui}\\in \\mathbf{R}}(r_{ui} - \\mathbf{u}_i^T\\mathbf{v}_j)^2 + \\lambda \\sum_{i = 1}^{N}||\\mathbf{u}_i||^2 + \\lambda\\sum_{j = 1}^{M}||\\mathbf{v}_j||^2, \n",
        "\\end{equation}\n",
        "where $\\lambda$ is a regularization term.\n",
        "\n",
        "We begin by running PMF on the Movielens 1M dataset.  "
      ]
    },
    {
      "cell_type": "code",
      "metadata": {
        "id": "PSCJDcKTD6CK",
        "colab_type": "code",
        "colab": {}
      },
      "source": [
        "# Load the MovieLens 1M dataset\n",
        "ml_1m = movielens.load_feedback(variant='1M')"
      ],
      "execution_count": null,
      "outputs": []
    },
    {
      "cell_type": "code",
      "metadata": {
        "id": "eVhu7grbkysl",
        "colab_type": "code",
        "colab": {
          "base_uri": "https://localhost:8080/",
          "height": 136
        },
        "outputId": "33151b51-6c35-484e-c9b7-14ce74a3b5bf"
      },
      "source": [
        "# Instantiate an evaluation method\n",
        "ratio_split = RatioSplit(\n",
        "  data=ml_1m, test_size=0.4, rating_threshold=1.0, exclude_unknowns=False\n",
        ")\n",
        "\n",
        "# Instatiate a PMF recommender model\n",
        "pmf = PMF(k=100, max_iter=100, learning_rate=0.01, seed=SEED, verbose=VERBOSE)\n",
        "\n",
        "# Instantiate evaluation metrics.\n",
        "rec_10 = cornac.metrics.Recall(k=10)\n",
        "pre_10 = cornac.metrics.Precision(k=10)\n",
        "\n",
        "# Instantiate and then run an experiment.\n",
        "cornac.Experiment(\n",
        "  eval_method=ratio_split, models=[pmf], metrics=[rec_10, pre_10]\n",
        ").run()"
      ],
      "execution_count": 4,
      "outputs": [
        {
          "output_type": "stream",
          "text": [
            "\n",
            "TEST:\n",
            "...\n",
            "    | Precision@10 | Recall@10 | Train (s) | Test (s)\n",
            "--- + ------------ + --------- + --------- + --------\n",
            "PMF |       0.0789 |    0.0164 |  144.9316 |   7.3906\n",
            "\n"
          ],
          "name": "stdout"
        }
      ]
    },
    {
      "cell_type": "markdown",
      "metadata": {
        "id": "19yOmH88mv4V",
        "colab_type": "text"
      },
      "source": [
        "### Exhaustive Search\n",
        "\n",
        "To retrieve the top-$K$ recommendation for a user $i$, we need to compute the inner product between the user's latent vector $\\mathbf{u}_i$ and that of every item $\\mathbf{v}_j$.  This is directly proportional to the number of items $M$ as well as the number of latent factors (dimensionality of the item vector) $d$, as we will see below."
      ]
    },
    {
      "cell_type": "markdown",
      "metadata": {
        "id": "kA9ZDTctoOcM",
        "colab_type": "text"
      },
      "source": [
        "**Observation #1: Retrieval time scales linearly with the number of items**"
      ]
    },
    {
      "cell_type": "code",
      "metadata": {
        "id": "uCeswvsbnCpj",
        "colab_type": "code",
        "colab": {}
      },
      "source": [
        "comp_time = []\n",
        "\n",
        "# For each user vector, we compute the inner product score to each item vector\n",
        "pmf_item_vect = pmf.V\n",
        "pmf_user_vect = pmf.U\n",
        "\n",
        "for incr_size in tqdm.trange(0, pmf_item_vect.shape[0], 10, disable=not VERBOSE):\n",
        "  start_time = time.time()\n",
        "  pred = np.matmul(pmf_item_vect[:incr_size, :], pmf_user_vect.T)\n",
        "  end_time = time.time()\n",
        "  comp_time.append((end_time - start_time) / pmf_user_vect.shape[0])"
      ],
      "execution_count": 5,
      "outputs": []
    },
    {
      "cell_type": "code",
      "metadata": {
        "id": "lufnHvnaixB-",
        "colab_type": "code",
        "colab": {
          "base_uri": "https://localhost:8080/",
          "height": 369
        },
        "outputId": "3d766575-9014-48e5-8af2-b8993a5609db"
      },
      "source": [
        "# plot the computation time as the number of items increases\n",
        "plt.plot(range(0, pmf_item_vect.shape[0],10), comp_time, marker='o', \n",
        "         label='Computation_time')\n",
        "plt.xlabel('Number of Items')\n",
        "plt.ylabel('Computation Time (seconds)')\n",
        "plt.title('Inner product computation time (seconds) vs. number of items')\n",
        "plt.grid()\n",
        "plt.gcf().set_size_inches(10, 5)\n",
        "plt.tight_layout()\n",
        "plt.show()"
      ],
      "execution_count": 6,
      "outputs": [
        {
          "output_type": "display_data",
          "data": {
            "image/png": "[encoded data removed]",
            "text/plain": [
              "<Figure size 720x360 with 1 Axes>"
            ]
          },
          "metadata": {
            "tags": [],
            "needs_background": "light"
          }
        }
      ]
    },
    {
      "cell_type": "markdown",
      "metadata": {
        "id": "PVHVHI-uoYc_",
        "colab_type": "text"
      },
      "source": [
        "**Observation #2: Retrieval time scales linearly with the number of latent factors**"
      ]
    },
    {
      "cell_type": "code",
      "metadata": {
        "id": "LdcN_VdJoiun",
        "colab_type": "code",
        "colab": {}
      },
      "source": [
        "comp_time = []\n",
        "\n",
        "for d in tqdm.trange(pmf.k, disable=not VERBOSE):\n",
        "  start_time = time.time()\n",
        "  pred = np.matmul(pmf_item_vect[:incr_size, :d], pmf_user_vect[:,:d].T)\n",
        "  end_time = time.time()\n",
        "  \n",
        "  # average the computation time \n",
        "  comp_time.append((end_time - start_time) / pmf_user_vect.shape[0])"
      ],
      "execution_count": 7,
      "outputs": []
    },
    {
      "cell_type": "code",
      "metadata": {
        "id": "KskaILijjngX",
        "colab_type": "code",
        "colab": {
          "base_uri": "https://localhost:8080/",
          "height": 369
        },
        "outputId": "9e2f7cbe-ec94-4211-bf3a-eeca01b3021b"
      },
      "source": [
        "# plot the computation time as the number of dimension increases\n",
        "plt.plot(range(pmf.k), comp_time, marker='o', label='Computation_time')\n",
        "plt.title('Inner product computation time (seconds) vs. number of features')\n",
        "plt.xlabel('Number of features')\n",
        "plt.ylabel('Computation Time (seconds)')\n",
        "plt.grid()\n",
        "plt.gcf().set_size_inches(10, 5)\n",
        "plt.tight_layout()\n",
        "plt.show()"
      ],
      "execution_count": 8,
      "outputs": [
        {
          "output_type": "display_data",
          "data": {
            "image/png": "[encoded data removed]",
            "text/plain": [
              "<Figure size 720x360 with 1 Axes>"
            ]
          },
          "metadata": {
            "tags": [],
            "needs_background": "light"
          }
        }
      ]
    },
    {
      "cell_type": "markdown",
      "metadata": {
        "id": "Bh7V67efp54Q",
        "colab_type": "text"
      },
      "source": [
        "## 3. Scalable Recommendation Retrieval with Locality Sensitive Hashing\n",
        "From the previous example, we can see that the cost of **exhaustive search** scales linearly to the number of items, i.e., $M$ and number of features, i.e., $d$. For modern real-world systems, the number of items could go up to the scale of millons.  Therefore, it would be fruitful to make the search more efficient."
      ]
    },
    {
      "cell_type": "markdown",
      "metadata": {
        "id": "fdjNO883q3np",
        "colab_type": "text"
      },
      "source": [
        "### Locality Sensitive Hashing\n",
        "One way to do so is to use Locality Sensitive Hashing (LSH), which is a probabilistic space-partitioning indexing technique. One important element of LSH is the hashing function $h(.)$, which maps a data point into a hash value. This hashing function is usually designed with the *locality-sensitive* property, stated as: *two similar data points are more likely to get the same hash values as compared to two distant data points.*\n",
        "\n",
        "One of the most popular search protocols using LSH is hash table look-up.  In a nutshell, we first derive the hash codes for all items and construct a hash table that links a hash code to items of that code. When a user appears, we hash the user's latent vector into a hash code.  We then look up items of that hash code and compute the top-$K$ based on inner product *only among those items*, thus drastically reducing the number of items we need to consider.  To increase the search space, we can also use multiple hash tables, in which case we look up the multiple hash tables and compute the top-$K$ across the tables."
      ]
    },
    {
      "cell_type": "code",
      "metadata": {
        "id": "anAqQ3Rwi-3-",
        "colab_type": "code",
        "colab": {}
      },
      "source": [
        "random.seed(SEED)\n",
        "\n",
        "# Implementation of Locality Sensitive Hashing for Maximum Cosine Similarity Search\n",
        "class LSHIndex:\n",
        "\n",
        "  def __init__(self, hash_family, k, L):\n",
        "    self.hash_family = hash_family\n",
        "    self.k = k\n",
        "    self.L = 0\n",
        "    self.hash_tables = []\n",
        "    self.resize(L)\n",
        "\n",
        "  def resize(self, L):\n",
        "    \"\"\" update the number of hash tables to be used \"\"\"\n",
        "    if L < self.L:\n",
        "      self.hash_tables = self.hash_tables[:L]\n",
        "    else:\n",
        "      # initialise a new hash table for each hash function\n",
        "      hash_funcs = [[self.hash_family.create_hash_func() for h in range(self.k)] \n",
        "                    for l in range(self.L, L)]\n",
        "      self.hash_tables.extend([(g, defaultdict(lambda:[])) for g in hash_funcs])\n",
        "\n",
        "  def hash(self, g, p):\n",
        "    return self.hash_family.combine([h.hash(p) for h in g])\n",
        "\n",
        "  def index(self, points):\n",
        "    \"\"\" index the supplied points \"\"\"\n",
        "    self.points = points\n",
        "    for g, table in self.hash_tables:\n",
        "        for ix, p in enumerate(self.points):\n",
        "            table[self.hash(g,p)].append(ix)\n",
        "    # reset stats\n",
        "    self.tot_touched = 0\n",
        "    self.num_queries = 0\n",
        "\n",
        "  def query(self, q, metric, max_results):\n",
        "    \"\"\" find the max_results closest indexed points to q according to the supplied metric \"\"\"\n",
        "    candidates = set()\n",
        "    for g, table in self.hash_tables:\n",
        "        matches = table.get(self.hash(g,q), [])\n",
        "        candidates.update(matches)\n",
        "        \n",
        "    # update stats\n",
        "    self.tot_touched += len(candidates)\n",
        "    self.num_queries += 1\n",
        "    \n",
        "    # rerank candidates\n",
        "    candidates = [(ix, metric(q, self.points[ix])) for ix in candidates]\n",
        "    candidates.sort(key = itemgetter(1))\n",
        "    return candidates[:max_results]\n",
        "\n",
        "  def get_avg_touched(self):\n",
        "    \"\"\" mean number of candidates inspected per query \"\"\"\n",
        "    return self.tot_touched/self.num_queries\n",
        "\n",
        "\n",
        "#################################################################################################\n",
        "#--------------------------------- Cosine LSH Hash Family --------------------------------------#\n",
        "#################################################################################################    \n",
        "class CosineHashFamily:\n",
        "\n",
        "  def __init__(self,d):\n",
        "    self.d = d\n",
        "\n",
        "  def create_hash_func(self):\n",
        "    # each CosineHash is initialised with a random projection vector\n",
        "    return CosineHash(self.rand_vec())\n",
        "\n",
        "  def rand_vec(self):\n",
        "    return [random.gauss(0,1) for i in range(self.d)]\n",
        "\n",
        "  def combine(self, hashes):\n",
        "    \"\"\"combine by treating as a bitvector\"\"\"\n",
        "    return sum(2**i if h > 0 else 0 for i,h in enumerate(hashes))\n",
        "\t\n",
        "class CosineHash:\n",
        "\n",
        "  def __init__(self, r):\n",
        "    self.r = r\n",
        "\n",
        "  def hash(self, vec):\n",
        "    return self.sgn(dot(vec, self.r))\n",
        "\n",
        "  def sgn(self,x):\n",
        "    return int(x > 0)\n",
        "\n",
        "#--- inner product ---\n",
        "def dot(u,v):\n",
        "\treturn np.dot(u, v) \n",
        "\n",
        "#-- cosine distance ---\n",
        "def cosine_distance(u,v):\n",
        "\treturn 1 - dot(u,v)/(dot(u,u)*dot(v,v))**0.5"
      ],
      "execution_count": 9,
      "outputs": []
    },
    {
      "cell_type": "code",
      "metadata": {
        "id": "ZKKYp5aujPUz",
        "colab_type": "code",
        "colab": {}
      },
      "source": [
        "# helper function to measure precision, recall, and touched values \n",
        "# of using LSH for top-k recommendation retrieval\n",
        "# ------------------------------------------------------------------------\n",
        "def evaluate_LSHTopK(test_data, item_vect, user_vect, lsh_index, sim_metric, topK):           \n",
        "\n",
        "  lsh_prec = 0.0\n",
        "  lsh_recall = 0.0\n",
        "  \n",
        "  #build index\n",
        "  lsh_index.index(item_vect.tolist())\n",
        "  \n",
        "  for id in range(user_vect.shape[0]):      \n",
        "    test_item_ids = list(test_data.csr_matrix.getrow(id).nonzero()[1])\n",
        "\n",
        "    if len(test_item_ids) > 0:\n",
        "      # top-k by LSH\n",
        "      lsh_rec_list = list(map(itemgetter(0), lsh_index.query(user_vect[id, :], sim_metric, topK)))\n",
        "      lsh_overlaps = list(set(lsh_rec_list).intersection(test_item_ids))\n",
        "\n",
        "      lsh_prec   += len(lsh_overlaps) * 1.0/topK\n",
        "      lsh_recall += len(lsh_overlaps) * 1.0/len(test_item_ids)\n",
        "\n",
        "  touched = lsh_index.get_avg_touched() * 1.0/item_vect.shape[0]\n",
        "  return lsh_prec/user_vect.shape[0], lsh_recall/user_vect.shape[0], touched"
      ],
      "execution_count": 10,
      "outputs": []
    },
    {
      "cell_type": "markdown",
      "metadata": {
        "id": "kG3HZIUVsGaT",
        "colab_type": "text"
      },
      "source": [
        "### Issue with Using Locality Sensitive Hashing for Recommendation Retrieval\n",
        "\n",
        "Recommendation retrieval, which relies on inner product computation is not directly compatible with Locality Sensitive Hashing, which is designed for nearest neighbor search or maximum cosine similarity search. This might lead to the significant degeneration of recommendation accuracy after indexing [2].\n",
        "\n",
        "In the following, we introduce two approaches to this issue:\n",
        "\n",
        "1.   Vector Augmentation\n",
        "2.   Indexable Representation\n"
      ]
    },
    {
      "cell_type": "markdown",
      "metadata": {
        "id": "NtVrcg_Ysmj0",
        "colab_type": "text"
      },
      "source": [
        "### Solution I: Vector Augmentation\n",
        "In this solution, we first apply the vector transformation for both user and item vectors, as introduced in the paper [3]. \n",
        "\n",
        "For each item vector $\\mathbf{v}_j$:\n",
        "\\begin{equation}\n",
        "\\mathbf{\\tilde{v}}_j = [\\mathbf{v}_j; \\sqrt{\\phi^2 - ||\\mathbf{v}_j||^2}]  \\hspace{1cm}(\\mathrm{where}\\ \\phi = \\max\\{||\\mathbf{v}_j||\\})\n",
        "\\end{equation}\n",
        "\n",
        "For each user vector $\\mathbf{u}_i$:\n",
        "\\begin{equation}\n",
        "\\mathbf{\\tilde{u}}_i = [\\mathbf{u}_i; 0]\n",
        "\\end{equation}\n",
        "\n",
        "We have the following observation:\n",
        "\n",
        "\\begin{equation}\n",
        "\\frac{\\mathbf{\\tilde{u}}_i^T\\mathbf{\\tilde{v}}_j}{||\\mathbf{\\tilde{u}}_i||\\times ||\\mathbf{\\tilde{v}}_j||} = \\frac{\\mathbf{\\tilde{u}}_i^T\\mathbf{\\tilde{v}}_j}{\\phi ||\\mathbf{\\tilde{u}}_i||}\n",
        "\\end{equation}\n",
        "\n",
        "i.e., \n",
        "\n",
        "\\begin{equation}\n",
        "\\arg\\max_{1\\leq j\\leq M}{\\mathbf{{u}}_i^T\\mathbf{{v}}_j} = \\arg\\max_{1\\leq j\\leq M}\\frac{\\mathbf{\\tilde{u}}_i^T\\mathbf{\\tilde{v}}_j}{||\\mathbf{\\tilde{u}}_i||\\times ||\\mathbf{\\tilde{v}}_j||}\n",
        "\\end{equation}\n",
        "\n",
        "\n",
        "With this vector augmentation, we effectively convert a Maximum Inner Product Search (MIPS) problem to a Maximum Cosine Similarity Search (MCCS), which can be solved with LSH.  Hypothetically, this will make the user and item latent vectors more compatible with LSH."
      ]
    },
    {
      "cell_type": "code",
      "metadata": {
        "id": "duk8--B6stCt",
        "colab_type": "code",
        "colab": {}
      },
      "source": [
        "#apply vector augmentation\n",
        "M = np.linalg.norm(pmf_item_vect, axis=1) # compute item vector norms\n",
        "max_norm = max(M) # max item norm\n",
        "\n",
        "xbox_item_vect = np.concatenate(\n",
        "  (pmf_item_vect, np.sqrt(max_norm**2 - pow(M, 2)).reshape(pmf_item_vect.shape[0], -1)), \n",
        "  axis=1\n",
        ")\n",
        "xbox_user_vect = np.concatenate(\n",
        "  (pmf_user_vect, np.zeros((pmf_user_vect.shape[0], 1))), \n",
        "  axis=1\n",
        ")"
      ],
      "execution_count": 11,
      "outputs": []
    },
    {
      "cell_type": "markdown",
      "metadata": {
        "id": "4BhzCTwxjLGN",
        "colab_type": "text"
      },
      "source": [
        "#### Effectiveness of Vector Augmentation\n",
        "\n",
        "In this experiment, we build LSH index on the output of PMF algorithm and compare the latent vectors before and after vector augmentation for LSH recommendation retrieval.\n",
        "\n",
        "Since the augmented user and item vectors are in $(d+1)-$dimensional space, for comparison purpose we append 0s to the original non-augmented user and item vectors (to make them the same length), i.e.,\n",
        "\n",
        "\\begin{equation}\n",
        "\\mathbf{\\tilde{v}}_j = [\\mathbf{v}_j; 0]\n",
        "\\end{equation}\n",
        "\n",
        "\\begin{equation}\n",
        "\\mathbf{\\tilde{u}}_i = [\\mathbf{u}_i; 0]\n",
        "\\end{equation}\n",
        "\n",
        "With this non-augmented \"transformation\", we have no change to the original inner product:\n",
        "\n",
        "\\begin{equation}\n",
        "\\mathbf{\\tilde{u}}_i^T\\mathbf{\\tilde{v}}_j = \\mathbf{{u}}_i^T\\mathbf{{v}}_j\n",
        "\\end{equation}"
      ]
    },
    {
      "cell_type": "code",
      "metadata": {
        "id": "mC8TxRaWjQbf",
        "colab_type": "code",
        "colab": {}
      },
      "source": [
        "padded_user_vect = np.concatenate((pmf_user_vect, np.zeros((pmf_user_vect.shape[0], 1))), axis=1)\n",
        "padded_item_vect = np.concatenate((pmf_item_vect, np.zeros((pmf_item_vect.shape[0], 1))), axis=1)"
      ],
      "execution_count": 12,
      "outputs": []
    },
    {
      "cell_type": "markdown",
      "metadata": {
        "id": "U_aWFxs3tFyk",
        "colab_type": "text"
      },
      "source": [
        "\n",
        "Specifically, we report three evaluation metrics as follows:\n",
        "\n",
        "1. \blsh_prec@10 = $\\text{precision@10 of LSH Indexing}$ \n",
        "&nbsp;\n",
        "&nbsp;\n",
        "&nbsp;  \n",
        "&nbsp;\n",
        "2. lsh_rec@10    = $\\text{recall@10 of LSH Indexing}$\n",
        "&nbsp;\n",
        "&nbsp;\n",
        "&nbsp;  \n",
        "&nbsp;\n",
        "3. touched = $\\frac{\\text{Average number of investigated items by LSH}}{\\text{Total number of items}}$\n"
      ]
    },
    {
      "cell_type": "code",
      "metadata": {
        "id": "j8XWv-7ntKTQ",
        "colab_type": "code",
        "cellView": "both",
        "colab": {
          "base_uri": "https://localhost:8080/",
          "height": 238
        },
        "outputId": "de4184db-5705-462d-a2b8-40fe76bd2b1b"
      },
      "source": [
        "topK = 10 # @param - top-K value \n",
        "b_vals = [4, 8] # @param - number of hash function\n",
        "L_vals = [10, 20] # @param - number of hashtables\n",
        "\n",
        "test_data  = ratio_split.test_set # testing data\n",
        "\n",
        "print('#table \\t#bit \\t ?Augmented \\t lsh_prec@{0} \\t lsh_recall@{0} \\t touched'.format(topK))\n",
        "for nt in L_vals:\n",
        "  for b in b_vals: \n",
        "    #init lsh index:\n",
        "    #------ hash-family: the LSH scheme/family \n",
        "    #------ k          : number of hash functions\n",
        "    #------ L          : number of hash tables\n",
        "    lsh_index = LSHIndex(hash_family = CosineHashFamily(padded_item_vect.shape[1]), k = b, L=nt)\n",
        "    \n",
        "    #performance without employing vector augmentation\n",
        "    print('---------------------------------------------------------------------------------')\n",
        "    prec_1, recall_1, touched_1 = evaluate_LSHTopK(\n",
        "      test_data, padded_item_vect, -padded_user_vect[:1000], lsh_index, dot, topK\n",
        "    )\n",
        "    print(\"{}\\t{}\\t{}\\t{:.4f}\\t{:.4f}\\t{:.4f}\".format(nt, b, 'No', prec_1, recall_1, touched_1)) \n",
        "    \n",
        "    #performance with vector augmentation\n",
        "    prec_2, recall_2, touched_2 = evaluate_LSHTopK(\n",
        "      test_data, xbox_item_vect, -xbox_user_vect[:1000], lsh_index, dot, topK\n",
        "    )\n",
        "    print(\"{}\\t{}\\t{}\\t{:.4f}\\t{:.4f}\\t{:.4f}\".format(nt, b, 'Yes', prec_2, recall_2, touched_2)) "
      ],
      "execution_count": 13,
      "outputs": [
        {
          "output_type": "stream",
          "text": [
            "#table \t#bit \t ?Augmented \t lsh_prec@10 \t lsh_recall@10 \t touched\n",
            "---------------------------------------------------------------------------------\n",
            "10\t4\tNo\t0.1193\t0.0108\t0.4544\n",
            "10\t4\tYes\t0.1211\t0.0110\t0.6889\n",
            "---------------------------------------------------------------------------------\n",
            "10\t8\tNo\t0.0661\t0.0051\t0.0395\n",
            "10\t8\tYes\t0.0766\t0.0062\t0.0698\n",
            "---------------------------------------------------------------------------------\n",
            "20\t4\tNo\t0.1271\t0.0124\t0.7045\n",
            "20\t4\tYes\t0.1316\t0.0124\t0.8926\n",
            "---------------------------------------------------------------------------------\n",
            "20\t8\tNo\t0.0861\t0.0067\t0.0768\n",
            "20\t8\tYes\t0.0947\t0.0075\t0.1378\n"
          ],
          "name": "stdout"
        }
      ]
    },
    {
      "cell_type": "markdown",
      "metadata": {
        "id": "mDl-lSEojgAC",
        "colab_type": "text"
      },
      "source": [
        "We observe from the results above that with vector augmentation, we can achieve higher recommendation accuracy after using Locality Sensitive Hashing.\n",
        "\n",
        "What is the effect of increasing the number of bits, or the number of hash tables? Why?\n"
      ]
    },
    {
      "cell_type": "markdown",
      "metadata": {
        "id": "fcPi3CaOeFcf",
        "colab_type": "text"
      },
      "source": [
        "### Solution II: Indexable Representation Learning\n",
        "Another solution is \"Indexable representation\", which refers to recommendation algorithms whose user/item vectors are immediately sublinearly searchable. In this tutorial, we are going to experiment with one such model, namely Indexable Bayesian Personalized Ranking or IBPR [5] for short. IBPR is an extension of the popular framework for implicit feedback: Bayesian Personalized Ranking (BPR) [4].\n",
        "\n"
      ]
    },
    {
      "cell_type": "markdown",
      "metadata": {
        "id": "xu5vliwGbi0H",
        "colab_type": "text"
      },
      "source": [
        "#### Bayesian Personalized Ranking - BPR\n",
        "\n",
        "Let us see the performance of BPR with exhaustive search. "
      ]
    },
    {
      "cell_type": "code",
      "metadata": {
        "id": "Rd7_awdLh9rZ",
        "colab_type": "code",
        "colab": {
          "base_uri": "https://localhost:8080/",
          "height": 136
        },
        "outputId": "958a0444-d146-4064-9e7b-574a2b9b0502"
      },
      "source": [
        "rec_bpr = BPR(k=20, max_iter=100, learning_rate=0.001, seed=SEED, verbose=VERBOSE)\n",
        "\n",
        "cornac.Experiment(\n",
        "  eval_method=ratio_split, models=[rec_bpr], metrics=[rec_10, pre_10],\n",
        ").run()"
      ],
      "execution_count": 14,
      "outputs": [
        {
          "output_type": "stream",
          "text": [
            "\n",
            "TEST:\n",
            "...\n",
            "    | Precision@10 | Recall@10 | Train (s) | Test (s)\n",
            "--- + ------------ + --------- + --------- + --------\n",
            "BPR |       0.1838 |    0.0448 |   20.5633 |   6.7531\n",
            "\n"
          ],
          "name": "stdout"
        }
      ]
    },
    {
      "cell_type": "markdown",
      "metadata": {
        "id": "t5ddSbTG3j7T",
        "colab_type": "text"
      },
      "source": [
        "We now measure the performance of BPR after LSH indexing. "
      ]
    },
    {
      "cell_type": "code",
      "metadata": {
        "id": "urSv8wsriwwj",
        "colab_type": "code",
        "colab": {}
      },
      "source": [
        "bpr_user_vect  = rec_bpr.u_factors\n",
        "bpr_item_vect  = rec_bpr.i_factors\n",
        "\n",
        "# apply Xbox transformation\n",
        "M = np.linalg.norm(bpr_item_vect, axis=1) # compute item vector norms\n",
        "max_norm = max(M) # max item norm\n",
        "\n",
        "xbox_bpr_item_vect = np.concatenate(\n",
        "  (bpr_item_vect, np.sqrt(max_norm**2 - pow(M, 2)).reshape(bpr_item_vect.shape[0], -1)), \n",
        "  axis=1\n",
        ")\n",
        "xbox_bpr_user_vect = np.concatenate(\n",
        "  (bpr_user_vect, np.zeros((bpr_user_vect.shape[0], 1))), \n",
        "  axis = 1\n",
        ")"
      ],
      "execution_count": 15,
      "outputs": []
    },
    {
      "cell_type": "code",
      "metadata": {
        "id": "4PUKWLDuobXp",
        "colab_type": "code",
        "colab": {
          "base_uri": "https://localhost:8080/",
          "height": 136
        },
        "outputId": "f625ba22-3bb6-4672-c17a-f66f25549b28"
      },
      "source": [
        "topK = 10 # @param\n",
        "b_vals = [4, 8] # @param\n",
        "L_vals = [10, 20] # @param\n",
        "\n",
        "test_data  = ratio_split.test_set # testing data\n",
        "\n",
        "print('#table\\t #bit \\t model \\t lsh_prec@{0} \\t lsh_recall@{0} \\t touched'.format(topK))\n",
        "for nt in L_vals:\n",
        "  print('------------------------------------------------------------------------------')\n",
        "  for b in b_vals: \n",
        "    # lsh index:\n",
        "    #------ hash-family: the LSH scheme/family \n",
        "    #------ k          : number of hash functions\n",
        "    #------ L          : number of hash tables\n",
        "    lsh_index = LSHIndex(hash_family = CosineHashFamily(xbox_bpr_item_vect.shape[1]), k = b, L = nt)\n",
        "    \n",
        "    lsh_bpr_prec, lsh_bpr_recall, touched_bpr = evaluate_LSHTopK(\n",
        "      test_data, xbox_bpr_item_vect, -xbox_bpr_user_vect[:1000, :], lsh_index, dot, topK\n",
        "    )\n",
        "    print(\"{}\\t{}\\t{}\\t{:.4f}\\t{:.4f}\\t{:.4f}\".format(\n",
        "      nt, b, 'BPR', lsh_bpr_prec, lsh_bpr_recall, touched_bpr)\n",
        "    )"
      ],
      "execution_count": 16,
      "outputs": [
        {
          "output_type": "stream",
          "text": [
            "#table\t #bit \t model \t lsh_prec@10 \t lsh_recall@10 \t touched\n",
            "------------------------------------------------------------------------------\n",
            "10\t4\tBPR\t0.0417\t0.0024\t0.4809\n",
            "10\t8\tBPR\t0.0340\t0.0022\t0.0512\n",
            "------------------------------------------------------------------------------\n",
            "20\t4\tBPR\t0.0442\t0.0030\t0.7138\n",
            "20\t8\tBPR\t0.0405\t0.0025\t0.0969\n"
          ],
          "name": "stdout"
        }
      ]
    },
    {
      "cell_type": "markdown",
      "metadata": {
        "id": "uD9Av1mcbt9q",
        "colab_type": "text"
      },
      "source": [
        "The results above show that in relative terms, the performance degenerates for both precision and recall.\n",
        "\n",
        "\n",
        "#### Indexable Bayesian Personalized Ranking - IBPR\n",
        "\n",
        "We will now test the effectiveness of indexable model IBPR. In this experiment, we train IBPR with the same data we use for BPR and measure the performance after LSH indexing."
      ]
    },
    {
      "cell_type": "code",
      "metadata": {
        "id": "jIWOjVHQifUr",
        "colab_type": "code",
        "colab": {
          "base_uri": "https://localhost:8080/",
          "height": 136
        },
        "outputId": "9f1165bc-2f97-4638-b89d-1a01b4990ace"
      },
      "source": [
        "rec_ibpr = IBPR(k=20, max_iter=15, learning_rate=0.001, verbose=VERBOSE)\n",
        "\n",
        "cornac.Experiment(\n",
        "  eval_method=ratio_split, models =[rec_ibpr], metrics=[rec_10, pre_10]\n",
        ").run()"
      ],
      "execution_count": 17,
      "outputs": [
        {
          "output_type": "stream",
          "text": [
            "\n",
            "TEST:\n",
            "...\n",
            "     | Precision@10 | Recall@10 | Train (s) | Test (s)\n",
            "---- + ------------ + --------- + --------- + --------\n",
            "IBPR |       0.1669 |    0.0386 |  627.9537 |   6.4840\n",
            "\n"
          ],
          "name": "stdout"
        }
      ]
    },
    {
      "cell_type": "code",
      "metadata": {
        "id": "wX-QuXqfpfO2",
        "colab_type": "code",
        "colab": {}
      },
      "source": [
        "ibpr_user_vect = rec_ibpr.U\n",
        "ibpr_item_vect = rec_ibpr.V"
      ],
      "execution_count": 18,
      "outputs": []
    },
    {
      "cell_type": "code",
      "metadata": {
        "id": "udt0kG_zo9Mx",
        "colab_type": "code",
        "colab": {
          "base_uri": "https://localhost:8080/",
          "height": 136
        },
        "outputId": "748e1f3d-d7eb-41fa-f106-d90026710821"
      },
      "source": [
        "topK = 10 # @param\n",
        "b_vals = [4, 8] # @param \n",
        "L_vals = [10, 20] # @param\n",
        "\n",
        "test_data = ratio_split.test_set # testing data\n",
        "\n",
        "print('#table\\t #bit \\t model \\t lsh_prec@{0} \\t lsh_recall@{0} \\t touched'.format(topK))\n",
        "for nt in L_vals:\n",
        "  print('------------------------------------------------------------------------------')\n",
        "  for b in b_vals: \n",
        "    # lsh index:\n",
        "    #------ hash-family: the LSH scheme/family \n",
        "    #------ k          : number of hash functions\n",
        "    #------ L          : number of hash tables\n",
        "    lsh_index = LSHIndex(hash_family = CosineHashFamily(ibpr_item_vect.shape[1]), k = b, L = nt)\n",
        "    \n",
        "    lsh_ibpr_prec, lsh_ibpr_recall, touched_ibpr = evaluate_LSHTopK(\n",
        "      test_data, ibpr_item_vect, -ibpr_user_vect[:1000,:], lsh_index, dot, topK\n",
        "    )\n",
        "    print(\"{}\\t{}\\t{}\\t{:.4f}\\t{:.4f}\\t{:.4f}\".format(\n",
        "      nt, b, 'IBPR', lsh_ibpr_prec, lsh_ibpr_recall, touched_ibpr)\n",
        "    ) "
      ],
      "execution_count": 19,
      "outputs": [
        {
          "output_type": "stream",
          "text": [
            "#table\t #bit \t model \t lsh_prec@10 \t lsh_recall@10 \t touched\n",
            "------------------------------------------------------------------------------\n",
            "10\t4\tIBPR\t0.0677\t0.0041\t0.6673\n",
            "10\t8\tIBPR\t0.0252\t0.0015\t0.4574\n",
            "------------------------------------------------------------------------------\n",
            "20\t4\tIBPR\t0.0843\t0.0056\t0.7131\n",
            "20\t8\tIBPR\t0.0371\t0.0021\t0.4916\n"
          ],
          "name": "stdout"
        }
      ]
    },
    {
      "cell_type": "markdown",
      "metadata": {
        "id": "83P1kPKI4WqM",
        "colab_type": "text"
      },
      "source": [
        "We observe that the performance after LSH of IBPR (without vector augmentation) could be better than that of BPR (with vector augmentation), which may be attributed to having representations more compatible with indexing.  As a result, we could speed up top-$K$ recommendation retrieval, while better preserving the accuracy. "
      ]
    },
    {
      "cell_type": "markdown",
      "metadata": {
        "id": "b7t7OUvQ1IF1",
        "colab_type": "text"
      },
      "source": [
        "## References\n",
        "\n",
        "1. Mnih, Andriy, and Russ R. Salakhutdinov. \"Probabilistic matrix factorization.\" Advances in neural information processing systems. 2008.\n",
        "\n",
        "2. Stochastically Robust Personalized Ranking for LSH Recommendation Retrieval, Dung D. Le and Hady W. Lauw\n",
        "AAAI Conference on Artificial Intelligence (AAAI-20)\n",
        " \n",
        "3. Bachrach, Yoram, et al. \"Speeding up the xbox recommender system using a euclidean transformation for inner-product spaces.\" Proceedings of the 8th ACM Conference on Recommender systems. 2014.\n",
        "\n",
        "4. Rendle, Steffen, et al. \"BPR: Bayesian personalized ranking from implicit feedback.\" arXiv preprint arXiv:1205.2618 (2012).\n",
        "\n",
        "5. Le, Dung D., and Hady W. Lauw. \"Indexable Bayesian personalized ranking for efficient top-k recommendation.\" Proceedings of the 2017 ACM on Conference on Information and Knowledge Management. 2017.\n",
        "\n",
        "6.   Cornac - A Comparative Framework for Multimodal Recommender Systems (https://cornac.preferred.ai/)\n"
      ]
    }
  ]
}