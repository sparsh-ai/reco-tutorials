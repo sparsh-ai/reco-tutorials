{
 "cells": [
  {
   "cell_type": "markdown",
   "metadata": {
    "id": "jqj8oWKg9C8O"
   },
   "source": [
    "# Recommender Systems\n",
    "https://apple.github.io/turicreate/docs/userguide/recommender/\n",
    " \n",
    "A recommender system allows you to provide personalized recommendations to users. With this toolkit, you can create a model based on past interaction data and use that model to make recommendations."
   ]
  },
  {
   "cell_type": "markdown",
   "metadata": {
    "id": "mXbqI_Rj4Ycm"
   },
   "source": [
    "## Turi Create and GPU Setup"
   ]
  },
  {
   "cell_type": "code",
   "execution_count": null,
   "metadata": {
    "id": "QEp9y7QG4Y4_"
   },
   "outputs": [],
   "source": [
    "!apt install libnvrtc8.0\n",
    "!pip uninstall -y mxnet-cu80 && pip install mxnet-cu80==1.1.0\n",
    "!pip install turicreate"
   ]
  },
  {
   "cell_type": "markdown",
   "metadata": {
    "id": "8IssUdJIl93M"
   },
   "source": [
    "## Google Drive Access\n",
    "\n",
    "You will be asked to click a link to generate a secret key to access your Google Drive. \n",
    "\n",
    "Copy and paste secret key it into the space provided with the notebook."
   ]
  },
  {
   "cell_type": "code",
   "execution_count": null,
   "metadata": {
    "id": "fNYzmYNKl-jh"
   },
   "outputs": [],
   "source": [
    "import os.path\n",
    "from google.colab import drive\n",
    "\n",
    "# mount Google Drive to /content/drive/My Drive/\n",
    "if os.path.isdir(\"/content/drive/My Drive\"):\n",
    "  print(\"Google Drive already mounted\")\n",
    "else:\n",
    "  drive.mount('/content/drive')"
   ]
  },
  {
   "cell_type": "markdown",
   "metadata": {
    "id": "HGrRdWKHmMtu"
   },
   "source": [
    "## Fetch Example Data\n",
    "\n",
    "Creating a recommender model typically requires a data set to use for training the model, with columns that contain the user IDs, the item IDs, and (optionally) the ratings. For this example, we use the MovieLens 20M dataset:\n",
    "https://grouplens.org/datasets/movielens/20m/\n",
    "\n",
    "Stable benchmark dataset. 20 million ratings and 465,000 tag applications applied to 27,000 movies by 138,000 users. Includes tag genome data with 12 million relevance scores across 1,100 tags. "
   ]
  },
  {
   "cell_type": "code",
   "execution_count": null,
   "metadata": {
    "id": "Fjg7LiICOrkn"
   },
   "outputs": [],
   "source": [
    "import os.path\n",
    "import urllib.request\n",
    "import tarfile\n",
    "import zipfile\n",
    "import gzip\n",
    "from shutil import copy\n",
    "\n",
    "def fetch_remote_datafile(filename, remote_url):\n",
    "  if os.path.isfile(\"./\" + filename):\n",
    "    print(\"already have \" + filename + \" in workspace\")\n",
    "    return\n",
    "  print(\"fetching \" + filename + \" from \" + remote_url + \"...\")\n",
    "  urllib.request.urlretrieve(remote_url, \"./\" + filename)\n",
    "\n",
    "def cache_datafile_in_drive(filename):\n",
    "  if os.path.isfile(\"./\" + filename) == False:\n",
    "    print(\"cannot cache \" + filename + \", it is not in workspace\")\n",
    "    return\n",
    "  \n",
    "  data_drive_path = \"/content/drive/My Drive/Colab Notebooks/data/\"\n",
    "  if os.path.isfile(data_drive_path + filename):\n",
    "    print(\"\" + filename + \" has already been stored in Google Drive\")\n",
    "  else:\n",
    "    print(\"copying \" + filename + \" to \" + data_drive_path)\n",
    "    copy(\"./\" + filename, data_drive_path)\n",
    "  \n",
    "\n",
    "def load_datafile_from_drive(filename, remote_url=None):\n",
    "  data_drive_path = \"/content/drive/My Drive/Colab Notebooks/data/\"\n",
    "  if os.path.isfile(\"./\" + filename):\n",
    "    print(\"already have \" + filename + \" in workspace\")\n",
    "  elif os.path.isfile(data_drive_path + filename):\n",
    "    print(\"have \" + filename + \" in Google Drive, copying to workspace...\")\n",
    "    copy(data_drive_path + filename, \".\")\n",
    "  elif remote_url != None:\n",
    "    fetch_remote_datafile(filename, remote_url)\n",
    "  else:\n",
    "    print(\"error: you need to manually download \" + filename + \" and put in drive\")\n",
    "    \n",
    "def extract_datafile(filename, expected_extract_artifact=None):\n",
    "  if expected_extract_artifact != None and (os.path.isfile(expected_extract_artifact) or os.path.isdir(expected_extract_artifact)):\n",
    "    print(\"files in \" + filename + \" have already been extracted\")\n",
    "  elif os.path.isfile(\"./\" + filename) == False:\n",
    "    print(\"error: cannot extract \" + filename + \", it is not in the workspace\")\n",
    "  else:\n",
    "    extension = filename.split('.')[-1]\n",
    "    if extension == \"zip\":\n",
    "      print(\"extracting \" + filename + \"...\")\n",
    "      data_file = open(filename, \"rb\")\n",
    "      z = zipfile.ZipFile(data_file)\n",
    "      for name in z.namelist():\n",
    "          print(\"    extracting file\", name)\n",
    "          z.extract(name, \"./\")\n",
    "      data_file.close()\n",
    "    elif extension == \"gz\":\n",
    "      print(\"extracting \" + filename + \"...\")\n",
    "      if filename.split('.')[-2] == \"tar\":\n",
    "        tar = tarfile.open(filename)\n",
    "        tar.extractall()\n",
    "        tar.close()\n",
    "      else:\n",
    "        data_zip_file = gzip.GzipFile(filename, 'rb')\n",
    "        data = data_zip_file.read()\n",
    "        data_zip_file.close()\n",
    "        extracted_file = open('.'.join(filename.split('.')[0:-1]), 'wb')\n",
    "        extracted_file.write(data)\n",
    "        extracted_file.close()\n",
    "    elif extension == \"tar\":\n",
    "      print(\"extracting \" + filename + \"...\")\n",
    "      tar = tarfile.open(filename)\n",
    "      tar.extractall()\n",
    "      tar.close()\n",
    "    elif extension == \"csv\":\n",
    "      print(\"do not need to extract csv\")\n",
    "    else:\n",
    "      print(\"cannot extract \" + filename)\n",
    "      \n",
    "def load_cache_extract_datafile(filename, expected_extract_artifact=None, remote_url=None):\n",
    "  load_datafile_from_drive(filename, remote_url)\n",
    "  extract_datafile(filename, expected_extract_artifact)\n",
    "  cache_datafile_in_drive(filename)\n",
    "  "
   ]
  },
  {
   "cell_type": "code",
   "execution_count": null,
   "metadata": {
    "colab": {
     "base_uri": "https://localhost:8080/",
     "height": 71
    },
    "id": "PbXLo9fZOsLK",
    "outputId": "db4a4a32-0098-4105-9334-98c29090ef6f"
   },
   "outputs": [
    {
     "name": "stdout",
     "output_type": "stream",
     "text": [
      "already have ml-20m.zip in workspace\n",
      "files in ml-20m.zip have already been extracted\n",
      "ml-20m.zip has already been stored in Google Drive\n"
     ]
    }
   ],
   "source": [
    "load_cache_extract_datafile(\"ml-20m.zip\", \"ml-20m\", \"http://files.grouplens.org/datasets/movielens/ml-20m.zip\")"
   ]
  },
  {
   "cell_type": "markdown",
   "metadata": {
    "id": "sFm6NfzqnCep"
   },
   "source": [
    "## Setup Turi Create"
   ]
  },
  {
   "cell_type": "code",
   "execution_count": null,
   "metadata": {
    "id": "ni4b0FElnDYH"
   },
   "outputs": [],
   "source": [
    "import mxnet as mx\n",
    "import turicreate as tc"
   ]
  },
  {
   "cell_type": "code",
   "execution_count": null,
   "metadata": {
    "id": "ZE_ycXC_nFfs"
   },
   "outputs": [],
   "source": [
    "# Use all GPUs (default)\n",
    "tc.config.set_num_gpus(-1)\n",
    "\n",
    "# Use only 1 GPU\n",
    "#tc.config.set_num_gpus(1)\n",
    "\n",
    "# Use CPU\n",
    "#tc.config.set_num_gpus(0)"
   ]
  },
  {
   "cell_type": "markdown",
   "metadata": {
    "id": "e_G8qG7DnIv0"
   },
   "source": [
    "## Recommender Example - Movies"
   ]
  },
  {
   "cell_type": "code",
   "execution_count": null,
   "metadata": {
    "colab": {
     "base_uri": "https://localhost:8080/",
     "height": 479
    },
    "id": "MS8Vv-gr87VU",
    "outputId": "0ec3b8c9-bb1c-4076-a949-7ae6e581a0a7"
   },
   "outputs": [
    {
     "data": {
      "text/html": [
       "<pre>Finished parsing file /content/ml-20m/ratings.csv</pre>"
      ],
      "text/plain": [
       "Finished parsing file /content/ml-20m/ratings.csv"
      ]
     },
     "metadata": {
      "tags": []
     },
     "output_type": "display_data"
    },
    {
     "data": {
      "text/html": [
       "<pre>Parsing completed. Parsed 100 lines in 1.26548 secs.</pre>"
      ],
      "text/plain": [
       "Parsing completed. Parsed 100 lines in 1.26548 secs."
      ]
     },
     "metadata": {
      "tags": []
     },
     "output_type": "display_data"
    },
    {
     "name": "stdout",
     "output_type": "stream",
     "text": [
      "------------------------------------------------------\n",
      "Inferred types from first 100 line(s) of file as \n",
      "column_type_hints=[int,int,float,int]\n",
      "If parsing fails due to incorrect types, you can correct\n",
      "the inferred type list above and pass it to read_csv in\n",
      "the column_type_hints argument\n",
      "------------------------------------------------------\n"
     ]
    },
    {
     "data": {
      "text/html": [
       "<pre>Read 2042753 lines. Lines per second: 952160</pre>"
      ],
      "text/plain": [
       "Read 2042753 lines. Lines per second: 952160"
      ]
     },
     "metadata": {
      "tags": []
     },
     "output_type": "display_data"
    },
    {
     "data": {
      "text/html": [
       "<pre>Read 13921441 lines. Lines per second: 1.73618e+06</pre>"
      ],
      "text/plain": [
       "Read 13921441 lines. Lines per second: 1.73618e+06"
      ]
     },
     "metadata": {
      "tags": []
     },
     "output_type": "display_data"
    },
    {
     "data": {
      "text/html": [
       "<pre>Finished parsing file /content/ml-20m/ratings.csv</pre>"
      ],
      "text/plain": [
       "Finished parsing file /content/ml-20m/ratings.csv"
      ]
     },
     "metadata": {
      "tags": []
     },
     "output_type": "display_data"
    },
    {
     "data": {
      "text/html": [
       "<pre>Parsing completed. Parsed 20000263 lines in 10.4082 secs.</pre>"
      ],
      "text/plain": [
       "Parsing completed. Parsed 20000263 lines in 10.4082 secs."
      ]
     },
     "metadata": {
      "tags": []
     },
     "output_type": "display_data"
    },
    {
     "data": {
      "text/html": [
       "<div style=\"max-height:1000px;max-width:1500px;overflow:auto;\"><table frame=\"box\" rules=\"cols\">\n",
       "    <tr>\n",
       "        <th style=\"padding-left: 1em; padding-right: 1em; text-align: center\">userId</th>\n",
       "        <th style=\"padding-left: 1em; padding-right: 1em; text-align: center\">movieId</th>\n",
       "        <th style=\"padding-left: 1em; padding-right: 1em; text-align: center\">rating</th>\n",
       "        <th style=\"padding-left: 1em; padding-right: 1em; text-align: center\">timestamp</th>\n",
       "    </tr>\n",
       "    <tr>\n",
       "        <td style=\"padding-left: 1em; padding-right: 1em; text-align: center; vertical-align: top\">1</td>\n",
       "        <td style=\"padding-left: 1em; padding-right: 1em; text-align: center; vertical-align: top\">2</td>\n",
       "        <td style=\"padding-left: 1em; padding-right: 1em; text-align: center; vertical-align: top\">3.5</td>\n",
       "        <td style=\"padding-left: 1em; padding-right: 1em; text-align: center; vertical-align: top\">1112486027</td>\n",
       "    </tr>\n",
       "    <tr>\n",
       "        <td style=\"padding-left: 1em; padding-right: 1em; text-align: center; vertical-align: top\">1</td>\n",
       "        <td style=\"padding-left: 1em; padding-right: 1em; text-align: center; vertical-align: top\">29</td>\n",
       "        <td style=\"padding-left: 1em; padding-right: 1em; text-align: center; vertical-align: top\">3.5</td>\n",
       "        <td style=\"padding-left: 1em; padding-right: 1em; text-align: center; vertical-align: top\">1112484676</td>\n",
       "    </tr>\n",
       "    <tr>\n",
       "        <td style=\"padding-left: 1em; padding-right: 1em; text-align: center; vertical-align: top\">1</td>\n",
       "        <td style=\"padding-left: 1em; padding-right: 1em; text-align: center; vertical-align: top\">32</td>\n",
       "        <td style=\"padding-left: 1em; padding-right: 1em; text-align: center; vertical-align: top\">3.5</td>\n",
       "        <td style=\"padding-left: 1em; padding-right: 1em; text-align: center; vertical-align: top\">1112484819</td>\n",
       "    </tr>\n",
       "    <tr>\n",
       "        <td style=\"padding-left: 1em; padding-right: 1em; text-align: center; vertical-align: top\">1</td>\n",
       "        <td style=\"padding-left: 1em; padding-right: 1em; text-align: center; vertical-align: top\">47</td>\n",
       "        <td style=\"padding-left: 1em; padding-right: 1em; text-align: center; vertical-align: top\">3.5</td>\n",
       "        <td style=\"padding-left: 1em; padding-right: 1em; text-align: center; vertical-align: top\">1112484727</td>\n",
       "    </tr>\n",
       "    <tr>\n",
       "        <td style=\"padding-left: 1em; padding-right: 1em; text-align: center; vertical-align: top\">1</td>\n",
       "        <td style=\"padding-left: 1em; padding-right: 1em; text-align: center; vertical-align: top\">50</td>\n",
       "        <td style=\"padding-left: 1em; padding-right: 1em; text-align: center; vertical-align: top\">3.5</td>\n",
       "        <td style=\"padding-left: 1em; padding-right: 1em; text-align: center; vertical-align: top\">1112484580</td>\n",
       "    </tr>\n",
       "    <tr>\n",
       "        <td style=\"padding-left: 1em; padding-right: 1em; text-align: center; vertical-align: top\">1</td>\n",
       "        <td style=\"padding-left: 1em; padding-right: 1em; text-align: center; vertical-align: top\">112</td>\n",
       "        <td style=\"padding-left: 1em; padding-right: 1em; text-align: center; vertical-align: top\">3.5</td>\n",
       "        <td style=\"padding-left: 1em; padding-right: 1em; text-align: center; vertical-align: top\">1094785740</td>\n",
       "    </tr>\n",
       "    <tr>\n",
       "        <td style=\"padding-left: 1em; padding-right: 1em; text-align: center; vertical-align: top\">1</td>\n",
       "        <td style=\"padding-left: 1em; padding-right: 1em; text-align: center; vertical-align: top\">151</td>\n",
       "        <td style=\"padding-left: 1em; padding-right: 1em; text-align: center; vertical-align: top\">4.0</td>\n",
       "        <td style=\"padding-left: 1em; padding-right: 1em; text-align: center; vertical-align: top\">1094785734</td>\n",
       "    </tr>\n",
       "    <tr>\n",
       "        <td style=\"padding-left: 1em; padding-right: 1em; text-align: center; vertical-align: top\">1</td>\n",
       "        <td style=\"padding-left: 1em; padding-right: 1em; text-align: center; vertical-align: top\">223</td>\n",
       "        <td style=\"padding-left: 1em; padding-right: 1em; text-align: center; vertical-align: top\">4.0</td>\n",
       "        <td style=\"padding-left: 1em; padding-right: 1em; text-align: center; vertical-align: top\">1112485573</td>\n",
       "    </tr>\n",
       "    <tr>\n",
       "        <td style=\"padding-left: 1em; padding-right: 1em; text-align: center; vertical-align: top\">1</td>\n",
       "        <td style=\"padding-left: 1em; padding-right: 1em; text-align: center; vertical-align: top\">253</td>\n",
       "        <td style=\"padding-left: 1em; padding-right: 1em; text-align: center; vertical-align: top\">4.0</td>\n",
       "        <td style=\"padding-left: 1em; padding-right: 1em; text-align: center; vertical-align: top\">1112484940</td>\n",
       "    </tr>\n",
       "    <tr>\n",
       "        <td style=\"padding-left: 1em; padding-right: 1em; text-align: center; vertical-align: top\">1</td>\n",
       "        <td style=\"padding-left: 1em; padding-right: 1em; text-align: center; vertical-align: top\">260</td>\n",
       "        <td style=\"padding-left: 1em; padding-right: 1em; text-align: center; vertical-align: top\">4.0</td>\n",
       "        <td style=\"padding-left: 1em; padding-right: 1em; text-align: center; vertical-align: top\">1112484826</td>\n",
       "    </tr>\n",
       "</table>\n",
       "[10 rows x 4 columns]<br/>\n",
       "</div>"
      ],
      "text/plain": [
       "Columns:\n",
       "\tuserId\tint\n",
       "\tmovieId\tint\n",
       "\trating\tfloat\n",
       "\ttimestamp\tint\n",
       "\n",
       "Rows: 10\n",
       "\n",
       "Data:\n",
       "+--------+---------+--------+------------+\n",
       "| userId | movieId | rating | timestamp  |\n",
       "+--------+---------+--------+------------+\n",
       "|   1    |    2    |  3.5   | 1112486027 |\n",
       "|   1    |    29   |  3.5   | 1112484676 |\n",
       "|   1    |    32   |  3.5   | 1112484819 |\n",
       "|   1    |    47   |  3.5   | 1112484727 |\n",
       "|   1    |    50   |  3.5   | 1112484580 |\n",
       "|   1    |   112   |  3.5   | 1094785740 |\n",
       "|   1    |   151   |  4.0   | 1094785734 |\n",
       "|   1    |   223   |  4.0   | 1112485573 |\n",
       "|   1    |   253   |  4.0   | 1112484940 |\n",
       "|   1    |   260   |  4.0   | 1112484826 |\n",
       "+--------+---------+--------+------------+\n",
       "[10 rows x 4 columns]"
      ]
     },
     "execution_count": 5,
     "metadata": {
      "tags": []
     },
     "output_type": "execute_result"
    }
   ],
   "source": [
    "actions = tc.SFrame.read_csv('./ml-20m/ratings.csv')\n",
    "actions.head()"
   ]
  },
  {
   "cell_type": "code",
   "execution_count": null,
   "metadata": {
    "colab": {
     "base_uri": "https://localhost:8080/",
     "height": 279
    },
    "id": "LC5yrAFE1PzE",
    "outputId": "f3a40094-cfa0-4906-fc24-08422db09ac2"
   },
   "outputs": [
    {
     "data": {
      "text/html": [
       "<div style=\"max-height:1000px;max-width:1500px;overflow:auto;\"><table frame=\"box\" rules=\"cols\">\n",
       "    <tr>\n",
       "        <th style=\"padding-left: 1em; padding-right: 1em; text-align: center\">userId</th>\n",
       "        <th style=\"padding-left: 1em; padding-right: 1em; text-align: center\">Count</th>\n",
       "    </tr>\n",
       "    <tr>\n",
       "        <td style=\"padding-left: 1em; padding-right: 1em; text-align: center; vertical-align: top\">118205</td>\n",
       "        <td style=\"padding-left: 1em; padding-right: 1em; text-align: center; vertical-align: top\">9254</td>\n",
       "    </tr>\n",
       "    <tr>\n",
       "        <td style=\"padding-left: 1em; padding-right: 1em; text-align: center; vertical-align: top\">8405</td>\n",
       "        <td style=\"padding-left: 1em; padding-right: 1em; text-align: center; vertical-align: top\">7515</td>\n",
       "    </tr>\n",
       "    <tr>\n",
       "        <td style=\"padding-left: 1em; padding-right: 1em; text-align: center; vertical-align: top\">82418</td>\n",
       "        <td style=\"padding-left: 1em; padding-right: 1em; text-align: center; vertical-align: top\">5646</td>\n",
       "    </tr>\n",
       "    <tr>\n",
       "        <td style=\"padding-left: 1em; padding-right: 1em; text-align: center; vertical-align: top\">121535</td>\n",
       "        <td style=\"padding-left: 1em; padding-right: 1em; text-align: center; vertical-align: top\">5520</td>\n",
       "    </tr>\n",
       "    <tr>\n",
       "        <td style=\"padding-left: 1em; padding-right: 1em; text-align: center; vertical-align: top\">125794</td>\n",
       "        <td style=\"padding-left: 1em; padding-right: 1em; text-align: center; vertical-align: top\">5491</td>\n",
       "    </tr>\n",
       "    <tr>\n",
       "        <td style=\"padding-left: 1em; padding-right: 1em; text-align: center; vertical-align: top\">74142</td>\n",
       "        <td style=\"padding-left: 1em; padding-right: 1em; text-align: center; vertical-align: top\">5447</td>\n",
       "    </tr>\n",
       "    <tr>\n",
       "        <td style=\"padding-left: 1em; padding-right: 1em; text-align: center; vertical-align: top\">34576</td>\n",
       "        <td style=\"padding-left: 1em; padding-right: 1em; text-align: center; vertical-align: top\">5356</td>\n",
       "    </tr>\n",
       "    <tr>\n",
       "        <td style=\"padding-left: 1em; padding-right: 1em; text-align: center; vertical-align: top\">131904</td>\n",
       "        <td style=\"padding-left: 1em; padding-right: 1em; text-align: center; vertical-align: top\">5330</td>\n",
       "    </tr>\n",
       "    <tr>\n",
       "        <td style=\"padding-left: 1em; padding-right: 1em; text-align: center; vertical-align: top\">83090</td>\n",
       "        <td style=\"padding-left: 1em; padding-right: 1em; text-align: center; vertical-align: top\">5169</td>\n",
       "    </tr>\n",
       "    <tr>\n",
       "        <td style=\"padding-left: 1em; padding-right: 1em; text-align: center; vertical-align: top\">59477</td>\n",
       "        <td style=\"padding-left: 1em; padding-right: 1em; text-align: center; vertical-align: top\">4988</td>\n",
       "    </tr>\n",
       "</table>\n",
       "[138493 rows x 2 columns]<br/>Note: Only the head of the SFrame is printed.<br/>You can use print_rows(num_rows=m, num_columns=n) to print more rows and columns.\n",
       "</div>"
      ],
      "text/plain": [
       "Columns:\n",
       "\tuserId\tint\n",
       "\tCount\tint\n",
       "\n",
       "Rows: 138493\n",
       "\n",
       "Data:\n",
       "+--------+-------+\n",
       "| userId | Count |\n",
       "+--------+-------+\n",
       "| 118205 |  9254 |\n",
       "|  8405  |  7515 |\n",
       "| 82418  |  5646 |\n",
       "| 121535 |  5520 |\n",
       "| 125794 |  5491 |\n",
       "| 74142  |  5447 |\n",
       "| 34576  |  5356 |\n",
       "| 131904 |  5330 |\n",
       "| 83090  |  5169 |\n",
       "| 59477  |  4988 |\n",
       "+--------+-------+\n",
       "[138493 rows x 2 columns]\n",
       "Note: Only the head of the SFrame is printed.\n",
       "You can use print_rows(num_rows=m, num_columns=n) to print more rows and columns."
      ]
     },
     "execution_count": 84,
     "metadata": {
      "tags": []
     },
     "output_type": "execute_result"
    }
   ],
   "source": [
    "actions.groupby('userId', [tc.aggregate.COUNT]).sort(\"Count\", ascending = False)"
   ]
  },
  {
   "cell_type": "code",
   "execution_count": null,
   "metadata": {
    "colab": {
     "base_uri": "https://localhost:8080/",
     "height": 494
    },
    "id": "-ZiT6c8CnX_s",
    "outputId": "cc209b82-c447-400b-fa7b-aaf44c16f986"
   },
   "outputs": [
    {
     "data": {
      "text/html": [
       "<pre>Finished parsing file /content/ml-20m/movies.csv</pre>"
      ],
      "text/plain": [
       "Finished parsing file /content/ml-20m/movies.csv"
      ]
     },
     "metadata": {
      "tags": []
     },
     "output_type": "display_data"
    },
    {
     "data": {
      "text/html": [
       "<pre>Parsing completed. Parsed 100 lines in 0.074073 secs.</pre>"
      ],
      "text/plain": [
       "Parsing completed. Parsed 100 lines in 0.074073 secs."
      ]
     },
     "metadata": {
      "tags": []
     },
     "output_type": "display_data"
    },
    {
     "name": "stdout",
     "output_type": "stream",
     "text": [
      "------------------------------------------------------\n",
      "Inferred types from first 100 line(s) of file as \n",
      "column_type_hints=[int,str,str]\n",
      "If parsing fails due to incorrect types, you can correct\n",
      "the inferred type list above and pass it to read_csv in\n",
      "the column_type_hints argument\n",
      "------------------------------------------------------\n"
     ]
    },
    {
     "data": {
      "text/html": [
       "<pre>Finished parsing file /content/ml-20m/movies.csv</pre>"
      ],
      "text/plain": [
       "Finished parsing file /content/ml-20m/movies.csv"
      ]
     },
     "metadata": {
      "tags": []
     },
     "output_type": "display_data"
    },
    {
     "data": {
      "text/html": [
       "<pre>Parsing completed. Parsed 27278 lines in 0.03822 secs.</pre>"
      ],
      "text/plain": [
       "Parsing completed. Parsed 27278 lines in 0.03822 secs."
      ]
     },
     "metadata": {
      "tags": []
     },
     "output_type": "display_data"
    },
    {
     "data": {
      "text/html": [
       "<div style=\"max-height:1000px;max-width:1500px;overflow:auto;\"><table frame=\"box\" rules=\"cols\">\n",
       "    <tr>\n",
       "        <th style=\"padding-left: 1em; padding-right: 1em; text-align: center\">movieId</th>\n",
       "        <th style=\"padding-left: 1em; padding-right: 1em; text-align: center\">title</th>\n",
       "        <th style=\"padding-left: 1em; padding-right: 1em; text-align: center\">genres</th>\n",
       "    </tr>\n",
       "    <tr>\n",
       "        <td style=\"padding-left: 1em; padding-right: 1em; text-align: center; vertical-align: top\">1</td>\n",
       "        <td style=\"padding-left: 1em; padding-right: 1em; text-align: center; vertical-align: top\">Toy Story (1995)</td>\n",
       "        <td style=\"padding-left: 1em; padding-right: 1em; text-align: center; vertical-align: top\">Adventure|Animation|Child<br>ren|Comedy|Fantasy ...</td>\n",
       "    </tr>\n",
       "    <tr>\n",
       "        <td style=\"padding-left: 1em; padding-right: 1em; text-align: center; vertical-align: top\">2</td>\n",
       "        <td style=\"padding-left: 1em; padding-right: 1em; text-align: center; vertical-align: top\">Jumanji (1995)</td>\n",
       "        <td style=\"padding-left: 1em; padding-right: 1em; text-align: center; vertical-align: top\">Adventure|Children|Fantas<br>y ...</td>\n",
       "    </tr>\n",
       "    <tr>\n",
       "        <td style=\"padding-left: 1em; padding-right: 1em; text-align: center; vertical-align: top\">3</td>\n",
       "        <td style=\"padding-left: 1em; padding-right: 1em; text-align: center; vertical-align: top\">Grumpier Old Men (1995)</td>\n",
       "        <td style=\"padding-left: 1em; padding-right: 1em; text-align: center; vertical-align: top\">Comedy|Romance</td>\n",
       "    </tr>\n",
       "    <tr>\n",
       "        <td style=\"padding-left: 1em; padding-right: 1em; text-align: center; vertical-align: top\">4</td>\n",
       "        <td style=\"padding-left: 1em; padding-right: 1em; text-align: center; vertical-align: top\">Waiting to Exhale (1995)</td>\n",
       "        <td style=\"padding-left: 1em; padding-right: 1em; text-align: center; vertical-align: top\">Comedy|Drama|Romance</td>\n",
       "    </tr>\n",
       "    <tr>\n",
       "        <td style=\"padding-left: 1em; padding-right: 1em; text-align: center; vertical-align: top\">5</td>\n",
       "        <td style=\"padding-left: 1em; padding-right: 1em; text-align: center; vertical-align: top\">Father of the Bride Part<br>II (1995) ...</td>\n",
       "        <td style=\"padding-left: 1em; padding-right: 1em; text-align: center; vertical-align: top\">Comedy</td>\n",
       "    </tr>\n",
       "    <tr>\n",
       "        <td style=\"padding-left: 1em; padding-right: 1em; text-align: center; vertical-align: top\">6</td>\n",
       "        <td style=\"padding-left: 1em; padding-right: 1em; text-align: center; vertical-align: top\">Heat (1995)</td>\n",
       "        <td style=\"padding-left: 1em; padding-right: 1em; text-align: center; vertical-align: top\">Action|Crime|Thriller</td>\n",
       "    </tr>\n",
       "    <tr>\n",
       "        <td style=\"padding-left: 1em; padding-right: 1em; text-align: center; vertical-align: top\">7</td>\n",
       "        <td style=\"padding-left: 1em; padding-right: 1em; text-align: center; vertical-align: top\">Sabrina (1995)</td>\n",
       "        <td style=\"padding-left: 1em; padding-right: 1em; text-align: center; vertical-align: top\">Comedy|Romance</td>\n",
       "    </tr>\n",
       "    <tr>\n",
       "        <td style=\"padding-left: 1em; padding-right: 1em; text-align: center; vertical-align: top\">8</td>\n",
       "        <td style=\"padding-left: 1em; padding-right: 1em; text-align: center; vertical-align: top\">Tom and Huck (1995)</td>\n",
       "        <td style=\"padding-left: 1em; padding-right: 1em; text-align: center; vertical-align: top\">Adventure|Children</td>\n",
       "    </tr>\n",
       "    <tr>\n",
       "        <td style=\"padding-left: 1em; padding-right: 1em; text-align: center; vertical-align: top\">9</td>\n",
       "        <td style=\"padding-left: 1em; padding-right: 1em; text-align: center; vertical-align: top\">Sudden Death (1995)</td>\n",
       "        <td style=\"padding-left: 1em; padding-right: 1em; text-align: center; vertical-align: top\">Action</td>\n",
       "    </tr>\n",
       "    <tr>\n",
       "        <td style=\"padding-left: 1em; padding-right: 1em; text-align: center; vertical-align: top\">10</td>\n",
       "        <td style=\"padding-left: 1em; padding-right: 1em; text-align: center; vertical-align: top\">GoldenEye (1995)</td>\n",
       "        <td style=\"padding-left: 1em; padding-right: 1em; text-align: center; vertical-align: top\">Action|Adventure|Thriller</td>\n",
       "    </tr>\n",
       "</table>\n",
       "[10 rows x 3 columns]<br/>\n",
       "</div>"
      ],
      "text/plain": [
       "Columns:\n",
       "\tmovieId\tint\n",
       "\ttitle\tstr\n",
       "\tgenres\tstr\n",
       "\n",
       "Rows: 10\n",
       "\n",
       "Data:\n",
       "+---------+-------------------------------+-------------------------------+\n",
       "| movieId |             title             |             genres            |\n",
       "+---------+-------------------------------+-------------------------------+\n",
       "|    1    |        Toy Story (1995)       | Adventure|Animation|Childr... |\n",
       "|    2    |         Jumanji (1995)        |   Adventure|Children|Fantasy  |\n",
       "|    3    |    Grumpier Old Men (1995)    |         Comedy|Romance        |\n",
       "|    4    |    Waiting to Exhale (1995)   |      Comedy|Drama|Romance     |\n",
       "|    5    | Father of the Bride Part I... |             Comedy            |\n",
       "|    6    |          Heat (1995)          |     Action|Crime|Thriller     |\n",
       "|    7    |         Sabrina (1995)        |         Comedy|Romance        |\n",
       "|    8    |      Tom and Huck (1995)      |       Adventure|Children      |\n",
       "|    9    |      Sudden Death (1995)      |             Action            |\n",
       "|    10   |        GoldenEye (1995)       |   Action|Adventure|Thriller   |\n",
       "+---------+-------------------------------+-------------------------------+\n",
       "[10 rows x 3 columns]"
      ]
     },
     "execution_count": 6,
     "metadata": {
      "tags": []
     },
     "output_type": "execute_result"
    }
   ],
   "source": [
    "items = tc.SFrame.read_csv('./ml-20m/movies.csv')\n",
    "items.head()"
   ]
  },
  {
   "cell_type": "markdown",
   "metadata": {
    "id": "KlChMbZN9uE2"
   },
   "source": [
    "## Creating a model\n",
    "\n",
    "There are a variety of machine learning techniques that can be used to build a recommender model. Turi Create provides a method `turicreate.recommender.create` that will automatically choose an appropriate model for your data set. More details on choosing a model: https://apple.github.io/turicreate/docs/userguide/recommender/choosing-a-model.html\n",
    "\n",
    "First we create a random split of the data to produce a validation set that can be used to evaluate the model."
   ]
  },
  {
   "cell_type": "code",
   "execution_count": null,
   "metadata": {
    "id": "GW7pzEkr9way"
   },
   "outputs": [],
   "source": [
    "training_data, validation_data = tc.recommender.util.random_split_by_user(actions, 'userId', 'movieId')"
   ]
  },
  {
   "cell_type": "code",
   "execution_count": null,
   "metadata": {
    "colab": {
     "base_uri": "https://localhost:8080/",
     "height": 1511
    },
    "id": "xlPTFClYnyAB",
    "outputId": "6d080c79-7408-4bd5-f43d-abd7f32b089a"
   },
   "outputs": [
    {
     "data": {
      "text/html": [
       "<pre>Recsys training: model = item_similarity</pre>"
      ],
      "text/plain": [
       "Recsys training: model = item_similarity"
      ]
     },
     "metadata": {
      "tags": []
     },
     "output_type": "display_data"
    },
    {
     "data": {
      "text/html": [
       "<pre>Warning: Ignoring columns rating, timestamp;</pre>"
      ],
      "text/plain": [
       "Warning: Ignoring columns rating, timestamp;"
      ]
     },
     "metadata": {
      "tags": []
     },
     "output_type": "display_data"
    },
    {
     "data": {
      "text/html": [
       "<pre>    To use one of these as a target column, set target = <column_name></pre>"
      ],
      "text/plain": [
       "    To use one of these as a target column, set target = <column_name>"
      ]
     },
     "metadata": {
      "tags": []
     },
     "output_type": "display_data"
    },
    {
     "data": {
      "text/html": [
       "<pre>    and use a method that allows the use of a target.</pre>"
      ],
      "text/plain": [
       "    and use a method that allows the use of a target."
      ]
     },
     "metadata": {
      "tags": []
     },
     "output_type": "display_data"
    },
    {
     "data": {
      "text/html": [
       "<pre>Preparing data set.</pre>"
      ],
      "text/plain": [
       "Preparing data set."
      ]
     },
     "metadata": {
      "tags": []
     },
     "output_type": "display_data"
    },
    {
     "data": {
      "text/html": [
       "<pre>    Data has 19970212 observations with 138493 users and 26657 items.</pre>"
      ],
      "text/plain": [
       "    Data has 19970212 observations with 138493 users and 26657 items."
      ]
     },
     "metadata": {
      "tags": []
     },
     "output_type": "display_data"
    },
    {
     "data": {
      "text/html": [
       "<pre>    Data prepared in: 15.1511s</pre>"
      ],
      "text/plain": [
       "    Data prepared in: 15.1511s"
      ]
     },
     "metadata": {
      "tags": []
     },
     "output_type": "display_data"
    },
    {
     "data": {
      "text/html": [
       "<pre>Training model from provided data.</pre>"
      ],
      "text/plain": [
       "Training model from provided data."
      ]
     },
     "metadata": {
      "tags": []
     },
     "output_type": "display_data"
    },
    {
     "data": {
      "text/html": [
       "<pre>Gathering per-item and per-user statistics.</pre>"
      ],
      "text/plain": [
       "Gathering per-item and per-user statistics."
      ]
     },
     "metadata": {
      "tags": []
     },
     "output_type": "display_data"
    },
    {
     "data": {
      "text/html": [
       "<pre>+--------------------------------+------------+</pre>"
      ],
      "text/plain": [
       "+--------------------------------+------------+"
      ]
     },
     "metadata": {
      "tags": []
     },
     "output_type": "display_data"
    },
    {
     "data": {
      "text/html": [
       "<pre>| Elapsed Time (Item Statistics) | % Complete |</pre>"
      ],
      "text/plain": [
       "| Elapsed Time (Item Statistics) | % Complete |"
      ]
     },
     "metadata": {
      "tags": []
     },
     "output_type": "display_data"
    },
    {
     "data": {
      "text/html": [
       "<pre>+--------------------------------+------------+</pre>"
      ],
      "text/plain": [
       "+--------------------------------+------------+"
      ]
     },
     "metadata": {
      "tags": []
     },
     "output_type": "display_data"
    },
    {
     "data": {
      "text/html": [
       "<pre>| 9.167ms                        | 0.5        |</pre>"
      ],
      "text/plain": [
       "| 9.167ms                        | 0.5        |"
      ]
     },
     "metadata": {
      "tags": []
     },
     "output_type": "display_data"
    },
    {
     "data": {
      "text/html": [
       "<pre>| 534.026ms                      | 100        |</pre>"
      ],
      "text/plain": [
       "| 534.026ms                      | 100        |"
      ]
     },
     "metadata": {
      "tags": []
     },
     "output_type": "display_data"
    },
    {
     "data": {
      "text/html": [
       "<pre>+--------------------------------+------------+</pre>"
      ],
      "text/plain": [
       "+--------------------------------+------------+"
      ]
     },
     "metadata": {
      "tags": []
     },
     "output_type": "display_data"
    },
    {
     "data": {
      "text/html": [
       "<pre>Setting up lookup tables.</pre>"
      ],
      "text/plain": [
       "Setting up lookup tables."
      ]
     },
     "metadata": {
      "tags": []
     },
     "output_type": "display_data"
    },
    {
     "data": {
      "text/html": [
       "<pre>Processing data in one pass using dense lookup tables.</pre>"
      ],
      "text/plain": [
       "Processing data in one pass using dense lookup tables."
      ]
     },
     "metadata": {
      "tags": []
     },
     "output_type": "display_data"
    },
    {
     "data": {
      "text/html": [
       "<pre>+-------------------------------------+------------------+-----------------+</pre>"
      ],
      "text/plain": [
       "+-------------------------------------+------------------+-----------------+"
      ]
     },
     "metadata": {
      "tags": []
     },
     "output_type": "display_data"
    },
    {
     "data": {
      "text/html": [
       "<pre>| Elapsed Time (Constructing Lookups) | Total % Complete | Items Processed |</pre>"
      ],
      "text/plain": [
       "| Elapsed Time (Constructing Lookups) | Total % Complete | Items Processed |"
      ]
     },
     "metadata": {
      "tags": []
     },
     "output_type": "display_data"
    },
    {
     "data": {
      "text/html": [
       "<pre>+-------------------------------------+------------------+-----------------+</pre>"
      ],
      "text/plain": [
       "+-------------------------------------+------------------+-----------------+"
      ]
     },
     "metadata": {
      "tags": []
     },
     "output_type": "display_data"
    },
    {
     "data": {
      "text/html": [
       "<pre>| 2.39s                               | 0                | 0               |</pre>"
      ],
      "text/plain": [
       "| 2.39s                               | 0                | 0               |"
      ]
     },
     "metadata": {
      "tags": []
     },
     "output_type": "display_data"
    },
    {
     "data": {
      "text/html": [
       "<pre>| 5.39s                               | 2                | 568             |</pre>"
      ],
      "text/plain": [
       "| 5.39s                               | 2                | 568             |"
      ]
     },
     "metadata": {
      "tags": []
     },
     "output_type": "display_data"
    },
    {
     "data": {
      "text/html": [
       "<pre>| 8.39s                               | 4                | 1100            |</pre>"
      ],
      "text/plain": [
       "| 8.39s                               | 4                | 1100            |"
      ]
     },
     "metadata": {
      "tags": []
     },
     "output_type": "display_data"
    },
    {
     "data": {
      "text/html": [
       "<pre>| 11.40s                              | 5.75             | 1599            |</pre>"
      ],
      "text/plain": [
       "| 11.40s                              | 5.75             | 1599            |"
      ]
     },
     "metadata": {
      "tags": []
     },
     "output_type": "display_data"
    },
    {
     "data": {
      "text/html": [
       "<pre>| 14.40s                              | 7.75             | 2130            |</pre>"
      ],
      "text/plain": [
       "| 14.40s                              | 7.75             | 2130            |"
      ]
     },
     "metadata": {
      "tags": []
     },
     "output_type": "display_data"
    },
    {
     "data": {
      "text/html": [
       "<pre>| 17.40s                              | 9.75             | 2603            |</pre>"
      ],
      "text/plain": [
       "| 17.40s                              | 9.75             | 2603            |"
      ]
     },
     "metadata": {
      "tags": []
     },
     "output_type": "display_data"
    },
    {
     "data": {
      "text/html": [
       "<pre>| 20.39s                              | 11.25            | 3030            |</pre>"
      ],
      "text/plain": [
       "| 20.39s                              | 11.25            | 3030            |"
      ]
     },
     "metadata": {
      "tags": []
     },
     "output_type": "display_data"
    },
    {
     "data": {
      "text/html": [
       "<pre>| 23.39s                              | 13.25            | 3555            |</pre>"
      ],
      "text/plain": [
       "| 23.39s                              | 13.25            | 3555            |"
      ]
     },
     "metadata": {
      "tags": []
     },
     "output_type": "display_data"
    },
    {
     "data": {
      "text/html": [
       "<pre>| 26.40s                              | 15               | 4045            |</pre>"
      ],
      "text/plain": [
       "| 26.40s                              | 15               | 4045            |"
      ]
     },
     "metadata": {
      "tags": []
     },
     "output_type": "display_data"
    },
    {
     "data": {
      "text/html": [
       "<pre>| 29.40s                              | 16.75            | 4507            |</pre>"
      ],
      "text/plain": [
       "| 29.40s                              | 16.75            | 4507            |"
      ]
     },
     "metadata": {
      "tags": []
     },
     "output_type": "display_data"
    },
    {
     "data": {
      "text/html": [
       "<pre>| 32.40s                              | 18.5             | 4948            |</pre>"
      ],
      "text/plain": [
       "| 32.40s                              | 18.5             | 4948            |"
      ]
     },
     "metadata": {
      "tags": []
     },
     "output_type": "display_data"
    },
    {
     "data": {
      "text/html": [
       "<pre>| 35.40s                              | 20.25            | 5409            |</pre>"
      ],
      "text/plain": [
       "| 35.40s                              | 20.25            | 5409            |"
      ]
     },
     "metadata": {
      "tags": []
     },
     "output_type": "display_data"
    },
    {
     "data": {
      "text/html": [
       "<pre>| 38.43s                              | 22               | 5887            |</pre>"
      ],
      "text/plain": [
       "| 38.43s                              | 22               | 5887            |"
      ]
     },
     "metadata": {
      "tags": []
     },
     "output_type": "display_data"
    },
    {
     "data": {
      "text/html": [
       "<pre>| 41.39s                              | 23.75            | 6331            |</pre>"
      ],
      "text/plain": [
       "| 41.39s                              | 23.75            | 6331            |"
      ]
     },
     "metadata": {
      "tags": []
     },
     "output_type": "display_data"
    },
    {
     "data": {
      "text/html": [
       "<pre>| 44.39s                              | 25.25            | 6773            |</pre>"
      ],
      "text/plain": [
       "| 44.39s                              | 25.25            | 6773            |"
      ]
     },
     "metadata": {
      "tags": []
     },
     "output_type": "display_data"
    },
    {
     "data": {
      "text/html": [
       "<pre>| 47.40s                              | 27               | 7225            |</pre>"
      ],
      "text/plain": [
       "| 47.40s                              | 27               | 7225            |"
      ]
     },
     "metadata": {
      "tags": []
     },
     "output_type": "display_data"
    },
    {
     "data": {
      "text/html": [
       "<pre>| 50.39s                              | 28.75            | 7682            |</pre>"
      ],
      "text/plain": [
       "| 50.39s                              | 28.75            | 7682            |"
      ]
     },
     "metadata": {
      "tags": []
     },
     "output_type": "display_data"
    },
    {
     "data": {
      "text/html": [
       "<pre>| 53.40s                              | 30.5             | 8161            |</pre>"
      ],
      "text/plain": [
       "| 53.40s                              | 30.5             | 8161            |"
      ]
     },
     "metadata": {
      "tags": []
     },
     "output_type": "display_data"
    },
    {
     "data": {
      "text/html": [
       "<pre>| 56.40s                              | 32               | 8592            |</pre>"
      ],
      "text/plain": [
       "| 56.40s                              | 32               | 8592            |"
      ]
     },
     "metadata": {
      "tags": []
     },
     "output_type": "display_data"
    },
    {
     "data": {
      "text/html": [
       "<pre>| 59.45s                              | 34               | 9104            |</pre>"
      ],
      "text/plain": [
       "| 59.45s                              | 34               | 9104            |"
      ]
     },
     "metadata": {
      "tags": []
     },
     "output_type": "display_data"
    },
    {
     "data": {
      "text/html": [
       "<pre>| 1m 2s                               | 35.75            | 9568            |</pre>"
      ],
      "text/plain": [
       "| 1m 2s                               | 35.75            | 9568            |"
      ]
     },
     "metadata": {
      "tags": []
     },
     "output_type": "display_data"
    },
    {
     "data": {
      "text/html": [
       "<pre>| 1m 5s                               | 37.5             | 10006           |</pre>"
      ],
      "text/plain": [
       "| 1m 5s                               | 37.5             | 10006           |"
      ]
     },
     "metadata": {
      "tags": []
     },
     "output_type": "display_data"
    },
    {
     "data": {
      "text/html": [
       "<pre>| 1m 8s                               | 39               | 10447           |</pre>"
      ],
      "text/plain": [
       "| 1m 8s                               | 39               | 10447           |"
      ]
     },
     "metadata": {
      "tags": []
     },
     "output_type": "display_data"
    },
    {
     "data": {
      "text/html": [
       "<pre>| 1m 11s                              | 40.75            | 10901           |</pre>"
      ],
      "text/plain": [
       "| 1m 11s                              | 40.75            | 10901           |"
      ]
     },
     "metadata": {
      "tags": []
     },
     "output_type": "display_data"
    },
    {
     "data": {
      "text/html": [
       "<pre>| 1m 14s                              | 42.25            | 11321           |</pre>"
      ],
      "text/plain": [
       "| 1m 14s                              | 42.25            | 11321           |"
      ]
     },
     "metadata": {
      "tags": []
     },
     "output_type": "display_data"
    },
    {
     "data": {
      "text/html": [
       "<pre>| 1m 17s                              | 44               | 11769           |</pre>"
      ],
      "text/plain": [
       "| 1m 17s                              | 44               | 11769           |"
      ]
     },
     "metadata": {
      "tags": []
     },
     "output_type": "display_data"
    },
    {
     "data": {
      "text/html": [
       "<pre>| 1m 20s                              | 45.75            | 12246           |</pre>"
      ],
      "text/plain": [
       "| 1m 20s                              | 45.75            | 12246           |"
      ]
     },
     "metadata": {
      "tags": []
     },
     "output_type": "display_data"
    },
    {
     "data": {
      "text/html": [
       "<pre>| 1m 23s                              | 47.5             | 12720           |</pre>"
      ],
      "text/plain": [
       "| 1m 23s                              | 47.5             | 12720           |"
      ]
     },
     "metadata": {
      "tags": []
     },
     "output_type": "display_data"
    },
    {
     "data": {
      "text/html": [
       "<pre>| 1m 26s                              | 49.25            | 13161           |</pre>"
      ],
      "text/plain": [
       "| 1m 26s                              | 49.25            | 13161           |"
      ]
     },
     "metadata": {
      "tags": []
     },
     "output_type": "display_data"
    },
    {
     "data": {
      "text/html": [
       "<pre>| 1m 29s                              | 51.25            | 13696           |</pre>"
      ],
      "text/plain": [
       "| 1m 29s                              | 51.25            | 13696           |"
      ]
     },
     "metadata": {
      "tags": []
     },
     "output_type": "display_data"
    },
    {
     "data": {
      "text/html": [
       "<pre>| 1m 32s                              | 53               | 14132           |</pre>"
      ],
      "text/plain": [
       "| 1m 32s                              | 53               | 14132           |"
      ]
     },
     "metadata": {
      "tags": []
     },
     "output_type": "display_data"
    },
    {
     "data": {
      "text/html": [
       "<pre>| 1m 35s                              | 54.5             | 14586           |</pre>"
      ],
      "text/plain": [
       "| 1m 35s                              | 54.5             | 14586           |"
      ]
     },
     "metadata": {
      "tags": []
     },
     "output_type": "display_data"
    },
    {
     "data": {
      "text/html": [
       "<pre>| 1m 38s                              | 56.25            | 15036           |</pre>"
      ],
      "text/plain": [
       "| 1m 38s                              | 56.25            | 15036           |"
      ]
     },
     "metadata": {
      "tags": []
     },
     "output_type": "display_data"
    },
    {
     "data": {
      "text/html": [
       "<pre>| 1m 41s                              | 58               | 15471           |</pre>"
      ],
      "text/plain": [
       "| 1m 41s                              | 58               | 15471           |"
      ]
     },
     "metadata": {
      "tags": []
     },
     "output_type": "display_data"
    },
    {
     "data": {
      "text/html": [
       "<pre>| 1m 44s                              | 59.5             | 15914           |</pre>"
      ],
      "text/plain": [
       "| 1m 44s                              | 59.5             | 15914           |"
      ]
     },
     "metadata": {
      "tags": []
     },
     "output_type": "display_data"
    },
    {
     "data": {
      "text/html": [
       "<pre>| 1m 47s                              | 61.25            | 16366           |</pre>"
      ],
      "text/plain": [
       "| 1m 47s                              | 61.25            | 16366           |"
      ]
     },
     "metadata": {
      "tags": []
     },
     "output_type": "display_data"
    },
    {
     "data": {
      "text/html": [
       "<pre>| 1m 50s                              | 63               | 16814           |</pre>"
      ],
      "text/plain": [
       "| 1m 50s                              | 63               | 16814           |"
      ]
     },
     "metadata": {
      "tags": []
     },
     "output_type": "display_data"
    },
    {
     "data": {
      "text/html": [
       "<pre>| 1m 53s                              | 64.75            | 17279           |</pre>"
      ],
      "text/plain": [
       "| 1m 53s                              | 64.75            | 17279           |"
      ]
     },
     "metadata": {
      "tags": []
     },
     "output_type": "display_data"
    },
    {
     "data": {
      "text/html": [
       "<pre>| 1m 56s                              | 66.25            | 17706           |</pre>"
      ],
      "text/plain": [
       "| 1m 56s                              | 66.25            | 17706           |"
      ]
     },
     "metadata": {
      "tags": []
     },
     "output_type": "display_data"
    },
    {
     "data": {
      "text/html": [
       "<pre>| 1m 59s                              | 68               | 18177           |</pre>"
      ],
      "text/plain": [
       "| 1m 59s                              | 68               | 18177           |"
      ]
     },
     "metadata": {
      "tags": []
     },
     "output_type": "display_data"
    },
    {
     "data": {
      "text/html": [
       "<pre>| 2m 2s                               | 69.75            | 18595           |</pre>"
      ],
      "text/plain": [
       "| 2m 2s                               | 69.75            | 18595           |"
      ]
     },
     "metadata": {
      "tags": []
     },
     "output_type": "display_data"
    },
    {
     "data": {
      "text/html": [
       "<pre>| 2m 5s                               | 71.5             | 19117           |</pre>"
      ],
      "text/plain": [
       "| 2m 5s                               | 71.5             | 19117           |"
      ]
     },
     "metadata": {
      "tags": []
     },
     "output_type": "display_data"
    },
    {
     "data": {
      "text/html": [
       "<pre>| 2m 8s                               | 73.5             | 19596           |</pre>"
      ],
      "text/plain": [
       "| 2m 8s                               | 73.5             | 19596           |"
      ]
     },
     "metadata": {
      "tags": []
     },
     "output_type": "display_data"
    },
    {
     "data": {
      "text/html": [
       "<pre>| 2m 11s                              | 75.25            | 20073           |</pre>"
      ],
      "text/plain": [
       "| 2m 11s                              | 75.25            | 20073           |"
      ]
     },
     "metadata": {
      "tags": []
     },
     "output_type": "display_data"
    },
    {
     "data": {
      "text/html": [
       "<pre>| 2m 14s                              | 77               | 20567           |</pre>"
      ],
      "text/plain": [
       "| 2m 14s                              | 77               | 20567           |"
      ]
     },
     "metadata": {
      "tags": []
     },
     "output_type": "display_data"
    },
    {
     "data": {
      "text/html": [
       "<pre>| 2m 17s                              | 78.75            | 21031           |</pre>"
      ],
      "text/plain": [
       "| 2m 17s                              | 78.75            | 21031           |"
      ]
     },
     "metadata": {
      "tags": []
     },
     "output_type": "display_data"
    },
    {
     "data": {
      "text/html": [
       "<pre>| 2m 20s                              | 80.5             | 21476           |</pre>"
      ],
      "text/plain": [
       "| 2m 20s                              | 80.5             | 21476           |"
      ]
     },
     "metadata": {
      "tags": []
     },
     "output_type": "display_data"
    },
    {
     "data": {
      "text/html": [
       "<pre>| 2m 23s                              | 82.25            | 21959           |</pre>"
      ],
      "text/plain": [
       "| 2m 23s                              | 82.25            | 21959           |"
      ]
     },
     "metadata": {
      "tags": []
     },
     "output_type": "display_data"
    },
    {
     "data": {
      "text/html": [
       "<pre>| 2m 26s                              | 84               | 22410           |</pre>"
      ],
      "text/plain": [
       "| 2m 26s                              | 84               | 22410           |"
      ]
     },
     "metadata": {
      "tags": []
     },
     "output_type": "display_data"
    },
    {
     "data": {
      "text/html": [
       "<pre>| 2m 29s                              | 85.75            | 22875           |</pre>"
      ],
      "text/plain": [
       "| 2m 29s                              | 85.75            | 22875           |"
      ]
     },
     "metadata": {
      "tags": []
     },
     "output_type": "display_data"
    },
    {
     "data": {
      "text/html": [
       "<pre>| 2m 32s                              | 87.5             | 23328           |</pre>"
      ],
      "text/plain": [
       "| 2m 32s                              | 87.5             | 23328           |"
      ]
     },
     "metadata": {
      "tags": []
     },
     "output_type": "display_data"
    },
    {
     "data": {
      "text/html": [
       "<pre>| 2m 35s                              | 89.25            | 23807           |</pre>"
      ],
      "text/plain": [
       "| 2m 35s                              | 89.25            | 23807           |"
      ]
     },
     "metadata": {
      "tags": []
     },
     "output_type": "display_data"
    },
    {
     "data": {
      "text/html": [
       "<pre>| 2m 38s                              | 91               | 24321           |</pre>"
      ],
      "text/plain": [
       "| 2m 38s                              | 91               | 24321           |"
      ]
     },
     "metadata": {
      "tags": []
     },
     "output_type": "display_data"
    },
    {
     "data": {
      "text/html": [
       "<pre>| 2m 41s                              | 92.75            | 24756           |</pre>"
      ],
      "text/plain": [
       "| 2m 41s                              | 92.75            | 24756           |"
      ]
     },
     "metadata": {
      "tags": []
     },
     "output_type": "display_data"
    },
    {
     "data": {
      "text/html": [
       "<pre>| 2m 44s                              | 94.5             | 25219           |</pre>"
      ],
      "text/plain": [
       "| 2m 44s                              | 94.5             | 25219           |"
      ]
     },
     "metadata": {
      "tags": []
     },
     "output_type": "display_data"
    },
    {
     "data": {
      "text/html": [
       "<pre>| 2m 47s                              | 96.25            | 25679           |</pre>"
      ],
      "text/plain": [
       "| 2m 47s                              | 96.25            | 25679           |"
      ]
     },
     "metadata": {
      "tags": []
     },
     "output_type": "display_data"
    },
    {
     "data": {
      "text/html": [
       "<pre>| 2m 50s                              | 98               | 26163           |</pre>"
      ],
      "text/plain": [
       "| 2m 50s                              | 98               | 26163           |"
      ]
     },
     "metadata": {
      "tags": []
     },
     "output_type": "display_data"
    },
    {
     "data": {
      "text/html": [
       "<pre>| 2m 53s                              | 99.75            | 26634           |</pre>"
      ],
      "text/plain": [
       "| 2m 53s                              | 99.75            | 26634           |"
      ]
     },
     "metadata": {
      "tags": []
     },
     "output_type": "display_data"
    },
    {
     "data": {
      "text/html": [
       "<pre>| 3m 2s                               | 100              | 26657           |</pre>"
      ],
      "text/plain": [
       "| 3m 2s                               | 100              | 26657           |"
      ]
     },
     "metadata": {
      "tags": []
     },
     "output_type": "display_data"
    },
    {
     "data": {
      "text/html": [
       "<pre>+-------------------------------------+------------------+-----------------+</pre>"
      ],
      "text/plain": [
       "+-------------------------------------+------------------+-----------------+"
      ]
     },
     "metadata": {
      "tags": []
     },
     "output_type": "display_data"
    },
    {
     "data": {
      "text/html": [
       "<pre>Finalizing lookup tables.</pre>"
      ],
      "text/plain": [
       "Finalizing lookup tables."
      ]
     },
     "metadata": {
      "tags": []
     },
     "output_type": "display_data"
    },
    {
     "data": {
      "text/html": [
       "<pre>Generating candidate set for working with new users.</pre>"
      ],
      "text/plain": [
       "Generating candidate set for working with new users."
      ]
     },
     "metadata": {
      "tags": []
     },
     "output_type": "display_data"
    },
    {
     "data": {
      "text/html": [
       "<pre>Finished training in 184.386s</pre>"
      ],
      "text/plain": [
       "Finished training in 184.386s"
      ]
     },
     "metadata": {
      "tags": []
     },
     "output_type": "display_data"
    }
   ],
   "source": [
    "model = tc.recommender.create(training_data, 'userId', 'movieId')"
   ]
  },
  {
   "cell_type": "markdown",
   "metadata": {
    "id": "z0W3s3gu90vA"
   },
   "source": [
    "Now that you have a model, you can make recommendations"
   ]
  },
  {
   "cell_type": "markdown",
   "metadata": {
    "id": "ZDhRiH2z9_P_"
   },
   "source": [
    "## Making recommendations\n",
    "\n",
    "Once a model is created, you can now make recommendations of new items for users. To do so, call model.recommend() with an SArray of user ids. If users is set to None, then model.recommend() will make recommendations for all the users seen during model creation, automatically excluding the items that are observed for each user. In other words, if data contains a row \"Alice, The Great Gatsby\", then model.recommend() will not recommend \"The Great Gatsby\" for user \"Alice\". It will return at most k new items for each user, sorted by their rank. It will return fewer than k items if there are not enough items that the user has not already rated or seen.\n",
    "\n",
    "The score column of the output contains the unnormalized prediction scores for each user-item pair. The semantic meanings of these scores may differ between models. For the linear regression model, for instance, a higher average score for a user means that the model thinks that this user is generally more enthusiastic than others.\n",
    "\n",
    "There are a number of ways to make recommendations: for known users or new users, with new observation data or side information, and with different ways to explicitly control item inclusion or exclusion. Let's walk through these options together."
   ]
  },
  {
   "cell_type": "markdown",
   "metadata": {
    "id": "AjBRfYOF-EdJ"
   },
   "source": [
    "### Making recommendations for all users\n",
    "\n",
    "By default, calling m.recommend() without any arguments returns the top 10 recommendations for all users seen during model creation. It automatically excludes items that were seen during model creation. Hence all generated recommendations are for items that the user has not already seen."
   ]
  },
  {
   "cell_type": "code",
   "execution_count": null,
   "metadata": {
    "colab": {
     "base_uri": "https://localhost:8080/",
     "height": 2807
    },
    "id": "TpLOw4SN91YP",
    "outputId": "1c120335-e662-4a7a-eb6a-c11b72450778"
   },
   "outputs": [
    {
     "data": {
      "text/html": [
       "<pre>recommendations finished on 1000/138493 queries. users per second: 2097.62</pre>"
      ],
      "text/plain": [
       "recommendations finished on 1000/138493 queries. users per second: 2097.62"
      ]
     },
     "metadata": {
      "tags": []
     },
     "output_type": "display_data"
    },
    {
     "data": {
      "text/html": [
       "<pre>recommendations finished on 2000/138493 queries. users per second: 2093.08</pre>"
      ],
      "text/plain": [
       "recommendations finished on 2000/138493 queries. users per second: 2093.08"
      ]
     },
     "metadata": {
      "tags": []
     },
     "output_type": "display_data"
    },
    {
     "data": {
      "text/html": [
       "<pre>recommendations finished on 3000/138493 queries. users per second: 2297.84</pre>"
      ],
      "text/plain": [
       "recommendations finished on 3000/138493 queries. users per second: 2297.84"
      ]
     },
     "metadata": {
      "tags": []
     },
     "output_type": "display_data"
    },
    {
     "data": {
      "text/html": [
       "<pre>recommendations finished on 4000/138493 queries. users per second: 2362.81</pre>"
      ],
      "text/plain": [
       "recommendations finished on 4000/138493 queries. users per second: 2362.81"
      ]
     },
     "metadata": {
      "tags": []
     },
     "output_type": "display_data"
    },
    {
     "data": {
      "text/html": [
       "<pre>recommendations finished on 5000/138493 queries. users per second: 2304.22</pre>"
      ],
      "text/plain": [
       "recommendations finished on 5000/138493 queries. users per second: 2304.22"
      ]
     },
     "metadata": {
      "tags": []
     },
     "output_type": "display_data"
    },
    {
     "data": {
      "text/html": [
       "<pre>recommendations finished on 6000/138493 queries. users per second: 2271.14</pre>"
      ],
      "text/plain": [
       "recommendations finished on 6000/138493 queries. users per second: 2271.14"
      ]
     },
     "metadata": {
      "tags": []
     },
     "output_type": "display_data"
    },
    {
     "data": {
      "text/html": [
       "<pre>recommendations finished on 7000/138493 queries. users per second: 2240.43</pre>"
      ],
      "text/plain": [
       "recommendations finished on 7000/138493 queries. users per second: 2240.43"
      ]
     },
     "metadata": {
      "tags": []
     },
     "output_type": "display_data"
    },
    {
     "data": {
      "text/html": [
       "<pre>recommendations finished on 8000/138493 queries. users per second: 2222.78</pre>"
      ],
      "text/plain": [
       "recommendations finished on 8000/138493 queries. users per second: 2222.78"
      ]
     },
     "metadata": {
      "tags": []
     },
     "output_type": "display_data"
    },
    {
     "data": {
      "text/html": [
       "<pre>recommendations finished on 9000/138493 queries. users per second: 2209.78</pre>"
      ],
      "text/plain": [
       "recommendations finished on 9000/138493 queries. users per second: 2209.78"
      ]
     },
     "metadata": {
      "tags": []
     },
     "output_type": "display_data"
    },
    {
     "data": {
      "text/html": [
       "<pre>recommendations finished on 10000/138493 queries. users per second: 2188.68</pre>"
      ],
      "text/plain": [
       "recommendations finished on 10000/138493 queries. users per second: 2188.68"
      ]
     },
     "metadata": {
      "tags": []
     },
     "output_type": "display_data"
    },
    {
     "data": {
      "text/html": [
       "<pre>recommendations finished on 11000/138493 queries. users per second: 2180.74</pre>"
      ],
      "text/plain": [
       "recommendations finished on 11000/138493 queries. users per second: 2180.74"
      ]
     },
     "metadata": {
      "tags": []
     },
     "output_type": "display_data"
    },
    {
     "data": {
      "text/html": [
       "<pre>recommendations finished on 12000/138493 queries. users per second: 2177.47</pre>"
      ],
      "text/plain": [
       "recommendations finished on 12000/138493 queries. users per second: 2177.47"
      ]
     },
     "metadata": {
      "tags": []
     },
     "output_type": "display_data"
    },
    {
     "data": {
      "text/html": [
       "<pre>recommendations finished on 13000/138493 queries. users per second: 2169.08</pre>"
      ],
      "text/plain": [
       "recommendations finished on 13000/138493 queries. users per second: 2169.08"
      ]
     },
     "metadata": {
      "tags": []
     },
     "output_type": "display_data"
    },
    {
     "data": {
      "text/html": [
       "<pre>recommendations finished on 14000/138493 queries. users per second: 2166.64</pre>"
      ],
      "text/plain": [
       "recommendations finished on 14000/138493 queries. users per second: 2166.64"
      ]
     },
     "metadata": {
      "tags": []
     },
     "output_type": "display_data"
    },
    {
     "data": {
      "text/html": [
       "<pre>recommendations finished on 15000/138493 queries. users per second: 2158.1</pre>"
      ],
      "text/plain": [
       "recommendations finished on 15000/138493 queries. users per second: 2158.1"
      ]
     },
     "metadata": {
      "tags": []
     },
     "output_type": "display_data"
    },
    {
     "data": {
      "text/html": [
       "<pre>recommendations finished on 16000/138493 queries. users per second: 2156.37</pre>"
      ],
      "text/plain": [
       "recommendations finished on 16000/138493 queries. users per second: 2156.37"
      ]
     },
     "metadata": {
      "tags": []
     },
     "output_type": "display_data"
    },
    {
     "data": {
      "text/html": [
       "<pre>recommendations finished on 17000/138493 queries. users per second: 2154.47</pre>"
      ],
      "text/plain": [
       "recommendations finished on 17000/138493 queries. users per second: 2154.47"
      ]
     },
     "metadata": {
      "tags": []
     },
     "output_type": "display_data"
    },
    {
     "data": {
      "text/html": [
       "<pre>recommendations finished on 18000/138493 queries. users per second: 2150.45</pre>"
      ],
      "text/plain": [
       "recommendations finished on 18000/138493 queries. users per second: 2150.45"
      ]
     },
     "metadata": {
      "tags": []
     },
     "output_type": "display_data"
    },
    {
     "data": {
      "text/html": [
       "<pre>recommendations finished on 19000/138493 queries. users per second: 2147.92</pre>"
      ],
      "text/plain": [
       "recommendations finished on 19000/138493 queries. users per second: 2147.92"
      ]
     },
     "metadata": {
      "tags": []
     },
     "output_type": "display_data"
    },
    {
     "data": {
      "text/html": [
       "<pre>recommendations finished on 20000/138493 queries. users per second: 2142.06</pre>"
      ],
      "text/plain": [
       "recommendations finished on 20000/138493 queries. users per second: 2142.06"
      ]
     },
     "metadata": {
      "tags": []
     },
     "output_type": "display_data"
    },
    {
     "data": {
      "text/html": [
       "<pre>recommendations finished on 21000/138493 queries. users per second: 2138.27</pre>"
      ],
      "text/plain": [
       "recommendations finished on 21000/138493 queries. users per second: 2138.27"
      ]
     },
     "metadata": {
      "tags": []
     },
     "output_type": "display_data"
    },
    {
     "data": {
      "text/html": [
       "<pre>recommendations finished on 22000/138493 queries. users per second: 2138.26</pre>"
      ],
      "text/plain": [
       "recommendations finished on 22000/138493 queries. users per second: 2138.26"
      ]
     },
     "metadata": {
      "tags": []
     },
     "output_type": "display_data"
    },
    {
     "data": {
      "text/html": [
       "<pre>recommendations finished on 23000/138493 queries. users per second: 2135.64</pre>"
      ],
      "text/plain": [
       "recommendations finished on 23000/138493 queries. users per second: 2135.64"
      ]
     },
     "metadata": {
      "tags": []
     },
     "output_type": "display_data"
    },
    {
     "data": {
      "text/html": [
       "<pre>recommendations finished on 24000/138493 queries. users per second: 2134.66</pre>"
      ],
      "text/plain": [
       "recommendations finished on 24000/138493 queries. users per second: 2134.66"
      ]
     },
     "metadata": {
      "tags": []
     },
     "output_type": "display_data"
    },
    {
     "data": {
      "text/html": [
       "<pre>recommendations finished on 25000/138493 queries. users per second: 2134.52</pre>"
      ],
      "text/plain": [
       "recommendations finished on 25000/138493 queries. users per second: 2134.52"
      ]
     },
     "metadata": {
      "tags": []
     },
     "output_type": "display_data"
    },
    {
     "data": {
      "text/html": [
       "<pre>recommendations finished on 26000/138493 queries. users per second: 2130.52</pre>"
      ],
      "text/plain": [
       "recommendations finished on 26000/138493 queries. users per second: 2130.52"
      ]
     },
     "metadata": {
      "tags": []
     },
     "output_type": "display_data"
    },
    {
     "data": {
      "text/html": [
       "<pre>recommendations finished on 27000/138493 queries. users per second: 2129.24</pre>"
      ],
      "text/plain": [
       "recommendations finished on 27000/138493 queries. users per second: 2129.24"
      ]
     },
     "metadata": {
      "tags": []
     },
     "output_type": "display_data"
    },
    {
     "data": {
      "text/html": [
       "<pre>recommendations finished on 28000/138493 queries. users per second: 2128</pre>"
      ],
      "text/plain": [
       "recommendations finished on 28000/138493 queries. users per second: 2128"
      ]
     },
     "metadata": {
      "tags": []
     },
     "output_type": "display_data"
    },
    {
     "data": {
      "text/html": [
       "<pre>recommendations finished on 29000/138493 queries. users per second: 2127.51</pre>"
      ],
      "text/plain": [
       "recommendations finished on 29000/138493 queries. users per second: 2127.51"
      ]
     },
     "metadata": {
      "tags": []
     },
     "output_type": "display_data"
    },
    {
     "data": {
      "text/html": [
       "<pre>recommendations finished on 30000/138493 queries. users per second: 2125.68</pre>"
      ],
      "text/plain": [
       "recommendations finished on 30000/138493 queries. users per second: 2125.68"
      ]
     },
     "metadata": {
      "tags": []
     },
     "output_type": "display_data"
    },
    {
     "data": {
      "text/html": [
       "<pre>recommendations finished on 31000/138493 queries. users per second: 2122.27</pre>"
      ],
      "text/plain": [
       "recommendations finished on 31000/138493 queries. users per second: 2122.27"
      ]
     },
     "metadata": {
      "tags": []
     },
     "output_type": "display_data"
    },
    {
     "data": {
      "text/html": [
       "<pre>recommendations finished on 32000/138493 queries. users per second: 2121.49</pre>"
      ],
      "text/plain": [
       "recommendations finished on 32000/138493 queries. users per second: 2121.49"
      ]
     },
     "metadata": {
      "tags": []
     },
     "output_type": "display_data"
    },
    {
     "data": {
      "text/html": [
       "<pre>recommendations finished on 33000/138493 queries. users per second: 2120.27</pre>"
      ],
      "text/plain": [
       "recommendations finished on 33000/138493 queries. users per second: 2120.27"
      ]
     },
     "metadata": {
      "tags": []
     },
     "output_type": "display_data"
    },
    {
     "data": {
      "text/html": [
       "<pre>recommendations finished on 34000/138493 queries. users per second: 2116.26</pre>"
      ],
      "text/plain": [
       "recommendations finished on 34000/138493 queries. users per second: 2116.26"
      ]
     },
     "metadata": {
      "tags": []
     },
     "output_type": "display_data"
    },
    {
     "data": {
      "text/html": [
       "<pre>recommendations finished on 35000/138493 queries. users per second: 2117.36</pre>"
      ],
      "text/plain": [
       "recommendations finished on 35000/138493 queries. users per second: 2117.36"
      ]
     },
     "metadata": {
      "tags": []
     },
     "output_type": "display_data"
    },
    {
     "data": {
      "text/html": [
       "<pre>recommendations finished on 36000/138493 queries. users per second: 2115.34</pre>"
      ],
      "text/plain": [
       "recommendations finished on 36000/138493 queries. users per second: 2115.34"
      ]
     },
     "metadata": {
      "tags": []
     },
     "output_type": "display_data"
    },
    {
     "data": {
      "text/html": [
       "<pre>recommendations finished on 37000/138493 queries. users per second: 2114.57</pre>"
      ],
      "text/plain": [
       "recommendations finished on 37000/138493 queries. users per second: 2114.57"
      ]
     },
     "metadata": {
      "tags": []
     },
     "output_type": "display_data"
    },
    {
     "data": {
      "text/html": [
       "<pre>recommendations finished on 38000/138493 queries. users per second: 2114.43</pre>"
      ],
      "text/plain": [
       "recommendations finished on 38000/138493 queries. users per second: 2114.43"
      ]
     },
     "metadata": {
      "tags": []
     },
     "output_type": "display_data"
    },
    {
     "data": {
      "text/html": [
       "<pre>recommendations finished on 39000/138493 queries. users per second: 2113.54</pre>"
      ],
      "text/plain": [
       "recommendations finished on 39000/138493 queries. users per second: 2113.54"
      ]
     },
     "metadata": {
      "tags": []
     },
     "output_type": "display_data"
    },
    {
     "data": {
      "text/html": [
       "<pre>recommendations finished on 40000/138493 queries. users per second: 2114.57</pre>"
      ],
      "text/plain": [
       "recommendations finished on 40000/138493 queries. users per second: 2114.57"
      ]
     },
     "metadata": {
      "tags": []
     },
     "output_type": "display_data"
    },
    {
     "data": {
      "text/html": [
       "<pre>recommendations finished on 41000/138493 queries. users per second: 2113.39</pre>"
      ],
      "text/plain": [
       "recommendations finished on 41000/138493 queries. users per second: 2113.39"
      ]
     },
     "metadata": {
      "tags": []
     },
     "output_type": "display_data"
    },
    {
     "data": {
      "text/html": [
       "<pre>recommendations finished on 42000/138493 queries. users per second: 2113.54</pre>"
      ],
      "text/plain": [
       "recommendations finished on 42000/138493 queries. users per second: 2113.54"
      ]
     },
     "metadata": {
      "tags": []
     },
     "output_type": "display_data"
    },
    {
     "data": {
      "text/html": [
       "<pre>recommendations finished on 43000/138493 queries. users per second: 2113.51</pre>"
      ],
      "text/plain": [
       "recommendations finished on 43000/138493 queries. users per second: 2113.51"
      ]
     },
     "metadata": {
      "tags": []
     },
     "output_type": "display_data"
    },
    {
     "data": {
      "text/html": [
       "<pre>recommendations finished on 44000/138493 queries. users per second: 2111.9</pre>"
      ],
      "text/plain": [
       "recommendations finished on 44000/138493 queries. users per second: 2111.9"
      ]
     },
     "metadata": {
      "tags": []
     },
     "output_type": "display_data"
    },
    {
     "data": {
      "text/html": [
       "<pre>recommendations finished on 45000/138493 queries. users per second: 2111.23</pre>"
      ],
      "text/plain": [
       "recommendations finished on 45000/138493 queries. users per second: 2111.23"
      ]
     },
     "metadata": {
      "tags": []
     },
     "output_type": "display_data"
    },
    {
     "data": {
      "text/html": [
       "<pre>recommendations finished on 46000/138493 queries. users per second: 2111.44</pre>"
      ],
      "text/plain": [
       "recommendations finished on 46000/138493 queries. users per second: 2111.44"
      ]
     },
     "metadata": {
      "tags": []
     },
     "output_type": "display_data"
    },
    {
     "data": {
      "text/html": [
       "<pre>recommendations finished on 47000/138493 queries. users per second: 2111.03</pre>"
      ],
      "text/plain": [
       "recommendations finished on 47000/138493 queries. users per second: 2111.03"
      ]
     },
     "metadata": {
      "tags": []
     },
     "output_type": "display_data"
    },
    {
     "data": {
      "text/html": [
       "<pre>recommendations finished on 48000/138493 queries. users per second: 2110.96</pre>"
      ],
      "text/plain": [
       "recommendations finished on 48000/138493 queries. users per second: 2110.96"
      ]
     },
     "metadata": {
      "tags": []
     },
     "output_type": "display_data"
    },
    {
     "data": {
      "text/html": [
       "<pre>recommendations finished on 49000/138493 queries. users per second: 2109.69</pre>"
      ],
      "text/plain": [
       "recommendations finished on 49000/138493 queries. users per second: 2109.69"
      ]
     },
     "metadata": {
      "tags": []
     },
     "output_type": "display_data"
    },
    {
     "data": {
      "text/html": [
       "<pre>recommendations finished on 50000/138493 queries. users per second: 2109.22</pre>"
      ],
      "text/plain": [
       "recommendations finished on 50000/138493 queries. users per second: 2109.22"
      ]
     },
     "metadata": {
      "tags": []
     },
     "output_type": "display_data"
    },
    {
     "data": {
      "text/html": [
       "<pre>recommendations finished on 51000/138493 queries. users per second: 2109.93</pre>"
      ],
      "text/plain": [
       "recommendations finished on 51000/138493 queries. users per second: 2109.93"
      ]
     },
     "metadata": {
      "tags": []
     },
     "output_type": "display_data"
    },
    {
     "data": {
      "text/html": [
       "<pre>recommendations finished on 52000/138493 queries. users per second: 2109.07</pre>"
      ],
      "text/plain": [
       "recommendations finished on 52000/138493 queries. users per second: 2109.07"
      ]
     },
     "metadata": {
      "tags": []
     },
     "output_type": "display_data"
    },
    {
     "data": {
      "text/html": [
       "<pre>recommendations finished on 53000/138493 queries. users per second: 2109.07</pre>"
      ],
      "text/plain": [
       "recommendations finished on 53000/138493 queries. users per second: 2109.07"
      ]
     },
     "metadata": {
      "tags": []
     },
     "output_type": "display_data"
    },
    {
     "data": {
      "text/html": [
       "<pre>recommendations finished on 54000/138493 queries. users per second: 2107.71</pre>"
      ],
      "text/plain": [
       "recommendations finished on 54000/138493 queries. users per second: 2107.71"
      ]
     },
     "metadata": {
      "tags": []
     },
     "output_type": "display_data"
    },
    {
     "data": {
      "text/html": [
       "<pre>recommendations finished on 55000/138493 queries. users per second: 2106.46</pre>"
      ],
      "text/plain": [
       "recommendations finished on 55000/138493 queries. users per second: 2106.46"
      ]
     },
     "metadata": {
      "tags": []
     },
     "output_type": "display_data"
    },
    {
     "data": {
      "text/html": [
       "<pre>recommendations finished on 56000/138493 queries. users per second: 2106.97</pre>"
      ],
      "text/plain": [
       "recommendations finished on 56000/138493 queries. users per second: 2106.97"
      ]
     },
     "metadata": {
      "tags": []
     },
     "output_type": "display_data"
    },
    {
     "data": {
      "text/html": [
       "<pre>recommendations finished on 57000/138493 queries. users per second: 2105.88</pre>"
      ],
      "text/plain": [
       "recommendations finished on 57000/138493 queries. users per second: 2105.88"
      ]
     },
     "metadata": {
      "tags": []
     },
     "output_type": "display_data"
    },
    {
     "data": {
      "text/html": [
       "<pre>recommendations finished on 58000/138493 queries. users per second: 2106.38</pre>"
      ],
      "text/plain": [
       "recommendations finished on 58000/138493 queries. users per second: 2106.38"
      ]
     },
     "metadata": {
      "tags": []
     },
     "output_type": "display_data"
    },
    {
     "data": {
      "text/html": [
       "<pre>recommendations finished on 59000/138493 queries. users per second: 2106.97</pre>"
      ],
      "text/plain": [
       "recommendations finished on 59000/138493 queries. users per second: 2106.97"
      ]
     },
     "metadata": {
      "tags": []
     },
     "output_type": "display_data"
    },
    {
     "data": {
      "text/html": [
       "<pre>recommendations finished on 60000/138493 queries. users per second: 2105.6</pre>"
      ],
      "text/plain": [
       "recommendations finished on 60000/138493 queries. users per second: 2105.6"
      ]
     },
     "metadata": {
      "tags": []
     },
     "output_type": "display_data"
    },
    {
     "data": {
      "text/html": [
       "<pre>recommendations finished on 61000/138493 queries. users per second: 2105.95</pre>"
      ],
      "text/plain": [
       "recommendations finished on 61000/138493 queries. users per second: 2105.95"
      ]
     },
     "metadata": {
      "tags": []
     },
     "output_type": "display_data"
    },
    {
     "data": {
      "text/html": [
       "<pre>recommendations finished on 62000/138493 queries. users per second: 2105.25</pre>"
      ],
      "text/plain": [
       "recommendations finished on 62000/138493 queries. users per second: 2105.25"
      ]
     },
     "metadata": {
      "tags": []
     },
     "output_type": "display_data"
    },
    {
     "data": {
      "text/html": [
       "<pre>recommendations finished on 63000/138493 queries. users per second: 2105.16</pre>"
      ],
      "text/plain": [
       "recommendations finished on 63000/138493 queries. users per second: 2105.16"
      ]
     },
     "metadata": {
      "tags": []
     },
     "output_type": "display_data"
    },
    {
     "data": {
      "text/html": [
       "<pre>recommendations finished on 64000/138493 queries. users per second: 2105.17</pre>"
      ],
      "text/plain": [
       "recommendations finished on 64000/138493 queries. users per second: 2105.17"
      ]
     },
     "metadata": {
      "tags": []
     },
     "output_type": "display_data"
    },
    {
     "data": {
      "text/html": [
       "<pre>recommendations finished on 65000/138493 queries. users per second: 2105.13</pre>"
      ],
      "text/plain": [
       "recommendations finished on 65000/138493 queries. users per second: 2105.13"
      ]
     },
     "metadata": {
      "tags": []
     },
     "output_type": "display_data"
    },
    {
     "data": {
      "text/html": [
       "<pre>recommendations finished on 66000/138493 queries. users per second: 2105.28</pre>"
      ],
      "text/plain": [
       "recommendations finished on 66000/138493 queries. users per second: 2105.28"
      ]
     },
     "metadata": {
      "tags": []
     },
     "output_type": "display_data"
    },
    {
     "data": {
      "text/html": [
       "<pre>recommendations finished on 67000/138493 queries. users per second: 2105.11</pre>"
      ],
      "text/plain": [
       "recommendations finished on 67000/138493 queries. users per second: 2105.11"
      ]
     },
     "metadata": {
      "tags": []
     },
     "output_type": "display_data"
    },
    {
     "data": {
      "text/html": [
       "<pre>recommendations finished on 68000/138493 queries. users per second: 2105.31</pre>"
      ],
      "text/plain": [
       "recommendations finished on 68000/138493 queries. users per second: 2105.31"
      ]
     },
     "metadata": {
      "tags": []
     },
     "output_type": "display_data"
    },
    {
     "data": {
      "text/html": [
       "<pre>recommendations finished on 69000/138493 queries. users per second: 2105.4</pre>"
      ],
      "text/plain": [
       "recommendations finished on 69000/138493 queries. users per second: 2105.4"
      ]
     },
     "metadata": {
      "tags": []
     },
     "output_type": "display_data"
    },
    {
     "data": {
      "text/html": [
       "<pre>recommendations finished on 70000/138493 queries. users per second: 2104.82</pre>"
      ],
      "text/plain": [
       "recommendations finished on 70000/138493 queries. users per second: 2104.82"
      ]
     },
     "metadata": {
      "tags": []
     },
     "output_type": "display_data"
    },
    {
     "data": {
      "text/html": [
       "<pre>recommendations finished on 71000/138493 queries. users per second: 2104.96</pre>"
      ],
      "text/plain": [
       "recommendations finished on 71000/138493 queries. users per second: 2104.96"
      ]
     },
     "metadata": {
      "tags": []
     },
     "output_type": "display_data"
    },
    {
     "data": {
      "text/html": [
       "<pre>recommendations finished on 72000/138493 queries. users per second: 2105.34</pre>"
      ],
      "text/plain": [
       "recommendations finished on 72000/138493 queries. users per second: 2105.34"
      ]
     },
     "metadata": {
      "tags": []
     },
     "output_type": "display_data"
    },
    {
     "data": {
      "text/html": [
       "<pre>recommendations finished on 73000/138493 queries. users per second: 2104.57</pre>"
      ],
      "text/plain": [
       "recommendations finished on 73000/138493 queries. users per second: 2104.57"
      ]
     },
     "metadata": {
      "tags": []
     },
     "output_type": "display_data"
    },
    {
     "data": {
      "text/html": [
       "<pre>recommendations finished on 74000/138493 queries. users per second: 2104.28</pre>"
      ],
      "text/plain": [
       "recommendations finished on 74000/138493 queries. users per second: 2104.28"
      ]
     },
     "metadata": {
      "tags": []
     },
     "output_type": "display_data"
    },
    {
     "data": {
      "text/html": [
       "<pre>recommendations finished on 75000/138493 queries. users per second: 2103.49</pre>"
      ],
      "text/plain": [
       "recommendations finished on 75000/138493 queries. users per second: 2103.49"
      ]
     },
     "metadata": {
      "tags": []
     },
     "output_type": "display_data"
    },
    {
     "data": {
      "text/html": [
       "<pre>recommendations finished on 76000/138493 queries. users per second: 2104</pre>"
      ],
      "text/plain": [
       "recommendations finished on 76000/138493 queries. users per second: 2104"
      ]
     },
     "metadata": {
      "tags": []
     },
     "output_type": "display_data"
    },
    {
     "data": {
      "text/html": [
       "<pre>recommendations finished on 77000/138493 queries. users per second: 2104.05</pre>"
      ],
      "text/plain": [
       "recommendations finished on 77000/138493 queries. users per second: 2104.05"
      ]
     },
     "metadata": {
      "tags": []
     },
     "output_type": "display_data"
    },
    {
     "data": {
      "text/html": [
       "<pre>recommendations finished on 78000/138493 queries. users per second: 2103.17</pre>"
      ],
      "text/plain": [
       "recommendations finished on 78000/138493 queries. users per second: 2103.17"
      ]
     },
     "metadata": {
      "tags": []
     },
     "output_type": "display_data"
    },
    {
     "data": {
      "text/html": [
       "<pre>recommendations finished on 79000/138493 queries. users per second: 2103.23</pre>"
      ],
      "text/plain": [
       "recommendations finished on 79000/138493 queries. users per second: 2103.23"
      ]
     },
     "metadata": {
      "tags": []
     },
     "output_type": "display_data"
    },
    {
     "data": {
      "text/html": [
       "<pre>recommendations finished on 80000/138493 queries. users per second: 2102.11</pre>"
      ],
      "text/plain": [
       "recommendations finished on 80000/138493 queries. users per second: 2102.11"
      ]
     },
     "metadata": {
      "tags": []
     },
     "output_type": "display_data"
    },
    {
     "data": {
      "text/html": [
       "<pre>recommendations finished on 81000/138493 queries. users per second: 2101.44</pre>"
      ],
      "text/plain": [
       "recommendations finished on 81000/138493 queries. users per second: 2101.44"
      ]
     },
     "metadata": {
      "tags": []
     },
     "output_type": "display_data"
    },
    {
     "data": {
      "text/html": [
       "<pre>recommendations finished on 82000/138493 queries. users per second: 2101.69</pre>"
      ],
      "text/plain": [
       "recommendations finished on 82000/138493 queries. users per second: 2101.69"
      ]
     },
     "metadata": {
      "tags": []
     },
     "output_type": "display_data"
    },
    {
     "data": {
      "text/html": [
       "<pre>recommendations finished on 83000/138493 queries. users per second: 2101.05</pre>"
      ],
      "text/plain": [
       "recommendations finished on 83000/138493 queries. users per second: 2101.05"
      ]
     },
     "metadata": {
      "tags": []
     },
     "output_type": "display_data"
    },
    {
     "data": {
      "text/html": [
       "<pre>recommendations finished on 84000/138493 queries. users per second: 2100.86</pre>"
      ],
      "text/plain": [
       "recommendations finished on 84000/138493 queries. users per second: 2100.86"
      ]
     },
     "metadata": {
      "tags": []
     },
     "output_type": "display_data"
    },
    {
     "data": {
      "text/html": [
       "<pre>recommendations finished on 85000/138493 queries. users per second: 2100.71</pre>"
      ],
      "text/plain": [
       "recommendations finished on 85000/138493 queries. users per second: 2100.71"
      ]
     },
     "metadata": {
      "tags": []
     },
     "output_type": "display_data"
    },
    {
     "data": {
      "text/html": [
       "<pre>recommendations finished on 86000/138493 queries. users per second: 2100.55</pre>"
      ],
      "text/plain": [
       "recommendations finished on 86000/138493 queries. users per second: 2100.55"
      ]
     },
     "metadata": {
      "tags": []
     },
     "output_type": "display_data"
    },
    {
     "data": {
      "text/html": [
       "<pre>recommendations finished on 87000/138493 queries. users per second: 2100.67</pre>"
      ],
      "text/plain": [
       "recommendations finished on 87000/138493 queries. users per second: 2100.67"
      ]
     },
     "metadata": {
      "tags": []
     },
     "output_type": "display_data"
    },
    {
     "data": {
      "text/html": [
       "<pre>recommendations finished on 88000/138493 queries. users per second: 2100.17</pre>"
      ],
      "text/plain": [
       "recommendations finished on 88000/138493 queries. users per second: 2100.17"
      ]
     },
     "metadata": {
      "tags": []
     },
     "output_type": "display_data"
    },
    {
     "data": {
      "text/html": [
       "<pre>recommendations finished on 89000/138493 queries. users per second: 2100.64</pre>"
      ],
      "text/plain": [
       "recommendations finished on 89000/138493 queries. users per second: 2100.64"
      ]
     },
     "metadata": {
      "tags": []
     },
     "output_type": "display_data"
    },
    {
     "data": {
      "text/html": [
       "<pre>recommendations finished on 90000/138493 queries. users per second: 2100.73</pre>"
      ],
      "text/plain": [
       "recommendations finished on 90000/138493 queries. users per second: 2100.73"
      ]
     },
     "metadata": {
      "tags": []
     },
     "output_type": "display_data"
    },
    {
     "data": {
      "text/html": [
       "<pre>recommendations finished on 91000/138493 queries. users per second: 2100.29</pre>"
      ],
      "text/plain": [
       "recommendations finished on 91000/138493 queries. users per second: 2100.29"
      ]
     },
     "metadata": {
      "tags": []
     },
     "output_type": "display_data"
    },
    {
     "data": {
      "text/html": [
       "<pre>recommendations finished on 92000/138493 queries. users per second: 2100.66</pre>"
      ],
      "text/plain": [
       "recommendations finished on 92000/138493 queries. users per second: 2100.66"
      ]
     },
     "metadata": {
      "tags": []
     },
     "output_type": "display_data"
    },
    {
     "data": {
      "text/html": [
       "<pre>recommendations finished on 93000/138493 queries. users per second: 2100.98</pre>"
      ],
      "text/plain": [
       "recommendations finished on 93000/138493 queries. users per second: 2100.98"
      ]
     },
     "metadata": {
      "tags": []
     },
     "output_type": "display_data"
    },
    {
     "data": {
      "text/html": [
       "<pre>recommendations finished on 94000/138493 queries. users per second: 2100.47</pre>"
      ],
      "text/plain": [
       "recommendations finished on 94000/138493 queries. users per second: 2100.47"
      ]
     },
     "metadata": {
      "tags": []
     },
     "output_type": "display_data"
    },
    {
     "data": {
      "text/html": [
       "<pre>recommendations finished on 95000/138493 queries. users per second: 2100.26</pre>"
      ],
      "text/plain": [
       "recommendations finished on 95000/138493 queries. users per second: 2100.26"
      ]
     },
     "metadata": {
      "tags": []
     },
     "output_type": "display_data"
    },
    {
     "data": {
      "text/html": [
       "<pre>recommendations finished on 96000/138493 queries. users per second: 2100.12</pre>"
      ],
      "text/plain": [
       "recommendations finished on 96000/138493 queries. users per second: 2100.12"
      ]
     },
     "metadata": {
      "tags": []
     },
     "output_type": "display_data"
    },
    {
     "data": {
      "text/html": [
       "<pre>recommendations finished on 97000/138493 queries. users per second: 2100.6</pre>"
      ],
      "text/plain": [
       "recommendations finished on 97000/138493 queries. users per second: 2100.6"
      ]
     },
     "metadata": {
      "tags": []
     },
     "output_type": "display_data"
    },
    {
     "data": {
      "text/html": [
       "<pre>recommendations finished on 98000/138493 queries. users per second: 2100.95</pre>"
      ],
      "text/plain": [
       "recommendations finished on 98000/138493 queries. users per second: 2100.95"
      ]
     },
     "metadata": {
      "tags": []
     },
     "output_type": "display_data"
    },
    {
     "data": {
      "text/html": [
       "<pre>recommendations finished on 99000/138493 queries. users per second: 2100.39</pre>"
      ],
      "text/plain": [
       "recommendations finished on 99000/138493 queries. users per second: 2100.39"
      ]
     },
     "metadata": {
      "tags": []
     },
     "output_type": "display_data"
    },
    {
     "data": {
      "text/html": [
       "<pre>recommendations finished on 100000/138493 queries. users per second: 2100.18</pre>"
      ],
      "text/plain": [
       "recommendations finished on 100000/138493 queries. users per second: 2100.18"
      ]
     },
     "metadata": {
      "tags": []
     },
     "output_type": "display_data"
    },
    {
     "data": {
      "text/html": [
       "<pre>recommendations finished on 101000/138493 queries. users per second: 2100.53</pre>"
      ],
      "text/plain": [
       "recommendations finished on 101000/138493 queries. users per second: 2100.53"
      ]
     },
     "metadata": {
      "tags": []
     },
     "output_type": "display_data"
    },
    {
     "data": {
      "text/html": [
       "<pre>recommendations finished on 102000/138493 queries. users per second: 2100.65</pre>"
      ],
      "text/plain": [
       "recommendations finished on 102000/138493 queries. users per second: 2100.65"
      ]
     },
     "metadata": {
      "tags": []
     },
     "output_type": "display_data"
    },
    {
     "data": {
      "text/html": [
       "<pre>recommendations finished on 103000/138493 queries. users per second: 2100.66</pre>"
      ],
      "text/plain": [
       "recommendations finished on 103000/138493 queries. users per second: 2100.66"
      ]
     },
     "metadata": {
      "tags": []
     },
     "output_type": "display_data"
    },
    {
     "data": {
      "text/html": [
       "<pre>recommendations finished on 104000/138493 queries. users per second: 2099.95</pre>"
      ],
      "text/plain": [
       "recommendations finished on 104000/138493 queries. users per second: 2099.95"
      ]
     },
     "metadata": {
      "tags": []
     },
     "output_type": "display_data"
    },
    {
     "data": {
      "text/html": [
       "<pre>recommendations finished on 105000/138493 queries. users per second: 2100.7</pre>"
      ],
      "text/plain": [
       "recommendations finished on 105000/138493 queries. users per second: 2100.7"
      ]
     },
     "metadata": {
      "tags": []
     },
     "output_type": "display_data"
    },
    {
     "data": {
      "text/html": [
       "<pre>recommendations finished on 106000/138493 queries. users per second: 2101.62</pre>"
      ],
      "text/plain": [
       "recommendations finished on 106000/138493 queries. users per second: 2101.62"
      ]
     },
     "metadata": {
      "tags": []
     },
     "output_type": "display_data"
    },
    {
     "data": {
      "text/html": [
       "<pre>recommendations finished on 107000/138493 queries. users per second: 2101.38</pre>"
      ],
      "text/plain": [
       "recommendations finished on 107000/138493 queries. users per second: 2101.38"
      ]
     },
     "metadata": {
      "tags": []
     },
     "output_type": "display_data"
    },
    {
     "data": {
      "text/html": [
       "<pre>recommendations finished on 108000/138493 queries. users per second: 2101.85</pre>"
      ],
      "text/plain": [
       "recommendations finished on 108000/138493 queries. users per second: 2101.85"
      ]
     },
     "metadata": {
      "tags": []
     },
     "output_type": "display_data"
    },
    {
     "data": {
      "text/html": [
       "<pre>recommendations finished on 109000/138493 queries. users per second: 2101.23</pre>"
      ],
      "text/plain": [
       "recommendations finished on 109000/138493 queries. users per second: 2101.23"
      ]
     },
     "metadata": {
      "tags": []
     },
     "output_type": "display_data"
    },
    {
     "data": {
      "text/html": [
       "<pre>recommendations finished on 110000/138493 queries. users per second: 2100.86</pre>"
      ],
      "text/plain": [
       "recommendations finished on 110000/138493 queries. users per second: 2100.86"
      ]
     },
     "metadata": {
      "tags": []
     },
     "output_type": "display_data"
    },
    {
     "data": {
      "text/html": [
       "<pre>recommendations finished on 111000/138493 queries. users per second: 2100.97</pre>"
      ],
      "text/plain": [
       "recommendations finished on 111000/138493 queries. users per second: 2100.97"
      ]
     },
     "metadata": {
      "tags": []
     },
     "output_type": "display_data"
    },
    {
     "data": {
      "text/html": [
       "<pre>recommendations finished on 112000/138493 queries. users per second: 2100.81</pre>"
      ],
      "text/plain": [
       "recommendations finished on 112000/138493 queries. users per second: 2100.81"
      ]
     },
     "metadata": {
      "tags": []
     },
     "output_type": "display_data"
    },
    {
     "data": {
      "text/html": [
       "<pre>recommendations finished on 113000/138493 queries. users per second: 2100.94</pre>"
      ],
      "text/plain": [
       "recommendations finished on 113000/138493 queries. users per second: 2100.94"
      ]
     },
     "metadata": {
      "tags": []
     },
     "output_type": "display_data"
    },
    {
     "data": {
      "text/html": [
       "<pre>recommendations finished on 114000/138493 queries. users per second: 2101.02</pre>"
      ],
      "text/plain": [
       "recommendations finished on 114000/138493 queries. users per second: 2101.02"
      ]
     },
     "metadata": {
      "tags": []
     },
     "output_type": "display_data"
    },
    {
     "data": {
      "text/html": [
       "<pre>recommendations finished on 115000/138493 queries. users per second: 2100.83</pre>"
      ],
      "text/plain": [
       "recommendations finished on 115000/138493 queries. users per second: 2100.83"
      ]
     },
     "metadata": {
      "tags": []
     },
     "output_type": "display_data"
    },
    {
     "data": {
      "text/html": [
       "<pre>recommendations finished on 116000/138493 queries. users per second: 2101.18</pre>"
      ],
      "text/plain": [
       "recommendations finished on 116000/138493 queries. users per second: 2101.18"
      ]
     },
     "metadata": {
      "tags": []
     },
     "output_type": "display_data"
    },
    {
     "data": {
      "text/html": [
       "<pre>recommendations finished on 117000/138493 queries. users per second: 2100.96</pre>"
      ],
      "text/plain": [
       "recommendations finished on 117000/138493 queries. users per second: 2100.96"
      ]
     },
     "metadata": {
      "tags": []
     },
     "output_type": "display_data"
    },
    {
     "data": {
      "text/html": [
       "<pre>recommendations finished on 118000/138493 queries. users per second: 2100.85</pre>"
      ],
      "text/plain": [
       "recommendations finished on 118000/138493 queries. users per second: 2100.85"
      ]
     },
     "metadata": {
      "tags": []
     },
     "output_type": "display_data"
    },
    {
     "data": {
      "text/html": [
       "<pre>recommendations finished on 119000/138493 queries. users per second: 2101.1</pre>"
      ],
      "text/plain": [
       "recommendations finished on 119000/138493 queries. users per second: 2101.1"
      ]
     },
     "metadata": {
      "tags": []
     },
     "output_type": "display_data"
    },
    {
     "data": {
      "text/html": [
       "<pre>recommendations finished on 120000/138493 queries. users per second: 2101.03</pre>"
      ],
      "text/plain": [
       "recommendations finished on 120000/138493 queries. users per second: 2101.03"
      ]
     },
     "metadata": {
      "tags": []
     },
     "output_type": "display_data"
    },
    {
     "data": {
      "text/html": [
       "<pre>recommendations finished on 121000/138493 queries. users per second: 2101.22</pre>"
      ],
      "text/plain": [
       "recommendations finished on 121000/138493 queries. users per second: 2101.22"
      ]
     },
     "metadata": {
      "tags": []
     },
     "output_type": "display_data"
    },
    {
     "data": {
      "text/html": [
       "<pre>recommendations finished on 122000/138493 queries. users per second: 2101.73</pre>"
      ],
      "text/plain": [
       "recommendations finished on 122000/138493 queries. users per second: 2101.73"
      ]
     },
     "metadata": {
      "tags": []
     },
     "output_type": "display_data"
    },
    {
     "data": {
      "text/html": [
       "<pre>recommendations finished on 123000/138493 queries. users per second: 2101.42</pre>"
      ],
      "text/plain": [
       "recommendations finished on 123000/138493 queries. users per second: 2101.42"
      ]
     },
     "metadata": {
      "tags": []
     },
     "output_type": "display_data"
    },
    {
     "data": {
      "text/html": [
       "<pre>recommendations finished on 124000/138493 queries. users per second: 2101.28</pre>"
      ],
      "text/plain": [
       "recommendations finished on 124000/138493 queries. users per second: 2101.28"
      ]
     },
     "metadata": {
      "tags": []
     },
     "output_type": "display_data"
    },
    {
     "data": {
      "text/html": [
       "<pre>recommendations finished on 125000/138493 queries. users per second: 2100.61</pre>"
      ],
      "text/plain": [
       "recommendations finished on 125000/138493 queries. users per second: 2100.61"
      ]
     },
     "metadata": {
      "tags": []
     },
     "output_type": "display_data"
    },
    {
     "data": {
      "text/html": [
       "<pre>recommendations finished on 126000/138493 queries. users per second: 2100.85</pre>"
      ],
      "text/plain": [
       "recommendations finished on 126000/138493 queries. users per second: 2100.85"
      ]
     },
     "metadata": {
      "tags": []
     },
     "output_type": "display_data"
    },
    {
     "data": {
      "text/html": [
       "<pre>recommendations finished on 127000/138493 queries. users per second: 2100.73</pre>"
      ],
      "text/plain": [
       "recommendations finished on 127000/138493 queries. users per second: 2100.73"
      ]
     },
     "metadata": {
      "tags": []
     },
     "output_type": "display_data"
    },
    {
     "data": {
      "text/html": [
       "<pre>recommendations finished on 128000/138493 queries. users per second: 2100.34</pre>"
      ],
      "text/plain": [
       "recommendations finished on 128000/138493 queries. users per second: 2100.34"
      ]
     },
     "metadata": {
      "tags": []
     },
     "output_type": "display_data"
    },
    {
     "data": {
      "text/html": [
       "<pre>recommendations finished on 129000/138493 queries. users per second: 2100.64</pre>"
      ],
      "text/plain": [
       "recommendations finished on 129000/138493 queries. users per second: 2100.64"
      ]
     },
     "metadata": {
      "tags": []
     },
     "output_type": "display_data"
    },
    {
     "data": {
      "text/html": [
       "<pre>recommendations finished on 130000/138493 queries. users per second: 2100.26</pre>"
      ],
      "text/plain": [
       "recommendations finished on 130000/138493 queries. users per second: 2100.26"
      ]
     },
     "metadata": {
      "tags": []
     },
     "output_type": "display_data"
    },
    {
     "data": {
      "text/html": [
       "<pre>recommendations finished on 131000/138493 queries. users per second: 2100.42</pre>"
      ],
      "text/plain": [
       "recommendations finished on 131000/138493 queries. users per second: 2100.42"
      ]
     },
     "metadata": {
      "tags": []
     },
     "output_type": "display_data"
    },
    {
     "data": {
      "text/html": [
       "<pre>recommendations finished on 132000/138493 queries. users per second: 2100.26</pre>"
      ],
      "text/plain": [
       "recommendations finished on 132000/138493 queries. users per second: 2100.26"
      ]
     },
     "metadata": {
      "tags": []
     },
     "output_type": "display_data"
    },
    {
     "data": {
      "text/html": [
       "<pre>recommendations finished on 133000/138493 queries. users per second: 2100.1</pre>"
      ],
      "text/plain": [
       "recommendations finished on 133000/138493 queries. users per second: 2100.1"
      ]
     },
     "metadata": {
      "tags": []
     },
     "output_type": "display_data"
    },
    {
     "data": {
      "text/html": [
       "<pre>recommendations finished on 134000/138493 queries. users per second: 2100.28</pre>"
      ],
      "text/plain": [
       "recommendations finished on 134000/138493 queries. users per second: 2100.28"
      ]
     },
     "metadata": {
      "tags": []
     },
     "output_type": "display_data"
    },
    {
     "data": {
      "text/html": [
       "<pre>recommendations finished on 135000/138493 queries. users per second: 2100.63</pre>"
      ],
      "text/plain": [
       "recommendations finished on 135000/138493 queries. users per second: 2100.63"
      ]
     },
     "metadata": {
      "tags": []
     },
     "output_type": "display_data"
    },
    {
     "data": {
      "text/html": [
       "<pre>recommendations finished on 136000/138493 queries. users per second: 2100.08</pre>"
      ],
      "text/plain": [
       "recommendations finished on 136000/138493 queries. users per second: 2100.08"
      ]
     },
     "metadata": {
      "tags": []
     },
     "output_type": "display_data"
    },
    {
     "data": {
      "text/html": [
       "<pre>recommendations finished on 137000/138493 queries. users per second: 2099.82</pre>"
      ],
      "text/plain": [
       "recommendations finished on 137000/138493 queries. users per second: 2099.82"
      ]
     },
     "metadata": {
      "tags": []
     },
     "output_type": "display_data"
    },
    {
     "data": {
      "text/html": [
       "<pre>recommendations finished on 138000/138493 queries. users per second: 2098.16</pre>"
      ],
      "text/plain": [
       "recommendations finished on 138000/138493 queries. users per second: 2098.16"
      ]
     },
     "metadata": {
      "tags": []
     },
     "output_type": "display_data"
    },
    {
     "name": "stdout",
     "output_type": "stream",
     "text": [
      "+--------+---------+---------------------+------+\n",
      "| userId | movieId |        score        | rank |\n",
      "+--------+---------+---------------------+------+\n",
      "|   1    |   1682  | 0.08997867686407907 |  1   |\n",
      "|   1    |   2115  | 0.08676330430167062 |  2   |\n",
      "|   1    |   1580  | 0.08470123972211566 |  3   |\n",
      "|   1    |   1265  | 0.08374577590397426 |  4   |\n",
      "|   1    |   3578  | 0.08367959431239537 |  5   |\n",
      "|   1    |   1527  | 0.08159969432013375 |  6   |\n",
      "|   1    |   2571  | 0.07945986543382917 |  7   |\n",
      "|   1    |   1270  | 0.07668366568429129 |  8   |\n",
      "|   1    |   3793  | 0.07137173175811767 |  9   |\n",
      "|   1    |   5349  | 0.07035016877310617 |  10  |\n",
      "+--------+---------+---------------------+------+\n",
      "[1384930 rows x 4 columns]\n",
      "Note: Only the head of the SFrame is printed.\n",
      "You can use print_rows(num_rows=m, num_columns=n) to print more rows and columns.\n"
     ]
    }
   ],
   "source": [
    "results = model.recommend()"
   ]
  },
  {
   "cell_type": "code",
   "execution_count": null,
   "metadata": {
    "colab": {
     "base_uri": "https://localhost:8080/",
     "height": 323
    },
    "id": "6uIfIguZqMfQ",
    "outputId": "7a16a50f-bbbc-4a24-da2c-080c7247bd4d"
   },
   "outputs": [
    {
     "name": "stdout",
     "output_type": "stream",
     "text": [
      "+--------+---------+---------------------+------+\n",
      "| userId | movieId |        score        | rank |\n",
      "+--------+---------+---------------------+------+\n",
      "|   1    |   1682  | 0.08997867686407907 |  1   |\n",
      "|   1    |   2115  | 0.08676330430167062 |  2   |\n",
      "|   1    |   1580  | 0.08470123972211566 |  3   |\n",
      "|   1    |   1265  | 0.08374577590397426 |  4   |\n",
      "|   1    |   3578  | 0.08367959431239537 |  5   |\n",
      "|   1    |   1527  | 0.08159969432013375 |  6   |\n",
      "|   1    |   2571  | 0.07945986543382917 |  7   |\n",
      "|   1    |   1270  | 0.07668366568429129 |  8   |\n",
      "|   1    |   3793  | 0.07137173175811767 |  9   |\n",
      "|   1    |   5349  | 0.07035016877310617 |  10  |\n",
      "+--------+---------+---------------------+------+\n",
      "[1384930 rows x 4 columns]\n",
      "Note: Only the head of the SFrame is printed.\n",
      "You can use print_rows(num_rows=m, num_columns=n) to print more rows and columns.\n"
     ]
    }
   ],
   "source": [
    "print(results)"
   ]
  },
  {
   "cell_type": "code",
   "execution_count": null,
   "metadata": {
    "colab": {
     "base_uri": "https://localhost:8080/",
     "height": 1457
    },
    "id": "liHsY4ALqO8F",
    "outputId": "13142aa7-23bb-472e-bf06-600bde9006c0"
   },
   "outputs": [
    {
     "name": "stdout",
     "output_type": "stream",
     "text": [
      "+---------+-------------------------+---------------------+\n",
      "| movieId |          title          |        genres       |\n",
      "+---------+-------------------------+---------------------+\n",
      "|   1682  | Truman Show, The (1998) | Comedy|Drama|Sci-Fi |\n",
      "+---------+-------------------------+---------------------+\n",
      "[? rows x 3 columns]\n",
      "Note: Only the head of the SFrame is printed. This SFrame is lazily evaluated.\n",
      "You can use sf.materialize() to force materialization.\n",
      "+---------+-------------------------------+--------------------------+\n",
      "| movieId |             title             |          genres          |\n",
      "+---------+-------------------------------+--------------------------+\n",
      "|   2115  | Indiana Jones and the Temp... | Action|Adventure|Fantasy |\n",
      "+---------+-------------------------------+--------------------------+\n",
      "[? rows x 3 columns]\n",
      "Note: Only the head of the SFrame is printed. This SFrame is lazily evaluated.\n",
      "You can use sf.materialize() to force materialization.\n",
      "+---------+-------------------------------+----------------------+\n",
      "| movieId |             title             |        genres        |\n",
      "+---------+-------------------------------+----------------------+\n",
      "|   1580  | Men in Black (a.k.a. MIB) ... | Action|Comedy|Sci-Fi |\n",
      "+---------+-------------------------------+----------------------+\n",
      "[? rows x 3 columns]\n",
      "Note: Only the head of the SFrame is printed. This SFrame is lazily evaluated.\n",
      "You can use sf.materialize() to force materialization.\n",
      "+---------+----------------------+------------------------+\n",
      "| movieId |        title         |         genres         |\n",
      "+---------+----------------------+------------------------+\n",
      "|   1265  | Groundhog Day (1993) | Comedy|Fantasy|Romance |\n",
      "+---------+----------------------+------------------------+\n",
      "[? rows x 3 columns]\n",
      "Note: Only the head of the SFrame is printed. This SFrame is lazily evaluated.\n",
      "You can use sf.materialize() to force materialization.\n",
      "+---------+------------------+------------------------+\n",
      "| movieId |      title       |         genres         |\n",
      "+---------+------------------+------------------------+\n",
      "|   3578  | Gladiator (2000) | Action|Adventure|Drama |\n",
      "+---------+------------------+------------------------+\n",
      "[? rows x 3 columns]\n",
      "Note: Only the head of the SFrame is printed. This SFrame is lazily evaluated.\n",
      "You can use sf.materialize() to force materialization.\n",
      "+---------+---------------------------+--------------------------------+\n",
      "| movieId |           title           |             genres             |\n",
      "+---------+---------------------------+--------------------------------+\n",
      "|   1527  | Fifth Element, The (1997) | Action|Adventure|Comedy|Sci-Fi |\n",
      "+---------+---------------------------+--------------------------------+\n",
      "[? rows x 3 columns]\n",
      "Note: Only the head of the SFrame is printed. This SFrame is lazily evaluated.\n",
      "You can use sf.materialize() to force materialization.\n",
      "+---------+--------------------+------------------------+\n",
      "| movieId |       title        |         genres         |\n",
      "+---------+--------------------+------------------------+\n",
      "|   2571  | Matrix, The (1999) | Action|Sci-Fi|Thriller |\n",
      "+---------+--------------------+------------------------+\n",
      "[? rows x 3 columns]\n",
      "Note: Only the head of the SFrame is printed. This SFrame is lazily evaluated.\n",
      "You can use sf.materialize() to force materialization.\n",
      "+---------+---------------------------+-------------------------+\n",
      "| movieId |           title           |          genres         |\n",
      "+---------+---------------------------+-------------------------+\n",
      "|   1270  | Back to the Future (1985) | Adventure|Comedy|Sci-Fi |\n",
      "+---------+---------------------------+-------------------------+\n",
      "[? rows x 3 columns]\n",
      "Note: Only the head of the SFrame is printed. This SFrame is lazily evaluated.\n",
      "You can use sf.materialize() to force materialization.\n",
      "+---------+--------------+-------------------------+\n",
      "| movieId |    title     |          genres         |\n",
      "+---------+--------------+-------------------------+\n",
      "|   3793  | X-Men (2000) | Action|Adventure|Sci-Fi |\n",
      "+---------+--------------+-------------------------+\n",
      "[? rows x 3 columns]\n",
      "Note: Only the head of the SFrame is printed. This SFrame is lazily evaluated.\n",
      "You can use sf.materialize() to force materialization.\n",
      "+---------+-------------------+-------------------------------+\n",
      "| movieId |       title       |             genres            |\n",
      "+---------+-------------------+-------------------------------+\n",
      "|   5349  | Spider-Man (2002) | Action|Adventure|Sci-Fi|Th... |\n",
      "+---------+-------------------+-------------------------------+\n",
      "[? rows x 3 columns]\n",
      "Note: Only the head of the SFrame is printed. This SFrame is lazily evaluated.\n",
      "You can use sf.materialize() to force materialization.\n"
     ]
    }
   ],
   "source": [
    "for i in range(10):\n",
    "  print(items[results[\"movieId\"][i]==items[\"movieId\"]])\n"
   ]
  },
  {
   "cell_type": "code",
   "execution_count": null,
   "metadata": {
    "id": "FzoYwzhpwyJX"
   },
   "outputs": [],
   "source": [
    "def print_favorite_movie(row):\n",
    "  if row[\"rating\"] > 4.0:\n",
    "    print(items[row[\"movieId\"]==items[\"movieId\"]])\n",
    "\n",
    "def print_movie(row):\n",
    "  print(items[row[\"movieId\"]==items[\"movieId\"]])"
   ]
  },
  {
   "cell_type": "code",
   "execution_count": null,
   "metadata": {
    "id": "KmkQAwyez6op"
   },
   "outputs": [],
   "source": [
    "test_user_id = 7"
   ]
  },
  {
   "cell_type": "code",
   "execution_count": null,
   "metadata": {
    "colab": {
     "base_uri": "https://localhost:8080/",
     "height": 1819
    },
    "id": "IgXR9YI6zZTl",
    "outputId": "01a70f90-2503-42f8-f545-18d1196909ea"
   },
   "outputs": [
    {
     "name": "stdout",
     "output_type": "stream",
     "text": [
      "+--------+---------+--------+------------+\n",
      "| userId | movieId | rating | timestamp  |\n",
      "+--------+---------+--------+------------+\n",
      "|   7    |   2028  |  5.0   | 1011205481 |\n",
      "|   7    |   480   |  5.0   | 1011206779 |\n",
      "|   7    |   1721  |  5.0   | 1011207965 |\n",
      "|   7    |   3479  |  5.0   | 1011207916 |\n",
      "|   7    |   912   |  5.0   | 1011204596 |\n",
      "|   7    |   587   |  5.0   | 1011208220 |\n",
      "|   7    |   589   |  5.0   | 1011206456 |\n",
      "|   7    |   2942  |  5.0   | 1011206321 |\n",
      "|   7    |   3417  |  5.0   | 1011206698 |\n",
      "|   7    |   1077  |  5.0   | 1011206898 |\n",
      "+--------+---------+--------+------------+\n",
      "[10 rows x 4 columns]\n",
      "\n",
      "+---------+----------------------------+------------------+\n",
      "| movieId |           title            |      genres      |\n",
      "+---------+----------------------------+------------------+\n",
      "|   2028  | Saving Private Ryan (1998) | Action|Drama|War |\n",
      "+---------+----------------------------+------------------+\n",
      "[? rows x 3 columns]\n",
      "Note: Only the head of the SFrame is printed. This SFrame is lazily evaluated.\n",
      "You can use sf.materialize() to force materialization.\n",
      "+---------+----------------------+-------------------------------+\n",
      "| movieId |        title         |             genres            |\n",
      "+---------+----------------------+-------------------------------+\n",
      "|   480   | Jurassic Park (1993) | Action|Adventure|Sci-Fi|Th... |\n",
      "+---------+----------------------+-------------------------------+\n",
      "[? rows x 3 columns]\n",
      "Note: Only the head of the SFrame is printed. This SFrame is lazily evaluated.\n",
      "You can use sf.materialize() to force materialization.\n",
      "+---------+----------------+---------------+\n",
      "| movieId |     title      |     genres    |\n",
      "+---------+----------------+---------------+\n",
      "|   1721  | Titanic (1997) | Drama|Romance |\n",
      "+---------+----------------+---------------+\n",
      "[? rows x 3 columns]\n",
      "Note: Only the head of the SFrame is printed. This SFrame is lazily evaluated.\n",
      "You can use sf.materialize() to force materialization.\n",
      "+---------+------------------+---------------------------+\n",
      "| movieId |      title       |           genres          |\n",
      "+---------+------------------+---------------------------+\n",
      "|   3479  | Ladyhawke (1985) | Adventure|Fantasy|Romance |\n",
      "+---------+------------------+---------------------------+\n",
      "[? rows x 3 columns]\n",
      "Note: Only the head of the SFrame is printed. This SFrame is lazily evaluated.\n",
      "You can use sf.materialize() to force materialization.\n",
      "+---------+-------------------+---------------+\n",
      "| movieId |       title       |     genres    |\n",
      "+---------+-------------------+---------------+\n",
      "|   912   | Casablanca (1942) | Drama|Romance |\n",
      "+---------+-------------------+---------------+\n",
      "[? rows x 3 columns]\n",
      "Note: Only the head of the SFrame is printed. This SFrame is lazily evaluated.\n",
      "You can use sf.materialize() to force materialization.\n",
      "+---------+--------------+-------------------------------+\n",
      "| movieId |    title     |             genres            |\n",
      "+---------+--------------+-------------------------------+\n",
      "|   587   | Ghost (1990) | Comedy|Drama|Fantasy|Roman... |\n",
      "+---------+--------------+-------------------------------+\n",
      "[? rows x 3 columns]\n",
      "Note: Only the head of the SFrame is printed. This SFrame is lazily evaluated.\n",
      "You can use sf.materialize() to force materialization.\n",
      "+---------+-------------------------------+---------------+\n",
      "| movieId |             title             |     genres    |\n",
      "+---------+-------------------------------+---------------+\n",
      "|   589   | Terminator 2: Judgment Day... | Action|Sci-Fi |\n",
      "+---------+-------------------------------+---------------+\n",
      "[? rows x 3 columns]\n",
      "Note: Only the head of the SFrame is printed. This SFrame is lazily evaluated.\n",
      "You can use sf.materialize() to force materialization.\n",
      "+---------+-------------------+---------------+\n",
      "| movieId |       title       |     genres    |\n",
      "+---------+-------------------+---------------+\n",
      "|   2942  | Flashdance (1983) | Drama|Romance |\n",
      "+---------+-------------------+---------------+\n",
      "[? rows x 3 columns]\n",
      "Note: Only the head of the SFrame is printed. This SFrame is lazily evaluated.\n",
      "You can use sf.materialize() to force materialization.\n",
      "+---------+----------------------------+------------------+\n",
      "| movieId |           title            |      genres      |\n",
      "+---------+----------------------------+------------------+\n",
      "|   3417  | Crimson Pirate, The (1952) | Adventure|Comedy |\n",
      "+---------+----------------------------+------------------+\n",
      "[? rows x 3 columns]\n",
      "Note: Only the head of the SFrame is printed. This SFrame is lazily evaluated.\n",
      "You can use sf.materialize() to force materialization.\n",
      "+---------+----------------+---------------+\n",
      "| movieId |     title      |     genres    |\n",
      "+---------+----------------+---------------+\n",
      "|   1077  | Sleeper (1973) | Comedy|Sci-Fi |\n",
      "+---------+----------------+---------------+\n",
      "[? rows x 3 columns]\n",
      "Note: Only the head of the SFrame is printed. This SFrame is lazily evaluated.\n",
      "You can use sf.materialize() to force materialization.\n"
     ]
    },
    {
     "data": {
      "text/plain": [
       "dtype: float\n",
       "Rows: 276\n",
       "[None, None, None, None, None, None, None, None, None, None, None, None, None, None, None, None, None, None, None, None, None, None, None, None, None, None, None, None, None, None, None, None, None, None, None, None, None, None, None, None, None, None, None, None, None, None, None, None, None, None, None, None, None, None, None, None, None, None, None, None, None, None, None, None, None, None, None, None, None, None, None, None, None, None, None, None, None, None, None, None, None, None, None, None, None, None, None, None, None, None, None, None, None, None, None, None, None, None, None, None, ... ]"
      ]
     },
     "execution_count": 81,
     "metadata": {
      "tags": []
     },
     "output_type": "execute_result"
    }
   ],
   "source": [
    "test_user_actions = actions[actions[\"userId\"]==test_user_id].sort(\"rating\", ascending = False)\n",
    "print(test_user_actions.head())\n",
    "test_user_actions.apply(print_favorite_movie)"
   ]
  },
  {
   "cell_type": "code",
   "execution_count": null,
   "metadata": {
    "colab": {
     "base_uri": "https://localhost:8080/",
     "height": 1511
    },
    "id": "NK8CswuruRS6",
    "outputId": "1d9521e9-608e-4fb6-a503-51c8f4a4f35a"
   },
   "outputs": [
    {
     "name": "stdout",
     "output_type": "stream",
     "text": [
      "+---------+------------------------+------------------------+\n",
      "| movieId |         title          |         genres         |\n",
      "+---------+------------------------+------------------------+\n",
      "|   1240  | Terminator, The (1984) | Action|Sci-Fi|Thriller |\n",
      "+---------+------------------------+------------------------+\n",
      "[? rows x 3 columns]\n",
      "Note: Only the head of the SFrame is printed. This SFrame is lazily evaluated.\n",
      "You can use sf.materialize() to force materialization.\n",
      "+---------+-------------------------------+------------------+\n",
      "| movieId |             title             |      genres      |\n",
      "+---------+-------------------------------+------------------+\n",
      "|   1291  | Indiana Jones and the Last... | Action|Adventure |\n",
      "+---------+-------------------------------+------------------+\n",
      "[? rows x 3 columns]\n",
      "Note: Only the head of the SFrame is printed. This SFrame is lazily evaluated.\n",
      "You can use sf.materialize() to force materialization.\n",
      "+---------+-------------------------------+--------------------------+\n",
      "| movieId |             title             |          genres          |\n",
      "+---------+-------------------------------+--------------------------+\n",
      "|   2115  | Indiana Jones and the Temp... | Action|Adventure|Fantasy |\n",
      "+---------+-------------------------------+--------------------------+\n",
      "[? rows x 3 columns]\n",
      "Note: Only the head of the SFrame is printed. This SFrame is lazily evaluated.\n",
      "You can use sf.materialize() to force materialization.\n",
      "+---------+-----------------+-----------------------+\n",
      "| movieId |      title      |         genres        |\n",
      "+---------+-----------------+-----------------------+\n",
      "|   1036  | Die Hard (1988) | Action|Crime|Thriller |\n",
      "+---------+-----------------+-----------------------+\n",
      "[? rows x 3 columns]\n",
      "Note: Only the head of the SFrame is printed. This SFrame is lazily evaluated.\n",
      "You can use sf.materialize() to force materialization.\n",
      "+---------+---------------------------+--------------------------------+\n",
      "| movieId |           title           |             genres             |\n",
      "+---------+---------------------------+--------------------------------+\n",
      "|   1527  | Fifth Element, The (1997) | Action|Adventure|Comedy|Sci-Fi |\n",
      "+---------+---------------------------+--------------------------------+\n",
      "[? rows x 3 columns]\n",
      "Note: Only the head of the SFrame is printed. This SFrame is lazily evaluated.\n",
      "You can use sf.materialize() to force materialization.\n",
      "+---------+-------------------------------+------------------+\n",
      "| movieId |             title             |      genres      |\n",
      "+---------+-------------------------------+------------------+\n",
      "|   1198  | Raiders of the Lost Ark (I... | Action|Adventure |\n",
      "+---------+-------------------------------+------------------+\n",
      "[? rows x 3 columns]\n",
      "Note: Only the head of the SFrame is printed. This SFrame is lazily evaluated.\n",
      "You can use sf.materialize() to force materialization.\n",
      "+---------+-------------------------------+----------------+\n",
      "| movieId |             title             |     genres     |\n",
      "+---------+-------------------------------+----------------+\n",
      "|   1923  | There's Something About Ma... | Comedy|Romance |\n",
      "+---------+-------------------------------+----------------+\n",
      "[? rows x 3 columns]\n",
      "Note: Only the head of the SFrame is printed. This SFrame is lazily evaluated.\n",
      "You can use sf.materialize() to force materialization.\n",
      "+---------+--------------------+------------------------+\n",
      "| movieId |       title        |         genres         |\n",
      "+---------+--------------------+------------------------+\n",
      "|   2571  | Matrix, The (1999) | Action|Sci-Fi|Thriller |\n",
      "+---------+--------------------+------------------------+\n",
      "[? rows x 3 columns]\n",
      "Note: Only the head of the SFrame is printed. This SFrame is lazily evaluated.\n",
      "You can use sf.materialize() to force materialization.\n",
      "+---------+--------------+---------------+\n",
      "| movieId |    title     |     genres    |\n",
      "+---------+--------------+---------------+\n",
      "|   1214  | Alien (1979) | Horror|Sci-Fi |\n",
      "+---------+--------------+---------------+\n",
      "[? rows x 3 columns]\n",
      "Note: Only the head of the SFrame is printed. This SFrame is lazily evaluated.\n",
      "You can use sf.materialize() to force materialization.\n",
      "+---------+-------------+---------------+\n",
      "| movieId |    title    |     genres    |\n",
      "+---------+-------------+---------------+\n",
      "|   1387  | Jaws (1975) | Action|Horror |\n",
      "+---------+-------------+---------------+\n",
      "[? rows x 3 columns]\n",
      "Note: Only the head of the SFrame is printed. This SFrame is lazily evaluated.\n",
      "You can use sf.materialize() to force materialization.\n"
     ]
    },
    {
     "data": {
      "text/plain": [
       "dtype: float\n",
       "Rows: 10\n",
       "[None, None, None, None, None, None, None, None, None, None]"
      ]
     },
     "execution_count": 82,
     "metadata": {
      "tags": []
     },
     "output_type": "execute_result"
    }
   ],
   "source": [
    "test_user_recommendations = model.recommend(users=[test_user_id])\n",
    "test_user_recommendations.apply(print_movie)"
   ]
  },
  {
   "cell_type": "markdown",
   "metadata": {
    "id": "1gBffuCCtYB2"
   },
   "source": [
    "## Saving and loading models\n",
    "\n",
    "The model can be saved for later use. The saved model sits in its own directory, and can be loaded back in later to make more predictions."
   ]
  },
  {
   "cell_type": "code",
   "execution_count": null,
   "metadata": {
    "id": "LEB31pPltYmT"
   },
   "outputs": [],
   "source": [
    "model.save(\"Recommender.model\")"
   ]
  },
  {
   "cell_type": "code",
   "execution_count": null,
   "metadata": {
    "id": "m32DbB-ltYpV"
   },
   "outputs": [],
   "source": [
    "model = tc.load_model(\"Recommender.model\")"
   ]
  },
  {
   "cell_type": "code",
   "execution_count": null,
   "metadata": {
    "colab": {
     "base_uri": "https://localhost:8080/",
     "height": 89
    },
    "id": "sSPXYdsbtuS3",
    "outputId": "bd12b4c8-22b4-4c74-a9bf-733c29998395"
   },
   "outputs": [
    {
     "name": "stdout",
     "output_type": "stream",
     "text": [
      "This model is exported as a custom Core ML model. In order to use it in your\n",
      "application, you must also include \"libRecommender.dylib\". For additional\n",
      "details see:\n",
      "https://apple.github.io/turicreate/docs/userguide/recommender/coreml-deployment.html\n"
     ]
    }
   ],
   "source": [
    "# Export for use in Core ML\n",
    "model.export_coreml('Recommender.mlmodel')"
   ]
  },
  {
   "cell_type": "code",
   "execution_count": null,
   "metadata": {
    "id": "uqHi56XHtzy6"
   },
   "outputs": [],
   "source": [
    "# download mlmodel locally\n",
    "from google.colab import files\n",
    "files.download(\"Recommender.mlmodel\")"
   ]
  },
  {
   "cell_type": "code",
   "execution_count": null,
   "metadata": {
    "id": "7WdZ52Kpt4OE"
   },
   "outputs": [],
   "source": [
    "# copy model to Google Drive\n",
    "from shutil import copy\n",
    "copy(\"/content/Recommender.mlmodel\", \"/content/drive/My Drive/Colab Notebooks/data/models/Recommender.mlmodel\")"
   ]
  },
  {
   "cell_type": "code",
   "execution_count": null,
   "metadata": {
    "id": "aew_bDGWt4zh"
   },
   "outputs": [],
   "source": [
    "# copy model to Google Drive\n",
    "from shutil import copytree\n",
    "copytree(\"/content/Recommender.model\", \"/content/drive/My Drive/Colab Notebooks/data/models/Recommender.model\")"
   ]
  },
  {
   "cell_type": "markdown",
   "metadata": {
    "id": "p2RWUfSysy3E"
   },
   "source": [
    "## Using Models"
   ]
  },
  {
   "cell_type": "markdown",
   "metadata": {
    "id": "2nmZuD1SrowQ"
   },
   "source": [
    "A FactorizationRecommender learns latent factors for each user and item and uses them to make rating predictions.\n",
    "https://apple.github.io/turicreate/docs/api/generated/turicreate.recommender.factorization_recommender.create.html"
   ]
  },
  {
   "cell_type": "code",
   "execution_count": null,
   "metadata": {
    "colab": {
     "base_uri": "https://localhost:8080/",
     "height": 169
    },
    "id": "i7r1uOpB-IjS",
    "outputId": "04fafac3-1117-4a50-a48a-aeebfc1dee06"
   },
   "outputs": [
    {
     "data": {
      "text/html": [
       "<div style=\"max-height:1000px;max-width:1500px;overflow:auto;\"><table frame=\"box\" rules=\"cols\">\n",
       "    <tr>\n",
       "        <th style=\"padding-left: 1em; padding-right: 1em; text-align: center\">item_id</th>\n",
       "        <th style=\"padding-left: 1em; padding-right: 1em; text-align: center\">rating</th>\n",
       "        <th style=\"padding-left: 1em; padding-right: 1em; text-align: center\">user_id</th>\n",
       "    </tr>\n",
       "    <tr>\n",
       "        <td style=\"padding-left: 1em; padding-right: 1em; text-align: center; vertical-align: top\">Item1</td>\n",
       "        <td style=\"padding-left: 1em; padding-right: 1em; text-align: center; vertical-align: top\">1</td>\n",
       "        <td style=\"padding-left: 1em; padding-right: 1em; text-align: center; vertical-align: top\">Ann</td>\n",
       "    </tr>\n",
       "    <tr>\n",
       "        <td style=\"padding-left: 1em; padding-right: 1em; text-align: center; vertical-align: top\">Item2</td>\n",
       "        <td style=\"padding-left: 1em; padding-right: 1em; text-align: center; vertical-align: top\">3</td>\n",
       "        <td style=\"padding-left: 1em; padding-right: 1em; text-align: center; vertical-align: top\">Ann</td>\n",
       "    </tr>\n",
       "    <tr>\n",
       "        <td style=\"padding-left: 1em; padding-right: 1em; text-align: center; vertical-align: top\">Item4</td>\n",
       "        <td style=\"padding-left: 1em; padding-right: 1em; text-align: center; vertical-align: top\">2</td>\n",
       "        <td style=\"padding-left: 1em; padding-right: 1em; text-align: center; vertical-align: top\">Ann</td>\n",
       "    </tr>\n",
       "    <tr>\n",
       "        <td style=\"padding-left: 1em; padding-right: 1em; text-align: center; vertical-align: top\">Item2</td>\n",
       "        <td style=\"padding-left: 1em; padding-right: 1em; text-align: center; vertical-align: top\">5</td>\n",
       "        <td style=\"padding-left: 1em; padding-right: 1em; text-align: center; vertical-align: top\">Brian</td>\n",
       "    </tr>\n",
       "    <tr>\n",
       "        <td style=\"padding-left: 1em; padding-right: 1em; text-align: center; vertical-align: top\">Item3</td>\n",
       "        <td style=\"padding-left: 1em; padding-right: 1em; text-align: center; vertical-align: top\">4</td>\n",
       "        <td style=\"padding-left: 1em; padding-right: 1em; text-align: center; vertical-align: top\">Brian</td>\n",
       "    </tr>\n",
       "    <tr>\n",
       "        <td style=\"padding-left: 1em; padding-right: 1em; text-align: center; vertical-align: top\">Item5</td>\n",
       "        <td style=\"padding-left: 1em; padding-right: 1em; text-align: center; vertical-align: top\">2</td>\n",
       "        <td style=\"padding-left: 1em; padding-right: 1em; text-align: center; vertical-align: top\">Brian</td>\n",
       "    </tr>\n",
       "</table>\n",
       "[6 rows x 3 columns]<br/>\n",
       "</div>"
      ],
      "text/plain": [
       "Columns:\n",
       "\titem_id\tstr\n",
       "\trating\tint\n",
       "\tuser_id\tstr\n",
       "\n",
       "Rows: 6\n",
       "\n",
       "Data:\n",
       "+---------+--------+---------+\n",
       "| item_id | rating | user_id |\n",
       "+---------+--------+---------+\n",
       "|  Item1  |   1    |   Ann   |\n",
       "|  Item2  |   3    |   Ann   |\n",
       "|  Item4  |   2    |   Ann   |\n",
       "|  Item2  |   5    |  Brian  |\n",
       "|  Item3  |   4    |  Brian  |\n",
       "|  Item5  |   2    |  Brian  |\n",
       "+---------+--------+---------+\n",
       "[6 rows x 3 columns]"
      ]
     },
     "execution_count": 17,
     "metadata": {
      "tags": []
     },
     "output_type": "execute_result"
    }
   ],
   "source": [
    "data = tc.SFrame({'user_id': [\"Ann\", \"Ann\", \"Ann\", \"Brian\", \"Brian\", \"Brian\"],\n",
    "                          'item_id': [\"Item1\", \"Item2\", \"Item4\", \"Item2\", \"Item3\", \"Item5\"],\n",
    "                          'rating': [1, 3, 2, 5, 4, 2]})\n",
    "data"
   ]
  },
  {
   "cell_type": "code",
   "execution_count": null,
   "metadata": {
    "colab": {
     "base_uri": "https://localhost:8080/",
     "height": 539
    },
    "id": "aXXt_FrIoVjE",
    "outputId": "7058f10c-0452-4991-da9c-01c9992c84cc"
   },
   "outputs": [
    {
     "data": {
      "text/html": [
       "<pre>Recsys training: model = factorization_recommender</pre>"
      ],
      "text/plain": [
       "Recsys training: model = factorization_recommender"
      ]
     },
     "metadata": {
      "tags": []
     },
     "output_type": "display_data"
    },
    {
     "data": {
      "text/html": [
       "<pre>Preparing data set.</pre>"
      ],
      "text/plain": [
       "Preparing data set."
      ]
     },
     "metadata": {
      "tags": []
     },
     "output_type": "display_data"
    },
    {
     "data": {
      "text/html": [
       "<pre>    Data has 6 observations with 2 users and 5 items.</pre>"
      ],
      "text/plain": [
       "    Data has 6 observations with 2 users and 5 items."
      ]
     },
     "metadata": {
      "tags": []
     },
     "output_type": "display_data"
    },
    {
     "data": {
      "text/html": [
       "<pre>    Data prepared in: 0.012081s</pre>"
      ],
      "text/plain": [
       "    Data prepared in: 0.012081s"
      ]
     },
     "metadata": {
      "tags": []
     },
     "output_type": "display_data"
    },
    {
     "data": {
      "text/html": [
       "<pre>Training factorization_recommender for recommendations.</pre>"
      ],
      "text/plain": [
       "Training factorization_recommender for recommendations."
      ]
     },
     "metadata": {
      "tags": []
     },
     "output_type": "display_data"
    },
    {
     "data": {
      "text/html": [
       "<pre>+--------------------------------+--------------------------------------------------+----------+</pre>"
      ],
      "text/plain": [
       "+--------------------------------+--------------------------------------------------+----------+"
      ]
     },
     "metadata": {
      "tags": []
     },
     "output_type": "display_data"
    },
    {
     "data": {
      "text/html": [
       "<pre>| Parameter                      | Description                                      | Value    |</pre>"
      ],
      "text/plain": [
       "| Parameter                      | Description                                      | Value    |"
      ]
     },
     "metadata": {
      "tags": []
     },
     "output_type": "display_data"
    },
    {
     "data": {
      "text/html": [
       "<pre>+--------------------------------+--------------------------------------------------+----------+</pre>"
      ],
      "text/plain": [
       "+--------------------------------+--------------------------------------------------+----------+"
      ]
     },
     "metadata": {
      "tags": []
     },
     "output_type": "display_data"
    },
    {
     "data": {
      "text/html": [
       "<pre>| num_factors                    | Factor Dimension                                 | 8        |</pre>"
      ],
      "text/plain": [
       "| num_factors                    | Factor Dimension                                 | 8        |"
      ]
     },
     "metadata": {
      "tags": []
     },
     "output_type": "display_data"
    },
    {
     "data": {
      "text/html": [
       "<pre>| regularization                 | L2 Regularization on Factors                     | 1e-08    |</pre>"
      ],
      "text/plain": [
       "| regularization                 | L2 Regularization on Factors                     | 1e-08    |"
      ]
     },
     "metadata": {
      "tags": []
     },
     "output_type": "display_data"
    },
    {
     "data": {
      "text/html": [
       "<pre>| solver                         | Solver used for training                         | sgd      |</pre>"
      ],
      "text/plain": [
       "| solver                         | Solver used for training                         | sgd      |"
      ]
     },
     "metadata": {
      "tags": []
     },
     "output_type": "display_data"
    },
    {
     "data": {
      "text/html": [
       "<pre>| linear_regularization          | L2 Regularization on Linear Coefficients         | 1e-10    |</pre>"
      ],
      "text/plain": [
       "| linear_regularization          | L2 Regularization on Linear Coefficients         | 1e-10    |"
      ]
     },
     "metadata": {
      "tags": []
     },
     "output_type": "display_data"
    },
    {
     "data": {
      "text/html": [
       "<pre>| max_iterations                 | Maximum Number of Iterations                     | 50       |</pre>"
      ],
      "text/plain": [
       "| max_iterations                 | Maximum Number of Iterations                     | 50       |"
      ]
     },
     "metadata": {
      "tags": []
     },
     "output_type": "display_data"
    },
    {
     "data": {
      "text/html": [
       "<pre>+--------------------------------+--------------------------------------------------+----------+</pre>"
      ],
      "text/plain": [
       "+--------------------------------+--------------------------------------------------+----------+"
      ]
     },
     "metadata": {
      "tags": []
     },
     "output_type": "display_data"
    },
    {
     "data": {
      "text/html": [
       "<pre>  Optimizing model using SGD; tuning step size.</pre>"
      ],
      "text/plain": [
       "  Optimizing model using SGD; tuning step size."
      ]
     },
     "metadata": {
      "tags": []
     },
     "output_type": "display_data"
    },
    {
     "data": {
      "text/html": [
       "<pre>  Using 6 / 6 points for tuning the step size.</pre>"
      ],
      "text/plain": [
       "  Using 6 / 6 points for tuning the step size."
      ]
     },
     "metadata": {
      "tags": []
     },
     "output_type": "display_data"
    },
    {
     "data": {
      "text/html": [
       "<pre>+---------+-------------------+------------------------------------------+</pre>"
      ],
      "text/plain": [
       "+---------+-------------------+------------------------------------------+"
      ]
     },
     "metadata": {
      "tags": []
     },
     "output_type": "display_data"
    },
    {
     "data": {
      "text/html": [
       "<pre>| Attempt | Initial Step Size | Estimated Objective Value                |</pre>"
      ],
      "text/plain": [
       "| Attempt | Initial Step Size | Estimated Objective Value                |"
      ]
     },
     "metadata": {
      "tags": []
     },
     "output_type": "display_data"
    },
    {
     "data": {
      "text/html": [
       "<pre>+---------+-------------------+------------------------------------------+</pre>"
      ],
      "text/plain": [
       "+---------+-------------------+------------------------------------------+"
      ]
     },
     "metadata": {
      "tags": []
     },
     "output_type": "display_data"
    },
    {
     "data": {
      "text/html": [
       "<pre>| 0       | 25                | Not Viable                               |</pre>"
      ],
      "text/plain": [
       "| 0       | 25                | Not Viable                               |"
      ]
     },
     "metadata": {
      "tags": []
     },
     "output_type": "display_data"
    },
    {
     "data": {
      "text/html": [
       "<pre>| 1       | 6.25              | Not Viable                               |</pre>"
      ],
      "text/plain": [
       "| 1       | 6.25              | Not Viable                               |"
      ]
     },
     "metadata": {
      "tags": []
     },
     "output_type": "display_data"
    },
    {
     "data": {
      "text/html": [
       "<pre>| 2       | 1.5625            | 0.333467                                 |</pre>"
      ],
      "text/plain": [
       "| 2       | 1.5625            | 0.333467                                 |"
      ]
     },
     "metadata": {
      "tags": []
     },
     "output_type": "display_data"
    },
    {
     "data": {
      "text/html": [
       "<pre>| 3       | 0.78125           | 0.00615055                               |</pre>"
      ],
      "text/plain": [
       "| 3       | 0.78125           | 0.00615055                               |"
      ]
     },
     "metadata": {
      "tags": []
     },
     "output_type": "display_data"
    },
    {
     "data": {
      "text/html": [
       "<pre>| 4       | 0.390625          | 0.0213995                                |</pre>"
      ],
      "text/plain": [
       "| 4       | 0.390625          | 0.0213995                                |"
      ]
     },
     "metadata": {
      "tags": []
     },
     "output_type": "display_data"
    },
    {
     "data": {
      "text/html": [
       "<pre>+---------+-------------------+------------------------------------------+</pre>"
      ],
      "text/plain": [
       "+---------+-------------------+------------------------------------------+"
      ]
     },
     "metadata": {
      "tags": []
     },
     "output_type": "display_data"
    },
    {
     "data": {
      "text/html": [
       "<pre>| Final   | 0.78125           | 0.00615055                               |</pre>"
      ],
      "text/plain": [
       "| Final   | 0.78125           | 0.00615055                               |"
      ]
     },
     "metadata": {
      "tags": []
     },
     "output_type": "display_data"
    },
    {
     "data": {
      "text/html": [
       "<pre>+---------+-------------------+------------------------------------------+</pre>"
      ],
      "text/plain": [
       "+---------+-------------------+------------------------------------------+"
      ]
     },
     "metadata": {
      "tags": []
     },
     "output_type": "display_data"
    },
    {
     "data": {
      "text/html": [
       "<pre>Starting Optimization.</pre>"
      ],
      "text/plain": [
       "Starting Optimization."
      ]
     },
     "metadata": {
      "tags": []
     },
     "output_type": "display_data"
    },
    {
     "data": {
      "text/html": [
       "<pre>+---------+--------------+-------------------+-----------------------+-------------+</pre>"
      ],
      "text/plain": [
       "+---------+--------------+-------------------+-----------------------+-------------+"
      ]
     },
     "metadata": {
      "tags": []
     },
     "output_type": "display_data"
    }
   ],
   "source": [
    "m = tc.factorization_recommender.create(data, target='rating')"
   ]
  },
  {
   "cell_type": "code",
   "execution_count": null,
   "metadata": {
    "colab": {
     "base_uri": "https://localhost:8080/",
     "height": 197
    },
    "id": "J7kMYOqqoc19",
    "outputId": "9a195126-ae42-4d1d-e3b4-13b3feaf584b"
   },
   "outputs": [
    {
     "name": "stdout",
     "output_type": "stream",
     "text": [
      "+---------+---------+----------------------+------+\n",
      "| user_id | item_id |        score         | rank |\n",
      "+---------+---------+----------------------+------+\n",
      "|   Ann   |  Item3  |  2.0560873647530875  |  1   |\n",
      "|   Ann   |  Item5  | 0.055848081906636704 |  2   |\n",
      "|  Brian  |  Item4  |  3.9441206951936087  |  1   |\n",
      "|  Brian  |  Item1  |  2.9440365036328635  |  2   |\n",
      "+---------+---------+----------------------+------+\n",
      "[4 rows x 4 columns]\n",
      "\n"
     ]
    }
   ],
   "source": [
    "recommendations = m.recommend()\n",
    "print(recommendations)"
   ]
  },
  {
   "cell_type": "markdown",
   "metadata": {
    "id": "2b8vszUm-K_Q"
   },
   "source": [
    "### Making recommendations for specific users\n",
    "\n",
    "If you specify a list or SArray of users, recommend() returns recommendations for only those user(s). The user names must correspond to strings in the user_id column in the training data."
   ]
  },
  {
   "cell_type": "code",
   "execution_count": null,
   "metadata": {
    "colab": {
     "base_uri": "https://localhost:8080/",
     "height": 161
    },
    "id": "63DAjbMA-QzM",
    "outputId": "b3ff47ff-3efc-4f88-a601-c48878daf9ce"
   },
   "outputs": [
    {
     "name": "stdout",
     "output_type": "stream",
     "text": [
      "+---------+---------+--------------------+------+\n",
      "| user_id | item_id |       score        | rank |\n",
      "+---------+---------+--------------------+------+\n",
      "|  Brian  |  Item4  | 3.9441206951936087 |  1   |\n",
      "|  Brian  |  Item1  | 2.9440365036328635 |  2   |\n",
      "+---------+---------+--------------------+------+\n",
      "[2 rows x 4 columns]\n",
      "\n"
     ]
    }
   ],
   "source": [
    "recommendations = m.recommend(users=['Brian'])\n",
    "print(recommendations)"
   ]
  },
  {
   "cell_type": "markdown",
   "metadata": {
    "id": "hipAQBZQ-TTN"
   },
   "source": [
    "### Making recommendations for specific users and items\n",
    "\n",
    "In situations where you build a model for all of your users and items, you may wish to limit the recommendations for particular users based on known item attributes. For example, for US-based customers you may want to limit recommendations to US-based products. The following code sample restricts recommendations to a subset of users and items -- specifically those users and items whose value in the 'country' column is equal to \"United States\"."
   ]
  },
  {
   "cell_type": "code",
   "execution_count": null,
   "metadata": {
    "id": "iKFSQQm9-W3O"
   },
   "outputs": [],
   "source": [
    "# need to create users and items with 'country' column to experiment\n",
    "country = 'United States'\n",
    "m.recommend(users=users['user_id'][users['country']==country].unique(),\n",
    "            items=items['item_id'][items['country']==country])"
   ]
  },
  {
   "cell_type": "markdown",
   "metadata": {
    "id": "H9WTm1md-aHR"
   },
   "source": [
    "### Making recommendations for new users\n",
    "\n",
    "This is known as the \"cold-start\" problem. The recommend() function works seamlessly with new users. If the model has never seen the user, then it defaults to recommending popular items:"
   ]
  },
  {
   "cell_type": "code",
   "execution_count": null,
   "metadata": {
    "colab": {
     "base_uri": "https://localhost:8080/",
     "height": 150
    },
    "id": "Rbi6g9vo-bpu",
    "outputId": "030e4815-ae44-4473-a64e-212f79892d43"
   },
   "outputs": [
    {
     "data": {
      "text/html": [
       "<div style=\"max-height:1000px;max-width:1500px;overflow:auto;\"><table frame=\"box\" rules=\"cols\">\n",
       "    <tr>\n",
       "        <th style=\"padding-left: 1em; padding-right: 1em; text-align: center\">user_id</th>\n",
       "        <th style=\"padding-left: 1em; padding-right: 1em; text-align: center\">item_id</th>\n",
       "        <th style=\"padding-left: 1em; padding-right: 1em; text-align: center\">score</th>\n",
       "        <th style=\"padding-left: 1em; padding-right: 1em; text-align: center\">rank</th>\n",
       "    </tr>\n",
       "    <tr>\n",
       "        <td style=\"padding-left: 1em; padding-right: 1em; text-align: center; vertical-align: top\">Charlie</td>\n",
       "        <td style=\"padding-left: 1em; padding-right: 1em; text-align: center; vertical-align: top\">Item2</td>\n",
       "        <td style=\"padding-left: 1em; padding-right: 1em; text-align: center; vertical-align: top\">4.166840751965841</td>\n",
       "        <td style=\"padding-left: 1em; padding-right: 1em; text-align: center; vertical-align: top\">1</td>\n",
       "    </tr>\n",
       "    <tr>\n",
       "        <td style=\"padding-left: 1em; padding-right: 1em; text-align: center; vertical-align: top\">Charlie</td>\n",
       "        <td style=\"padding-left: 1em; padding-right: 1em; text-align: center; vertical-align: top\">Item3</td>\n",
       "        <td style=\"padding-left: 1em; padding-right: 1em; text-align: center; vertical-align: top\">3.1991079946359</td>\n",
       "        <td style=\"padding-left: 1em; padding-right: 1em; text-align: center; vertical-align: top\">2</td>\n",
       "    </tr>\n",
       "    <tr>\n",
       "        <td style=\"padding-left: 1em; padding-right: 1em; text-align: center; vertical-align: top\">Charlie</td>\n",
       "        <td style=\"padding-left: 1em; padding-right: 1em; text-align: center; vertical-align: top\">Item4</td>\n",
       "        <td style=\"padding-left: 1em; padding-right: 1em; text-align: center; vertical-align: top\">3.134204169114431</td>\n",
       "        <td style=\"padding-left: 1em; padding-right: 1em; text-align: center; vertical-align: top\">3</td>\n",
       "    </tr>\n",
       "    <tr>\n",
       "        <td style=\"padding-left: 1em; padding-right: 1em; text-align: center; vertical-align: top\">Charlie</td>\n",
       "        <td style=\"padding-left: 1em; padding-right: 1em; text-align: center; vertical-align: top\">Item1</td>\n",
       "        <td style=\"padding-left: 1em; padding-right: 1em; text-align: center; vertical-align: top\">2.1341262062390647</td>\n",
       "        <td style=\"padding-left: 1em; padding-right: 1em; text-align: center; vertical-align: top\">4</td>\n",
       "    </tr>\n",
       "    <tr>\n",
       "        <td style=\"padding-left: 1em; padding-right: 1em; text-align: center; vertical-align: top\">Charlie</td>\n",
       "        <td style=\"padding-left: 1em; padding-right: 1em; text-align: center; vertical-align: top\">Item5</td>\n",
       "        <td style=\"padding-left: 1em; padding-right: 1em; text-align: center; vertical-align: top\">1.1988665660222373</td>\n",
       "        <td style=\"padding-left: 1em; padding-right: 1em; text-align: center; vertical-align: top\">5</td>\n",
       "    </tr>\n",
       "</table>\n",
       "[5 rows x 4 columns]<br/>\n",
       "</div>"
      ],
      "text/plain": [
       "Columns:\n",
       "\tuser_id\tstr\n",
       "\titem_id\tstr\n",
       "\tscore\tfloat\n",
       "\trank\tint\n",
       "\n",
       "Rows: 5\n",
       "\n",
       "Data:\n",
       "+---------+---------+--------------------+------+\n",
       "| user_id | item_id |       score        | rank |\n",
       "+---------+---------+--------------------+------+\n",
       "| Charlie |  Item2  | 4.166840751965841  |  1   |\n",
       "| Charlie |  Item3  |  3.1991079946359   |  2   |\n",
       "| Charlie |  Item4  | 3.134204169114431  |  3   |\n",
       "| Charlie |  Item1  | 2.1341262062390647 |  4   |\n",
       "| Charlie |  Item5  | 1.1988665660222373 |  5   |\n",
       "+---------+---------+--------------------+------+\n",
       "[5 rows x 4 columns]"
      ]
     },
     "execution_count": 16,
     "metadata": {
      "tags": []
     },
     "output_type": "execute_result"
    }
   ],
   "source": [
    "m.recommend(['Charlie'])"
   ]
  },
  {
   "cell_type": "markdown",
   "metadata": {
    "id": "joGhDDTm-gRl"
   },
   "source": [
    "Here 'Charlie' is a new user that does not appear in the training data. Also note that you don't need to explicitly write down users=; Python automatically assumes that arguments are provided in order, so the first unnamed argument to recommend() is taken to be the user list."
   ]
  },
  {
   "cell_type": "markdown",
   "metadata": {
    "id": "ewj9dhlb-j7R"
   },
   "source": [
    "### Incorporating information about a new user\n",
    "\n",
    "To improve recommendations for new users, it helps to have side information or new observation data for the user.\n",
    "\n",
    "#### Incorporating new side information\n",
    "\n",
    "To incorporate side information, you must have already created a recommender model that knows how to incorporate side features. This can be done by passing in side information to create(). For example:"
   ]
  },
  {
   "cell_type": "code",
   "execution_count": null,
   "metadata": {
    "id": "kK783wQ2-qIY"
   },
   "outputs": [],
   "source": [
    "user_info = turicreate.SFrame({'user_id': ['Ann', 'Brian'],\n",
    "                                'age_category': ['2', '3']})\n",
    "m_side_info = turicreate.factorization_recommender.create(data, target='rating',\n",
    "                                                             user_data=user_info)"
   ]
  },
  {
   "cell_type": "markdown",
   "metadata": {
    "id": "YQz9dKeo-sO0"
   },
   "source": [
    "Now, we can add side information for the new user at recommendation time. The new side information must contain a column with the same name as the column in the training data that's designated as the 'user_id'. (For more details, please see the API documentation for turicreate.recommender.create.)"
   ]
  },
  {
   "cell_type": "code",
   "execution_count": null,
   "metadata": {
    "id": "YAhAD4f7-wqs"
   },
   "outputs": [],
   "source": [
    "new_user_info = turicreate.SFrame({'user_id' : ['Charlie'],\n",
    "                                 'age_category' : ['2']})\n",
    "recommendations = m_side_info.recommend(['Charlie'],\n",
    "                                        new_user_data = new_user_info)"
   ]
  },
  {
   "cell_type": "markdown",
   "metadata": {
    "id": "CAB5S-Jl-yzM"
   },
   "source": [
    "Given Charlie's age category, the model can incorporate what it knows about the importance of age categories for item recommendations. Currently, the following models can take side information into account when making recommendations: LinearRegressionModel, FactorizationRecommender. LinearRegressionModel is the simpler model, and FactorizationRecommender the more powerful. For more details on how each model makes use of side information, please refer to the model definition sections in the individual models' API documentation."
   ]
  },
  {
   "cell_type": "markdown",
   "metadata": {
    "id": "CLZ_iNAM-1KW"
   },
   "source": [
    "### Incorporating new observation data\n",
    "\n",
    "recommend() accepts new observation data. Currently, the ItemSimilarityModel makes the best use of this information."
   ]
  },
  {
   "cell_type": "code",
   "execution_count": null,
   "metadata": {
    "id": "USVw3fEP-7TP"
   },
   "outputs": [],
   "source": [
    "m_item_sim = turicreate.item_similarity_recommender.create(data)\n",
    "new_obs_data = turicreate.SFrame({'user_id' : ['Charlie', 'Charlie'],\n",
    "                                'item_id' : ['Item1', 'Item5']})\n",
    "recommendations = m_item_sim.recommend(['Charlie'], new_observation_data = new_obs_data)"
   ]
  },
  {
   "cell_type": "markdown",
   "metadata": {
    "id": "9OwlnGsL--JI"
   },
   "source": [
    "### Controlling the number of recommendations\n",
    "\n",
    "The input parameter k controls how many items to recommend for each user."
   ]
  },
  {
   "cell_type": "code",
   "execution_count": null,
   "metadata": {
    "id": "VIY8jxWl_ACp"
   },
   "outputs": [],
   "source": [
    "recommendations = m.recommend(k = 5)"
   ]
  },
  {
   "cell_type": "markdown",
   "metadata": {
    "id": "iQovDy5H_D2M"
   },
   "source": [
    "### Excluding specific items from recommendation\n",
    "\n",
    "Suppose you make some recommendations to the user and they ignored them. So now you want other recommendations. This can be done by explicitly excluding those undesirable items via the exclude keyword argument."
   ]
  },
  {
   "cell_type": "code",
   "execution_count": null,
   "metadata": {
    "id": "zCXirKgD_Gsk"
   },
   "outputs": [],
   "source": [
    "exclude_pairs = turicreate.SFrame({'user_id' : ['Ann'],\n",
    "                                    'item_id' : ['Item3']})\n",
    "\n",
    "recommendations = m.recommend(['Ann'], k = 5, exclude = exclude_pairs)"
   ]
  },
  {
   "cell_type": "markdown",
   "metadata": {
    "id": "sXCJMEMT_J2x"
   },
   "source": [
    "By default, recommend() excludes items seen during training, so that it would not recommend items that the user has already seen. To change this behavior, you can specify exclude_known=False."
   ]
  },
  {
   "cell_type": "code",
   "execution_count": null,
   "metadata": {
    "id": "ulAIP7vn_KZ3"
   },
   "outputs": [],
   "source": [
    "recommendations = m.recommend(exclude_known = False)"
   ]
  },
  {
   "cell_type": "markdown",
   "metadata": {
    "id": "HBHmqm1w_Nuk"
   },
   "source": [
    "### Including specific items in recommendation\n",
    "\n",
    "Suppose you want to see only recommendations within a subset of items. This can be done via the items keyword argument. The input must be an SArray of items."
   ]
  },
  {
   "cell_type": "code",
   "execution_count": null,
   "metadata": {
    "id": "dGooCUDE_PDO"
   },
   "outputs": [],
   "source": [
    "item_subset = turicreate.SArray([\"Item3\", \"Item5\", \"Item2\"])\n",
    "recommendations = m.recommend(['Ann'], items = item_subset)"
   ]
  },
  {
   "cell_type": "markdown",
   "metadata": {
    "id": "clMrmvIv_TAa"
   },
   "source": [
    "### Finding Similar Items\n",
    "\n",
    "Many of the above models make recommendations based on some notion of similarity between a pair of items. Querying for similar items can help you understand the model's behavior on your data.\n",
    "\n",
    "We have made this process very easy with the get_similar_items function:"
   ]
  },
  {
   "cell_type": "code",
   "execution_count": null,
   "metadata": {
    "id": "l38Wroep_WlO"
   },
   "outputs": [],
   "source": [
    "similar_items = model.get_similar_items(my_list_of_items, k=20)"
   ]
  },
  {
   "cell_type": "markdown",
   "metadata": {
    "id": "KbQT9l6d_Z-E"
   },
   "source": [
    "The above will return an SFrame containing the 20 nearest items for every item in my_list_of_items. The definition of \"nearest\" depends on the type of similarity used by the model. For instance, \"jaccard\" similarity measures the two item's overlapping users. The 'score' column contains a similarity score ranging between 0 and 1, where larger values indicate increasing similarity. The mathematical formula used for each type of similarity can be found in the API documentation for ItemSimilarityRecommender.\n",
    "\n",
    "For a factorization-based model, the similarity used for is the Euclidean distance between the items' two factors, which can be obtained using m['coefficients']."
   ]
  },
  {
   "cell_type": "markdown",
   "metadata": {
    "id": "qwH8f2O82BcU"
   },
   "source": [
    "## Choosing a Model\n",
    "\n",
    "https://apple.github.io/turicreate/docs/userguide/recommender/choosing-a-model.html"
   ]
  }
 ],
 "metadata": {
  "accelerator": "GPU",
  "colab": {
   "collapsed_sections": [],
   "name": "RecSys turicreate-recommender.ipynb",
   "provenance": [
    {
     "file_id": "https://github.com/jagatfx/turicreate-colab/blob/master/turicreate_recommender.ipynb",
     "timestamp": 1617530600974
    }
   ]
  },
  "kernelspec": {
   "display_name": "Python 3",
   "language": "python",
   "name": "python3"
  },
  "language_info": {
   "codemirror_mode": {
    "name": "ipython",
    "version": 3
   },
   "file_extension": ".py",
   "mimetype": "text/x-python",
   "name": "python",
   "nbconvert_exporter": "python",
   "pygments_lexer": "ipython3",
   "version": "3.7.3"
  }
 },
 "nbformat": 4,
 "nbformat_minor": 4
}
