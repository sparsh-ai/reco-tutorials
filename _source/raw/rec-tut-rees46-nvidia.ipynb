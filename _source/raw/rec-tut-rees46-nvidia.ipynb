{
 "cells": [
  {
   "cell_type": "code",
   "execution_count": 1,
   "metadata": {
    "colab": {
     "base_uri": "https://localhost:8080/"
    },
    "executionInfo": {
     "elapsed": 12110,
     "status": "ok",
     "timestamp": 1615019885280,
     "user": {
      "displayName": "Sparsh Agarwal",
      "photoUrl": "",
      "userId": "13037694610922482904"
     },
     "user_tz": -330
    },
    "id": "up7TW41Jr1-r",
    "outputId": "b924c8e5-17a9-49aa-ae47-f44ee51e650e"
   },
   "outputs": [
    {
     "name": "stdout",
     "output_type": "stream",
     "text": [
      "Sat Mar  6 08:37:55 2021       \n",
      "+-----------------------------------------------------------------------------+\n",
      "| NVIDIA-SMI 460.39       Driver Version: 460.32.03    CUDA Version: 11.2     |\n",
      "|-------------------------------+----------------------+----------------------+\n",
      "| GPU  Name        Persistence-M| Bus-Id        Disp.A | Volatile Uncorr. ECC |\n",
      "| Fan  Temp  Perf  Pwr:Usage/Cap|         Memory-Usage | GPU-Util  Compute M. |\n",
      "|                               |                      |               MIG M. |\n",
      "|===============================+======================+======================|\n",
      "|   0  Tesla T4            Off  | 00000000:00:04.0 Off |                    0 |\n",
      "| N/A   66C    P8    11W /  70W |      0MiB / 15109MiB |      0%      Default |\n",
      "|                               |                      |                  N/A |\n",
      "+-------------------------------+----------------------+----------------------+\n",
      "                                                                               \n",
      "+-----------------------------------------------------------------------------+\n",
      "| Processes:                                                                  |\n",
      "|  GPU   GI   CI        PID   Type   Process name                  GPU Memory |\n",
      "|        ID   ID                                                   Usage      |\n",
      "|=============================================================================|\n",
      "|  No running processes found                                                 |\n",
      "+-----------------------------------------------------------------------------+\n"
     ]
    }
   ],
   "source": [
    "!nvidia-smi"
   ]
  },
  {
   "cell_type": "code",
   "execution_count": null,
   "metadata": {
    "id": "C3ukhrGDCcWr"
   },
   "outputs": [],
   "source": [
    "# !pip install -q -U kaggle\r\n",
    "# !pip install --upgrade --force-reinstall --no-deps kaggle\r\n",
    "# !mkdir ~/.kaggle\r\n",
    "# !cp /content/drive/MyDrive/kaggle.json ~/.kaggle/\r\n",
    "# !chmod 600 ~/.kaggle/kaggle.json\r\n",
    "\r\n",
    "# download oct-nov files\r\n",
    "# !kaggle datasets download -d mkechinov/ecommerce-behavior-data-from-multi-category-store\r\n",
    "\r\n",
    "# download full archive\r\n",
    "!gdown --id \"1Nan8X33H8xrXS5XhCKZmSpClFTCJsSpE\"\r\n",
    "\r\n",
    "# unzip oct-nov files\r\n",
    "!unzip /content/ecommerce-behavior-data-from-multi-category-store.zip"
   ]
  },
  {
   "cell_type": "code",
   "execution_count": 5,
   "metadata": {
    "executionInfo": {
     "elapsed": 1126,
     "status": "ok",
     "timestamp": 1615020947977,
     "user": {
      "displayName": "Sparsh Agarwal",
      "photoUrl": "",
      "userId": "13037694610922482904"
     },
     "user_tz": -330
    },
    "id": "JEN73jiYssmn"
   },
   "outputs": [],
   "source": [
    "import pandas as pd\r\n",
    "import glob"
   ]
  },
  {
   "cell_type": "code",
   "execution_count": 8,
   "metadata": {
    "colab": {
     "base_uri": "https://localhost:8080/"
    },
    "executionInfo": {
     "elapsed": 1382,
     "status": "ok",
     "timestamp": 1615020985788,
     "user": {
      "displayName": "Sparsh Agarwal",
      "photoUrl": "",
      "userId": "13037694610922482904"
     },
     "user_tz": -330
    },
    "id": "CsWfZBC6uSiW",
    "outputId": "7d23451d-fe23-40bb-d725-9a8ba0ac5ecd"
   },
   "outputs": [
    {
     "data": {
      "text/plain": [
       "['./2019-Oct.csv', './2019-Nov.csv']"
      ]
     },
     "execution_count": 8,
     "metadata": {
      "tags": []
     },
     "output_type": "execute_result"
    }
   ],
   "source": [
    "list_files = glob.glob('./*.csv')\r\n",
    "list_files"
   ]
  },
  {
   "cell_type": "code",
   "execution_count": 10,
   "metadata": {
    "executionInfo": {
     "elapsed": 1307,
     "status": "ok",
     "timestamp": 1615021073083,
     "user": {
      "displayName": "Sparsh Agarwal",
      "photoUrl": "",
      "userId": "13037694610922482904"
     },
     "user_tz": -330
    },
    "id": "6jd7X3EjwEl-"
   },
   "outputs": [],
   "source": [
    "def process_files(file):\r\n",
    "    df_tmp = pd.read_csv(file)\r\n",
    "    df_tmp['session_purchase'] =  df_tmp['user_session'] + '_' + df_tmp['product_id'].astype(str)\r\n",
    "    df_purchase = df_tmp[df_tmp['event_type']=='purchase']\r\n",
    "    df_cart = df_tmp[df_tmp['event_type']=='cart']\r\n",
    "    df_purchase = df_purchase[df_purchase['session_purchase'].isin(df_cart['session_purchase'])]\r\n",
    "    df_cart = df_cart[~(df_cart['session_purchase'].isin(df_purchase['session_purchase']))]\r\n",
    "    df_cart['target'] = 0\r\n",
    "    df_purchase['target'] = 1\r\n",
    "    df = pd.concat([df_cart, df_purchase])\r\n",
    "    df = df.drop('category_id', axis=1)\r\n",
    "    df = df.drop('session_purchase', axis=1)\r\n",
    "    df[['cat_0', 'cat_1', 'cat_2', 'cat_3']] = df['category_code'].str.split(\"\\.\", n = 3, expand = True).fillna('NA')\r\n",
    "    df['brand'] = df['brand'].fillna('NA')\r\n",
    "    df = df.drop('category_code', axis=1)\r\n",
    "    df['timestamp'] = pd.to_datetime(df['event_time'].str.replace(' UTC', ''))\r\n",
    "    df['ts_hour'] = df['timestamp'].dt.hour\r\n",
    "    df['ts_minute'] = df['timestamp'].dt.minute\r\n",
    "    df['ts_weekday'] = df['timestamp'].dt.weekday\r\n",
    "    df['ts_day'] = df['timestamp'].dt.day\r\n",
    "    df['ts_month'] = df['timestamp'].dt.month\r\n",
    "    df['ts_year'] = df['timestamp'].dt.year\r\n",
    "    df.to_csv('./' + file.replace('../', ''), index=False)"
   ]
  },
  {
   "cell_type": "code",
   "execution_count": null,
   "metadata": {
    "colab": {
     "base_uri": "https://localhost:8080/"
    },
    "id": "rYSpvJsJwGxy",
    "outputId": "17473e3e-8faf-4af0-8534-0d1a058ddbd8"
   },
   "outputs": [
    {
     "name": "stdout",
     "output_type": "stream",
     "text": [
      "./2019-Oct.csv\n"
     ]
    }
   ],
   "source": [
    "for file in list_files:\r\n",
    "    print(file)\r\n",
    "    process_files(file)"
   ]
  },
  {
   "cell_type": "code",
   "execution_count": null,
   "metadata": {
    "id": "2grLJuuUwK2d"
   },
   "outputs": [],
   "source": []
  }
 ],
 "metadata": {
  "accelerator": "GPU",
  "colab": {
   "authorship_tag": "ABX9TyOpSXHVINVOiL1ErDbeL5h8",
   "collapsed_sections": [],
   "mount_file_id": "1jL-aN9KsZN_lAtwAQeoZwJTL-yRFudT_",
   "name": "RecSys REES46 Nvidia.ipynb",
   "provenance": [
    {
     "file_id": "1deqvSBy-bFcafd50Cc7MUvS0zIpWqKO4",
     "timestamp": 1615011050771
    },
    {
     "file_id": "1UimO_-U1n7wvwpjwSBD7IHmPy2qGd2xD",
     "timestamp": 1615005293063
    }
   ]
  },
  "kernelspec": {
   "display_name": "Python 3",
   "language": "python",
   "name": "python3"
  },
  "language_info": {
   "codemirror_mode": {
    "name": "ipython",
    "version": 3
   },
   "file_extension": ".py",
   "mimetype": "text/x-python",
   "name": "python",
   "nbconvert_exporter": "python",
   "pygments_lexer": "ipython3",
   "version": "3.7.3"
  }
 },
 "nbformat": 4,
 "nbformat_minor": 4
}
