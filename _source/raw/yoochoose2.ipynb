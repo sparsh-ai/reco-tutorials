{
 "cells": [
  {
   "cell_type": "code",
   "execution_count": 5,
   "metadata": {
    "colab": {
     "base_uri": "https://localhost:8080/",
     "height": 564
    },
    "colab_type": "code",
    "executionInfo": {
     "elapsed": 53490,
     "status": "ok",
     "timestamp": 1587282128005,
     "user": {
      "displayName": "Sparsh Agarwal",
      "photoUrl": "",
      "userId": "13037694610922482904"
     },
     "user_tz": -330
    },
    "id": "_7MU91xCXsJ5",
    "outputId": "8c6848f6-51a0-4e59-e4b9-5e1b3efb3096"
   },
   "outputs": [
    {
     "name": "stdout",
     "output_type": "stream",
     "text": [
      "Reading package lists... Done\n",
      "Building dependency tree       \n",
      "Reading state information... Done\n",
      "p7zip is already the newest version (16.02+dfsg-6).\n",
      "p7zip set to manually installed.\n",
      "0 upgraded, 0 newly installed, 0 to remove and 25 not upgraded.\n",
      "  % Total    % Received % Xferd  Average Speed   Time    Time     Time  Current\n",
      "                                 Dload  Upload   Total   Spent    Left  Speed\n",
      "100  273M  100  273M    0     0  27.1M      0  0:00:10  0:00:10 --:--:-- 31.1M\n",
      "\n",
      "7-Zip [64] 16.02 : Copyright (c) 1999-2016 Igor Pavlov : 2016-05-21\n",
      "p7zip Version 16.02 (locale=en_US.UTF-8,Utf16=on,HugeFiles=on,64 bits,2 CPUs Intel(R) Xeon(R) CPU @ 2.30GHz (306F0),ASM,AES-NI)\n",
      "\n",
      "Scanning the drive for archives:\n",
      "  0M Sca        1 file, 287211932 bytes (274 MiB)\n",
      "\n",
      "Extracting archive: yoochoose-data.7z\n",
      "--\n",
      "Path = yoochoose-data.7z\n",
      "Type = 7z\n",
      "Physical Size = 287211932\n",
      "Headers Size = 255\n",
      "Method = LZMA:24\n",
      "Solid = +\n",
      "Blocks = 2\n",
      "\n",
      "      0% - yoochoose-buys.da                          1% - yoochoose-buys.da                          2% - yoochoose-buys.da                          3% 1 - yoochoose-clicks.da                              4% 1 - yoochoose-clicks.da                              5% 1 - yoochoose-clicks.da                              6% 1 - yoochoose-clicks.da                              7% 1 - yoochoose-clicks.da                              8% 1 - yoochoose-clicks.da                              9% 1 - yoochoose-clicks.da                             10% 1 - yoochoose-clicks.da                             11% 1 - yoochoose-clicks.da                             12% 1 - yoochoose-clicks.da                             13% 1 - yoochoose-clicks.da                             14% 1 - yoochoose-clicks.da                             15% 1 - yoochoose-clicks.da                             16% 1 - yoochoose-clicks.da                             17% 1 - yoochoose-clicks.da                             18% 1 - yoochoose-clicks.da                             19% 1 - yoochoose-clicks.da                             20% 1 - yoochoose-clicks.da                             21% 1 - yoochoose-clicks.da                             22% 1 - yoochoose-clicks.da                             23% 1 - yoochoose-clicks.da                             24% 1 - yoochoose-clicks.da                             25% 1 - yoochoose-clicks.da                             26% 1 - yoochoose-clicks.da                             27% 1 - yoochoose-clicks.da                             28% 1 - yoochoose-clicks.da                             29% 1 - yoochoose-clicks.da                             30% 1 - yoochoose-clicks.da                             31% 1 - yoochoose-clicks.da                             32% 1 - yoochoose-clicks.da                             33% 1 - yoochoose-clicks.da                             34% 1 - yoochoose-clicks.da                             35% 1 - yoochoose-clicks.da                             36% 1 - yoochoose-clicks.da                             37% 1 - yoochoose-clicks.da                             38% 1 - yoochoose-clicks.da                             39% 1 - yoochoose-clicks.da                             40% 1 - yoochoose-clicks.da                             41% 1 - yoochoose-clicks.da                             42% 1 - yoochoose-clicks.da                             43% 1 - yoochoose-clicks.da                             44% 1 - yoochoose-clicks.da                             45% 1 - yoochoose-clicks.da                             46% 1 - yoochoose-clicks.da                             47% 1 - yoochoose-clicks.da                             48% 1 - yoochoose-clicks.da                             49% 1 - yoochoose-clicks.da                             50% 1 - yoochoose-clicks.da                             51% 1 - yoochoose-clicks.da                             52% 1 - yoochoose-clicks.da                             53% 1 - yoochoose-clicks.da                             54% 1 - yoochoose-clicks.da                             55% 1 - yoochoose-clicks.da                             56% 1 - yoochoose-clicks.da                             57% 1 - yoochoose-clicks.da                             58% 1 - yoochoose-clicks.da                             59% 1 - yoochoose-clicks.da                             60% 1 - yoochoose-clicks.da                             61% 1 - yoochoose-clicks.da                             62% 1 - yoochoose-clicks.da                             63% 1 - yoochoose-clicks.da                             64% 1 - yoochoose-clicks.da                             65% 1 - yoochoose-clicks.da                             66% 1 - yoochoose-clicks.da                             67% 1 - yoochoose-clicks.da                             68% 1 - yoochoose-clicks.da                             69% 1 - yoochoose-clicks.da                             70% 1 - yoochoose-clicks.da                             71% 1 - yoochoose-clicks.da                             72% 1 - yoochoose-clicks.da                             73% 1 - yoochoose-clicks.da                             74% 1 - yoochoose-clicks.da                             75% 1 - yoochoose-clicks.da                             76% 1 - yoochoose-clicks.da                             77% 1 - yoochoose-clicks.da                             78% 1 - yoochoose-clicks.da                             79% 1 - yoochoose-clicks.da                             80% 1 - yoochoose-clicks.da                             80% 2 - yoochoose-test.da                           81% 2 - yoochoose-test.da                           82% 2 - yoochoose-test.da                           83% 2 - yoochoose-test.da                           84% 2 - yoochoose-test.da                           85% 2 - yoochoose-test.da                           86% 2 - yoochoose-test.da                           87% 2 - yoochoose-test.da                           88% 2 - yoochoose-test.da                           89% 2 - yoochoose-test.da                           90% 2 - yoochoose-test.da                           91% 2 - yoochoose-test.da                           92% 2 - yoochoose-test.da                           93% 2 - yoochoose-test.da                           94% 2 - yoochoose-test.da                           95% 2 - yoochoose-test.da                           96% 2 - yoochoose-test.da                           97% 2 - yoochoose-test.da                           98% 2 - yoochoose-test.da                           99% 2 - yoochoose-test.da                           99%    Everything is Ok\n",
      "\n",
      "Files: 4\n",
      "Size:       1914111754\n",
      "Compressed: 287211932\n"
     ]
    }
   ],
   "source": [
    "#download data\n",
    "!apt-get install p7zip\n",
    "!curl -Lo yoochoose-data.7z https://s3-eu-west-1.amazonaws.com/yc-rdata/yoochoose-data.7z\n",
    "!7z x yoochoose-data.7z"
   ]
  },
  {
   "cell_type": "code",
   "execution_count": 6,
   "metadata": {
    "colab": {
     "base_uri": "https://localhost:8080/",
     "height": 224
    },
    "colab_type": "code",
    "executionInfo": {
     "elapsed": 9072,
     "status": "ok",
     "timestamp": 1587282351992,
     "user": {
      "displayName": "Sparsh Agarwal",
      "photoUrl": "",
      "userId": "13037694610922482904"
     },
     "user_tz": -330
    },
    "id": "95toGBGpYLrT",
    "outputId": "ffbf2135-c68e-4c24-8c97-3d9b5a8cb940"
   },
   "outputs": [
    {
     "name": "stdout",
     "output_type": "stream",
     "text": [
      "Collecting git+https://github.com/maciejkula/spotlight.git\n",
      "  Cloning https://github.com/maciejkula/spotlight.git to /tmp/pip-req-build-g7h_e3ty\n",
      "  Running command git clone -q https://github.com/maciejkula/spotlight.git /tmp/pip-req-build-g7h_e3ty\n",
      "Requirement already satisfied: torch>=0.4.0 in /usr/local/lib/python3.6/dist-packages (from spotlight==0.1.6) (1.4.0)\n",
      "Building wheels for collected packages: spotlight\n",
      "  Building wheel for spotlight (setup.py) ... \u001b[?25l\u001b[?25hdone\n",
      "  Created wheel for spotlight: filename=spotlight-0.1.6-cp36-none-any.whl size=33920 sha256=601a552eb8aeb365b691675f0b6d0376fe74f399d94c8d6428211a15bd1d16e8\n",
      "  Stored in directory: /tmp/pip-ephem-wheel-cache-xw2bib14/wheels/0a/33/c8/e8510ea648aaacf6031e128dfa92bcd3750f02db2aaf0922fe\n",
      "Successfully built spotlight\n",
      "Installing collected packages: spotlight\n",
      "Successfully installed spotlight-0.1.6\n"
     ]
    }
   ],
   "source": [
    "#installing packages\n",
    "!pip install git+https://github.com/maciejkula/spotlight.git"
   ]
  },
  {
   "cell_type": "code",
   "execution_count": 1,
   "metadata": {
    "colab": {
     "base_uri": "https://localhost:8080/",
     "height": 71
    },
    "colab_type": "code",
    "executionInfo": {
     "elapsed": 4180,
     "status": "ok",
     "timestamp": 1587285733874,
     "user": {
      "displayName": "Sparsh Agarwal",
      "photoUrl": "",
      "userId": "13037694610922482904"
     },
     "user_tz": -330
    },
    "id": "rVEPtfYyZnO8",
    "outputId": "0cbcce54-689a-4420-ce8d-391e0a58830f"
   },
   "outputs": [
    {
     "name": "stderr",
     "output_type": "stream",
     "text": [
      "/usr/local/lib/python3.6/dist-packages/statsmodels/tools/_testing.py:19: FutureWarning: pandas.util.testing is deprecated. Use the functions in the public API at pandas.testing instead.\n",
      "  import pandas.util.testing as tm\n"
     ]
    }
   ],
   "source": [
    "import os\n",
    "import numpy as np\n",
    "import pandas as pd\n",
    "import datetime as dt\n",
    "\n",
    "import matplotlib.pyplot as plt\n",
    "import seaborn as sns\n",
    "\n",
    "import warnings\n",
    "warnings.filterwarnings(\"ignore\")\n",
    "\n",
    "import time\n",
    "import h5py\n",
    "import hashlib\n",
    "import json\n",
    "import shutil\n",
    "import sys\n",
    "import torch\n",
    "\n",
    "from sklearn.model_selection import ParameterSampler\n",
    "from sklearn.preprocessing import LabelEncoder\n",
    "random_state = np.random.RandomState(100)\n",
    "\n",
    "from spotlight.interactions import Interactions\n",
    "from spotlight.evaluation import mrr_score\n",
    "from spotlight.evaluation import precision_recall_score\n",
    "from spotlight.sequence.implicit import ImplicitSequenceModel\n",
    "from spotlight.sequence.representations import CNNNet\n",
    "from spotlight.evaluation import sequence_mrr_score\n",
    "from spotlight.cross_validation import random_train_test_split\n",
    "from spotlight.cross_validation import user_based_train_test_split\n",
    "from spotlight.factorization.implicit import ImplicitFactorizationModel"
   ]
  },
  {
   "cell_type": "code",
   "execution_count": null,
   "metadata": {
    "colab": {},
    "colab_type": "code",
    "id": "GaHoHSfRj7WS"
   },
   "outputs": [],
   "source": [
    "# !git clone https://github.com/sparsh9012/python-util.git\n",
    "sys.path.append('./python-util')\n",
    "sys.path.append('./python-util/recsys')"
   ]
  },
  {
   "cell_type": "code",
   "execution_count": null,
   "metadata": {
    "colab": {},
    "colab_type": "code",
    "id": "6MZtx8SQkH-J"
   },
   "outputs": [],
   "source": [
    "from IPython.display import SVG, display\n",
    "from preprocess import encode_user_item, random_split, user_split"
   ]
  },
  {
   "cell_type": "markdown",
   "metadata": {
    "colab_type": "text",
    "id": "eCTMKQG9cH5F"
   },
   "source": [
    "Clicks data"
   ]
  },
  {
   "cell_type": "code",
   "execution_count": 5,
   "metadata": {
    "colab": {
     "base_uri": "https://localhost:8080/",
     "height": 204
    },
    "colab_type": "code",
    "executionInfo": {
     "elapsed": 33970,
     "status": "ok",
     "timestamp": 1587285780288,
     "user": {
      "displayName": "Sparsh Agarwal",
      "photoUrl": "",
      "userId": "13037694610922482904"
     },
     "user_tz": -330
    },
    "id": "VLDGuRyVZuV9",
    "outputId": "cad18afb-2742-431e-8ccd-8ba2b2130697"
   },
   "outputs": [
    {
     "data": {
      "text/html": [
       "<div>\n",
       "<style scoped>\n",
       "    .dataframe tbody tr th:only-of-type {\n",
       "        vertical-align: middle;\n",
       "    }\n",
       "\n",
       "    .dataframe tbody tr th {\n",
       "        vertical-align: top;\n",
       "    }\n",
       "\n",
       "    .dataframe thead th {\n",
       "        text-align: right;\n",
       "    }\n",
       "</style>\n",
       "<table border=\"1\" class=\"dataframe\">\n",
       "  <thead>\n",
       "    <tr style=\"text-align: right;\">\n",
       "      <th></th>\n",
       "      <th>SessionId</th>\n",
       "      <th>TimeStr</th>\n",
       "      <th>ItemId</th>\n",
       "      <th>Item_Type</th>\n",
       "    </tr>\n",
       "  </thead>\n",
       "  <tbody>\n",
       "    <tr>\n",
       "      <th>0</th>\n",
       "      <td>1</td>\n",
       "      <td>2014-04-07T10:51:09.277Z</td>\n",
       "      <td>214536502</td>\n",
       "      <td>0</td>\n",
       "    </tr>\n",
       "    <tr>\n",
       "      <th>1</th>\n",
       "      <td>1</td>\n",
       "      <td>2014-04-07T10:54:09.868Z</td>\n",
       "      <td>214536500</td>\n",
       "      <td>0</td>\n",
       "    </tr>\n",
       "    <tr>\n",
       "      <th>2</th>\n",
       "      <td>1</td>\n",
       "      <td>2014-04-07T10:54:46.998Z</td>\n",
       "      <td>214536506</td>\n",
       "      <td>0</td>\n",
       "    </tr>\n",
       "    <tr>\n",
       "      <th>3</th>\n",
       "      <td>1</td>\n",
       "      <td>2014-04-07T10:57:00.306Z</td>\n",
       "      <td>214577561</td>\n",
       "      <td>0</td>\n",
       "    </tr>\n",
       "    <tr>\n",
       "      <th>4</th>\n",
       "      <td>2</td>\n",
       "      <td>2014-04-07T13:56:37.614Z</td>\n",
       "      <td>214662742</td>\n",
       "      <td>0</td>\n",
       "    </tr>\n",
       "  </tbody>\n",
       "</table>\n",
       "</div>"
      ],
      "text/plain": [
       "   SessionId                   TimeStr     ItemId Item_Type\n",
       "0          1  2014-04-07T10:51:09.277Z  214536502         0\n",
       "1          1  2014-04-07T10:54:09.868Z  214536500         0\n",
       "2          1  2014-04-07T10:54:46.998Z  214536506         0\n",
       "3          1  2014-04-07T10:57:00.306Z  214577561         0\n",
       "4          2  2014-04-07T13:56:37.614Z  214662742         0"
      ]
     },
     "execution_count": 5,
     "metadata": {
      "tags": []
     },
     "output_type": "execute_result"
    }
   ],
   "source": [
    "df_clicks = pd.read_csv('yoochoose-clicks.dat', sep=',', header=None,\n",
    "                        dtype={0:np.int32, 1:str, 2:np.int64, 3:str},\n",
    "                        names = [\"SessionId\", \"TimeStr\", \"ItemId\", \"Item_Type\"])\n",
    "df_clicks.head()"
   ]
  },
  {
   "cell_type": "code",
   "execution_count": null,
   "metadata": {
    "colab": {},
    "colab_type": "code",
    "id": "MRgFEPZIaF5j"
   },
   "outputs": [],
   "source": [
    "#category types\n",
    "'''The categories can be S (for promotion), 0 (when unknown), \n",
    "a number between 1-12 when it came from a category on the page\n",
    "or any other that represents a brand'''\n",
    "\n",
    "def assign_cat(x):\n",
    "    if x == \"S\":\n",
    "        return \"PROMOTION\"\n",
    "    elif np.int(x) == 0:\n",
    "        return \"NONE\"\n",
    "    elif np.int(x) < 13:\n",
    "        return \"CATEGORY\"\n",
    "    else:\n",
    "        return \"BRAND\"\n",
    "\n",
    "df_clicks['Item_Type'] = df_clicks.loc[:,'Item_Type'].map(assign_cat)"
   ]
  },
  {
   "cell_type": "markdown",
   "metadata": {
    "colab_type": "text",
    "id": "8To1GTU-cKiQ"
   },
   "source": [
    "Buy data"
   ]
  },
  {
   "cell_type": "code",
   "execution_count": 7,
   "metadata": {
    "colab": {
     "base_uri": "https://localhost:8080/",
     "height": 204
    },
    "colab_type": "code",
    "executionInfo": {
     "elapsed": 44967,
     "status": "ok",
     "timestamp": 1587285791757,
     "user": {
      "displayName": "Sparsh Agarwal",
      "photoUrl": "",
      "userId": "13037694610922482904"
     },
     "user_tz": -330
    },
    "id": "2C4NXwi1boWe",
    "outputId": "10475904-c67b-4055-9a69-249e05977406"
   },
   "outputs": [
    {
     "data": {
      "text/html": [
       "<div>\n",
       "<style scoped>\n",
       "    .dataframe tbody tr th:only-of-type {\n",
       "        vertical-align: middle;\n",
       "    }\n",
       "\n",
       "    .dataframe tbody tr th {\n",
       "        vertical-align: top;\n",
       "    }\n",
       "\n",
       "    .dataframe thead th {\n",
       "        text-align: right;\n",
       "    }\n",
       "</style>\n",
       "<table border=\"1\" class=\"dataframe\">\n",
       "  <thead>\n",
       "    <tr style=\"text-align: right;\">\n",
       "      <th></th>\n",
       "      <th>SessionId</th>\n",
       "      <th>TimeStr</th>\n",
       "      <th>ItemId</th>\n",
       "      <th>Price</th>\n",
       "      <th>Quantity</th>\n",
       "    </tr>\n",
       "  </thead>\n",
       "  <tbody>\n",
       "    <tr>\n",
       "      <th>0</th>\n",
       "      <td>420374</td>\n",
       "      <td>2014-04-06T18:44:58.314Z</td>\n",
       "      <td>214537888</td>\n",
       "      <td>12462</td>\n",
       "      <td>1</td>\n",
       "    </tr>\n",
       "    <tr>\n",
       "      <th>1</th>\n",
       "      <td>420374</td>\n",
       "      <td>2014-04-06T18:44:58.325Z</td>\n",
       "      <td>214537850</td>\n",
       "      <td>10471</td>\n",
       "      <td>1</td>\n",
       "    </tr>\n",
       "    <tr>\n",
       "      <th>2</th>\n",
       "      <td>281626</td>\n",
       "      <td>2014-04-06T09:40:13.032Z</td>\n",
       "      <td>214535653</td>\n",
       "      <td>1883</td>\n",
       "      <td>1</td>\n",
       "    </tr>\n",
       "    <tr>\n",
       "      <th>3</th>\n",
       "      <td>420368</td>\n",
       "      <td>2014-04-04T06:13:28.848Z</td>\n",
       "      <td>214530572</td>\n",
       "      <td>6073</td>\n",
       "      <td>1</td>\n",
       "    </tr>\n",
       "    <tr>\n",
       "      <th>4</th>\n",
       "      <td>420368</td>\n",
       "      <td>2014-04-04T06:13:28.858Z</td>\n",
       "      <td>214835025</td>\n",
       "      <td>2617</td>\n",
       "      <td>1</td>\n",
       "    </tr>\n",
       "  </tbody>\n",
       "</table>\n",
       "</div>"
      ],
      "text/plain": [
       "   SessionId                   TimeStr     ItemId  Price  Quantity\n",
       "0     420374  2014-04-06T18:44:58.314Z  214537888  12462         1\n",
       "1     420374  2014-04-06T18:44:58.325Z  214537850  10471         1\n",
       "2     281626  2014-04-06T09:40:13.032Z  214535653   1883         1\n",
       "3     420368  2014-04-04T06:13:28.848Z  214530572   6073         1\n",
       "4     420368  2014-04-04T06:13:28.858Z  214835025   2617         1"
      ]
     },
     "execution_count": 7,
     "metadata": {
      "tags": []
     },
     "output_type": "execute_result"
    }
   ],
   "source": [
    "df_buys = pd.read_csv('yoochoose-buys.dat', sep=',', header=None,\n",
    "                      dtype={0:np.int32, 1:str, 2:np.int64, \n",
    "                             3:np.int64, 4:np.int64},\n",
    "                      names = [\"SessionId\", \"TimeStr\", \"ItemId\", \"Price\", \"Quantity\"])\n",
    "df_buys.head()"
   ]
  },
  {
   "cell_type": "code",
   "execution_count": 8,
   "metadata": {
    "colab": {
     "base_uri": "https://localhost:8080/",
     "height": 204
    },
    "colab_type": "code",
    "executionInfo": {
     "elapsed": 43255,
     "status": "ok",
     "timestamp": 1587285791758,
     "user": {
      "displayName": "Sparsh Agarwal",
      "photoUrl": "",
      "userId": "13037694610922482904"
     },
     "user_tz": -330
    },
    "id": "1v0C5RQ7cTN4",
    "outputId": "39aa2f42-fccb-4748-c1c3-ae44679f6e0a"
   },
   "outputs": [
    {
     "data": {
      "text/html": [
       "<div>\n",
       "<style scoped>\n",
       "    .dataframe tbody tr th:only-of-type {\n",
       "        vertical-align: middle;\n",
       "    }\n",
       "\n",
       "    .dataframe tbody tr th {\n",
       "        vertical-align: top;\n",
       "    }\n",
       "\n",
       "    .dataframe thead th {\n",
       "        text-align: right;\n",
       "    }\n",
       "</style>\n",
       "<table border=\"1\" class=\"dataframe\">\n",
       "  <thead>\n",
       "    <tr style=\"text-align: right;\">\n",
       "      <th></th>\n",
       "      <th>SessionId</th>\n",
       "      <th>ItemId</th>\n",
       "      <th>Price</th>\n",
       "      <th>Quantity</th>\n",
       "      <th>Action</th>\n",
       "    </tr>\n",
       "  </thead>\n",
       "  <tbody>\n",
       "    <tr>\n",
       "      <th>0</th>\n",
       "      <td>420374</td>\n",
       "      <td>214537888</td>\n",
       "      <td>12462</td>\n",
       "      <td>1</td>\n",
       "      <td>BUY</td>\n",
       "    </tr>\n",
       "    <tr>\n",
       "      <th>1</th>\n",
       "      <td>420374</td>\n",
       "      <td>214537850</td>\n",
       "      <td>10471</td>\n",
       "      <td>1</td>\n",
       "      <td>BUY</td>\n",
       "    </tr>\n",
       "    <tr>\n",
       "      <th>2</th>\n",
       "      <td>281626</td>\n",
       "      <td>214535653</td>\n",
       "      <td>1883</td>\n",
       "      <td>1</td>\n",
       "      <td>BUY</td>\n",
       "    </tr>\n",
       "    <tr>\n",
       "      <th>3</th>\n",
       "      <td>420368</td>\n",
       "      <td>214530572</td>\n",
       "      <td>6073</td>\n",
       "      <td>1</td>\n",
       "      <td>BUY</td>\n",
       "    </tr>\n",
       "    <tr>\n",
       "      <th>4</th>\n",
       "      <td>420368</td>\n",
       "      <td>214835025</td>\n",
       "      <td>2617</td>\n",
       "      <td>1</td>\n",
       "      <td>BUY</td>\n",
       "    </tr>\n",
       "  </tbody>\n",
       "</table>\n",
       "</div>"
      ],
      "text/plain": [
       "   SessionId     ItemId  Price  Quantity Action\n",
       "0     420374  214537888  12462         1    BUY\n",
       "1     420374  214537850  10471         1    BUY\n",
       "2     281626  214535653   1883         1    BUY\n",
       "3     420368  214530572   6073         1    BUY\n",
       "4     420368  214835025   2617         1    BUY"
      ]
     },
     "execution_count": 8,
     "metadata": {
      "tags": []
     },
     "output_type": "execute_result"
    }
   ],
   "source": [
    "df_buys.drop([\"TimeStr\"], inplace=True, axis=1)\n",
    "df_buys[\"Action\"] = \"BUY\"\n",
    "df_buys.head()"
   ]
  },
  {
   "cell_type": "code",
   "execution_count": 9,
   "metadata": {
    "colab": {
     "base_uri": "https://localhost:8080/",
     "height": 204
    },
    "colab_type": "code",
    "executionInfo": {
     "elapsed": 58745,
     "status": "ok",
     "timestamp": 1587285807537,
     "user": {
      "displayName": "Sparsh Agarwal",
      "photoUrl": "",
      "userId": "13037694610922482904"
     },
     "user_tz": -330
    },
    "id": "eHeJpa2Qcz2c",
    "outputId": "130aea6d-7df8-468b-c2a3-e6d5e78faaea"
   },
   "outputs": [
    {
     "data": {
      "text/html": [
       "<div>\n",
       "<style scoped>\n",
       "    .dataframe tbody tr th:only-of-type {\n",
       "        vertical-align: middle;\n",
       "    }\n",
       "\n",
       "    .dataframe tbody tr th {\n",
       "        vertical-align: top;\n",
       "    }\n",
       "\n",
       "    .dataframe thead th {\n",
       "        text-align: right;\n",
       "    }\n",
       "</style>\n",
       "<table border=\"1\" class=\"dataframe\">\n",
       "  <thead>\n",
       "    <tr style=\"text-align: right;\">\n",
       "      <th></th>\n",
       "      <th>SessionId</th>\n",
       "      <th>TimeStr</th>\n",
       "      <th>ItemId</th>\n",
       "      <th>Item_Type</th>\n",
       "      <th>Price</th>\n",
       "      <th>Quantity</th>\n",
       "      <th>Action</th>\n",
       "    </tr>\n",
       "  </thead>\n",
       "  <tbody>\n",
       "    <tr>\n",
       "      <th>0</th>\n",
       "      <td>1</td>\n",
       "      <td>2014-04-07T10:51:09.277Z</td>\n",
       "      <td>214536502</td>\n",
       "      <td>NONE</td>\n",
       "      <td>NaN</td>\n",
       "      <td>NaN</td>\n",
       "      <td>NaN</td>\n",
       "    </tr>\n",
       "    <tr>\n",
       "      <th>1</th>\n",
       "      <td>1</td>\n",
       "      <td>2014-04-07T10:54:09.868Z</td>\n",
       "      <td>214536500</td>\n",
       "      <td>NONE</td>\n",
       "      <td>NaN</td>\n",
       "      <td>NaN</td>\n",
       "      <td>NaN</td>\n",
       "    </tr>\n",
       "    <tr>\n",
       "      <th>2</th>\n",
       "      <td>1</td>\n",
       "      <td>2014-04-07T10:54:46.998Z</td>\n",
       "      <td>214536506</td>\n",
       "      <td>NONE</td>\n",
       "      <td>NaN</td>\n",
       "      <td>NaN</td>\n",
       "      <td>NaN</td>\n",
       "    </tr>\n",
       "    <tr>\n",
       "      <th>3</th>\n",
       "      <td>1</td>\n",
       "      <td>2014-04-07T10:57:00.306Z</td>\n",
       "      <td>214577561</td>\n",
       "      <td>NONE</td>\n",
       "      <td>NaN</td>\n",
       "      <td>NaN</td>\n",
       "      <td>NaN</td>\n",
       "    </tr>\n",
       "    <tr>\n",
       "      <th>4</th>\n",
       "      <td>2</td>\n",
       "      <td>2014-04-07T13:56:37.614Z</td>\n",
       "      <td>214662742</td>\n",
       "      <td>NONE</td>\n",
       "      <td>NaN</td>\n",
       "      <td>NaN</td>\n",
       "      <td>NaN</td>\n",
       "    </tr>\n",
       "  </tbody>\n",
       "</table>\n",
       "</div>"
      ],
      "text/plain": [
       "   SessionId                   TimeStr     ItemId  ... Price  Quantity  Action\n",
       "0          1  2014-04-07T10:51:09.277Z  214536502  ...   NaN       NaN     NaN\n",
       "1          1  2014-04-07T10:54:09.868Z  214536500  ...   NaN       NaN     NaN\n",
       "2          1  2014-04-07T10:54:46.998Z  214536506  ...   NaN       NaN     NaN\n",
       "3          1  2014-04-07T10:57:00.306Z  214577561  ...   NaN       NaN     NaN\n",
       "4          2  2014-04-07T13:56:37.614Z  214662742  ...   NaN       NaN     NaN\n",
       "\n",
       "[5 rows x 7 columns]"
      ]
     },
     "execution_count": 9,
     "metadata": {
      "tags": []
     },
     "output_type": "execute_result"
    }
   ],
   "source": [
    "df = pd.merge(left=df_clicks, right=df_buys, how=\"left\", on=[\"SessionId\", \"ItemId\"])\n",
    "df.head()"
   ]
  },
  {
   "cell_type": "markdown",
   "metadata": {
    "colab_type": "text",
    "id": "PEB_LsKsda3L"
   },
   "source": [
    "Exploring data"
   ]
  },
  {
   "cell_type": "code",
   "execution_count": null,
   "metadata": {
    "colab": {},
    "colab_type": "code",
    "id": "BA5hyyqsc9wB"
   },
   "outputs": [],
   "source": [
    "query = \"ItemId==@ItemId & SessionId==@SessionId\""
   ]
  },
  {
   "cell_type": "code",
   "execution_count": null,
   "metadata": {
    "colab": {},
    "colab_type": "code",
    "id": "-31oAd1cddJn"
   },
   "outputs": [],
   "source": [
    "ItemId = 214821371\n",
    "SessionId = 11"
   ]
  },
  {
   "cell_type": "code",
   "execution_count": 12,
   "metadata": {
    "colab": {
     "base_uri": "https://localhost:8080/",
     "height": 142
    },
    "colab_type": "code",
    "executionInfo": {
     "elapsed": 56817,
     "status": "ok",
     "timestamp": 1587285807542,
     "user": {
      "displayName": "Sparsh Agarwal",
      "photoUrl": "",
      "userId": "13037694610922482904"
     },
     "user_tz": -330
    },
    "id": "o0G73pO-deOq",
    "outputId": "85ae2103-83b6-41a2-839a-db1e69a5c4ae"
   },
   "outputs": [
    {
     "data": {
      "text/html": [
       "<div>\n",
       "<style scoped>\n",
       "    .dataframe tbody tr th:only-of-type {\n",
       "        vertical-align: middle;\n",
       "    }\n",
       "\n",
       "    .dataframe tbody tr th {\n",
       "        vertical-align: top;\n",
       "    }\n",
       "\n",
       "    .dataframe thead th {\n",
       "        text-align: right;\n",
       "    }\n",
       "</style>\n",
       "<table border=\"1\" class=\"dataframe\">\n",
       "  <thead>\n",
       "    <tr style=\"text-align: right;\">\n",
       "      <th></th>\n",
       "      <th>SessionId</th>\n",
       "      <th>TimeStr</th>\n",
       "      <th>ItemId</th>\n",
       "      <th>Item_Type</th>\n",
       "    </tr>\n",
       "  </thead>\n",
       "  <tbody>\n",
       "    <tr>\n",
       "      <th>26</th>\n",
       "      <td>11</td>\n",
       "      <td>2014-04-03T10:45:29.873Z</td>\n",
       "      <td>214821371</td>\n",
       "      <td>NONE</td>\n",
       "    </tr>\n",
       "    <tr>\n",
       "      <th>27</th>\n",
       "      <td>11</td>\n",
       "      <td>2014-04-03T10:46:12.162Z</td>\n",
       "      <td>214821371</td>\n",
       "      <td>NONE</td>\n",
       "    </tr>\n",
       "    <tr>\n",
       "      <th>28</th>\n",
       "      <td>11</td>\n",
       "      <td>2014-04-03T10:46:57.355Z</td>\n",
       "      <td>214821371</td>\n",
       "      <td>NONE</td>\n",
       "    </tr>\n",
       "  </tbody>\n",
       "</table>\n",
       "</div>"
      ],
      "text/plain": [
       "    SessionId                   TimeStr     ItemId Item_Type\n",
       "26         11  2014-04-03T10:45:29.873Z  214821371      NONE\n",
       "27         11  2014-04-03T10:46:12.162Z  214821371      NONE\n",
       "28         11  2014-04-03T10:46:57.355Z  214821371      NONE"
      ]
     },
     "execution_count": 12,
     "metadata": {
      "tags": []
     },
     "output_type": "execute_result"
    }
   ],
   "source": [
    "df_clicks.query(query)"
   ]
  },
  {
   "cell_type": "code",
   "execution_count": 13,
   "metadata": {
    "colab": {
     "base_uri": "https://localhost:8080/",
     "height": 111
    },
    "colab_type": "code",
    "executionInfo": {
     "elapsed": 56681,
     "status": "ok",
     "timestamp": 1587285807542,
     "user": {
      "displayName": "Sparsh Agarwal",
      "photoUrl": "",
      "userId": "13037694610922482904"
     },
     "user_tz": -330
    },
    "id": "T0Sw-hNPdjXg",
    "outputId": "d512a815-b209-4c3c-c23d-6b031ebe3007"
   },
   "outputs": [
    {
     "data": {
      "text/html": [
       "<div>\n",
       "<style scoped>\n",
       "    .dataframe tbody tr th:only-of-type {\n",
       "        vertical-align: middle;\n",
       "    }\n",
       "\n",
       "    .dataframe tbody tr th {\n",
       "        vertical-align: top;\n",
       "    }\n",
       "\n",
       "    .dataframe thead th {\n",
       "        text-align: right;\n",
       "    }\n",
       "</style>\n",
       "<table border=\"1\" class=\"dataframe\">\n",
       "  <thead>\n",
       "    <tr style=\"text-align: right;\">\n",
       "      <th></th>\n",
       "      <th>SessionId</th>\n",
       "      <th>ItemId</th>\n",
       "      <th>Price</th>\n",
       "      <th>Quantity</th>\n",
       "      <th>Action</th>\n",
       "    </tr>\n",
       "  </thead>\n",
       "  <tbody>\n",
       "    <tr>\n",
       "      <th>10</th>\n",
       "      <td>11</td>\n",
       "      <td>214821371</td>\n",
       "      <td>1046</td>\n",
       "      <td>1</td>\n",
       "      <td>BUY</td>\n",
       "    </tr>\n",
       "    <tr>\n",
       "      <th>11</th>\n",
       "      <td>11</td>\n",
       "      <td>214821371</td>\n",
       "      <td>1046</td>\n",
       "      <td>1</td>\n",
       "      <td>BUY</td>\n",
       "    </tr>\n",
       "  </tbody>\n",
       "</table>\n",
       "</div>"
      ],
      "text/plain": [
       "    SessionId     ItemId  Price  Quantity Action\n",
       "10         11  214821371   1046         1    BUY\n",
       "11         11  214821371   1046         1    BUY"
      ]
     },
     "execution_count": 13,
     "metadata": {
      "tags": []
     },
     "output_type": "execute_result"
    }
   ],
   "source": [
    "df_buys.query(query)"
   ]
  },
  {
   "cell_type": "code",
   "execution_count": 14,
   "metadata": {
    "colab": {
     "base_uri": "https://localhost:8080/",
     "height": 235
    },
    "colab_type": "code",
    "executionInfo": {
     "elapsed": 59218,
     "status": "ok",
     "timestamp": 1587285810217,
     "user": {
      "displayName": "Sparsh Agarwal",
      "photoUrl": "",
      "userId": "13037694610922482904"
     },
     "user_tz": -330
    },
    "id": "gzMW0Hv5doV0",
    "outputId": "37ae9543-c88d-4824-aa83-d40dfe8b0a52"
   },
   "outputs": [
    {
     "data": {
      "text/html": [
       "<div>\n",
       "<style scoped>\n",
       "    .dataframe tbody tr th:only-of-type {\n",
       "        vertical-align: middle;\n",
       "    }\n",
       "\n",
       "    .dataframe tbody tr th {\n",
       "        vertical-align: top;\n",
       "    }\n",
       "\n",
       "    .dataframe thead th {\n",
       "        text-align: right;\n",
       "    }\n",
       "</style>\n",
       "<table border=\"1\" class=\"dataframe\">\n",
       "  <thead>\n",
       "    <tr style=\"text-align: right;\">\n",
       "      <th></th>\n",
       "      <th>SessionId</th>\n",
       "      <th>TimeStr</th>\n",
       "      <th>ItemId</th>\n",
       "      <th>Item_Type</th>\n",
       "      <th>Price</th>\n",
       "      <th>Quantity</th>\n",
       "      <th>Action</th>\n",
       "    </tr>\n",
       "  </thead>\n",
       "  <tbody>\n",
       "    <tr>\n",
       "      <th>26</th>\n",
       "      <td>11</td>\n",
       "      <td>2014-04-03T10:45:29.873Z</td>\n",
       "      <td>214821371</td>\n",
       "      <td>NONE</td>\n",
       "      <td>1046.0</td>\n",
       "      <td>1.0</td>\n",
       "      <td>BUY</td>\n",
       "    </tr>\n",
       "    <tr>\n",
       "      <th>27</th>\n",
       "      <td>11</td>\n",
       "      <td>2014-04-03T10:45:29.873Z</td>\n",
       "      <td>214821371</td>\n",
       "      <td>NONE</td>\n",
       "      <td>1046.0</td>\n",
       "      <td>1.0</td>\n",
       "      <td>BUY</td>\n",
       "    </tr>\n",
       "    <tr>\n",
       "      <th>28</th>\n",
       "      <td>11</td>\n",
       "      <td>2014-04-03T10:46:12.162Z</td>\n",
       "      <td>214821371</td>\n",
       "      <td>NONE</td>\n",
       "      <td>1046.0</td>\n",
       "      <td>1.0</td>\n",
       "      <td>BUY</td>\n",
       "    </tr>\n",
       "    <tr>\n",
       "      <th>29</th>\n",
       "      <td>11</td>\n",
       "      <td>2014-04-03T10:46:12.162Z</td>\n",
       "      <td>214821371</td>\n",
       "      <td>NONE</td>\n",
       "      <td>1046.0</td>\n",
       "      <td>1.0</td>\n",
       "      <td>BUY</td>\n",
       "    </tr>\n",
       "    <tr>\n",
       "      <th>30</th>\n",
       "      <td>11</td>\n",
       "      <td>2014-04-03T10:46:57.355Z</td>\n",
       "      <td>214821371</td>\n",
       "      <td>NONE</td>\n",
       "      <td>1046.0</td>\n",
       "      <td>1.0</td>\n",
       "      <td>BUY</td>\n",
       "    </tr>\n",
       "    <tr>\n",
       "      <th>31</th>\n",
       "      <td>11</td>\n",
       "      <td>2014-04-03T10:46:57.355Z</td>\n",
       "      <td>214821371</td>\n",
       "      <td>NONE</td>\n",
       "      <td>1046.0</td>\n",
       "      <td>1.0</td>\n",
       "      <td>BUY</td>\n",
       "    </tr>\n",
       "  </tbody>\n",
       "</table>\n",
       "</div>"
      ],
      "text/plain": [
       "    SessionId                   TimeStr     ItemId  ...   Price  Quantity  Action\n",
       "26         11  2014-04-03T10:45:29.873Z  214821371  ...  1046.0       1.0     BUY\n",
       "27         11  2014-04-03T10:45:29.873Z  214821371  ...  1046.0       1.0     BUY\n",
       "28         11  2014-04-03T10:46:12.162Z  214821371  ...  1046.0       1.0     BUY\n",
       "29         11  2014-04-03T10:46:12.162Z  214821371  ...  1046.0       1.0     BUY\n",
       "30         11  2014-04-03T10:46:57.355Z  214821371  ...  1046.0       1.0     BUY\n",
       "31         11  2014-04-03T10:46:57.355Z  214821371  ...  1046.0       1.0     BUY\n",
       "\n",
       "[6 rows x 7 columns]"
      ]
     },
     "execution_count": 14,
     "metadata": {
      "tags": []
     },
     "output_type": "execute_result"
    }
   ],
   "source": [
    "df.query(query)"
   ]
  },
  {
   "cell_type": "code",
   "execution_count": null,
   "metadata": {
    "colab": {},
    "colab_type": "code",
    "id": "6qlE39O-d0Zh"
   },
   "outputs": [],
   "source": [
    "# Drop duplicates\n",
    "df.drop_duplicates(inplace=True)"
   ]
  },
  {
   "cell_type": "markdown",
   "metadata": {
    "colab_type": "text",
    "id": "DZAqz9yvd9_z"
   },
   "source": [
    "Data subset selection based on thresholds"
   ]
  },
  {
   "cell_type": "code",
   "execution_count": null,
   "metadata": {
    "colab": {},
    "colab_type": "code",
    "id": "878YBWnxd2z8"
   },
   "outputs": [],
   "source": [
    "SESSION_THRESHOLD = 20\n",
    "ITEM_THRESHOLD = 1000"
   ]
  },
  {
   "cell_type": "code",
   "execution_count": null,
   "metadata": {
    "colab": {},
    "colab_type": "code",
    "id": "EV3h9se0eC23"
   },
   "outputs": [],
   "source": [
    "session_lengths = df.groupby([\"SessionId\"]).size()\n",
    "session_lengths_w_threshold = (session_lengths[session_lengths>SESSION_THRESHOLD]).reset_index()\n",
    "df_with_session_threshold = df[df.SessionId.isin(session_lengths_w_threshold.SessionId)]"
   ]
  },
  {
   "cell_type": "code",
   "execution_count": null,
   "metadata": {
    "colab": {},
    "colab_type": "code",
    "id": "tVfFuq6AeUvC"
   },
   "outputs": [],
   "source": [
    "item_lengths = df.groupby([\"ItemId\"]).size()\n",
    "item_lengths_w_threshold = item_lengths[item_lengths>ITEM_THRESHOLD].reset_index()\n",
    "df_with_session_item_threshold = df_with_session_threshold[df_with_session_threshold.ItemId.isin(item_lengths_w_threshold.ItemId)]"
   ]
  },
  {
   "cell_type": "code",
   "execution_count": null,
   "metadata": {
    "colab": {},
    "colab_type": "code",
    "id": "IltbgpfFeed9"
   },
   "outputs": [],
   "source": [
    "session_lengths_2 = df_with_session_item_threshold.groupby([\"SessionId\"]).size()\n",
    "session_lengths_2_w_threshold = (session_lengths_2[session_lengths_2 > SESSION_THRESHOLD]).reset_index()"
   ]
  },
  {
   "cell_type": "code",
   "execution_count": 21,
   "metadata": {
    "colab": {
     "base_uri": "https://localhost:8080/",
     "height": 204
    },
    "colab_type": "code",
    "executionInfo": {
     "elapsed": 1266,
     "status": "ok",
     "timestamp": 1587285998785,
     "user": {
      "displayName": "Sparsh Agarwal",
      "photoUrl": "",
      "userId": "13037694610922482904"
     },
     "user_tz": -330
    },
    "id": "dmc09qDfe5YV",
    "outputId": "c32c6098-b852-4e69-9032-9adfc4e6a8a2"
   },
   "outputs": [
    {
     "data": {
      "text/html": [
       "<div>\n",
       "<style scoped>\n",
       "    .dataframe tbody tr th:only-of-type {\n",
       "        vertical-align: middle;\n",
       "    }\n",
       "\n",
       "    .dataframe tbody tr th {\n",
       "        vertical-align: top;\n",
       "    }\n",
       "\n",
       "    .dataframe thead th {\n",
       "        text-align: right;\n",
       "    }\n",
       "</style>\n",
       "<table border=\"1\" class=\"dataframe\">\n",
       "  <thead>\n",
       "    <tr style=\"text-align: right;\">\n",
       "      <th></th>\n",
       "      <th>SessionId</th>\n",
       "      <th>TimeStr</th>\n",
       "      <th>ItemId</th>\n",
       "      <th>Item_Type</th>\n",
       "      <th>Price</th>\n",
       "      <th>Quantity</th>\n",
       "      <th>Action</th>\n",
       "    </tr>\n",
       "  </thead>\n",
       "  <tbody>\n",
       "    <tr>\n",
       "      <th>282</th>\n",
       "      <td>87</td>\n",
       "      <td>2014-04-07T06:19:20.979Z</td>\n",
       "      <td>214840483</td>\n",
       "      <td>NONE</td>\n",
       "      <td>1674.0</td>\n",
       "      <td>1.0</td>\n",
       "      <td>BUY</td>\n",
       "    </tr>\n",
       "    <tr>\n",
       "      <th>283</th>\n",
       "      <td>87</td>\n",
       "      <td>2014-04-07T06:19:28.762Z</td>\n",
       "      <td>214840483</td>\n",
       "      <td>NONE</td>\n",
       "      <td>1674.0</td>\n",
       "      <td>1.0</td>\n",
       "      <td>BUY</td>\n",
       "    </tr>\n",
       "    <tr>\n",
       "      <th>284</th>\n",
       "      <td>87</td>\n",
       "      <td>2014-04-07T06:26:01.516Z</td>\n",
       "      <td>214717286</td>\n",
       "      <td>NONE</td>\n",
       "      <td>NaN</td>\n",
       "      <td>NaN</td>\n",
       "      <td>NaN</td>\n",
       "    </tr>\n",
       "    <tr>\n",
       "      <th>285</th>\n",
       "      <td>87</td>\n",
       "      <td>2014-04-07T06:26:15.176Z</td>\n",
       "      <td>214558807</td>\n",
       "      <td>NONE</td>\n",
       "      <td>NaN</td>\n",
       "      <td>NaN</td>\n",
       "      <td>NaN</td>\n",
       "    </tr>\n",
       "    <tr>\n",
       "      <th>286</th>\n",
       "      <td>87</td>\n",
       "      <td>2014-04-07T06:26:32.159Z</td>\n",
       "      <td>214821300</td>\n",
       "      <td>NONE</td>\n",
       "      <td>NaN</td>\n",
       "      <td>NaN</td>\n",
       "      <td>NaN</td>\n",
       "    </tr>\n",
       "  </tbody>\n",
       "</table>\n",
       "</div>"
      ],
      "text/plain": [
       "     SessionId                   TimeStr     ItemId  ...   Price  Quantity  Action\n",
       "282         87  2014-04-07T06:19:20.979Z  214840483  ...  1674.0       1.0     BUY\n",
       "283         87  2014-04-07T06:19:28.762Z  214840483  ...  1674.0       1.0     BUY\n",
       "284         87  2014-04-07T06:26:01.516Z  214717286  ...     NaN       NaN     NaN\n",
       "285         87  2014-04-07T06:26:15.176Z  214558807  ...     NaN       NaN     NaN\n",
       "286         87  2014-04-07T06:26:32.159Z  214821300  ...     NaN       NaN     NaN\n",
       "\n",
       "[5 rows x 7 columns]"
      ]
     },
     "execution_count": 21,
     "metadata": {
      "tags": []
     },
     "output_type": "execute_result"
    }
   ],
   "source": [
    "df_final = df_with_session_item_threshold[df_with_session_item_threshold.SessionId.isin(session_lengths_2_w_threshold.SessionId)]\n",
    "df_final.head()"
   ]
  },
  {
   "cell_type": "code",
   "execution_count": 22,
   "metadata": {
    "colab": {
     "base_uri": "https://localhost:8080/",
     "height": 204
    },
    "colab_type": "code",
    "executionInfo": {
     "elapsed": 1263,
     "status": "ok",
     "timestamp": 1587286002320,
     "user": {
      "displayName": "Sparsh Agarwal",
      "photoUrl": "",
      "userId": "13037694610922482904"
     },
     "user_tz": -330
    },
    "id": "oG5aglk3e7Qx",
    "outputId": "3c6ce3bf-df8b-4565-e309-4f33f4563e64"
   },
   "outputs": [
    {
     "data": {
      "text/html": [
       "<div>\n",
       "<style scoped>\n",
       "    .dataframe tbody tr th:only-of-type {\n",
       "        vertical-align: middle;\n",
       "    }\n",
       "\n",
       "    .dataframe tbody tr th {\n",
       "        vertical-align: top;\n",
       "    }\n",
       "\n",
       "    .dataframe thead th {\n",
       "        text-align: right;\n",
       "    }\n",
       "</style>\n",
       "<table border=\"1\" class=\"dataframe\">\n",
       "  <thead>\n",
       "    <tr style=\"text-align: right;\">\n",
       "      <th></th>\n",
       "      <th>SessionId</th>\n",
       "      <th>TimeStr</th>\n",
       "      <th>ItemId</th>\n",
       "      <th>Item_Type</th>\n",
       "      <th>Action</th>\n",
       "    </tr>\n",
       "  </thead>\n",
       "  <tbody>\n",
       "    <tr>\n",
       "      <th>282</th>\n",
       "      <td>87</td>\n",
       "      <td>2014-04-07T06:19:20.979Z</td>\n",
       "      <td>214840483</td>\n",
       "      <td>NONE</td>\n",
       "      <td>BUY</td>\n",
       "    </tr>\n",
       "    <tr>\n",
       "      <th>283</th>\n",
       "      <td>87</td>\n",
       "      <td>2014-04-07T06:19:28.762Z</td>\n",
       "      <td>214840483</td>\n",
       "      <td>NONE</td>\n",
       "      <td>BUY</td>\n",
       "    </tr>\n",
       "    <tr>\n",
       "      <th>284</th>\n",
       "      <td>87</td>\n",
       "      <td>2014-04-07T06:26:01.516Z</td>\n",
       "      <td>214717286</td>\n",
       "      <td>NONE</td>\n",
       "      <td>CLICK</td>\n",
       "    </tr>\n",
       "    <tr>\n",
       "      <th>285</th>\n",
       "      <td>87</td>\n",
       "      <td>2014-04-07T06:26:15.176Z</td>\n",
       "      <td>214558807</td>\n",
       "      <td>NONE</td>\n",
       "      <td>CLICK</td>\n",
       "    </tr>\n",
       "    <tr>\n",
       "      <th>286</th>\n",
       "      <td>87</td>\n",
       "      <td>2014-04-07T06:26:32.159Z</td>\n",
       "      <td>214821300</td>\n",
       "      <td>NONE</td>\n",
       "      <td>CLICK</td>\n",
       "    </tr>\n",
       "  </tbody>\n",
       "</table>\n",
       "</div>"
      ],
      "text/plain": [
       "     SessionId                   TimeStr     ItemId Item_Type Action\n",
       "282         87  2014-04-07T06:19:20.979Z  214840483      NONE    BUY\n",
       "283         87  2014-04-07T06:19:28.762Z  214840483      NONE    BUY\n",
       "284         87  2014-04-07T06:26:01.516Z  214717286      NONE  CLICK\n",
       "285         87  2014-04-07T06:26:15.176Z  214558807      NONE  CLICK\n",
       "286         87  2014-04-07T06:26:32.159Z  214821300      NONE  CLICK"
      ]
     },
     "execution_count": 22,
     "metadata": {
      "tags": []
     },
     "output_type": "execute_result"
    }
   ],
   "source": [
    "df_final.Action.fillna(value=\"CLICK\", inplace=True)\n",
    "df_final.drop([\"Price\", \"Quantity\"], axis=1, inplace=True)\n",
    "df_final.head()"
   ]
  },
  {
   "cell_type": "markdown",
   "metadata": {
    "colab_type": "text",
    "id": "Dbrd6VAtfXvp"
   },
   "source": [
    "Some more changes"
   ]
  },
  {
   "cell_type": "code",
   "execution_count": 23,
   "metadata": {
    "colab": {
     "base_uri": "https://localhost:8080/",
     "height": 204
    },
    "colab_type": "code",
    "executionInfo": {
     "elapsed": 17895,
     "status": "ok",
     "timestamp": 1587286022688,
     "user": {
      "displayName": "Sparsh Agarwal",
      "photoUrl": "",
      "userId": "13037694610922482904"
     },
     "user_tz": -330
    },
    "id": "RiHlzI-sfNKx",
    "outputId": "11022488-96f3-4220-cb0d-05e4be92fa2e"
   },
   "outputs": [
    {
     "data": {
      "text/html": [
       "<div>\n",
       "<style scoped>\n",
       "    .dataframe tbody tr th:only-of-type {\n",
       "        vertical-align: middle;\n",
       "    }\n",
       "\n",
       "    .dataframe tbody tr th {\n",
       "        vertical-align: top;\n",
       "    }\n",
       "\n",
       "    .dataframe thead th {\n",
       "        text-align: right;\n",
       "    }\n",
       "</style>\n",
       "<table border=\"1\" class=\"dataframe\">\n",
       "  <thead>\n",
       "    <tr style=\"text-align: right;\">\n",
       "      <th></th>\n",
       "      <th>SessionId</th>\n",
       "      <th>ItemId</th>\n",
       "      <th>Item_Type</th>\n",
       "      <th>Action</th>\n",
       "      <th>Time</th>\n",
       "      <th>Rating</th>\n",
       "    </tr>\n",
       "  </thead>\n",
       "  <tbody>\n",
       "    <tr>\n",
       "      <th>282</th>\n",
       "      <td>87</td>\n",
       "      <td>214840483</td>\n",
       "      <td>NONE</td>\n",
       "      <td>BUY</td>\n",
       "      <td>1.396852e+09</td>\n",
       "      <td>5</td>\n",
       "    </tr>\n",
       "    <tr>\n",
       "      <th>283</th>\n",
       "      <td>87</td>\n",
       "      <td>214840483</td>\n",
       "      <td>NONE</td>\n",
       "      <td>BUY</td>\n",
       "      <td>1.396852e+09</td>\n",
       "      <td>5</td>\n",
       "    </tr>\n",
       "    <tr>\n",
       "      <th>284</th>\n",
       "      <td>87</td>\n",
       "      <td>214717286</td>\n",
       "      <td>NONE</td>\n",
       "      <td>CLICK</td>\n",
       "      <td>1.396852e+09</td>\n",
       "      <td>1</td>\n",
       "    </tr>\n",
       "    <tr>\n",
       "      <th>285</th>\n",
       "      <td>87</td>\n",
       "      <td>214558807</td>\n",
       "      <td>NONE</td>\n",
       "      <td>CLICK</td>\n",
       "      <td>1.396852e+09</td>\n",
       "      <td>1</td>\n",
       "    </tr>\n",
       "    <tr>\n",
       "      <th>286</th>\n",
       "      <td>87</td>\n",
       "      <td>214821300</td>\n",
       "      <td>NONE</td>\n",
       "      <td>CLICK</td>\n",
       "      <td>1.396852e+09</td>\n",
       "      <td>1</td>\n",
       "    </tr>\n",
       "  </tbody>\n",
       "</table>\n",
       "</div>"
      ],
      "text/plain": [
       "     SessionId     ItemId Item_Type Action          Time  Rating\n",
       "282         87  214840483      NONE    BUY  1.396852e+09       5\n",
       "283         87  214840483      NONE    BUY  1.396852e+09       5\n",
       "284         87  214717286      NONE  CLICK  1.396852e+09       1\n",
       "285         87  214558807      NONE  CLICK  1.396852e+09       1\n",
       "286         87  214821300      NONE  CLICK  1.396852e+09       1"
      ]
     },
     "execution_count": 23,
     "metadata": {
      "tags": []
     },
     "output_type": "execute_result"
    }
   ],
   "source": [
    "df_final['Time'] = df_final.TimeStr.apply(lambda x: dt.datetime.strptime(x, '%Y-%m-%dT%H:%M:%S.%fZ').timestamp())\n",
    "del(df_final[\"TimeStr\"])\n",
    "df_final.sort_values(by=[\"SessionId\", \"Time\"], inplace=True)\n",
    "df_final[\"Rating\"] = df_final.Action.apply(lambda x: 1 if (x == \"CLICK\") else 5)\n",
    "df_final.head()"
   ]
  },
  {
   "cell_type": "code",
   "execution_count": null,
   "metadata": {
    "colab": {},
    "colab_type": "code",
    "id": "NHQWlBsgmYnj"
   },
   "outputs": [],
   "source": [
    "df_final.to_csv('yoochoose_processed.csv')"
   ]
  },
  {
   "cell_type": "markdown",
   "metadata": {
    "colab_type": "text",
    "id": "hmOAig-Tmw2n"
   },
   "source": [
    "Modeling"
   ]
  },
  {
   "cell_type": "code",
   "execution_count": null,
   "metadata": {
    "colab": {},
    "colab_type": "code",
    "id": "p1NuQgmkmv7y"
   },
   "outputs": [],
   "source": [
    "df = pd.read_csv(\"yoochoose_processed.csv\")"
   ]
  },
  {
   "cell_type": "code",
   "execution_count": 26,
   "metadata": {
    "colab": {
     "base_uri": "https://localhost:8080/",
     "height": 51
    },
    "colab_type": "code",
    "executionInfo": {
     "elapsed": 2389,
     "status": "ok",
     "timestamp": 1587286030153,
     "user": {
      "displayName": "Sparsh Agarwal",
      "photoUrl": "",
      "userId": "13037694610922482904"
     },
     "user_tz": -330
    },
    "id": "N0AP3kMdgAe7",
    "outputId": "88e1b873-439d-44c1-9e71-7bb438f68bb8"
   },
   "outputs": [
    {
     "name": "stdout",
     "output_type": "stream",
     "text": [
      "Number of users:  42144\n",
      "Number of items:  5120\n"
     ]
    }
   ],
   "source": [
    "# Data Encoding\n",
    "DATA, user_encoder, item_encoder = encode_user_item(df, \"SessionId\", \"ItemId\", \"Rating\", \"Time\")"
   ]
  },
  {
   "cell_type": "code",
   "execution_count": null,
   "metadata": {
    "colab": {},
    "colab_type": "code",
    "id": "KKMhEWG-mNOp"
   },
   "outputs": [],
   "source": [
    "# Spotlight requires encoders to begin from 1 (instead of 0). We will add 1 to the encoders \n",
    "# When doing inverse transform, remember to subtract 1.\n",
    "\n",
    "DATA.USER = DATA.USER + 1\n",
    "DATA.ITEM = DATA.ITEM + 1"
   ]
  },
  {
   "cell_type": "code",
   "execution_count": null,
   "metadata": {
    "colab": {},
    "colab_type": "code",
    "id": "q5NwDqbvnHBK"
   },
   "outputs": [],
   "source": [
    "DATA.RATING = DATA.RATING.astype(np.int32)\n",
    "DATA.USER = DATA.USER.astype(np.int32)\n",
    "DATA.ITEM = DATA.ITEM.astype(np.int32)"
   ]
  },
  {
   "cell_type": "code",
   "execution_count": 29,
   "metadata": {
    "colab": {
     "base_uri": "https://localhost:8080/",
     "height": 204
    },
    "colab_type": "code",
    "executionInfo": {
     "elapsed": 1686,
     "status": "ok",
     "timestamp": 1587286033941,
     "user": {
      "displayName": "Sparsh Agarwal",
      "photoUrl": "",
      "userId": "13037694610922482904"
     },
     "user_tz": -330
    },
    "id": "T4vU005DnHAO",
    "outputId": "9e8278a0-4626-4d45-be73-284d44bb2bae"
   },
   "outputs": [
    {
     "data": {
      "text/html": [
       "<div>\n",
       "<style scoped>\n",
       "    .dataframe tbody tr th:only-of-type {\n",
       "        vertical-align: middle;\n",
       "    }\n",
       "\n",
       "    .dataframe tbody tr th {\n",
       "        vertical-align: top;\n",
       "    }\n",
       "\n",
       "    .dataframe thead th {\n",
       "        text-align: right;\n",
       "    }\n",
       "</style>\n",
       "<table border=\"1\" class=\"dataframe\">\n",
       "  <thead>\n",
       "    <tr style=\"text-align: right;\">\n",
       "      <th></th>\n",
       "      <th>Unnamed: 0</th>\n",
       "      <th>SessionId</th>\n",
       "      <th>ItemId</th>\n",
       "      <th>Item_Type</th>\n",
       "      <th>Action</th>\n",
       "      <th>TIMESTAMP</th>\n",
       "      <th>RATING</th>\n",
       "      <th>USER</th>\n",
       "      <th>ITEM</th>\n",
       "    </tr>\n",
       "  </thead>\n",
       "  <tbody>\n",
       "    <tr>\n",
       "      <th>0</th>\n",
       "      <td>282</td>\n",
       "      <td>87</td>\n",
       "      <td>214840483</td>\n",
       "      <td>NONE</td>\n",
       "      <td>BUY</td>\n",
       "      <td>1.396852e+09</td>\n",
       "      <td>5</td>\n",
       "      <td>1</td>\n",
       "      <td>3844</td>\n",
       "    </tr>\n",
       "    <tr>\n",
       "      <th>1</th>\n",
       "      <td>283</td>\n",
       "      <td>87</td>\n",
       "      <td>214840483</td>\n",
       "      <td>NONE</td>\n",
       "      <td>BUY</td>\n",
       "      <td>1.396852e+09</td>\n",
       "      <td>5</td>\n",
       "      <td>1</td>\n",
       "      <td>3844</td>\n",
       "    </tr>\n",
       "    <tr>\n",
       "      <th>2</th>\n",
       "      <td>284</td>\n",
       "      <td>87</td>\n",
       "      <td>214717286</td>\n",
       "      <td>NONE</td>\n",
       "      <td>CLICK</td>\n",
       "      <td>1.396852e+09</td>\n",
       "      <td>1</td>\n",
       "      <td>1</td>\n",
       "      <td>2574</td>\n",
       "    </tr>\n",
       "    <tr>\n",
       "      <th>3</th>\n",
       "      <td>285</td>\n",
       "      <td>87</td>\n",
       "      <td>214558807</td>\n",
       "      <td>NONE</td>\n",
       "      <td>CLICK</td>\n",
       "      <td>1.396852e+09</td>\n",
       "      <td>1</td>\n",
       "      <td>1</td>\n",
       "      <td>703</td>\n",
       "    </tr>\n",
       "    <tr>\n",
       "      <th>4</th>\n",
       "      <td>286</td>\n",
       "      <td>87</td>\n",
       "      <td>214821300</td>\n",
       "      <td>NONE</td>\n",
       "      <td>CLICK</td>\n",
       "      <td>1.396852e+09</td>\n",
       "      <td>1</td>\n",
       "      <td>1</td>\n",
       "      <td>2990</td>\n",
       "    </tr>\n",
       "  </tbody>\n",
       "</table>\n",
       "</div>"
      ],
      "text/plain": [
       "   Unnamed: 0  SessionId     ItemId Item_Type  ...     TIMESTAMP  RATING  USER  ITEM\n",
       "0         282         87  214840483      NONE  ...  1.396852e+09       5     1  3844\n",
       "1         283         87  214840483      NONE  ...  1.396852e+09       5     1  3844\n",
       "2         284         87  214717286      NONE  ...  1.396852e+09       1     1  2574\n",
       "3         285         87  214558807      NONE  ...  1.396852e+09       1     1   703\n",
       "4         286         87  214821300      NONE  ...  1.396852e+09       1     1  2990\n",
       "\n",
       "[5 rows x 9 columns]"
      ]
     },
     "execution_count": 29,
     "metadata": {
      "tags": []
     },
     "output_type": "execute_result"
    }
   ],
   "source": [
    "DATA.head()"
   ]
  },
  {
   "cell_type": "code",
   "execution_count": null,
   "metadata": {
    "colab": {},
    "colab_type": "code",
    "id": "z-MRE1RFnG-y"
   },
   "outputs": [],
   "source": [
    "df_for_interaction_matrix = (DATA.USER.values,DATA.ITEM.values,DATA.RATING,DATA.TIMESTAMP)\n",
    "df_interaction = Interactions(*df_for_interaction_matrix)"
   ]
  },
  {
   "cell_type": "markdown",
   "metadata": {
    "colab_type": "text",
    "id": "iTWAF0ejnOde"
   },
   "source": [
    "Train and Validation set"
   ]
  },
  {
   "cell_type": "code",
   "execution_count": null,
   "metadata": {
    "colab": {},
    "colab_type": "code",
    "id": "Bori0cEanQK9"
   },
   "outputs": [],
   "source": [
    "train_with_val, test = user_based_train_test_split(df_interaction,\n",
    "                                                   random_state=random_state, \n",
    "                                                   test_percentage = 0.2)\n",
    "\n",
    "train, val = user_based_train_test_split(train_with_val, test_percentage=0.2, \n",
    "                                         random_state=random_state)"
   ]
  },
  {
   "cell_type": "markdown",
   "metadata": {
    "colab_type": "text",
    "id": "JuBsjgBcnupT"
   },
   "source": [
    "Implicit Model"
   ]
  },
  {
   "cell_type": "code",
   "execution_count": null,
   "metadata": {
    "colab": {},
    "colab_type": "code",
    "id": "_HDyMDY6nsfW"
   },
   "outputs": [],
   "source": [
    "model_implicit = ImplicitFactorizationModel(n_iter=3, loss='bpr')\n",
    "model_implicit.fit(train)"
   ]
  },
  {
   "cell_type": "code",
   "execution_count": 33,
   "metadata": {
    "colab": {
     "base_uri": "https://localhost:8080/",
     "height": 51
    },
    "colab_type": "code",
    "executionInfo": {
     "elapsed": 1618,
     "status": "ok",
     "timestamp": 1587286279331,
     "user": {
      "displayName": "Sparsh Agarwal",
      "photoUrl": "",
      "userId": "13037694610922482904"
     },
     "user_tz": -330
    },
    "id": "do38N6cvnz62",
    "outputId": "62ceb787-ecf4-4996-8725-2a784ed6f017"
   },
   "outputs": [
    {
     "data": {
      "text/plain": [
       "array([-3.0667593 ,  1.4037921 , -1.0657367 , ...,  0.24834053,\n",
       "       -3.0151875 ,  1.5183879 ], dtype=float32)"
      ]
     },
     "execution_count": 33,
     "metadata": {
      "tags": []
     },
     "output_type": "execute_result"
    }
   ],
   "source": [
    "user_for_reco = test.user_ids[0]\n",
    "pred_for_user = model_implicit.predict(user_for_reco)\n",
    "pred_for_user"
   ]
  },
  {
   "cell_type": "code",
   "execution_count": 35,
   "metadata": {
    "colab": {
     "base_uri": "https://localhost:8080/",
     "height": 34
    },
    "colab_type": "code",
    "executionInfo": {
     "elapsed": 1431,
     "status": "ok",
     "timestamp": 1587286368058,
     "user": {
      "displayName": "Sparsh Agarwal",
      "photoUrl": "",
      "userId": "13037694610922482904"
     },
     "user_tz": -330
    },
    "id": "ySbJSOKJn87d",
    "outputId": "6713d292-3b7b-4636-92a1-e3cb367c6c2f"
   },
   "outputs": [
    {
     "data": {
      "text/plain": [
       "array([2770,  858, 3302, ..., 1234,  606,  810])"
      ]
     },
     "execution_count": 35,
     "metadata": {
      "tags": []
     },
     "output_type": "execute_result"
    }
   ],
   "source": [
    "rec_item_ids = (-pred_for_user).argsort()\n",
    "rec_item_ids"
   ]
  },
  {
   "cell_type": "code",
   "execution_count": 36,
   "metadata": {
    "colab": {
     "base_uri": "https://localhost:8080/",
     "height": 34
    },
    "colab_type": "code",
    "executionInfo": {
     "elapsed": 1344,
     "status": "ok",
     "timestamp": 1587286372832,
     "user": {
      "displayName": "Sparsh Agarwal",
      "photoUrl": "",
      "userId": "13037694610922482904"
     },
     "user_tz": -330
    },
    "id": "dm79pGTFoApO",
    "outputId": "50968bc6-7f25-430a-9fcb-0e8894e7724a"
   },
   "outputs": [
    {
     "data": {
      "text/plain": [
       "3727"
      ]
     },
     "execution_count": 36,
     "metadata": {
      "tags": []
     },
     "output_type": "execute_result"
    }
   ],
   "source": [
    "# ground truth\n",
    "target = test.item_ids[0]\n",
    "target"
   ]
  },
  {
   "cell_type": "code",
   "execution_count": 37,
   "metadata": {
    "colab": {
     "base_uri": "https://localhost:8080/",
     "height": 34
    },
    "colab_type": "code",
    "executionInfo": {
     "elapsed": 773,
     "status": "ok",
     "timestamp": 1587286374271,
     "user": {
      "displayName": "Sparsh Agarwal",
      "photoUrl": "",
      "userId": "13037694610922482904"
     },
     "user_tz": -330
    },
    "id": "ULJJqSENoB4Z",
    "outputId": "f5f429f6-36f6-42c5-b2a2-37521e704e3b"
   },
   "outputs": [
    {
     "data": {
      "text/plain": [
       "(array([1040]),)"
      ]
     },
     "execution_count": 37,
     "metadata": {
      "tags": []
     },
     "output_type": "execute_result"
    }
   ],
   "source": [
    "np.where(rec_item_ids == target)"
   ]
  },
  {
   "cell_type": "markdown",
   "metadata": {
    "colab_type": "text",
    "id": "tUusie0zoH3L"
   },
   "source": [
    "Evaluation"
   ]
  },
  {
   "cell_type": "code",
   "execution_count": null,
   "metadata": {
    "colab": {},
    "colab_type": "code",
    "id": "u6Ufi-enoCOI"
   },
   "outputs": [],
   "source": [
    "implicit_mrr_score = mrr_score(model_implicit, test)\n",
    "(pk, rk) = precision_recall_score(model_implicit, test, k= 5)"
   ]
  },
  {
   "cell_type": "markdown",
   "metadata": {
    "colab_type": "text",
    "id": "QmDyf4tYoRTm"
   },
   "source": [
    "Sequence Model"
   ]
  },
  {
   "cell_type": "code",
   "execution_count": null,
   "metadata": {
    "colab": {},
    "colab_type": "code",
    "id": "EnbvJzlCoQXX"
   },
   "outputs": [],
   "source": [
    "max_sequence_length = 200\n",
    "min_sequence_length = 50\n",
    "step_size = 200"
   ]
  },
  {
   "cell_type": "code",
   "execution_count": null,
   "metadata": {
    "colab": {},
    "colab_type": "code",
    "id": "kq6LESTloZEs"
   },
   "outputs": [],
   "source": [
    "train = train.to_sequence(max_sequence_length=max_sequence_length,\n",
    "                          min_sequence_length=min_sequence_length,\n",
    "                          step_size=step_size)\n",
    "test = test.to_sequence(max_sequence_length=max_sequence_length,\n",
    "                        min_sequence_length=min_sequence_length,\n",
    "                        step_size=step_size)\n",
    "val = val.to_sequence(max_sequence_length=max_sequence_length,\n",
    "                                    min_sequence_length=min_sequence_length,\n",
    "                                    step_size=step_size)"
   ]
  },
  {
   "cell_type": "code",
   "execution_count": 41,
   "metadata": {
    "colab": {
     "base_uri": "https://localhost:8080/",
     "height": 68
    },
    "colab_type": "code",
    "executionInfo": {
     "elapsed": 29885,
     "status": "ok",
     "timestamp": 1587286413111,
     "user": {
      "displayName": "Sparsh Agarwal",
      "photoUrl": "",
      "userId": "13037694610922482904"
     },
     "user_tz": -330
    },
    "id": "WD1eWb7toaCK",
    "outputId": "7c63bf51-395f-4589-febd-0817d26d0223"
   },
   "outputs": [
    {
     "name": "stdout",
     "output_type": "stream",
     "text": [
      "(1587, 200)\n",
      "(477, 200)\n",
      "(411, 200)\n"
     ]
    }
   ],
   "source": [
    "print(train.sequences.shape)\n",
    "print(test.sequences.shape)\n",
    "print(val.sequences.shape)"
   ]
  },
  {
   "cell_type": "code",
   "execution_count": null,
   "metadata": {
    "colab": {},
    "colab_type": "code",
    "id": "A6a02DcGobP3"
   },
   "outputs": [],
   "source": [
    "net = CNNNet(train.num_items,\n",
    "             embedding_dim=128,\n",
    "             kernel_width=3,\n",
    "             dilation=[1,1,1,1],\n",
    "             num_layers=2,\n",
    "             nonlinearity=\"relu\",\n",
    "             residual_connections=False)"
   ]
  },
  {
   "cell_type": "code",
   "execution_count": null,
   "metadata": {
    "colab": {},
    "colab_type": "code",
    "id": "KHwPicjbocLo"
   },
   "outputs": [],
   "source": [
    "model = ImplicitSequenceModel(loss=\"bpr\",\n",
    "                              representation=net,\n",
    "                              batch_size=32,\n",
    "                              learning_rate=0.1,\n",
    "                              l2=0.0,\n",
    "                              n_iter=2,\n",
    "                              random_state=random_state)"
   ]
  },
  {
   "cell_type": "code",
   "execution_count": null,
   "metadata": {
    "colab": {},
    "colab_type": "code",
    "id": "Sm2VYVNGodRW"
   },
   "outputs": [],
   "source": [
    "model.fit(train)"
   ]
  },
  {
   "cell_type": "markdown",
   "metadata": {
    "colab_type": "text",
    "id": "chWvWfVWofOu"
   },
   "source": [
    "Prediction"
   ]
  },
  {
   "cell_type": "code",
   "execution_count": 45,
   "metadata": {
    "colab": {
     "base_uri": "https://localhost:8080/",
     "height": 51
    },
    "colab_type": "code",
    "executionInfo": {
     "elapsed": 55397,
     "status": "ok",
     "timestamp": 1587286441442,
     "user": {
      "displayName": "Sparsh Agarwal",
      "photoUrl": "",
      "userId": "13037694610922482904"
     },
     "user_tz": -330
    },
    "id": "-I2Vtzp9oesZ",
    "outputId": "f0edc6ee-f962-43d8-e325-07c3bf7ebe29"
   },
   "outputs": [
    {
     "name": "stdout",
     "output_type": "stream",
     "text": [
      "Shape of query is :  (199,)\n",
      "The value of target is :  3152\n"
     ]
    }
   ],
   "source": [
    "query = test.sequences[1][0:199]\n",
    "target = test.sequences[1][199]\n",
    "\n",
    "print(\"Shape of query is : \",query.shape)\n",
    "print(\"The value of target is : \",target)"
   ]
  },
  {
   "cell_type": "code",
   "execution_count": null,
   "metadata": {
    "colab": {},
    "colab_type": "code",
    "id": "mtZIMdJPohcd"
   },
   "outputs": [],
   "source": [
    "pred = model.predict(query)"
   ]
  },
  {
   "cell_type": "code",
   "execution_count": 47,
   "metadata": {
    "colab": {
     "base_uri": "https://localhost:8080/",
     "height": 34
    },
    "colab_type": "code",
    "executionInfo": {
     "elapsed": 53864,
     "status": "ok",
     "timestamp": 1587286441443,
     "user": {
      "displayName": "Sparsh Agarwal",
      "photoUrl": "",
      "userId": "13037694610922482904"
     },
     "user_tz": -330
    },
    "id": "LJY9Id1kojDC",
    "outputId": "eb25b043-2a1f-45a4-80e0-4f5ae20e7ed8"
   },
   "outputs": [
    {
     "data": {
      "text/plain": [
       "(array([312]),)"
      ]
     },
     "execution_count": 47,
     "metadata": {
      "tags": []
     },
     "output_type": "execute_result"
    }
   ],
   "source": [
    "rec_item_ids = (-pred).argsort()\n",
    "np.where(rec_item_ids == target)"
   ]
  },
  {
   "cell_type": "code",
   "execution_count": 48,
   "metadata": {
    "colab": {
     "base_uri": "https://localhost:8080/",
     "height": 34
    },
    "colab_type": "code",
    "executionInfo": {
     "elapsed": 51820,
     "status": "ok",
     "timestamp": 1587286441444,
     "user": {
      "displayName": "Sparsh Agarwal",
      "photoUrl": "",
      "userId": "13037694610922482904"
     },
     "user_tz": -330
    },
    "id": "6WnSV2feomV3",
    "outputId": "86e2759c-7b0c-47bf-d301-e44554ec13a0"
   },
   "outputs": [
    {
     "data": {
      "text/plain": [
       "214851099"
      ]
     },
     "execution_count": 48,
     "metadata": {
      "tags": []
     },
     "output_type": "execute_result"
    }
   ],
   "source": [
    "#Item ID that is to be recommended :\n",
    "item_encoder.inverse_transform([rec_item_ids[0]-1])[0]"
   ]
  }
 ],
 "metadata": {
  "colab": {
   "authorship_tag": "ABX9TyNjE7QK7PcxORACaC8pz13M",
   "collapsed_sections": [],
   "mount_file_id": "1EXOD4ubC9Z6C6Ko-AGdpoytbqdCpBt4u",
   "name": "recsys_play_yoochoose",
   "provenance": []
  },
  "kernelspec": {
   "display_name": "Python 3",
   "language": "python",
   "name": "python3"
  },
  "language_info": {
   "codemirror_mode": {
    "name": "ipython",
    "version": 3
   },
   "file_extension": ".py",
   "mimetype": "text/x-python",
   "name": "python",
   "nbconvert_exporter": "python",
   "pygments_lexer": "ipython3",
   "version": "3.7.3"
  }
 },
 "nbformat": 4,
 "nbformat_minor": 4
}
