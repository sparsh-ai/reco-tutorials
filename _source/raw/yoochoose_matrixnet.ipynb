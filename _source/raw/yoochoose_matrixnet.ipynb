{
 "cells": [
  {
   "cell_type": "code",
   "execution_count": null,
   "metadata": {
    "id": "pGZah_B7-hHN"
   },
   "outputs": [],
   "source": [
    "# !mkdir /content/etc && git clone https://github.com/dao-v/Movie_Recommendation_System.git /content/etc"
   ]
  },
  {
   "cell_type": "code",
   "execution_count": 1,
   "metadata": {
    "colab": {
     "base_uri": "https://localhost:8080/"
    },
    "executionInfo": {
     "elapsed": 45514,
     "status": "ok",
     "timestamp": 1611396602965,
     "user": {
      "displayName": "Sparsh Agarwal",
      "photoUrl": "",
      "userId": "13037694610922482904"
     },
     "user_tz": -330
    },
    "id": "SFsED7ss0DXM",
    "outputId": "9a2b2080-645a-44e2-8892-e1c8b5ee86b6"
   },
   "outputs": [
    {
     "name": "stdout",
     "output_type": "stream",
     "text": [
      "/content/data\n",
      "  % Total    % Received % Xferd  Average Speed   Time    Time     Time  Current\n",
      "                                 Dload  Upload   Total   Spent    Left  Speed\n",
      "100  273M  100  273M    0     0  24.6M      0  0:00:11  0:00:11 --:--:-- 28.1M\n",
      "\n",
      "7-Zip [64] 16.02 : Copyright (c) 1999-2016 Igor Pavlov : 2016-05-21\n",
      "p7zip Version 16.02 (locale=en_US.UTF-8,Utf16=on,HugeFiles=on,64 bits,2 CPUs Intel(R) Xeon(R) CPU @ 2.30GHz (306F0),ASM,AES-NI)\n",
      "\n",
      "Scanning the drive for archives:\n",
      "  0M Sca        1 file, 287211932 bytes (274 MiB)\n",
      "\n",
      "Extracting archive: yoochoose-data.7z\n",
      "--\n",
      "Path = yoochoose-data.7z\n",
      "Type = 7z\n",
      "Physical Size = 287211932\n",
      "Headers Size = 255\n",
      "Method = LZMA:24\n",
      "Solid = +\n",
      "Blocks = 2\n",
      "\n",
      "      0% - yoochoose-buys.da                          1% - yoochoose-buys.da                          2% - yoochoose-buys.da                          2% 1 - yoochoose-clicks.da                              3% 1 - yoochoose-clicks.da                              4% 1 - yoochoose-clicks.da                              5% 1 - yoochoose-clicks.da                              6% 1 - yoochoose-clicks.da                              7% 1 - yoochoose-clicks.da                              8% 1 - yoochoose-clicks.da                              9% 1 - yoochoose-clicks.da                             10% 1 - yoochoose-clicks.da                             11% 1 - yoochoose-clicks.da                             12% 1 - yoochoose-clicks.da                             13% 1 - yoochoose-clicks.da                             14% 1 - yoochoose-clicks.da                             15% 1 - yoochoose-clicks.da                             16% 1 - yoochoose-clicks.da                             17% 1 - yoochoose-clicks.da                             18% 1 - yoochoose-clicks.da                             19% 1 - yoochoose-clicks.da                             20% 1 - yoochoose-clicks.da                             21% 1 - yoochoose-clicks.da                             22% 1 - yoochoose-clicks.da                             23% 1 - yoochoose-clicks.da                             24% 1 - yoochoose-clicks.da                             25% 1 - yoochoose-clicks.da                             26% 1 - yoochoose-clicks.da                             27% 1 - yoochoose-clicks.da                             28% 1 - yoochoose-clicks.da                             29% 1 - yoochoose-clicks.da                             30% 1 - yoochoose-clicks.da                             31% 1 - yoochoose-clicks.da                             32% 1 - yoochoose-clicks.da                             33% 1 - yoochoose-clicks.da                             34% 1 - yoochoose-clicks.da                             35% 1 - yoochoose-clicks.da                             36% 1 - yoochoose-clicks.da                             37% 1 - yoochoose-clicks.da                             38% 1 - yoochoose-clicks.da                             39% 1 - yoochoose-clicks.da                             40% 1 - yoochoose-clicks.da                             41% 1 - yoochoose-clicks.da                             42% 1 - yoochoose-clicks.da                             43% 1 - yoochoose-clicks.da                             44% 1 - yoochoose-clicks.da                             45% 1 - yoochoose-clicks.da                             46% 1 - yoochoose-clicks.da                             47% 1 - yoochoose-clicks.da                             48% 1 - yoochoose-clicks.da                             49% 1 - yoochoose-clicks.da                             50% 1 - yoochoose-clicks.da                             51% 1 - yoochoose-clicks.da                             52% 1 - yoochoose-clicks.da                             53% 1 - yoochoose-clicks.da                             54% 1 - yoochoose-clicks.da                             55% 1 - yoochoose-clicks.da                             56% 1 - yoochoose-clicks.da                             57% 1 - yoochoose-clicks.da                             58% 1 - yoochoose-clicks.da                             59% 1 - yoochoose-clicks.da                             60% 1 - yoochoose-clicks.da                             61% 1 - yoochoose-clicks.da                             62% 1 - yoochoose-clicks.da                             63% 1 - yoochoose-clicks.da                             64% 1 - yoochoose-clicks.da                             65% 1 - yoochoose-clicks.da                             66% 1 - yoochoose-clicks.da                             67% 1 - yoochoose-clicks.da                             68% 1 - yoochoose-clicks.da                             69% 1 - yoochoose-clicks.da                             70% 1 - yoochoose-clicks.da                             71% 1 - yoochoose-clicks.da                             72% 1 - yoochoose-clicks.da                             73% 1 - yoochoose-clicks.da                             74% 1 - yoochoose-clicks.da                             75% 1 - yoochoose-clicks.da                             76% 1 - yoochoose-clicks.da                             77% 1 - yoochoose-clicks.da                             78% 1 - yoochoose-clicks.da                             79% 1 - yoochoose-clicks.da                             80% 1 - yoochoose-clicks.da                             80% 2 - yoochoose-test.da                           81% 2 - yoochoose-test.da                           82% 2 - yoochoose-test.da                           83% 2 - yoochoose-test.da                           84% 2 - yoochoose-test.da                           85% 2 - yoochoose-test.da                           86% 2 - yoochoose-test.da                           87% 2 - yoochoose-test.da                           88% 2 - yoochoose-test.da                           89% 2 - yoochoose-test.da                           90% 2 - yoochoose-test.da                           91% 2 - yoochoose-test.da                           92% 2 - yoochoose-test.da                           93% 2 - yoochoose-test.da                           94% 2 - yoochoose-test.da                           95% 2 - yoochoose-test.da                           96% 2 - yoochoose-test.da                           97% 2 - yoochoose-test.da                           98% 2 - yoochoose-test.da                           99% 2 - yoochoose-test.da                           99%    Everything is Ok\n",
      "\n",
      "Files: 4\n",
      "Size:       1914111754\n",
      "Compressed: 287211932\n"
     ]
    }
   ],
   "source": [
    "!mkdir -p /content/data\r\n",
    "%cd /content/data\r\n",
    "!curl -Lo yoochoose-data.7z https://s3-eu-west-1.amazonaws.com/yc-rdata/yoochoose-data.7z\r\n",
    "!7z x yoochoose-data.7z"
   ]
  },
  {
   "cell_type": "code",
   "execution_count": 70,
   "metadata": {
    "executionInfo": {
     "elapsed": 1851,
     "status": "ok",
     "timestamp": 1611402876851,
     "user": {
      "displayName": "Sparsh Agarwal",
      "photoUrl": "",
      "userId": "13037694610922482904"
     },
     "user_tz": -330
    },
    "id": "apH5meGsuCni"
   },
   "outputs": [],
   "source": [
    "import numpy as np\r\n",
    "import pandas as pd\r\n",
    "import datetime\r\n",
    "import matplotlib.pyplot as plt\r\n",
    "import seaborn as sns"
   ]
  },
  {
   "cell_type": "code",
   "execution_count": 5,
   "metadata": {
    "executionInfo": {
     "elapsed": 2141,
     "status": "ok",
     "timestamp": 1611397307131,
     "user": {
      "displayName": "Sparsh Agarwal",
      "photoUrl": "",
      "userId": "13037694610922482904"
     },
     "user_tz": -330
    },
    "id": "hX6ev7uEwzAM"
   },
   "outputs": [],
   "source": [
    "c_file = '/content/data/yoochoose-clicks.dat'\r\n",
    "b_file = '/content/data/yoochoose-buys.dat'\r\n",
    "test_data_file = '/content/data/yoochoose-test.dat'\r\n",
    "\r\n",
    "c_index = [\"session_id\", \"timestamp\", \"item_id\", \"category\"]\r\n",
    "b_index = [\"session_id\", \"timestamp\", \"item_id\", \"price\", \"quantity\"]"
   ]
  },
  {
   "cell_type": "code",
   "execution_count": 6,
   "metadata": {
    "colab": {
     "base_uri": "https://localhost:8080/",
     "height": 669
    },
    "executionInfo": {
     "elapsed": 56679,
     "status": "ok",
     "timestamp": 1611397362256,
     "user": {
      "displayName": "Sparsh Agarwal",
      "photoUrl": "",
      "userId": "13037694610922482904"
     },
     "user_tz": -330
    },
    "id": "S5MyjTypwsnc",
    "outputId": "8b941ec3-2122-433c-91e5-060cc6d85b4f"
   },
   "outputs": [
    {
     "data": {
      "text/html": [
       "<div>\n",
       "<style scoped>\n",
       "    .dataframe tbody tr th:only-of-type {\n",
       "        vertical-align: middle;\n",
       "    }\n",
       "\n",
       "    .dataframe tbody tr th {\n",
       "        vertical-align: top;\n",
       "    }\n",
       "\n",
       "    .dataframe thead th {\n",
       "        text-align: right;\n",
       "    }\n",
       "</style>\n",
       "<table border=\"1\" class=\"dataframe\">\n",
       "  <thead>\n",
       "    <tr style=\"text-align: right;\">\n",
       "      <th></th>\n",
       "      <th>session_id</th>\n",
       "      <th>timestamp</th>\n",
       "      <th>item_id</th>\n",
       "      <th>category</th>\n",
       "    </tr>\n",
       "  </thead>\n",
       "  <tbody>\n",
       "    <tr>\n",
       "      <th>0</th>\n",
       "      <td>1</td>\n",
       "      <td>2014-04-07T10:51:09.277Z</td>\n",
       "      <td>214536502</td>\n",
       "      <td>0</td>\n",
       "    </tr>\n",
       "    <tr>\n",
       "      <th>1</th>\n",
       "      <td>1</td>\n",
       "      <td>2014-04-07T10:54:09.868Z</td>\n",
       "      <td>214536500</td>\n",
       "      <td>0</td>\n",
       "    </tr>\n",
       "    <tr>\n",
       "      <th>2</th>\n",
       "      <td>1</td>\n",
       "      <td>2014-04-07T10:54:46.998Z</td>\n",
       "      <td>214536506</td>\n",
       "      <td>0</td>\n",
       "    </tr>\n",
       "    <tr>\n",
       "      <th>3</th>\n",
       "      <td>1</td>\n",
       "      <td>2014-04-07T10:57:00.306Z</td>\n",
       "      <td>214577561</td>\n",
       "      <td>0</td>\n",
       "    </tr>\n",
       "    <tr>\n",
       "      <th>4</th>\n",
       "      <td>2</td>\n",
       "      <td>2014-04-07T13:56:37.614Z</td>\n",
       "      <td>214662742</td>\n",
       "      <td>0</td>\n",
       "    </tr>\n",
       "    <tr>\n",
       "      <th>5</th>\n",
       "      <td>2</td>\n",
       "      <td>2014-04-07T13:57:19.373Z</td>\n",
       "      <td>214662742</td>\n",
       "      <td>0</td>\n",
       "    </tr>\n",
       "    <tr>\n",
       "      <th>6</th>\n",
       "      <td>2</td>\n",
       "      <td>2014-04-07T13:58:37.446Z</td>\n",
       "      <td>214825110</td>\n",
       "      <td>0</td>\n",
       "    </tr>\n",
       "    <tr>\n",
       "      <th>7</th>\n",
       "      <td>2</td>\n",
       "      <td>2014-04-07T13:59:50.710Z</td>\n",
       "      <td>214757390</td>\n",
       "      <td>0</td>\n",
       "    </tr>\n",
       "    <tr>\n",
       "      <th>8</th>\n",
       "      <td>2</td>\n",
       "      <td>2014-04-07T14:00:38.247Z</td>\n",
       "      <td>214757407</td>\n",
       "      <td>0</td>\n",
       "    </tr>\n",
       "    <tr>\n",
       "      <th>9</th>\n",
       "      <td>2</td>\n",
       "      <td>2014-04-07T14:02:36.889Z</td>\n",
       "      <td>214551617</td>\n",
       "      <td>0</td>\n",
       "    </tr>\n",
       "    <tr>\n",
       "      <th>10</th>\n",
       "      <td>3</td>\n",
       "      <td>2014-04-02T13:17:46.940Z</td>\n",
       "      <td>214716935</td>\n",
       "      <td>0</td>\n",
       "    </tr>\n",
       "    <tr>\n",
       "      <th>11</th>\n",
       "      <td>3</td>\n",
       "      <td>2014-04-02T13:26:02.515Z</td>\n",
       "      <td>214774687</td>\n",
       "      <td>0</td>\n",
       "    </tr>\n",
       "    <tr>\n",
       "      <th>12</th>\n",
       "      <td>3</td>\n",
       "      <td>2014-04-02T13:30:12.318Z</td>\n",
       "      <td>214832672</td>\n",
       "      <td>0</td>\n",
       "    </tr>\n",
       "    <tr>\n",
       "      <th>13</th>\n",
       "      <td>4</td>\n",
       "      <td>2014-04-07T12:09:10.948Z</td>\n",
       "      <td>214836765</td>\n",
       "      <td>0</td>\n",
       "    </tr>\n",
       "    <tr>\n",
       "      <th>14</th>\n",
       "      <td>4</td>\n",
       "      <td>2014-04-07T12:26:25.416Z</td>\n",
       "      <td>214706482</td>\n",
       "      <td>0</td>\n",
       "    </tr>\n",
       "    <tr>\n",
       "      <th>15</th>\n",
       "      <td>6</td>\n",
       "      <td>2014-04-06T16:58:20.848Z</td>\n",
       "      <td>214701242</td>\n",
       "      <td>0</td>\n",
       "    </tr>\n",
       "    <tr>\n",
       "      <th>16</th>\n",
       "      <td>6</td>\n",
       "      <td>2014-04-06T17:02:26.976Z</td>\n",
       "      <td>214826623</td>\n",
       "      <td>0</td>\n",
       "    </tr>\n",
       "    <tr>\n",
       "      <th>17</th>\n",
       "      <td>7</td>\n",
       "      <td>2014-04-02T06:38:53.104Z</td>\n",
       "      <td>214826835</td>\n",
       "      <td>0</td>\n",
       "    </tr>\n",
       "    <tr>\n",
       "      <th>18</th>\n",
       "      <td>7</td>\n",
       "      <td>2014-04-02T06:39:05.854Z</td>\n",
       "      <td>214826715</td>\n",
       "      <td>0</td>\n",
       "    </tr>\n",
       "    <tr>\n",
       "      <th>19</th>\n",
       "      <td>8</td>\n",
       "      <td>2014-04-06T08:49:58.728Z</td>\n",
       "      <td>214838855</td>\n",
       "      <td>0</td>\n",
       "    </tr>\n",
       "  </tbody>\n",
       "</table>\n",
       "</div>"
      ],
      "text/plain": [
       "    session_id                 timestamp    item_id category\n",
       "0            1  2014-04-07T10:51:09.277Z  214536502        0\n",
       "1            1  2014-04-07T10:54:09.868Z  214536500        0\n",
       "2            1  2014-04-07T10:54:46.998Z  214536506        0\n",
       "3            1  2014-04-07T10:57:00.306Z  214577561        0\n",
       "4            2  2014-04-07T13:56:37.614Z  214662742        0\n",
       "5            2  2014-04-07T13:57:19.373Z  214662742        0\n",
       "6            2  2014-04-07T13:58:37.446Z  214825110        0\n",
       "7            2  2014-04-07T13:59:50.710Z  214757390        0\n",
       "8            2  2014-04-07T14:00:38.247Z  214757407        0\n",
       "9            2  2014-04-07T14:02:36.889Z  214551617        0\n",
       "10           3  2014-04-02T13:17:46.940Z  214716935        0\n",
       "11           3  2014-04-02T13:26:02.515Z  214774687        0\n",
       "12           3  2014-04-02T13:30:12.318Z  214832672        0\n",
       "13           4  2014-04-07T12:09:10.948Z  214836765        0\n",
       "14           4  2014-04-07T12:26:25.416Z  214706482        0\n",
       "15           6  2014-04-06T16:58:20.848Z  214701242        0\n",
       "16           6  2014-04-06T17:02:26.976Z  214826623        0\n",
       "17           7  2014-04-02T06:38:53.104Z  214826835        0\n",
       "18           7  2014-04-02T06:39:05.854Z  214826715        0\n",
       "19           8  2014-04-06T08:49:58.728Z  214838855        0"
      ]
     },
     "execution_count": 6,
     "metadata": {
      "tags": []
     },
     "output_type": "execute_result"
    }
   ],
   "source": [
    "clicks = pd.read_csv(c_file, header=None, names=c_index, low_memory=False)\r\n",
    "clicks.head(20)"
   ]
  },
  {
   "cell_type": "code",
   "execution_count": 7,
   "metadata": {
    "colab": {
     "base_uri": "https://localhost:8080/",
     "height": 669
    },
    "executionInfo": {
     "elapsed": 53707,
     "status": "ok",
     "timestamp": 1611397363785,
     "user": {
      "displayName": "Sparsh Agarwal",
      "photoUrl": "",
      "userId": "13037694610922482904"
     },
     "user_tz": -330
    },
    "id": "Cd031eUOw2FT",
    "outputId": "d5180b93-5483-4451-8498-df5b3d769dc3"
   },
   "outputs": [
    {
     "data": {
      "text/html": [
       "<div>\n",
       "<style scoped>\n",
       "    .dataframe tbody tr th:only-of-type {\n",
       "        vertical-align: middle;\n",
       "    }\n",
       "\n",
       "    .dataframe tbody tr th {\n",
       "        vertical-align: top;\n",
       "    }\n",
       "\n",
       "    .dataframe thead th {\n",
       "        text-align: right;\n",
       "    }\n",
       "</style>\n",
       "<table border=\"1\" class=\"dataframe\">\n",
       "  <thead>\n",
       "    <tr style=\"text-align: right;\">\n",
       "      <th></th>\n",
       "      <th>session_id</th>\n",
       "      <th>timestamp</th>\n",
       "      <th>item_id</th>\n",
       "      <th>price</th>\n",
       "      <th>quantity</th>\n",
       "    </tr>\n",
       "  </thead>\n",
       "  <tbody>\n",
       "    <tr>\n",
       "      <th>0</th>\n",
       "      <td>420374</td>\n",
       "      <td>2014-04-06T18:44:58.314Z</td>\n",
       "      <td>214537888</td>\n",
       "      <td>12462</td>\n",
       "      <td>1</td>\n",
       "    </tr>\n",
       "    <tr>\n",
       "      <th>1</th>\n",
       "      <td>420374</td>\n",
       "      <td>2014-04-06T18:44:58.325Z</td>\n",
       "      <td>214537850</td>\n",
       "      <td>10471</td>\n",
       "      <td>1</td>\n",
       "    </tr>\n",
       "    <tr>\n",
       "      <th>2</th>\n",
       "      <td>281626</td>\n",
       "      <td>2014-04-06T09:40:13.032Z</td>\n",
       "      <td>214535653</td>\n",
       "      <td>1883</td>\n",
       "      <td>1</td>\n",
       "    </tr>\n",
       "    <tr>\n",
       "      <th>3</th>\n",
       "      <td>420368</td>\n",
       "      <td>2014-04-04T06:13:28.848Z</td>\n",
       "      <td>214530572</td>\n",
       "      <td>6073</td>\n",
       "      <td>1</td>\n",
       "    </tr>\n",
       "    <tr>\n",
       "      <th>4</th>\n",
       "      <td>420368</td>\n",
       "      <td>2014-04-04T06:13:28.858Z</td>\n",
       "      <td>214835025</td>\n",
       "      <td>2617</td>\n",
       "      <td>1</td>\n",
       "    </tr>\n",
       "    <tr>\n",
       "      <th>5</th>\n",
       "      <td>140806</td>\n",
       "      <td>2014-04-07T09:22:28.132Z</td>\n",
       "      <td>214668193</td>\n",
       "      <td>523</td>\n",
       "      <td>1</td>\n",
       "    </tr>\n",
       "    <tr>\n",
       "      <th>6</th>\n",
       "      <td>140806</td>\n",
       "      <td>2014-04-07T09:22:28.176Z</td>\n",
       "      <td>214587399</td>\n",
       "      <td>1046</td>\n",
       "      <td>1</td>\n",
       "    </tr>\n",
       "    <tr>\n",
       "      <th>7</th>\n",
       "      <td>140806</td>\n",
       "      <td>2014-04-07T09:22:28.219Z</td>\n",
       "      <td>214586690</td>\n",
       "      <td>837</td>\n",
       "      <td>1</td>\n",
       "    </tr>\n",
       "    <tr>\n",
       "      <th>8</th>\n",
       "      <td>140806</td>\n",
       "      <td>2014-04-07T09:22:28.268Z</td>\n",
       "      <td>214774667</td>\n",
       "      <td>1151</td>\n",
       "      <td>1</td>\n",
       "    </tr>\n",
       "    <tr>\n",
       "      <th>9</th>\n",
       "      <td>140806</td>\n",
       "      <td>2014-04-07T09:22:28.280Z</td>\n",
       "      <td>214578823</td>\n",
       "      <td>1046</td>\n",
       "      <td>1</td>\n",
       "    </tr>\n",
       "    <tr>\n",
       "      <th>10</th>\n",
       "      <td>11</td>\n",
       "      <td>2014-04-03T11:04:11.417Z</td>\n",
       "      <td>214821371</td>\n",
       "      <td>1046</td>\n",
       "      <td>1</td>\n",
       "    </tr>\n",
       "    <tr>\n",
       "      <th>11</th>\n",
       "      <td>11</td>\n",
       "      <td>2014-04-03T11:04:18.097Z</td>\n",
       "      <td>214821371</td>\n",
       "      <td>1046</td>\n",
       "      <td>1</td>\n",
       "    </tr>\n",
       "    <tr>\n",
       "      <th>12</th>\n",
       "      <td>12</td>\n",
       "      <td>2014-04-02T10:42:17.227Z</td>\n",
       "      <td>214717867</td>\n",
       "      <td>1778</td>\n",
       "      <td>4</td>\n",
       "    </tr>\n",
       "    <tr>\n",
       "      <th>13</th>\n",
       "      <td>489758</td>\n",
       "      <td>2014-04-06T09:59:52.422Z</td>\n",
       "      <td>214826955</td>\n",
       "      <td>1360</td>\n",
       "      <td>2</td>\n",
       "    </tr>\n",
       "    <tr>\n",
       "      <th>14</th>\n",
       "      <td>489758</td>\n",
       "      <td>2014-04-06T09:59:52.476Z</td>\n",
       "      <td>214826715</td>\n",
       "      <td>732</td>\n",
       "      <td>2</td>\n",
       "    </tr>\n",
       "    <tr>\n",
       "      <th>15</th>\n",
       "      <td>489758</td>\n",
       "      <td>2014-04-06T09:59:52.578Z</td>\n",
       "      <td>214827026</td>\n",
       "      <td>1046</td>\n",
       "      <td>1</td>\n",
       "    </tr>\n",
       "    <tr>\n",
       "      <th>16</th>\n",
       "      <td>140802</td>\n",
       "      <td>2014-04-02T16:52:21.678Z</td>\n",
       "      <td>214716984</td>\n",
       "      <td>1883</td>\n",
       "      <td>1</td>\n",
       "    </tr>\n",
       "    <tr>\n",
       "      <th>17</th>\n",
       "      <td>489756</td>\n",
       "      <td>2014-04-05T16:51:59.947Z</td>\n",
       "      <td>214716932</td>\n",
       "      <td>6177</td>\n",
       "      <td>1</td>\n",
       "    </tr>\n",
       "    <tr>\n",
       "      <th>18</th>\n",
       "      <td>420378</td>\n",
       "      <td>2014-04-03T07:41:02.566Z</td>\n",
       "      <td>214821017</td>\n",
       "      <td>1046</td>\n",
       "      <td>1</td>\n",
       "    </tr>\n",
       "    <tr>\n",
       "      <th>19</th>\n",
       "      <td>420378</td>\n",
       "      <td>2014-04-03T07:41:02.616Z</td>\n",
       "      <td>214821020</td>\n",
       "      <td>732</td>\n",
       "      <td>1</td>\n",
       "    </tr>\n",
       "  </tbody>\n",
       "</table>\n",
       "</div>"
      ],
      "text/plain": [
       "    session_id                 timestamp    item_id  price  quantity\n",
       "0       420374  2014-04-06T18:44:58.314Z  214537888  12462         1\n",
       "1       420374  2014-04-06T18:44:58.325Z  214537850  10471         1\n",
       "2       281626  2014-04-06T09:40:13.032Z  214535653   1883         1\n",
       "3       420368  2014-04-04T06:13:28.848Z  214530572   6073         1\n",
       "4       420368  2014-04-04T06:13:28.858Z  214835025   2617         1\n",
       "5       140806  2014-04-07T09:22:28.132Z  214668193    523         1\n",
       "6       140806  2014-04-07T09:22:28.176Z  214587399   1046         1\n",
       "7       140806  2014-04-07T09:22:28.219Z  214586690    837         1\n",
       "8       140806  2014-04-07T09:22:28.268Z  214774667   1151         1\n",
       "9       140806  2014-04-07T09:22:28.280Z  214578823   1046         1\n",
       "10          11  2014-04-03T11:04:11.417Z  214821371   1046         1\n",
       "11          11  2014-04-03T11:04:18.097Z  214821371   1046         1\n",
       "12          12  2014-04-02T10:42:17.227Z  214717867   1778         4\n",
       "13      489758  2014-04-06T09:59:52.422Z  214826955   1360         2\n",
       "14      489758  2014-04-06T09:59:52.476Z  214826715    732         2\n",
       "15      489758  2014-04-06T09:59:52.578Z  214827026   1046         1\n",
       "16      140802  2014-04-02T16:52:21.678Z  214716984   1883         1\n",
       "17      489756  2014-04-05T16:51:59.947Z  214716932   6177         1\n",
       "18      420378  2014-04-03T07:41:02.566Z  214821017   1046         1\n",
       "19      420378  2014-04-03T07:41:02.616Z  214821020    732         1"
      ]
     },
     "execution_count": 7,
     "metadata": {
      "tags": []
     },
     "output_type": "execute_result"
    }
   ],
   "source": [
    "buys = pd.read_csv(b_file, header=None, names=b_index)\r\n",
    "buys.head(20)"
   ]
  },
  {
   "cell_type": "code",
   "execution_count": 75,
   "metadata": {
    "executionInfo": {
     "elapsed": 1358,
     "status": "ok",
     "timestamp": 1611403254783,
     "user": {
      "displayName": "Sparsh Agarwal",
      "photoUrl": "",
      "userId": "13037694610922482904"
     },
     "user_tz": -330
    },
    "id": "6V-tH6_yw6XX"
   },
   "outputs": [],
   "source": [
    "def parse_datetime(dt_str):\r\n",
    "    return datetime.datetime.strptime(dt_str, '%Y-%m-%dT%H:%M:%S.%fZ')\r\n",
    "\r\n",
    "\r\n",
    "# The categories can be S (for promotion), 0 (when unknown), \r\n",
    "# a number between 1-12 when it came from a category on the page\r\n",
    "# or a 8-10 digit number that represents a brand\r\n",
    "\r\n",
    "def assign_cat(x):\r\n",
    "    if x == \"S\":\r\n",
    "        return \"PROMOTION\"\r\n",
    "    elif np.int(x) == 0:\r\n",
    "        return \"NONE\"\r\n",
    "    elif np.int(x) < 13:\r\n",
    "        return \"CATEGORY\"\r\n",
    "    else:\r\n",
    "        return \"BRAND\"\r\n",
    "\r\n",
    "def parse_clicks(df):\r\n",
    "    df = df.astype({\"session_id\": int})\r\n",
    "    df[\"timestamp\"] = df[\"timestamp\"].apply(parse_datetime)\r\n",
    "    df[\"category\"] = df.loc[:,'category'].map(assign_cat)\r\n",
    "    return df\r\n",
    "\r\n",
    "def parse_buys(df):\r\n",
    "    df = df.astype({\"session_id\": int, \"price\": float, \"quantity\": int})\r\n",
    "    df.drop([\"timestamp\"], inplace=True, axis=1)\r\n",
    "    df[\"action\"] = \"BUY\"\r\n",
    "    return df"
   ]
  },
  {
   "cell_type": "code",
   "execution_count": 93,
   "metadata": {
    "executionInfo": {
     "elapsed": 372455,
     "status": "ok",
     "timestamp": 1611404305884,
     "user": {
      "displayName": "Sparsh Agarwal",
      "photoUrl": "",
      "userId": "13037694610922482904"
     },
     "user_tz": -330
    },
    "id": "KJeEccw7xmw9"
   },
   "outputs": [],
   "source": [
    "clicks = parse_clicks(clicks)\r\n",
    "buys = parse_buys(buys)"
   ]
  },
  {
   "cell_type": "code",
   "execution_count": null,
   "metadata": {
    "id": "962h7755DkIy"
   },
   "outputs": [],
   "source": [
    "df = pd.merge(left=clicks, right=buys, how=\"left\", on=[\"session_id\", \"item_id\"])\r\n",
    "df.drop_duplicates(inplace=True)\r\n",
    "display(df.head())\r\n",
    "df.info()"
   ]
  },
  {
   "cell_type": "code",
   "execution_count": null,
   "metadata": {
    "id": "j-q5mcRsCs9r"
   },
   "outputs": [],
   "source": [
    "query = \"item_id==@ItemId & session_id==@SessionId\"\r\n",
    "ItemId = 214821371\r\n",
    "SessionId = 11\r\n",
    "display(clicks.query(query))\r\n",
    "display(buys.query(query))\r\n",
    "display(df.query(query))"
   ]
  },
  {
   "cell_type": "markdown",
   "metadata": {
    "id": "hUqfYl7RI0mx"
   },
   "source": [
    "### Sub-select data based on threshold"
   ]
  },
  {
   "cell_type": "code",
   "execution_count": null,
   "metadata": {
    "id": "Rl1jcxec5FKK"
   },
   "outputs": [],
   "source": [
    "SESSION_THRESHOLD = 20\r\n",
    "ITEM_THRESHOLD = 1000"
   ]
  },
  {
   "cell_type": "code",
   "execution_count": null,
   "metadata": {
    "id": "4ZMZSF3FI3sQ"
   },
   "outputs": [],
   "source": [
    "session_lengths = df.groupby([\"session_id\"]).size()\r\n",
    "session_lengths_w_threshold = (session_lengths[session_lengths>SESSION_THRESHOLD]).reset_index()\r\n",
    "df_with_session_threshold = df[df.session_id.isin(session_lengths_w_threshold.session_id)]"
   ]
  },
  {
   "cell_type": "code",
   "execution_count": null,
   "metadata": {
    "id": "K4jsFJQ4JF2y"
   },
   "outputs": [],
   "source": [
    "item_lengths = df.groupby([\"item_id\"]).size()\r\n",
    "item_lengths_w_threshold = item_lengths[item_lengths>ITEM_THRESHOLD]\r\n",
    "item_lengths_w_threshold = item_lengths_w_threshold.reset_index()\r\n",
    "df_with_session_item_threshold = df_with_session_threshold[df_with_session_threshold.item_id.isin(item_lengths_w_threshold.item_id)]"
   ]
  },
  {
   "cell_type": "code",
   "execution_count": null,
   "metadata": {
    "id": "7W7rO28bJQLc"
   },
   "outputs": [],
   "source": [
    "session_lengths_2 = df_with_session_item_threshold.groupby([\"session_id\"]).size()\r\n",
    "session_lengths_2_w_threshold = (session_lengths_2[session_lengths_2 > SESSION_THRESHOLD]).reset_index()"
   ]
  },
  {
   "cell_type": "code",
   "execution_count": null,
   "metadata": {
    "id": "3DMOqNE6JW5v"
   },
   "outputs": [],
   "source": [
    "df_final = df_with_session_item_threshold[df_with_session_item_threshold.session_id.isin(session_lengths_2_w_threshold.session_id)]\r\n",
    "df_final.head()"
   ]
  },
  {
   "cell_type": "code",
   "execution_count": null,
   "metadata": {
    "id": "Bj8Be54kJdno"
   },
   "outputs": [],
   "source": [
    "df_final.action.fillna(value=\"CLICK\", inplace=True)\r\n",
    "df_final.drop([\"price\", \"quantity\"], axis=1, inplace=True)\r\n",
    "df_final[\"rating\"] = df_final.action.apply(lambda x: 1 if (x == \"CLICK\") else 5)\r\n",
    "df_final.head()"
   ]
  }
 ],
 "metadata": {
  "colab": {
   "authorship_tag": "ABX9TyOZpkkpZWgp5qWlrYSZV+ht",
   "collapsed_sections": [],
   "mount_file_id": "1I6Gfnk8MIa8MguLiOlbrRnFsRcsDsfGR",
   "name": "RecSys Case Study YooChoose MatrixNet.ipynb",
   "provenance": [
    {
     "file_id": "1I6Gfnk8MIa8MguLiOlbrRnFsRcsDsfGR",
     "timestamp": 1611396133795
    },
    {
     "file_id": "1q1K6Z1bmswuvAfuCANYdHRaJbiRTJnQf",
     "timestamp": 1609686399851
    }
   ]
  },
  "kernelspec": {
   "display_name": "Python 3",
   "language": "python",
   "name": "python3"
  },
  "language_info": {
   "codemirror_mode": {
    "name": "ipython",
    "version": 3
   },
   "file_extension": ".py",
   "mimetype": "text/x-python",
   "name": "python",
   "nbconvert_exporter": "python",
   "pygments_lexer": "ipython3",
   "version": "3.7.3"
  }
 },
 "nbformat": 4,
 "nbformat_minor": 4
}
