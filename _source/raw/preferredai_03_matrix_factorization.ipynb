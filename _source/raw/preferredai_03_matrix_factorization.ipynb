{
  "nbformat": 4,
  "nbformat_minor": 0,
  "metadata": {
    "colab": {
      "name": "03_matrix_factorization.ipynb",
      "provenance": [],
      "collapsed_sections": []
    },
    "kernelspec": {
      "name": "python3",
      "display_name": "Python 3"
    }
  },
  "cells": [
    {
      "cell_type": "markdown",
      "metadata": {
        "id": "xLXWx4uhqtYJ",
        "colab_type": "text"
      },
      "source": [
        "<table class=\"tfo-notebook-buttons\" align=\"left\">\n",
        "  <td>\n",
        "    <a target=\"_blank\" href=\"https://colab.research.google.com/github/PreferredAI/tutorials/blob/master/recommender-systems/03_matrix_factorization.ipynb\"><img src=\"https://www.tensorflow.org/images/colab_logo_32px.png\" />Run in Google Colab</a>\n",
        "  </td>\n",
        "  <td>\n",
        "    <a target=\"_blank\" href=\"https://github.com/PreferredAI/tutorials/blob/master/recommender-systems/03_matrix_factorization.ipynb\"><img src=\"https://www.tensorflow.org/images/GitHub-Mark-32px.png\" />View source on GitHub</a>\n",
        "  </td>\n",
        "</table>"
      ]
    },
    {
      "cell_type": "markdown",
      "metadata": {
        "id": "wzPrmZOMtXt1",
        "colab_type": "text"
      },
      "source": [
        "# Matrix Factorization\n",
        "\n",
        "One apt abstraction for the ratings that users assign to items is a matrix. Most of the time, the rating matrix we observe is very sparse. The challenge then is how to fill in the missing values as accurately as possible.  If we assume that most matrices have a low-rank representation (it can be reconstructed from relatively few basis vectors), then one promising approach is to conduct matrix factorization.  Indeed, matrix factorization is a cornerstone of many recommendation algorithms."
      ]
    },
    {
      "cell_type": "markdown",
      "metadata": {
        "id": "MqktDa7H2hKz",
        "colab_type": "text"
      },
      "source": [
        "## 1. Setup"
      ]
    },
    {
      "cell_type": "code",
      "metadata": {
        "id": "41oWCMUG2eC_",
        "colab_type": "code",
        "colab": {}
      },
      "source": [
        "!pip install --quiet cornac==1.5.2 adjustText"
      ],
      "execution_count": 0,
      "outputs": []
    },
    {
      "cell_type": "code",
      "metadata": {
        "id": "YqKrDcGH2k7E",
        "colab_type": "code",
        "outputId": "7594ca3b-a5ee-4f36-d2ec-b5bd6fb63cc1",
        "colab": {
          "base_uri": "https://localhost:8080/",
          "height": 68
        }
      },
      "source": [
        "import os\n",
        "import sys\n",
        "import itertools\n",
        "\n",
        "import scipy.sparse as sp\n",
        "import numpy as np\n",
        "import pandas as pd\n",
        "import seaborn as sns\n",
        "import matplotlib.pyplot as plt\n",
        "from adjustText import adjust_text\n",
        "%matplotlib inline\n",
        "\n",
        "import cornac\n",
        "from cornac.utils import cache\n",
        "from cornac.datasets import movielens\n",
        "from cornac.eval_methods import RatioSplit\n",
        "from cornac.models import MF, NMF, BaselineOnly\n",
        "\n",
        "print(f\"System version: {sys.version}\")\n",
        "print(f\"Cornac version: {cornac.__version__}\")\n",
        "\n",
        "SEED = 42\n",
        "VERBOSE = False"
      ],
      "execution_count": 19,
      "outputs": [
        {
          "output_type": "stream",
          "text": [
            "System version: 3.6.9 (default, Apr 18 2020, 01:56:04) \n",
            "[GCC 8.4.0]\n",
            "Cornac version: 1.5.2\n"
          ],
          "name": "stdout"
        }
      ]
    },
    {
      "cell_type": "markdown",
      "metadata": {
        "id": "4fLSfYBAsN3h",
        "colab_type": "text"
      },
      "source": [
        "## 2. Low-Rank Approximation with Latent Factor Models"
      ]
    },
    {
      "cell_type": "markdown",
      "metadata": {
        "id": "nMNOXO8bNIyd",
        "colab_type": "text"
      },
      "source": [
        "### Sample Data\n",
        "\n",
        "For the purpose of illustration, we use a simple dataset involving 5 users and 6 items."
      ]
    },
    {
      "cell_type": "code",
      "metadata": {
        "id": "SoIsiTWIK1h0",
        "colab_type": "code",
        "outputId": "357da4a0-1cc6-4dde-82a5-6682933221e5",
        "colab": {
          "base_uri": "https://localhost:8080/",
          "height": 204
        }
      },
      "source": [
        "sample_df = pd.read_csv(\n",
        "  cache(\"https://static.preferred.ai/tutorials/recommender-systems/sample_data.csv\"), \n",
        "  sep=\",\", names=[\"UserID\", \"ItemID\", \"Rating\"]\n",
        ")\n",
        "dataset = cornac.data.Dataset.from_uir(sample_df.itertuples(index=False))\n",
        "R = dataset.matrix.A\n",
        "R_mask = (R > 0).astype(float)\n",
        "pd.DataFrame(\n",
        "  data=R,\n",
        "  index=[f\"User {u + 1}\" for u in np.arange(dataset.num_users)],\n",
        "  columns=[f\"Item {i + 1}\" for i in np.arange(dataset.num_items)]\n",
        ").replace(0, np.nan)"
      ],
      "execution_count": 3,
      "outputs": [
        {
          "output_type": "execute_result",
          "data": {
            "text/html": [
              "<div>\n",
              "<style scoped>\n",
              "    .dataframe tbody tr th:only-of-type {\n",
              "        vertical-align: middle;\n",
              "    }\n",
              "\n",
              "    .dataframe tbody tr th {\n",
              "        vertical-align: top;\n",
              "    }\n",
              "\n",
              "    .dataframe thead th {\n",
              "        text-align: right;\n",
              "    }\n",
              "</style>\n",
              "<table border=\"1\" class=\"dataframe\">\n",
              "  <thead>\n",
              "    <tr style=\"text-align: right;\">\n",
              "      <th></th>\n",
              "      <th>Item 1</th>\n",
              "      <th>Item 2</th>\n",
              "      <th>Item 3</th>\n",
              "      <th>Item 4</th>\n",
              "      <th>Item 5</th>\n",
              "      <th>Item 6</th>\n",
              "    </tr>\n",
              "  </thead>\n",
              "  <tbody>\n",
              "    <tr>\n",
              "      <th>User 1</th>\n",
              "      <td>7.0</td>\n",
              "      <td>6.0</td>\n",
              "      <td>7.0</td>\n",
              "      <td>4.0</td>\n",
              "      <td>5.0</td>\n",
              "      <td>4.0</td>\n",
              "    </tr>\n",
              "    <tr>\n",
              "      <th>User 2</th>\n",
              "      <td>6.0</td>\n",
              "      <td>7.0</td>\n",
              "      <td>NaN</td>\n",
              "      <td>4.0</td>\n",
              "      <td>3.0</td>\n",
              "      <td>4.0</td>\n",
              "    </tr>\n",
              "    <tr>\n",
              "      <th>User 3</th>\n",
              "      <td>NaN</td>\n",
              "      <td>3.0</td>\n",
              "      <td>3.0</td>\n",
              "      <td>1.0</td>\n",
              "      <td>1.0</td>\n",
              "      <td>NaN</td>\n",
              "    </tr>\n",
              "    <tr>\n",
              "      <th>User 4</th>\n",
              "      <td>1.0</td>\n",
              "      <td>2.0</td>\n",
              "      <td>2.0</td>\n",
              "      <td>3.0</td>\n",
              "      <td>3.0</td>\n",
              "      <td>4.0</td>\n",
              "    </tr>\n",
              "    <tr>\n",
              "      <th>User 5</th>\n",
              "      <td>1.0</td>\n",
              "      <td>NaN</td>\n",
              "      <td>1.0</td>\n",
              "      <td>2.0</td>\n",
              "      <td>3.0</td>\n",
              "      <td>3.0</td>\n",
              "    </tr>\n",
              "  </tbody>\n",
              "</table>\n",
              "</div>"
            ],
            "text/plain": [
              "        Item 1  Item 2  Item 3  Item 4  Item 5  Item 6\n",
              "User 1     7.0     6.0     7.0     4.0     5.0     4.0\n",
              "User 2     6.0     7.0     NaN     4.0     3.0     4.0\n",
              "User 3     NaN     3.0     3.0     1.0     1.0     NaN\n",
              "User 4     1.0     2.0     2.0     3.0     3.0     4.0\n",
              "User 5     1.0     NaN     1.0     2.0     3.0     3.0"
            ]
          },
          "metadata": {
            "tags": []
          },
          "execution_count": 3
        }
      ]
    },
    {
      "cell_type": "markdown",
      "metadata": {
        "id": "9EOlINhtyyIu",
        "colab_type": "text"
      },
      "source": [
        "### Singular Value Decomposition (SVD)\n",
        "\n",
        "For any real rating matrix $ R \\in \\mathbb{R}^{N \\times M} $, SVD seeks the following decomposition:\n",
        "\n",
        "$$ R = U \\Sigma V^T $$\n",
        "\n",
        "where $ U \\in \\mathbb{R}^{N \\times N} $ has orthonormal columns, $ \\Sigma \\in \\mathbb{R}^{N \\times M} $ is a matrix containing $D = \\mathrm{min}(N,M)$ singular values $ \\sigma_i \\geq 0 $ on the main diagonal, and $ V \\in \\mathbb{R}^{M \\times M} $ has orthonormal columns and rows.\n",
        "\n",
        "Let's try to decompose the sample matrix with SVD and reconstruct it with only the first singular value."
      ]
    },
    {
      "cell_type": "code",
      "metadata": {
        "id": "7cwkUfIBzdPV",
        "colab_type": "code",
        "outputId": "18cee754-e60a-42d5-d4c8-72c2a69ee69b",
        "colab": {
          "base_uri": "https://localhost:8080/",
          "height": 272
        }
      },
      "source": [
        "U, s, Vt = np.linalg.svd(R, full_matrices=True)\n",
        "print(\"Singular values: \", s.round(3))\n",
        "Sigma = np.zeros((R.shape[0], R.shape[1]))\n",
        "Sigma[:R.shape[0], :R.shape[0]] = np.diag(s)\n",
        "\n",
        "N = 1\n",
        "Sigma = Sigma[:, :N]\n",
        "Vt = Vt[:N, :]\n",
        "recon_R = U.dot(Sigma.dot(Vt))\n",
        "\n",
        "rmse = np.sqrt((((R - recon_R) ** 2) * R_mask).mean())\n",
        "print(f\"\\nRMSE = {rmse:.3f}\")\n",
        "print(\"Reconstructed matrix:\")\n",
        "pd.DataFrame(recon_R.round(2),\n",
        "             index=[f\"User {u + 1}\" for u in np.arange(dataset.num_users)],\n",
        "             columns=[f\"Item {i + 1}\" for i in np.arange(dataset.num_items)])"
      ],
      "execution_count": 4,
      "outputs": [
        {
          "output_type": "stream",
          "text": [
            "Singular values:  [18.703  5.187  4.537  2.526  0.561]\n",
            "\n",
            "RMSE = 1.065\n",
            "Reconstructed matrix:\n"
          ],
          "name": "stdout"
        },
        {
          "output_type": "execute_result",
          "data": {
            "text/html": [
              "<div>\n",
              "<style scoped>\n",
              "    .dataframe tbody tr th:only-of-type {\n",
              "        vertical-align: middle;\n",
              "    }\n",
              "\n",
              "    .dataframe tbody tr th {\n",
              "        vertical-align: top;\n",
              "    }\n",
              "\n",
              "    .dataframe thead th {\n",
              "        text-align: right;\n",
              "    }\n",
              "</style>\n",
              "<table border=\"1\" class=\"dataframe\">\n",
              "  <thead>\n",
              "    <tr style=\"text-align: right;\">\n",
              "      <th></th>\n",
              "      <th>Item 1</th>\n",
              "      <th>Item 2</th>\n",
              "      <th>Item 3</th>\n",
              "      <th>Item 4</th>\n",
              "      <th>Item 5</th>\n",
              "      <th>Item 6</th>\n",
              "    </tr>\n",
              "  </thead>\n",
              "  <tbody>\n",
              "    <tr>\n",
              "      <th>User 1</th>\n",
              "      <td>6.44</td>\n",
              "      <td>6.78</td>\n",
              "      <td>4.63</td>\n",
              "      <td>4.79</td>\n",
              "      <td>5.06</td>\n",
              "      <td>5.04</td>\n",
              "    </tr>\n",
              "    <tr>\n",
              "      <th>User 2</th>\n",
              "      <td>4.95</td>\n",
              "      <td>5.21</td>\n",
              "      <td>3.56</td>\n",
              "      <td>3.69</td>\n",
              "      <td>3.89</td>\n",
              "      <td>3.87</td>\n",
              "    </tr>\n",
              "    <tr>\n",
              "      <th>User 3</th>\n",
              "      <td>1.55</td>\n",
              "      <td>1.63</td>\n",
              "      <td>1.12</td>\n",
              "      <td>1.16</td>\n",
              "      <td>1.22</td>\n",
              "      <td>1.21</td>\n",
              "    </tr>\n",
              "    <tr>\n",
              "      <th>User 4</th>\n",
              "      <td>2.78</td>\n",
              "      <td>2.93</td>\n",
              "      <td>2.00</td>\n",
              "      <td>2.07</td>\n",
              "      <td>2.18</td>\n",
              "      <td>2.18</td>\n",
              "    </tr>\n",
              "    <tr>\n",
              "      <th>User 5</th>\n",
              "      <td>1.79</td>\n",
              "      <td>1.89</td>\n",
              "      <td>1.29</td>\n",
              "      <td>1.34</td>\n",
              "      <td>1.41</td>\n",
              "      <td>1.40</td>\n",
              "    </tr>\n",
              "  </tbody>\n",
              "</table>\n",
              "</div>"
            ],
            "text/plain": [
              "        Item 1  Item 2  Item 3  Item 4  Item 5  Item 6\n",
              "User 1    6.44    6.78    4.63    4.79    5.06    5.04\n",
              "User 2    4.95    5.21    3.56    3.69    3.89    3.87\n",
              "User 3    1.55    1.63    1.12    1.16    1.22    1.21\n",
              "User 4    2.78    2.93    2.00    2.07    2.18    2.18\n",
              "User 5    1.79    1.89    1.29    1.34    1.41    1.40"
            ]
          },
          "metadata": {
            "tags": []
          },
          "execution_count": 4
        }
      ]
    },
    {
      "cell_type": "markdown",
      "metadata": {
        "id": "5R7M5YRjq_Nm",
        "colab_type": "text"
      },
      "source": [
        "### Matrix Factorization (MF)\n",
        "\n",
        "In matrix factorization, a sparse rating matrix $R \\in \\mathbb{R}^{N \\times M}$, for $N$ users and $M$ items, is factorized into matrix $U \\in \\mathbb{R}^{N \\times K}$ and matrix $V \\in \\mathbb{R}^{M \\times K}$, as follows:\n",
        "\n",
        "$$ R = UV^T $$\n",
        "\n",
        "Each row of $U$ (or $V$) is referred to as latent *factors* of user (or item).  MF model in Cornac is implemented to use *stochastic gradient descent* for optimization.\n",
        "\n",
        "\n",
        "Let's try to factorize the sample matrix using MF with $K=1$."
      ]
    },
    {
      "cell_type": "code",
      "metadata": {
        "id": "ig8aXp0urX0V",
        "colab_type": "code",
        "outputId": "fd6f21ac-e654-44e5-daf1-99ace7d8405c",
        "colab": {
          "base_uri": "https://localhost:8080/",
          "height": 476
        }
      },
      "source": [
        "mf = MF(\n",
        "  k=1, max_iter=100, learning_rate=0.01, lambda_reg=0.0, use_bias=False, verbose=VERBOSE\n",
        ").fit(dataset)\n",
        "print(\"User factors:\\n\", mf.u_factors)\n",
        "print(\"Item factors:\\n\", mf.i_factors)\n",
        "\n",
        "recon_R = np.empty(dataset.matrix.shape)\n",
        "for u, i in itertools.product(range(recon_R.shape[0]), range(recon_R.shape[1])):\n",
        "  recon_R[u, i] = mf.score(u, i)\n",
        "\n",
        "rmse = np.sqrt((((R - recon_R) ** 2) * R_mask).mean())\n",
        "print(f\"\\nRMSE = {rmse:.3f}\")\n",
        "print(\"Reconstructed matrix:\")\n",
        "pd.DataFrame(recon_R.round(2),\n",
        "             index=[f\"User {u + 1}\" for u in np.arange(dataset.num_users)],\n",
        "             columns=[f\"Item {i + 1}\" for i in np.arange(dataset.num_items)])"
      ],
      "execution_count": 5,
      "outputs": [
        {
          "output_type": "stream",
          "text": [
            "User factors:\n",
            " [[-2.9987602]\n",
            " [-2.7542698]\n",
            " [-1.1653224]\n",
            " [-1.2854062]\n",
            " [-1.061081 ]]\n",
            "Item factors:\n",
            " [[-2.07999  ]\n",
            " [-2.2304168]\n",
            " [-2.1752381]\n",
            " [-1.4469432]\n",
            " [-1.4928712]\n",
            " [-1.5897514]]\n",
            "\n",
            "RMSE = 0.884\n",
            "Reconstructed matrix:\n"
          ],
          "name": "stdout"
        },
        {
          "output_type": "execute_result",
          "data": {
            "text/html": [
              "<div>\n",
              "<style scoped>\n",
              "    .dataframe tbody tr th:only-of-type {\n",
              "        vertical-align: middle;\n",
              "    }\n",
              "\n",
              "    .dataframe tbody tr th {\n",
              "        vertical-align: top;\n",
              "    }\n",
              "\n",
              "    .dataframe thead th {\n",
              "        text-align: right;\n",
              "    }\n",
              "</style>\n",
              "<table border=\"1\" class=\"dataframe\">\n",
              "  <thead>\n",
              "    <tr style=\"text-align: right;\">\n",
              "      <th></th>\n",
              "      <th>Item 1</th>\n",
              "      <th>Item 2</th>\n",
              "      <th>Item 3</th>\n",
              "      <th>Item 4</th>\n",
              "      <th>Item 5</th>\n",
              "      <th>Item 6</th>\n",
              "    </tr>\n",
              "  </thead>\n",
              "  <tbody>\n",
              "    <tr>\n",
              "      <th>User 1</th>\n",
              "      <td>6.24</td>\n",
              "      <td>6.69</td>\n",
              "      <td>6.52</td>\n",
              "      <td>4.34</td>\n",
              "      <td>4.48</td>\n",
              "      <td>4.77</td>\n",
              "    </tr>\n",
              "    <tr>\n",
              "      <th>User 2</th>\n",
              "      <td>5.73</td>\n",
              "      <td>6.14</td>\n",
              "      <td>5.99</td>\n",
              "      <td>3.99</td>\n",
              "      <td>4.11</td>\n",
              "      <td>4.38</td>\n",
              "    </tr>\n",
              "    <tr>\n",
              "      <th>User 3</th>\n",
              "      <td>2.42</td>\n",
              "      <td>2.60</td>\n",
              "      <td>2.53</td>\n",
              "      <td>1.69</td>\n",
              "      <td>1.74</td>\n",
              "      <td>1.85</td>\n",
              "    </tr>\n",
              "    <tr>\n",
              "      <th>User 4</th>\n",
              "      <td>2.67</td>\n",
              "      <td>2.87</td>\n",
              "      <td>2.80</td>\n",
              "      <td>1.86</td>\n",
              "      <td>1.92</td>\n",
              "      <td>2.04</td>\n",
              "    </tr>\n",
              "    <tr>\n",
              "      <th>User 5</th>\n",
              "      <td>2.21</td>\n",
              "      <td>2.37</td>\n",
              "      <td>2.31</td>\n",
              "      <td>1.54</td>\n",
              "      <td>1.58</td>\n",
              "      <td>1.69</td>\n",
              "    </tr>\n",
              "  </tbody>\n",
              "</table>\n",
              "</div>"
            ],
            "text/plain": [
              "        Item 1  Item 2  Item 3  Item 4  Item 5  Item 6\n",
              "User 1    6.24    6.69    6.52    4.34    4.48    4.77\n",
              "User 2    5.73    6.14    5.99    3.99    4.11    4.38\n",
              "User 3    2.42    2.60    2.53    1.69    1.74    1.85\n",
              "User 4    2.67    2.87    2.80    1.86    1.92    2.04\n",
              "User 5    2.21    2.37    2.31    1.54    1.58    1.69"
            ]
          },
          "metadata": {
            "tags": []
          },
          "execution_count": 5
        }
      ]
    },
    {
      "cell_type": "markdown",
      "metadata": {
        "id": "jmph6ivErdG5",
        "colab_type": "text"
      },
      "source": [
        "### Let's Try MF on a Real Dataset\n",
        "\n",
        "Here, we try MF on MovieLens 100K dataset.  You can experiment with different number of factors!"
      ]
    },
    {
      "cell_type": "code",
      "metadata": {
        "id": "4xU11wUMso7L",
        "colab_type": "code",
        "outputId": "289ca379-8dbc-493a-e902-433d03c0fc10",
        "colab": {
          "base_uri": "https://localhost:8080/",
          "height": 136
        }
      },
      "source": [
        "K = 100\n",
        "mf = MF(k=K, max_iter=20, learning_rate=0.01, lambda_reg=0.0, use_bias=False,\n",
        "        verbose=VERBOSE, seed=SEED, name=f\"MF(K={K})\")\n",
        "  \n",
        "data = movielens.load_feedback(variant=\"100K\")\n",
        "rs = RatioSplit(data, test_size=0.2, seed=SEED, verbose=VERBOSE)\n",
        "rmse = cornac.metrics.RMSE()\n",
        "cornac.Experiment(eval_method=rs, models=[mf], metrics=[rmse]).run()"
      ],
      "execution_count": 6,
      "outputs": [
        {
          "output_type": "stream",
          "text": [
            "\n",
            "TEST:\n",
            "...\n",
            "          |   RMSE | Train (s) | Test (s)\n",
            "--------- + ------ + --------- + --------\n",
            "MF(K=100) | 0.8957 |    0.4889 |   0.4283\n",
            "\n"
          ],
          "name": "stdout"
        }
      ]
    },
    {
      "cell_type": "markdown",
      "metadata": {
        "id": "r76coF3ZyWxb",
        "colab_type": "text"
      },
      "source": [
        "## 3. Regularization\n",
        "\n",
        "In real settings, rating matrix is normally very sparse, this can easily cause overfitting.  A common approach for addressing this problem is to use *regularization*.  In MF, we minimize *l2-norm* of the user and item factors, the regularization term is defined as:\n",
        "\n",
        "$$ \\mathrm{regularization} = \\frac{\\lambda}{2} \\big( ||U||^2 + ||V||^2 \\big) $$\n",
        "\n",
        "Let's see how MF with regularization performs."
      ]
    },
    {
      "cell_type": "code",
      "metadata": {
        "id": "p2iyzuFFs1Fq",
        "colab_type": "code",
        "outputId": "b6f48bd9-5f52-4b64-ddc4-0b3f0b3abb74",
        "colab": {
          "base_uri": "https://localhost:8080/",
          "height": 136
        }
      },
      "source": [
        "K = 100\n",
        "lbd = 0.01\n",
        "mf = MF(k=K, max_iter=20, learning_rate=0.01, lambda_reg=lbd, use_bias=False,\n",
        "        verbose=VERBOSE, seed=SEED, name=f\"MF(K={K},lambda={lbd:.4f})\")\n",
        "\n",
        "data = movielens.load_feedback(variant=\"100K\")\n",
        "rs = RatioSplit(data, test_size=0.2, seed=SEED, verbose=VERBOSE)\n",
        "rmse = cornac.metrics.RMSE()\n",
        "cornac.Experiment(eval_method=rs, models=[mf], metrics=[rmse]).run()"
      ],
      "execution_count": 7,
      "outputs": [
        {
          "output_type": "stream",
          "text": [
            "\n",
            "TEST:\n",
            "...\n",
            "                        |   RMSE | Train (s) | Test (s)\n",
            "----------------------- + ------ + --------- + --------\n",
            "MF(K=100,lambda=0.0100) | 0.8943 |    0.4681 |   0.4289\n",
            "\n"
          ],
          "name": "stdout"
        }
      ]
    },
    {
      "cell_type": "markdown",
      "metadata": {
        "id": "-8iXcfuKsVa8",
        "colab_type": "text"
      },
      "source": [
        "## 4. Effect of Bias\n",
        "\n",
        "Incorporating bias terms into prediction formular:\n",
        "\n",
        "$$\\hat{r}_{ij} = \\mu + b_u + b_i + \\mathbf{u}_i^T \\mathbf{v}_j $$\n",
        "\n",
        "where $\\mu$ is global average rating, $b_u$ and $b_i$ are user bias and item bias, respectively.\n",
        "\n",
        "Let's compare MF models with and without biases.  The *BaselineOnly* model is the one using only bias terms for prediction ($\\hat{r}_{ij} = \\mu + b_u + b_i $)."
      ]
    },
    {
      "cell_type": "code",
      "metadata": {
        "id": "NZ2Al6omrlEP",
        "colab_type": "code",
        "outputId": "83a655e3-e0be-4680-92fb-7a44f5ba8083",
        "colab": {
          "base_uri": "https://localhost:8080/",
          "height": 170
        }
      },
      "source": [
        "K = 100\n",
        "models = [\n",
        "  BaselineOnly(max_iter=20, learning_rate=0.01, lambda_reg=0.01, verbose=VERBOSE),\n",
        "  MF(k=K, max_iter=20, learning_rate=0.01, lambda_reg=0.01, use_bias=False, \n",
        "     verbose=VERBOSE, seed=SEED, name=f\"MF(K={K})\"),\n",
        "  MF(k=K, max_iter=20, learning_rate=0.01, lambda_reg=0.01, use_bias=True, \n",
        "     verbose=VERBOSE, seed=SEED, name=f\"MF(K={K},bias)\"),\n",
        "]\n",
        "\n",
        "data = movielens.load_feedback(variant=\"100K\")\n",
        "rs = RatioSplit(data, test_size=0.2, seed=SEED, verbose=VERBOSE)\n",
        "rmse = cornac.metrics.RMSE()\n",
        "cornac.Experiment(eval_method=rs, models=models, metrics=[rmse]).run()"
      ],
      "execution_count": 8,
      "outputs": [
        {
          "output_type": "stream",
          "text": [
            "\n",
            "TEST:\n",
            "...\n",
            "               |   RMSE | Train (s) | Test (s)\n",
            "-------------- + ------ + --------- + --------\n",
            "BaselineOnly   | 0.9105 |    0.0086 |   0.3360\n",
            "MF(K=100)      | 0.8943 |    0.4783 |   0.4022\n",
            "MF(K=100,bias) | 0.8878 |    0.4651 |   0.3693\n",
            "\n"
          ],
          "name": "stdout"
        }
      ]
    },
    {
      "cell_type": "markdown",
      "metadata": {
        "id": "PwIrEqGEzdeh",
        "colab_type": "text"
      },
      "source": [
        "## 5. Non-Negative Matrix Factorization (NMF)\n",
        "\n",
        "A variant of matrix factorization is non-negative matrix factorization. No prizes for guessing that in this case the latent factors are constrained to be non-negative.  This allows for better interpretability as we can reason with positive values."
      ]
    },
    {
      "cell_type": "code",
      "metadata": {
        "id": "8frMpGZB-BBI",
        "colab_type": "code",
        "outputId": "ba2b3eb0-a478-42ce-c944-db198421c138",
        "colab": {
          "base_uri": "https://localhost:8080/",
          "height": 476
        }
      },
      "source": [
        "nmf = NMF(\n",
        "  k=1, max_iter=100, learning_rate=0.01, lambda_reg=0.0, verbose=VERBOSE\n",
        ").fit(dataset)\n",
        "print(\"User factors:\\n\", nmf.u_factors)\n",
        "print(\"Item factors:\\n\", nmf.i_factors)\n",
        "\n",
        "recon_R = np.empty(dataset.matrix.shape)\n",
        "for u, i in itertools.product(range(recon_R.shape[0]), range(recon_R.shape[1])):\n",
        "  recon_R[u, i] = nmf.score(u, i)\n",
        "\n",
        "rmse = np.sqrt((((R - recon_R) ** 2) * R_mask).mean())\n",
        "print(f\"\\nRMSE = {rmse:.3f}\")\n",
        "print(\"Reconstructed matrix:\")\n",
        "pd.DataFrame(recon_R.round(2),\n",
        "             index=[f\"User {u + 1}\" for u in np.arange(dataset.num_users)],\n",
        "             columns=[f\"Item {i + 1}\" for i in np.arange(dataset.num_items)])"
      ],
      "execution_count": 9,
      "outputs": [
        {
          "output_type": "stream",
          "text": [
            "User factors:\n",
            " [[2.7169957]\n",
            " [2.4874632]\n",
            " [1.0408951]\n",
            " [1.1351484]\n",
            " [0.9372645]]\n",
            "Item factors:\n",
            " [[2.121321 ]\n",
            " [2.2740886]\n",
            " [2.195838 ]\n",
            " [1.4921056]\n",
            " [1.5562365]\n",
            " [1.6591451]]\n",
            "\n",
            "RMSE = 0.921\n",
            "Reconstructed matrix:\n"
          ],
          "name": "stdout"
        },
        {
          "output_type": "execute_result",
          "data": {
            "text/html": [
              "<div>\n",
              "<style scoped>\n",
              "    .dataframe tbody tr th:only-of-type {\n",
              "        vertical-align: middle;\n",
              "    }\n",
              "\n",
              "    .dataframe tbody tr th {\n",
              "        vertical-align: top;\n",
              "    }\n",
              "\n",
              "    .dataframe thead th {\n",
              "        text-align: right;\n",
              "    }\n",
              "</style>\n",
              "<table border=\"1\" class=\"dataframe\">\n",
              "  <thead>\n",
              "    <tr style=\"text-align: right;\">\n",
              "      <th></th>\n",
              "      <th>Item 1</th>\n",
              "      <th>Item 2</th>\n",
              "      <th>Item 3</th>\n",
              "      <th>Item 4</th>\n",
              "      <th>Item 5</th>\n",
              "      <th>Item 6</th>\n",
              "    </tr>\n",
              "  </thead>\n",
              "  <tbody>\n",
              "    <tr>\n",
              "      <th>User 1</th>\n",
              "      <td>5.76</td>\n",
              "      <td>6.18</td>\n",
              "      <td>5.97</td>\n",
              "      <td>4.05</td>\n",
              "      <td>4.23</td>\n",
              "      <td>4.51</td>\n",
              "    </tr>\n",
              "    <tr>\n",
              "      <th>User 2</th>\n",
              "      <td>5.28</td>\n",
              "      <td>5.66</td>\n",
              "      <td>5.46</td>\n",
              "      <td>3.71</td>\n",
              "      <td>3.87</td>\n",
              "      <td>4.13</td>\n",
              "    </tr>\n",
              "    <tr>\n",
              "      <th>User 3</th>\n",
              "      <td>2.21</td>\n",
              "      <td>2.37</td>\n",
              "      <td>2.29</td>\n",
              "      <td>1.55</td>\n",
              "      <td>1.62</td>\n",
              "      <td>1.73</td>\n",
              "    </tr>\n",
              "    <tr>\n",
              "      <th>User 4</th>\n",
              "      <td>2.41</td>\n",
              "      <td>2.58</td>\n",
              "      <td>2.49</td>\n",
              "      <td>1.69</td>\n",
              "      <td>1.77</td>\n",
              "      <td>1.88</td>\n",
              "    </tr>\n",
              "    <tr>\n",
              "      <th>User 5</th>\n",
              "      <td>1.99</td>\n",
              "      <td>2.13</td>\n",
              "      <td>2.06</td>\n",
              "      <td>1.40</td>\n",
              "      <td>1.46</td>\n",
              "      <td>1.56</td>\n",
              "    </tr>\n",
              "  </tbody>\n",
              "</table>\n",
              "</div>"
            ],
            "text/plain": [
              "        Item 1  Item 2  Item 3  Item 4  Item 5  Item 6\n",
              "User 1    5.76    6.18    5.97    4.05    4.23    4.51\n",
              "User 2    5.28    5.66    5.46    3.71    3.87    4.13\n",
              "User 3    2.21    2.37    2.29    1.55    1.62    1.73\n",
              "User 4    2.41    2.58    2.49    1.69    1.77    1.88\n",
              "User 5    1.99    2.13    2.06    1.40    1.46    1.56"
            ]
          },
          "metadata": {
            "tags": []
          },
          "execution_count": 9
        }
      ]
    },
    {
      "cell_type": "markdown",
      "metadata": {
        "id": "7d28vTtZOZV9",
        "colab_type": "text"
      },
      "source": [
        "### NMF on MovieLens 100K"
      ]
    },
    {
      "cell_type": "code",
      "metadata": {
        "id": "wvGcKBeQs9gD",
        "colab_type": "code",
        "outputId": "6a7861b2-4296-41d3-faac-b2979d52ab9e",
        "colab": {
          "base_uri": "https://localhost:8080/",
          "height": 136
        }
      },
      "source": [
        "K = 10\n",
        "nmf = NMF(k=K, max_iter=200, learning_rate=0.01, lambda_reg=0.01, use_bias=False,\n",
        "          verbose=VERBOSE, seed=SEED, name=f\"NMF(K={K})\")\n",
        "          \n",
        "data = movielens.load_feedback(variant=\"100K\")\n",
        "rs = RatioSplit(data, test_size=0.2, seed=SEED, verbose=VERBOSE)\n",
        "rmse = cornac.metrics.RMSE()\n",
        "cornac.Experiment(eval_method=rs, models=[nmf], metrics=[rmse]).run()"
      ],
      "execution_count": 10,
      "outputs": [
        {
          "output_type": "stream",
          "text": [
            "\n",
            "TEST:\n",
            "...\n",
            "          |   RMSE | Train (s) | Test (s)\n",
            "--------- + ------ + --------- + --------\n",
            "NMF(K=10) | 1.0196 |    0.8241 |   0.4093\n",
            "\n"
          ],
          "name": "stdout"
        }
      ]
    },
    {
      "cell_type": "markdown",
      "metadata": {
        "id": "0V4hcvmFzlUw",
        "colab_type": "text"
      },
      "source": [
        "## 6. Interpreting Latent Factors\n",
        "\n",
        "To gain a sense of the inner workings of matrix factorization techniques, let us see how the latent factors could give us some information about how items are associated with one another, as well as which items tend to be associated with a particular factor."
      ]
    },
    {
      "cell_type": "code",
      "metadata": {
        "id": "shUv6el6sYON",
        "colab_type": "code",
        "colab": {}
      },
      "source": [
        "# Download some information of MovieLens 100K dataset\n",
        "item_df = pd.read_csv(\n",
        "  cache(\"http://files.grouplens.org/datasets/movielens/ml-100k/u.item\"), \n",
        "  sep=\"|\", encoding=\"ISO-8859-1\",\n",
        "  names=[\"ItemID\", \"Title\", \"Release Date\", \"Video Release Date\", \"IMDb URL\", \n",
        "         \"unknown\", \"Action\", \"Adventure\", \"Animation\", \"Children's\", \"Comedy\", \n",
        "         \"Crime\", \"Documentary\", \"Drama\", \"Fantasy\", \"Film-Noir\", \"Horror\", \n",
        "         \"Musical\", \"Mystery\", \"Romance\", \"Sci-Fi\", \"Thriller\", \"War\", \"Western\"]\n",
        ").set_index(\"ItemID\").drop(columns=[\"Video Release Date\", \"IMDb URL\", \"unknown\"])"
      ],
      "execution_count": 0,
      "outputs": []
    },
    {
      "cell_type": "markdown",
      "metadata": {
        "id": "NFfXCg1EftDS",
        "colab_type": "text"
      },
      "source": [
        "Let's retrain two models MF and NMF with 10 latent factors and compare their RMSE.  Is there any difference? Why?"
      ]
    },
    {
      "cell_type": "code",
      "metadata": {
        "id": "iBagT-DLJG_J",
        "colab_type": "code",
        "outputId": "0bf6843f-09cb-4080-f53c-8e4d2ac45f23",
        "colab": {
          "base_uri": "https://localhost:8080/",
          "height": 153
        }
      },
      "source": [
        "K = 10\n",
        "mf = MF(k=K, max_iter=20, learning_rate=0.01, lambda_reg=0.01, use_bias=False, \n",
        "        verbose=VERBOSE, seed=SEED, name=f\"MF(K={K})\")\n",
        "nmf = NMF(k=K, max_iter=200, learning_rate=0.01, lambda_reg=0.01, use_bias=False, \n",
        "          verbose=VERBOSE, seed=SEED, name=f\"NMF(K={K})\")\n",
        "  \n",
        "data = movielens.load_feedback(variant=\"100K\")\n",
        "rs = RatioSplit(data, test_size=0.2, seed=SEED, verbose=VERBOSE)\n",
        "rmse = cornac.metrics.RMSE()\n",
        "cornac.Experiment(eval_method=rs, models=[mf, nmf], metrics=[rmse]).run()"
      ],
      "execution_count": 12,
      "outputs": [
        {
          "output_type": "stream",
          "text": [
            "\n",
            "TEST:\n",
            "...\n",
            "          |   RMSE | Train (s) | Test (s)\n",
            "--------- + ------ + --------- + --------\n",
            "MF(K=10)  | 0.9027 |    0.0813 |   0.4240\n",
            "NMF(K=10) | 1.0196 |    0.8142 |   0.4056\n",
            "\n"
          ],
          "name": "stdout"
        }
      ]
    },
    {
      "cell_type": "markdown",
      "metadata": {
        "id": "vXcoCs33t-Zg",
        "colab_type": "text"
      },
      "source": [
        "### MF\n",
        "\n",
        "Below is the variance of each latent dimension across different items.  If a factor or dimension has higher variance, it is better at discriminating among different items.  Conversely, if the variance of a factor is too small, it implies that most items would have a similar value for that factor."
      ]
    },
    {
      "cell_type": "code",
      "metadata": {
        "id": "ZPvIpzrLtIK7",
        "colab_type": "code",
        "outputId": "28c3a614-c666-484b-e5f5-aa1be6b838c9",
        "colab": {
          "base_uri": "https://localhost:8080/",
          "height": 334
        }
      },
      "source": [
        "var_df = pd.DataFrame({\"Factor\": np.arange(K), \"Variance\": np.var(mf.i_factors, axis=0)})\n",
        "fig, ax = plt.subplots(figsize=(12, 5))\n",
        "sns.barplot(x=\"Factor\", y=\"Variance\", data=var_df, palette=\"ch:.25\", ax=ax);"
      ],
      "execution_count": 13,
      "outputs": [
        {
          "output_type": "display_data",
          "data": {
            "image/png": "[encoded data removed]",
            "text/plain": [
              "<Figure size 864x360 with 1 Axes>"
            ]
          },
          "metadata": {
            "tags": [],
            "needs_background": "light"
          }
        }
      ]
    },
    {
      "cell_type": "code",
      "metadata": {
        "id": "lv07yu0Hrygu",
        "colab_type": "code",
        "outputId": "2e6ab2ac-b779-47ec-af31-53da9bf1bc81",
        "colab": {
          "base_uri": "https://localhost:8080/",
          "height": 801
        }
      },
      "source": [
        "TOP2F = (0, 2)\n",
        "SAMPLE_SIZE = 20\n",
        "\n",
        "rng = np.random.RandomState(SEED)\n",
        "sample_inds = rng.choice(np.arange(mf.i_factors.shape[0]), size=SAMPLE_SIZE, replace=False)\n",
        "sample_df = pd.DataFrame(data=mf.i_factors[sample_inds][:, TOP2F], columns=[\"x\", \"y\"])\n",
        "\n",
        "sns.lmplot(x=\"x\", y=\"y\", data=sample_df, height=11.0, fit_reg=False)\n",
        "item_idx2id = list(mf.train_set.item_ids)\n",
        "titles = item_df.loc[[int(item_idx2id[i]) for i in sample_inds]][\"Title\"].values\n",
        "adjust_text(\n",
        "  [plt.text(*sample_df.loc[i].values, titles[i], size=10) for i in range(len(titles))]\n",
        ");"
      ],
      "execution_count": 14,
      "outputs": [
        {
          "output_type": "display_data",
          "data": {
            "image/png": "[encoded data removed]",
            "text/plain": [
              "<Figure size 792x792 with 1 Axes>"
            ]
          },
          "metadata": {
            "tags": [],
            "needs_background": "light"
          }
        }
      ]
    },
    {
      "cell_type": "markdown",
      "metadata": {
        "id": "i-Mp8q_Ut_mP",
        "colab_type": "text"
      },
      "source": [
        "### NMF\n",
        "\n",
        "Below is the variance of each latent dimension."
      ]
    },
    {
      "cell_type": "code",
      "metadata": {
        "id": "WC7PRQVxthL_",
        "colab_type": "code",
        "outputId": "87114658-b97e-4fab-a4e0-eb980b91c7e3",
        "colab": {
          "base_uri": "https://localhost:8080/",
          "height": 334
        }
      },
      "source": [
        "var_df = pd.DataFrame({\"Factor\": np.arange(K), \"Variance\": np.var(nmf.i_factors, axis=0)})\n",
        "fig, ax = plt.subplots(figsize=(12, 5))\n",
        "sns.barplot(x=\"Factor\", y=\"Variance\", data=var_df, palette=\"ch:.25\", ax=ax);"
      ],
      "execution_count": 15,
      "outputs": [
        {
          "output_type": "display_data",
          "data": {
            "image/png": "[encoded data removed]",
            "text/plain": [
              "<Figure size 864x360 with 1 Axes>"
            ]
          },
          "metadata": {
            "tags": [],
            "needs_background": "light"
          }
        }
      ]
    },
    {
      "cell_type": "code",
      "metadata": {
        "id": "NnnDUUcjMQbx",
        "colab_type": "code",
        "outputId": "64539d49-c351-4c3b-8855-330f474aa099",
        "colab": {
          "base_uri": "https://localhost:8080/",
          "height": 801
        }
      },
      "source": [
        "TOP2F = (5, 6)\n",
        "SAMPLE_SIZE = 20\n",
        "\n",
        "rng = np.random.RandomState(SEED)\n",
        "sample_inds = rng.choice(np.arange(nmf.i_factors.shape[0]), size=SAMPLE_SIZE, replace=False)\n",
        "sample_df = pd.DataFrame(data=nmf.i_factors[sample_inds][:, TOP2F], columns=[\"x\", \"y\"])\n",
        "\n",
        "sns.lmplot(x=\"x\", y=\"y\", data=sample_df, height=11.0, fit_reg=False)\n",
        "item_idx2id = list(nmf.train_set.item_ids)\n",
        "titles = item_df.loc[[int(item_idx2id[i]) for i in sample_inds]][\"Title\"].values\n",
        "adjust_text(\n",
        "  [plt.text(*sample_df.loc[i].values, titles[i], size=10) for i in range(len(titles))]\n",
        ");"
      ],
      "execution_count": 16,
      "outputs": [
        {
          "output_type": "display_data",
          "data": {
            "image/png": "[encoded data removed]",
            "text/plain": [
              "<Figure size 792x792 with 1 Axes>"
            ]
          },
          "metadata": {
            "tags": [],
            "needs_background": "light"
          }
        }
      ]
    },
    {
      "cell_type": "markdown",
      "metadata": {
        "id": "lAw_dhjXgQhR",
        "colab_type": "text"
      },
      "source": [
        "Let's see what are the top movies (i.e., highest values) of each latent dimension."
      ]
    },
    {
      "cell_type": "code",
      "metadata": {
        "id": "r96QuhYLscx0",
        "colab_type": "code",
        "outputId": "1972aaa8-c35c-4adf-83ee-e3484a537fb5",
        "colab": {
          "base_uri": "https://localhost:8080/",
          "height": 306
        }
      },
      "source": [
        "item_idx2id = list(nmf.train_set.item_ids)\n",
        "top_items = {}\n",
        "for k in range(K):\n",
        "  top_inds = np.argsort(nmf.i_factors[:, k])[-5:][::-1]\n",
        "  top_items[f\"Factor {k}\"] = item_df.loc[[int(item_idx2id[i]) for i in top_inds]][\"Title\"].values\n",
        "pd.DataFrame(top_items)"
      ],
      "execution_count": 17,
      "outputs": [
        {
          "output_type": "execute_result",
          "data": {
            "text/html": [
              "<div>\n",
              "<style scoped>\n",
              "    .dataframe tbody tr th:only-of-type {\n",
              "        vertical-align: middle;\n",
              "    }\n",
              "\n",
              "    .dataframe tbody tr th {\n",
              "        vertical-align: top;\n",
              "    }\n",
              "\n",
              "    .dataframe thead th {\n",
              "        text-align: right;\n",
              "    }\n",
              "</style>\n",
              "<table border=\"1\" class=\"dataframe\">\n",
              "  <thead>\n",
              "    <tr style=\"text-align: right;\">\n",
              "      <th></th>\n",
              "      <th>Factor 0</th>\n",
              "      <th>Factor 1</th>\n",
              "      <th>Factor 2</th>\n",
              "      <th>Factor 3</th>\n",
              "      <th>Factor 4</th>\n",
              "      <th>Factor 5</th>\n",
              "      <th>Factor 6</th>\n",
              "      <th>Factor 7</th>\n",
              "      <th>Factor 8</th>\n",
              "      <th>Factor 9</th>\n",
              "    </tr>\n",
              "  </thead>\n",
              "  <tbody>\n",
              "    <tr>\n",
              "      <th>0</th>\n",
              "      <td>Carpool (1996)</td>\n",
              "      <td>Best Men (1997)</td>\n",
              "      <td>Bhaji on the Beach (1993)</td>\n",
              "      <td>Garden of Finzi-Contini, The (Giardino dei Fin...</td>\n",
              "      <td>Tough and Deadly (1995)</td>\n",
              "      <td>Boys, Les (1997)</td>\n",
              "      <td>Ruby in Paradise (1993)</td>\n",
              "      <td>Deep Rising (1998)</td>\n",
              "      <td>City of Industry (1997)</td>\n",
              "      <td>Gumby: The Movie (1995)</td>\n",
              "    </tr>\n",
              "    <tr>\n",
              "      <th>1</th>\n",
              "      <td>Good Man in Africa, A (1994)</td>\n",
              "      <td>Paradise Lost: The Child Murders at Robin Hood...</td>\n",
              "      <td>Panther (1995)</td>\n",
              "      <td>Kissed (1996)</td>\n",
              "      <td>8 Heads in a Duffel Bag (1997)</td>\n",
              "      <td>Nénette et Boni (1996)</td>\n",
              "      <td>Mina Tannenbaum (1994)</td>\n",
              "      <td>Captives (1994)</td>\n",
              "      <td>Romper Stomper (1992)</td>\n",
              "      <td>Turbulence (1997)</td>\n",
              "    </tr>\n",
              "    <tr>\n",
              "      <th>2</th>\n",
              "      <td>Neon Bible, The (1995)</td>\n",
              "      <td>Angel Baby (1995)</td>\n",
              "      <td>Nina Takes a Lover (1994)</td>\n",
              "      <td>Ice Storm, The (1997)</td>\n",
              "      <td>Selena (1997)</td>\n",
              "      <td>Ghost in the Shell (Kokaku kidotai) (1995)</td>\n",
              "      <td>Harlem (1993)</td>\n",
              "      <td>Baby-Sitters Club, The (1995)</td>\n",
              "      <td>Tetsuo II: Body Hammer (1992)</td>\n",
              "      <td>Man in the Iron Mask, The (1998)</td>\n",
              "    </tr>\n",
              "    <tr>\n",
              "      <th>3</th>\n",
              "      <td>C'est arrivé près de chez vous (1992)</td>\n",
              "      <td>Cemetery Man (Dellamorte Dellamore) (1994)</td>\n",
              "      <td>Cats Don't Dance (1997)</td>\n",
              "      <td>Low Down Dirty Shame, A (1994)</td>\n",
              "      <td>Love Jones (1997)</td>\n",
              "      <td>Grace of My Heart (1996)</td>\n",
              "      <td>Secret Agent, The (1996)</td>\n",
              "      <td>Prisoner of the Mountains (Kavkazsky Plennik) ...</td>\n",
              "      <td>Boys, Les (1997)</td>\n",
              "      <td>Radioland Murders (1994)</td>\n",
              "    </tr>\n",
              "    <tr>\n",
              "      <th>4</th>\n",
              "      <td>Miami Rhapsody (1995)</td>\n",
              "      <td>Underground (1995)</td>\n",
              "      <td>Until the End of the World (Bis ans Ende der W...</td>\n",
              "      <td>Dunston Checks In (1996)</td>\n",
              "      <td>Little Princess, The (1939)</td>\n",
              "      <td>Stalingrad (1993)</td>\n",
              "      <td>White Balloon, The (1995)</td>\n",
              "      <td>Guilty as Sin (1993)</td>\n",
              "      <td>To Live (Huozhe) (1994)</td>\n",
              "      <td>Infinity (1996)</td>\n",
              "    </tr>\n",
              "  </tbody>\n",
              "</table>\n",
              "</div>"
            ],
            "text/plain": [
              "                                Factor 0  ...                          Factor 9\n",
              "0                         Carpool (1996)  ...           Gumby: The Movie (1995)\n",
              "1           Good Man in Africa, A (1994)  ...                 Turbulence (1997)\n",
              "2                 Neon Bible, The (1995)  ...  Man in the Iron Mask, The (1998)\n",
              "3  C'est arrivé près de chez vous (1992)  ...          Radioland Murders (1994)\n",
              "4                  Miami Rhapsody (1995)  ...                   Infinity (1996)\n",
              "\n",
              "[5 rows x 10 columns]"
            ]
          },
          "metadata": {
            "tags": []
          },
          "execution_count": 17
        }
      ]
    },
    {
      "cell_type": "markdown",
      "metadata": {
        "id": "AWTePvGqgeM9",
        "colab_type": "text"
      },
      "source": [
        "For each latent factor, we take the top 100 movies with the highest values for that factor.  We then bin them into their respective genres. This hints at whether there is a relationship or association between latent factors and movie genres."
      ]
    },
    {
      "cell_type": "code",
      "metadata": {
        "id": "zOOBLbjSwJf2",
        "colab_type": "code",
        "outputId": "8900f12e-9e0f-4765-aa37-96473df6e813",
        "colab": {
          "base_uri": "https://localhost:8080/",
          "height": 607
        }
      },
      "source": [
        "item_idx2id = list(nmf.train_set.item_ids)\n",
        "top_genres = {}\n",
        "for k in range(K):\n",
        "  top_inds = np.argsort(nmf.i_factors[:, k])[-100:]\n",
        "  top_items = item_df.loc[[int(item_idx2id[i]) for i in top_inds]]\n",
        "  top_genres[f\"Factor {k}\"] = top_items.drop(columns=[\"Title\", \"Release Date\"]).sum(axis=0)\n",
        "pd.DataFrame(top_genres)"
      ],
      "execution_count": 18,
      "outputs": [
        {
          "output_type": "execute_result",
          "data": {
            "text/html": [
              "<div>\n",
              "<style scoped>\n",
              "    .dataframe tbody tr th:only-of-type {\n",
              "        vertical-align: middle;\n",
              "    }\n",
              "\n",
              "    .dataframe tbody tr th {\n",
              "        vertical-align: top;\n",
              "    }\n",
              "\n",
              "    .dataframe thead th {\n",
              "        text-align: right;\n",
              "    }\n",
              "</style>\n",
              "<table border=\"1\" class=\"dataframe\">\n",
              "  <thead>\n",
              "    <tr style=\"text-align: right;\">\n",
              "      <th></th>\n",
              "      <th>Factor 0</th>\n",
              "      <th>Factor 1</th>\n",
              "      <th>Factor 2</th>\n",
              "      <th>Factor 3</th>\n",
              "      <th>Factor 4</th>\n",
              "      <th>Factor 5</th>\n",
              "      <th>Factor 6</th>\n",
              "      <th>Factor 7</th>\n",
              "      <th>Factor 8</th>\n",
              "      <th>Factor 9</th>\n",
              "    </tr>\n",
              "  </thead>\n",
              "  <tbody>\n",
              "    <tr>\n",
              "      <th>Action</th>\n",
              "      <td>18</td>\n",
              "      <td>11</td>\n",
              "      <td>12</td>\n",
              "      <td>17</td>\n",
              "      <td>12</td>\n",
              "      <td>7</td>\n",
              "      <td>4</td>\n",
              "      <td>5</td>\n",
              "      <td>20</td>\n",
              "      <td>15</td>\n",
              "    </tr>\n",
              "    <tr>\n",
              "      <th>Adventure</th>\n",
              "      <td>12</td>\n",
              "      <td>4</td>\n",
              "      <td>11</td>\n",
              "      <td>3</td>\n",
              "      <td>5</td>\n",
              "      <td>3</td>\n",
              "      <td>6</td>\n",
              "      <td>2</td>\n",
              "      <td>13</td>\n",
              "      <td>11</td>\n",
              "    </tr>\n",
              "    <tr>\n",
              "      <th>Animation</th>\n",
              "      <td>0</td>\n",
              "      <td>1</td>\n",
              "      <td>1</td>\n",
              "      <td>5</td>\n",
              "      <td>3</td>\n",
              "      <td>2</td>\n",
              "      <td>5</td>\n",
              "      <td>0</td>\n",
              "      <td>0</td>\n",
              "      <td>3</td>\n",
              "    </tr>\n",
              "    <tr>\n",
              "      <th>Children's</th>\n",
              "      <td>5</td>\n",
              "      <td>3</td>\n",
              "      <td>6</td>\n",
              "      <td>5</td>\n",
              "      <td>5</td>\n",
              "      <td>5</td>\n",
              "      <td>2</td>\n",
              "      <td>2</td>\n",
              "      <td>8</td>\n",
              "      <td>20</td>\n",
              "    </tr>\n",
              "    <tr>\n",
              "      <th>Comedy</th>\n",
              "      <td>27</td>\n",
              "      <td>29</td>\n",
              "      <td>31</td>\n",
              "      <td>36</td>\n",
              "      <td>22</td>\n",
              "      <td>32</td>\n",
              "      <td>33</td>\n",
              "      <td>28</td>\n",
              "      <td>24</td>\n",
              "      <td>38</td>\n",
              "    </tr>\n",
              "    <tr>\n",
              "      <th>Crime</th>\n",
              "      <td>7</td>\n",
              "      <td>9</td>\n",
              "      <td>5</td>\n",
              "      <td>9</td>\n",
              "      <td>4</td>\n",
              "      <td>3</td>\n",
              "      <td>6</td>\n",
              "      <td>4</td>\n",
              "      <td>9</td>\n",
              "      <td>3</td>\n",
              "    </tr>\n",
              "    <tr>\n",
              "      <th>Documentary</th>\n",
              "      <td>3</td>\n",
              "      <td>10</td>\n",
              "      <td>1</td>\n",
              "      <td>3</td>\n",
              "      <td>1</td>\n",
              "      <td>6</td>\n",
              "      <td>4</td>\n",
              "      <td>3</td>\n",
              "      <td>2</td>\n",
              "      <td>3</td>\n",
              "    </tr>\n",
              "    <tr>\n",
              "      <th>Drama</th>\n",
              "      <td>39</td>\n",
              "      <td>42</td>\n",
              "      <td>45</td>\n",
              "      <td>43</td>\n",
              "      <td>49</td>\n",
              "      <td>50</td>\n",
              "      <td>55</td>\n",
              "      <td>60</td>\n",
              "      <td>45</td>\n",
              "      <td>30</td>\n",
              "    </tr>\n",
              "    <tr>\n",
              "      <th>Fantasy</th>\n",
              "      <td>0</td>\n",
              "      <td>1</td>\n",
              "      <td>1</td>\n",
              "      <td>0</td>\n",
              "      <td>1</td>\n",
              "      <td>1</td>\n",
              "      <td>0</td>\n",
              "      <td>0</td>\n",
              "      <td>1</td>\n",
              "      <td>2</td>\n",
              "    </tr>\n",
              "    <tr>\n",
              "      <th>Film-Noir</th>\n",
              "      <td>1</td>\n",
              "      <td>0</td>\n",
              "      <td>0</td>\n",
              "      <td>3</td>\n",
              "      <td>2</td>\n",
              "      <td>1</td>\n",
              "      <td>0</td>\n",
              "      <td>1</td>\n",
              "      <td>0</td>\n",
              "      <td>1</td>\n",
              "    </tr>\n",
              "    <tr>\n",
              "      <th>Horror</th>\n",
              "      <td>4</td>\n",
              "      <td>5</td>\n",
              "      <td>6</td>\n",
              "      <td>4</td>\n",
              "      <td>4</td>\n",
              "      <td>7</td>\n",
              "      <td>6</td>\n",
              "      <td>1</td>\n",
              "      <td>6</td>\n",
              "      <td>7</td>\n",
              "    </tr>\n",
              "    <tr>\n",
              "      <th>Musical</th>\n",
              "      <td>2</td>\n",
              "      <td>2</td>\n",
              "      <td>1</td>\n",
              "      <td>9</td>\n",
              "      <td>2</td>\n",
              "      <td>1</td>\n",
              "      <td>3</td>\n",
              "      <td>5</td>\n",
              "      <td>2</td>\n",
              "      <td>7</td>\n",
              "    </tr>\n",
              "    <tr>\n",
              "      <th>Mystery</th>\n",
              "      <td>5</td>\n",
              "      <td>1</td>\n",
              "      <td>3</td>\n",
              "      <td>4</td>\n",
              "      <td>4</td>\n",
              "      <td>1</td>\n",
              "      <td>3</td>\n",
              "      <td>4</td>\n",
              "      <td>4</td>\n",
              "      <td>4</td>\n",
              "    </tr>\n",
              "    <tr>\n",
              "      <th>Romance</th>\n",
              "      <td>13</td>\n",
              "      <td>11</td>\n",
              "      <td>23</td>\n",
              "      <td>12</td>\n",
              "      <td>12</td>\n",
              "      <td>14</td>\n",
              "      <td>15</td>\n",
              "      <td>18</td>\n",
              "      <td>7</td>\n",
              "      <td>15</td>\n",
              "    </tr>\n",
              "    <tr>\n",
              "      <th>Sci-Fi</th>\n",
              "      <td>10</td>\n",
              "      <td>5</td>\n",
              "      <td>8</td>\n",
              "      <td>4</td>\n",
              "      <td>4</td>\n",
              "      <td>1</td>\n",
              "      <td>6</td>\n",
              "      <td>1</td>\n",
              "      <td>8</td>\n",
              "      <td>3</td>\n",
              "    </tr>\n",
              "    <tr>\n",
              "      <th>Thriller</th>\n",
              "      <td>18</td>\n",
              "      <td>14</td>\n",
              "      <td>18</td>\n",
              "      <td>15</td>\n",
              "      <td>15</td>\n",
              "      <td>7</td>\n",
              "      <td>6</td>\n",
              "      <td>8</td>\n",
              "      <td>15</td>\n",
              "      <td>19</td>\n",
              "    </tr>\n",
              "    <tr>\n",
              "      <th>War</th>\n",
              "      <td>8</td>\n",
              "      <td>5</td>\n",
              "      <td>2</td>\n",
              "      <td>4</td>\n",
              "      <td>2</td>\n",
              "      <td>5</td>\n",
              "      <td>2</td>\n",
              "      <td>2</td>\n",
              "      <td>2</td>\n",
              "      <td>0</td>\n",
              "    </tr>\n",
              "    <tr>\n",
              "      <th>Western</th>\n",
              "      <td>6</td>\n",
              "      <td>2</td>\n",
              "      <td>0</td>\n",
              "      <td>0</td>\n",
              "      <td>4</td>\n",
              "      <td>1</td>\n",
              "      <td>1</td>\n",
              "      <td>2</td>\n",
              "      <td>2</td>\n",
              "      <td>1</td>\n",
              "    </tr>\n",
              "  </tbody>\n",
              "</table>\n",
              "</div>"
            ],
            "text/plain": [
              "             Factor 0  Factor 1  Factor 2  ...  Factor 7  Factor 8  Factor 9\n",
              "Action             18        11        12  ...         5        20        15\n",
              "Adventure          12         4        11  ...         2        13        11\n",
              "Animation           0         1         1  ...         0         0         3\n",
              "Children's          5         3         6  ...         2         8        20\n",
              "Comedy             27        29        31  ...        28        24        38\n",
              "Crime               7         9         5  ...         4         9         3\n",
              "Documentary         3        10         1  ...         3         2         3\n",
              "Drama              39        42        45  ...        60        45        30\n",
              "Fantasy             0         1         1  ...         0         1         2\n",
              "Film-Noir           1         0         0  ...         1         0         1\n",
              "Horror              4         5         6  ...         1         6         7\n",
              "Musical             2         2         1  ...         5         2         7\n",
              "Mystery             5         1         3  ...         4         4         4\n",
              "Romance            13        11        23  ...        18         7        15\n",
              "Sci-Fi             10         5         8  ...         1         8         3\n",
              "Thriller           18        14        18  ...         8        15        19\n",
              "War                 8         5         2  ...         2         2         0\n",
              "Western             6         2         0  ...         2         2         1\n",
              "\n",
              "[18 rows x 10 columns]"
            ]
          },
          "metadata": {
            "tags": []
          },
          "execution_count": 18
        }
      ]
    },
    {
      "cell_type": "markdown",
      "metadata": {
        "id": "0FmiuTYiP_pB",
        "colab_type": "text"
      },
      "source": [
        "## References\n",
        "\n",
        "1.   Aggarwal, C. C. (2016). Recommender systems (Vol. 1). Cham: Springer International Publishing.\n",
        "2.   Koren, Y., Bell, R., & Volinsky, C. (2009). Matrix factorization techniques for recommender systems. Computer, 42(8), 30-37.\n",
        "3.   Lee, D. D., & Seung, H. S. (2001). Algorithms for non-negative matrix factorization. In Advances in neural information processing systems (pp. 556-562).\n",
        "\n"
      ]
    }
  ]
}