{
 "cells": [
  {
   "cell_type": "code",
   "execution_count": 52,
   "metadata": {
    "id": "PPc7TWLhw9j0"
   },
   "outputs": [],
   "source": [
    "%matplotlib inline\n",
    "\n",
    "import numpy as np\n",
    "import pandas as pd\n",
    "import matplotlib.pyplot as plt\n",
    "from collections import defaultdict\n",
    "from sklearn.feature_extraction.text import CountVectorizer\n",
    "from sklearn.metrics.pairwise import cosine_similarity"
   ]
  },
  {
   "cell_type": "code",
   "execution_count": 53,
   "metadata": {
    "colab": {
     "base_uri": "https://localhost:8080/",
     "height": 35
    },
    "id": "3H05ehZow9j0",
    "outputId": "a5333342-a013-4f0a-ce1b-362b11f02785"
   },
   "outputs": [
    {
     "data": {
      "application/vnd.google.colaboratory.intrinsic+json": {
       "type": "string"
      },
      "text/plain": [
       "'/content'"
      ]
     },
     "execution_count": 53,
     "metadata": {
      "tags": []
     },
     "output_type": "execute_result"
    }
   ],
   "source": [
    "pwd"
   ]
  },
  {
   "cell_type": "code",
   "execution_count": 54,
   "metadata": {
    "colab": {
     "base_uri": "https://localhost:8080/",
     "height": 381
    },
    "id": "crNo0Xlfw9j2",
    "outputId": "f8caa764-fe94-45c5-ffc2-8efe5ca0b60b",
    "scrolled": true
   },
   "outputs": [
    {
     "data": {
      "text/html": [
       "<div>\n",
       "<style scoped>\n",
       "    .dataframe tbody tr th:only-of-type {\n",
       "        vertical-align: middle;\n",
       "    }\n",
       "\n",
       "    .dataframe tbody tr th {\n",
       "        vertical-align: top;\n",
       "    }\n",
       "\n",
       "    .dataframe thead th {\n",
       "        text-align: right;\n",
       "    }\n",
       "</style>\n",
       "<table border=\"1\" class=\"dataframe\">\n",
       "  <thead>\n",
       "    <tr style=\"text-align: right;\">\n",
       "      <th></th>\n",
       "      <th>name</th>\n",
       "      <th>identity</th>\n",
       "      <th>sex</th>\n",
       "      <th>city</th>\n",
       "      <th>city_tier</th>\n",
       "      <th>sector</th>\n",
       "      <th>company</th>\n",
       "      <th>designation</th>\n",
       "      <th>shortlistedforcompany</th>\n",
       "      <th>college</th>\n",
       "      <th>College_tier</th>\n",
       "      <th>College Tier</th>\n",
       "      <th>program</th>\n",
       "      <th>department</th>\n",
       "      <th>ssc</th>\n",
       "      <th>hsc</th>\n",
       "      <th>cgpa</th>\n",
       "      <th>internship</th>\n",
       "      <th>other</th>\n",
       "      <th>postcity</th>\n",
       "      <th>othrahiev</th>\n",
       "      <th>gdduration</th>\n",
       "      <th>threewddcrua</th>\n",
       "      <th>is_active</th>\n",
       "    </tr>\n",
       "  </thead>\n",
       "  <tbody>\n",
       "    <tr>\n",
       "      <th>0</th>\n",
       "      <td>Krati Tiwari</td>\n",
       "      <td>4</td>\n",
       "      <td>F</td>\n",
       "      <td>Indore</td>\n",
       "      <td>II</td>\n",
       "      <td>Technology</td>\n",
       "      <td>Google Inc.</td>\n",
       "      <td>Software Engineer</td>\n",
       "      <td>Pre-placement offer</td>\n",
       "      <td>IIT Bombay</td>\n",
       "      <td>Tier I</td>\n",
       "      <td>Tier I</td>\n",
       "      <td>B.Tech</td>\n",
       "      <td>Computer Science</td>\n",
       "      <td>100</td>\n",
       "      <td>86.2</td>\n",
       "      <td>7.40</td>\n",
       "      <td>G Suite &amp; Tez App teams in Google Inc</td>\n",
       "      <td>Pre-placement offer</td>\n",
       "      <td>Hyderabad</td>\n",
       "      <td>Brand Ambassadors of Digital India, Desai Seth...</td>\n",
       "      <td>2015-2019</td>\n",
       "      <td>Techie | Cricketer | Drama Enthusiast</td>\n",
       "      <td>Y</td>\n",
       "    </tr>\n",
       "    <tr>\n",
       "      <th>1</th>\n",
       "      <td>Avineil Jain</td>\n",
       "      <td>6</td>\n",
       "      <td>M</td>\n",
       "      <td>Vapi</td>\n",
       "      <td>III</td>\n",
       "      <td>Finance</td>\n",
       "      <td>Optiver</td>\n",
       "      <td>Trader</td>\n",
       "      <td>Blackstone, WorldQuant, JP Morgan, QuadEye Sec...</td>\n",
       "      <td>IIT Bombay</td>\n",
       "      <td>Tier I</td>\n",
       "      <td>Tier I</td>\n",
       "      <td>Dual Degree</td>\n",
       "      <td>Electrical Engineering</td>\n",
       "      <td>100</td>\n",
       "      <td>96.4</td>\n",
       "      <td>9.54</td>\n",
       "      <td>Schlumberger software services, George Washing...</td>\n",
       "      <td>Blackstone, WorldQuant, JP Morgan, QuadEye Sec...</td>\n",
       "      <td>Amsterdam</td>\n",
       "      <td>TFI LEaRN Scholarship</td>\n",
       "      <td>2014-2019</td>\n",
       "      <td>Golfer | Techie | Scuba Diver</td>\n",
       "      <td>Y</td>\n",
       "    </tr>\n",
       "    <tr>\n",
       "      <th>2</th>\n",
       "      <td>Prathu Baronia</td>\n",
       "      <td>7</td>\n",
       "      <td>M</td>\n",
       "      <td>Delhi</td>\n",
       "      <td>I</td>\n",
       "      <td>Technology</td>\n",
       "      <td>OnePlus</td>\n",
       "      <td>R &amp;D Software Developer</td>\n",
       "      <td>Xilinx, Analog Devices, Mathworks, Nvidia, Qua...</td>\n",
       "      <td>IIT Bombay</td>\n",
       "      <td>Tier I</td>\n",
       "      <td>Tier I</td>\n",
       "      <td>Dual Degree</td>\n",
       "      <td>Electrical Engineering</td>\n",
       "      <td>90.4</td>\n",
       "      <td>90.4</td>\n",
       "      <td>9.00</td>\n",
       "      <td>Embedded System Engineer at Greetude Energy Pv...</td>\n",
       "      <td>Xilinx, Analog Devices, Mathworks, Nvidia, Qua...</td>\n",
       "      <td>Bangalore</td>\n",
       "      <td>98.1%ile in NSE Astronomy-2014, 99%ile in NSE ...</td>\n",
       "      <td>2014-2019</td>\n",
       "      <td>Musician | Cricketer | Techie</td>\n",
       "      <td>Y</td>\n",
       "    </tr>\n",
       "  </tbody>\n",
       "</table>\n",
       "</div>"
      ],
      "text/plain": [
       "             name  identity  ...                           threewddcrua is_active\n",
       "0    Krati Tiwari         4  ...  Techie | Cricketer | Drama Enthusiast         Y\n",
       "1    Avineil Jain         6  ...          Golfer | Techie | Scuba Diver         Y\n",
       "2  Prathu Baronia         7  ...          Musician | Cricketer | Techie         Y\n",
       "\n",
       "[3 rows x 24 columns]"
      ]
     },
     "execution_count": 54,
     "metadata": {
      "tags": []
     },
     "output_type": "execute_result"
    }
   ],
   "source": [
    "# read CSVs\n",
    "mentor = pd.read_csv(r\"/content/Data.csv\", index_col=False)\n",
    "mentor.head(3)"
   ]
  },
  {
   "cell_type": "code",
   "execution_count": 55,
   "metadata": {
    "colab": {
     "base_uri": "https://localhost:8080/"
    },
    "id": "lV7zwaDPw9j3",
    "outputId": "22eeee6a-7482-4497-d486-1fcf24a5d6e2"
   },
   "outputs": [
    {
     "data": {
      "text/plain": [
       "RangeIndex(start=0, stop=405, step=1)"
      ]
     },
     "execution_count": 55,
     "metadata": {
      "tags": []
     },
     "output_type": "execute_result"
    }
   ],
   "source": [
    "mentor.index"
   ]
  },
  {
   "cell_type": "code",
   "execution_count": 56,
   "metadata": {
    "colab": {
     "base_uri": "https://localhost:8080/"
    },
    "id": "R29r5WDNw9j3",
    "outputId": "8b2e3843-bff1-4faf-b3b6-0cdd5fedf797"
   },
   "outputs": [
    {
     "data": {
      "text/plain": [
       "name                     False\n",
       "identity                 False\n",
       "sex                       True\n",
       "city                     False\n",
       "city_tier                False\n",
       "sector                   False\n",
       "company                  False\n",
       "designation               True\n",
       "shortlistedforcompany     True\n",
       "college                  False\n",
       "College_tier             False\n",
       "College Tier              True\n",
       "program                  False\n",
       "department                True\n",
       "ssc                       True\n",
       "hsc                       True\n",
       "cgpa                      True\n",
       "internship                True\n",
       "other                     True\n",
       "postcity                  True\n",
       "othrahiev                 True\n",
       "gdduration                True\n",
       "threewddcrua              True\n",
       "is_active                 True\n",
       "dtype: bool"
      ]
     },
     "execution_count": 56,
     "metadata": {
      "tags": []
     },
     "output_type": "execute_result"
    }
   ],
   "source": [
    "mentor.shape\n",
    "\n",
    "mentor.isnull().any()"
   ]
  },
  {
   "cell_type": "code",
   "execution_count": 57,
   "metadata": {
    "colab": {
     "base_uri": "https://localhost:8080/"
    },
    "id": "Uu7_1I6Gw9j3",
    "outputId": "1850b7f0-c9d2-4b1c-b283-986fe45b027d"
   },
   "outputs": [
    {
     "data": {
      "text/plain": [
       "95        32\n",
       "100        8\n",
       "89         6\n",
       "10         6\n",
       "91.2       5\n",
       "          ..\n",
       "75.71%     1\n",
       "85.17      1\n",
       "93.14      1\n",
       "79         1\n",
       "88%        1\n",
       "Name: ssc, Length: 127, dtype: int64"
      ]
     },
     "execution_count": 57,
     "metadata": {
      "tags": []
     },
     "output_type": "execute_result"
    }
   ],
   "source": [
    "mentor['ssc'].value_counts()"
   ]
  },
  {
   "cell_type": "code",
   "execution_count": 58,
   "metadata": {
    "colab": {
     "base_uri": "https://localhost:8080/",
     "height": 76
    },
    "id": "NzRJSapKw9j3",
    "outputId": "a4d12fdf-ebf1-454f-deab-ff4a6161b43a",
    "scrolled": true
   },
   "outputs": [
    {
     "data": {
      "text/html": [
       "<div>\n",
       "<style scoped>\n",
       "    .dataframe tbody tr th:only-of-type {\n",
       "        vertical-align: middle;\n",
       "    }\n",
       "\n",
       "    .dataframe tbody tr th {\n",
       "        vertical-align: top;\n",
       "    }\n",
       "\n",
       "    .dataframe thead th {\n",
       "        text-align: right;\n",
       "    }\n",
       "</style>\n",
       "<table border=\"1\" class=\"dataframe\">\n",
       "  <thead>\n",
       "    <tr style=\"text-align: right;\">\n",
       "      <th></th>\n",
       "      <th>name</th>\n",
       "      <th>identity</th>\n",
       "      <th>sector</th>\n",
       "      <th>company</th>\n",
       "      <th>college</th>\n",
       "      <th>program</th>\n",
       "      <th>department</th>\n",
       "      <th>ssc</th>\n",
       "      <th>hsc</th>\n",
       "      <th>cgpa</th>\n",
       "      <th>internship</th>\n",
       "      <th>other</th>\n",
       "      <th>postcity</th>\n",
       "      <th>othrahiev</th>\n",
       "      <th>gdduration</th>\n",
       "      <th>threewddcrua</th>\n",
       "      <th>is_active</th>\n",
       "    </tr>\n",
       "  </thead>\n",
       "  <tbody>\n",
       "    <tr>\n",
       "      <th>0</th>\n",
       "      <td>xyz</td>\n",
       "      <td>3</td>\n",
       "      <td>Technology</td>\n",
       "      <td>Microsoft</td>\n",
       "      <td>IIT Kharagpur</td>\n",
       "      <td>Dual Degree</td>\n",
       "      <td>Electrical Engineering</td>\n",
       "      <td>77.83</td>\n",
       "      <td>82.5</td>\n",
       "      <td>7.9</td>\n",
       "      <td>J P Morgan Chase</td>\n",
       "      <td>NaN</td>\n",
       "      <td>NaN</td>\n",
       "      <td>NaN</td>\n",
       "      <td>NaN</td>\n",
       "      <td>NaN</td>\n",
       "      <td>NaN</td>\n",
       "    </tr>\n",
       "  </tbody>\n",
       "</table>\n",
       "</div>"
      ],
      "text/plain": [
       "  name  identity      sector  ... gdduration threewddcrua is_active\n",
       "0  xyz         3  Technology  ...        NaN          NaN       NaN\n",
       "\n",
       "[1 rows x 17 columns]"
      ]
     },
     "execution_count": 58,
     "metadata": {
      "tags": []
     },
     "output_type": "execute_result"
    }
   ],
   "source": [
    "#Data frame for user\n",
    "data = pd.read_csv(r\"/content/UserInputData.csv\",index_col = False)\n",
    "data.head(1)"
   ]
  },
  {
   "cell_type": "code",
   "execution_count": 59,
   "metadata": {
    "colab": {
     "base_uri": "https://localhost:8080/"
    },
    "id": "nRzr9OSpw9j3",
    "outputId": "3df1119f-6c91-47e0-f922-726261dd3a2e",
    "scrolled": true
   },
   "outputs": [
    {
     "data": {
      "text/plain": [
       "(1, 17)"
      ]
     },
     "execution_count": 59,
     "metadata": {
      "tags": []
     },
     "output_type": "execute_result"
    }
   ],
   "source": [
    "data.shape"
   ]
  },
  {
   "cell_type": "code",
   "execution_count": 60,
   "metadata": {
    "colab": {
     "base_uri": "https://localhost:8080/",
     "height": 133
    },
    "id": "tg56plgHw9j3",
    "outputId": "aa2aed86-c840-4a5d-8b68-5e8da6fc8ba8",
    "scrolled": true
   },
   "outputs": [
    {
     "data": {
      "text/html": [
       "<div>\n",
       "<style scoped>\n",
       "    .dataframe tbody tr th:only-of-type {\n",
       "        vertical-align: middle;\n",
       "    }\n",
       "\n",
       "    .dataframe tbody tr th {\n",
       "        vertical-align: top;\n",
       "    }\n",
       "\n",
       "    .dataframe thead th {\n",
       "        text-align: right;\n",
       "    }\n",
       "</style>\n",
       "<table border=\"1\" class=\"dataframe\">\n",
       "  <thead>\n",
       "    <tr style=\"text-align: right;\">\n",
       "      <th></th>\n",
       "      <th>identity</th>\n",
       "      <th>name</th>\n",
       "      <th>sector</th>\n",
       "      <th>company</th>\n",
       "      <th>program</th>\n",
       "      <th>college</th>\n",
       "      <th>department</th>\n",
       "      <th>ssc</th>\n",
       "      <th>hsc</th>\n",
       "      <th>cgpa</th>\n",
       "      <th>internship</th>\n",
       "    </tr>\n",
       "  </thead>\n",
       "  <tbody>\n",
       "    <tr>\n",
       "      <th>0</th>\n",
       "      <td>4</td>\n",
       "      <td>Krati Tiwari</td>\n",
       "      <td>Technology</td>\n",
       "      <td>Google Inc.</td>\n",
       "      <td>B.Tech</td>\n",
       "      <td>IIT Bombay</td>\n",
       "      <td>Computer Science</td>\n",
       "      <td>100</td>\n",
       "      <td>86.2</td>\n",
       "      <td>7.40</td>\n",
       "      <td>G Suite &amp; Tez App teams in Google Inc</td>\n",
       "    </tr>\n",
       "    <tr>\n",
       "      <th>1</th>\n",
       "      <td>6</td>\n",
       "      <td>Avineil Jain</td>\n",
       "      <td>Finance</td>\n",
       "      <td>Optiver</td>\n",
       "      <td>Dual Degree</td>\n",
       "      <td>IIT Bombay</td>\n",
       "      <td>Electrical Engineering</td>\n",
       "      <td>100</td>\n",
       "      <td>96.4</td>\n",
       "      <td>9.54</td>\n",
       "      <td>Schlumberger software services, George Washing...</td>\n",
       "    </tr>\n",
       "    <tr>\n",
       "      <th>2</th>\n",
       "      <td>7</td>\n",
       "      <td>Prathu Baronia</td>\n",
       "      <td>Technology</td>\n",
       "      <td>OnePlus</td>\n",
       "      <td>Dual Degree</td>\n",
       "      <td>IIT Bombay</td>\n",
       "      <td>Electrical Engineering</td>\n",
       "      <td>90.4</td>\n",
       "      <td>90.4</td>\n",
       "      <td>9.00</td>\n",
       "      <td>Embedded System Engineer at Greetude Energy Pv...</td>\n",
       "    </tr>\n",
       "  </tbody>\n",
       "</table>\n",
       "</div>"
      ],
      "text/plain": [
       "   identity  ...                                         internship\n",
       "0         4  ...              G Suite & Tez App teams in Google Inc\n",
       "1         6  ...  Schlumberger software services, George Washing...\n",
       "2         7  ...  Embedded System Engineer at Greetude Energy Pv...\n",
       "\n",
       "[3 rows x 11 columns]"
      ]
     },
     "execution_count": 60,
     "metadata": {
      "tags": []
     },
     "output_type": "execute_result"
    }
   ],
   "source": [
    "df1=pd.DataFrame(mentor, columns=['identity','name','sector','company','program','college','department','ssc','hsc','cgpa','internship'])\n",
    "df1.iloc[0:3]"
   ]
  },
  {
   "cell_type": "code",
   "execution_count": 61,
   "metadata": {
    "colab": {
     "base_uri": "https://localhost:8080/",
     "height": 76
    },
    "id": "EKdMNe0Rw9j4",
    "outputId": "1bb4ba7f-daa7-4776-97a5-56306c72f21b"
   },
   "outputs": [
    {
     "data": {
      "text/html": [
       "<div>\n",
       "<style scoped>\n",
       "    .dataframe tbody tr th:only-of-type {\n",
       "        vertical-align: middle;\n",
       "    }\n",
       "\n",
       "    .dataframe tbody tr th {\n",
       "        vertical-align: top;\n",
       "    }\n",
       "\n",
       "    .dataframe thead th {\n",
       "        text-align: right;\n",
       "    }\n",
       "</style>\n",
       "<table border=\"1\" class=\"dataframe\">\n",
       "  <thead>\n",
       "    <tr style=\"text-align: right;\">\n",
       "      <th></th>\n",
       "      <th>identity</th>\n",
       "      <th>name</th>\n",
       "      <th>sector</th>\n",
       "      <th>company</th>\n",
       "      <th>program</th>\n",
       "      <th>college</th>\n",
       "      <th>department</th>\n",
       "      <th>ssc</th>\n",
       "      <th>hsc</th>\n",
       "      <th>cgpa</th>\n",
       "      <th>internship</th>\n",
       "    </tr>\n",
       "  </thead>\n",
       "  <tbody>\n",
       "    <tr>\n",
       "      <th>0</th>\n",
       "      <td>3</td>\n",
       "      <td>xyz</td>\n",
       "      <td>Technology</td>\n",
       "      <td>Microsoft</td>\n",
       "      <td>Dual Degree</td>\n",
       "      <td>IIT Kharagpur</td>\n",
       "      <td>Electrical Engineering</td>\n",
       "      <td>77.83</td>\n",
       "      <td>82.5</td>\n",
       "      <td>7.9</td>\n",
       "      <td>J P Morgan Chase</td>\n",
       "    </tr>\n",
       "  </tbody>\n",
       "</table>\n",
       "</div>"
      ],
      "text/plain": [
       "   identity name      sector    company  ...    ssc   hsc cgpa        internship\n",
       "0         3  xyz  Technology  Microsoft  ...  77.83  82.5  7.9  J P Morgan Chase\n",
       "\n",
       "[1 rows x 11 columns]"
      ]
     },
     "execution_count": 61,
     "metadata": {
      "tags": []
     },
     "output_type": "execute_result"
    }
   ],
   "source": [
    "df2=pd.DataFrame(data, columns=['identity','name','sector','company','program','college','department','ssc','hsc','cgpa','internship'])\n",
    "df2.iloc[0:]"
   ]
  },
  {
   "cell_type": "code",
   "execution_count": 62,
   "metadata": {
    "colab": {
     "base_uri": "https://localhost:8080/",
     "height": 133
    },
    "id": "fPv_Uugbw9j4",
    "outputId": "c74558f4-9144-4aed-ccee-1e8a3572e66a"
   },
   "outputs": [
    {
     "data": {
      "text/html": [
       "<div>\n",
       "<style scoped>\n",
       "    .dataframe tbody tr th:only-of-type {\n",
       "        vertical-align: middle;\n",
       "    }\n",
       "\n",
       "    .dataframe tbody tr th {\n",
       "        vertical-align: top;\n",
       "    }\n",
       "\n",
       "    .dataframe thead th {\n",
       "        text-align: right;\n",
       "    }\n",
       "</style>\n",
       "<table border=\"1\" class=\"dataframe\">\n",
       "  <thead>\n",
       "    <tr style=\"text-align: right;\">\n",
       "      <th></th>\n",
       "      <th>identity</th>\n",
       "      <th>name</th>\n",
       "      <th>sector</th>\n",
       "      <th>company</th>\n",
       "      <th>program</th>\n",
       "      <th>college</th>\n",
       "      <th>department</th>\n",
       "      <th>ssc</th>\n",
       "      <th>hsc</th>\n",
       "      <th>cgpa</th>\n",
       "      <th>internship</th>\n",
       "    </tr>\n",
       "  </thead>\n",
       "  <tbody>\n",
       "    <tr>\n",
       "      <th>0</th>\n",
       "      <td>3</td>\n",
       "      <td>xyz</td>\n",
       "      <td>Technology</td>\n",
       "      <td>Microsoft</td>\n",
       "      <td>Dual Degree</td>\n",
       "      <td>IIT Kharagpur</td>\n",
       "      <td>Electrical Engineering</td>\n",
       "      <td>77.83</td>\n",
       "      <td>82.5</td>\n",
       "      <td>7.90</td>\n",
       "      <td>J P Morgan Chase</td>\n",
       "    </tr>\n",
       "    <tr>\n",
       "      <th>1</th>\n",
       "      <td>4</td>\n",
       "      <td>Krati Tiwari</td>\n",
       "      <td>Technology</td>\n",
       "      <td>Google Inc.</td>\n",
       "      <td>B.Tech</td>\n",
       "      <td>IIT Bombay</td>\n",
       "      <td>Computer Science</td>\n",
       "      <td>100</td>\n",
       "      <td>86.2</td>\n",
       "      <td>7.40</td>\n",
       "      <td>G Suite &amp; Tez App teams in Google Inc</td>\n",
       "    </tr>\n",
       "    <tr>\n",
       "      <th>2</th>\n",
       "      <td>6</td>\n",
       "      <td>Avineil Jain</td>\n",
       "      <td>Finance</td>\n",
       "      <td>Optiver</td>\n",
       "      <td>Dual Degree</td>\n",
       "      <td>IIT Bombay</td>\n",
       "      <td>Electrical Engineering</td>\n",
       "      <td>100</td>\n",
       "      <td>96.4</td>\n",
       "      <td>9.54</td>\n",
       "      <td>Schlumberger software services, George Washing...</td>\n",
       "    </tr>\n",
       "  </tbody>\n",
       "</table>\n",
       "</div>"
      ],
      "text/plain": [
       "   identity  ...                                         internship\n",
       "0         3  ...                                   J P Morgan Chase\n",
       "1         4  ...              G Suite & Tez App teams in Google Inc\n",
       "2         6  ...  Schlumberger software services, George Washing...\n",
       "\n",
       "[3 rows x 11 columns]"
      ]
     },
     "execution_count": 62,
     "metadata": {
      "tags": []
     },
     "output_type": "execute_result"
    }
   ],
   "source": [
    "df = df2.append(df1,ignore_index = True)\n",
    "df.head(3)"
   ]
  },
  {
   "cell_type": "code",
   "execution_count": 63,
   "metadata": {
    "colab": {
     "base_uri": "https://localhost:8080/",
     "height": 133
    },
    "id": "wQ7HPZ_2w9j4",
    "outputId": "c1da764d-146e-4a68-81a6-2f6c493cb0c5",
    "scrolled": true
   },
   "outputs": [
    {
     "data": {
      "text/html": [
       "<div>\n",
       "<style scoped>\n",
       "    .dataframe tbody tr th:only-of-type {\n",
       "        vertical-align: middle;\n",
       "    }\n",
       "\n",
       "    .dataframe tbody tr th {\n",
       "        vertical-align: top;\n",
       "    }\n",
       "\n",
       "    .dataframe thead th {\n",
       "        text-align: right;\n",
       "    }\n",
       "</style>\n",
       "<table border=\"1\" class=\"dataframe\">\n",
       "  <thead>\n",
       "    <tr style=\"text-align: right;\">\n",
       "      <th></th>\n",
       "      <th>sector</th>\n",
       "      <th>company</th>\n",
       "      <th>program</th>\n",
       "      <th>department</th>\n",
       "      <th>college</th>\n",
       "      <th>cgpa</th>\n",
       "      <th>ssc</th>\n",
       "      <th>hsc</th>\n",
       "      <th>internship</th>\n",
       "    </tr>\n",
       "  </thead>\n",
       "  <tbody>\n",
       "    <tr>\n",
       "      <th>0</th>\n",
       "      <td>Technology</td>\n",
       "      <td>Google Inc.</td>\n",
       "      <td>B.Tech</td>\n",
       "      <td>Computer Science</td>\n",
       "      <td>IIT Bombay</td>\n",
       "      <td>7.40</td>\n",
       "      <td>100</td>\n",
       "      <td>86.2</td>\n",
       "      <td>G Suite &amp; Tez App teams in Google Inc</td>\n",
       "    </tr>\n",
       "    <tr>\n",
       "      <th>1</th>\n",
       "      <td>Finance</td>\n",
       "      <td>Optiver</td>\n",
       "      <td>Dual Degree</td>\n",
       "      <td>Electrical Engineering</td>\n",
       "      <td>IIT Bombay</td>\n",
       "      <td>9.54</td>\n",
       "      <td>100</td>\n",
       "      <td>96.4</td>\n",
       "      <td>Schlumberger software services, George Washing...</td>\n",
       "    </tr>\n",
       "    <tr>\n",
       "      <th>2</th>\n",
       "      <td>Technology</td>\n",
       "      <td>OnePlus</td>\n",
       "      <td>Dual Degree</td>\n",
       "      <td>Electrical Engineering</td>\n",
       "      <td>IIT Bombay</td>\n",
       "      <td>9.00</td>\n",
       "      <td>90.4</td>\n",
       "      <td>90.4</td>\n",
       "      <td>Embedded System Engineer at Greetude Energy Pv...</td>\n",
       "    </tr>\n",
       "  </tbody>\n",
       "</table>\n",
       "</div>"
      ],
      "text/plain": [
       "       sector  ...                                         internship\n",
       "0  Technology  ...              G Suite & Tez App teams in Google Inc\n",
       "1     Finance  ...  Schlumberger software services, George Washing...\n",
       "2  Technology  ...  Embedded System Engineer at Greetude Energy Pv...\n",
       "\n",
       "[3 rows x 9 columns]"
      ]
     },
     "execution_count": 63,
     "metadata": {
      "tags": []
     },
     "output_type": "execute_result"
    }
   ],
   "source": [
    "#create a list of important columns to keep\n",
    "features = ['sector','company','program','department','college','cgpa','ssc','hsc','internship']\n",
    "mentor[features].head(3)"
   ]
  },
  {
   "cell_type": "code",
   "execution_count": 64,
   "metadata": {
    "id": "GOjVB-uzw9j4"
   },
   "outputs": [],
   "source": [
    "#clean and process the data\n",
    "for feature in features:\n",
    " df[feature] = df[feature].fillna('')  #fill any missing value with the empty string"
   ]
  },
  {
   "cell_type": "code",
   "execution_count": 65,
   "metadata": {
    "id": "8yt5yyWjw9j4"
   },
   "outputs": [],
   "source": [
    "#create a function to combine the values of the important columns\n",
    "def combine_features(row):\n",
    "    return row['sector']+\" \"+row['company']+\" \"+row['program']+\" \"+row['department']+\" \"+row['college']+\" \"+row['internship']"
   ]
  },
  {
   "cell_type": "code",
   "execution_count": 66,
   "metadata": {
    "id": "N9fepiaZw9j4"
   },
   "outputs": [],
   "source": [
    "#apply the function to each row in the data set to store the combined strings into a new column called combined_features\n",
    "df['combined_features'] = df.apply(combine_features, axis = 1)"
   ]
  },
  {
   "cell_type": "code",
   "execution_count": 67,
   "metadata": {
    "colab": {
     "base_uri": "https://localhost:8080/"
    },
    "id": "YBE-MOKG9wZ8",
    "outputId": "cb8301a2-8605-47a3-e98f-be6f4a4af7c7"
   },
   "outputs": [
    {
     "data": {
      "text/plain": [
       "0    Technology Microsoft Dual Degree Electrical En...\n",
       "1    Technology Google Inc. B.Tech Computer Science...\n",
       "2    Finance Optiver Dual Degree Electrical Enginee...\n",
       "3    Technology OnePlus Dual Degree Electrical Engi...\n",
       "4    Media Viacom 18 B.Tech Mechanical Engineering ...\n",
       "5    Consulting IMS Consulting B.Tech Chemical Engi...\n",
       "6    Oil and Gas ExxonMobil B.Tech Chemical Enginee...\n",
       "7    Consulting BCG B.Tech Mechanical  IIT Bombay R...\n",
       "8    Finance JP Morgan Chase B.Tech Electrical Engi...\n",
       "9    Analytics Indegene Pvt. Ltd. B.Tech Metallurgy...\n",
       "Name: combined_features, dtype: object"
      ]
     },
     "execution_count": 67,
     "metadata": {
      "tags": []
     },
     "output_type": "execute_result"
    }
   ],
   "source": [
    "df['combined_features'].head(10)"
   ]
  },
  {
   "cell_type": "code",
   "execution_count": 68,
   "metadata": {
    "colab": {
     "base_uri": "https://localhost:8080/"
    },
    "id": "hsOAWMI4FOq6",
    "outputId": "5a2698f0-a989-48f0-ce82-c951e08da55d"
   },
   "outputs": [
    {
     "name": "stdout",
     "output_type": "stream",
     "text": [
      "Requirement already satisfied: normalise in /usr/local/lib/python3.6/dist-packages (0.1.8)\n",
      "Requirement already satisfied: scipy in /usr/local/lib/python3.6/dist-packages (from normalise) (1.4.1)\n",
      "Requirement already satisfied: scikit-learn in /usr/local/lib/python3.6/dist-packages (from normalise) (0.22.2.post1)\n",
      "Requirement already satisfied: numpy in /usr/local/lib/python3.6/dist-packages (from normalise) (1.18.5)\n",
      "Requirement already satisfied: roman in /usr/local/lib/python3.6/dist-packages (from normalise) (3.3)\n",
      "Requirement already satisfied: nltk in /usr/local/lib/python3.6/dist-packages (from normalise) (3.2.5)\n",
      "Requirement already satisfied: joblib>=0.11 in /usr/local/lib/python3.6/dist-packages (from scikit-learn->normalise) (0.17.0)\n",
      "Requirement already satisfied: six in /usr/local/lib/python3.6/dist-packages (from nltk->normalise) (1.15.0)\n"
     ]
    }
   ],
   "source": [
    "!pip install normalise"
   ]
  },
  {
   "cell_type": "code",
   "execution_count": 69,
   "metadata": {
    "colab": {
     "base_uri": "https://localhost:8080/"
    },
    "id": "EUKmtbPQFm1h",
    "outputId": "fc7e3429-c390-491d-8700-a9c10f697ccc"
   },
   "outputs": [
    {
     "name": "stdout",
     "output_type": "stream",
     "text": [
      "Requirement already satisfied: nltk in /usr/local/lib/python3.6/dist-packages (3.2.5)\n",
      "Requirement already satisfied: six in /usr/local/lib/python3.6/dist-packages (from nltk) (1.15.0)\n"
     ]
    }
   ],
   "source": [
    "!pip install nltk"
   ]
  },
  {
   "cell_type": "code",
   "execution_count": 70,
   "metadata": {
    "colab": {
     "base_uri": "https://localhost:8080/"
    },
    "id": "3d4K75GGE0wk",
    "outputId": "aa623d69-e0a0-43b0-a510-d002dcacf75b"
   },
   "outputs": [
    {
     "name": "stdout",
     "output_type": "stream",
     "text": [
      "[nltk_data] Downloading package brown to /root/nltk_data...\n",
      "[nltk_data]   Package brown is already up-to-date!\n",
      "[nltk_data] Downloading package names to /root/nltk_data...\n",
      "[nltk_data]   Package names is already up-to-date!\n"
     ]
    }
   ],
   "source": [
    "import numpy as np\n",
    "import multiprocessing as mp\n",
    "import nltk\n",
    "nltk.download('brown')\n",
    "nltk.download('names')\n",
    "import string\n",
    "import spacy \n",
    "import en_core_web_sm\n",
    "from nltk.tokenize import word_tokenize\n",
    "from sklearn.base import TransformerMixin, BaseEstimator\n",
    "from normalise import normalise"
   ]
  },
  {
   "cell_type": "code",
   "execution_count": 71,
   "metadata": {
    "id": "9aczLMK0HLkC"
   },
   "outputs": [],
   "source": [
    "nlp = en_core_web_sm.load()\n",
    "\n",
    "\n",
    "class TextPreprocessor(BaseEstimator, TransformerMixin):\n",
    "    def __init__(self,\n",
    "                 variety=\"BrE\",\n",
    "                 user_abbrevs={},\n",
    "                 n_jobs=1):\n",
    "        \"\"\"\n",
    "        Text preprocessing transformer includes steps:\n",
    "            1. Text normalization\n",
    "            2. Punctuation removal\n",
    "            3. Stop words removal\n",
    "            4. Lemmatization\n",
    "        \n",
    "        variety - format of date (AmE - american type, BrE - british format) \n",
    "        user_abbrevs - dict of user abbreviations mappings (from normalise package)\n",
    "        n_jobs - parallel jobs to run\n",
    "        \"\"\"\n",
    "        self.variety = variety\n",
    "        self.user_abbrevs = user_abbrevs\n",
    "        self.n_jobs = n_jobs\n",
    "\n",
    "    def fit(self, X, y=None):\n",
    "        return self\n",
    "\n",
    "    def transform(self, X, *_):\n",
    "        X_copy = X.copy()\n",
    "\n",
    "        partitions = 1\n",
    "        cores = mp.cpu_count()\n",
    "        if self.n_jobs <= -1:\n",
    "            partitions = cores\n",
    "        elif self.n_jobs <= 0:\n",
    "            return X_copy.apply(self._preprocess_text)\n",
    "        else:\n",
    "            partitions = min(self.n_jobs, cores)\n",
    "\n",
    "        data_split = np.array_split(X_copy, partitions)\n",
    "        pool = mp.Pool(cores)\n",
    "        data = pd.concat(pool.map(self._preprocess_part, data_split))\n",
    "        pool.close()\n",
    "        pool.join()\n",
    "\n",
    "        return data\n",
    "\n",
    "    def _preprocess_part(self, part):\n",
    "        return part.apply(self._preprocess_text)\n",
    "\n",
    "    def _preprocess_text(self, text):\n",
    "        normalized_text = self._normalize(text)\n",
    "        doc = nlp(normalized_text)\n",
    "        removed_punct = self._remove_punct(doc)\n",
    "        removed_stop_words = self._remove_stop_words(removed_punct)\n",
    "        return self._lemmatize(removed_stop_words)\n",
    "\n",
    "    def _normalize(self, text):\n",
    "        # some issues in normalise package\n",
    "        try:\n",
    "            return ' '.join(normalise(text, variety=self.variety, user_abbrevs=self.user_abbrevs, verbose=False))\n",
    "        except:\n",
    "            return text\n",
    "\n",
    "    def _remove_punct(self, doc):\n",
    "        return [t for t in doc if t.text not in string.punctuation]\n",
    "\n",
    "    def _remove_stop_words(self, doc):\n",
    "        return [t for t in doc if not t.is_stop]\n",
    "\n",
    "    def _lemmatize(self, doc):\n",
    "        return ' '.join([t.lemma_ for t in doc])"
   ]
  },
  {
   "cell_type": "code",
   "execution_count": 72,
   "metadata": {
    "colab": {
     "base_uri": "https://localhost:8080/"
    },
    "id": "cYP4bgzNE5T7",
    "outputId": "306893c4-3e35-4d25-fc1b-09c3970b45d0"
   },
   "outputs": [
    {
     "name": "stdout",
     "output_type": "stream",
     "text": [
      "CPU times: user 12.3 ms, sys: 31 ms, total: 43.3 ms\n",
      "Wall time: 3.27 s\n"
     ]
    }
   ],
   "source": [
    "%%time\n",
    "text = TextPreprocessor(n_jobs=-1).transform(df['combined_features'])\n",
    "#df['combined_features'].head(10)"
   ]
  },
  {
   "cell_type": "code",
   "execution_count": 73,
   "metadata": {
    "id": "mfTRAql3GM4e"
   },
   "outputs": [],
   "source": [
    "text = TextPreprocessor(n_jobs=-1).transform(df['combined_features'])"
   ]
  },
  {
   "cell_type": "code",
   "execution_count": 74,
   "metadata": {
    "colab": {
     "base_uri": "https://localhost:8080/"
    },
    "id": "Jyed5eMNGwEF",
    "outputId": "6fda0630-31b2-41bf-9c04-9ce6cdcd7b04"
   },
   "outputs": [
    {
     "data": {
      "text/plain": [
       "0    Technology Microsoft Dual Degree Electrical En...\n",
       "1    Technology Google Inc. B.Tech Computer Science...\n",
       "2    Finance Optiver Dual Degree Electrical Enginee...\n",
       "3    Technology OnePlus Dual Degree Electrical Engi...\n",
       "4    Media Viacom 18 B.Tech Mechanical Engineering ...\n",
       "5    Consulting IMS Consulting B.Tech Chemical Engi...\n",
       "6    Oil and Gas ExxonMobil B.Tech Chemical Enginee...\n",
       "7    Consulting BCG B.Tech Mechanical  IIT Bombay R...\n",
       "8    Finance JP Morgan Chase B.Tech Electrical Engi...\n",
       "9    Analytics Indegene Pvt. Ltd. B.Tech Metallurgy...\n",
       "Name: combined_features, dtype: object"
      ]
     },
     "execution_count": 74,
     "metadata": {
      "tags": []
     },
     "output_type": "execute_result"
    }
   ],
   "source": [
    "df['combined_features'].head(10)"
   ]
  },
  {
   "cell_type": "code",
   "execution_count": 47,
   "metadata": {
    "id": "GlVO4Tvrw9j4"
   },
   "outputs": [],
   "source": [
    "#convert a collection of text to a matrix of token counts\n",
    "count_matrix = CountVectorizer().fit_transform(df['combined_features'])"
   ]
  },
  {
   "cell_type": "code",
   "execution_count": 48,
   "metadata": {
    "colab": {
     "base_uri": "https://localhost:8080/"
    },
    "id": "kQZBtJY8w9j4",
    "outputId": "9d813794-3cb2-4f30-cad6-6ccb2f2ae3c6",
    "scrolled": true
   },
   "outputs": [
    {
     "name": "stdout",
     "output_type": "stream",
     "text": [
      "[[1.         0.14509525 0.40824829 ... 0.         0.         0.        ]\n",
      " [0.14509525 1.         0.11846978 ... 0.         0.         0.        ]\n",
      " [0.40824829 0.11846978 1.         ... 0.         0.         0.        ]\n",
      " ...\n",
      " [0.         0.         0.         ... 1.         1.         1.        ]\n",
      " [0.         0.         0.         ... 1.         1.         1.        ]\n",
      " [0.         0.         0.         ... 1.         1.         1.        ]]\n"
     ]
    }
   ],
   "source": [
    "#get the cosine similarity matrix from the count matrix\n",
    "cosine_sim = cosine_similarity(count_matrix)\n",
    "print(cosine_sim)"
   ]
  },
  {
   "cell_type": "code",
   "execution_count": null,
   "metadata": {
    "id": "5eqrWeKHw9j4",
    "outputId": "962e261d-f0b7-4b7b-eaa7-d7e1f7361dd6"
   },
   "outputs": [
    {
     "data": {
      "text/plain": [
       "(406, 406)"
      ]
     },
     "execution_count": 27,
     "metadata": {
      "tags": []
     },
     "output_type": "execute_result"
    }
   ],
   "source": [
    "#get the number of rows and columns in cosine_sim\n",
    "cosine_sim.shape"
   ]
  },
  {
   "cell_type": "code",
   "execution_count": null,
   "metadata": {
    "id": "8QlfnIhlw9j4"
   },
   "outputs": [],
   "source": [
    "#helper function to get the name from the id\n",
    "def name_identity(identity):\n",
    "    return df[df.identity == identity]['name'].values[0]"
   ]
  },
  {
   "cell_type": "code",
   "execution_count": null,
   "metadata": {
    "id": "6MAaHaCYw9j4"
   },
   "outputs": [],
   "source": [
    "#helper function to get the id from the name\n",
    "def identity_name(name):\n",
    "    return df[df.name == name]['identity'].values[0] "
   ]
  },
  {
   "cell_type": "code",
   "execution_count": null,
   "metadata": {
    "id": "5hgKw_iAw9j4",
    "outputId": "1ef69d15-6417-42bf-a9e6-e7425297776f",
    "scrolled": true
   },
   "outputs": [
    {
     "data": {
      "text/plain": [
       "'xyz'"
      ]
     },
     "execution_count": 30,
     "metadata": {
      "tags": []
     },
     "output_type": "execute_result"
    }
   ],
   "source": [
    "#the name of the user\n",
    "user = df.loc[0,\"name\"]\n",
    "user"
   ]
  },
  {
   "cell_type": "code",
   "execution_count": null,
   "metadata": {
    "id": "G3tdr1x5w9j4"
   },
   "outputs": [],
   "source": [
    "#Find that name id\n",
    "name_id = identity_name(user)"
   ]
  },
  {
   "cell_type": "code",
   "execution_count": null,
   "metadata": {
    "id": "9O1VDrllw9j4"
   },
   "outputs": [],
   "source": [
    "id_name = name_identity(2302)"
   ]
  },
  {
   "cell_type": "code",
   "execution_count": null,
   "metadata": {
    "id": "StQHacGXw9j4",
    "outputId": "d8f2e010-406a-40f8-ad24-b716203cb069"
   },
   "outputs": [
    {
     "data": {
      "text/plain": [
       "3"
      ]
     },
     "execution_count": 33,
     "metadata": {
      "tags": []
     },
     "output_type": "execute_result"
    }
   ],
   "source": [
    "name_id"
   ]
  },
  {
   "cell_type": "code",
   "execution_count": null,
   "metadata": {
    "id": "-lOducnEw9j4",
    "outputId": "11f6f8e9-49af-4497-8b42-bfceb0fb4737"
   },
   "outputs": [
    {
     "data": {
      "text/plain": [
       "'Anant Singh'"
      ]
     },
     "execution_count": 34,
     "metadata": {
      "tags": []
     },
     "output_type": "execute_result"
    }
   ],
   "source": [
    "id_name"
   ]
  },
  {
   "cell_type": "code",
   "execution_count": null,
   "metadata": {
    "id": "Hb6g6j4Sw9j4"
   },
   "outputs": [],
   "source": [
    "#enumerate through all the similarity scores of the 'user' to make a tuple of id and similarity index\n",
    "similar_mentors = list( enumerate(cosine_sim[name_id]) )"
   ]
  },
  {
   "cell_type": "code",
   "execution_count": null,
   "metadata": {
    "id": "2xDsQdEtw9j4",
    "outputId": "2514c0c2-70a0-404f-97fe-c97b31449a51"
   },
   "outputs": [
    {
     "data": {
      "text/plain": [
       "[(0, 0.47434164902525694),\n",
       " (1, 0.1720618004029213),\n",
       " (2, 0.3872983346207416),\n",
       " (3, 1.0),\n",
       " (4, 0.3818813079129867),\n",
       " (5, 0.26064301757134345),\n",
       " (6, 0.1767766952966369),\n",
       " (7, 0.14433756729740646),\n",
       " (8, 0.2886751345948129),\n",
       " (9, 0.2672612419124244),\n",
       " (10, 0.2004459314343183),\n",
       " (11, 0.2785430072655778),\n",
       " (12, 0.4472135954999579),\n",
       " (13, 0.1767766952966369),\n",
       " (14, 0.10660035817780521),\n",
       " (15, 0.10425720702853739),\n",
       " (16, 0.1720618004029213),\n",
       " (17, 0.1336306209562122),\n",
       " (18, 0.2165063509461097),\n",
       " (19, 0.18190171877724973),\n",
       " (20, 0.07537783614444091),\n",
       " (21, 0.0),\n",
       " (22, 0.15075567228888181),\n",
       " (23, 0.08333333333333333),\n",
       " (24, 0.10206207261596577),\n",
       " (25, 0.0),\n",
       " (26, 0.1720618004029213),\n",
       " (27, 0.25),\n",
       " (28, 0.2165063509461097),\n",
       " (29, 0.4082482904638631),\n",
       " (30, 0.05892556509887897),\n",
       " (31, 0.0),\n",
       " (32, 0.0),\n",
       " (33, 0.0),\n",
       " (34, 0.05590169943749474),\n",
       " (35, 0.07537783614444091),\n",
       " (36, 0.2165063509461097),\n",
       " (37, 0.16666666666666666),\n",
       " (38, 0.2946278254943948),\n",
       " (39, 0.2165063509461097),\n",
       " (40, 0.15811388300841897),\n",
       " (41, 0.15075567228888181),\n",
       " (42, 0.2886751345948129),\n",
       " (43, 0.35355339059327373),\n",
       " (44, 0.1767766952966369),\n",
       " (45, 0.0),\n",
       " (46, 0.06454972243679027),\n",
       " (47, 0.08333333333333333),\n",
       " (48, 0.0),\n",
       " (49, 0.25),\n",
       " (50, 0.08838834764831843),\n",
       " (51, 0.22613350843332272),\n",
       " (52, 0.125),\n",
       " (53, 0.0),\n",
       " (54, 0.0),\n",
       " (55, 0.0),\n",
       " (56, 0.0),\n",
       " (57, 0.07905694150420949),\n",
       " (58, 0.0944911182523068),\n",
       " (59, 0.07537783614444091),\n",
       " (60, 0.12909944487358055),\n",
       " (61, 0.0),\n",
       " (62, 0.0),\n",
       " (63, 0.06454972243679027),\n",
       " (64, 0.0),\n",
       " (65, 0.23717082451262844),\n",
       " (66, 0.0),\n",
       " (67, 0.30316953129541624),\n",
       " (68, 0.08838834764831843),\n",
       " (69, 0.0),\n",
       " (70, 0.0625),\n",
       " (71, 0.08333333333333333),\n",
       " (72, 0.0),\n",
       " (73, 0.0),\n",
       " (74, 0.0),\n",
       " (75, 0.10206207261596577),\n",
       " (76, 0.0),\n",
       " (77, 0.06454972243679027),\n",
       " (78, 0.0),\n",
       " (79, 0.07537783614444091),\n",
       " (80, 0.0),\n",
       " (81, 0.11785113019775793),\n",
       " (82, 0.10206207261596577),\n",
       " (83, 0.12126781251816648),\n",
       " (84, 0.0),\n",
       " (85, 0.125),\n",
       " (86, 0.19364916731037082),\n",
       " (87, 0.22613350843332272),\n",
       " (88, 0.1875),\n",
       " (89, 0.07905694150420949),\n",
       " (90, 0.1875),\n",
       " (91, 0.1875),\n",
       " (92, 0.0),\n",
       " (93, 0.0),\n",
       " (94, 0.1636634176769943),\n",
       " (95, 0.09805806756909202),\n",
       " (96, 0.0),\n",
       " (97, 0.1386750490563073),\n",
       " (98, 0.07905694150420949),\n",
       " (99, 0.0),\n",
       " (100, 0.0),\n",
       " (101, 0.0),\n",
       " (102, 0.1889822365046136),\n",
       " (103, 0.07537783614444091),\n",
       " (104, 0.0),\n",
       " (105, 0.15075567228888181),\n",
       " (106, 0.0),\n",
       " (107, 0.057353933467640436),\n",
       " (108, 0.0),\n",
       " (109, 0.2165063509461097),\n",
       " (110, 0.1386750490563073),\n",
       " (111, 0.07537783614444091),\n",
       " (112, 0.1386750490563073),\n",
       " (113, 0.07216878364870323),\n",
       " (114, 0.1336306209562122),\n",
       " (115, 0.12909944487358055),\n",
       " (116, 0.0),\n",
       " (117, 0.0),\n",
       " (118, 0.0),\n",
       " (119, 0.14433756729740646),\n",
       " (120, 0.1386750490563073),\n",
       " (121, 0.0),\n",
       " (122, 0.0),\n",
       " (123, 0.1875),\n",
       " (124, 0.0),\n",
       " (125, 0.07905694150420949),\n",
       " (126, 0.2165063509461097),\n",
       " (127, 0.15811388300841897),\n",
       " (128, 0.0),\n",
       " (129, 0.0944911182523068),\n",
       " (130, 0.07905694150420949),\n",
       " (131, 0.08333333333333333),\n",
       " (132, 0.0),\n",
       " (133, 0.2795084971874737),\n",
       " (134, 0.0),\n",
       " (135, 0.1767766952966369),\n",
       " (136, 0.0),\n",
       " (137, 0.08333333333333333),\n",
       " (138, 0.0944911182523068),\n",
       " (139, 0.0),\n",
       " (140, 0.125),\n",
       " (141, 0.22613350843332272),\n",
       " (142, 0.14433756729740646),\n",
       " (143, 0.11785113019775793),\n",
       " (144, 0.0625),\n",
       " (145, 0.07216878364870323),\n",
       " (146, 0.053300179088902604),\n",
       " (147, 0.06063390625908324),\n",
       " (148, 0.0),\n",
       " (149, 0.0668153104781061),\n",
       " (150, 0.053300179088902604),\n",
       " (151, 0.19364916731037082),\n",
       " (152, 0.08838834764831843),\n",
       " (153, 0.14433756729740646),\n",
       " (154, 0.0625),\n",
       " (155, 0.0),\n",
       " (156, 0.0),\n",
       " (157, 0.07537783614444091),\n",
       " (158, 0.08333333333333333),\n",
       " (159, 0.1336306209562122),\n",
       " (160, 0.05),\n",
       " (161, 0.1636634176769943),\n",
       " (162, 0.0),\n",
       " (163, 0.08333333333333333),\n",
       " (164, 0.08333333333333333),\n",
       " (165, 0.0),\n",
       " (166, 0.08333333333333333),\n",
       " (167, 0.0),\n",
       " (168, 0.25),\n",
       " (169, 0.0),\n",
       " (170, 0.08838834764831843),\n",
       " (171, 0.33407655239053047),\n",
       " (172, 0.08333333333333333),\n",
       " (173, 0.1386750490563073),\n",
       " (174, 0.0),\n",
       " (175, 0.1386750490563073),\n",
       " (176, 0.1386750490563073),\n",
       " (177, 0.19364916731037082),\n",
       " (178, 0.15811388300841897),\n",
       " (179, 0.07537783614444091),\n",
       " (180, 0.0),\n",
       " (181, 0.06454972243679027),\n",
       " (182, 0.0),\n",
       " (183, 0.0),\n",
       " (184, 0.0),\n",
       " (185, 0.08838834764831843),\n",
       " (186, 0.125),\n",
       " (187, 0.31622776601683794),\n",
       " (188, 0.12126781251816648),\n",
       " (189, 0.08333333333333333),\n",
       " (190, 0.2551551815399144),\n",
       " (191, 0.17677669529663687),\n",
       " (192, 0.23717082451262844),\n",
       " (193, 0.08333333333333333),\n",
       " (194, 0.125),\n",
       " (195, 0.21320071635561041),\n",
       " (196, 0.14433756729740646),\n",
       " (197, 0.1336306209562122),\n",
       " (198, 0.39528470752104744),\n",
       " (199, 0.1767766952966369),\n",
       " (200, 0.06933752452815364),\n",
       " (201, 0.0),\n",
       " (202, 0.08333333333333333),\n",
       " (203, 0.0),\n",
       " (204, 0.2773500981126146),\n",
       " (205, 0.14433756729740646),\n",
       " (206, 0.0),\n",
       " (207, 0.0),\n",
       " (208, 0.08838834764831843),\n",
       " (209, 0.0),\n",
       " (210, 0.0),\n",
       " (211, 0.08333333333333333),\n",
       " (212, 0.1720618004029213),\n",
       " (213, 0.2551551815399144),\n",
       " (214, 0.20801257358446093),\n",
       " (215, 0.0),\n",
       " (216, 0.06933752452815364),\n",
       " (217, 0.0944911182523068),\n",
       " (218, 0.0),\n",
       " (219, 0.0),\n",
       " (220, 0.07905694150420949),\n",
       " (221, 0.16770509831248423),\n",
       " (222, 0.3287979746107146),\n",
       " (223, 0.15075567228888181),\n",
       " (224, 0.08333333333333333),\n",
       " (225, 0.0),\n",
       " (226, 0.19364916731037082),\n",
       " (227, 0.23570226039551587),\n",
       " (228, 0.0),\n",
       " (229, 0.0),\n",
       " (230, 0.17677669529663687),\n",
       " (231, 0.08838834764831843),\n",
       " (232, 0.0944911182523068),\n",
       " (233, 0.0944911182523068),\n",
       " (234, 0.0),\n",
       " (235, 0.125),\n",
       " (236, 0.0),\n",
       " (237, 0.10206207261596577),\n",
       " (238, 0.0),\n",
       " (239, 0.0),\n",
       " (240, 0.08838834764831843),\n",
       " (241, 0.0),\n",
       " (242, 0.15811388300841897),\n",
       " (243, 0.0),\n",
       " (244, 0.06933752452815364),\n",
       " (245, 0.0),\n",
       " (246, 0.15075567228888181),\n",
       " (247, 0.20412414523193154),\n",
       " (248, 0.08838834764831843),\n",
       " (249, 0.11180339887498948),\n",
       " (250, 0.20412414523193154),\n",
       " (251, 0.0),\n",
       " (252, 0.15811388300841897),\n",
       " (253, 0.15811388300841897),\n",
       " (254, 0.11180339887498948),\n",
       " (255, 0.0),\n",
       " (256, 0.22360679774997896),\n",
       " (257, 0.0),\n",
       " (258, 0.3333333333333333),\n",
       " (259, 0.11180339887498948),\n",
       " (260, 0.22613350843332272),\n",
       " (261, 0.08838834764831843),\n",
       " (262, 0.0),\n",
       " (263, 0.0),\n",
       " (264, 0.17677669529663687),\n",
       " (265, 0.16666666666666666),\n",
       " (266, 0.08333333333333333),\n",
       " (267, 0.10206207261596577),\n",
       " (268, 0.20412414523193154),\n",
       " (269, 0.0),\n",
       " (270, 0.0),\n",
       " (271, 0.0),\n",
       " (272, 0.0),\n",
       " (273, 0.0),\n",
       " (274, 0.0),\n",
       " (275, 0.0),\n",
       " (276, 0.08333333333333333),\n",
       " (277, 0.06933752452815364),\n",
       " (278, 0.20412414523193154),\n",
       " (279, 0.0),\n",
       " (280, 0.0),\n",
       " (281, 0.0),\n",
       " (282, 0.15811388300841897),\n",
       " (283, 0.0),\n",
       " (284, 0.0),\n",
       " (285, 0.10660035817780521),\n",
       " (286, 0.15075567228888181),\n",
       " (287, 0.0),\n",
       " (288, 0.0),\n",
       " (289, 0.0),\n",
       " (290, 0.0944911182523068),\n",
       " (291, 0.11180339887498948),\n",
       " (292, 0.07537783614444091),\n",
       " (293, 0.15811388300841897),\n",
       " (294, 0.0),\n",
       " (295, 0.0),\n",
       " (296, 0.0),\n",
       " (297, 0.0),\n",
       " (298, 0.0),\n",
       " (299, 0.0),\n",
       " (300, 0.16666666666666666),\n",
       " (301, 0.0),\n",
       " (302, 0.08838834764831843),\n",
       " (303, 0.0),\n",
       " (304, 0.0),\n",
       " (305, 0.0),\n",
       " (306, 0.0),\n",
       " (307, 0.0),\n",
       " (308, 0.0),\n",
       " (309, 0.0668153104781061),\n",
       " (310, 0.0668153104781061),\n",
       " (311, 0.28347335475692037),\n",
       " (312, 0.0),\n",
       " (313, 0.14433756729740646),\n",
       " (314, 0.0),\n",
       " (315, 0.0),\n",
       " (316, 0.15075567228888181),\n",
       " (317, 0.0),\n",
       " (318, 0.0),\n",
       " (319, 0.0),\n",
       " (320, 0.0),\n",
       " (321, 0.0),\n",
       " (322, 0.0),\n",
       " (323, 0.16666666666666666),\n",
       " (324, 0.0),\n",
       " (325, 0.0),\n",
       " (326, 0.16666666666666666),\n",
       " (327, 0.0),\n",
       " (328, 0.0),\n",
       " (329, 0.0),\n",
       " (330, 0.0),\n",
       " (331, 0.0),\n",
       " (332, 0.0),\n",
       " (333, 0.08838834764831843),\n",
       " (334, 0.0),\n",
       " (335, 0.22360679774997896),\n",
       " (336, 0.08333333333333333),\n",
       " (337, 0.0944911182523068),\n",
       " (338, 0.0),\n",
       " (339, 0.15811388300841897),\n",
       " (340, 0.0),\n",
       " (341, 0.17677669529663687),\n",
       " (342, 0.0),\n",
       " (343, 0.07905694150420949),\n",
       " (344, 0.0),\n",
       " (345, 0.11180339887498948),\n",
       " (346, 0.15075567228888181),\n",
       " (347, 0.0),\n",
       " (348, 0.0),\n",
       " (349, 0.0),\n",
       " (350, 0.0),\n",
       " (351, 0.0),\n",
       " (352, 0.0),\n",
       " (353, 0.0),\n",
       " (354, 0.10206207261596577),\n",
       " (355, 0.06933752452815364),\n",
       " (356, 0.11180339887498948),\n",
       " (357, 0.22613350843332272),\n",
       " (358, 0.0),\n",
       " (359, 0.10206207261596577),\n",
       " (360, 0.0),\n",
       " (361, 0.0),\n",
       " (362, 0.14433756729740646),\n",
       " (363, 0.0),\n",
       " (364, 0.15811388300841897),\n",
       " (365, 0.15075567228888181),\n",
       " (366, 0.0),\n",
       " (367, 0.0),\n",
       " (368, 0.0),\n",
       " (369, 0.0),\n",
       " (370, 0.0),\n",
       " (371, 0.0),\n",
       " (372, 0.0),\n",
       " (373, 0.0),\n",
       " (374, 0.0),\n",
       " (375, 0.0),\n",
       " (376, 0.0),\n",
       " (377, 0.0),\n",
       " (378, 0.125),\n",
       " (379, 0.0),\n",
       " (380, 0.0),\n",
       " (381, 0.0),\n",
       " (382, 0.15811388300841897),\n",
       " (383, 0.0),\n",
       " (384, 0.0),\n",
       " (385, 0.11180339887498948),\n",
       " (386, 0.11180339887498948),\n",
       " (387, 0.15075567228888181),\n",
       " (388, 0.0),\n",
       " (389, 0.08838834764831843),\n",
       " (390, 0.0),\n",
       " (391, 0.20412414523193154),\n",
       " (392, 0.10206207261596577),\n",
       " (393, 0.14433756729740646),\n",
       " (394, 0.10206207261596577),\n",
       " (395, 0.0),\n",
       " (396, 0.0),\n",
       " (397, 0.0),\n",
       " (398, 0.0),\n",
       " (399, 0.0),\n",
       " (400, 0.0),\n",
       " (401, 0.08838834764831843),\n",
       " (402, 0.17677669529663687),\n",
       " (403, 0.0),\n",
       " (404, 0.0),\n",
       " (405, 0.0)]"
      ]
     },
     "execution_count": 36,
     "metadata": {
      "tags": []
     },
     "output_type": "execute_result"
    }
   ],
   "source": [
    "similar_mentors"
   ]
  },
  {
   "cell_type": "code",
   "execution_count": null,
   "metadata": {
    "id": "Quut_cyzw9j5"
   },
   "outputs": [],
   "source": [
    "#sort the list of similar mentors in the order of similarity scores in descending order\n",
    "sorted_similar_mentors = sorted(similar_mentors, key = lambda x:x[1], reverse = True)[2:]"
   ]
  },
  {
   "cell_type": "code",
   "execution_count": null,
   "metadata": {
    "id": "zg5XRCsbw9j5",
    "outputId": "ab140a0a-dda8-4f65-e66a-76c64bec9a44"
   },
   "outputs": [
    {
     "data": {
      "text/plain": [
       "[(12, 0.4472135954999579),\n",
       " (29, 0.4082482904638631),\n",
       " (198, 0.39528470752104744),\n",
       " (2, 0.3872983346207416),\n",
       " (4, 0.3818813079129867),\n",
       " (43, 0.35355339059327373),\n",
       " (171, 0.33407655239053047),\n",
       " (258, 0.3333333333333333),\n",
       " (222, 0.3287979746107146),\n",
       " (187, 0.31622776601683794),\n",
       " (67, 0.30316953129541624),\n",
       " (38, 0.2946278254943948),\n",
       " (8, 0.2886751345948129),\n",
       " (42, 0.2886751345948129),\n",
       " (311, 0.28347335475692037),\n",
       " (133, 0.2795084971874737),\n",
       " (11, 0.2785430072655778),\n",
       " (204, 0.2773500981126146),\n",
       " (9, 0.2672612419124244),\n",
       " (5, 0.26064301757134345),\n",
       " (190, 0.2551551815399144),\n",
       " (213, 0.2551551815399144),\n",
       " (27, 0.25),\n",
       " (49, 0.25),\n",
       " (168, 0.25),\n",
       " (65, 0.23717082451262844),\n",
       " (192, 0.23717082451262844),\n",
       " (227, 0.23570226039551587),\n",
       " (51, 0.22613350843332272),\n",
       " (87, 0.22613350843332272),\n",
       " (141, 0.22613350843332272),\n",
       " (260, 0.22613350843332272),\n",
       " (357, 0.22613350843332272),\n",
       " (256, 0.22360679774997896),\n",
       " (335, 0.22360679774997896),\n",
       " (18, 0.2165063509461097),\n",
       " (28, 0.2165063509461097),\n",
       " (36, 0.2165063509461097),\n",
       " (39, 0.2165063509461097),\n",
       " (109, 0.2165063509461097),\n",
       " (126, 0.2165063509461097),\n",
       " (195, 0.21320071635561041),\n",
       " (214, 0.20801257358446093),\n",
       " (247, 0.20412414523193154),\n",
       " (250, 0.20412414523193154),\n",
       " (268, 0.20412414523193154),\n",
       " (278, 0.20412414523193154),\n",
       " (391, 0.20412414523193154),\n",
       " (10, 0.2004459314343183),\n",
       " (86, 0.19364916731037082),\n",
       " (151, 0.19364916731037082),\n",
       " (177, 0.19364916731037082),\n",
       " (226, 0.19364916731037082),\n",
       " (102, 0.1889822365046136),\n",
       " (88, 0.1875),\n",
       " (90, 0.1875),\n",
       " (91, 0.1875),\n",
       " (123, 0.1875),\n",
       " (19, 0.18190171877724973),\n",
       " (6, 0.1767766952966369),\n",
       " (13, 0.1767766952966369),\n",
       " (44, 0.1767766952966369),\n",
       " (135, 0.1767766952966369),\n",
       " (199, 0.1767766952966369),\n",
       " (191, 0.17677669529663687),\n",
       " (230, 0.17677669529663687),\n",
       " (264, 0.17677669529663687),\n",
       " (341, 0.17677669529663687),\n",
       " (402, 0.17677669529663687),\n",
       " (1, 0.1720618004029213),\n",
       " (16, 0.1720618004029213),\n",
       " (26, 0.1720618004029213),\n",
       " (212, 0.1720618004029213),\n",
       " (221, 0.16770509831248423),\n",
       " (37, 0.16666666666666666),\n",
       " (265, 0.16666666666666666),\n",
       " (300, 0.16666666666666666),\n",
       " (323, 0.16666666666666666),\n",
       " (326, 0.16666666666666666),\n",
       " (94, 0.1636634176769943),\n",
       " (161, 0.1636634176769943),\n",
       " (40, 0.15811388300841897),\n",
       " (127, 0.15811388300841897),\n",
       " (178, 0.15811388300841897),\n",
       " (242, 0.15811388300841897),\n",
       " (252, 0.15811388300841897),\n",
       " (253, 0.15811388300841897),\n",
       " (282, 0.15811388300841897),\n",
       " (293, 0.15811388300841897),\n",
       " (339, 0.15811388300841897),\n",
       " (364, 0.15811388300841897),\n",
       " (382, 0.15811388300841897),\n",
       " (22, 0.15075567228888181),\n",
       " (41, 0.15075567228888181),\n",
       " (105, 0.15075567228888181),\n",
       " (223, 0.15075567228888181),\n",
       " (246, 0.15075567228888181),\n",
       " (286, 0.15075567228888181),\n",
       " (316, 0.15075567228888181),\n",
       " (346, 0.15075567228888181),\n",
       " (365, 0.15075567228888181),\n",
       " (387, 0.15075567228888181),\n",
       " (7, 0.14433756729740646),\n",
       " (119, 0.14433756729740646),\n",
       " (142, 0.14433756729740646),\n",
       " (153, 0.14433756729740646),\n",
       " (196, 0.14433756729740646),\n",
       " (205, 0.14433756729740646),\n",
       " (313, 0.14433756729740646),\n",
       " (362, 0.14433756729740646),\n",
       " (393, 0.14433756729740646),\n",
       " (97, 0.1386750490563073),\n",
       " (110, 0.1386750490563073),\n",
       " (112, 0.1386750490563073),\n",
       " (120, 0.1386750490563073),\n",
       " (173, 0.1386750490563073),\n",
       " (175, 0.1386750490563073),\n",
       " (176, 0.1386750490563073),\n",
       " (17, 0.1336306209562122),\n",
       " (114, 0.1336306209562122),\n",
       " (159, 0.1336306209562122),\n",
       " (197, 0.1336306209562122),\n",
       " (60, 0.12909944487358055),\n",
       " (115, 0.12909944487358055),\n",
       " (52, 0.125),\n",
       " (85, 0.125),\n",
       " (140, 0.125),\n",
       " (186, 0.125),\n",
       " (194, 0.125),\n",
       " (235, 0.125),\n",
       " (378, 0.125),\n",
       " (83, 0.12126781251816648),\n",
       " (188, 0.12126781251816648),\n",
       " (81, 0.11785113019775793),\n",
       " (143, 0.11785113019775793),\n",
       " (249, 0.11180339887498948),\n",
       " (254, 0.11180339887498948),\n",
       " (259, 0.11180339887498948),\n",
       " (291, 0.11180339887498948),\n",
       " (345, 0.11180339887498948),\n",
       " (356, 0.11180339887498948),\n",
       " (385, 0.11180339887498948),\n",
       " (386, 0.11180339887498948),\n",
       " (14, 0.10660035817780521),\n",
       " (285, 0.10660035817780521),\n",
       " (15, 0.10425720702853739),\n",
       " (24, 0.10206207261596577),\n",
       " (75, 0.10206207261596577),\n",
       " (82, 0.10206207261596577),\n",
       " (237, 0.10206207261596577),\n",
       " (267, 0.10206207261596577),\n",
       " (354, 0.10206207261596577),\n",
       " (359, 0.10206207261596577),\n",
       " (392, 0.10206207261596577),\n",
       " (394, 0.10206207261596577),\n",
       " (95, 0.09805806756909202),\n",
       " (58, 0.0944911182523068),\n",
       " (129, 0.0944911182523068),\n",
       " (138, 0.0944911182523068),\n",
       " (217, 0.0944911182523068),\n",
       " (232, 0.0944911182523068),\n",
       " (233, 0.0944911182523068),\n",
       " (290, 0.0944911182523068),\n",
       " (337, 0.0944911182523068),\n",
       " (50, 0.08838834764831843),\n",
       " (68, 0.08838834764831843),\n",
       " (152, 0.08838834764831843),\n",
       " (170, 0.08838834764831843),\n",
       " (185, 0.08838834764831843),\n",
       " (208, 0.08838834764831843),\n",
       " (231, 0.08838834764831843),\n",
       " (240, 0.08838834764831843),\n",
       " (248, 0.08838834764831843),\n",
       " (261, 0.08838834764831843),\n",
       " (302, 0.08838834764831843),\n",
       " (333, 0.08838834764831843),\n",
       " (389, 0.08838834764831843),\n",
       " (401, 0.08838834764831843),\n",
       " (23, 0.08333333333333333),\n",
       " (47, 0.08333333333333333),\n",
       " (71, 0.08333333333333333),\n",
       " (131, 0.08333333333333333),\n",
       " (137, 0.08333333333333333),\n",
       " (158, 0.08333333333333333),\n",
       " (163, 0.08333333333333333),\n",
       " (164, 0.08333333333333333),\n",
       " (166, 0.08333333333333333),\n",
       " (172, 0.08333333333333333),\n",
       " (189, 0.08333333333333333),\n",
       " (193, 0.08333333333333333),\n",
       " (202, 0.08333333333333333),\n",
       " (211, 0.08333333333333333),\n",
       " (224, 0.08333333333333333),\n",
       " (266, 0.08333333333333333),\n",
       " (276, 0.08333333333333333),\n",
       " (336, 0.08333333333333333),\n",
       " (57, 0.07905694150420949),\n",
       " (89, 0.07905694150420949),\n",
       " (98, 0.07905694150420949),\n",
       " (125, 0.07905694150420949),\n",
       " (130, 0.07905694150420949),\n",
       " (220, 0.07905694150420949),\n",
       " (343, 0.07905694150420949),\n",
       " (20, 0.07537783614444091),\n",
       " (35, 0.07537783614444091),\n",
       " (59, 0.07537783614444091),\n",
       " (79, 0.07537783614444091),\n",
       " (103, 0.07537783614444091),\n",
       " (111, 0.07537783614444091),\n",
       " (157, 0.07537783614444091),\n",
       " (179, 0.07537783614444091),\n",
       " (292, 0.07537783614444091),\n",
       " (113, 0.07216878364870323),\n",
       " (145, 0.07216878364870323),\n",
       " (200, 0.06933752452815364),\n",
       " (216, 0.06933752452815364),\n",
       " (244, 0.06933752452815364),\n",
       " (277, 0.06933752452815364),\n",
       " (355, 0.06933752452815364),\n",
       " (149, 0.0668153104781061),\n",
       " (309, 0.0668153104781061),\n",
       " (310, 0.0668153104781061),\n",
       " (46, 0.06454972243679027),\n",
       " (63, 0.06454972243679027),\n",
       " (77, 0.06454972243679027),\n",
       " (181, 0.06454972243679027),\n",
       " (70, 0.0625),\n",
       " (144, 0.0625),\n",
       " (154, 0.0625),\n",
       " (147, 0.06063390625908324),\n",
       " (30, 0.05892556509887897),\n",
       " (107, 0.057353933467640436),\n",
       " (34, 0.05590169943749474),\n",
       " (146, 0.053300179088902604),\n",
       " (150, 0.053300179088902604),\n",
       " (160, 0.05),\n",
       " (21, 0.0),\n",
       " (25, 0.0),\n",
       " (31, 0.0),\n",
       " (32, 0.0),\n",
       " (33, 0.0),\n",
       " (45, 0.0),\n",
       " (48, 0.0),\n",
       " (53, 0.0),\n",
       " (54, 0.0),\n",
       " (55, 0.0),\n",
       " (56, 0.0),\n",
       " (61, 0.0),\n",
       " (62, 0.0),\n",
       " (64, 0.0),\n",
       " (66, 0.0),\n",
       " (69, 0.0),\n",
       " (72, 0.0),\n",
       " (73, 0.0),\n",
       " (74, 0.0),\n",
       " (76, 0.0),\n",
       " (78, 0.0),\n",
       " (80, 0.0),\n",
       " (84, 0.0),\n",
       " (92, 0.0),\n",
       " (93, 0.0),\n",
       " (96, 0.0),\n",
       " (99, 0.0),\n",
       " (100, 0.0),\n",
       " (101, 0.0),\n",
       " (104, 0.0),\n",
       " (106, 0.0),\n",
       " (108, 0.0),\n",
       " (116, 0.0),\n",
       " (117, 0.0),\n",
       " (118, 0.0),\n",
       " (121, 0.0),\n",
       " (122, 0.0),\n",
       " (124, 0.0),\n",
       " (128, 0.0),\n",
       " (132, 0.0),\n",
       " (134, 0.0),\n",
       " (136, 0.0),\n",
       " (139, 0.0),\n",
       " (148, 0.0),\n",
       " (155, 0.0),\n",
       " (156, 0.0),\n",
       " (162, 0.0),\n",
       " (165, 0.0),\n",
       " (167, 0.0),\n",
       " (169, 0.0),\n",
       " (174, 0.0),\n",
       " (180, 0.0),\n",
       " (182, 0.0),\n",
       " (183, 0.0),\n",
       " (184, 0.0),\n",
       " (201, 0.0),\n",
       " (203, 0.0),\n",
       " (206, 0.0),\n",
       " (207, 0.0),\n",
       " (209, 0.0),\n",
       " (210, 0.0),\n",
       " (215, 0.0),\n",
       " (218, 0.0),\n",
       " (219, 0.0),\n",
       " (225, 0.0),\n",
       " (228, 0.0),\n",
       " (229, 0.0),\n",
       " (234, 0.0),\n",
       " (236, 0.0),\n",
       " (238, 0.0),\n",
       " (239, 0.0),\n",
       " (241, 0.0),\n",
       " (243, 0.0),\n",
       " (245, 0.0),\n",
       " (251, 0.0),\n",
       " (255, 0.0),\n",
       " (257, 0.0),\n",
       " (262, 0.0),\n",
       " (263, 0.0),\n",
       " (269, 0.0),\n",
       " (270, 0.0),\n",
       " (271, 0.0),\n",
       " (272, 0.0),\n",
       " (273, 0.0),\n",
       " (274, 0.0),\n",
       " (275, 0.0),\n",
       " (279, 0.0),\n",
       " (280, 0.0),\n",
       " (281, 0.0),\n",
       " (283, 0.0),\n",
       " (284, 0.0),\n",
       " (287, 0.0),\n",
       " (288, 0.0),\n",
       " (289, 0.0),\n",
       " (294, 0.0),\n",
       " (295, 0.0),\n",
       " (296, 0.0),\n",
       " (297, 0.0),\n",
       " (298, 0.0),\n",
       " (299, 0.0),\n",
       " (301, 0.0),\n",
       " (303, 0.0),\n",
       " (304, 0.0),\n",
       " (305, 0.0),\n",
       " (306, 0.0),\n",
       " (307, 0.0),\n",
       " (308, 0.0),\n",
       " (312, 0.0),\n",
       " (314, 0.0),\n",
       " (315, 0.0),\n",
       " (317, 0.0),\n",
       " (318, 0.0),\n",
       " (319, 0.0),\n",
       " (320, 0.0),\n",
       " (321, 0.0),\n",
       " (322, 0.0),\n",
       " (324, 0.0),\n",
       " (325, 0.0),\n",
       " (327, 0.0),\n",
       " (328, 0.0),\n",
       " (329, 0.0),\n",
       " (330, 0.0),\n",
       " (331, 0.0),\n",
       " (332, 0.0),\n",
       " (334, 0.0),\n",
       " (338, 0.0),\n",
       " (340, 0.0),\n",
       " (342, 0.0),\n",
       " (344, 0.0),\n",
       " (347, 0.0),\n",
       " (348, 0.0),\n",
       " (349, 0.0),\n",
       " (350, 0.0),\n",
       " (351, 0.0),\n",
       " (352, 0.0),\n",
       " (353, 0.0),\n",
       " (358, 0.0),\n",
       " (360, 0.0),\n",
       " (361, 0.0),\n",
       " (363, 0.0),\n",
       " (366, 0.0),\n",
       " (367, 0.0),\n",
       " (368, 0.0),\n",
       " (369, 0.0),\n",
       " (370, 0.0),\n",
       " (371, 0.0),\n",
       " (372, 0.0),\n",
       " (373, 0.0),\n",
       " (374, 0.0),\n",
       " (375, 0.0),\n",
       " (376, 0.0),\n",
       " (377, 0.0),\n",
       " (379, 0.0),\n",
       " (380, 0.0),\n",
       " (381, 0.0),\n",
       " (383, 0.0),\n",
       " (384, 0.0),\n",
       " (388, 0.0),\n",
       " (390, 0.0),\n",
       " (395, 0.0),\n",
       " (396, 0.0),\n",
       " (397, 0.0),\n",
       " (398, 0.0),\n",
       " (399, 0.0),\n",
       " (400, 0.0),\n",
       " (403, 0.0),\n",
       " (404, 0.0),\n",
       " (405, 0.0)]"
      ]
     },
     "execution_count": 38,
     "metadata": {
      "tags": []
     },
     "output_type": "execute_result"
    }
   ],
   "source": [
    "#print\n",
    "sorted_similar_mentors"
   ]
  },
  {
   "cell_type": "code",
   "execution_count": null,
   "metadata": {
    "id": "_wODFzA5w9j5",
    "outputId": "2aea9ecc-3c33-4c9c-c9ca-7761e290c10c"
   },
   "outputs": [
    {
     "name": "stdout",
     "output_type": "stream",
     "text": [
      "The top 5 similar mentor to xyz are:\n",
      "12\n",
      "29\n",
      "198\n",
      "2\n",
      "4\n"
     ]
    }
   ],
   "source": [
    "i = 0\n",
    "print ('The top 5 similar mentor to '+user+' are:')\n",
    "for element in sorted_similar_mentors:\n",
    "    print(element[0])\n",
    "    i = i + 1\n",
    "    if i >= 5:\n",
    "        break\n"
   ]
  },
  {
   "cell_type": "code",
   "execution_count": null,
   "metadata": {
    "id": "6CxoyKt9w9j5",
    "outputId": "e94e9805-e67a-4829-d0ad-e7b7d2474a9d"
   },
   "outputs": [
    {
     "data": {
      "text/plain": [
       "[12, 29, 198, 2, 4]"
      ]
     },
     "execution_count": 40,
     "metadata": {
      "tags": []
     },
     "output_type": "execute_result"
    }
   ],
   "source": [
    "identities =[x[0] for x in sorted_similar_mentors[:5]]\n",
    "identities"
   ]
  },
  {
   "cell_type": "code",
   "execution_count": null,
   "metadata": {
    "id": "Igfmrhlhw9j5"
   },
   "outputs": [],
   "source": [
    "x=identities"
   ]
  },
  {
   "cell_type": "code",
   "execution_count": null,
   "metadata": {
    "id": "H2IyDTttw9j5"
   },
   "outputs": [],
   "source": [
    "result={\"Name\":[],\"Identity\":[]}\n",
    "for i in x :\n",
    "    result['Name'].append(df.loc[i,\"name\"])\n",
    "    result['Identity'].append(df.loc[i,\"identity\"])"
   ]
  },
  {
   "cell_type": "code",
   "execution_count": null,
   "metadata": {
    "id": "YiJiNNwNw9j5"
   },
   "outputs": [],
   "source": [
    "import pandas as pd\n",
    "result=pd.DataFrame(result)"
   ]
  },
  {
   "cell_type": "code",
   "execution_count": null,
   "metadata": {
    "id": "uStM5KAGw9j5",
    "outputId": "af96738d-7c3d-418e-ecb3-df5a4b420c78"
   },
   "outputs": [
    {
     "data": {
      "text/html": [
       "<div>\n",
       "<style scoped>\n",
       "    .dataframe tbody tr th:only-of-type {\n",
       "        vertical-align: middle;\n",
       "    }\n",
       "\n",
       "    .dataframe tbody tr th {\n",
       "        vertical-align: top;\n",
       "    }\n",
       "\n",
       "    .dataframe thead th {\n",
       "        text-align: right;\n",
       "    }\n",
       "</style>\n",
       "<table border=\"1\" class=\"dataframe\">\n",
       "  <thead>\n",
       "    <tr style=\"text-align: right;\">\n",
       "      <th></th>\n",
       "      <th>Name</th>\n",
       "      <th>Identity</th>\n",
       "    </tr>\n",
       "  </thead>\n",
       "  <tbody>\n",
       "    <tr>\n",
       "      <th>0</th>\n",
       "      <td>Sawan Soni</td>\n",
       "      <td>18</td>\n",
       "    </tr>\n",
       "    <tr>\n",
       "      <th>1</th>\n",
       "      <td>Rashish Rajendra Shingi</td>\n",
       "      <td>104</td>\n",
       "    </tr>\n",
       "    <tr>\n",
       "      <th>2</th>\n",
       "      <td>Biswaranjan Naik</td>\n",
       "      <td>1514</td>\n",
       "    </tr>\n",
       "    <tr>\n",
       "      <th>3</th>\n",
       "      <td>Avineil Jain</td>\n",
       "      <td>6</td>\n",
       "    </tr>\n",
       "    <tr>\n",
       "      <th>4</th>\n",
       "      <td>Shubham Shah</td>\n",
       "      <td>8</td>\n",
       "    </tr>\n",
       "  </tbody>\n",
       "</table>\n",
       "</div>"
      ],
      "text/plain": [
       "                      Name  Identity\n",
       "0               Sawan Soni        18\n",
       "1  Rashish Rajendra Shingi       104\n",
       "2         Biswaranjan Naik      1514\n",
       "3             Avineil Jain         6\n",
       "4             Shubham Shah         8"
      ]
     },
     "execution_count": 46,
     "metadata": {
      "tags": []
     },
     "output_type": "execute_result"
    }
   ],
   "source": [
    "result"
   ]
  },
  {
   "cell_type": "code",
   "execution_count": null,
   "metadata": {
    "id": "WdSfExsFw9j5"
   },
   "outputs": [],
   "source": []
  }
 ],
 "metadata": {
  "colab": {
   "name": "mentor recommender system.ipynb",
   "provenance": []
  },
  "kernelspec": {
   "display_name": "Python 3",
   "language": "python",
   "name": "python3"
  },
  "language_info": {
   "codemirror_mode": {
    "name": "ipython",
    "version": 3
   },
   "file_extension": ".py",
   "mimetype": "text/x-python",
   "name": "python",
   "nbconvert_exporter": "python",
   "pygments_lexer": "ipython3",
   "version": "3.7.3"
  }
 },
 "nbformat": 4,
 "nbformat_minor": 4
}
