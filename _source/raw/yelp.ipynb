{
 "cells": [
  {
   "cell_type": "code",
   "execution_count": 4,
   "metadata": {
    "colab": {
     "base_uri": "https://localhost:8080/",
     "height": 649
    },
    "colab_type": "code",
    "executionInfo": {
     "elapsed": 141044,
     "status": "ok",
     "timestamp": 1586866032038,
     "user": {
      "displayName": "Sparsh Agarwal",
      "photoUrl": "",
      "userId": "13037694610922482904"
     },
     "user_tz": -330
    },
    "id": "wc7oLC7Uju5c",
    "outputId": "57883cc2-e661-497e-8780-32b7a688bb7a"
   },
   "outputs": [
    {
     "name": "stdout",
     "output_type": "stream",
     "text": [
      "--2020-04-14 12:04:52--  https://www.kaggle.com/yelp-dataset/yelp-dataset/download/py6LEr6zxQNWjebkCW8B%2Fversions%2FlVP0fduiJJo8YKt2vKKr%2Ffiles%2Fyelp_academic_dataset_business.json?datasetVersionNumber=2\n",
      "Resolving www.kaggle.com (www.kaggle.com)... 35.244.233.98\n",
      "Connecting to www.kaggle.com (www.kaggle.com)|35.244.233.98|:443... connected.\n",
      "HTTP request sent, awaiting response... 302 Found\n",
      "Location: https://storage.googleapis.com/kaggle-data-sets/10100/1035793/compressed/yelp_academic_dataset_business.json.zip?GoogleAccessId=web-data@kaggle-161607.iam.gserviceaccount.com&Expires=1587125092&Signature=UmAY5gLzNMHqLJGVso3wKR3l0qnvTfCt9g6QQ0C0ss2WovMiy%2BopSaDOXOYGGwi1p4Jb9ROlwON2jSXnPIjpR%2BPtRQK0sTODXy%2FUV1FbGxpa%2BwtwehoqHtbmrXzSI1Zo3OmNrW3TBEFmWHyOEp9Mlkk5cMCewlJ0yutdpG5uNR3I%2BS3v2NZNGfx8cfgg7hrQc9%2FQLk67vHNe5BsgwM01ltus3%2B7IjXpvMKgAamBCdaeIbJqCxr5lL57Jtpi1ahpdlx595lRf7k8nEQaXTKP7YPvVGRWelXMo3dpgvjRKxmaL1mKf5n%2Bj672OGsP8Vy33DTbWERbUBNe6SRNxoVxtBg%3D%3D&response-content-disposition=attachment%3B+filename%3Dyelp_academic_dataset_business.json.zip [following]\n",
      "--2020-04-14 12:04:52--  https://storage.googleapis.com/kaggle-data-sets/10100/1035793/compressed/yelp_academic_dataset_business.json.zip?GoogleAccessId=web-data@kaggle-161607.iam.gserviceaccount.com&Expires=1587125092&Signature=UmAY5gLzNMHqLJGVso3wKR3l0qnvTfCt9g6QQ0C0ss2WovMiy%2BopSaDOXOYGGwi1p4Jb9ROlwON2jSXnPIjpR%2BPtRQK0sTODXy%2FUV1FbGxpa%2BwtwehoqHtbmrXzSI1Zo3OmNrW3TBEFmWHyOEp9Mlkk5cMCewlJ0yutdpG5uNR3I%2BS3v2NZNGfx8cfgg7hrQc9%2FQLk67vHNe5BsgwM01ltus3%2B7IjXpvMKgAamBCdaeIbJqCxr5lL57Jtpi1ahpdlx595lRf7k8nEQaXTKP7YPvVGRWelXMo3dpgvjRKxmaL1mKf5n%2Bj672OGsP8Vy33DTbWERbUBNe6SRNxoVxtBg%3D%3D&response-content-disposition=attachment%3B+filename%3Dyelp_academic_dataset_business.json.zip\n",
      "Resolving storage.googleapis.com (storage.googleapis.com)... 172.217.193.128, 2607:f8b0:400c:c08::80\n",
      "Connecting to storage.googleapis.com (storage.googleapis.com)|172.217.193.128|:443... connected.\n",
      "HTTP request sent, awaiting response... 200 OK\n",
      "Length: 28568278 (27M) [application/zip]\n",
      "Saving to: ‘business.zip’\n",
      "\n",
      "business.zip        100%[===================>]  27.24M  60.1MB/s    in 0.5s    \n",
      "\n",
      "2020-04-14 12:04:53 (60.1 MB/s) - ‘business.zip’ saved [28568278/28568278]\n",
      "\n",
      "Archive:  business.zip\n",
      "  inflating: yelp_academic_dataset_business.json  \n",
      "--2020-04-14 12:04:58--  https://www.kaggle.com/yelp-dataset/yelp-dataset/download/py6LEr6zxQNWjebkCW8B%2Fversions%2FlVP0fduiJJo8YKt2vKKr%2Ffiles%2Fyelp_academic_dataset_review.json?datasetVersionNumber=2\n",
      "Resolving www.kaggle.com (www.kaggle.com)... 35.244.233.98\n",
      "Connecting to www.kaggle.com (www.kaggle.com)|35.244.233.98|:443... connected.\n",
      "HTTP request sent, awaiting response... 302 Found\n",
      "Location: https://storage.googleapis.com/kaggle-data-sets/10100/1035793/compressed/yelp_academic_dataset_review.json.zip?GoogleAccessId=web-data@kaggle-161607.iam.gserviceaccount.com&Expires=1587125098&Signature=rdIFQVbMexsSsfNEDkZUbYJI0zlWS%2BKzu6PnXauin%2Fb1kT%2BtW9RnJBQ6biVJBr1T2MZt2XFDRubXPSar4dXswSsl9QFBVw38xBlctLfrWsrf2TTCdGAQp6%2FQY8E%2BjZErfiat%2FZidJddgnYNfC3IqysOtzWxQBnV1DjJ%2FnznF9mLFdcTao9wsUhl42V2yju2nyXcj0OI%2FMGqeiJ4VBu3YyAVnHppehiiBbKJZdO1VtYKgTCXJZsZ0FY401%2BhpvXYGb8y9FUPv8iSBAExWzUtkIlWjzw1gZYl0dBZRj9i0BICL%2B9ElswIJU%2FxVrpsYuIBIWV9CWpB3lT4NaSXl4F8WHQ%3D%3D&response-content-disposition=attachment%3B+filename%3Dyelp_academic_dataset_review.json.zip [following]\n",
      "--2020-04-14 12:04:58--  https://storage.googleapis.com/kaggle-data-sets/10100/1035793/compressed/yelp_academic_dataset_review.json.zip?GoogleAccessId=web-data@kaggle-161607.iam.gserviceaccount.com&Expires=1587125098&Signature=rdIFQVbMexsSsfNEDkZUbYJI0zlWS%2BKzu6PnXauin%2Fb1kT%2BtW9RnJBQ6biVJBr1T2MZt2XFDRubXPSar4dXswSsl9QFBVw38xBlctLfrWsrf2TTCdGAQp6%2FQY8E%2BjZErfiat%2FZidJddgnYNfC3IqysOtzWxQBnV1DjJ%2FnznF9mLFdcTao9wsUhl42V2yju2nyXcj0OI%2FMGqeiJ4VBu3YyAVnHppehiiBbKJZdO1VtYKgTCXJZsZ0FY401%2BhpvXYGb8y9FUPv8iSBAExWzUtkIlWjzw1gZYl0dBZRj9i0BICL%2B9ElswIJU%2FxVrpsYuIBIWV9CWpB3lT4NaSXl4F8WHQ%3D%3D&response-content-disposition=attachment%3B+filename%3Dyelp_academic_dataset_review.json.zip\n",
      "Resolving storage.googleapis.com (storage.googleapis.com)... 172.217.204.128, 2607:f8b0:400c:c13::80\n",
      "Connecting to storage.googleapis.com (storage.googleapis.com)|172.217.204.128|:443... connected.\n",
      "HTTP request sent, awaiting response... 200 OK\n",
      "Length: 2636909381 (2.5G) [application/zip]\n",
      "Saving to: ‘review.zip’\n",
      "\n",
      "review.zip          100%[===================>]   2.46G  46.4MB/s    in 22s     \n",
      "\n",
      "2020-04-14 12:05:21 (114 MB/s) - ‘review.zip’ saved [2636909381/2636909381]\n",
      "\n",
      "Archive:  review.zip\n",
      "  inflating: yelp_academic_dataset_review.json  \n"
     ]
    }
   ],
   "source": [
    "# ~145MB\n",
    "!wget -x --load-cookies cookies.txt -O business.zip 'https://www.kaggle.com/yelp-dataset/yelp-dataset/download/py6LEr6zxQNWjebkCW8B%2Fversions%2FlVP0fduiJJo8YKt2vKKr%2Ffiles%2Fyelp_academic_dataset_business.json?datasetVersionNumber=2'\n",
    "!unzip business.zip\n",
    "!wget -x --load-cookies cookies.txt -O review.zip 'https://www.kaggle.com/yelp-dataset/yelp-dataset/download/py6LEr6zxQNWjebkCW8B%2Fversions%2FlVP0fduiJJo8YKt2vKKr%2Ffiles%2Fyelp_academic_dataset_review.json?datasetVersionNumber=2'\n",
    "!unzip review.zip"
   ]
  },
  {
   "cell_type": "code",
   "execution_count": null,
   "metadata": {
    "colab": {},
    "colab_type": "code",
    "id": "gDRmi__6p3HY"
   },
   "outputs": [],
   "source": [
    "import pandas as pd\n",
    "from six.moves import cPickle\n",
    "import numpy as np\n",
    "import json\n",
    "from scipy.sparse import csr_matrix\n",
    "from sklearn.decomposition import TruncatedSVD\n",
    "from scipy.sparse.linalg import svds\n",
    "import matplotlib.pyplot as plt\n",
    "from sklearn.metrics import mean_squared_error"
   ]
  },
  {
   "cell_type": "code",
   "execution_count": 6,
   "metadata": {
    "colab": {
     "base_uri": "https://localhost:8080/",
     "height": 581
    },
    "colab_type": "code",
    "executionInfo": {
     "elapsed": 6011,
     "status": "ok",
     "timestamp": 1586866055565,
     "user": {
      "displayName": "Sparsh Agarwal",
      "photoUrl": "",
      "userId": "13037694610922482904"
     },
     "user_tz": -330
    },
    "id": "XXyxDACLp3FE",
    "outputId": "7e4a3657-7eb0-4946-fe14-ab87a6390183"
   },
   "outputs": [
    {
     "data": {
      "text/html": [
       "<div>\n",
       "<style scoped>\n",
       "    .dataframe tbody tr th:only-of-type {\n",
       "        vertical-align: middle;\n",
       "    }\n",
       "\n",
       "    .dataframe tbody tr th {\n",
       "        vertical-align: top;\n",
       "    }\n",
       "\n",
       "    .dataframe thead th {\n",
       "        text-align: right;\n",
       "    }\n",
       "</style>\n",
       "<table border=\"1\" class=\"dataframe\">\n",
       "  <thead>\n",
       "    <tr style=\"text-align: right;\">\n",
       "      <th></th>\n",
       "      <th>business_id</th>\n",
       "      <th>name</th>\n",
       "      <th>address</th>\n",
       "      <th>city</th>\n",
       "      <th>state</th>\n",
       "      <th>postal_code</th>\n",
       "      <th>latitude</th>\n",
       "      <th>longitude</th>\n",
       "      <th>stars</th>\n",
       "      <th>review_count</th>\n",
       "      <th>is_open</th>\n",
       "      <th>attributes</th>\n",
       "      <th>categories</th>\n",
       "      <th>hours</th>\n",
       "    </tr>\n",
       "  </thead>\n",
       "  <tbody>\n",
       "    <tr>\n",
       "      <th>0</th>\n",
       "      <td>f9NumwFMBDn751xgFiRbNA</td>\n",
       "      <td>The Range At Lake Norman</td>\n",
       "      <td>10913 Bailey Rd</td>\n",
       "      <td>Cornelius</td>\n",
       "      <td>NC</td>\n",
       "      <td>28031</td>\n",
       "      <td>35.462724</td>\n",
       "      <td>-80.852612</td>\n",
       "      <td>3.5</td>\n",
       "      <td>36</td>\n",
       "      <td>1</td>\n",
       "      <td>{'BusinessAcceptsCreditCards': 'True', 'BikePa...</td>\n",
       "      <td>Active Life, Gun/Rifle Ranges, Guns &amp; Ammo, Sh...</td>\n",
       "      <td>{'Monday': '10:0-18:0', 'Tuesday': '11:0-20:0'...</td>\n",
       "    </tr>\n",
       "    <tr>\n",
       "      <th>1</th>\n",
       "      <td>Yzvjg0SayhoZgCljUJRF9Q</td>\n",
       "      <td>Carlos Santo, NMD</td>\n",
       "      <td>8880 E Via Linda, Ste 107</td>\n",
       "      <td>Scottsdale</td>\n",
       "      <td>AZ</td>\n",
       "      <td>85258</td>\n",
       "      <td>33.569404</td>\n",
       "      <td>-111.890264</td>\n",
       "      <td>5.0</td>\n",
       "      <td>4</td>\n",
       "      <td>1</td>\n",
       "      <td>{'GoodForKids': 'True', 'ByAppointmentOnly': '...</td>\n",
       "      <td>Health &amp; Medical, Fitness &amp; Instruction, Yoga,...</td>\n",
       "      <td>None</td>\n",
       "    </tr>\n",
       "    <tr>\n",
       "      <th>2</th>\n",
       "      <td>XNoUzKckATkOD1hP6vghZg</td>\n",
       "      <td>Felinus</td>\n",
       "      <td>3554 Rue Notre-Dame O</td>\n",
       "      <td>Montreal</td>\n",
       "      <td>QC</td>\n",
       "      <td>H4C 1P4</td>\n",
       "      <td>45.479984</td>\n",
       "      <td>-73.580070</td>\n",
       "      <td>5.0</td>\n",
       "      <td>5</td>\n",
       "      <td>1</td>\n",
       "      <td>None</td>\n",
       "      <td>Pets, Pet Services, Pet Groomers</td>\n",
       "      <td>None</td>\n",
       "    </tr>\n",
       "    <tr>\n",
       "      <th>3</th>\n",
       "      <td>6OAZjbxqM5ol29BuHsil3w</td>\n",
       "      <td>Nevada House of Hose</td>\n",
       "      <td>1015 Sharp Cir</td>\n",
       "      <td>North Las Vegas</td>\n",
       "      <td>NV</td>\n",
       "      <td>89030</td>\n",
       "      <td>36.219728</td>\n",
       "      <td>-115.127725</td>\n",
       "      <td>2.5</td>\n",
       "      <td>3</td>\n",
       "      <td>0</td>\n",
       "      <td>{'BusinessAcceptsCreditCards': 'True', 'ByAppo...</td>\n",
       "      <td>Hardware Stores, Home Services, Building Suppl...</td>\n",
       "      <td>{'Monday': '7:0-16:0', 'Tuesday': '7:0-16:0', ...</td>\n",
       "    </tr>\n",
       "    <tr>\n",
       "      <th>4</th>\n",
       "      <td>51M2Kk903DFYI6gnB5I6SQ</td>\n",
       "      <td>USE MY GUY SERVICES LLC</td>\n",
       "      <td>4827 E Downing Cir</td>\n",
       "      <td>Mesa</td>\n",
       "      <td>AZ</td>\n",
       "      <td>85205</td>\n",
       "      <td>33.428065</td>\n",
       "      <td>-111.726648</td>\n",
       "      <td>4.5</td>\n",
       "      <td>26</td>\n",
       "      <td>1</td>\n",
       "      <td>{'BusinessAcceptsCreditCards': 'True', 'ByAppo...</td>\n",
       "      <td>Home Services, Plumbing, Electricians, Handyma...</td>\n",
       "      <td>{'Monday': '0:0-0:0', 'Tuesday': '9:0-16:0', '...</td>\n",
       "    </tr>\n",
       "  </tbody>\n",
       "</table>\n",
       "</div>"
      ],
      "text/plain": [
       "              business_id  ...                                              hours\n",
       "0  f9NumwFMBDn751xgFiRbNA  ...  {'Monday': '10:0-18:0', 'Tuesday': '11:0-20:0'...\n",
       "1  Yzvjg0SayhoZgCljUJRF9Q  ...                                               None\n",
       "2  XNoUzKckATkOD1hP6vghZg  ...                                               None\n",
       "3  6OAZjbxqM5ol29BuHsil3w  ...  {'Monday': '7:0-16:0', 'Tuesday': '7:0-16:0', ...\n",
       "4  51M2Kk903DFYI6gnB5I6SQ  ...  {'Monday': '0:0-0:0', 'Tuesday': '9:0-16:0', '...\n",
       "\n",
       "[5 rows x 14 columns]"
      ]
     },
     "execution_count": 6,
     "metadata": {
      "tags": []
     },
     "output_type": "execute_result"
    }
   ],
   "source": [
    "business = []\n",
    "with open('/content/yelp_academic_dataset_business.json') as fl:\n",
    "    for line in fl:\n",
    "        business.append(json.loads(line))\n",
    "business = pd.DataFrame(business)\n",
    "business.head()"
   ]
  },
  {
   "cell_type": "code",
   "execution_count": 7,
   "metadata": {
    "colab": {
     "base_uri": "https://localhost:8080/",
     "height": 289
    },
    "colab_type": "code",
    "executionInfo": {
     "elapsed": 93271,
     "status": "ok",
     "timestamp": 1586866150182,
     "user": {
      "displayName": "Sparsh Agarwal",
      "photoUrl": "",
      "userId": "13037694610922482904"
     },
     "user_tz": -330
    },
    "id": "lW9VhDyIfIVp",
    "outputId": "34d67699-4b54-4094-9aaf-9a761389e10d"
   },
   "outputs": [
    {
     "data": {
      "text/html": [
       "<div>\n",
       "<style scoped>\n",
       "    .dataframe tbody tr th:only-of-type {\n",
       "        vertical-align: middle;\n",
       "    }\n",
       "\n",
       "    .dataframe tbody tr th {\n",
       "        vertical-align: top;\n",
       "    }\n",
       "\n",
       "    .dataframe thead th {\n",
       "        text-align: right;\n",
       "    }\n",
       "</style>\n",
       "<table border=\"1\" class=\"dataframe\">\n",
       "  <thead>\n",
       "    <tr style=\"text-align: right;\">\n",
       "      <th></th>\n",
       "      <th>review_id</th>\n",
       "      <th>user_id</th>\n",
       "      <th>business_id</th>\n",
       "      <th>stars</th>\n",
       "      <th>useful</th>\n",
       "      <th>funny</th>\n",
       "      <th>cool</th>\n",
       "      <th>text</th>\n",
       "      <th>date</th>\n",
       "    </tr>\n",
       "  </thead>\n",
       "  <tbody>\n",
       "    <tr>\n",
       "      <th>0</th>\n",
       "      <td>xQY8N_XvtGbearJ5X4QryQ</td>\n",
       "      <td>OwjRMXRC0KyPrIlcjaXeFQ</td>\n",
       "      <td>-MhfebM0QIsKt87iDN-FNw</td>\n",
       "      <td>2.0</td>\n",
       "      <td>5</td>\n",
       "      <td>0</td>\n",
       "      <td>0</td>\n",
       "      <td>As someone who has worked with many museums, I...</td>\n",
       "      <td>2015-04-15 05:21:16</td>\n",
       "    </tr>\n",
       "    <tr>\n",
       "      <th>1</th>\n",
       "      <td>UmFMZ8PyXZTY2QcwzsfQYA</td>\n",
       "      <td>nIJD_7ZXHq-FX8byPMOkMQ</td>\n",
       "      <td>lbrU8StCq3yDfr-QMnGrmQ</td>\n",
       "      <td>1.0</td>\n",
       "      <td>1</td>\n",
       "      <td>1</td>\n",
       "      <td>0</td>\n",
       "      <td>I am actually horrified this place is still in...</td>\n",
       "      <td>2013-12-07 03:16:52</td>\n",
       "    </tr>\n",
       "    <tr>\n",
       "      <th>2</th>\n",
       "      <td>LG2ZaYiOgpr2DK_90pYjNw</td>\n",
       "      <td>V34qejxNsCbcgD8C0HVk-Q</td>\n",
       "      <td>HQl28KMwrEKHqhFrrDqVNQ</td>\n",
       "      <td>5.0</td>\n",
       "      <td>1</td>\n",
       "      <td>0</td>\n",
       "      <td>0</td>\n",
       "      <td>I love Deagan's. I do. I really do. The atmosp...</td>\n",
       "      <td>2015-12-05 03:18:11</td>\n",
       "    </tr>\n",
       "    <tr>\n",
       "      <th>3</th>\n",
       "      <td>i6g_oA9Yf9Y31qt0wibXpw</td>\n",
       "      <td>ofKDkJKXSKZXu5xJNGiiBQ</td>\n",
       "      <td>5JxlZaqCnk1MnbgRirs40Q</td>\n",
       "      <td>1.0</td>\n",
       "      <td>0</td>\n",
       "      <td>0</td>\n",
       "      <td>0</td>\n",
       "      <td>Dismal, lukewarm, defrosted-tasting \"TexMex\" g...</td>\n",
       "      <td>2011-05-27 05:30:52</td>\n",
       "    </tr>\n",
       "    <tr>\n",
       "      <th>4</th>\n",
       "      <td>6TdNDKywdbjoTkizeMce8A</td>\n",
       "      <td>UgMW8bLE0QMJDCkQ1Ax5Mg</td>\n",
       "      <td>IS4cv902ykd8wj1TR0N3-A</td>\n",
       "      <td>4.0</td>\n",
       "      <td>0</td>\n",
       "      <td>0</td>\n",
       "      <td>0</td>\n",
       "      <td>Oh happy day, finally have a Canes near my cas...</td>\n",
       "      <td>2017-01-14 21:56:57</td>\n",
       "    </tr>\n",
       "  </tbody>\n",
       "</table>\n",
       "</div>"
      ],
      "text/plain": [
       "                review_id  ...                 date\n",
       "0  xQY8N_XvtGbearJ5X4QryQ  ...  2015-04-15 05:21:16\n",
       "1  UmFMZ8PyXZTY2QcwzsfQYA  ...  2013-12-07 03:16:52\n",
       "2  LG2ZaYiOgpr2DK_90pYjNw  ...  2015-12-05 03:18:11\n",
       "3  i6g_oA9Yf9Y31qt0wibXpw  ...  2011-05-27 05:30:52\n",
       "4  6TdNDKywdbjoTkizeMce8A  ...  2017-01-14 21:56:57\n",
       "\n",
       "[5 rows x 9 columns]"
      ]
     },
     "execution_count": 7,
     "metadata": {
      "tags": []
     },
     "output_type": "execute_result"
    }
   ],
   "source": [
    "review = []\n",
    "with open('/content/yelp_academic_dataset_review.json') as fl:\n",
    "    for line in fl:\n",
    "        review.append(json.loads(line))\n",
    "review = pd.DataFrame(review)\n",
    "review.head()"
   ]
  },
  {
   "cell_type": "code",
   "execution_count": 10,
   "metadata": {
    "colab": {
     "base_uri": "https://localhost:8080/",
     "height": 204
    },
    "colab_type": "code",
    "executionInfo": {
     "elapsed": 21047,
     "status": "ok",
     "timestamp": 1586866389746,
     "user": {
      "displayName": "Sparsh Agarwal",
      "photoUrl": "",
      "userId": "13037694610922482904"
     },
     "user_tz": -330
    },
    "id": "Z-pYdxDlf5u7",
    "outputId": "2ba91b49-b662-4ca7-823d-fdffa179353e"
   },
   "outputs": [
    {
     "data": {
      "text/html": [
       "<div>\n",
       "<style scoped>\n",
       "    .dataframe tbody tr th:only-of-type {\n",
       "        vertical-align: middle;\n",
       "    }\n",
       "\n",
       "    .dataframe tbody tr th {\n",
       "        vertical-align: top;\n",
       "    }\n",
       "\n",
       "    .dataframe thead th {\n",
       "        text-align: right;\n",
       "    }\n",
       "</style>\n",
       "<table border=\"1\" class=\"dataframe\">\n",
       "  <thead>\n",
       "    <tr style=\"text-align: right;\">\n",
       "      <th></th>\n",
       "      <th>business_id</th>\n",
       "      <th>user_id</th>\n",
       "      <th>review_id</th>\n",
       "      <th>stars</th>\n",
       "      <th>city</th>\n",
       "      <th>categories</th>\n",
       "    </tr>\n",
       "  </thead>\n",
       "  <tbody>\n",
       "    <tr>\n",
       "      <th>0</th>\n",
       "      <td>-MhfebM0QIsKt87iDN-FNw</td>\n",
       "      <td>OwjRMXRC0KyPrIlcjaXeFQ</td>\n",
       "      <td>xQY8N_XvtGbearJ5X4QryQ</td>\n",
       "      <td>2.0</td>\n",
       "      <td>Las Vegas</td>\n",
       "      <td>Shopping, Arts &amp; Entertainment, Art Galleries,...</td>\n",
       "    </tr>\n",
       "    <tr>\n",
       "      <th>1</th>\n",
       "      <td>-MhfebM0QIsKt87iDN-FNw</td>\n",
       "      <td>owbC7FP8SNAlwv6f9S5Stw</td>\n",
       "      <td>t7xOZF5UKXjSpVcXLOSAgw</td>\n",
       "      <td>2.0</td>\n",
       "      <td>Las Vegas</td>\n",
       "      <td>Shopping, Arts &amp; Entertainment, Art Galleries,...</td>\n",
       "    </tr>\n",
       "    <tr>\n",
       "      <th>2</th>\n",
       "      <td>-MhfebM0QIsKt87iDN-FNw</td>\n",
       "      <td>v9vGnjphb0Hta0lvtf5haA</td>\n",
       "      <td>MimB5Xh85rG7phUMPrShag</td>\n",
       "      <td>3.0</td>\n",
       "      <td>Las Vegas</td>\n",
       "      <td>Shopping, Arts &amp; Entertainment, Art Galleries,...</td>\n",
       "    </tr>\n",
       "    <tr>\n",
       "      <th>3</th>\n",
       "      <td>-MhfebM0QIsKt87iDN-FNw</td>\n",
       "      <td>AXuHgGQoNPkiSXTxHlQc0A</td>\n",
       "      <td>sLkT7J06L4TK4PiRUFax2g</td>\n",
       "      <td>2.0</td>\n",
       "      <td>Las Vegas</td>\n",
       "      <td>Shopping, Arts &amp; Entertainment, Art Galleries,...</td>\n",
       "    </tr>\n",
       "    <tr>\n",
       "      <th>4</th>\n",
       "      <td>-MhfebM0QIsKt87iDN-FNw</td>\n",
       "      <td>LkWNo83Lg92C5V4JEyxOZA</td>\n",
       "      <td>cnV5xtm6WuyaLfot9uWbDg</td>\n",
       "      <td>3.0</td>\n",
       "      <td>Las Vegas</td>\n",
       "      <td>Shopping, Arts &amp; Entertainment, Art Galleries,...</td>\n",
       "    </tr>\n",
       "  </tbody>\n",
       "</table>\n",
       "</div>"
      ],
      "text/plain": [
       "              business_id  ...                                         categories\n",
       "0  -MhfebM0QIsKt87iDN-FNw  ...  Shopping, Arts & Entertainment, Art Galleries,...\n",
       "1  -MhfebM0QIsKt87iDN-FNw  ...  Shopping, Arts & Entertainment, Art Galleries,...\n",
       "2  -MhfebM0QIsKt87iDN-FNw  ...  Shopping, Arts & Entertainment, Art Galleries,...\n",
       "3  -MhfebM0QIsKt87iDN-FNw  ...  Shopping, Arts & Entertainment, Art Galleries,...\n",
       "4  -MhfebM0QIsKt87iDN-FNw  ...  Shopping, Arts & Entertainment, Art Galleries,...\n",
       "\n",
       "[5 rows x 6 columns]"
      ]
     },
     "execution_count": 10,
     "metadata": {
      "tags": []
     },
     "output_type": "execute_result"
    }
   ],
   "source": [
    "bcols = ['business_id', 'city', 'categories']\n",
    "ucols = ['business_id', 'user_id', 'review_id', 'stars']\n",
    "df = review[ucols].merge(business[bcols], how = 'outer', on= 'business_id')\n",
    "df = df.dropna()\n",
    "df.head()"
   ]
  },
  {
   "cell_type": "code",
   "execution_count": 11,
   "metadata": {
    "colab": {
     "base_uri": "https://localhost:8080/",
     "height": 34
    },
    "colab_type": "code",
    "executionInfo": {
     "elapsed": 11324,
     "status": "ok",
     "timestamp": 1586866499939,
     "user": {
      "displayName": "Sparsh Agarwal",
      "photoUrl": "",
      "userId": "13037694610922482904"
     },
     "user_tz": -330
    },
    "id": "jVQ6xvq-mTQ4",
    "outputId": "05a0b642-a2a8-4bbc-d1cd-4a11f29c2132"
   },
   "outputs": [
    {
     "data": {
      "text/plain": [
       "(371548, 6)"
      ]
     },
     "execution_count": 11,
     "metadata": {
      "tags": []
     },
     "output_type": "execute_result"
    }
   ],
   "source": [
    "#selecting subset: Phoenix city restaurants\n",
    "dfx = df[(df.city == 'Phoenix') & (df.categories.str.contains('.Restaurant.', case= False))]\n",
    "dfx.shape"
   ]
  },
  {
   "cell_type": "code",
   "execution_count": null,
   "metadata": {
    "colab": {},
    "colab_type": "code",
    "id": "zFuUtcw-nQS_"
   },
   "outputs": [],
   "source": [
    "def get_clean_df(df, min_user_review = 30, min_res_review = 0, cols = ['user_id', 'business_id', 'stars']):\n",
    "    '''Cleans the df and gets rid of the unwanted cols and also allows to filter the user and business based on the min number of reviews received'''\n",
    "    df_new = df[cols]\n",
    "    df_new.dropna(axis = 0, how = 'any', inplace = True)\n",
    "    df_new[cols[1]+'_freq'] = df_new.groupby(cols[1])[cols[1]].transform('count')\n",
    "    df_clean = df_new[df_new[cols[1]+'_freq']>=min_res_review]\n",
    "    df_clean[cols[0]+'_freq'] = df_clean.groupby(cols[0])[cols[0]].transform('count')\n",
    "    df_clean_2 = df_clean[df_clean[cols[0]+'_freq']>=min_user_review]\n",
    "    return df_clean_2"
   ]
  },
  {
   "cell_type": "code",
   "execution_count": null,
   "metadata": {
    "colab": {},
    "colab_type": "code",
    "id": "3ulgL9-hpcUf"
   },
   "outputs": [],
   "source": [
    "from pandas.api.types import CategoricalDtype"
   ]
  },
  {
   "cell_type": "code",
   "execution_count": null,
   "metadata": {
    "colab": {},
    "colab_type": "code",
    "id": "uq_0oIOLoYA9"
   },
   "outputs": [],
   "source": [
    "def get_sparse_matrix(df):\n",
    "    '''Converts the df into a sparse ratings matrix'''\n",
    "    unique_users = list(df['user_id'].unique())\n",
    "    unique_bus = list(df['business_id'].unique())\n",
    "    data = df['stars'].tolist()\n",
    "    row = df['user_id'].astype(CategoricalDtype(categories=unique_users)).cat.codes\n",
    "    col = df['business_id'].astype(CategoricalDtype(categories=unique_bus)).cat.codes\n",
    "    sparse_matrix = csr_matrix((data, (row, col)), shape=(len(unique_users), len(unique_bus)))\n",
    "    return sparse_matrix"
   ]
  },
  {
   "cell_type": "code",
   "execution_count": null,
   "metadata": {
    "colab": {},
    "colab_type": "code",
    "id": "XqDQwLcznjlC"
   },
   "outputs": [],
   "source": [
    "def get_sparsity(sparse_matrix):\n",
    "    return 1 - sparse_matrix.nnz/(sparse_matrix.shape[0]*sparse_matrix.shape[1])"
   ]
  },
  {
   "cell_type": "code",
   "execution_count": 31,
   "metadata": {
    "colab": {
     "base_uri": "https://localhost:8080/",
     "height": 238
    },
    "colab_type": "code",
    "executionInfo": {
     "elapsed": 2698,
     "status": "ok",
     "timestamp": 1586867464934,
     "user": {
      "displayName": "Sparsh Agarwal",
      "photoUrl": "",
      "userId": "13037694610922482904"
     },
     "user_tz": -330
    },
    "id": "Kvjyrbg9nm88",
    "outputId": "a81532d9-5fe6-425e-b906-6379b819437b"
   },
   "outputs": [
    {
     "name": "stderr",
     "output_type": "stream",
     "text": [
      "/usr/local/lib/python3.6/dist-packages/ipykernel_launcher.py:4: SettingWithCopyWarning: \n",
      "A value is trying to be set on a copy of a slice from a DataFrame\n",
      "\n",
      "See the caveats in the documentation: https://pandas.pydata.org/pandas-docs/stable/user_guide/indexing.html#returning-a-view-versus-a-copy\n",
      "  after removing the cwd from sys.path.\n",
      "/usr/local/lib/python3.6/dist-packages/ipykernel_launcher.py:5: SettingWithCopyWarning: \n",
      "A value is trying to be set on a copy of a slice from a DataFrame.\n",
      "Try using .loc[row_indexer,col_indexer] = value instead\n",
      "\n",
      "See the caveats in the documentation: https://pandas.pydata.org/pandas-docs/stable/user_guide/indexing.html#returning-a-view-versus-a-copy\n",
      "  \"\"\"\n"
     ]
    },
    {
     "name": "stdout",
     "output_type": "stream",
     "text": [
      "0.9926447285067211\n",
      "(5073, 2761)\n"
     ]
    }
   ],
   "source": [
    "data = get_sparse_matrix(get_clean_df(dfx, min_user_review=10))\n",
    "print(get_sparsity(data))\n",
    "print(data.shape)"
   ]
  },
  {
   "cell_type": "code",
   "execution_count": null,
   "metadata": {
    "colab": {},
    "colab_type": "code",
    "id": "xpOH5U9Rns5U"
   },
   "outputs": [],
   "source": [
    "def train_val_test_split(sparse_matrix, num_review_val = 2, num_review_test = 2):\n",
    "    '''Split the rating matrix into train ,val, and test marix that are disjoint matrices'''\n",
    "    nzrows, nzcols =  sparse_matrix.nonzero()\n",
    "    sparse_matrix_test = csr_matrix(sparse_matrix.shape)\n",
    "    sparse_matrix_val = csr_matrix(sparse_matrix.shape)\n",
    "    sparse_matrix_train = sparse_matrix.copy()\n",
    "    n_users = sparse_matrix.shape[0]\n",
    "    for u in range(n_users):\n",
    "        idx = nzcols[np.where(nzrows == u)]\n",
    "        np.random.shuffle(idx)\n",
    "        test_idx = idx[-num_review_test:]\n",
    "        val_idx = idx[-(num_review_val+num_review_test):-num_review_test]\n",
    "        train_idx = idx[:-(num_review_val+num_review_test)]\n",
    "        sparse_matrix_test[u,test_idx] = sparse_matrix[u,test_idx]\n",
    "        sparse_matrix_val[u,val_idx] = sparse_matrix[u,val_idx]\n",
    "        sparse_matrix_train[u,test_idx] = 0\n",
    "        sparse_matrix_train[u,val_idx] = 0\n",
    "    data = np.array(sparse_matrix_train[sparse_matrix_train.nonzero()])[0]\n",
    "    row = sparse_matrix_train.nonzero()[0]\n",
    "    col = sparse_matrix_train.nonzero()[1]\n",
    "    size = sparse_matrix_train.shape\n",
    "    sparse_matrix_train = csr_matrix((data,(row,col)),shape = size)\n",
    "    mult = sparse_matrix_train.multiply(sparse_matrix_val)\n",
    "    mmult = mult.multiply(sparse_matrix_test)\n",
    "    assert(mmult.nnz == 0)\n",
    "    return sparse_matrix_train, sparse_matrix_val, sparse_matrix_test"
   ]
  },
  {
   "cell_type": "code",
   "execution_count": 32,
   "metadata": {
    "colab": {
     "base_uri": "https://localhost:8080/",
     "height": 71
    },
    "colab_type": "code",
    "executionInfo": {
     "elapsed": 11172,
     "status": "ok",
     "timestamp": 1586867494616,
     "user": {
      "displayName": "Sparsh Agarwal",
      "photoUrl": "",
      "userId": "13037694610922482904"
     },
     "user_tz": -330
    },
    "id": "4F-klNJFqoQW",
    "outputId": "54ba1ff9-4825-405c-b8c9-d6ec0b8264f1"
   },
   "outputs": [
    {
     "name": "stderr",
     "output_type": "stream",
     "text": [
      "/usr/local/lib/python3.6/dist-packages/scipy/sparse/_index.py:118: SparseEfficiencyWarning: Changing the sparsity structure of a csr_matrix is expensive. lil_matrix is more efficient.\n",
      "  self._set_arrayXarray_sparse(i, j, x)\n"
     ]
    }
   ],
   "source": [
    "train, val, test = train_val_test_split(data)"
   ]
  },
  {
   "cell_type": "code",
   "execution_count": 35,
   "metadata": {
    "colab": {
     "base_uri": "https://localhost:8080/",
     "height": 34
    },
    "colab_type": "code",
    "executionInfo": {
     "elapsed": 2574,
     "status": "ok",
     "timestamp": 1586874716124,
     "user": {
      "displayName": "Sparsh Agarwal",
      "photoUrl": "",
      "userId": "13037694610922482904"
     },
     "user_tz": -330
    },
    "id": "TisuTFnMrDLr",
    "outputId": "a412b7f3-edcd-4890-bad0-a5ca2e6a7370"
   },
   "outputs": [
    {
     "name": "stdout",
     "output_type": "stream",
     "text": [
      "82735 10141 10146\n"
     ]
    }
   ],
   "source": [
    "print(train.nnz, val.nnz, test.nnz)"
   ]
  },
  {
   "cell_type": "markdown",
   "metadata": {
    "colab_type": "text",
    "id": "UhI9Nf08rgBn"
   },
   "source": [
    "## Model Building"
   ]
  },
  {
   "cell_type": "code",
   "execution_count": null,
   "metadata": {
    "colab": {},
    "colab_type": "code",
    "id": "0suKuN9tJFVO"
   },
   "outputs": [],
   "source": [
    "def approx_err(k, A, U, S, Vt):\n",
    "    rec_A = np.dot(U[:, :k], np.dot(S[:k,:k], Vt[:k, :]))\n",
    "    idx = np.where(A>0);\n",
    "    diff = A[idx] - rec_A[idx]\n",
    "    return np.linalg.norm(diff)**2/diff.shape[1]"
   ]
  },
  {
   "cell_type": "code",
   "execution_count": null,
   "metadata": {
    "colab": {},
    "colab_type": "code",
    "id": "JlRjEfVarW_9"
   },
   "outputs": [],
   "source": [
    "# # svd\n",
    "# U, S, Vt = np.linalg.svd(train.todense())\n",
    "# k = np.linspace(2,40,20, dtype = int)\n",
    "# errors_svd_val = {}\n",
    "# errors_svd_train = {}\n",
    "# for i in k:\n",
    "#     errors_svd_val[i] = approx_err(i, val.todense(), U, S, Vt)\n",
    "#     errors_svd_train[i] = approx_err(i, train.todense(), U, S, Vt)\n",
    "\n",
    "# plt.plot(errors_svd_val.keys(),errors_svd_val.values(), label = 'Validation')\n",
    "# plt.plot(errors_svd_train.keys(),errors_svd_train.values(), label = 'Train')\n",
    "# plt.xlabel('k')\n",
    "# plt.ylabel('MSE')\n",
    "# plt.legend()"
   ]
  },
  {
   "cell_type": "markdown",
   "metadata": {
    "colab_type": "text",
    "id": "VHNDaUKdJ19h"
   },
   "source": [
    "ALS"
   ]
  },
  {
   "cell_type": "code",
   "execution_count": null,
   "metadata": {
    "colab": {},
    "colab_type": "code",
    "id": "j_F1sC0vKGfT"
   },
   "outputs": [],
   "source": [
    "def get_mse(pred, actual):\n",
    "    # Ignore zero terms.\n",
    "    pred = pred[actual.nonzero()].flatten()\n",
    "    actual = actual[actual.nonzero()].flatten()\n",
    "    return mean_squared_error(pred, actual)"
   ]
  },
  {
   "cell_type": "code",
   "execution_count": null,
   "metadata": {
    "colab": {},
    "colab_type": "code",
    "id": "KADY6DLdHugw"
   },
   "outputs": [],
   "source": [
    "def als(ratings_matrix, k=40, user_reg=0, res_reg=0, iters=10):\n",
    "    '''Performs ALS for a given ratings_matrix and returns predictions using the latent vector representation User (U x K) and Restaurant (R x K)'''\n",
    "    ratings_matrix = ratings_matrix.T\n",
    "    user_vec = np.random.rand(ratings_matrix.shape[1],k).T\n",
    "    res_vec = np.random.rand(ratings_matrix.shape[0],k).T\n",
    "    for i in range(iters):\n",
    "        for u in range(ratings_matrix.shape[1]):\n",
    "            user_vec[:,u] = np.linalg.solve(np.dot(res_vec,res_vec.T) + user_reg * np.eye(res_vec.shape[0]), np.dot(res_vec,ratings_matrix[:,u]))\n",
    "        for r in range(ratings_matrix.shape[0]):\n",
    "            res_vec[:,r] = np.linalg.solve(np.dot(user_vec,user_vec.T) + res_reg * np.eye(user_vec.shape[0]), np.dot(user_vec,ratings_matrix[r,:].T))\n",
    "        prediction = np.dot(res_vec.T, user_vec)\n",
    "#         error = np.mean((ratings_matrix - prediction)**2)\n",
    "    return np.dot(res_vec.T, user_vec).T"
   ]
  },
  {
   "cell_type": "code",
   "execution_count": 44,
   "metadata": {
    "colab": {
     "base_uri": "https://localhost:8080/",
     "height": 367
    },
    "colab_type": "code",
    "executionInfo": {
     "elapsed": 65346,
     "status": "ok",
     "timestamp": 1586875691062,
     "user": {
      "displayName": "Sparsh Agarwal",
      "photoUrl": "",
      "userId": "13037694610922482904"
     },
     "user_tz": -330
    },
    "id": "GYM2n5t1J35E",
    "outputId": "6da7cade-95a8-46eb-889b-63c61a83837c"
   },
   "outputs": [
    {
     "data": {
      "text/plain": [
       "<matplotlib.legend.Legend at 0x7efddf793c18>"
      ]
     },
     "execution_count": 44,
     "metadata": {
      "tags": []
     },
     "output_type": "execute_result"
    },
    {
     "data": {
      "image/png": "[encoded data removed]",
      "text/plain": [
       "<Figure size 576x360 with 1 Axes>"
      ]
     },
     "metadata": {
      "needs_background": "light",
      "tags": []
     },
     "output_type": "display_data"
    }
   ],
   "source": [
    "num_features = np.linspace(1,20,5,dtype=int)\n",
    "test_error_als = []\n",
    "train_error_als = []\n",
    "for i in num_features:\n",
    "    preds_als = als(np.array(train.todense()), k=i, iters = 5)\n",
    "    test_err = get_mse(preds_als, np.array(val.todense()))\n",
    "    train_err = get_mse(preds_als, np.array(train.todense()))\n",
    "    test_error_als.append(test_err)\n",
    "    train_error_als.append(train_err)\n",
    "\n",
    "fig = plt.figure(figsize=(8,5))\n",
    "plt.plot(num_features,test_error_als,'b-',label = 'validation')\n",
    "plt.plot(num_features,train_error_als,'r-', label = 'training')\n",
    "plt.title('MSE vs num_features (for ALS)')\n",
    "plt.xlabel('Number of features in a feature vector')\n",
    "plt.ylabel('MSE')\n",
    "plt.legend()"
   ]
  },
  {
   "cell_type": "markdown",
   "metadata": {
    "colab_type": "text",
    "id": "QSHXhIe_KVmZ"
   },
   "source": [
    "### Refer to [this](https://colab.research.google.com/github/HegdeChaitra/Yelp-Recommendation-System/blob/master/Yelp_Reco_System.ipynb#scrollTo=kAoMx5IHUpsi) for further info"
   ]
  },
  {
   "cell_type": "code",
   "execution_count": null,
   "metadata": {
    "colab": {},
    "colab_type": "code",
    "id": "WxExY9uoKAhn"
   },
   "outputs": [],
   "source": []
  }
 ],
 "metadata": {
  "colab": {
   "authorship_tag": "ABX9TyNak6X1HHbgedeiYfKCLmui",
   "collapsed_sections": [],
   "machine_shape": "hm",
   "mount_file_id": "1dXtEaQJ4WREIOQp8nwYxgUkiZ0vKuTwK",
   "name": "recsys_playground_yelp",
   "provenance": []
  },
  "kernelspec": {
   "display_name": "Python 3",
   "language": "python",
   "name": "python3"
  },
  "language_info": {
   "codemirror_mode": {
    "name": "ipython",
    "version": 3
   },
   "file_extension": ".py",
   "mimetype": "text/x-python",
   "name": "python",
   "nbconvert_exporter": "python",
   "pygments_lexer": "ipython3",
   "version": "3.7.3"
  }
 },
 "nbformat": 4,
 "nbformat_minor": 4
}
