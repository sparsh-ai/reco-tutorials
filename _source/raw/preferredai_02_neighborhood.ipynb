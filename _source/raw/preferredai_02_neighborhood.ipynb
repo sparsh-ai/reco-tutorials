{
  "nbformat": 4,
  "nbformat_minor": 0,
  "metadata": {
    "colab": {
      "name": "02_neighborhood.ipynb",
      "provenance": [],
      "collapsed_sections": []
    },
    "kernelspec": {
      "name": "python3",
      "display_name": "Python 3"
    }
  },
  "cells": [
    {
      "cell_type": "markdown",
      "metadata": {
        "id": "xLXWx4uhqtYJ",
        "colab_type": "text"
      },
      "source": [
        "<table class=\"tfo-notebook-buttons\" align=\"left\">\n",
        "  <td>\n",
        "    <a target=\"_blank\" href=\"https://colab.research.google.com/github/PreferredAI/tutorials/blob/master/recommender-systems/02_neighborhood.ipynb\"><img src=\"https://www.tensorflow.org/images/colab_logo_32px.png\" />Run in Google Colab</a>\n",
        "  </td>\n",
        "  <td>\n",
        "    <a target=\"_blank\" href=\"https://github.com/PreferredAI/tutorials/blob/master/recommender-systems/02_neighborhood.ipynb\"><img src=\"https://www.tensorflow.org/images/GitHub-Mark-32px.png\" />View source on GitHub</a>\n",
        "  </td>\n",
        "</table>"
      ]
    },
    {
      "cell_type": "markdown",
      "metadata": {
        "id": "wzPrmZOMtXt1",
        "colab_type": "text"
      },
      "source": [
        "# Neighborhood-Based Collaborative Filtering\n",
        "\n",
        "One basis for recommendation algorithms is collaborative filtering, where we use the historical rating behaviors to find similarities across users and/or items in arriving at the rating predictions.  Here, we explore a simple, yet highly intuitive collaborative filtering approach that is based on the concept of neighborhood.  Not only does this approach clearly illustrate the collaborative filtering notion of bridging users and items by finding simmilarities, but it also lends itself to interpretability as we will see in this tutorial."
      ]
    },
    {
      "cell_type": "markdown",
      "metadata": {
        "id": "MqktDa7H2hKz",
        "colab_type": "text"
      },
      "source": [
        "## 1. Setup"
      ]
    },
    {
      "cell_type": "code",
      "metadata": {
        "id": "41oWCMUG2eC_",
        "colab_type": "code",
        "colab": {}
      },
      "source": [
        "!pip install --quiet cornac==1.5.1"
      ],
      "execution_count": 0,
      "outputs": []
    },
    {
      "cell_type": "code",
      "metadata": {
        "id": "YqKrDcGH2k7E",
        "colab_type": "code",
        "outputId": "5c9f180f-af91-4654-c042-1b8e8bc488c3",
        "colab": {
          "base_uri": "https://localhost:8080/",
          "height": 68
        }
      },
      "source": [
        "import os\n",
        "import sys\n",
        "import textwrap\n",
        "from collections import defaultdict\n",
        "\n",
        "import numpy as np\n",
        "import pandas as pd\n",
        "import seaborn as sns\n",
        "import matplotlib.pyplot as plt\n",
        "%matplotlib inline\n",
        "\n",
        "import cornac\n",
        "from cornac.utils import cache\n",
        "from cornac.datasets import movielens\n",
        "from cornac.eval_methods import RatioSplit\n",
        "from cornac.models import UserKNN, ItemKNN\n",
        "\n",
        "print(f\"System version: {sys.version}\")\n",
        "print(f\"Cornac version: {cornac.__version__}\")\n",
        "\n",
        "SEED = 42\n",
        "VERBOSE = False"
      ],
      "execution_count": 21,
      "outputs": [
        {
          "output_type": "stream",
          "text": [
            "System version: 3.6.9 (default, Apr 18 2020, 01:56:04) \n",
            "[GCC 8.4.0]\n",
            "Cornac version: 1.5.1\n"
          ],
          "name": "stdout"
        }
      ]
    },
    {
      "cell_type": "markdown",
      "metadata": {
        "id": "nMNOXO8bNIyd",
        "colab_type": "text"
      },
      "source": [
        "## 2. Sample Data\n",
        "\n",
        "For the purpose of illustration, we use a simple dataset involving 5 users and 6 items.\n"
      ]
    },
    {
      "cell_type": "code",
      "metadata": {
        "id": "SoIsiTWIK1h0",
        "colab_type": "code",
        "outputId": "9800f48f-ec94-489e-c794-cdb45a2a00b6",
        "colab": {
          "base_uri": "https://localhost:8080/",
          "height": 204
        }
      },
      "source": [
        "sample_df = pd.read_csv(\n",
        "  cache(\"https://static.preferred.ai/tutorials/recommender-systems/sample_data.csv\"), \n",
        "  sep=\",\", names=[\"UserID\", \"ItemID\", \"Rating\"]\n",
        ")\n",
        "sample_df.head()"
      ],
      "execution_count": 3,
      "outputs": [
        {
          "output_type": "execute_result",
          "data": {
            "text/html": [
              "<div>\n",
              "<style scoped>\n",
              "    .dataframe tbody tr th:only-of-type {\n",
              "        vertical-align: middle;\n",
              "    }\n",
              "\n",
              "    .dataframe tbody tr th {\n",
              "        vertical-align: top;\n",
              "    }\n",
              "\n",
              "    .dataframe thead th {\n",
              "        text-align: right;\n",
              "    }\n",
              "</style>\n",
              "<table border=\"1\" class=\"dataframe\">\n",
              "  <thead>\n",
              "    <tr style=\"text-align: right;\">\n",
              "      <th></th>\n",
              "      <th>UserID</th>\n",
              "      <th>ItemID</th>\n",
              "      <th>Rating</th>\n",
              "    </tr>\n",
              "  </thead>\n",
              "  <tbody>\n",
              "    <tr>\n",
              "      <th>0</th>\n",
              "      <td>1</td>\n",
              "      <td>1</td>\n",
              "      <td>7</td>\n",
              "    </tr>\n",
              "    <tr>\n",
              "      <th>1</th>\n",
              "      <td>1</td>\n",
              "      <td>2</td>\n",
              "      <td>6</td>\n",
              "    </tr>\n",
              "    <tr>\n",
              "      <th>2</th>\n",
              "      <td>1</td>\n",
              "      <td>3</td>\n",
              "      <td>7</td>\n",
              "    </tr>\n",
              "    <tr>\n",
              "      <th>3</th>\n",
              "      <td>1</td>\n",
              "      <td>4</td>\n",
              "      <td>4</td>\n",
              "    </tr>\n",
              "    <tr>\n",
              "      <th>4</th>\n",
              "      <td>1</td>\n",
              "      <td>5</td>\n",
              "      <td>5</td>\n",
              "    </tr>\n",
              "  </tbody>\n",
              "</table>\n",
              "</div>"
            ],
            "text/plain": [
              "   UserID  ItemID  Rating\n",
              "0       1       1       7\n",
              "1       1       2       6\n",
              "2       1       3       7\n",
              "3       1       4       4\n",
              "4       1       5       5"
            ]
          },
          "metadata": {
            "tags": []
          },
          "execution_count": 3
        }
      ]
    },
    {
      "cell_type": "markdown",
      "metadata": {
        "id": "fClyQ5OZUKnJ",
        "colab_type": "text"
      },
      "source": [
        "### Original Rating Matrix\n",
        "\n",
        "Let us see this sample dataset in matrix form.\n"
      ]
    },
    {
      "cell_type": "code",
      "metadata": {
        "id": "croxEMN8P1WL",
        "colab_type": "code",
        "outputId": "444391ce-9b15-4488-afe2-b6df089696ea",
        "colab": {
          "base_uri": "https://localhost:8080/",
          "height": 204
        }
      },
      "source": [
        "dataset = cornac.data.Dataset.from_uir(sample_df.itertuples(index=False))\n",
        "df = pd.DataFrame(dataset.matrix.A,\n",
        "                  index=[f\"User {u + 1}\" for u in np.arange(dataset.num_users)],\n",
        "                  columns=[f\"Item {i + 1}\" for i in np.arange(dataset.num_items)])\n",
        "df.replace(0, np.nan, inplace=True)\n",
        "df[\"Mean Rating\"] = df.mean(axis=1)\n",
        "df"
      ],
      "execution_count": 4,
      "outputs": [
        {
          "output_type": "execute_result",
          "data": {
            "text/html": [
              "<div>\n",
              "<style scoped>\n",
              "    .dataframe tbody tr th:only-of-type {\n",
              "        vertical-align: middle;\n",
              "    }\n",
              "\n",
              "    .dataframe tbody tr th {\n",
              "        vertical-align: top;\n",
              "    }\n",
              "\n",
              "    .dataframe thead th {\n",
              "        text-align: right;\n",
              "    }\n",
              "</style>\n",
              "<table border=\"1\" class=\"dataframe\">\n",
              "  <thead>\n",
              "    <tr style=\"text-align: right;\">\n",
              "      <th></th>\n",
              "      <th>Item 1</th>\n",
              "      <th>Item 2</th>\n",
              "      <th>Item 3</th>\n",
              "      <th>Item 4</th>\n",
              "      <th>Item 5</th>\n",
              "      <th>Item 6</th>\n",
              "      <th>Mean Rating</th>\n",
              "    </tr>\n",
              "  </thead>\n",
              "  <tbody>\n",
              "    <tr>\n",
              "      <th>User 1</th>\n",
              "      <td>7.0</td>\n",
              "      <td>6.0</td>\n",
              "      <td>7.0</td>\n",
              "      <td>4.0</td>\n",
              "      <td>5.0</td>\n",
              "      <td>4.0</td>\n",
              "      <td>5.5</td>\n",
              "    </tr>\n",
              "    <tr>\n",
              "      <th>User 2</th>\n",
              "      <td>6.0</td>\n",
              "      <td>7.0</td>\n",
              "      <td>NaN</td>\n",
              "      <td>4.0</td>\n",
              "      <td>3.0</td>\n",
              "      <td>4.0</td>\n",
              "      <td>4.8</td>\n",
              "    </tr>\n",
              "    <tr>\n",
              "      <th>User 3</th>\n",
              "      <td>NaN</td>\n",
              "      <td>3.0</td>\n",
              "      <td>3.0</td>\n",
              "      <td>1.0</td>\n",
              "      <td>1.0</td>\n",
              "      <td>NaN</td>\n",
              "      <td>2.0</td>\n",
              "    </tr>\n",
              "    <tr>\n",
              "      <th>User 4</th>\n",
              "      <td>1.0</td>\n",
              "      <td>2.0</td>\n",
              "      <td>2.0</td>\n",
              "      <td>3.0</td>\n",
              "      <td>3.0</td>\n",
              "      <td>4.0</td>\n",
              "      <td>2.5</td>\n",
              "    </tr>\n",
              "    <tr>\n",
              "      <th>User 5</th>\n",
              "      <td>1.0</td>\n",
              "      <td>NaN</td>\n",
              "      <td>1.0</td>\n",
              "      <td>2.0</td>\n",
              "      <td>3.0</td>\n",
              "      <td>3.0</td>\n",
              "      <td>2.0</td>\n",
              "    </tr>\n",
              "  </tbody>\n",
              "</table>\n",
              "</div>"
            ],
            "text/plain": [
              "        Item 1  Item 2  Item 3  Item 4  Item 5  Item 6  Mean Rating\n",
              "User 1     7.0     6.0     7.0     4.0     5.0     4.0          5.5\n",
              "User 2     6.0     7.0     NaN     4.0     3.0     4.0          4.8\n",
              "User 3     NaN     3.0     3.0     1.0     1.0     NaN          2.0\n",
              "User 4     1.0     2.0     2.0     3.0     3.0     4.0          2.5\n",
              "User 5     1.0     NaN     1.0     2.0     3.0     3.0          2.0"
            ]
          },
          "metadata": {
            "tags": []
          },
          "execution_count": 4
        }
      ]
    },
    {
      "cell_type": "markdown",
      "metadata": {
        "id": "CKK834y5n4lE",
        "colab_type": "text"
      },
      "source": [
        "### Mean-Centered Rating Matrix\n",
        "\n",
        "One concern about rating data is its subjectivity.  In particular, different users may use different ranges.  Some users are lenient and tend to assign higher ratings.  Others are stric and tend to assign lower ratings.  A commonly adopted approach to 'normalize' the ratings is to take the mean of the ratings by a user and subtracting the mean from the individual ratings of the said user."
      ]
    },
    {
      "cell_type": "code",
      "metadata": {
        "id": "EAZODWI_QjUf",
        "colab_type": "code",
        "outputId": "70ea7108-cd0c-4233-868a-145450ba800f",
        "colab": {
          "base_uri": "https://localhost:8080/",
          "height": 204
        }
      },
      "source": [
        "ratings = df[df.columns.difference([\"Mean Rating\"])].values\n",
        "means = df[\"Mean Rating\"].values[:, np.newaxis]\n",
        "df[df.columns.difference([\"Mean Rating\"])] = (ratings - means)\n",
        "df.drop(columns=\"Mean Rating\")"
      ],
      "execution_count": 5,
      "outputs": [
        {
          "output_type": "execute_result",
          "data": {
            "text/html": [
              "<div>\n",
              "<style scoped>\n",
              "    .dataframe tbody tr th:only-of-type {\n",
              "        vertical-align: middle;\n",
              "    }\n",
              "\n",
              "    .dataframe tbody tr th {\n",
              "        vertical-align: top;\n",
              "    }\n",
              "\n",
              "    .dataframe thead th {\n",
              "        text-align: right;\n",
              "    }\n",
              "</style>\n",
              "<table border=\"1\" class=\"dataframe\">\n",
              "  <thead>\n",
              "    <tr style=\"text-align: right;\">\n",
              "      <th></th>\n",
              "      <th>Item 1</th>\n",
              "      <th>Item 2</th>\n",
              "      <th>Item 3</th>\n",
              "      <th>Item 4</th>\n",
              "      <th>Item 5</th>\n",
              "      <th>Item 6</th>\n",
              "    </tr>\n",
              "  </thead>\n",
              "  <tbody>\n",
              "    <tr>\n",
              "      <th>User 1</th>\n",
              "      <td>1.5</td>\n",
              "      <td>0.5</td>\n",
              "      <td>1.5</td>\n",
              "      <td>-1.5</td>\n",
              "      <td>-0.5</td>\n",
              "      <td>-1.5</td>\n",
              "    </tr>\n",
              "    <tr>\n",
              "      <th>User 2</th>\n",
              "      <td>1.2</td>\n",
              "      <td>2.2</td>\n",
              "      <td>NaN</td>\n",
              "      <td>-0.8</td>\n",
              "      <td>-1.8</td>\n",
              "      <td>-0.8</td>\n",
              "    </tr>\n",
              "    <tr>\n",
              "      <th>User 3</th>\n",
              "      <td>NaN</td>\n",
              "      <td>1.0</td>\n",
              "      <td>1.0</td>\n",
              "      <td>-1.0</td>\n",
              "      <td>-1.0</td>\n",
              "      <td>NaN</td>\n",
              "    </tr>\n",
              "    <tr>\n",
              "      <th>User 4</th>\n",
              "      <td>-1.5</td>\n",
              "      <td>-0.5</td>\n",
              "      <td>-0.5</td>\n",
              "      <td>0.5</td>\n",
              "      <td>0.5</td>\n",
              "      <td>1.5</td>\n",
              "    </tr>\n",
              "    <tr>\n",
              "      <th>User 5</th>\n",
              "      <td>-1.0</td>\n",
              "      <td>NaN</td>\n",
              "      <td>-1.0</td>\n",
              "      <td>0.0</td>\n",
              "      <td>1.0</td>\n",
              "      <td>1.0</td>\n",
              "    </tr>\n",
              "  </tbody>\n",
              "</table>\n",
              "</div>"
            ],
            "text/plain": [
              "        Item 1  Item 2  Item 3  Item 4  Item 5  Item 6\n",
              "User 1     1.5     0.5     1.5    -1.5    -0.5    -1.5\n",
              "User 2     1.2     2.2     NaN    -0.8    -1.8    -0.8\n",
              "User 3     NaN     1.0     1.0    -1.0    -1.0     NaN\n",
              "User 4    -1.5    -0.5    -0.5     0.5     0.5     1.5\n",
              "User 5    -1.0     NaN    -1.0     0.0     1.0     1.0"
            ]
          },
          "metadata": {
            "tags": []
          },
          "execution_count": 5
        }
      ]
    },
    {
      "cell_type": "markdown",
      "metadata": {
        "id": "_ghAcTBfs--9",
        "colab_type": "text"
      },
      "source": [
        "## 3. User-Based Methods\n",
        "\n",
        "For each user, her mean rating is calculated as follows:\n",
        "\n",
        "$$ \\mu_u = \\frac{\\Sigma_{k \\in \\mathcal{I}_u} r_{uk}}{|\\mathcal{I}_u|} \\ \\ \\forall u \\in \\{1 \\dots m\\} $$\n",
        "\n",
        "\n",
        "Two common approaches to measure similarity between two users $\\mathrm{Sim}(u, v)$ are *Cosine similarity* and *Pearson correlation coefficient*:\n",
        "\n",
        "\\begin{align*}\n",
        "\\mathrm{Cosine}(u,v) &= \\frac{\\Sigma_{k \\in \\mathcal{I}_u \\cap \\mathcal{I}_v} r_{uk} * r_{vk}}{\\sqrt{\\Sigma_{k \\in \\mathcal{I}_u \\cap \\mathcal{I}_v} r_{uk}^2} * \\sqrt{\\Sigma_{k \\in \\mathcal{I}_u \\cap \\mathcal{I}_v} r_{vk}^2}} \\\\\n",
        "\\mathrm{Pearson}(u,v) &= \\frac{\\Sigma_{k \\in \\mathcal{I}_u \\cap \\mathcal{I}_v} (r_{uk} - \\mu_u) * (r_{vk} - \\mu_v)}{\\sqrt{\\Sigma_{k \\in \\mathcal{I}_u \\cap \\mathcal{I}_v} (r_{uk} - \\mu_u)^2} * \\sqrt{\\Sigma_{k \\in \\mathcal{I}_u \\cap \\mathcal{I}_v} (r_{vk} - \\mu_v)^2}}\n",
        "\\end{align*}\n",
        "\n",
        "\n",
        "For example, given the original rating matrix, between *User 1* and *User 3* we have their similarities as:\n",
        "\n",
        "\\begin{align*}\n",
        "\\mathrm{Cosine}(1,3) &= \\frac{6*3+7*3+4*1+5*1}{\\sqrt{6^2+7^2+4^2+5^2} * \\sqrt{3^2+3^2+1^2+1^2}} = 0.956 \\\\\n",
        "\\mathrm{Pearson}(1,3) &= \\frac{(6 - 5.5) * (3 - 2) + (7 - 5.5) * (3 - 2) + (4 - 5.5) * (1 - 2) + (5 - 5.5) * (1 - 2)}{\\sqrt{1.5^2 + 1.5^2 + (-1.5)^2 + (-0.5)^2} * \\sqrt{1^2 + 1^2 + (-1)^2 + (-1)^2}} = 0.894\n",
        "\\end{align*}\n",
        "\n",
        "\n",
        "Let's validate the calculation:"
      ]
    },
    {
      "cell_type": "code",
      "metadata": {
        "id": "AlketyDw43Hz",
        "colab_type": "code",
        "outputId": "920e53c5-c894-4a97-da76-fe7a6d70be63",
        "colab": {
          "base_uri": "https://localhost:8080/",
          "height": 51
        }
      },
      "source": [
        "uknn_cosine = UserKNN(k=2, similarity=\"cosine\", verbose=VERBOSE).fit(dataset)\n",
        "print(f\"Cosine(1,3) = {uknn_cosine.sim_mat[0, 2]:.3f}\")\n",
        "\n",
        "uknn_pearson = UserKNN(k=2, similarity=\"pearson\", verbose=VERBOSE).fit(dataset)\n",
        "print(f\"Pearson(1,3) = {uknn_pearson.sim_mat[0, 2]:.3f}\")"
      ],
      "execution_count": 6,
      "outputs": [
        {
          "output_type": "stream",
          "text": [
            "Cosine(1,3) = 0.956\n",
            "Pearson(1,3) = 0.894\n"
          ],
          "name": "stdout"
        }
      ]
    },
    {
      "cell_type": "markdown",
      "metadata": {
        "id": "d499ERNHqK2z",
        "colab_type": "text"
      },
      "source": [
        "Here we use the weighted average of the mean-centered rating to provide prediction.  The overall neighborhood-based *prediction function* is as follows:\n",
        "\n",
        "$$ \\hat{r}_{uj} = \\mu_u + \\frac{\\Sigma_{v \\in P_u(j)} \\mathrm{Sim}(u,v) * (r_{vj} - \\mu_v)}{\\Sigma_{v \\in P_u(j)} |\\mathrm{Sim}(u,v)|} $$\n",
        "\n",
        "\n",
        "For example, to calculate the predicted rating given by *User 3* to *Item 1* and *Item 6*, where the ratings are based on the two nearest neighbors (*User 1* and *User 2*):\n",
        "\n",
        "\\begin{align*}\n",
        "\\hat{r}_{31} &= 2 + \\frac{1.5*0.894+1.2*0.939}{0.894 + 0.939} = 3.35 \\\\\n",
        "\\hat{r}_{36} &= 2 + \\frac{-1.5*0.894-0.8*0.939}{0.894 + 0.939} = 0.86\n",
        "\\end{align*}\n",
        "\n",
        "\n",
        "Let's validate the calculation:"
      ]
    },
    {
      "cell_type": "code",
      "metadata": {
        "id": "4Z6HkqKbsJ1V",
        "colab_type": "code",
        "outputId": "5674899c-9490-4215-d34d-f5212af928b1",
        "colab": {
          "base_uri": "https://localhost:8080/",
          "height": 51
        }
      },
      "source": [
        "print(f\"R(3,1) = {uknn_pearson.score(user_idx=2, item_idx=0):.2f}\")\n",
        "print(f\"R(3,6) = {uknn_pearson.score(user_idx=2, item_idx=5):.2f}\")"
      ],
      "execution_count": 7,
      "outputs": [
        {
          "output_type": "stream",
          "text": [
            "R(3,1) = 3.35\n",
            "R(3,6) = 0.86\n"
          ],
          "name": "stdout"
        }
      ]
    },
    {
      "cell_type": "markdown",
      "metadata": {
        "id": "f-ArYU6bw0On",
        "colab_type": "text"
      },
      "source": [
        "### Let's Try It on a Real Dataset\n",
        "\n",
        "We will now employ these algorithms on the [MovieLens](https://grouplens.org/datasets/movielens/) dataset. Our convention is to use the mean-centered ratings when aggregating the neighbors'ratings to produce a prediction and thereafter adjusting for the mean.  However, we can base the similarity computation based on either the original ratings or the mean-centered ratings, as shown in the variations below."
      ]
    },
    {
      "cell_type": "code",
      "metadata": {
        "id": "N5UO8U5KxB8y",
        "colab_type": "code",
        "outputId": "8b818d63-f4ef-4548-da4c-579a4b237d80",
        "colab": {
          "base_uri": "https://localhost:8080/",
          "height": 187
        }
      },
      "source": [
        "# UserKNN methods\n",
        "K = 50  # number of nearest neighbors\n",
        "uknn_cosine = UserKNN(\n",
        "  k=K, similarity=\"cosine\", name=\"UserKNN-Cosine\", verbose=VERBOSE\n",
        ")\n",
        "uknn_cosine_mc = UserKNN(\n",
        "  k=K, similarity=\"cosine\", mean_centered=True, name=\"UserKNN-Cosine-MC\", verbose=VERBOSE\n",
        ")\n",
        "uknn_pearson = UserKNN(\n",
        "  k=K, similarity=\"pearson\", name=\"UserKNN-Pearson\", verbose=VERBOSE\n",
        ")\n",
        "uknn_pearson_mc = UserKNN(\n",
        "  k=K, similarity=\"pearson\", mean_centered=True, name=\"UserKNN-Pearson-MC\", verbose=VERBOSE\n",
        ")\n",
        "\n",
        "feedback = movielens.load_feedback(variant=\"100K\")\n",
        "ratio_split = RatioSplit(feedback, test_size=0.1, seed=SEED, verbose=VERBOSE)\n",
        "cornac.Experiment(\n",
        "  eval_method=ratio_split,\n",
        "  models=[uknn_cosine, uknn_cosine_mc, uknn_pearson, uknn_pearson_mc],\n",
        "  metrics=[cornac.metrics.RMSE()],\n",
        ").run()"
      ],
      "execution_count": 8,
      "outputs": [
        {
          "output_type": "stream",
          "text": [
            "\n",
            "TEST:\n",
            "...\n",
            "                   |   RMSE | Train (s) | Test (s)\n",
            "------------------ + ------ + --------- + --------\n",
            "UserKNN-Cosine     | 0.9102 |    0.1518 |   1.9438\n",
            "UserKNN-Cosine-MC  | 0.8947 |    0.1441 |   1.9123\n",
            "UserKNN-Pearson    | 0.8947 |    0.1425 |   1.9052\n",
            "UserKNN-Pearson-MC | 0.8947 |    0.1401 |   1.9056\n",
            "\n"
          ],
          "name": "stdout"
        }
      ]
    },
    {
      "cell_type": "markdown",
      "metadata": {
        "id": "TknD0a-ws_VJ",
        "colab_type": "text"
      },
      "source": [
        "Do you notice that *Cosine* with mean-centering is similar to *Pearson* (with and without mean-centering)?  Why is that?\n",
        "\n",
        "\n",
        "## 4. Item-Based Methods\n"
      ]
    },
    {
      "cell_type": "markdown",
      "metadata": {
        "id": "GddlvuQWo4pg",
        "colab_type": "text"
      },
      "source": [
        "The *Cosine* and *Pearson* similarities can be applied for item-based methods as well, except that the feature vectors are now columns instead of rows as we measure similarity between items. \n",
        "\n",
        "If *Cosine* similarity is based on the mean-centered rating matrix, we have a variant called *AdjustedCosine*.  The *adjusted* cosine similarity between the items (columns) *i* and *j* is defined as follows:\n",
        "\n",
        "$$ \\mathrm{AdjustedCosine}(i,j) = \\frac{\\Sigma_{u \\in \\mathcal{U}_i \\cap \\mathcal{U}_j} s_{ui} * s_{uj}}{\\sqrt{\\Sigma_{u \\in \\mathcal{U}_i \\cap \\mathcal{U}_j} s_{ui}^2} * \\sqrt{\\Sigma_{u \\in \\mathcal{U}_i \\cap \\mathcal{U}_j} s_{uj}^2}} $$\n",
        "\n",
        "where $s_{ui}$ is the mean-centered rating that user $u$ gives to item $i$. \n",
        "\n",
        "For example, we calculate *adjusted* cosine between *Item 1* and *Item 3* in the small sample dataset above as follows:\n",
        "\n",
        "$$ \\mathrm{AdjustedCosine}(1,3) = \\frac{1.5 * 1.5 + (-1.5) * (-0.5) + (-1) * (-1)}{\\sqrt{1.5^2 + (-1.5)^2 + (-1)^2} * \\sqrt{1.5^2 + (-0.5)^2 + (-1)^2}} = 0.912 $$"
      ]
    },
    {
      "cell_type": "code",
      "metadata": {
        "id": "-0EQ5jjq6Izr",
        "colab_type": "code",
        "outputId": "cc4f36cc-32a4-4fd3-939e-e96c8a6fece7",
        "colab": {
          "base_uri": "https://localhost:8080/",
          "height": 34
        }
      },
      "source": [
        "iknn_adj = ItemKNN(k=2, similarity=\"cosine\", mean_centered=True, verbose=VERBOSE).fit(dataset)\n",
        "print(f\"AdjustedCosine(1,3) = {iknn_adj.sim_mat[0, 2]:.3f}\")"
      ],
      "execution_count": 9,
      "outputs": [
        {
          "output_type": "stream",
          "text": [
            "AdjustedCosine(1,3) = 0.912\n"
          ],
          "name": "stdout"
        }
      ]
    },
    {
      "cell_type": "markdown",
      "metadata": {
        "id": "TSsp1jgktMSt",
        "colab_type": "text"
      },
      "source": [
        "For prediction, we use the same form of prediction function as in user-based methods but aggregate the user's ratings on neighboring items:\n",
        "\n",
        "$$ \\hat{r}_{ut} = \\mu_u + \\frac{\\Sigma_{j \\in Q_t(u)} \\mathrm{Sim}(j,t) * (r_{uj} - \\mu_u)}{\\Sigma_{j \\in Q_t(u)} |\\mathrm{Sim}(j,t)|} $$\n",
        "\n",
        "\n",
        "For example, below we predict the ratings that *User 3* would give to *Item 1* and *Item 6*. The rating for *Item 1* is based on two nearest neighbors *Item 2* and *Item 3*, while the rating for *Item 6* is based on *Item 4* and *Item 5*.\n",
        "\n",
        "\\begin{align*}\n",
        "\\hat{r}_{31} &= 2 + \\frac{1*0.735 + 1*0.912}{0.735 + 0.912} = 3 \\\\\n",
        "\\hat{r}_{36} &= 2 + \\frac{(-1)*0.829 + (-1)*0.730}{0.829 + 0.730} = 1\n",
        "\\end{align*}\n"
      ]
    },
    {
      "cell_type": "code",
      "metadata": {
        "id": "PCGXnlEAvrgG",
        "colab_type": "code",
        "outputId": "1474a79f-76e1-4ddd-93fc-e204a5bbb789",
        "colab": {
          "base_uri": "https://localhost:8080/",
          "height": 51
        }
      },
      "source": [
        "print(f\"R(3,1) = {iknn_adj.score(user_idx=2, item_idx=0):.1f}\")\n",
        "print(f\"R(3,6) = {iknn_adj.score(user_idx=2, item_idx=5):.1f}\")"
      ],
      "execution_count": 10,
      "outputs": [
        {
          "output_type": "stream",
          "text": [
            "R(3,1) = 3.0\n",
            "R(3,6) = 1.0\n"
          ],
          "name": "stdout"
        }
      ]
    },
    {
      "cell_type": "markdown",
      "metadata": {
        "id": "v0TbQ2Vyw8I3",
        "colab_type": "text"
      },
      "source": [
        "### Let's Try it on a Real Dataset"
      ]
    },
    {
      "cell_type": "code",
      "metadata": {
        "id": "7EYayo8sw-dC",
        "colab_type": "code",
        "outputId": "a1365ab8-4f86-4f44-b451-60ccd4c92da0",
        "colab": {
          "base_uri": "https://localhost:8080/",
          "height": 187
        }
      },
      "source": [
        "# ItemKNN methods\n",
        "K = 50  # number of nearest neighbors\n",
        "iknn_cosine = ItemKNN(\n",
        "  k=K, similarity=\"cosine\", name=\"ItemKNN-Cosine\", verbose=VERBOSE\n",
        ")\n",
        "iknn_pearson = ItemKNN(\n",
        "  k=K, similarity=\"pearson\", name=\"ItemKNN-Pearson\", verbose=VERBOSE\n",
        ")\n",
        "iknn_pearson_mc = ItemKNN(\n",
        "  k=K, similarity=\"pearson\", mean_centered=True, name=\"ItemKNN-Pearson-MC\", verbose=VERBOSE\n",
        ")\n",
        "iknn_adjusted = ItemKNN(\n",
        "  k=K, similarity=\"cosine\", mean_centered=True, name=\"ItemKNN-AdjusedCosine\", verbose=VERBOSE\n",
        ")\n",
        "\n",
        "feedback = movielens.load_feedback(variant=\"100K\")\n",
        "ratio_split = RatioSplit(feedback, test_size=0.1, seed=SEED, verbose=VERBOSE)\n",
        "cornac.Experiment(\n",
        "  eval_method=ratio_split, \n",
        "  models=[iknn_cosine, iknn_pearson, iknn_pearson_mc, iknn_adjusted],\n",
        "  metrics=[cornac.metrics.RMSE()],\n",
        ").run()"
      ],
      "execution_count": 11,
      "outputs": [
        {
          "output_type": "stream",
          "text": [
            "\n",
            "TEST:\n",
            "...\n",
            "                      |   RMSE | Train (s) | Test (s)\n",
            "--------------------- + ------ + --------- + --------\n",
            "ItemKNN-Cosine        | 0.9687 |    0.2535 |   2.0273\n",
            "ItemKNN-Pearson       | 0.9624 |    0.2628 |   1.9258\n",
            "ItemKNN-Pearson-MC    | 0.9573 |    0.2597 |   1.9744\n",
            "ItemKNN-AdjusedCosine | 0.9099 |    0.2169 |   1.9052\n",
            "\n"
          ],
          "name": "stdout"
        }
      ]
    },
    {
      "cell_type": "markdown",
      "metadata": {
        "id": "xGmvrT2Y4swl",
        "colab_type": "text"
      },
      "source": [
        "## 5. Similarity Reweighting\n",
        "\n",
        "\n",
        "Given that our similarities are either *Cosine* or *Pearson*, which lie in the range $[-1, 1]$, the rating values may vary in different scales on different platforms.  One common practice to increase the *relative* importance of the similarity scores is exponential amplification.  For example, a new amplified similarity score based on *Pearson* correlation is:\n",
        "\n",
        "$$ \\mathrm{Sim}(u, v) = \\mathrm{Pearson}(u, v)^{\\mathrm{amplify}} $$\n",
        "\n",
        "\n",
        "Another issue is the long-tailed distribution of the items.  Some items might be very popular and tend to be less discriminative across different users.  This phenomenon is also very common in the information retrieval (IR) literature.  Thus, we can borrow some techniques for feature reweighting from IR.  One of them is the notion of *Inverse Document Frequency (idf)*, part of [TF-IDF](https://en.wikipedia.org/wiki/Tf%E2%80%93idf), where the score of each item $i$ can be reweighted as:\n",
        "\n",
        "$$ w_i = \\log \\bigg( \\frac{N}{m_i} \\bigg), $$\n",
        "\n",
        "$N$ is the number of users and $m_i$ is the number of ratings of item $i$.\n",
        "We also have [Okapi BM25](https://en.wikipedia.org/wiki/Okapi_BM25), which is an improved version of TF-IDF, implemented inside the Cornac library.\n"
      ]
    },
    {
      "cell_type": "code",
      "metadata": {
        "id": "cgyujDOq6ZCt",
        "colab_type": "code",
        "outputId": "36687425-07f3-4017-ebfe-1302036b493f",
        "colab": {
          "base_uri": "https://localhost:8080/",
          "height": 204
        }
      },
      "source": [
        "# UserKNN methods\n",
        "K = 50  # number of nearest neighbors\n",
        "uknn_base = UserKNN(\n",
        "  k=K, similarity=\"pearson\", name=\"UserKNN-Base\", verbose=VERBOSE\n",
        ")\n",
        "uknn_amp1 = UserKNN(\n",
        "  k=K, similarity=\"pearson\", amplify=0.5, name=\"UserKNN-Amp0.5\", verbose=VERBOSE\n",
        ")\n",
        "uknn_amp2 = UserKNN(\n",
        "  k=K, similarity=\"pearson\", amplify=3.0, name=\"UserKNN-Amp3.0\", verbose=VERBOSE\n",
        ")\n",
        "uknn_idf = UserKNN(\n",
        "  k=K, similarity=\"pearson\", weighting=\"idf\", name=\"UserKNN-IDF\", verbose=VERBOSE\n",
        ")\n",
        "uknn_bm25 = UserKNN(\n",
        "  k=K, similarity=\"pearson\", weighting=\"bm25\", name=\"UserKNN-BM25\", verbose=VERBOSE\n",
        ")\n",
        "\n",
        "feedback = movielens.load_feedback(variant=\"100K\")\n",
        "ratio_split = RatioSplit(feedback, test_size=0.1, seed=SEED, verbose=VERBOSE)\n",
        "cornac.Experiment(\n",
        "  eval_method=ratio_split,\n",
        "  models=[uknn_base, uknn_amp1, uknn_amp2, uknn_idf, uknn_bm25],\n",
        "  metrics=[cornac.metrics.RMSE()],\n",
        ").run()"
      ],
      "execution_count": 12,
      "outputs": [
        {
          "output_type": "stream",
          "text": [
            "\n",
            "TEST:\n",
            "...\n",
            "               |   RMSE | Train (s) | Test (s)\n",
            "-------------- + ------ + --------- + --------\n",
            "UserKNN-Base   | 0.8947 |    0.1513 |   1.9346\n",
            "UserKNN-Amp0.5 | 0.8935 |    1.6149 |   1.9110\n",
            "UserKNN-Amp3.0 | 0.9134 |    0.8148 |   1.9180\n",
            "UserKNN-IDF    | 0.8955 |    0.1426 |   1.8843\n",
            "UserKNN-BM25   | 0.8956 |    0.1465 |   1.8872\n",
            "\n"
          ],
          "name": "stdout"
        }
      ]
    },
    {
      "cell_type": "markdown",
      "metadata": {
        "id": "qL5Oe0iswaUk",
        "colab_type": "text"
      },
      "source": [
        "## 6. Interpreting Recommendations"
      ]
    },
    {
      "cell_type": "markdown",
      "metadata": {
        "id": "KDtnZGsPX83S",
        "colab_type": "text"
      },
      "source": [
        "Instead of rating prediction being a black-box task, most of us would find it useful to be able to better understand why certain recommendations are being made.  In an effort to better interpret the recommendation results, we can look to various sources, such as the metadata, the contribution of each neighbor, as well as the interaction between user and the neighboring items.\n",
        "\n",
        "The MovieLens 100K dataset comes with some forms of [metadata](http://files.grouplens.org/datasets/movielens/ml-100k-README.txt).  We can refer to that metadata to uncover more information on the recommendations.  Below we will take a look at the movie title and genres.\n"
      ]
    },
    {
      "cell_type": "code",
      "metadata": {
        "id": "OUThxmqmYpJN",
        "colab_type": "code",
        "colab": {}
      },
      "source": [
        "# Download some information of MovieLens 100K dataset\n",
        "user_df = pd.read_csv(\n",
        "  cache(\"http://files.grouplens.org/datasets/movielens/ml-100k/u.user\"), \n",
        "  sep=\"|\", names=[\"UserID\", \"Age\", \"Gender\", \"Occupation\", \"Zip Code\"]\n",
        ").set_index(\"UserID\")\n",
        "\n",
        "item_df = pd.read_csv(\n",
        "  cache(\"http://files.grouplens.org/datasets/movielens/ml-100k/u.item\"), \n",
        "  sep=\"|\", encoding=\"ISO-8859-1\",\n",
        "  names=[\"ItemID\", \"Title\", \"Release Date\", \"Video Release Date\", \"IMDb URL\", \n",
        "         \"unknown\", \"Action\", \"Adventure\", \"Animation\", \"Children's\", \"Comedy\", \n",
        "         \"Crime\", \"Documentary\", \"Drama\", \"Fantasy\", \"Film-Noir\", \"Horror\", \n",
        "         \"Musical\", \"Mystery\", \"Romance\", \"Sci-Fi\", \"Thriller\", \"War\", \"Western\"]\n",
        ").set_index(\"ItemID\").drop(columns=[\"Video Release Date\", \"IMDb URL\", \"unknown\"])"
      ],
      "execution_count": 0,
      "outputs": []
    },
    {
      "cell_type": "markdown",
      "metadata": {
        "id": "6WShfoydyNGO",
        "colab_type": "text"
      },
      "source": [
        "### UserKNN (Pearson)"
      ]
    },
    {
      "cell_type": "markdown",
      "metadata": {
        "id": "58egGn1lc7c7",
        "colab_type": "text"
      },
      "source": [
        "For UserKNN methods, we use the *Pearson* variant as our recommender system.  First, let's select a user to explore her profile as well as her highly rated items in the training data."
      ]
    },
    {
      "cell_type": "code",
      "metadata": {
        "id": "mroLY48-c-bx",
        "colab_type": "code",
        "outputId": "415805fd-b7dc-4cf4-d677-b39a8b54d9ac",
        "colab": {
          "base_uri": "https://localhost:8080/",
          "height": 388
        }
      },
      "source": [
        "rating_mat = uknn_pearson.train_set.matrix\n",
        "user_id2idx = uknn_pearson.train_set.uid_map\n",
        "user_idx2id = list(uknn_pearson.train_set.user_ids)\n",
        "item_id2idx = uknn_pearson.train_set.iid_map\n",
        "item_idx2id = list(uknn_pearson.train_set.item_ids)\n",
        "\n",
        "TOPK = 5\n",
        "UID = 1\n",
        "UIDX = uknn_pearson.train_set.uid_map[str(UID)]\n",
        "\n",
        "print(f\"UserID = {UID}\")\n",
        "print(\"-\" * 25)\n",
        "print(user_df.loc[UID])\n",
        "\n",
        "rating_arr = rating_mat[UIDX].A.ravel()\n",
        "top_rated_items = np.argsort(rating_arr)[-TOPK:]\n",
        "print(f\"\\nTOP {TOPK} RATED ITEMS BY USER {UID}:\")\n",
        "item_df.loc[[int(item_idx2id[i]) for i in top_rated_items]]"
      ],
      "execution_count": 14,
      "outputs": [
        {
          "output_type": "stream",
          "text": [
            "UserID = 1\n",
            "-------------------------\n",
            "Age                   24\n",
            "Gender                 M\n",
            "Occupation    technician\n",
            "Zip Code           85711\n",
            "Name: 1, dtype: object\n",
            "\n",
            "TOP 5 RATED ITEMS BY USER 1:\n"
          ],
          "name": "stdout"
        },
        {
          "output_type": "execute_result",
          "data": {
            "text/html": [
              "<div>\n",
              "<style scoped>\n",
              "    .dataframe tbody tr th:only-of-type {\n",
              "        vertical-align: middle;\n",
              "    }\n",
              "\n",
              "    .dataframe tbody tr th {\n",
              "        vertical-align: top;\n",
              "    }\n",
              "\n",
              "    .dataframe thead th {\n",
              "        text-align: right;\n",
              "    }\n",
              "</style>\n",
              "<table border=\"1\" class=\"dataframe\">\n",
              "  <thead>\n",
              "    <tr style=\"text-align: right;\">\n",
              "      <th></th>\n",
              "      <th>Title</th>\n",
              "      <th>Release Date</th>\n",
              "      <th>Action</th>\n",
              "      <th>Adventure</th>\n",
              "      <th>Animation</th>\n",
              "      <th>Children's</th>\n",
              "      <th>Comedy</th>\n",
              "      <th>Crime</th>\n",
              "      <th>Documentary</th>\n",
              "      <th>Drama</th>\n",
              "      <th>Fantasy</th>\n",
              "      <th>Film-Noir</th>\n",
              "      <th>Horror</th>\n",
              "      <th>Musical</th>\n",
              "      <th>Mystery</th>\n",
              "      <th>Romance</th>\n",
              "      <th>Sci-Fi</th>\n",
              "      <th>Thriller</th>\n",
              "      <th>War</th>\n",
              "      <th>Western</th>\n",
              "    </tr>\n",
              "    <tr>\n",
              "      <th>ItemID</th>\n",
              "      <th></th>\n",
              "      <th></th>\n",
              "      <th></th>\n",
              "      <th></th>\n",
              "      <th></th>\n",
              "      <th></th>\n",
              "      <th></th>\n",
              "      <th></th>\n",
              "      <th></th>\n",
              "      <th></th>\n",
              "      <th></th>\n",
              "      <th></th>\n",
              "      <th></th>\n",
              "      <th></th>\n",
              "      <th></th>\n",
              "      <th></th>\n",
              "      <th></th>\n",
              "      <th></th>\n",
              "      <th></th>\n",
              "      <th></th>\n",
              "    </tr>\n",
              "  </thead>\n",
              "  <tbody>\n",
              "    <tr>\n",
              "      <th>96</th>\n",
              "      <td>Terminator 2: Judgment Day (1991)</td>\n",
              "      <td>01-Jan-1991</td>\n",
              "      <td>1</td>\n",
              "      <td>0</td>\n",
              "      <td>0</td>\n",
              "      <td>0</td>\n",
              "      <td>0</td>\n",
              "      <td>0</td>\n",
              "      <td>0</td>\n",
              "      <td>0</td>\n",
              "      <td>0</td>\n",
              "      <td>0</td>\n",
              "      <td>0</td>\n",
              "      <td>0</td>\n",
              "      <td>0</td>\n",
              "      <td>0</td>\n",
              "      <td>1</td>\n",
              "      <td>1</td>\n",
              "      <td>0</td>\n",
              "      <td>0</td>\n",
              "    </tr>\n",
              "    <tr>\n",
              "      <th>48</th>\n",
              "      <td>Hoop Dreams (1994)</td>\n",
              "      <td>01-Jan-1994</td>\n",
              "      <td>0</td>\n",
              "      <td>0</td>\n",
              "      <td>0</td>\n",
              "      <td>0</td>\n",
              "      <td>0</td>\n",
              "      <td>0</td>\n",
              "      <td>1</td>\n",
              "      <td>0</td>\n",
              "      <td>0</td>\n",
              "      <td>0</td>\n",
              "      <td>0</td>\n",
              "      <td>0</td>\n",
              "      <td>0</td>\n",
              "      <td>0</td>\n",
              "      <td>0</td>\n",
              "      <td>0</td>\n",
              "      <td>0</td>\n",
              "      <td>0</td>\n",
              "    </tr>\n",
              "    <tr>\n",
              "      <th>127</th>\n",
              "      <td>Godfather, The (1972)</td>\n",
              "      <td>01-Jan-1972</td>\n",
              "      <td>1</td>\n",
              "      <td>0</td>\n",
              "      <td>0</td>\n",
              "      <td>0</td>\n",
              "      <td>0</td>\n",
              "      <td>1</td>\n",
              "      <td>0</td>\n",
              "      <td>1</td>\n",
              "      <td>0</td>\n",
              "      <td>0</td>\n",
              "      <td>0</td>\n",
              "      <td>0</td>\n",
              "      <td>0</td>\n",
              "      <td>0</td>\n",
              "      <td>0</td>\n",
              "      <td>0</td>\n",
              "      <td>0</td>\n",
              "      <td>0</td>\n",
              "    </tr>\n",
              "    <tr>\n",
              "      <th>150</th>\n",
              "      <td>Swingers (1996)</td>\n",
              "      <td>18-Oct-1996</td>\n",
              "      <td>0</td>\n",
              "      <td>0</td>\n",
              "      <td>0</td>\n",
              "      <td>0</td>\n",
              "      <td>1</td>\n",
              "      <td>0</td>\n",
              "      <td>0</td>\n",
              "      <td>1</td>\n",
              "      <td>0</td>\n",
              "      <td>0</td>\n",
              "      <td>0</td>\n",
              "      <td>0</td>\n",
              "      <td>0</td>\n",
              "      <td>0</td>\n",
              "      <td>0</td>\n",
              "      <td>0</td>\n",
              "      <td>0</td>\n",
              "      <td>0</td>\n",
              "    </tr>\n",
              "    <tr>\n",
              "      <th>16</th>\n",
              "      <td>French Twist (Gazon maudit) (1995)</td>\n",
              "      <td>01-Jan-1995</td>\n",
              "      <td>0</td>\n",
              "      <td>0</td>\n",
              "      <td>0</td>\n",
              "      <td>0</td>\n",
              "      <td>1</td>\n",
              "      <td>0</td>\n",
              "      <td>0</td>\n",
              "      <td>0</td>\n",
              "      <td>0</td>\n",
              "      <td>0</td>\n",
              "      <td>0</td>\n",
              "      <td>0</td>\n",
              "      <td>0</td>\n",
              "      <td>1</td>\n",
              "      <td>0</td>\n",
              "      <td>0</td>\n",
              "      <td>0</td>\n",
              "      <td>0</td>\n",
              "    </tr>\n",
              "  </tbody>\n",
              "</table>\n",
              "</div>"
            ],
            "text/plain": [
              "                                     Title Release Date  ...  War  Western\n",
              "ItemID                                                   ...              \n",
              "96       Terminator 2: Judgment Day (1991)  01-Jan-1991  ...    0        0\n",
              "48                      Hoop Dreams (1994)  01-Jan-1994  ...    0        0\n",
              "127                  Godfather, The (1972)  01-Jan-1972  ...    0        0\n",
              "150                        Swingers (1996)  18-Oct-1996  ...    0        0\n",
              "16      French Twist (Gazon maudit) (1995)  01-Jan-1995  ...    0        0\n",
              "\n",
              "[5 rows x 20 columns]"
            ]
          },
          "metadata": {
            "tags": []
          },
          "execution_count": 14
        }
      ]
    },
    {
      "cell_type": "markdown",
      "metadata": {
        "id": "kYeCpugSdnY0",
        "colab_type": "text"
      },
      "source": [
        "For instance, among the top 5 rated movies observed for *User 1*, 2 of them are Drama movies.\n",
        "\n",
        "Recommendations for this user can be obtained as follows:"
      ]
    },
    {
      "cell_type": "code",
      "metadata": {
        "id": "mOGVnRP-wmzV",
        "colab_type": "code",
        "outputId": "22c628db-cad2-4db8-849e-05b802283bcf",
        "colab": {
          "base_uri": "https://localhost:8080/",
          "height": 286
        }
      },
      "source": [
        "recommendations, scores = uknn_pearson.rank(UIDX)\n",
        "print(f\"\\nTOP {TOPK} RECOMMENDATIONS FOR USER {UID}:\")\n",
        "print(\"Scores:\", scores[recommendations[:TOPK]])\n",
        "item_df.loc[[int(item_idx2id[i]) for i in recommendations[:TOPK]]]"
      ],
      "execution_count": 15,
      "outputs": [
        {
          "output_type": "stream",
          "text": [
            "\n",
            "TOP 5 RECOMMENDATIONS FOR USER 1:\n",
            "Scores: [6.11605904 5.48557688 5.32202542 5.30147822 5.09619216]\n"
          ],
          "name": "stdout"
        },
        {
          "output_type": "execute_result",
          "data": {
            "text/html": [
              "<div>\n",
              "<style scoped>\n",
              "    .dataframe tbody tr th:only-of-type {\n",
              "        vertical-align: middle;\n",
              "    }\n",
              "\n",
              "    .dataframe tbody tr th {\n",
              "        vertical-align: top;\n",
              "    }\n",
              "\n",
              "    .dataframe thead th {\n",
              "        text-align: right;\n",
              "    }\n",
              "</style>\n",
              "<table border=\"1\" class=\"dataframe\">\n",
              "  <thead>\n",
              "    <tr style=\"text-align: right;\">\n",
              "      <th></th>\n",
              "      <th>Title</th>\n",
              "      <th>Release Date</th>\n",
              "      <th>Action</th>\n",
              "      <th>Adventure</th>\n",
              "      <th>Animation</th>\n",
              "      <th>Children's</th>\n",
              "      <th>Comedy</th>\n",
              "      <th>Crime</th>\n",
              "      <th>Documentary</th>\n",
              "      <th>Drama</th>\n",
              "      <th>Fantasy</th>\n",
              "      <th>Film-Noir</th>\n",
              "      <th>Horror</th>\n",
              "      <th>Musical</th>\n",
              "      <th>Mystery</th>\n",
              "      <th>Romance</th>\n",
              "      <th>Sci-Fi</th>\n",
              "      <th>Thriller</th>\n",
              "      <th>War</th>\n",
              "      <th>Western</th>\n",
              "    </tr>\n",
              "    <tr>\n",
              "      <th>ItemID</th>\n",
              "      <th></th>\n",
              "      <th></th>\n",
              "      <th></th>\n",
              "      <th></th>\n",
              "      <th></th>\n",
              "      <th></th>\n",
              "      <th></th>\n",
              "      <th></th>\n",
              "      <th></th>\n",
              "      <th></th>\n",
              "      <th></th>\n",
              "      <th></th>\n",
              "      <th></th>\n",
              "      <th></th>\n",
              "      <th></th>\n",
              "      <th></th>\n",
              "      <th></th>\n",
              "      <th></th>\n",
              "      <th></th>\n",
              "      <th></th>\n",
              "    </tr>\n",
              "  </thead>\n",
              "  <tbody>\n",
              "    <tr>\n",
              "      <th>1309</th>\n",
              "      <td>Very Natural Thing, A (1974)</td>\n",
              "      <td>01-Jan-1974</td>\n",
              "      <td>0</td>\n",
              "      <td>0</td>\n",
              "      <td>0</td>\n",
              "      <td>0</td>\n",
              "      <td>0</td>\n",
              "      <td>0</td>\n",
              "      <td>0</td>\n",
              "      <td>1</td>\n",
              "      <td>0</td>\n",
              "      <td>0</td>\n",
              "      <td>0</td>\n",
              "      <td>0</td>\n",
              "      <td>0</td>\n",
              "      <td>0</td>\n",
              "      <td>0</td>\n",
              "      <td>0</td>\n",
              "      <td>0</td>\n",
              "      <td>0</td>\n",
              "    </tr>\n",
              "    <tr>\n",
              "      <th>814</th>\n",
              "      <td>Great Day in Harlem, A (1994)</td>\n",
              "      <td>01-Jan-1994</td>\n",
              "      <td>0</td>\n",
              "      <td>0</td>\n",
              "      <td>0</td>\n",
              "      <td>0</td>\n",
              "      <td>0</td>\n",
              "      <td>0</td>\n",
              "      <td>1</td>\n",
              "      <td>0</td>\n",
              "      <td>0</td>\n",
              "      <td>0</td>\n",
              "      <td>0</td>\n",
              "      <td>0</td>\n",
              "      <td>0</td>\n",
              "      <td>0</td>\n",
              "      <td>0</td>\n",
              "      <td>0</td>\n",
              "      <td>0</td>\n",
              "      <td>0</td>\n",
              "    </tr>\n",
              "    <tr>\n",
              "      <th>1536</th>\n",
              "      <td>Aiqing wansui (1994)</td>\n",
              "      <td>22-Jul-1996</td>\n",
              "      <td>0</td>\n",
              "      <td>0</td>\n",
              "      <td>0</td>\n",
              "      <td>0</td>\n",
              "      <td>0</td>\n",
              "      <td>0</td>\n",
              "      <td>0</td>\n",
              "      <td>1</td>\n",
              "      <td>0</td>\n",
              "      <td>0</td>\n",
              "      <td>0</td>\n",
              "      <td>0</td>\n",
              "      <td>0</td>\n",
              "      <td>0</td>\n",
              "      <td>0</td>\n",
              "      <td>0</td>\n",
              "      <td>0</td>\n",
              "      <td>0</td>\n",
              "    </tr>\n",
              "    <tr>\n",
              "      <th>1500</th>\n",
              "      <td>Santa with Muscles (1996)</td>\n",
              "      <td>08-Nov-1996</td>\n",
              "      <td>0</td>\n",
              "      <td>0</td>\n",
              "      <td>0</td>\n",
              "      <td>0</td>\n",
              "      <td>1</td>\n",
              "      <td>0</td>\n",
              "      <td>0</td>\n",
              "      <td>0</td>\n",
              "      <td>0</td>\n",
              "      <td>0</td>\n",
              "      <td>0</td>\n",
              "      <td>0</td>\n",
              "      <td>0</td>\n",
              "      <td>0</td>\n",
              "      <td>0</td>\n",
              "      <td>0</td>\n",
              "      <td>0</td>\n",
              "      <td>0</td>\n",
              "    </tr>\n",
              "    <tr>\n",
              "      <th>1467</th>\n",
              "      <td>Saint of Fort Washington, The (1993)</td>\n",
              "      <td>01-Jan-1993</td>\n",
              "      <td>0</td>\n",
              "      <td>0</td>\n",
              "      <td>0</td>\n",
              "      <td>0</td>\n",
              "      <td>0</td>\n",
              "      <td>0</td>\n",
              "      <td>0</td>\n",
              "      <td>1</td>\n",
              "      <td>0</td>\n",
              "      <td>0</td>\n",
              "      <td>0</td>\n",
              "      <td>0</td>\n",
              "      <td>0</td>\n",
              "      <td>0</td>\n",
              "      <td>0</td>\n",
              "      <td>0</td>\n",
              "      <td>0</td>\n",
              "      <td>0</td>\n",
              "    </tr>\n",
              "  </tbody>\n",
              "</table>\n",
              "</div>"
            ],
            "text/plain": [
              "                                       Title Release Date  ...  War  Western\n",
              "ItemID                                                     ...              \n",
              "1309            Very Natural Thing, A (1974)  01-Jan-1974  ...    0        0\n",
              "814            Great Day in Harlem, A (1994)  01-Jan-1994  ...    0        0\n",
              "1536                    Aiqing wansui (1994)  22-Jul-1996  ...    0        0\n",
              "1500               Santa with Muscles (1996)  08-Nov-1996  ...    0        0\n",
              "1467    Saint of Fort Washington, The (1993)  01-Jan-1993  ...    0        0\n",
              "\n",
              "[5 rows x 20 columns]"
            ]
          },
          "metadata": {
            "tags": []
          },
          "execution_count": 15
        }
      ]
    },
    {
      "cell_type": "markdown",
      "metadata": {
        "id": "HbX8Rjc5bHh7",
        "colab_type": "text"
      },
      "source": [
        "It is intriguing, and perhaps revealing that of the five predicted movies, three of them are Drama movies.\n",
        "\n",
        "To better understand the nature of this recommendation, we would like to see how the nearest neighbor of the user contribute towards the prediction of each movie.\n",
        "\n",
        "\n"
      ]
    },
    {
      "cell_type": "code",
      "metadata": {
        "id": "Qpga4kDnkbRZ",
        "colab_type": "code",
        "outputId": "d258aa93-d75e-4153-a84e-dbab1a104fe8",
        "colab": {
          "base_uri": "https://localhost:8080/",
          "height": 204
        }
      },
      "source": [
        "df = defaultdict(list)\n",
        "sim_arr = uknn_pearson.sim_mat[UIDX].A.ravel()\n",
        "for rec in recommendations[:TOPK]:\n",
        "  rated_users = np.array([u for u in range(len(sim_arr)) if rating_mat[u, rec] != 0])\n",
        "  nearest_neighbor = rated_users[np.argsort(sim_arr[rated_users])[-1:]].item()\n",
        "  sim = sim_arr[nearest_neighbor]\n",
        "  score = uknn_pearson.iu_mat[rec, nearest_neighbor]\n",
        "  df[\"Recommendation\"].append(item_df.loc[[int(item_idx2id[rec])]][\"Title\"].values[0])\n",
        "  df[\"User NN\"].append(nearest_neighbor)\n",
        "  df[\"Similarity\"].append(sim)\n",
        "  df[\"Score by the NN\"].append(score)\n",
        "  df[\"Contribution\"].append((score * sim) / np.abs(sim))\n",
        "pd.DataFrame.from_dict(df)"
      ],
      "execution_count": 16,
      "outputs": [
        {
          "output_type": "execute_result",
          "data": {
            "text/html": [
              "<div>\n",
              "<style scoped>\n",
              "    .dataframe tbody tr th:only-of-type {\n",
              "        vertical-align: middle;\n",
              "    }\n",
              "\n",
              "    .dataframe tbody tr th {\n",
              "        vertical-align: top;\n",
              "    }\n",
              "\n",
              "    .dataframe thead th {\n",
              "        text-align: right;\n",
              "    }\n",
              "</style>\n",
              "<table border=\"1\" class=\"dataframe\">\n",
              "  <thead>\n",
              "    <tr style=\"text-align: right;\">\n",
              "      <th></th>\n",
              "      <th>Recommendation</th>\n",
              "      <th>User NN</th>\n",
              "      <th>Similarity</th>\n",
              "      <th>Score by the NN</th>\n",
              "      <th>Contribution</th>\n",
              "    </tr>\n",
              "  </thead>\n",
              "  <tbody>\n",
              "    <tr>\n",
              "      <th>0</th>\n",
              "      <td>Very Natural Thing, A (1974)</td>\n",
              "      <td>703</td>\n",
              "      <td>-0.073508</td>\n",
              "      <td>-2.526316</td>\n",
              "      <td>2.526316</td>\n",
              "    </tr>\n",
              "    <tr>\n",
              "      <th>1</th>\n",
              "      <td>Great Day in Harlem, A (1994)</td>\n",
              "      <td>20</td>\n",
              "      <td>0.471303</td>\n",
              "      <td>1.895833</td>\n",
              "      <td>1.895833</td>\n",
              "    </tr>\n",
              "    <tr>\n",
              "      <th>2</th>\n",
              "      <td>Aiqing wansui (1994)</td>\n",
              "      <td>190</td>\n",
              "      <td>0.010587</td>\n",
              "      <td>1.732283</td>\n",
              "      <td>1.732283</td>\n",
              "    </tr>\n",
              "    <tr>\n",
              "      <th>3</th>\n",
              "      <td>Santa with Muscles (1996)</td>\n",
              "      <td>184</td>\n",
              "      <td>0.289477</td>\n",
              "      <td>1.711735</td>\n",
              "      <td>1.711735</td>\n",
              "    </tr>\n",
              "    <tr>\n",
              "      <th>4</th>\n",
              "      <td>Saint of Fort Washington, The (1993)</td>\n",
              "      <td>7</td>\n",
              "      <td>0.467937</td>\n",
              "      <td>1.640909</td>\n",
              "      <td>1.640909</td>\n",
              "    </tr>\n",
              "  </tbody>\n",
              "</table>\n",
              "</div>"
            ],
            "text/plain": [
              "                         Recommendation  User NN  ...  Score by the NN  Contribution\n",
              "0          Very Natural Thing, A (1974)      703  ...        -2.526316      2.526316\n",
              "1         Great Day in Harlem, A (1994)       20  ...         1.895833      1.895833\n",
              "2                  Aiqing wansui (1994)      190  ...         1.732283      1.732283\n",
              "3             Santa with Muscles (1996)      184  ...         1.711735      1.711735\n",
              "4  Saint of Fort Washington, The (1993)        7  ...         1.640909      1.640909\n",
              "\n",
              "[5 rows x 5 columns]"
            ]
          },
          "metadata": {
            "tags": []
          },
          "execution_count": 16
        }
      ]
    },
    {
      "cell_type": "markdown",
      "metadata": {
        "id": "IbtTU-pI6hBe",
        "colab_type": "text"
      },
      "source": [
        "Interestingly, for the first movie recommendation, the nearest-neighbor of the user is the one having negative similarity with the user and giving negative rating to the item as well.  The double negatives result in a positive contribution!"
      ]
    },
    {
      "cell_type": "markdown",
      "metadata": {
        "id": "2MNc7MW8w87x",
        "colab_type": "text"
      },
      "source": [
        "### ItemKNN (AdjustedCosine)"
      ]
    },
    {
      "cell_type": "markdown",
      "metadata": {
        "id": "7vJoSZsaVxmW",
        "colab_type": "text"
      },
      "source": [
        "For ItemKNN methods, we take the *AdjustedCosine* variant as our recommender system.  Let's pick a user and see her top-K highly rated items. "
      ]
    },
    {
      "cell_type": "code",
      "metadata": {
        "id": "JDoRgZ8yxet3",
        "colab_type": "code",
        "outputId": "352f0dea-b52d-4964-89d6-56d3bdc04471",
        "colab": {
          "base_uri": "https://localhost:8080/",
          "height": 405
        }
      },
      "source": [
        "rating_mat = iknn_adjusted.train_set.matrix\n",
        "user_id2idx = iknn_adjusted.train_set.uid_map\n",
        "user_idx2id = list(iknn_adjusted.train_set.user_ids)\n",
        "item_id2idx = iknn_adjusted.train_set.iid_map\n",
        "item_idx2id = list(iknn_adjusted.train_set.item_ids)\n",
        "\n",
        "TOPK = 5\n",
        "UID = 1\n",
        "UIDX = user_id2idx[str(UID)]\n",
        "\n",
        "print(f\"UserID = {UID}\")\n",
        "print(\"-\" * 25)\n",
        "print(user_df.loc[UID])\n",
        "\n",
        "rating_arr = rating_mat[UIDX].A.ravel()\n",
        "top_rated_items = np.argsort(rating_arr)[-TOPK:]\n",
        "print(f\"\\nTOP {TOPK} RATED ITEMS BY USER {UID}:\")\n",
        "print(\"Ratings:\", rating_arr[top_rated_items])\n",
        "item_df.loc[[int(item_idx2id[i]) for i in top_rated_items]]"
      ],
      "execution_count": 17,
      "outputs": [
        {
          "output_type": "stream",
          "text": [
            "UserID = 1\n",
            "-------------------------\n",
            "Age                   24\n",
            "Gender                 M\n",
            "Occupation    technician\n",
            "Zip Code           85711\n",
            "Name: 1, dtype: object\n",
            "\n",
            "TOP 5 RATED ITEMS BY USER 1:\n",
            "Ratings: [5. 5. 5. 5. 5.]\n"
          ],
          "name": "stdout"
        },
        {
          "output_type": "execute_result",
          "data": {
            "text/html": [
              "<div>\n",
              "<style scoped>\n",
              "    .dataframe tbody tr th:only-of-type {\n",
              "        vertical-align: middle;\n",
              "    }\n",
              "\n",
              "    .dataframe tbody tr th {\n",
              "        vertical-align: top;\n",
              "    }\n",
              "\n",
              "    .dataframe thead th {\n",
              "        text-align: right;\n",
              "    }\n",
              "</style>\n",
              "<table border=\"1\" class=\"dataframe\">\n",
              "  <thead>\n",
              "    <tr style=\"text-align: right;\">\n",
              "      <th></th>\n",
              "      <th>Title</th>\n",
              "      <th>Release Date</th>\n",
              "      <th>Action</th>\n",
              "      <th>Adventure</th>\n",
              "      <th>Animation</th>\n",
              "      <th>Children's</th>\n",
              "      <th>Comedy</th>\n",
              "      <th>Crime</th>\n",
              "      <th>Documentary</th>\n",
              "      <th>Drama</th>\n",
              "      <th>Fantasy</th>\n",
              "      <th>Film-Noir</th>\n",
              "      <th>Horror</th>\n",
              "      <th>Musical</th>\n",
              "      <th>Mystery</th>\n",
              "      <th>Romance</th>\n",
              "      <th>Sci-Fi</th>\n",
              "      <th>Thriller</th>\n",
              "      <th>War</th>\n",
              "      <th>Western</th>\n",
              "    </tr>\n",
              "    <tr>\n",
              "      <th>ItemID</th>\n",
              "      <th></th>\n",
              "      <th></th>\n",
              "      <th></th>\n",
              "      <th></th>\n",
              "      <th></th>\n",
              "      <th></th>\n",
              "      <th></th>\n",
              "      <th></th>\n",
              "      <th></th>\n",
              "      <th></th>\n",
              "      <th></th>\n",
              "      <th></th>\n",
              "      <th></th>\n",
              "      <th></th>\n",
              "      <th></th>\n",
              "      <th></th>\n",
              "      <th></th>\n",
              "      <th></th>\n",
              "      <th></th>\n",
              "      <th></th>\n",
              "    </tr>\n",
              "  </thead>\n",
              "  <tbody>\n",
              "    <tr>\n",
              "      <th>96</th>\n",
              "      <td>Terminator 2: Judgment Day (1991)</td>\n",
              "      <td>01-Jan-1991</td>\n",
              "      <td>1</td>\n",
              "      <td>0</td>\n",
              "      <td>0</td>\n",
              "      <td>0</td>\n",
              "      <td>0</td>\n",
              "      <td>0</td>\n",
              "      <td>0</td>\n",
              "      <td>0</td>\n",
              "      <td>0</td>\n",
              "      <td>0</td>\n",
              "      <td>0</td>\n",
              "      <td>0</td>\n",
              "      <td>0</td>\n",
              "      <td>0</td>\n",
              "      <td>1</td>\n",
              "      <td>1</td>\n",
              "      <td>0</td>\n",
              "      <td>0</td>\n",
              "    </tr>\n",
              "    <tr>\n",
              "      <th>48</th>\n",
              "      <td>Hoop Dreams (1994)</td>\n",
              "      <td>01-Jan-1994</td>\n",
              "      <td>0</td>\n",
              "      <td>0</td>\n",
              "      <td>0</td>\n",
              "      <td>0</td>\n",
              "      <td>0</td>\n",
              "      <td>0</td>\n",
              "      <td>1</td>\n",
              "      <td>0</td>\n",
              "      <td>0</td>\n",
              "      <td>0</td>\n",
              "      <td>0</td>\n",
              "      <td>0</td>\n",
              "      <td>0</td>\n",
              "      <td>0</td>\n",
              "      <td>0</td>\n",
              "      <td>0</td>\n",
              "      <td>0</td>\n",
              "      <td>0</td>\n",
              "    </tr>\n",
              "    <tr>\n",
              "      <th>127</th>\n",
              "      <td>Godfather, The (1972)</td>\n",
              "      <td>01-Jan-1972</td>\n",
              "      <td>1</td>\n",
              "      <td>0</td>\n",
              "      <td>0</td>\n",
              "      <td>0</td>\n",
              "      <td>0</td>\n",
              "      <td>1</td>\n",
              "      <td>0</td>\n",
              "      <td>1</td>\n",
              "      <td>0</td>\n",
              "      <td>0</td>\n",
              "      <td>0</td>\n",
              "      <td>0</td>\n",
              "      <td>0</td>\n",
              "      <td>0</td>\n",
              "      <td>0</td>\n",
              "      <td>0</td>\n",
              "      <td>0</td>\n",
              "      <td>0</td>\n",
              "    </tr>\n",
              "    <tr>\n",
              "      <th>150</th>\n",
              "      <td>Swingers (1996)</td>\n",
              "      <td>18-Oct-1996</td>\n",
              "      <td>0</td>\n",
              "      <td>0</td>\n",
              "      <td>0</td>\n",
              "      <td>0</td>\n",
              "      <td>1</td>\n",
              "      <td>0</td>\n",
              "      <td>0</td>\n",
              "      <td>1</td>\n",
              "      <td>0</td>\n",
              "      <td>0</td>\n",
              "      <td>0</td>\n",
              "      <td>0</td>\n",
              "      <td>0</td>\n",
              "      <td>0</td>\n",
              "      <td>0</td>\n",
              "      <td>0</td>\n",
              "      <td>0</td>\n",
              "      <td>0</td>\n",
              "    </tr>\n",
              "    <tr>\n",
              "      <th>16</th>\n",
              "      <td>French Twist (Gazon maudit) (1995)</td>\n",
              "      <td>01-Jan-1995</td>\n",
              "      <td>0</td>\n",
              "      <td>0</td>\n",
              "      <td>0</td>\n",
              "      <td>0</td>\n",
              "      <td>1</td>\n",
              "      <td>0</td>\n",
              "      <td>0</td>\n",
              "      <td>0</td>\n",
              "      <td>0</td>\n",
              "      <td>0</td>\n",
              "      <td>0</td>\n",
              "      <td>0</td>\n",
              "      <td>0</td>\n",
              "      <td>1</td>\n",
              "      <td>0</td>\n",
              "      <td>0</td>\n",
              "      <td>0</td>\n",
              "      <td>0</td>\n",
              "    </tr>\n",
              "  </tbody>\n",
              "</table>\n",
              "</div>"
            ],
            "text/plain": [
              "                                     Title Release Date  ...  War  Western\n",
              "ItemID                                                   ...              \n",
              "96       Terminator 2: Judgment Day (1991)  01-Jan-1991  ...    0        0\n",
              "48                      Hoop Dreams (1994)  01-Jan-1994  ...    0        0\n",
              "127                  Godfather, The (1972)  01-Jan-1972  ...    0        0\n",
              "150                        Swingers (1996)  18-Oct-1996  ...    0        0\n",
              "16      French Twist (Gazon maudit) (1995)  01-Jan-1995  ...    0        0\n",
              "\n",
              "[5 rows x 20 columns]"
            ]
          },
          "metadata": {
            "tags": []
          },
          "execution_count": 17
        }
      ]
    },
    {
      "cell_type": "markdown",
      "metadata": {
        "id": "ieEWsjY7ecy-",
        "colab_type": "text"
      },
      "source": [
        "What are the recommendations given to the user by our recommender system?"
      ]
    },
    {
      "cell_type": "code",
      "metadata": {
        "id": "paSnYNJmsBfT",
        "colab_type": "code",
        "outputId": "eb7a997d-5076-4570-9c38-ad454533769c",
        "colab": {
          "base_uri": "https://localhost:8080/",
          "height": 337
        }
      },
      "source": [
        "recommendations, scores = iknn_adjusted.rank(UIDX)\n",
        "print(f\"\\nTOP {TOPK} RECOMMENDATIONS FOR USER {UID}:\")\n",
        "print(\"Scores:\", scores[recommendations[:TOPK]])\n",
        "item_df.loc[[int(item_idx2id[i]) for i in recommendations[:TOPK]]]"
      ],
      "execution_count": 18,
      "outputs": [
        {
          "output_type": "stream",
          "text": [
            "\n",
            "TOP 5 RECOMMENDATIONS FOR USER 1:\n",
            "Scores: [4.65533227 4.64790324 4.64234397 4.61749142 4.61334104]\n"
          ],
          "name": "stdout"
        },
        {
          "output_type": "execute_result",
          "data": {
            "text/html": [
              "<div>\n",
              "<style scoped>\n",
              "    .dataframe tbody tr th:only-of-type {\n",
              "        vertical-align: middle;\n",
              "    }\n",
              "\n",
              "    .dataframe tbody tr th {\n",
              "        vertical-align: top;\n",
              "    }\n",
              "\n",
              "    .dataframe thead th {\n",
              "        text-align: right;\n",
              "    }\n",
              "</style>\n",
              "<table border=\"1\" class=\"dataframe\">\n",
              "  <thead>\n",
              "    <tr style=\"text-align: right;\">\n",
              "      <th></th>\n",
              "      <th>Title</th>\n",
              "      <th>Release Date</th>\n",
              "      <th>Action</th>\n",
              "      <th>Adventure</th>\n",
              "      <th>Animation</th>\n",
              "      <th>Children's</th>\n",
              "      <th>Comedy</th>\n",
              "      <th>Crime</th>\n",
              "      <th>Documentary</th>\n",
              "      <th>Drama</th>\n",
              "      <th>Fantasy</th>\n",
              "      <th>Film-Noir</th>\n",
              "      <th>Horror</th>\n",
              "      <th>Musical</th>\n",
              "      <th>Mystery</th>\n",
              "      <th>Romance</th>\n",
              "      <th>Sci-Fi</th>\n",
              "      <th>Thriller</th>\n",
              "      <th>War</th>\n",
              "      <th>Western</th>\n",
              "    </tr>\n",
              "    <tr>\n",
              "      <th>ItemID</th>\n",
              "      <th></th>\n",
              "      <th></th>\n",
              "      <th></th>\n",
              "      <th></th>\n",
              "      <th></th>\n",
              "      <th></th>\n",
              "      <th></th>\n",
              "      <th></th>\n",
              "      <th></th>\n",
              "      <th></th>\n",
              "      <th></th>\n",
              "      <th></th>\n",
              "      <th></th>\n",
              "      <th></th>\n",
              "      <th></th>\n",
              "      <th></th>\n",
              "      <th></th>\n",
              "      <th></th>\n",
              "      <th></th>\n",
              "      <th></th>\n",
              "    </tr>\n",
              "  </thead>\n",
              "  <tbody>\n",
              "    <tr>\n",
              "      <th>115</th>\n",
              "      <td>Haunted World of Edward D. Wood Jr., The (1995)</td>\n",
              "      <td>26-Apr-1996</td>\n",
              "      <td>0</td>\n",
              "      <td>0</td>\n",
              "      <td>0</td>\n",
              "      <td>0</td>\n",
              "      <td>0</td>\n",
              "      <td>0</td>\n",
              "      <td>1</td>\n",
              "      <td>0</td>\n",
              "      <td>0</td>\n",
              "      <td>0</td>\n",
              "      <td>0</td>\n",
              "      <td>0</td>\n",
              "      <td>0</td>\n",
              "      <td>0</td>\n",
              "      <td>0</td>\n",
              "      <td>0</td>\n",
              "      <td>0</td>\n",
              "      <td>0</td>\n",
              "    </tr>\n",
              "    <tr>\n",
              "      <th>113</th>\n",
              "      <td>Horseman on the Roof, The (Hussard sur le toit...</td>\n",
              "      <td>19-Apr-1996</td>\n",
              "      <td>0</td>\n",
              "      <td>0</td>\n",
              "      <td>0</td>\n",
              "      <td>0</td>\n",
              "      <td>0</td>\n",
              "      <td>0</td>\n",
              "      <td>0</td>\n",
              "      <td>1</td>\n",
              "      <td>0</td>\n",
              "      <td>0</td>\n",
              "      <td>0</td>\n",
              "      <td>0</td>\n",
              "      <td>0</td>\n",
              "      <td>0</td>\n",
              "      <td>0</td>\n",
              "      <td>0</td>\n",
              "      <td>0</td>\n",
              "      <td>0</td>\n",
              "    </tr>\n",
              "    <tr>\n",
              "      <th>181</th>\n",
              "      <td>Return of the Jedi (1983)</td>\n",
              "      <td>14-Mar-1997</td>\n",
              "      <td>1</td>\n",
              "      <td>1</td>\n",
              "      <td>0</td>\n",
              "      <td>0</td>\n",
              "      <td>0</td>\n",
              "      <td>0</td>\n",
              "      <td>0</td>\n",
              "      <td>0</td>\n",
              "      <td>0</td>\n",
              "      <td>0</td>\n",
              "      <td>0</td>\n",
              "      <td>0</td>\n",
              "      <td>0</td>\n",
              "      <td>1</td>\n",
              "      <td>1</td>\n",
              "      <td>0</td>\n",
              "      <td>1</td>\n",
              "      <td>0</td>\n",
              "    </tr>\n",
              "    <tr>\n",
              "      <th>165</th>\n",
              "      <td>Jean de Florette (1986)</td>\n",
              "      <td>01-Jan-1986</td>\n",
              "      <td>0</td>\n",
              "      <td>0</td>\n",
              "      <td>0</td>\n",
              "      <td>0</td>\n",
              "      <td>0</td>\n",
              "      <td>0</td>\n",
              "      <td>0</td>\n",
              "      <td>1</td>\n",
              "      <td>0</td>\n",
              "      <td>0</td>\n",
              "      <td>0</td>\n",
              "      <td>0</td>\n",
              "      <td>0</td>\n",
              "      <td>0</td>\n",
              "      <td>0</td>\n",
              "      <td>0</td>\n",
              "      <td>0</td>\n",
              "      <td>0</td>\n",
              "    </tr>\n",
              "    <tr>\n",
              "      <th>198</th>\n",
              "      <td>Nikita (La Femme Nikita) (1990)</td>\n",
              "      <td>01-Jan-1990</td>\n",
              "      <td>0</td>\n",
              "      <td>0</td>\n",
              "      <td>0</td>\n",
              "      <td>0</td>\n",
              "      <td>0</td>\n",
              "      <td>0</td>\n",
              "      <td>0</td>\n",
              "      <td>0</td>\n",
              "      <td>0</td>\n",
              "      <td>0</td>\n",
              "      <td>0</td>\n",
              "      <td>0</td>\n",
              "      <td>0</td>\n",
              "      <td>0</td>\n",
              "      <td>0</td>\n",
              "      <td>1</td>\n",
              "      <td>0</td>\n",
              "      <td>0</td>\n",
              "    </tr>\n",
              "  </tbody>\n",
              "</table>\n",
              "</div>"
            ],
            "text/plain": [
              "                                                    Title  ... Western\n",
              "ItemID                                                     ...        \n",
              "115       Haunted World of Edward D. Wood Jr., The (1995)  ...       0\n",
              "113     Horseman on the Roof, The (Hussard sur le toit...  ...       0\n",
              "181                             Return of the Jedi (1983)  ...       0\n",
              "165                               Jean de Florette (1986)  ...       0\n",
              "198                       Nikita (La Femme Nikita) (1990)  ...       0\n",
              "\n",
              "[5 rows x 20 columns]"
            ]
          },
          "metadata": {
            "tags": []
          },
          "execution_count": 18
        }
      ]
    },
    {
      "cell_type": "markdown",
      "metadata": {
        "id": "1Wpj4D5BUGjP",
        "colab_type": "text"
      },
      "source": [
        "Let's take a look at how the nearest-neighbor of each recommended item contributes towards the final scores."
      ]
    },
    {
      "cell_type": "code",
      "metadata": {
        "id": "xao68dD6ATOA",
        "colab_type": "code",
        "outputId": "8a6784e3-df43-4316-fcdb-1569b0e55e79",
        "colab": {
          "base_uri": "https://localhost:8080/",
          "height": 204
        }
      },
      "source": [
        "df = defaultdict(list)\n",
        "score_arr = iknn_adjusted.ui_mat[UIDX].A.ravel()\n",
        "rated_items = np.nonzero(rating_mat[UIDX])[1]\n",
        "for rec in recommendations[:TOPK]:\n",
        "  sim_arr = iknn_adjusted.sim_mat[rec].A.ravel()\n",
        "  nearest_neighbor = rated_items[np.argsort(sim_arr[rated_items])[-1]]\n",
        "  sim = sim_arr[nearest_neighbor]\n",
        "  score = score_arr[nearest_neighbor]\n",
        "  df[\"Recommendation\"].append(item_df.loc[[int(item_idx2id[rec])]][\"Title\"].values[0])\n",
        "  df[\"Item NN\"].append(nearest_neighbor)\n",
        "  df[\"Similarity\"].append(sim)\n",
        "  df[\"Score of the NN\"].append(score)\n",
        "  df[\"Contribution\"].append((score * sim) / np.abs(sim))\n",
        "rec_df = pd.DataFrame.from_dict(df)\n",
        "rec_df"
      ],
      "execution_count": 19,
      "outputs": [
        {
          "output_type": "execute_result",
          "data": {
            "text/html": [
              "<div>\n",
              "<style scoped>\n",
              "    .dataframe tbody tr th:only-of-type {\n",
              "        vertical-align: middle;\n",
              "    }\n",
              "\n",
              "    .dataframe tbody tr th {\n",
              "        vertical-align: top;\n",
              "    }\n",
              "\n",
              "    .dataframe thead th {\n",
              "        text-align: right;\n",
              "    }\n",
              "</style>\n",
              "<table border=\"1\" class=\"dataframe\">\n",
              "  <thead>\n",
              "    <tr style=\"text-align: right;\">\n",
              "      <th></th>\n",
              "      <th>Recommendation</th>\n",
              "      <th>Item NN</th>\n",
              "      <th>Similarity</th>\n",
              "      <th>Score of the NN</th>\n",
              "      <th>Contribution</th>\n",
              "    </tr>\n",
              "  </thead>\n",
              "  <tbody>\n",
              "    <tr>\n",
              "      <th>0</th>\n",
              "      <td>Haunted World of Edward D. Wood Jr., The (1995)</td>\n",
              "      <td>1565</td>\n",
              "      <td>1.0</td>\n",
              "      <td>0.410256</td>\n",
              "      <td>0.410256</td>\n",
              "    </tr>\n",
              "    <tr>\n",
              "      <th>1</th>\n",
              "      <td>Horseman on the Roof, The (Hussard sur le toit...</td>\n",
              "      <td>63</td>\n",
              "      <td>1.0</td>\n",
              "      <td>1.410256</td>\n",
              "      <td>1.410256</td>\n",
              "    </tr>\n",
              "    <tr>\n",
              "      <th>2</th>\n",
              "      <td>Return of the Jedi (1983)</td>\n",
              "      <td>305</td>\n",
              "      <td>1.0</td>\n",
              "      <td>1.410256</td>\n",
              "      <td>1.410256</td>\n",
              "    </tr>\n",
              "    <tr>\n",
              "      <th>3</th>\n",
              "      <td>Jean de Florette (1986)</td>\n",
              "      <td>1278</td>\n",
              "      <td>1.0</td>\n",
              "      <td>0.410256</td>\n",
              "      <td>0.410256</td>\n",
              "    </tr>\n",
              "    <tr>\n",
              "      <th>4</th>\n",
              "      <td>Nikita (La Femme Nikita) (1990)</td>\n",
              "      <td>364</td>\n",
              "      <td>1.0</td>\n",
              "      <td>1.410256</td>\n",
              "      <td>1.410256</td>\n",
              "    </tr>\n",
              "  </tbody>\n",
              "</table>\n",
              "</div>"
            ],
            "text/plain": [
              "                                      Recommendation  ...  Contribution\n",
              "0    Haunted World of Edward D. Wood Jr., The (1995)  ...      0.410256\n",
              "1  Horseman on the Roof, The (Hussard sur le toit...  ...      1.410256\n",
              "2                          Return of the Jedi (1983)  ...      1.410256\n",
              "3                            Jean de Florette (1986)  ...      0.410256\n",
              "4                    Nikita (La Femme Nikita) (1990)  ...      1.410256\n",
              "\n",
              "[5 rows x 5 columns]"
            ]
          },
          "metadata": {
            "tags": []
          },
          "execution_count": 19
        }
      ]
    },
    {
      "cell_type": "markdown",
      "metadata": {
        "id": "wvuD1XBfTNF1",
        "colab_type": "text"
      },
      "source": [
        "Another way to interpret the recommendation is to see how many neighboring items to the recommended item have been previously consumed by the user.  If there are many, then indeed this user may have a preference for similar movies."
      ]
    },
    {
      "cell_type": "code",
      "metadata": {
        "id": "_QQBeqMOszo0",
        "colab_type": "code",
        "outputId": "d8631a89-36b0-47b7-b5e0-ed372213ada3",
        "colab": {
          "base_uri": "https://localhost:8080/",
          "height": 357
        }
      },
      "source": [
        "rated_items = np.nonzero(rating_mat[UIDX])[1]\n",
        "n_nearest_neighbors = []\n",
        "for rec in recommendations[:TOPK]:\n",
        "  nearest_neighbors = np.argsort(iknn_adjusted.sim_mat[rec].A.ravel())[-K:]\n",
        "  n_nearest_neighbors.append(len(np.intersect1d(nearest_neighbors, rated_items)))\n",
        "rec_df[\"Number of rated NN\"] = n_nearest_neighbors\n",
        "\n",
        "fig, ax = plt.subplots(figsize=(14, 5))\n",
        "sns.barplot(x=\"Recommendation\", y=\"Number of rated NN\", data=rec_df, palette=\"ch:.25\", ax=ax);\n",
        "ax.set_xticklabels(textwrap.fill(x.get_text(), 25) for x in ax.get_xticklabels());"
      ],
      "execution_count": 20,
      "outputs": [
        {
          "output_type": "display_data",
          "data": {
            "image/png": "[encoded data removed]",
            "text/plain": [
              "<Figure size 1008x360 with 1 Axes>"
            ]
          },
          "metadata": {
            "tags": [],
            "needs_background": "light"
          }
        }
      ]
    },
    {
      "cell_type": "markdown",
      "metadata": {
        "id": "gZqgMxy26-fH",
        "colab_type": "text"
      },
      "source": [
        "In this case, the top recommendation is *Haunted World of Edward D. Wood Jr., The (1995)*, and 9 movies out of its 50 nearest-neighbors have been rated (probably watched) by the user."
      ]
    },
    {
      "cell_type": "markdown",
      "metadata": {
        "id": "0FmiuTYiP_pB",
        "colab_type": "text"
      },
      "source": [
        "## References\n",
        "\n",
        "1.   Aggarwal, C. C. (2016). Recommender systems (Vol. 1). Cham: Springer International Publishing.\n",
        "2.   Breese, J. S., Heckerman, D., & Kadie, C. (2013). Empirical analysis of predictive algorithms for collaborative filtering. arXiv preprint arXiv:1301.7363.\n",
        "3.   Sarwar, B., Karypis, G., Konstan, J., & Riedl, J. (2001, April). Item-based collaborative filtering recommendation algorithms. In Proceedings of the 10th international conference on World Wide Web (pp. 285-295).\n",
        "\n"
      ]
    }
  ]
}