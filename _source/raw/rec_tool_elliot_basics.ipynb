{
  "nbformat": 4,
  "nbformat_minor": 0,
  "metadata": {
    "colab": {
      "name": "rec-tool-elliot-basics.ipynb",
      "provenance": [],
      "collapsed_sections": [],
      "mount_file_id": "1qni9qFHsRFR3EaFPqoMSDZgdE5niea6c",
      "authorship_tag": "ABX9TyMEshQPPcct3tkytpmavlNg",
      "include_colab_link": true
    },
    "kernelspec": {
      "name": "python3",
      "display_name": "Python 3"
    },
    "language_info": {
      "name": "python"
    }
  },
  "cells": [
    {
      "cell_type": "markdown",
      "metadata": {
        "id": "view-in-github",
        "colab_type": "text"
      },
      "source": [
        "<a href=\"https://colab.research.google.com/github/sparsh-ai/recsys/blob/dev/notebooks/rec_tool_elliot_basics.ipynb\" target=\"_parent\"><img src=\"https://colab.research.google.com/assets/colab-badge.svg\" alt=\"Open In Colab\"/></a>"
      ]
    },
    {
      "cell_type": "code",
      "metadata": {
        "id": "StuviZGV_RBj"
      },
      "source": [
        "!git clone https://github.com//sisinflab/elliot.git\n",
        "%cd elliot\n",
        "!pip install --upgrade pip\n",
        "!pip install -e ."
      ],
      "execution_count": null,
      "outputs": []
    },
    {
      "cell_type": "code",
      "metadata": {
        "id": "5askqAoTKmNn"
      },
      "source": [
        "import zipfile\n",
        "import io\n",
        "import requests\n",
        "import os\n",
        "\n",
        "from elliot.run import run_experiment"
      ],
      "execution_count": 3,
      "outputs": []
    },
    {
      "cell_type": "markdown",
      "metadata": {
        "id": "syLwk3fKNiX7"
      },
      "source": [
        "### Scenario 1 - Basic Configuration"
      ]
    },
    {
      "cell_type": "code",
      "metadata": {
        "colab": {
          "base_uri": "https://localhost:8080/"
        },
        "id": "KILMqpjaMvPe",
        "outputId": "28176204-59c7-4a63-ec14-127e7f9b8dde"
      },
      "source": [
        "%%writefile /content/basic_configuration.yml\n",
        "\n",
        "experiment:\n",
        "  dataset: movielens_1m\n",
        "  data_config:\n",
        "    strategy: dataset\n",
        "    dataset_path: data/movielens_1m/dataset.tsv\n",
        "  splitting:\n",
        "    test_splitting:\n",
        "      strategy: random_subsampling\n",
        "      test_ratio: 0.2\n",
        "  models:\n",
        "    ItemKNN:\n",
        "      meta:\n",
        "        hyper_opt_alg: grid\n",
        "        save_recs: True\n",
        "      neighbors: [50, 100]\n",
        "      similarity: cosine\n",
        "  evaluation:\n",
        "    simple_metrics: [nDCG]\n",
        "  top_k: 10"
      ],
      "execution_count": 18,
      "outputs": [
        {
          "output_type": "stream",
          "text": [
            "Overwriting /content/basic_configuration.yml\n"
          ],
          "name": "stdout"
        }
      ]
    },
    {
      "cell_type": "code",
      "metadata": {
        "colab": {
          "base_uri": "https://localhost:8080/"
        },
        "id": "vnSvYnbwNv8O",
        "outputId": "a4beb6e8-9796-43b7-a09e-f2998b868252"
      },
      "source": [
        "url = \"http://files.grouplens.org/datasets/movielens/ml-1m.zip\"\n",
        "print(f\"Getting Movielens 1Million from : {url} ..\")\n",
        "response = requests.get(url)\n",
        "\n",
        "ml_1m_ratings = []\n",
        "\n",
        "print(\"Extracting ratings.dat ..\")\n",
        "with zipfile.ZipFile(io.BytesIO(response.content)) as zip_ref:\n",
        "    for line in zip_ref.open(\"ml-1m/ratings.dat\"):\n",
        "        ml_1m_ratings.append(str(line, \"utf-8\").replace(\"::\", \"\\t\"))\n",
        "\n",
        "print(\"Printing ratings.tsv to data/movielens_1m/ ..\")\n",
        "\n",
        "os.makedirs(\"data/movielens_1m\", exist_ok=True)\n",
        "with open(\"data/movielens_1m/dataset.tsv\", \"w\") as f:\n",
        "    f.writelines(ml_1m_ratings)"
      ],
      "execution_count": 17,
      "outputs": [
        {
          "output_type": "stream",
          "text": [
            "Getting Movielens 1Million from : http://files.grouplens.org/datasets/movielens/ml-1m.zip ..\n",
            "Extracting ratings.dat ..\n",
            "Printing ratings.tsv to data/movielens_1m/ ..\n"
          ],
          "name": "stdout"
        }
      ]
    },
    {
      "cell_type": "code",
      "metadata": {
        "colab": {
          "base_uri": "https://localhost:8080/"
        },
        "id": "vYO3a79DOZ0N",
        "outputId": "6c2decaa-3d1e-486c-f618-843f0281a222"
      },
      "source": [
        "print(\"Done! We are now starting the Elliot's experiment\")\n",
        "run_experiment(\"basic_configuration.yml\")"
      ],
      "execution_count": 19,
      "outputs": [
        {
          "output_type": "stream",
          "text": [
            "Done! We are now starting the Elliot's experiment\n",
            "2021-04-10 10:09:43.893228: I Start experiment\n",
            "2021-04-10 10:09:43.896840: I There will be the splitting\n",
            "Folds option value is missing. It has been set to 12021-04-10 10:09:44.180499: I /content/data/movielens_1m/dataset.tsv - Loaded\n",
            "\n",
            "\n",
            "Realized a Train/Test splitting strategy\n",
            "\n",
            "2021-04-10 10:10:26.184302: I Statistics\tUsers:\t6040\tItems:\t3674\tTransactions:\t797758\tSparsity:\t0.9640503159845271\n",
            "2021-04-10 10:10:37.613737: I Tuning begun for ItemKNN\n",
            "\n",
            "2021-04-10 10:10:37.613585: I Loading parameters\n",
            "2021-04-10 10:10:37.615534: I Parameter neighbors set to 100\n",
            "2021-04-10 10:10:37.619271: I Parameter similarity set to cosine\n",
            "2021-04-10 10:10:37.621586: I Parameter implementation set to standard\n",
            "2021-04-10 10:10:37.625530: I Hyperparameter tuning exploration:\n",
            "\n",
            "Supported Similarities: ['cosine', 'dot']\n",
            "Supported Distances/Dissimilarities: ['euclidean', 'manhattan', 'haversine', 'chi2', 'cityblock', 'l1', 'l2', 'braycurtis', 'canberra', 'chebyshev', 'correlation', 'dice', 'hamming', 'jaccard', 'kulsinski', 'mahalanobis', 'minkowski', 'rogerstanimoto', 'russellrao', 'seuclidean', 'sokalmichener', 'sokalsneath', 'sqeuclidean', 'yule']\n",
            "\n",
            "2021-04-10 10:10:37.639160: I neighbors set to 100\n",
            "The similarity computation has taken: 2.8214938640594482\n",
            "Transactions: 797758\n",
            "Finished2021-04-10 10:32:46.931535: I \n",
            "Cut-off: 10\n",
            "2021-04-10 10:32:46.933219: I Eval Time: 0.3821225166320801\n",
            "\n",
            "******************************************\n",
            "2021-04-10 10:32:46.937498: I Results\n",
            "2021-04-10 10:32:46.940368: I nDCG\t0.20642\n",
            "2021-04-10 10:32:47.266496: I Hyperparameter tuning exploration:\n",
            "2021-04-10 10:32:47.266408: I Loading parameters\n",
            "2021-04-10 10:32:47.269900: I neighbors set to 50\n",
            "2021-04-10 10:32:47.272770: I Parameter neighbors set to 50\n",
            "2021-04-10 10:32:47.274343: I Parameter similarity set to cosine\n",
            "2021-04-10 10:32:47.279402: I Parameter implementation set to standard\n",
            "\n",
            "Supported Similarities: ['cosine', 'dot']\n",
            "Supported Distances/Dissimilarities: ['euclidean', 'manhattan', 'haversine', 'chi2', 'cityblock', 'l1', 'l2', 'braycurtis', 'canberra', 'chebyshev', 'correlation', 'dice', 'hamming', 'jaccard', 'kulsinski', 'mahalanobis', 'minkowski', 'rogerstanimoto', 'russellrao', 'seuclidean', 'sokalmichener', 'sokalsneath', 'sqeuclidean', 'yule']\n",
            "\n",
            "The similarity computation has taken: 2.542431592941284\n",
            "Transactions: 797758\n",
            "Finished2021-04-10 10:46:15.356104: I \n",
            "Cut-off: 10\n",
            "\n",
            "******************************************\n",
            "2021-04-10 10:46:15.362666: I Eval Time: 0.39870142936706543\n",
            "2021-04-10 10:46:15.370680: I Results\n",
            "2021-04-10 10:46:15.376630: I nDCG\t0.2129\n",
            "2021-04-10 10:46:15.683864: I Tuning ended for ItemKNN\n",
            "2021-04-10 10:46:15.685721: I Loss:\t-0.21290140049850612\n",
            "2021-04-10 10:46:15.691205: I Best Model params:\t{'meta': namespace(hyper_opt_alg='grid', save_recs=True), 'neighbors': 50, 'similarity': 'cosine', 'name': 'ItemKNN_nn:50_sim:cosine_imp:standard'}\n",
            "2021-04-10 10:46:15.696645: I Best Model results:\t{10: {'nDCG': 0.21290140049850612}}\n",
            "2021-04-10 10:46:15.750725: I End experiment\n"
          ],
          "name": "stdout"
        }
      ]
    },
    {
      "cell_type": "code",
      "metadata": {
        "colab": {
          "base_uri": "https://localhost:8080/"
        },
        "id": "Rl4JrdWTOa4w",
        "outputId": "9890053f-b0ff-49ea-a0df-8207eff3d5aa"
      },
      "source": [
        ""
      ],
      "execution_count": 5,
      "outputs": [
        {
          "output_type": "stream",
          "text": [
            "/content\n"
          ],
          "name": "stdout"
        }
      ]
    },
    {
      "cell_type": "code",
      "metadata": {
        "id": "qVB5_YG2Ocvf"
      },
      "source": [
        ""
      ],
      "execution_count": null,
      "outputs": []
    }
  ]
}