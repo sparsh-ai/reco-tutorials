{
 "cells": [
  {
   "cell_type": "code",
   "execution_count": null,
   "metadata": {
    "id": "pGZah_B7-hHN"
   },
   "outputs": [],
   "source": [
    "# !mkdir /content/etc && git clone https://github.com/dao-v/Movie_Recommendation_System.git /content/etc"
   ]
  },
  {
   "cell_type": "code",
   "execution_count": null,
   "metadata": {
    "id": "SFsED7ss0DXM"
   },
   "outputs": [],
   "source": [
    "!mkdir -p /content/data\r\n",
    "%cd /content/data\r\n",
    "!curl -Lo yoochoose-data.7z https://s3-eu-west-1.amazonaws.com/yc-rdata/yoochoose-data.7z\r\n",
    "!7z x yoochoose-data.7z\r\n",
    "\r\n",
    "# import zipfile\r\n",
    "# def extract(filename):\r\n",
    "#     print('Extracting {}...'.format(filename))\r\n",
    "#     zip_ref = zipfile.ZipFile(filename, 'r')\r\n",
    "#     zip_ref.extractall('data')\r\n",
    "#     zip_ref.close()"
   ]
  },
  {
   "cell_type": "code",
   "execution_count": 6,
   "metadata": {
    "executionInfo": {
     "elapsed": 5556,
     "status": "ok",
     "timestamp": 1611389298782,
     "user": {
      "displayName": "Sparsh Agarwal",
      "photoUrl": "",
      "userId": "13037694610922482904"
     },
     "user_tz": -330
    },
    "id": "2G8vIUMPKWh0"
   },
   "outputs": [],
   "source": [
    "import torch\r\n",
    "import argparse\r\n",
    "import logging\r\n",
    "import numpy as np\r\n",
    "import pandas as pd\r\n",
    "from sklearn.preprocessing import LabelEncoder\r\n",
    "\r\n",
    "%reload_ext google.colab.data_table"
   ]
  },
  {
   "cell_type": "code",
   "execution_count": null,
   "metadata": {
    "id": "w0RLACY_SNCm"
   },
   "outputs": [],
   "source": [
    "clicks = pd.read_csv('yoochoose-clicks.dat', header=None, low_memory=False,\r\n",
    "                     dtype={0:np.int32, 1:str, 2:np.int64, 3:str},\r\n",
    "                     names=[\"session_id\", \"timestamp\", \"item_id\", \"category\"])\r\n",
    "clicks.head(20)"
   ]
  },
  {
   "cell_type": "code",
   "execution_count": null,
   "metadata": {
    "id": "mtysi4eiXsOc"
   },
   "outputs": [],
   "source": [
    "buys = pd.read_csv('yoochoose-buys.dat', header=None, low_memory=False,\r\n",
    "                   dtype={0:np.int32, 1:str, 2:np.int64, 3:np.int64, 4:np.int64},\r\n",
    "                   names=[\"session_id\", \"timestamp\", \"item_id\", \"price\", \"quantity\"])\r\n",
    "buys.head(20)"
   ]
  },
  {
   "cell_type": "code",
   "execution_count": 9,
   "metadata": {
    "colab": {
     "base_uri": "https://localhost:8080/"
    },
    "executionInfo": {
     "elapsed": 57406,
     "status": "ok",
     "timestamp": 1611389355162,
     "user": {
      "displayName": "Sparsh Agarwal",
      "photoUrl": "",
      "userId": "13037694610922482904"
     },
     "user_tz": -330
    },
    "id": "pp45so2mu2Sp",
    "outputId": "a33d25a1-c775-4cca-9a45-dd89c100855f"
   },
   "outputs": [
    {
     "name": "stdout",
     "output_type": "stream",
     "text": [
      "    session_id                 timestamp    item_id category\n",
      "24          11  2014-04-03T10:44:35.672Z  214821275        0\n",
      "25          11  2014-04-03T10:45:01.674Z  214821275        0\n",
      "26          11  2014-04-03T10:45:29.873Z  214821371        0\n",
      "27          11  2014-04-03T10:46:12.162Z  214821371        0\n",
      "28          11  2014-04-03T10:46:57.355Z  214821371        0\n",
      "29          11  2014-04-03T10:53:22.572Z  214717089        0\n",
      "30          11  2014-04-03T10:53:49.875Z  214563337        0\n",
      "31          11  2014-04-03T10:55:19.267Z  214706462        0\n",
      "32          11  2014-04-03T10:55:47.327Z  214717436        0\n",
      "33          11  2014-04-03T10:56:30.520Z  214743335        0\n",
      "34          11  2014-04-03T10:57:19.331Z  214826837        0\n",
      "35          11  2014-04-03T10:57:39.433Z  214819762        0\n",
      "    session_id                 timestamp    item_id  price  quantity\n",
      "10          11  2014-04-03T11:04:11.417Z  214821371   1046         1\n",
      "11          11  2014-04-03T11:04:18.097Z  214821371   1046         1\n"
     ]
    }
   ],
   "source": [
    "# query = \"item_id==@item_id & session_id==@session_id\"\r\n",
    "query = \"session_id==@session_id\"\r\n",
    "\r\n",
    "session_id = 11\r\n",
    "print(clicks.query(query))\r\n",
    "print(buys.query(query))"
   ]
  },
  {
   "cell_type": "markdown",
   "metadata": {
    "id": "oBrqvPvLXi_Y"
   },
   "source": [
    "## PyTorch Geometric"
   ]
  },
  {
   "cell_type": "code",
   "execution_count": null,
   "metadata": {
    "id": "Lx10yuM4csfC"
   },
   "outputs": [],
   "source": [
    "!pip install torch-geometric \\\r\n",
    "  torch-sparse==latest+cu101 \\\r\n",
    "  torch-scatter==latest+cu101 \\\r\n",
    "  torch-cluster==latest+cu101 \\\r\n",
    "  -f https://pytorch-geometric.com/whl/torch-1.7.0.html"
   ]
  },
  {
   "cell_type": "code",
   "execution_count": 49,
   "metadata": {
    "executionInfo": {
     "elapsed": 1789,
     "status": "ok",
     "timestamp": 1611394180451,
     "user": {
      "displayName": "Sparsh Agarwal",
      "photoUrl": "",
      "userId": "13037694610922482904"
     },
     "user_tz": -330
    },
    "id": "7rFnMaGjXlVo"
   },
   "outputs": [],
   "source": [
    "import logging\r\n",
    "import numpy as np\r\n",
    "import pandas as pd\r\n",
    "from sklearn.preprocessing import LabelEncoder\r\n",
    "\r\n",
    "from torch_geometric.data import Data, DataLoader\r\n",
    "from torch_geometric.data import InMemoryDataset\r\n",
    "from tqdm import tqdm\r\n",
    "\r\n",
    "import torch\r\n",
    "from torch import nn\r\n",
    "import torch.nn.functional as F\r\n",
    "from torch_geometric.nn import TopKPooling\r\n",
    "from torch_geometric.nn import global_mean_pool as gap, global_max_pool as gmp\r\n",
    "from torch_geometric.nn import MessagePassing\r\n",
    "from torch_geometric.utils import remove_self_loops, add_self_loops\r\n",
    "\r\n",
    "from sklearn.metrics import roc_auc_score\r\n",
    "from torch.utils.tensorboard import SummaryWriter"
   ]
  },
  {
   "cell_type": "code",
   "execution_count": 2,
   "metadata": {
    "executionInfo": {
     "elapsed": 2432,
     "status": "ok",
     "timestamp": 1611391472981,
     "user": {
      "displayName": "Sparsh Agarwal",
      "photoUrl": "",
      "userId": "13037694610922482904"
     },
     "user_tz": -330
    },
    "id": "lnAI7h0zXrnh"
   },
   "outputs": [],
   "source": [
    "device = torch.device('cuda' if torch.cuda.is_available() else 'cpu')\r\n",
    "\r\n",
    "embed_dim = 128\r\n",
    "batch_size = 1024\r\n",
    "num_embeds = 52739\r\n",
    "\r\n",
    "c_file = '/content/data/yoochoose-clicks.dat'\r\n",
    "b_file = '/content/data/yoochoose-buys.dat'\r\n",
    "\r\n",
    "c_index = [\"session_id\", \"timestamp\", \"item_id\", \"category\"]\r\n",
    "b_index = [\"session_id\", \"timestamp\", \"item_id\", \"price\", \"quantity\"]\r\n",
    "\r\n",
    "test_data_file = '/content/data/yoochoose-test.dat'\r\n",
    "\r\n",
    "# Training parameters\r\n",
    "num_workers = 4  # for data-loading\r\n",
    "grad_clip = 5.  # clip gradients at an absolute value of\r\n",
    "print_freq = 10  # print training/validation stats  every __ batches\r\n",
    "checkpoint = None  # path to checkpoint, None if none"
   ]
  },
  {
   "cell_type": "code",
   "execution_count": 3,
   "metadata": {
    "executionInfo": {
     "elapsed": 1780,
     "status": "ok",
     "timestamp": 1611391474275,
     "user": {
      "displayName": "Sparsh Agarwal",
      "photoUrl": "",
      "userId": "13037694610922482904"
     },
     "user_tz": -330
    },
    "id": "hxGYOh2bYJ_y"
   },
   "outputs": [],
   "source": [
    "def clip_gradient(optimizer, grad_clip):\r\n",
    "    \"\"\"\r\n",
    "    Clips gradients computed during backpropagation to avoid explosion of gradients.\r\n",
    "    :param optimizer: optimizer with the gradients to be clipped\r\n",
    "    :param grad_clip: clip value\r\n",
    "    \"\"\"\r\n",
    "    for group in optimizer.param_groups:\r\n",
    "        for param in group['params']:\r\n",
    "            if param.grad is not None:\r\n",
    "                param.grad.data.clamp_(-grad_clip, grad_clip)\r\n",
    "\r\n",
    "\r\n",
    "def save_checkpoint(epoch, epochs_since_improvement, model, optimizer, acc, is_best):\r\n",
    "    state = {'epoch': epoch,\r\n",
    "             'epochs_since_improvement': epochs_since_improvement,\r\n",
    "             'acc': acc,\r\n",
    "             'model': model,\r\n",
    "             'optimizer': optimizer}\r\n",
    "    # filename = 'checkpoint_' + str(epoch) + '_' + str(loss) + '.tar'\r\n",
    "    filename = 'checkpoint.tar'\r\n",
    "    torch.save(state, filename)\r\n",
    "    # If this checkpoint is the best so far, store a copy so it doesn't get overwritten by a worse checkpoint\r\n",
    "    if is_best:\r\n",
    "        torch.save(state, 'BEST_checkpoint.tar')\r\n",
    "\r\n",
    "\r\n",
    "class AverageMeter(object):\r\n",
    "    \"\"\"\r\n",
    "    Keeps track of most recent, average, sum, and count of a metric.\r\n",
    "    \"\"\"\r\n",
    "\r\n",
    "    def __init__(self):\r\n",
    "        self.reset()\r\n",
    "\r\n",
    "    def reset(self):\r\n",
    "        self.val = 0\r\n",
    "        self.avg = 0\r\n",
    "        self.sum = 0\r\n",
    "        self.count = 0\r\n",
    "\r\n",
    "    def update(self, val, n=1):\r\n",
    "        self.val = val\r\n",
    "        self.sum += val * n\r\n",
    "        self.count += n\r\n",
    "        self.avg = self.sum / self.count\r\n",
    "\r\n",
    "\r\n",
    "class LossMeterBag(object):\r\n",
    "\r\n",
    "    def __init__(self, name_list):\r\n",
    "        self.meter_dict = dict()\r\n",
    "        self.name_list = name_list\r\n",
    "        for name in self.name_list:\r\n",
    "            self.meter_dict[name] = AverageMeter()\r\n",
    "\r\n",
    "    def update(self, val_list):\r\n",
    "        for i, name in enumerate(self.name_list):\r\n",
    "            val = val_list[i]\r\n",
    "            self.meter_dict[name].update(val)\r\n",
    "\r\n",
    "    def __str__(self):\r\n",
    "        ret = ''\r\n",
    "        for name in self.name_list:\r\n",
    "            ret += '{0}:\\t {1:.4f}({2:.4f})\\t'.format(name, self.meter_dict[name].val, self.meter_dict[name].avg)\r\n",
    "\r\n",
    "        return ret\r\n",
    "\r\n",
    "\r\n",
    "def adjust_learning_rate(optimizer, shrink_factor):\r\n",
    "    \"\"\"\r\n",
    "    Shrinks learning rate by a specified factor.\r\n",
    "    :param optimizer: optimizer whose learning rate must be shrunk.\r\n",
    "    :param shrink_factor: factor in interval (0, 1) to multiply learning rate with.\r\n",
    "    \"\"\"\r\n",
    "\r\n",
    "    print(\"\\nDECAYING learning rate.\")\r\n",
    "    for param_group in optimizer.param_groups:\r\n",
    "        param_group['lr'] = param_group['lr'] * shrink_factor\r\n",
    "    print(\"The new learning rate is %f\\n\" % (optimizer.param_groups[0]['lr'],))\r\n",
    "\r\n",
    "\r\n",
    "def get_learning_rate(optimizer):\r\n",
    "    return optimizer.param_groups[0]['lr']\r\n",
    "\r\n",
    "\r\n",
    "def accuracy(scores, targets, k=1):\r\n",
    "    batch_size = targets.size(0)\r\n",
    "    _, ind = scores.topk(k, 1, True, True)\r\n",
    "    correct = ind.eq(targets.view(-1, 1).expand_as(ind))\r\n",
    "    correct_total = correct.view(-1).float().sum()  # 0D tensor\r\n",
    "    return correct_total.item() * (100.0 / batch_size)"
   ]
  },
  {
   "cell_type": "code",
   "execution_count": 4,
   "metadata": {
    "colab": {
     "base_uri": "https://localhost:8080/",
     "height": 669
    },
    "executionInfo": {
     "elapsed": 78649,
     "status": "ok",
     "timestamp": 1611391555265,
     "user": {
      "displayName": "Sparsh Agarwal",
      "photoUrl": "",
      "userId": "13037694610922482904"
     },
     "user_tz": -330
    },
    "id": "vKkQZSvIaEPm",
    "outputId": "6fd39085-9fd5-4b48-8062-644b585d62bc"
   },
   "outputs": [
    {
     "data": {
      "text/html": [
       "<div>\n",
       "<style scoped>\n",
       "    .dataframe tbody tr th:only-of-type {\n",
       "        vertical-align: middle;\n",
       "    }\n",
       "\n",
       "    .dataframe tbody tr th {\n",
       "        vertical-align: top;\n",
       "    }\n",
       "\n",
       "    .dataframe thead th {\n",
       "        text-align: right;\n",
       "    }\n",
       "</style>\n",
       "<table border=\"1\" class=\"dataframe\">\n",
       "  <thead>\n",
       "    <tr style=\"text-align: right;\">\n",
       "      <th></th>\n",
       "      <th>session_id</th>\n",
       "      <th>timestamp</th>\n",
       "      <th>item_id</th>\n",
       "      <th>category</th>\n",
       "    </tr>\n",
       "  </thead>\n",
       "  <tbody>\n",
       "    <tr>\n",
       "      <th>0</th>\n",
       "      <td>1</td>\n",
       "      <td>2014-04-07T10:51:09.277Z</td>\n",
       "      <td>214536502</td>\n",
       "      <td>0</td>\n",
       "    </tr>\n",
       "    <tr>\n",
       "      <th>1</th>\n",
       "      <td>1</td>\n",
       "      <td>2014-04-07T10:54:09.868Z</td>\n",
       "      <td>214536500</td>\n",
       "      <td>0</td>\n",
       "    </tr>\n",
       "    <tr>\n",
       "      <th>2</th>\n",
       "      <td>1</td>\n",
       "      <td>2014-04-07T10:54:46.998Z</td>\n",
       "      <td>214536506</td>\n",
       "      <td>0</td>\n",
       "    </tr>\n",
       "    <tr>\n",
       "      <th>3</th>\n",
       "      <td>1</td>\n",
       "      <td>2014-04-07T10:57:00.306Z</td>\n",
       "      <td>214577561</td>\n",
       "      <td>0</td>\n",
       "    </tr>\n",
       "    <tr>\n",
       "      <th>4</th>\n",
       "      <td>2</td>\n",
       "      <td>2014-04-07T13:56:37.614Z</td>\n",
       "      <td>214662742</td>\n",
       "      <td>0</td>\n",
       "    </tr>\n",
       "    <tr>\n",
       "      <th>5</th>\n",
       "      <td>2</td>\n",
       "      <td>2014-04-07T13:57:19.373Z</td>\n",
       "      <td>214662742</td>\n",
       "      <td>0</td>\n",
       "    </tr>\n",
       "    <tr>\n",
       "      <th>6</th>\n",
       "      <td>2</td>\n",
       "      <td>2014-04-07T13:58:37.446Z</td>\n",
       "      <td>214825110</td>\n",
       "      <td>0</td>\n",
       "    </tr>\n",
       "    <tr>\n",
       "      <th>7</th>\n",
       "      <td>2</td>\n",
       "      <td>2014-04-07T13:59:50.710Z</td>\n",
       "      <td>214757390</td>\n",
       "      <td>0</td>\n",
       "    </tr>\n",
       "    <tr>\n",
       "      <th>8</th>\n",
       "      <td>2</td>\n",
       "      <td>2014-04-07T14:00:38.247Z</td>\n",
       "      <td>214757407</td>\n",
       "      <td>0</td>\n",
       "    </tr>\n",
       "    <tr>\n",
       "      <th>9</th>\n",
       "      <td>2</td>\n",
       "      <td>2014-04-07T14:02:36.889Z</td>\n",
       "      <td>214551617</td>\n",
       "      <td>0</td>\n",
       "    </tr>\n",
       "    <tr>\n",
       "      <th>10</th>\n",
       "      <td>3</td>\n",
       "      <td>2014-04-02T13:17:46.940Z</td>\n",
       "      <td>214716935</td>\n",
       "      <td>0</td>\n",
       "    </tr>\n",
       "    <tr>\n",
       "      <th>11</th>\n",
       "      <td>3</td>\n",
       "      <td>2014-04-02T13:26:02.515Z</td>\n",
       "      <td>214774687</td>\n",
       "      <td>0</td>\n",
       "    </tr>\n",
       "    <tr>\n",
       "      <th>12</th>\n",
       "      <td>3</td>\n",
       "      <td>2014-04-02T13:30:12.318Z</td>\n",
       "      <td>214832672</td>\n",
       "      <td>0</td>\n",
       "    </tr>\n",
       "    <tr>\n",
       "      <th>13</th>\n",
       "      <td>4</td>\n",
       "      <td>2014-04-07T12:09:10.948Z</td>\n",
       "      <td>214836765</td>\n",
       "      <td>0</td>\n",
       "    </tr>\n",
       "    <tr>\n",
       "      <th>14</th>\n",
       "      <td>4</td>\n",
       "      <td>2014-04-07T12:26:25.416Z</td>\n",
       "      <td>214706482</td>\n",
       "      <td>0</td>\n",
       "    </tr>\n",
       "    <tr>\n",
       "      <th>15</th>\n",
       "      <td>6</td>\n",
       "      <td>2014-04-06T16:58:20.848Z</td>\n",
       "      <td>214701242</td>\n",
       "      <td>0</td>\n",
       "    </tr>\n",
       "    <tr>\n",
       "      <th>16</th>\n",
       "      <td>6</td>\n",
       "      <td>2014-04-06T17:02:26.976Z</td>\n",
       "      <td>214826623</td>\n",
       "      <td>0</td>\n",
       "    </tr>\n",
       "    <tr>\n",
       "      <th>17</th>\n",
       "      <td>7</td>\n",
       "      <td>2014-04-02T06:38:53.104Z</td>\n",
       "      <td>214826835</td>\n",
       "      <td>0</td>\n",
       "    </tr>\n",
       "    <tr>\n",
       "      <th>18</th>\n",
       "      <td>7</td>\n",
       "      <td>2014-04-02T06:39:05.854Z</td>\n",
       "      <td>214826715</td>\n",
       "      <td>0</td>\n",
       "    </tr>\n",
       "    <tr>\n",
       "      <th>19</th>\n",
       "      <td>8</td>\n",
       "      <td>2014-04-06T08:49:58.728Z</td>\n",
       "      <td>214838855</td>\n",
       "      <td>0</td>\n",
       "    </tr>\n",
       "  </tbody>\n",
       "</table>\n",
       "</div>"
      ],
      "text/plain": [
       "    session_id                 timestamp    item_id category\n",
       "0            1  2014-04-07T10:51:09.277Z  214536502        0\n",
       "1            1  2014-04-07T10:54:09.868Z  214536500        0\n",
       "2            1  2014-04-07T10:54:46.998Z  214536506        0\n",
       "3            1  2014-04-07T10:57:00.306Z  214577561        0\n",
       "4            2  2014-04-07T13:56:37.614Z  214662742        0\n",
       "5            2  2014-04-07T13:57:19.373Z  214662742        0\n",
       "6            2  2014-04-07T13:58:37.446Z  214825110        0\n",
       "7            2  2014-04-07T13:59:50.710Z  214757390        0\n",
       "8            2  2014-04-07T14:00:38.247Z  214757407        0\n",
       "9            2  2014-04-07T14:02:36.889Z  214551617        0\n",
       "10           3  2014-04-02T13:17:46.940Z  214716935        0\n",
       "11           3  2014-04-02T13:26:02.515Z  214774687        0\n",
       "12           3  2014-04-02T13:30:12.318Z  214832672        0\n",
       "13           4  2014-04-07T12:09:10.948Z  214836765        0\n",
       "14           4  2014-04-07T12:26:25.416Z  214706482        0\n",
       "15           6  2014-04-06T16:58:20.848Z  214701242        0\n",
       "16           6  2014-04-06T17:02:26.976Z  214826623        0\n",
       "17           7  2014-04-02T06:38:53.104Z  214826835        0\n",
       "18           7  2014-04-02T06:39:05.854Z  214826715        0\n",
       "19           8  2014-04-06T08:49:58.728Z  214838855        0"
      ]
     },
     "execution_count": 4,
     "metadata": {
      "tags": []
     },
     "output_type": "execute_result"
    }
   ],
   "source": [
    "clicks = pd.read_csv(c_file, header=None, names=c_index, low_memory=False)\r\n",
    "clicks.head(20)"
   ]
  },
  {
   "cell_type": "code",
   "execution_count": 5,
   "metadata": {
    "colab": {
     "base_uri": "https://localhost:8080/",
     "height": 669
    },
    "executionInfo": {
     "elapsed": 77283,
     "status": "ok",
     "timestamp": 1611391556148,
     "user": {
      "displayName": "Sparsh Agarwal",
      "photoUrl": "",
      "userId": "13037694610922482904"
     },
     "user_tz": -330
    },
    "id": "15KNSv74adKp",
    "outputId": "e6bf88cc-1127-48b2-cb4e-395918672d3e"
   },
   "outputs": [
    {
     "data": {
      "text/html": [
       "<div>\n",
       "<style scoped>\n",
       "    .dataframe tbody tr th:only-of-type {\n",
       "        vertical-align: middle;\n",
       "    }\n",
       "\n",
       "    .dataframe tbody tr th {\n",
       "        vertical-align: top;\n",
       "    }\n",
       "\n",
       "    .dataframe thead th {\n",
       "        text-align: right;\n",
       "    }\n",
       "</style>\n",
       "<table border=\"1\" class=\"dataframe\">\n",
       "  <thead>\n",
       "    <tr style=\"text-align: right;\">\n",
       "      <th></th>\n",
       "      <th>session_id</th>\n",
       "      <th>timestamp</th>\n",
       "      <th>item_id</th>\n",
       "      <th>price</th>\n",
       "      <th>quantity</th>\n",
       "    </tr>\n",
       "  </thead>\n",
       "  <tbody>\n",
       "    <tr>\n",
       "      <th>0</th>\n",
       "      <td>420374</td>\n",
       "      <td>2014-04-06T18:44:58.314Z</td>\n",
       "      <td>214537888</td>\n",
       "      <td>12462</td>\n",
       "      <td>1</td>\n",
       "    </tr>\n",
       "    <tr>\n",
       "      <th>1</th>\n",
       "      <td>420374</td>\n",
       "      <td>2014-04-06T18:44:58.325Z</td>\n",
       "      <td>214537850</td>\n",
       "      <td>10471</td>\n",
       "      <td>1</td>\n",
       "    </tr>\n",
       "    <tr>\n",
       "      <th>2</th>\n",
       "      <td>281626</td>\n",
       "      <td>2014-04-06T09:40:13.032Z</td>\n",
       "      <td>214535653</td>\n",
       "      <td>1883</td>\n",
       "      <td>1</td>\n",
       "    </tr>\n",
       "    <tr>\n",
       "      <th>3</th>\n",
       "      <td>420368</td>\n",
       "      <td>2014-04-04T06:13:28.848Z</td>\n",
       "      <td>214530572</td>\n",
       "      <td>6073</td>\n",
       "      <td>1</td>\n",
       "    </tr>\n",
       "    <tr>\n",
       "      <th>4</th>\n",
       "      <td>420368</td>\n",
       "      <td>2014-04-04T06:13:28.858Z</td>\n",
       "      <td>214835025</td>\n",
       "      <td>2617</td>\n",
       "      <td>1</td>\n",
       "    </tr>\n",
       "    <tr>\n",
       "      <th>5</th>\n",
       "      <td>140806</td>\n",
       "      <td>2014-04-07T09:22:28.132Z</td>\n",
       "      <td>214668193</td>\n",
       "      <td>523</td>\n",
       "      <td>1</td>\n",
       "    </tr>\n",
       "    <tr>\n",
       "      <th>6</th>\n",
       "      <td>140806</td>\n",
       "      <td>2014-04-07T09:22:28.176Z</td>\n",
       "      <td>214587399</td>\n",
       "      <td>1046</td>\n",
       "      <td>1</td>\n",
       "    </tr>\n",
       "    <tr>\n",
       "      <th>7</th>\n",
       "      <td>140806</td>\n",
       "      <td>2014-04-07T09:22:28.219Z</td>\n",
       "      <td>214586690</td>\n",
       "      <td>837</td>\n",
       "      <td>1</td>\n",
       "    </tr>\n",
       "    <tr>\n",
       "      <th>8</th>\n",
       "      <td>140806</td>\n",
       "      <td>2014-04-07T09:22:28.268Z</td>\n",
       "      <td>214774667</td>\n",
       "      <td>1151</td>\n",
       "      <td>1</td>\n",
       "    </tr>\n",
       "    <tr>\n",
       "      <th>9</th>\n",
       "      <td>140806</td>\n",
       "      <td>2014-04-07T09:22:28.280Z</td>\n",
       "      <td>214578823</td>\n",
       "      <td>1046</td>\n",
       "      <td>1</td>\n",
       "    </tr>\n",
       "    <tr>\n",
       "      <th>10</th>\n",
       "      <td>11</td>\n",
       "      <td>2014-04-03T11:04:11.417Z</td>\n",
       "      <td>214821371</td>\n",
       "      <td>1046</td>\n",
       "      <td>1</td>\n",
       "    </tr>\n",
       "    <tr>\n",
       "      <th>11</th>\n",
       "      <td>11</td>\n",
       "      <td>2014-04-03T11:04:18.097Z</td>\n",
       "      <td>214821371</td>\n",
       "      <td>1046</td>\n",
       "      <td>1</td>\n",
       "    </tr>\n",
       "    <tr>\n",
       "      <th>12</th>\n",
       "      <td>12</td>\n",
       "      <td>2014-04-02T10:42:17.227Z</td>\n",
       "      <td>214717867</td>\n",
       "      <td>1778</td>\n",
       "      <td>4</td>\n",
       "    </tr>\n",
       "    <tr>\n",
       "      <th>13</th>\n",
       "      <td>489758</td>\n",
       "      <td>2014-04-06T09:59:52.422Z</td>\n",
       "      <td>214826955</td>\n",
       "      <td>1360</td>\n",
       "      <td>2</td>\n",
       "    </tr>\n",
       "    <tr>\n",
       "      <th>14</th>\n",
       "      <td>489758</td>\n",
       "      <td>2014-04-06T09:59:52.476Z</td>\n",
       "      <td>214826715</td>\n",
       "      <td>732</td>\n",
       "      <td>2</td>\n",
       "    </tr>\n",
       "    <tr>\n",
       "      <th>15</th>\n",
       "      <td>489758</td>\n",
       "      <td>2014-04-06T09:59:52.578Z</td>\n",
       "      <td>214827026</td>\n",
       "      <td>1046</td>\n",
       "      <td>1</td>\n",
       "    </tr>\n",
       "    <tr>\n",
       "      <th>16</th>\n",
       "      <td>140802</td>\n",
       "      <td>2014-04-02T16:52:21.678Z</td>\n",
       "      <td>214716984</td>\n",
       "      <td>1883</td>\n",
       "      <td>1</td>\n",
       "    </tr>\n",
       "    <tr>\n",
       "      <th>17</th>\n",
       "      <td>489756</td>\n",
       "      <td>2014-04-05T16:51:59.947Z</td>\n",
       "      <td>214716932</td>\n",
       "      <td>6177</td>\n",
       "      <td>1</td>\n",
       "    </tr>\n",
       "    <tr>\n",
       "      <th>18</th>\n",
       "      <td>420378</td>\n",
       "      <td>2014-04-03T07:41:02.566Z</td>\n",
       "      <td>214821017</td>\n",
       "      <td>1046</td>\n",
       "      <td>1</td>\n",
       "    </tr>\n",
       "    <tr>\n",
       "      <th>19</th>\n",
       "      <td>420378</td>\n",
       "      <td>2014-04-03T07:41:02.616Z</td>\n",
       "      <td>214821020</td>\n",
       "      <td>732</td>\n",
       "      <td>1</td>\n",
       "    </tr>\n",
       "  </tbody>\n",
       "</table>\n",
       "</div>"
      ],
      "text/plain": [
       "    session_id                 timestamp    item_id  price  quantity\n",
       "0       420374  2014-04-06T18:44:58.314Z  214537888  12462         1\n",
       "1       420374  2014-04-06T18:44:58.325Z  214537850  10471         1\n",
       "2       281626  2014-04-06T09:40:13.032Z  214535653   1883         1\n",
       "3       420368  2014-04-04T06:13:28.848Z  214530572   6073         1\n",
       "4       420368  2014-04-04T06:13:28.858Z  214835025   2617         1\n",
       "5       140806  2014-04-07T09:22:28.132Z  214668193    523         1\n",
       "6       140806  2014-04-07T09:22:28.176Z  214587399   1046         1\n",
       "7       140806  2014-04-07T09:22:28.219Z  214586690    837         1\n",
       "8       140806  2014-04-07T09:22:28.268Z  214774667   1151         1\n",
       "9       140806  2014-04-07T09:22:28.280Z  214578823   1046         1\n",
       "10          11  2014-04-03T11:04:11.417Z  214821371   1046         1\n",
       "11          11  2014-04-03T11:04:18.097Z  214821371   1046         1\n",
       "12          12  2014-04-02T10:42:17.227Z  214717867   1778         4\n",
       "13      489758  2014-04-06T09:59:52.422Z  214826955   1360         2\n",
       "14      489758  2014-04-06T09:59:52.476Z  214826715    732         2\n",
       "15      489758  2014-04-06T09:59:52.578Z  214827026   1046         1\n",
       "16      140802  2014-04-02T16:52:21.678Z  214716984   1883         1\n",
       "17      489756  2014-04-05T16:51:59.947Z  214716932   6177         1\n",
       "18      420378  2014-04-03T07:41:02.566Z  214821017   1046         1\n",
       "19      420378  2014-04-03T07:41:02.616Z  214821020    732         1"
      ]
     },
     "execution_count": 5,
     "metadata": {
      "tags": []
     },
     "output_type": "execute_result"
    }
   ],
   "source": [
    "buys = pd.read_csv(b_file, header=None, names=b_index)\r\n",
    "buys.head(20)"
   ]
  },
  {
   "cell_type": "code",
   "execution_count": 6,
   "metadata": {
    "colab": {
     "base_uri": "https://localhost:8080/",
     "height": 204
    },
    "executionInfo": {
     "elapsed": 9600,
     "status": "ok",
     "timestamp": 1611391694735,
     "user": {
      "displayName": "Sparsh Agarwal",
      "photoUrl": "",
      "userId": "13037694610922482904"
     },
     "user_tz": -330
    },
    "id": "vKk2-7Wja3lc",
    "outputId": "d7171745-d687-435a-bfb7-f0a2456850cd"
   },
   "outputs": [
    {
     "data": {
      "text/html": [
       "<div>\n",
       "<style scoped>\n",
       "    .dataframe tbody tr th:only-of-type {\n",
       "        vertical-align: middle;\n",
       "    }\n",
       "\n",
       "    .dataframe tbody tr th {\n",
       "        vertical-align: top;\n",
       "    }\n",
       "\n",
       "    .dataframe thead th {\n",
       "        text-align: right;\n",
       "    }\n",
       "</style>\n",
       "<table border=\"1\" class=\"dataframe\">\n",
       "  <thead>\n",
       "    <tr style=\"text-align: right;\">\n",
       "      <th></th>\n",
       "      <th>session_id</th>\n",
       "      <th>timestamp</th>\n",
       "      <th>item_id</th>\n",
       "      <th>category</th>\n",
       "    </tr>\n",
       "  </thead>\n",
       "  <tbody>\n",
       "    <tr>\n",
       "      <th>0</th>\n",
       "      <td>1</td>\n",
       "      <td>2014-04-07T10:51:09.277Z</td>\n",
       "      <td>2053</td>\n",
       "      <td>0</td>\n",
       "    </tr>\n",
       "    <tr>\n",
       "      <th>1</th>\n",
       "      <td>1</td>\n",
       "      <td>2014-04-07T10:54:09.868Z</td>\n",
       "      <td>2052</td>\n",
       "      <td>0</td>\n",
       "    </tr>\n",
       "    <tr>\n",
       "      <th>2</th>\n",
       "      <td>1</td>\n",
       "      <td>2014-04-07T10:54:46.998Z</td>\n",
       "      <td>2054</td>\n",
       "      <td>0</td>\n",
       "    </tr>\n",
       "    <tr>\n",
       "      <th>3</th>\n",
       "      <td>1</td>\n",
       "      <td>2014-04-07T10:57:00.306Z</td>\n",
       "      <td>9876</td>\n",
       "      <td>0</td>\n",
       "    </tr>\n",
       "    <tr>\n",
       "      <th>4</th>\n",
       "      <td>2</td>\n",
       "      <td>2014-04-07T13:56:37.614Z</td>\n",
       "      <td>19448</td>\n",
       "      <td>0</td>\n",
       "    </tr>\n",
       "  </tbody>\n",
       "</table>\n",
       "</div>"
      ],
      "text/plain": [
       "   session_id                 timestamp  item_id category\n",
       "0           1  2014-04-07T10:51:09.277Z     2053        0\n",
       "1           1  2014-04-07T10:54:09.868Z     2052        0\n",
       "2           1  2014-04-07T10:54:46.998Z     2054        0\n",
       "3           1  2014-04-07T10:57:00.306Z     9876        0\n",
       "4           2  2014-04-07T13:56:37.614Z    19448        0"
      ]
     },
     "execution_count": 6,
     "metadata": {
      "tags": []
     },
     "output_type": "execute_result"
    }
   ],
   "source": [
    "item_encoder = LabelEncoder()\r\n",
    "clicks['item_id'] = item_encoder.fit_transform(clicks.item_id)\r\n",
    "clicks.head()"
   ]
  },
  {
   "cell_type": "code",
   "execution_count": 7,
   "metadata": {
    "colab": {
     "base_uri": "https://localhost:8080/"
    },
    "executionInfo": {
     "elapsed": 11015,
     "status": "ok",
     "timestamp": 1611391747443,
     "user": {
      "displayName": "Sparsh Agarwal",
      "photoUrl": "",
      "userId": "13037694610922482904"
     },
     "user_tz": -330
    },
    "id": "kkOar0F7bh7n",
    "outputId": "e14e4775-2dac-488e-bcce-a020c18f6461"
   },
   "outputs": [
    {
     "data": {
      "text/plain": [
       "session_id    1000000\n",
       "timestamp     3565095\n",
       "item_id         35621\n",
       "category          235\n",
       "dtype: int64"
      ]
     },
     "execution_count": 7,
     "metadata": {
      "tags": []
     },
     "output_type": "execute_result"
    }
   ],
   "source": [
    "# randomly sample a couple of them\r\n",
    "sampled_session_id = np.random.choice(clicks.session_id.unique(), 1000000, replace=False)\r\n",
    "clicks = clicks.loc[clicks.session_id.isin(sampled_session_id)]\r\n",
    "clicks.nunique()"
   ]
  },
  {
   "cell_type": "code",
   "execution_count": 8,
   "metadata": {
    "colab": {
     "base_uri": "https://localhost:8080/",
     "height": 204
    },
    "executionInfo": {
     "elapsed": 1392,
     "status": "ok",
     "timestamp": 1611391865406,
     "user": {
      "displayName": "Sparsh Agarwal",
      "photoUrl": "",
      "userId": "13037694610922482904"
     },
     "user_tz": -330
    },
    "id": "2HZEY1GWcBo6",
    "outputId": "dccade6d-dc9d-499e-9abb-097a30ff9910"
   },
   "outputs": [
    {
     "data": {
      "text/html": [
       "<div>\n",
       "<style scoped>\n",
       "    .dataframe tbody tr th:only-of-type {\n",
       "        vertical-align: middle;\n",
       "    }\n",
       "\n",
       "    .dataframe tbody tr th {\n",
       "        vertical-align: top;\n",
       "    }\n",
       "\n",
       "    .dataframe thead th {\n",
       "        text-align: right;\n",
       "    }\n",
       "</style>\n",
       "<table border=\"1\" class=\"dataframe\">\n",
       "  <thead>\n",
       "    <tr style=\"text-align: right;\">\n",
       "      <th></th>\n",
       "      <th>session_id</th>\n",
       "      <th>timestamp</th>\n",
       "      <th>item_id</th>\n",
       "      <th>category</th>\n",
       "      <th>label</th>\n",
       "    </tr>\n",
       "  </thead>\n",
       "  <tbody>\n",
       "    <tr>\n",
       "      <th>38</th>\n",
       "      <td>13</td>\n",
       "      <td>2014-04-06T14:50:13.638Z</td>\n",
       "      <td>44324</td>\n",
       "      <td>0</td>\n",
       "      <td>False</td>\n",
       "    </tr>\n",
       "    <tr>\n",
       "      <th>39</th>\n",
       "      <td>13</td>\n",
       "      <td>2014-04-06T14:52:54.363Z</td>\n",
       "      <td>22423</td>\n",
       "      <td>0</td>\n",
       "      <td>False</td>\n",
       "    </tr>\n",
       "    <tr>\n",
       "      <th>40</th>\n",
       "      <td>13</td>\n",
       "      <td>2014-04-06T14:53:18.268Z</td>\n",
       "      <td>44324</td>\n",
       "      <td>0</td>\n",
       "      <td>False</td>\n",
       "    </tr>\n",
       "    <tr>\n",
       "      <th>172</th>\n",
       "      <td>54</td>\n",
       "      <td>2014-04-01T07:33:07.173Z</td>\n",
       "      <td>39369</td>\n",
       "      <td>0</td>\n",
       "      <td>False</td>\n",
       "    </tr>\n",
       "    <tr>\n",
       "      <th>173</th>\n",
       "      <td>54</td>\n",
       "      <td>2014-04-01T07:40:28.688Z</td>\n",
       "      <td>29009</td>\n",
       "      <td>0</td>\n",
       "      <td>False</td>\n",
       "    </tr>\n",
       "  </tbody>\n",
       "</table>\n",
       "</div>"
      ],
      "text/plain": [
       "     session_id                 timestamp  item_id category  label\n",
       "38           13  2014-04-06T14:50:13.638Z    44324        0  False\n",
       "39           13  2014-04-06T14:52:54.363Z    22423        0  False\n",
       "40           13  2014-04-06T14:53:18.268Z    44324        0  False\n",
       "172          54  2014-04-01T07:33:07.173Z    39369        0  False\n",
       "173          54  2014-04-01T07:40:28.688Z    29009        0  False"
      ]
     },
     "execution_count": 8,
     "metadata": {
      "tags": []
     },
     "output_type": "execute_result"
    }
   ],
   "source": [
    "clicks['label'] = clicks.session_id.isin(buys.session_id)\r\n",
    "clicks.head()"
   ]
  },
  {
   "cell_type": "code",
   "execution_count": 9,
   "metadata": {
    "executionInfo": {
     "elapsed": 6587,
     "status": "ok",
     "timestamp": 1611391916642,
     "user": {
      "displayName": "Sparsh Agarwal",
      "photoUrl": "",
      "userId": "13037694610922482904"
     },
     "user_tz": -330
    },
    "id": "WOCfAg-2cTOY"
   },
   "outputs": [],
   "source": [
    "processed_path = '/content/data/yoochoose_click_binary_1M_sess.dataset'\r\n",
    "with open(processed_path, 'wb') as f:\r\n",
    "    torch.save(clicks, f)"
   ]
  },
  {
   "cell_type": "code",
   "execution_count": 10,
   "metadata": {
    "colab": {
     "base_uri": "https://localhost:8080/"
    },
    "executionInfo": {
     "elapsed": 838,
     "status": "ok",
     "timestamp": 1611391942173,
     "user": {
      "displayName": "Sparsh Agarwal",
      "photoUrl": "",
      "userId": "13037694610922482904"
     },
     "user_tz": -330
    },
    "id": "KfSfiLBBYAhU",
    "outputId": "62064313-b64d-484b-cc8e-cd84bfd49f9e"
   },
   "outputs": [
    {
     "name": "stdout",
     "output_type": "stream",
     "text": [
      "num_embeddings: 52710\n"
     ]
    }
   ],
   "source": [
    "num_embeddings = clicks.item_id.max() + 1\r\n",
    "print('num_embeddings: ' + str(num_embeddings))"
   ]
  },
  {
   "cell_type": "code",
   "execution_count": 45,
   "metadata": {
    "executionInfo": {
     "elapsed": 4950,
     "status": "ok",
     "timestamp": 1611393876609,
     "user": {
      "displayName": "Sparsh Agarwal",
      "photoUrl": "",
      "userId": "13037694610922482904"
     },
     "user_tz": -330
    },
    "id": "6I3uavyUYGw7"
   },
   "outputs": [],
   "source": [
    "df = torch.load('/content/data/yoochoose_click_binary_1M_sess.dataset')"
   ]
  },
  {
   "cell_type": "code",
   "execution_count": 46,
   "metadata": {
    "executionInfo": {
     "elapsed": 1401,
     "status": "ok",
     "timestamp": 1611393912887,
     "user": {
      "displayName": "Sparsh Agarwal",
      "photoUrl": "",
      "userId": "13037694610922482904"
     },
     "user_tz": -330
    },
    "id": "rnCYZXQZaJa8"
   },
   "outputs": [],
   "source": [
    "class YooChooseBinaryDataset(InMemoryDataset):\r\n",
    "    def __init__(self, root, transform=None, pre_transform=None):\r\n",
    "        super(YooChooseBinaryDataset, self).__init__(root, transform, pre_transform)\r\n",
    "        self.data, self.slices = torch.load(self.processed_paths[0])\r\n",
    "\r\n",
    "    @property\r\n",
    "    def raw_file_names(self):\r\n",
    "        return []\r\n",
    "\r\n",
    "    @property\r\n",
    "    def processed_file_names(self):\r\n",
    "        return ['yoochoose_click_binary_1M_sess.dataset']\r\n",
    "\r\n",
    "    def download(self):\r\n",
    "        pass\r\n",
    "\r\n",
    "    def process(self):\r\n",
    "        data_list = []\r\n",
    "\r\n",
    "        # process by session_id\r\n",
    "        grouped = df.groupby('session_id')\r\n",
    "        for session_id, group in tqdm(grouped):\r\n",
    "            sess_item_id = LabelEncoder().fit_transform(group.item_id)\r\n",
    "            group = group.reset_index(drop=True)\r\n",
    "            group['sess_item_id'] = sess_item_id\r\n",
    "            node_features = group.loc[group.session_id == session_id, ['sess_item_id', 'item_id']].sort_values(\r\n",
    "                'sess_item_id').item_id.drop_duplicates().values\r\n",
    "\r\n",
    "            node_features = torch.LongTensor(node_features).unsqueeze(1)\r\n",
    "            target_nodes = group.sess_item_id.values[1:]\r\n",
    "            source_nodes = group.sess_item_id.values[:-1]\r\n",
    "\r\n",
    "            edge_index = torch.tensor([source_nodes,\r\n",
    "                                       target_nodes], dtype=torch.long)\r\n",
    "            x = node_features\r\n",
    "\r\n",
    "            y = torch.FloatTensor([group.label.values[0]])\r\n",
    "\r\n",
    "            data = Data(x=x, edge_index=edge_index, y=y)\r\n",
    "            data_list.append(data)\r\n",
    "\r\n",
    "        data, slices = self.collate(data_list)\r\n",
    "        torch.save((data, slices), self.processed_paths[0])"
   ]
  },
  {
   "cell_type": "code",
   "execution_count": 48,
   "metadata": {
    "executionInfo": {
     "elapsed": 3273,
     "status": "ok",
     "timestamp": 1611394124312,
     "user": {
      "displayName": "Sparsh Agarwal",
      "photoUrl": "",
      "userId": "13037694610922482904"
     },
     "user_tz": -330
    },
    "id": "PMnMOJDLYauA"
   },
   "outputs": [],
   "source": [
    "class SAGEConv(MessagePassing):\r\n",
    "    def __init__(self, in_channels, out_channels):\r\n",
    "        super(SAGEConv, self).__init__(aggr='max')  # \"Max\" aggregation.\r\n",
    "        self.lin = torch.nn.Linear(in_channels, out_channels)\r\n",
    "        self.act = torch.nn.ReLU()\r\n",
    "        self.update_lin = torch.nn.Linear(in_channels + out_channels, in_channels, bias=False)\r\n",
    "        self.update_act = torch.nn.ReLU()\r\n",
    "\r\n",
    "    def forward(self, x, edge_index):\r\n",
    "        # x has shape [N, in_channels]\r\n",
    "        # edge_index has shape [2, E]\r\n",
    "\r\n",
    "        edge_index, _ = remove_self_loops(edge_index)\r\n",
    "        edge_index, _ = add_self_loops(edge_index, num_nodes=x.size(0))\r\n",
    "\r\n",
    "        return self.propagate(edge_index, size=(x.size(0), x.size(0)), x=x)\r\n",
    "\r\n",
    "    def message(self, x_j):\r\n",
    "        # x_j has shape [E, in_channels]\r\n",
    "\r\n",
    "        x_j = self.lin(x_j)\r\n",
    "        x_j = self.act(x_j)\r\n",
    "\r\n",
    "        return x_j\r\n",
    "\r\n",
    "    def update(self, aggr_out, x):\r\n",
    "        # aggr_out has shape [N, out_channels]\r\n",
    "\r\n",
    "        new_embedding = torch.cat([aggr_out, x], dim=1)\r\n",
    "\r\n",
    "        new_embedding = self.update_lin(new_embedding)\r\n",
    "        new_embedding = self.update_act(new_embedding)\r\n",
    "        return new_embedding"
   ]
  },
  {
   "cell_type": "code",
   "execution_count": 50,
   "metadata": {
    "executionInfo": {
     "elapsed": 4074,
     "status": "ok",
     "timestamp": 1611394372705,
     "user": {
      "displayName": "Sparsh Agarwal",
      "photoUrl": "",
      "userId": "13037694610922482904"
     },
     "user_tz": -330
    },
    "id": "B3gxUcZmZ62H"
   },
   "outputs": [],
   "source": [
    "class Net(torch.nn.Module):\r\n",
    "    def __init__(self):\r\n",
    "        super(Net, self).__init__()\r\n",
    "\r\n",
    "        self.conv1 = SAGEConv(embed_dim, 128)\r\n",
    "        self.pool1 = TopKPooling(128, ratio=0.8)\r\n",
    "        self.conv2 = SAGEConv(128, 128)\r\n",
    "        self.pool2 = TopKPooling(128, ratio=0.8)\r\n",
    "        self.conv3 = SAGEConv(128, 128)\r\n",
    "        self.pool3 = TopKPooling(128, ratio=0.8)\r\n",
    "        self.item_embedding = torch.nn.Embedding(num_embeddings=num_embeds, embedding_dim=embed_dim)\r\n",
    "        self.lin1 = torch.nn.Linear(256, 128)\r\n",
    "        self.lin2 = torch.nn.Linear(128, 64)\r\n",
    "        self.lin3 = torch.nn.Linear(64, 1)\r\n",
    "        self.bn1 = torch.nn.BatchNorm1d(128)\r\n",
    "        self.bn2 = torch.nn.BatchNorm1d(64)\r\n",
    "        self.act1 = torch.nn.ReLU()\r\n",
    "        self.act2 = torch.nn.ReLU()\r\n",
    "\r\n",
    "    def forward(self, data):\r\n",
    "        x, edge_index, batch = data.x, data.edge_index, data.batch\r\n",
    "        x = self.item_embedding(x)\r\n",
    "        x = x.squeeze(1)\r\n",
    "\r\n",
    "        x = F.relu(self.conv1(x, edge_index))\r\n",
    "\r\n",
    "        x, edge_index, _, batch, _, _ = self.pool1(x, edge_index, None, batch)\r\n",
    "        x1 = torch.cat([gmp(x, batch), gap(x, batch)], dim=1)\r\n",
    "\r\n",
    "        x = F.relu(self.conv2(x, edge_index))\r\n",
    "\r\n",
    "        x, edge_index, _, batch, _, _ = self.pool2(x, edge_index, None, batch)\r\n",
    "        x2 = torch.cat([gmp(x, batch), gap(x, batch)], dim=1)\r\n",
    "\r\n",
    "        x = F.relu(self.conv3(x, edge_index))\r\n",
    "\r\n",
    "        x, edge_index, _, batch, _, _ = self.pool3(x, edge_index, None, batch)\r\n",
    "        x3 = torch.cat([gmp(x, batch), gap(x, batch)], dim=1)\r\n",
    "\r\n",
    "        x = x1 + x2 + x3\r\n",
    "\r\n",
    "        x = self.lin1(x)\r\n",
    "        x = self.act1(x)\r\n",
    "        x = self.lin2(x)\r\n",
    "        x = self.act2(x)\r\n",
    "        x = F.dropout(x, p=0.5, training=self.training)\r\n",
    "\r\n",
    "        x = torch.sigmoid(self.lin3(x)).squeeze(1)\r\n",
    "\r\n",
    "        return x"
   ]
  },
  {
   "cell_type": "code",
   "execution_count": 76,
   "metadata": {
    "executionInfo": {
     "elapsed": 893,
     "status": "ok",
     "timestamp": 1611399629870,
     "user": {
      "displayName": "Sparsh Agarwal",
      "photoUrl": "",
      "userId": "13037694610922482904"
     },
     "user_tz": -330
    },
    "id": "ssXJIeL-ThW7"
   },
   "outputs": [],
   "source": [
    "def train_net(args):\r\n",
    "    torch.manual_seed(7)\r\n",
    "    np.random.seed(7)\r\n",
    "    checkpoint = args.checkpoint\r\n",
    "    start_epoch = 0\r\n",
    "    best_acc = 0\r\n",
    "    writer = SummaryWriter()\r\n",
    "    epochs_since_improvement = 0\r\n",
    "\r\n",
    "    # Initialize / load checkpoint\r\n",
    "    if checkpoint is None:\r\n",
    "        model = Net()\r\n",
    "        model = nn.DataParallel(model)\r\n",
    "\r\n",
    "        optimizer = torch.optim.Adam(model.parameters(), lr=args.lr)\r\n",
    "\r\n",
    "    else:\r\n",
    "        checkpoint = torch.load(checkpoint)\r\n",
    "        start_epoch = checkpoint['epoch'] + 1\r\n",
    "        epochs_since_improvement = checkpoint['epochs_since_improvement']\r\n",
    "        model = checkpoint['model']\r\n",
    "        optimizer = checkpoint['optimizer']\r\n",
    "\r\n",
    "    # Move to GPU, if available\r\n",
    "    model = model.to(device)\r\n",
    "\r\n",
    "    # Loss function\r\n",
    "    criterion = nn.BCELoss()\r\n",
    "\r\n",
    "    # Custom dataloaders\r\n",
    "    dataset = YooChooseBinaryDataset(root='/content/data/')\r\n",
    "    dataset = dataset.shuffle()\r\n",
    "    train_dataset = dataset[:800000]\r\n",
    "    val_dataset = dataset[800000:900000]\r\n",
    "    test_dataset = dataset[900000:]\r\n",
    "    len(train_dataset), len(val_dataset), len(test_dataset)\r\n",
    "    train_loader = DataLoader(train_dataset, batch_size=batch_size)\r\n",
    "    val_loader = DataLoader(val_dataset, batch_size=batch_size)\r\n",
    "    test_loader = DataLoader(test_dataset, batch_size=batch_size)\r\n",
    "\r\n",
    "    # Epochs\r\n",
    "    for epoch in range(start_epoch, args.end_epoch):\r\n",
    "        # One epoch's training\r\n",
    "        train_loss = train(train_loader=train_loader,\r\n",
    "                           model=model,\r\n",
    "                           criterion=criterion,\r\n",
    "                           optimizer=optimizer,\r\n",
    "                           epoch=epoch)\r\n",
    "\r\n",
    "        writer.add_scalar('model/train_loss', train_loss, epoch)\r\n",
    "\r\n",
    "        # One epoch's validation\r\n",
    "        train_acc = evaluate(train_loader, model)\r\n",
    "        val_acc = evaluate(val_loader, model)\r\n",
    "        test_acc = evaluate(test_loader, model)\r\n",
    "        print('Epoch: {:03d}, Loss: {:.5f}, Train Auc: {:.5f}, Val Auc: {:.5f}, Test Auc: {:.5f}'.\r\n",
    "              format(epoch, train_loss, train_acc, val_acc, test_acc))\r\n",
    "\r\n",
    "        writer.add_scalar('model/train_acc', train_acc, epoch)\r\n",
    "        writer.add_scalar('model/val_acc', val_acc, epoch)\r\n",
    "        writer.add_scalar('model/test_acc', test_acc, epoch)\r\n",
    "\r\n",
    "        # Check if there was an improvement\r\n",
    "        is_best = val_acc > best_acc\r\n",
    "        best_acc = max(val_acc, best_acc)\r\n",
    "        if not is_best:\r\n",
    "            epochs_since_improvement += 1\r\n",
    "            print(\"\\nEpochs since last improvement: %d\\n\" % (epochs_since_improvement,))\r\n",
    "        else:\r\n",
    "            epochs_since_improvement = 0\r\n",
    "\r\n",
    "        # Save checkpoint\r\n",
    "        save_checkpoint(epoch, epochs_since_improvement, model, optimizer, best_acc, is_best)\r\n",
    "\r\n",
    "\r\n",
    "def train(train_loader, model, criterion, optimizer, epoch):\r\n",
    "    model.train()  # train mode (dropout and batchnorm is used)\r\n",
    "\r\n",
    "    losses = AverageMeter()\r\n",
    "\r\n",
    "    # Batches\r\n",
    "    for i, data in enumerate(train_loader):\r\n",
    "        # Move to GPU, if available\r\n",
    "        data = data.to(device)\r\n",
    "        label = data.y.to(device)\r\n",
    "\r\n",
    "        # Forward prop.\r\n",
    "        out = model(data)\r\n",
    "\r\n",
    "        # Calculate loss\r\n",
    "        loss = criterion(out, label)\r\n",
    "\r\n",
    "        # Back prop.\r\n",
    "        optimizer.zero_grad()\r\n",
    "        loss.backward()\r\n",
    "\r\n",
    "        # Clip gradients\r\n",
    "        clip_gradient(optimizer, grad_clip)\r\n",
    "\r\n",
    "        # Update weights\r\n",
    "        optimizer.step()\r\n",
    "\r\n",
    "        # Keep track of metrics\r\n",
    "        losses.update(loss.item())\r\n",
    "\r\n",
    "        # Print status\r\n",
    "        if i % print_freq == 0:\r\n",
    "            status = 'Epoch: [{0}][{1}/{2}]\\t' \\\r\n",
    "                     'Loss {loss.val:.5f} ({loss.avg:.5f})\\t'.format(epoch, i,\r\n",
    "                                                                     len(train_loader),\r\n",
    "                                                                     loss=losses,\r\n",
    "                                                                     )\r\n",
    "\r\n",
    "    return losses.avg\r\n",
    "\r\n",
    "\r\n",
    "def evaluate(loader, model):\r\n",
    "    model.eval()  # eval mode (dropout and batchnorm is NOT used)\r\n",
    "\r\n",
    "    predictions = []\r\n",
    "    labels = []\r\n",
    "\r\n",
    "    # Batches\r\n",
    "    with torch.no_grad():\r\n",
    "        for data in loader:\r\n",
    "            data = data.to(device)\r\n",
    "            pred = model(data).detach().cpu().numpy()\r\n",
    "\r\n",
    "            label = data.y.detach().cpu().numpy()\r\n",
    "            predictions.append(pred)\r\n",
    "            labels.append(label)\r\n",
    "\r\n",
    "    predictions = np.hstack(predictions)\r\n",
    "    labels = np.hstack(labels)\r\n",
    "\r\n",
    "    return roc_auc_score(labels, predictions)"
   ]
  },
  {
   "cell_type": "code",
   "execution_count": 74,
   "metadata": {
    "executionInfo": {
     "elapsed": 1623,
     "status": "ok",
     "timestamp": 1611395780857,
     "user": {
      "displayName": "Sparsh Agarwal",
      "photoUrl": "",
      "userId": "13037694610922482904"
     },
     "user_tz": -330
    },
    "id": "FBhGcfycp-wX"
   },
   "outputs": [],
   "source": [
    "class Args:\r\n",
    "    lr = 0.005\r\n",
    "    end_epoch = 1000\r\n",
    "    weight_decay = 0.0\r\n",
    "    batch_size = 32\r\n",
    "    checkpoint = None"
   ]
  },
  {
   "cell_type": "code",
   "execution_count": 86,
   "metadata": {
    "colab": {
     "base_uri": "https://localhost:8080/",
     "height": 340
    },
    "executionInfo": {
     "elapsed": 947890,
     "status": "error",
     "timestamp": 1611402683006,
     "user": {
      "displayName": "Sparsh Agarwal",
      "photoUrl": "",
      "userId": "13037694610922482904"
     },
     "user_tz": -330
    },
    "id": "gq5V-q10ouA9",
    "outputId": "fb36f30f-70c2-4dfd-b573-443dfdef7fb0"
   },
   "outputs": [
    {
     "name": "stdout",
     "output_type": "stream",
     "text": [
      "Epoch: 000, Loss: 0.20574, Train Auc: 0.78789, Val Auc: 0.73940, Test Auc: 0.73935\n"
     ]
    },
    {
     "ename": "PicklingError",
     "evalue": "ignored",
     "output_type": "error",
     "traceback": [
      "\u001b[0;31m---------------------------------------------------------------------------\u001b[0m",
      "\u001b[0;31mPicklingError\u001b[0m                             Traceback (most recent call last)",
      "\u001b[0;32m<ipython-input-86-d2622199867e>\u001b[0m in \u001b[0;36m<module>\u001b[0;34m()\u001b[0m\n\u001b[1;32m      1\u001b[0m \u001b[0mag\u001b[0m \u001b[0;34m=\u001b[0m \u001b[0mArgs\u001b[0m\u001b[0;34m(\u001b[0m\u001b[0;34m)\u001b[0m\u001b[0;34m\u001b[0m\u001b[0;34m\u001b[0m\u001b[0m\n\u001b[0;32m----> 2\u001b[0;31m \u001b[0mtrain_net\u001b[0m\u001b[0;34m(\u001b[0m\u001b[0mag\u001b[0m\u001b[0;34m)\u001b[0m\u001b[0;34m\u001b[0m\u001b[0;34m\u001b[0m\u001b[0m\n\u001b[0m",
      "\u001b[0;32m<ipython-input-76-2773c20a9189>\u001b[0m in \u001b[0;36mtrain_net\u001b[0;34m(args)\u001b[0m\n\u001b[1;32m     71\u001b[0m \u001b[0;34m\u001b[0m\u001b[0m\n\u001b[1;32m     72\u001b[0m         \u001b[0;31m# Save checkpoint\u001b[0m\u001b[0;34m\u001b[0m\u001b[0;34m\u001b[0m\u001b[0;34m\u001b[0m\u001b[0m\n\u001b[0;32m---> 73\u001b[0;31m         \u001b[0msave_checkpoint\u001b[0m\u001b[0;34m(\u001b[0m\u001b[0mepoch\u001b[0m\u001b[0;34m,\u001b[0m \u001b[0mepochs_since_improvement\u001b[0m\u001b[0;34m,\u001b[0m \u001b[0mmodel\u001b[0m\u001b[0;34m,\u001b[0m \u001b[0moptimizer\u001b[0m\u001b[0;34m,\u001b[0m \u001b[0mbest_acc\u001b[0m\u001b[0;34m,\u001b[0m \u001b[0mis_best\u001b[0m\u001b[0;34m)\u001b[0m\u001b[0;34m\u001b[0m\u001b[0;34m\u001b[0m\u001b[0m\n\u001b[0m\u001b[1;32m     74\u001b[0m \u001b[0;34m\u001b[0m\u001b[0m\n\u001b[1;32m     75\u001b[0m \u001b[0;34m\u001b[0m\u001b[0m\n",
      "\u001b[0;32m<ipython-input-3-d80e1e82537f>\u001b[0m in \u001b[0;36msave_checkpoint\u001b[0;34m(epoch, epochs_since_improvement, model, optimizer, acc, is_best)\u001b[0m\n\u001b[1;32m     19\u001b[0m     \u001b[0;31m# filename = 'checkpoint_' + str(epoch) + '_' + str(loss) + '.tar'\u001b[0m\u001b[0;34m\u001b[0m\u001b[0;34m\u001b[0m\u001b[0;34m\u001b[0m\u001b[0m\n\u001b[1;32m     20\u001b[0m     \u001b[0mfilename\u001b[0m \u001b[0;34m=\u001b[0m \u001b[0;34m'checkpoint.tar'\u001b[0m\u001b[0;34m\u001b[0m\u001b[0;34m\u001b[0m\u001b[0m\n\u001b[0;32m---> 21\u001b[0;31m     \u001b[0mtorch\u001b[0m\u001b[0;34m.\u001b[0m\u001b[0msave\u001b[0m\u001b[0;34m(\u001b[0m\u001b[0mstate\u001b[0m\u001b[0;34m,\u001b[0m \u001b[0mfilename\u001b[0m\u001b[0;34m)\u001b[0m\u001b[0;34m\u001b[0m\u001b[0;34m\u001b[0m\u001b[0m\n\u001b[0m\u001b[1;32m     22\u001b[0m     \u001b[0;31m# If this checkpoint is the best so far, store a copy so it doesn't get overwritten by a worse checkpoint\u001b[0m\u001b[0;34m\u001b[0m\u001b[0;34m\u001b[0m\u001b[0;34m\u001b[0m\u001b[0m\n\u001b[1;32m     23\u001b[0m     \u001b[0;32mif\u001b[0m \u001b[0mis_best\u001b[0m\u001b[0;34m:\u001b[0m\u001b[0;34m\u001b[0m\u001b[0;34m\u001b[0m\u001b[0m\n",
      "\u001b[0;32m/usr/local/lib/python3.6/dist-packages/torch/serialization.py\u001b[0m in \u001b[0;36msave\u001b[0;34m(obj, f, pickle_module, pickle_protocol, _use_new_zipfile_serialization)\u001b[0m\n\u001b[1;32m    370\u001b[0m         \u001b[0;32mif\u001b[0m \u001b[0m_use_new_zipfile_serialization\u001b[0m\u001b[0;34m:\u001b[0m\u001b[0;34m\u001b[0m\u001b[0;34m\u001b[0m\u001b[0m\n\u001b[1;32m    371\u001b[0m             \u001b[0;32mwith\u001b[0m \u001b[0m_open_zipfile_writer\u001b[0m\u001b[0;34m(\u001b[0m\u001b[0mopened_file\u001b[0m\u001b[0;34m)\u001b[0m \u001b[0;32mas\u001b[0m \u001b[0mopened_zipfile\u001b[0m\u001b[0;34m:\u001b[0m\u001b[0;34m\u001b[0m\u001b[0;34m\u001b[0m\u001b[0m\n\u001b[0;32m--> 372\u001b[0;31m                 \u001b[0m_save\u001b[0m\u001b[0;34m(\u001b[0m\u001b[0mobj\u001b[0m\u001b[0;34m,\u001b[0m \u001b[0mopened_zipfile\u001b[0m\u001b[0;34m,\u001b[0m \u001b[0mpickle_module\u001b[0m\u001b[0;34m,\u001b[0m \u001b[0mpickle_protocol\u001b[0m\u001b[0;34m)\u001b[0m\u001b[0;34m\u001b[0m\u001b[0;34m\u001b[0m\u001b[0m\n\u001b[0m\u001b[1;32m    373\u001b[0m                 \u001b[0;32mreturn\u001b[0m\u001b[0;34m\u001b[0m\u001b[0;34m\u001b[0m\u001b[0m\n\u001b[1;32m    374\u001b[0m         \u001b[0m_legacy_save\u001b[0m\u001b[0;34m(\u001b[0m\u001b[0mobj\u001b[0m\u001b[0;34m,\u001b[0m \u001b[0mopened_file\u001b[0m\u001b[0;34m,\u001b[0m \u001b[0mpickle_module\u001b[0m\u001b[0;34m,\u001b[0m \u001b[0mpickle_protocol\u001b[0m\u001b[0;34m)\u001b[0m\u001b[0;34m\u001b[0m\u001b[0;34m\u001b[0m\u001b[0m\n",
      "\u001b[0;32m/usr/local/lib/python3.6/dist-packages/torch/serialization.py\u001b[0m in \u001b[0;36m_save\u001b[0;34m(obj, zip_file, pickle_module, pickle_protocol)\u001b[0m\n\u001b[1;32m    474\u001b[0m     \u001b[0mpickler\u001b[0m \u001b[0;34m=\u001b[0m \u001b[0mpickle_module\u001b[0m\u001b[0;34m.\u001b[0m\u001b[0mPickler\u001b[0m\u001b[0;34m(\u001b[0m\u001b[0mdata_buf\u001b[0m\u001b[0;34m,\u001b[0m \u001b[0mprotocol\u001b[0m\u001b[0;34m=\u001b[0m\u001b[0mpickle_protocol\u001b[0m\u001b[0;34m)\u001b[0m\u001b[0;34m\u001b[0m\u001b[0;34m\u001b[0m\u001b[0m\n\u001b[1;32m    475\u001b[0m     \u001b[0mpickler\u001b[0m\u001b[0;34m.\u001b[0m\u001b[0mpersistent_id\u001b[0m \u001b[0;34m=\u001b[0m \u001b[0mpersistent_id\u001b[0m\u001b[0;34m\u001b[0m\u001b[0;34m\u001b[0m\u001b[0m\n\u001b[0;32m--> 476\u001b[0;31m     \u001b[0mpickler\u001b[0m\u001b[0;34m.\u001b[0m\u001b[0mdump\u001b[0m\u001b[0;34m(\u001b[0m\u001b[0mobj\u001b[0m\u001b[0;34m)\u001b[0m\u001b[0;34m\u001b[0m\u001b[0;34m\u001b[0m\u001b[0m\n\u001b[0m\u001b[1;32m    477\u001b[0m     \u001b[0mdata_value\u001b[0m \u001b[0;34m=\u001b[0m \u001b[0mdata_buf\u001b[0m\u001b[0;34m.\u001b[0m\u001b[0mgetvalue\u001b[0m\u001b[0;34m(\u001b[0m\u001b[0;34m)\u001b[0m\u001b[0;34m\u001b[0m\u001b[0;34m\u001b[0m\u001b[0m\n\u001b[1;32m    478\u001b[0m     \u001b[0mzip_file\u001b[0m\u001b[0;34m.\u001b[0m\u001b[0mwrite_record\u001b[0m\u001b[0;34m(\u001b[0m\u001b[0;34m'data.pkl'\u001b[0m\u001b[0;34m,\u001b[0m \u001b[0mdata_value\u001b[0m\u001b[0;34m,\u001b[0m \u001b[0mlen\u001b[0m\u001b[0;34m(\u001b[0m\u001b[0mdata_value\u001b[0m\u001b[0;34m)\u001b[0m\u001b[0;34m)\u001b[0m\u001b[0;34m\u001b[0m\u001b[0;34m\u001b[0m\u001b[0m\n",
      "\u001b[0;31mPicklingError\u001b[0m: Can't pickle typing.Union[torch.Tensor, NoneType]: it's not the same object as typing.Union"
     ]
    }
   ],
   "source": [
    "ag = Args()\r\n",
    "train_net(ag)"
   ]
  },
  {
   "cell_type": "code",
   "execution_count": 84,
   "metadata": {
    "colab": {
     "base_uri": "https://localhost:8080/"
    },
    "executionInfo": {
     "elapsed": 16389,
     "status": "ok",
     "timestamp": 1611401725017,
     "user": {
      "displayName": "Sparsh Agarwal",
      "photoUrl": "",
      "userId": "13037694610922482904"
     },
     "user_tz": -330
    },
    "id": "O4oz_Bm8A42Z",
    "outputId": "6a70aaf5-07d5-4927-857b-f8782b1caa7e"
   },
   "outputs": [
    {
     "name": "stdout",
     "output_type": "stream",
     "text": [
      "There are 2 choices for the alternative python3 (providing /usr/bin/python3).\n",
      "\n",
      "  Selection    Path                Priority   Status\n",
      "------------------------------------------------------------\n",
      "* 0            /usr/bin/python3.7   2         auto mode\n",
      "  1            /usr/bin/python3.6   1         manual mode\n",
      "  2            /usr/bin/python3.7   2         manual mode\n",
      "\n",
      "Press <enter> to keep the current choice[*], or type selection number: 2\n"
     ]
    }
   ],
   "source": [
    "# !sudo apt update -y\r\n",
    "# !sudo apt install python3.7\r\n",
    "# !sudo update-alternatives --install /usr/bin/python3 python3 /usr/bin/python3.6 1\r\n",
    "# !sudo update-alternatives --install /usr/bin/python3 python3 /usr/bin/python3.7 2\r\n",
    "# !sudo update-alternatives --config python3\r\n",
    "# !python -V"
   ]
  }
 ],
 "metadata": {
  "colab": {
   "authorship_tag": "ABX9TyOwI0Vs47fAbApELT0iNE8z",
   "collapsed_sections": [],
   "mount_file_id": "1I6Gfnk8MIa8MguLiOlbrRnFsRcsDsfGR",
   "name": "RecSys Case Study YooChoose PyTorch Geometric.ipynb",
   "provenance": [
    {
     "file_id": "1q1K6Z1bmswuvAfuCANYdHRaJbiRTJnQf",
     "timestamp": 1609686399851
    }
   ]
  },
  "kernelspec": {
   "display_name": "Python 3",
   "language": "python",
   "name": "python3"
  },
  "language_info": {
   "codemirror_mode": {
    "name": "ipython",
    "version": 3
   },
   "file_extension": ".py",
   "mimetype": "text/x-python",
   "name": "python",
   "nbconvert_exporter": "python",
   "pygments_lexer": "ipython3",
   "version": "3.7.3"
  }
 },
 "nbformat": 4,
 "nbformat_minor": 4
}
