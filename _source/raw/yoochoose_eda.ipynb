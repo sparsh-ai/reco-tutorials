{
 "cells": [
  {
   "cell_type": "code",
   "execution_count": 5,
   "metadata": {
    "executionInfo": {
     "elapsed": 1159,
     "status": "ok",
     "timestamp": 1616820456767,
     "user": {
      "displayName": "Sparsh Agarwal",
      "photoUrl": "",
      "userId": "13037694610922482904"
     },
     "user_tz": -330
    },
    "id": "OK1gah5F_f7P"
   },
   "outputs": [],
   "source": [
    "# !apt-get install p7zip\n",
    "# !wget https://s3-eu-west-1.amazonaws.com/yc-rdata/yoochoose-data.7z\n",
    "# !7z x yoochoose-data.7z\n",
    "# !rm yoochoose-data.7z"
   ]
  },
  {
   "cell_type": "code",
   "execution_count": 23,
   "metadata": {
    "executionInfo": {
     "elapsed": 1344,
     "status": "ok",
     "timestamp": 1616827498556,
     "user": {
      "displayName": "Sparsh Agarwal",
      "photoUrl": "",
      "userId": "13037694610922482904"
     },
     "user_tz": -330
    },
    "id": "-sIxYoiAEiLC"
   },
   "outputs": [],
   "source": [
    "import argparse\n",
    "import logging\n",
    "import datetime\n",
    "\n",
    "import numpy as np\n",
    "import pandas as pd\n",
    "\n",
    "from sklearn.preprocessing import LabelEncoder\n",
    "\n",
    "import matplotlib.pyplot as plt\n",
    "import seaborn as sns\n",
    "\n",
    "import torch\n",
    "\n",
    "%matplotlib inline"
   ]
  },
  {
   "cell_type": "code",
   "execution_count": 7,
   "metadata": {
    "colab": {
     "base_uri": "https://localhost:8080/",
     "height": 359
    },
    "executionInfo": {
     "elapsed": 85719,
     "status": "ok",
     "timestamp": 1616821605549,
     "user": {
      "displayName": "Sparsh Agarwal",
      "photoUrl": "",
      "userId": "13037694610922482904"
     },
     "user_tz": -330
    },
    "id": "QsZpb9ir_0Xx",
    "outputId": "5017334e-abe7-4ee8-81aa-8e3dbf38400f"
   },
   "outputs": [
    {
     "data": {
      "text/html": [
       "<div>\n",
       "<style scoped>\n",
       "    .dataframe tbody tr th:only-of-type {\n",
       "        vertical-align: middle;\n",
       "    }\n",
       "\n",
       "    .dataframe tbody tr th {\n",
       "        vertical-align: top;\n",
       "    }\n",
       "\n",
       "    .dataframe thead th {\n",
       "        text-align: right;\n",
       "    }\n",
       "</style>\n",
       "<table border=\"1\" class=\"dataframe\">\n",
       "  <thead>\n",
       "    <tr style=\"text-align: right;\">\n",
       "      <th></th>\n",
       "      <th>session_id</th>\n",
       "      <th>timestamp</th>\n",
       "      <th>item_id</th>\n",
       "      <th>category</th>\n",
       "    </tr>\n",
       "  </thead>\n",
       "  <tbody>\n",
       "    <tr>\n",
       "      <th>0</th>\n",
       "      <td>1</td>\n",
       "      <td>2014-04-07T10:51:09.277Z</td>\n",
       "      <td>214536502</td>\n",
       "      <td>0</td>\n",
       "    </tr>\n",
       "    <tr>\n",
       "      <th>1</th>\n",
       "      <td>1</td>\n",
       "      <td>2014-04-07T10:54:09.868Z</td>\n",
       "      <td>214536500</td>\n",
       "      <td>0</td>\n",
       "    </tr>\n",
       "    <tr>\n",
       "      <th>2</th>\n",
       "      <td>1</td>\n",
       "      <td>2014-04-07T10:54:46.998Z</td>\n",
       "      <td>214536506</td>\n",
       "      <td>0</td>\n",
       "    </tr>\n",
       "    <tr>\n",
       "      <th>3</th>\n",
       "      <td>1</td>\n",
       "      <td>2014-04-07T10:57:00.306Z</td>\n",
       "      <td>214577561</td>\n",
       "      <td>0</td>\n",
       "    </tr>\n",
       "    <tr>\n",
       "      <th>4</th>\n",
       "      <td>2</td>\n",
       "      <td>2014-04-07T13:56:37.614Z</td>\n",
       "      <td>214662742</td>\n",
       "      <td>0</td>\n",
       "    </tr>\n",
       "    <tr>\n",
       "      <th>5</th>\n",
       "      <td>2</td>\n",
       "      <td>2014-04-07T13:57:19.373Z</td>\n",
       "      <td>214662742</td>\n",
       "      <td>0</td>\n",
       "    </tr>\n",
       "    <tr>\n",
       "      <th>6</th>\n",
       "      <td>2</td>\n",
       "      <td>2014-04-07T13:58:37.446Z</td>\n",
       "      <td>214825110</td>\n",
       "      <td>0</td>\n",
       "    </tr>\n",
       "    <tr>\n",
       "      <th>7</th>\n",
       "      <td>2</td>\n",
       "      <td>2014-04-07T13:59:50.710Z</td>\n",
       "      <td>214757390</td>\n",
       "      <td>0</td>\n",
       "    </tr>\n",
       "    <tr>\n",
       "      <th>8</th>\n",
       "      <td>2</td>\n",
       "      <td>2014-04-07T14:00:38.247Z</td>\n",
       "      <td>214757407</td>\n",
       "      <td>0</td>\n",
       "    </tr>\n",
       "    <tr>\n",
       "      <th>9</th>\n",
       "      <td>2</td>\n",
       "      <td>2014-04-07T14:02:36.889Z</td>\n",
       "      <td>214551617</td>\n",
       "      <td>0</td>\n",
       "    </tr>\n",
       "  </tbody>\n",
       "</table>\n",
       "</div>"
      ],
      "text/plain": [
       "   session_id                 timestamp    item_id category\n",
       "0           1  2014-04-07T10:51:09.277Z  214536502        0\n",
       "1           1  2014-04-07T10:54:09.868Z  214536500        0\n",
       "2           1  2014-04-07T10:54:46.998Z  214536506        0\n",
       "3           1  2014-04-07T10:57:00.306Z  214577561        0\n",
       "4           2  2014-04-07T13:56:37.614Z  214662742        0\n",
       "5           2  2014-04-07T13:57:19.373Z  214662742        0\n",
       "6           2  2014-04-07T13:58:37.446Z  214825110        0\n",
       "7           2  2014-04-07T13:59:50.710Z  214757390        0\n",
       "8           2  2014-04-07T14:00:38.247Z  214757407        0\n",
       "9           2  2014-04-07T14:02:36.889Z  214551617        0"
      ]
     },
     "execution_count": 7,
     "metadata": {
      "tags": []
     },
     "output_type": "execute_result"
    }
   ],
   "source": [
    "clicks = pd.read_csv('yoochoose-clicks.dat', header=None, low_memory=False,\n",
    "                     dtype={0:np.int32, 1:str, 2:np.int64, 3:str},\n",
    "                     names=[\"session_id\", \"timestamp\", \"item_id\", \"category\"])\n",
    "clicks[:10]"
   ]
  },
  {
   "cell_type": "code",
   "execution_count": 8,
   "metadata": {
    "colab": {
     "base_uri": "https://localhost:8080/",
     "height": 359
    },
    "executionInfo": {
     "elapsed": 3401,
     "status": "ok",
     "timestamp": 1616821658142,
     "user": {
      "displayName": "Sparsh Agarwal",
      "photoUrl": "",
      "userId": "13037694610922482904"
     },
     "user_tz": -330
    },
    "id": "y9S4b7P0FGaH",
    "outputId": "23ff5dc0-8d4a-40b5-fcfe-f2b02ece507b"
   },
   "outputs": [
    {
     "data": {
      "text/html": [
       "<div>\n",
       "<style scoped>\n",
       "    .dataframe tbody tr th:only-of-type {\n",
       "        vertical-align: middle;\n",
       "    }\n",
       "\n",
       "    .dataframe tbody tr th {\n",
       "        vertical-align: top;\n",
       "    }\n",
       "\n",
       "    .dataframe thead th {\n",
       "        text-align: right;\n",
       "    }\n",
       "</style>\n",
       "<table border=\"1\" class=\"dataframe\">\n",
       "  <thead>\n",
       "    <tr style=\"text-align: right;\">\n",
       "      <th></th>\n",
       "      <th>session_id</th>\n",
       "      <th>timestamp</th>\n",
       "      <th>item_id</th>\n",
       "      <th>price</th>\n",
       "      <th>quantity</th>\n",
       "    </tr>\n",
       "  </thead>\n",
       "  <tbody>\n",
       "    <tr>\n",
       "      <th>0</th>\n",
       "      <td>420374</td>\n",
       "      <td>2014-04-06T18:44:58.314Z</td>\n",
       "      <td>214537888</td>\n",
       "      <td>12462</td>\n",
       "      <td>1</td>\n",
       "    </tr>\n",
       "    <tr>\n",
       "      <th>1</th>\n",
       "      <td>420374</td>\n",
       "      <td>2014-04-06T18:44:58.325Z</td>\n",
       "      <td>214537850</td>\n",
       "      <td>10471</td>\n",
       "      <td>1</td>\n",
       "    </tr>\n",
       "    <tr>\n",
       "      <th>2</th>\n",
       "      <td>281626</td>\n",
       "      <td>2014-04-06T09:40:13.032Z</td>\n",
       "      <td>214535653</td>\n",
       "      <td>1883</td>\n",
       "      <td>1</td>\n",
       "    </tr>\n",
       "    <tr>\n",
       "      <th>3</th>\n",
       "      <td>420368</td>\n",
       "      <td>2014-04-04T06:13:28.848Z</td>\n",
       "      <td>214530572</td>\n",
       "      <td>6073</td>\n",
       "      <td>1</td>\n",
       "    </tr>\n",
       "    <tr>\n",
       "      <th>4</th>\n",
       "      <td>420368</td>\n",
       "      <td>2014-04-04T06:13:28.858Z</td>\n",
       "      <td>214835025</td>\n",
       "      <td>2617</td>\n",
       "      <td>1</td>\n",
       "    </tr>\n",
       "    <tr>\n",
       "      <th>5</th>\n",
       "      <td>140806</td>\n",
       "      <td>2014-04-07T09:22:28.132Z</td>\n",
       "      <td>214668193</td>\n",
       "      <td>523</td>\n",
       "      <td>1</td>\n",
       "    </tr>\n",
       "    <tr>\n",
       "      <th>6</th>\n",
       "      <td>140806</td>\n",
       "      <td>2014-04-07T09:22:28.176Z</td>\n",
       "      <td>214587399</td>\n",
       "      <td>1046</td>\n",
       "      <td>1</td>\n",
       "    </tr>\n",
       "    <tr>\n",
       "      <th>7</th>\n",
       "      <td>140806</td>\n",
       "      <td>2014-04-07T09:22:28.219Z</td>\n",
       "      <td>214586690</td>\n",
       "      <td>837</td>\n",
       "      <td>1</td>\n",
       "    </tr>\n",
       "    <tr>\n",
       "      <th>8</th>\n",
       "      <td>140806</td>\n",
       "      <td>2014-04-07T09:22:28.268Z</td>\n",
       "      <td>214774667</td>\n",
       "      <td>1151</td>\n",
       "      <td>1</td>\n",
       "    </tr>\n",
       "    <tr>\n",
       "      <th>9</th>\n",
       "      <td>140806</td>\n",
       "      <td>2014-04-07T09:22:28.280Z</td>\n",
       "      <td>214578823</td>\n",
       "      <td>1046</td>\n",
       "      <td>1</td>\n",
       "    </tr>\n",
       "  </tbody>\n",
       "</table>\n",
       "</div>"
      ],
      "text/plain": [
       "   session_id                 timestamp    item_id  price  quantity\n",
       "0      420374  2014-04-06T18:44:58.314Z  214537888  12462         1\n",
       "1      420374  2014-04-06T18:44:58.325Z  214537850  10471         1\n",
       "2      281626  2014-04-06T09:40:13.032Z  214535653   1883         1\n",
       "3      420368  2014-04-04T06:13:28.848Z  214530572   6073         1\n",
       "4      420368  2014-04-04T06:13:28.858Z  214835025   2617         1\n",
       "5      140806  2014-04-07T09:22:28.132Z  214668193    523         1\n",
       "6      140806  2014-04-07T09:22:28.176Z  214587399   1046         1\n",
       "7      140806  2014-04-07T09:22:28.219Z  214586690    837         1\n",
       "8      140806  2014-04-07T09:22:28.268Z  214774667   1151         1\n",
       "9      140806  2014-04-07T09:22:28.280Z  214578823   1046         1"
      ]
     },
     "execution_count": 8,
     "metadata": {
      "tags": []
     },
     "output_type": "execute_result"
    }
   ],
   "source": [
    "buys = pd.read_csv('yoochoose-buys.dat', header=None, low_memory=False,\n",
    "                   dtype={0:np.int32, 1:str, 2:np.int64, 3:np.int64, 4:np.int64},\n",
    "                   names=[\"session_id\", \"timestamp\", \"item_id\", \"price\", \"quantity\"])\n",
    "buys[:10]"
   ]
  },
  {
   "cell_type": "code",
   "execution_count": 9,
   "metadata": {
    "colab": {
     "base_uri": "https://localhost:8080/"
    },
    "executionInfo": {
     "elapsed": 1744,
     "status": "ok",
     "timestamp": 1616821692731,
     "user": {
      "displayName": "Sparsh Agarwal",
      "photoUrl": "",
      "userId": "13037694610922482904"
     },
     "user_tz": -330
    },
    "id": "Pz4OeI6QFJRx",
    "outputId": "5562477d-66a7-48ad-a59c-936dc9f8496b"
   },
   "outputs": [
    {
     "name": "stdout",
     "output_type": "stream",
     "text": [
      "    session_id                 timestamp    item_id category\n",
      "24          11  2014-04-03T10:44:35.672Z  214821275        0\n",
      "25          11  2014-04-03T10:45:01.674Z  214821275        0\n",
      "26          11  2014-04-03T10:45:29.873Z  214821371        0\n",
      "27          11  2014-04-03T10:46:12.162Z  214821371        0\n",
      "28          11  2014-04-03T10:46:57.355Z  214821371        0\n",
      "29          11  2014-04-03T10:53:22.572Z  214717089        0\n",
      "30          11  2014-04-03T10:53:49.875Z  214563337        0\n",
      "31          11  2014-04-03T10:55:19.267Z  214706462        0\n",
      "32          11  2014-04-03T10:55:47.327Z  214717436        0\n",
      "33          11  2014-04-03T10:56:30.520Z  214743335        0\n",
      "34          11  2014-04-03T10:57:19.331Z  214826837        0\n",
      "35          11  2014-04-03T10:57:39.433Z  214819762        0\n",
      "    session_id                 timestamp    item_id  price  quantity\n",
      "10          11  2014-04-03T11:04:11.417Z  214821371   1046         1\n",
      "11          11  2014-04-03T11:04:18.097Z  214821371   1046         1\n"
     ]
    }
   ],
   "source": [
    "query = \"session_id==@session_id\"\n",
    "session_id = 11\n",
    "print(clicks.query(query))\n",
    "print(buys.query(query))"
   ]
  },
  {
   "cell_type": "code",
   "execution_count": 16,
   "metadata": {
    "executionInfo": {
     "elapsed": 1055,
     "status": "ok",
     "timestamp": 1616822657063,
     "user": {
      "displayName": "Sparsh Agarwal",
      "photoUrl": "",
      "userId": "13037694610922482904"
     },
     "user_tz": -330
    },
    "id": "0-7S8LJEFSII"
   },
   "outputs": [],
   "source": [
    "def parse_datetime(dt_str):\n",
    "    return datetime.datetime.strptime(dt_str, '%Y-%m-%dT%H:%M:%S.%fZ')\n",
    "\n",
    "def assign_cat(x):\n",
    "    if x == \"S\":\n",
    "        return \"PROMOTION\"\n",
    "    elif np.int(x) == 0:\n",
    "        return \"NONE\"\n",
    "    elif np.int(x) < 13:\n",
    "        return \"CATEGORY\"\n",
    "    else:\n",
    "        return \"BRAND\"\n",
    "\n",
    "def parse_clicks(df):\n",
    "    df = df.astype({\"session_id\": int})\n",
    "    # df[\"timestamp\"] = df[\"timestamp\"].apply(parse_datetime)\n",
    "    df[\"category\"] = df.loc[:,'category'].map(assign_cat)\n",
    "    return df\n",
    "\n",
    "def parse_buys(df):\n",
    "    df = df.astype({\"session_id\": int, \"price\": float, \"quantity\": int})\n",
    "    df.drop([\"timestamp\"], inplace=True, axis=1)\n",
    "    df[\"action\"] = \"BUY\"\n",
    "    return df"
   ]
  },
  {
   "cell_type": "code",
   "execution_count": 17,
   "metadata": {
    "colab": {
     "base_uri": "https://localhost:8080/",
     "height": 359
    },
    "executionInfo": {
     "elapsed": 16456,
     "status": "ok",
     "timestamp": 1616822677411,
     "user": {
      "displayName": "Sparsh Agarwal",
      "photoUrl": "",
      "userId": "13037694610922482904"
     },
     "user_tz": -330
    },
    "id": "jq5irdNLGtdp",
    "outputId": "b6716faa-8377-4646-a684-5e873901590a"
   },
   "outputs": [
    {
     "data": {
      "text/html": [
       "<div>\n",
       "<style scoped>\n",
       "    .dataframe tbody tr th:only-of-type {\n",
       "        vertical-align: middle;\n",
       "    }\n",
       "\n",
       "    .dataframe tbody tr th {\n",
       "        vertical-align: top;\n",
       "    }\n",
       "\n",
       "    .dataframe thead th {\n",
       "        text-align: right;\n",
       "    }\n",
       "</style>\n",
       "<table border=\"1\" class=\"dataframe\">\n",
       "  <thead>\n",
       "    <tr style=\"text-align: right;\">\n",
       "      <th></th>\n",
       "      <th>session_id</th>\n",
       "      <th>timestamp</th>\n",
       "      <th>item_id</th>\n",
       "      <th>category</th>\n",
       "    </tr>\n",
       "  </thead>\n",
       "  <tbody>\n",
       "    <tr>\n",
       "      <th>0</th>\n",
       "      <td>1</td>\n",
       "      <td>2014-04-07T10:51:09.277Z</td>\n",
       "      <td>214536502</td>\n",
       "      <td>NONE</td>\n",
       "    </tr>\n",
       "    <tr>\n",
       "      <th>1</th>\n",
       "      <td>1</td>\n",
       "      <td>2014-04-07T10:54:09.868Z</td>\n",
       "      <td>214536500</td>\n",
       "      <td>NONE</td>\n",
       "    </tr>\n",
       "    <tr>\n",
       "      <th>2</th>\n",
       "      <td>1</td>\n",
       "      <td>2014-04-07T10:54:46.998Z</td>\n",
       "      <td>214536506</td>\n",
       "      <td>NONE</td>\n",
       "    </tr>\n",
       "    <tr>\n",
       "      <th>3</th>\n",
       "      <td>1</td>\n",
       "      <td>2014-04-07T10:57:00.306Z</td>\n",
       "      <td>214577561</td>\n",
       "      <td>NONE</td>\n",
       "    </tr>\n",
       "    <tr>\n",
       "      <th>4</th>\n",
       "      <td>2</td>\n",
       "      <td>2014-04-07T13:56:37.614Z</td>\n",
       "      <td>214662742</td>\n",
       "      <td>NONE</td>\n",
       "    </tr>\n",
       "    <tr>\n",
       "      <th>5</th>\n",
       "      <td>2</td>\n",
       "      <td>2014-04-07T13:57:19.373Z</td>\n",
       "      <td>214662742</td>\n",
       "      <td>NONE</td>\n",
       "    </tr>\n",
       "    <tr>\n",
       "      <th>6</th>\n",
       "      <td>2</td>\n",
       "      <td>2014-04-07T13:58:37.446Z</td>\n",
       "      <td>214825110</td>\n",
       "      <td>NONE</td>\n",
       "    </tr>\n",
       "    <tr>\n",
       "      <th>7</th>\n",
       "      <td>2</td>\n",
       "      <td>2014-04-07T13:59:50.710Z</td>\n",
       "      <td>214757390</td>\n",
       "      <td>NONE</td>\n",
       "    </tr>\n",
       "    <tr>\n",
       "      <th>8</th>\n",
       "      <td>2</td>\n",
       "      <td>2014-04-07T14:00:38.247Z</td>\n",
       "      <td>214757407</td>\n",
       "      <td>NONE</td>\n",
       "    </tr>\n",
       "    <tr>\n",
       "      <th>9</th>\n",
       "      <td>2</td>\n",
       "      <td>2014-04-07T14:02:36.889Z</td>\n",
       "      <td>214551617</td>\n",
       "      <td>NONE</td>\n",
       "    </tr>\n",
       "  </tbody>\n",
       "</table>\n",
       "</div>"
      ],
      "text/plain": [
       "   session_id                 timestamp    item_id category\n",
       "0           1  2014-04-07T10:51:09.277Z  214536502     NONE\n",
       "1           1  2014-04-07T10:54:09.868Z  214536500     NONE\n",
       "2           1  2014-04-07T10:54:46.998Z  214536506     NONE\n",
       "3           1  2014-04-07T10:57:00.306Z  214577561     NONE\n",
       "4           2  2014-04-07T13:56:37.614Z  214662742     NONE\n",
       "5           2  2014-04-07T13:57:19.373Z  214662742     NONE\n",
       "6           2  2014-04-07T13:58:37.446Z  214825110     NONE\n",
       "7           2  2014-04-07T13:59:50.710Z  214757390     NONE\n",
       "8           2  2014-04-07T14:00:38.247Z  214757407     NONE\n",
       "9           2  2014-04-07T14:02:36.889Z  214551617     NONE"
      ]
     },
     "execution_count": 17,
     "metadata": {
      "tags": []
     },
     "output_type": "execute_result"
    }
   ],
   "source": [
    "# clicks_sample_parsed = parse_clicks(clicks[:10])\n",
    "clicks_parsed = parse_clicks(clicks)\n",
    "clicks_parsed[:10]"
   ]
  },
  {
   "cell_type": "code",
   "execution_count": 18,
   "metadata": {
    "colab": {
     "base_uri": "https://localhost:8080/",
     "height": 359
    },
    "executionInfo": {
     "elapsed": 963,
     "status": "ok",
     "timestamp": 1616822687410,
     "user": {
      "displayName": "Sparsh Agarwal",
      "photoUrl": "",
      "userId": "13037694610922482904"
     },
     "user_tz": -330
    },
    "id": "DuAt32KGG3dm",
    "outputId": "b070a1d8-21d3-43b0-9d93-b2f0f4b4ab17"
   },
   "outputs": [
    {
     "data": {
      "text/html": [
       "<div>\n",
       "<style scoped>\n",
       "    .dataframe tbody tr th:only-of-type {\n",
       "        vertical-align: middle;\n",
       "    }\n",
       "\n",
       "    .dataframe tbody tr th {\n",
       "        vertical-align: top;\n",
       "    }\n",
       "\n",
       "    .dataframe thead th {\n",
       "        text-align: right;\n",
       "    }\n",
       "</style>\n",
       "<table border=\"1\" class=\"dataframe\">\n",
       "  <thead>\n",
       "    <tr style=\"text-align: right;\">\n",
       "      <th></th>\n",
       "      <th>session_id</th>\n",
       "      <th>item_id</th>\n",
       "      <th>price</th>\n",
       "      <th>quantity</th>\n",
       "      <th>action</th>\n",
       "    </tr>\n",
       "  </thead>\n",
       "  <tbody>\n",
       "    <tr>\n",
       "      <th>0</th>\n",
       "      <td>420374</td>\n",
       "      <td>214537888</td>\n",
       "      <td>12462.0</td>\n",
       "      <td>1</td>\n",
       "      <td>BUY</td>\n",
       "    </tr>\n",
       "    <tr>\n",
       "      <th>1</th>\n",
       "      <td>420374</td>\n",
       "      <td>214537850</td>\n",
       "      <td>10471.0</td>\n",
       "      <td>1</td>\n",
       "      <td>BUY</td>\n",
       "    </tr>\n",
       "    <tr>\n",
       "      <th>2</th>\n",
       "      <td>281626</td>\n",
       "      <td>214535653</td>\n",
       "      <td>1883.0</td>\n",
       "      <td>1</td>\n",
       "      <td>BUY</td>\n",
       "    </tr>\n",
       "    <tr>\n",
       "      <th>3</th>\n",
       "      <td>420368</td>\n",
       "      <td>214530572</td>\n",
       "      <td>6073.0</td>\n",
       "      <td>1</td>\n",
       "      <td>BUY</td>\n",
       "    </tr>\n",
       "    <tr>\n",
       "      <th>4</th>\n",
       "      <td>420368</td>\n",
       "      <td>214835025</td>\n",
       "      <td>2617.0</td>\n",
       "      <td>1</td>\n",
       "      <td>BUY</td>\n",
       "    </tr>\n",
       "    <tr>\n",
       "      <th>5</th>\n",
       "      <td>140806</td>\n",
       "      <td>214668193</td>\n",
       "      <td>523.0</td>\n",
       "      <td>1</td>\n",
       "      <td>BUY</td>\n",
       "    </tr>\n",
       "    <tr>\n",
       "      <th>6</th>\n",
       "      <td>140806</td>\n",
       "      <td>214587399</td>\n",
       "      <td>1046.0</td>\n",
       "      <td>1</td>\n",
       "      <td>BUY</td>\n",
       "    </tr>\n",
       "    <tr>\n",
       "      <th>7</th>\n",
       "      <td>140806</td>\n",
       "      <td>214586690</td>\n",
       "      <td>837.0</td>\n",
       "      <td>1</td>\n",
       "      <td>BUY</td>\n",
       "    </tr>\n",
       "    <tr>\n",
       "      <th>8</th>\n",
       "      <td>140806</td>\n",
       "      <td>214774667</td>\n",
       "      <td>1151.0</td>\n",
       "      <td>1</td>\n",
       "      <td>BUY</td>\n",
       "    </tr>\n",
       "    <tr>\n",
       "      <th>9</th>\n",
       "      <td>140806</td>\n",
       "      <td>214578823</td>\n",
       "      <td>1046.0</td>\n",
       "      <td>1</td>\n",
       "      <td>BUY</td>\n",
       "    </tr>\n",
       "  </tbody>\n",
       "</table>\n",
       "</div>"
      ],
      "text/plain": [
       "   session_id    item_id    price  quantity action\n",
       "0      420374  214537888  12462.0         1    BUY\n",
       "1      420374  214537850  10471.0         1    BUY\n",
       "2      281626  214535653   1883.0         1    BUY\n",
       "3      420368  214530572   6073.0         1    BUY\n",
       "4      420368  214835025   2617.0         1    BUY\n",
       "5      140806  214668193    523.0         1    BUY\n",
       "6      140806  214587399   1046.0         1    BUY\n",
       "7      140806  214586690    837.0         1    BUY\n",
       "8      140806  214774667   1151.0         1    BUY\n",
       "9      140806  214578823   1046.0         1    BUY"
      ]
     },
     "execution_count": 18,
     "metadata": {
      "tags": []
     },
     "output_type": "execute_result"
    }
   ],
   "source": [
    "# buys_sample_parsed = parse_buys(buys[:10])\n",
    "buys_parsed = parse_buys(buys)\n",
    "buys_parsed[:10]"
   ]
  },
  {
   "cell_type": "code",
   "execution_count": 21,
   "metadata": {
    "colab": {
     "base_uri": "https://localhost:8080/"
    },
    "executionInfo": {
     "elapsed": 1126,
     "status": "ok",
     "timestamp": 1616827411067,
     "user": {
      "displayName": "Sparsh Agarwal",
      "photoUrl": "",
      "userId": "13037694610922482904"
     },
     "user_tz": -330
    },
    "id": "vWL3phr6LATV",
    "outputId": "3a66a29e-2bd1-4f1f-998b-a5804c4c028c"
   },
   "outputs": [
    {
     "name": "stdout",
     "output_type": "stream",
     "text": [
      "Number of unique sessions: 1000000\n"
     ]
    }
   ],
   "source": [
    "print(\"Number of unique sessions:\", len(clicks.session_id.unique()))"
   ]
  },
  {
   "cell_type": "code",
   "execution_count": 25,
   "metadata": {
    "colab": {
     "base_uri": "https://localhost:8080/",
     "height": 369
    },
    "executionInfo": {
     "elapsed": 2487,
     "status": "ok",
     "timestamp": 1616827524237,
     "user": {
      "displayName": "Sparsh Agarwal",
      "photoUrl": "",
      "userId": "13037694610922482904"
     },
     "user_tz": -330
    },
    "id": "gL2hrxBfbRiR",
    "outputId": "8fa495a7-8650-459f-eb64-7649dae86926"
   },
   "outputs": [
    {
     "data": {
      "image/png": "[encoded data removed]",
      "text/plain": [
       "<Figure size 360x360 with 1 Axes>"
      ]
     },
     "metadata": {
      "needs_background": "light",
      "tags": []
     },
     "output_type": "display_data"
    }
   ],
   "source": [
    "df_clicks_by_session = clicks.groupby([\"session_id\"])\n",
    "df_clicks_sessionCount = df_clicks_by_session[\"item_id\"].count()\n",
    "sns.displot(df_clicks_sessionCount, kde=False, bins=20)"
   ]
  },
  {
   "cell_type": "code",
   "execution_count": 19,
   "metadata": {
    "executionInfo": {
     "elapsed": 15515,
     "status": "ok",
     "timestamp": 1616823180118,
     "user": {
      "displayName": "Sparsh Agarwal",
      "photoUrl": "",
      "userId": "13037694610922482904"
     },
     "user_tz": -330
    },
    "id": "caF-vnk0JFJa"
   },
   "outputs": [],
   "source": [
    "# # Sampling\n",
    "# item_encoder = LabelEncoder()\n",
    "# clicks['item_id'] = item_encoder.fit_transform(clicks.item_id)\n",
    "# sampled_session_id = np.random.choice(clicks.session_id.unique(), 1000000, replace=False)\n",
    "# clicks = clicks.loc[clicks.session_id.isin(sampled_session_id)]\n",
    "# clicks['label'] = clicks.session_id.isin(buys.session_id)"
   ]
  },
  {
   "cell_type": "code",
   "execution_count": 27,
   "metadata": {
    "colab": {
     "base_uri": "https://localhost:8080/"
    },
    "executionInfo": {
     "elapsed": 1292,
     "status": "ok",
     "timestamp": 1616834684296,
     "user": {
      "displayName": "Sparsh Agarwal",
      "photoUrl": "",
      "userId": "13037694610922482904"
     },
     "user_tz": -330
    },
    "id": "Dl6VCJIn2v1E",
    "outputId": "7aaf6e1c-c0cd-48b1-e85f-33bcad7f0b88"
   },
   "outputs": [
    {
     "name": "stdout",
     "output_type": "stream",
     "text": [
      "Writing data.py\n"
     ]
    }
   ],
   "source": [
    "%%writefile data.py\n",
    "\n",
    "# -*- coding: utf-8 -*-\n",
    "\"\"\"\n",
    "create on 18 Sep, 2019\n",
    "\n",
    "@author: wangshuo\n",
    "\n",
    "Reference: https://github.com/lijingsdu/sessionRec_NARM/blob/master/data_process.py\n",
    "\"\"\"\n",
    "\n",
    "import pickle\n",
    "import torch\n",
    "from torch.utils.data import Dataset\n",
    "import numpy as np\n",
    "\n",
    "\n",
    "def load_data(root, valid_portion=0.1, maxlen=19, sort_by_len=False):\n",
    "    '''Loads the dataset\n",
    "\n",
    "    :type path: String\n",
    "    :param path: The path to the dataset (here RSC2015)\n",
    "    :type n_items: int\n",
    "    :param n_items: The number of items.\n",
    "    :type valid_portion: float\n",
    "    :param valid_portion: The proportion of the full train set used for\n",
    "        the validation set.\n",
    "    :type maxlen: None or positive int\n",
    "    :param maxlen: the max sequence length we use in the train/valid set.\n",
    "    :type sort_by_len: bool\n",
    "    :name sort_by_len: Sort by the sequence lenght for the train,\n",
    "        valid and test set. This allow faster execution as it cause\n",
    "        less padding per minibatch. Another mechanism must be used to\n",
    "        shuffle the train set at each epoch.\n",
    "\n",
    "    '''\n",
    "\n",
    "    # Load the dataset\n",
    "    path_train_data = root + 'train.txt'\n",
    "    path_test_data = root + 'test.txt'\n",
    "    with open(path_train_data, 'rb') as f1:\n",
    "        train_set = pickle.load(f1)\n",
    "\n",
    "    with open(path_test_data, 'rb') as f2:\n",
    "        test_set = pickle.load(f2)\n",
    "\n",
    "    if maxlen:\n",
    "        new_train_set_x = []\n",
    "        new_train_set_y = []\n",
    "        for x, y in zip(train_set[0], train_set[1]):\n",
    "            if len(x) < maxlen:\n",
    "                new_train_set_x.append(x)\n",
    "                new_train_set_y.append(y)\n",
    "            else:\n",
    "                new_train_set_x.append(x[:maxlen])\n",
    "                new_train_set_y.append(y)\n",
    "        train_set = (new_train_set_x, new_train_set_y)\n",
    "        del new_train_set_x, new_train_set_y\n",
    "\n",
    "        new_test_set_x = []\n",
    "        new_test_set_y = []\n",
    "        for xx, yy in zip(test_set[0], test_set[1]):\n",
    "            if len(xx) < maxlen:\n",
    "                new_test_set_x.append(xx)\n",
    "                new_test_set_y.append(yy)\n",
    "            else:\n",
    "                new_test_set_x.append(xx[:maxlen])\n",
    "                new_test_set_y.append(yy)\n",
    "        test_set = (new_test_set_x, new_test_set_y)\n",
    "        del new_test_set_x, new_test_set_y\n",
    "\n",
    "    # split training set into validation set\n",
    "    train_set_x, train_set_y = train_set\n",
    "    n_samples = len(train_set_x)\n",
    "    sidx = np.arange(n_samples, dtype='int32')\n",
    "    np.random.shuffle(sidx)\n",
    "    n_train = int(np.round(n_samples * (1. - valid_portion)))\n",
    "    valid_set_x = [train_set_x[s] for s in sidx[n_train:]]\n",
    "    valid_set_y = [train_set_y[s] for s in sidx[n_train:]]\n",
    "    train_set_x = [train_set_x[s] for s in sidx[:n_train]]\n",
    "    train_set_y = [train_set_y[s] for s in sidx[:n_train]]\n",
    "\n",
    "    (test_set_x, test_set_y) = test_set\n",
    "\n",
    "    def len_argsort(seq):\n",
    "        return sorted(range(len(seq)), key=lambda x: len(seq[x]))\n",
    "\n",
    "    if sort_by_len:\n",
    "        sorted_index = len_argsort(test_set_x)\n",
    "        test_set_x = [test_set_x[i] for i in sorted_index]\n",
    "        test_set_y = [test_set_y[i] for i in sorted_index]\n",
    "\n",
    "        sorted_index = len_argsort(valid_set_x)\n",
    "        valid_set_x = [valid_set_x[i] for i in sorted_index]\n",
    "        valid_set_y = [valid_set_y[i] for i in sorted_index]\n",
    "\n",
    "    train = (train_set_x, train_set_y)\n",
    "    valid = (valid_set_x, valid_set_y)\n",
    "    test = (test_set_x, test_set_y)\n",
    "\n",
    "    return train, valid, test\n",
    "\n",
    "\n",
    "class RecSysDataset(Dataset):\n",
    "    \"\"\"define the pytorch Dataset class for yoochoose and diginetica datasets.\n",
    "    \"\"\"\n",
    "    def __init__(self, data):\n",
    "        self.data = data\n",
    "        print('-'*50)\n",
    "        print('Dataset info:')\n",
    "        print('Number of sessions: {}'.format(len(data[0])))\n",
    "        print('-'*50)\n",
    "        \n",
    "    def __getitem__(self, index):\n",
    "        session_items = self.data[0][index]\n",
    "        target_item = self.data[1][index]\n",
    "        return session_items, target_item\n",
    "\n",
    "    def __len__(self):\n",
    "        return len(self.data[0])"
   ]
  },
  {
   "cell_type": "code",
   "execution_count": null,
   "metadata": {
    "id": "15dGw_yU2ia7"
   },
   "outputs": [],
   "source": []
  }
 ],
 "metadata": {
  "colab": {
   "authorship_tag": "ABX9TyPDRwysiTNz70yECUmv501l",
   "collapsed_sections": [],
   "mount_file_id": "1epHXNhFcihqkccjU8FJHAsD2LVFh03Ll",
   "name": "RecSys YooChoose EDA",
   "provenance": []
  },
  "kernelspec": {
   "display_name": "Python 3",
   "language": "python",
   "name": "python3"
  },
  "language_info": {
   "codemirror_mode": {
    "name": "ipython",
    "version": 3
   },
   "file_extension": ".py",
   "mimetype": "text/x-python",
   "name": "python",
   "nbconvert_exporter": "python",
   "pygments_lexer": "ipython3",
   "version": "3.7.3"
  }
 },
 "nbformat": 4,
 "nbformat_minor": 4
}
