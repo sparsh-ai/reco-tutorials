{
  "nbformat": 4,
  "nbformat_minor": 0,
  "metadata": {
    "colab": {
      "name": "06_contextual_awareness.ipynb",
      "provenance": [],
      "collapsed_sections": []
    },
    "kernelspec": {
      "name": "python3",
      "display_name": "Python 3"
    }
  },
  "cells": [
    {
      "cell_type": "markdown",
      "metadata": {
        "id": "xLXWx4uhqtYJ",
        "colab_type": "text"
      },
      "source": [
        "<table class=\"tfo-notebook-buttons\" align=\"left\">\n",
        "  <td>\n",
        "    <a target=\"_blank\" href=\"https://colab.research.google.com/github/PreferredAI/tutorials/blob/master/recommender-systems/06_contextual_awareness.ipynb\"><img src=\"https://www.tensorflow.org/images/colab_logo_32px.png\" />Run in Google Colab</a>\n",
        "  </td>\n",
        "  <td>\n",
        "    <a target=\"_blank\" href=\"https://github.com/PreferredAI/tutorials/blob/master/recommender-systems/06_contextual_awareness.ipynb\"><img src=\"https://www.tensorflow.org/images/GitHub-Mark-32px.png\" />View source on GitHub</a>\n",
        "  </td>\n",
        "</table>"
      ]
    },
    {
      "cell_type": "markdown",
      "metadata": {
        "id": "wzPrmZOMtXt1",
        "colab_type": "text"
      },
      "source": [
        "# Contextual Awareness"
      ]
    },
    {
      "cell_type": "markdown",
      "metadata": {
        "id": "Bh3gYub8f6qZ",
        "colab_type": "text"
      },
      "source": [
        "Traditional matrix factorization assumes that a recommendation is primarily, if not exclusively, based on the specific user and item in question. However, preference may actually be context-sensitive.  The suitable recommendation may depend on various factors such as time of day, current location, etc.  To incorporate such context factors into the model, we associate them with latent vectors that may participate in the prediction by interacting with the user and item latent vectors.  One paradigm for contextual recommendation is Factorization Machine, which is the focus of this tutorial."
      ]
    },
    {
      "cell_type": "markdown",
      "metadata": {
        "id": "MqktDa7H2hKz",
        "colab_type": "text"
      },
      "source": [
        "## 1. Setup"
      ]
    },
    {
      "cell_type": "code",
      "metadata": {
        "id": "228G3UHIV1lY",
        "colab_type": "code",
        "colab": {}
      },
      "source": [
        "!git clone https://github.com/srendle/libfm.git\n",
        "!make all -C libfm"
      ],
      "execution_count": null,
      "outputs": []
    },
    {
      "cell_type": "code",
      "metadata": {
        "id": "41oWCMUG2eC_",
        "colab_type": "code",
        "colab": {}
      },
      "source": [
        "!pip install --quiet cornac==1.6.1"
      ],
      "execution_count": 2,
      "outputs": []
    },
    {
      "cell_type": "code",
      "metadata": {
        "id": "YqKrDcGH2k7E",
        "colab_type": "code",
        "colab": {
          "base_uri": "https://localhost:8080/",
          "height": 68
        },
        "outputId": "bb21b953-bfc0-4d63-ee23-23bef85ea609"
      },
      "source": [
        "import os\n",
        "import sys\n",
        "from collections import defaultdict\n",
        "\n",
        "import numpy as np\n",
        "import pandas as pd\n",
        "from sklearn.model_selection import train_test_split\n",
        "\n",
        "import cornac\n",
        "from cornac.utils import cache\n",
        "\n",
        "print(f\"System version: {sys.version}\")\n",
        "print(f\"Cornac version: {cornac.__version__}\")\n",
        "\n",
        "SEED = 42  # @param \n",
        "VERBOSE = False  # @param "
      ],
      "execution_count": 3,
      "outputs": [
        {
          "output_type": "stream",
          "text": [
            "System version: 3.6.9 (default, Apr 18 2020, 01:56:04) \n",
            "[GCC 8.4.0]\n",
            "Cornac version: 1.6.1\n"
          ],
          "name": "stdout"
        }
      ]
    },
    {
      "cell_type": "markdown",
      "metadata": {
        "id": "r76coF3ZyWxb",
        "colab_type": "text"
      },
      "source": [
        "## 2. Data\n",
        "\n",
        "In this tutorial, we use [MovieLens + IMDb/Rotten Tomatoes](http://files.grouplens.org/datasets/hetrec2011/hetrec2011-movielens-readme.txt) dataset, which is released during the HetRec Workshop 2011.  This dataset has rich information about movies (e.g., actors, genres) in addition to ratings. More details can be found @ https://grouplens.org/datasets/hetrec-2011/."
      ]
    },
    {
      "cell_type": "code",
      "metadata": {
        "id": "k-uSWIcLXgWt",
        "colab_type": "code",
        "colab": {}
      },
      "source": [
        "cache(\"http://files.grouplens.org/datasets/hetrec2011/hetrec2011-movielens-2k-v2.zip\", unzip=True)"
      ],
      "execution_count": null,
      "outputs": []
    },
    {
      "cell_type": "markdown",
      "metadata": {
        "id": "-9pZavnWOa1I",
        "colab_type": "text"
      },
      "source": [
        "The data, after being downloaded and unzipped, includes the following files:"
      ]
    },
    {
      "cell_type": "code",
      "metadata": {
        "id": "duGzdWLRYTNp",
        "colab_type": "code",
        "colab": {
          "base_uri": "https://localhost:8080/",
          "height": 102
        },
        "outputId": "5f196162-34c3-4ea8-8a06-24964c29ba9a"
      },
      "source": [
        "!ls /root/.cornac"
      ],
      "execution_count": 5,
      "outputs": [
        {
          "output_type": "stream",
          "text": [
            "movie_actors.dat     movies.dat\t\t   user_ratedmovies-timestamps.dat\n",
            "movie_countries.dat  movie_tags.dat\t   user_taggedmovies.dat\n",
            "movie_directors.dat  readme.txt\t\t   user_taggedmovies-timestamps.dat\n",
            "movie_genres.dat     tags.dat\n",
            "movie_locations.dat  user_ratedmovies.dat\n"
          ],
          "name": "stdout"
        }
      ]
    },
    {
      "cell_type": "markdown",
      "metadata": {
        "id": "3VG3RQqTCIHM",
        "colab_type": "text"
      },
      "source": [
        "### User-Movie ratings\n",
        "\n",
        "A user assigns a rating to a movie. There is also a timestamp recording when the rating was given."
      ]
    },
    {
      "cell_type": "code",
      "metadata": {
        "id": "j5ueVvP5pjfQ",
        "colab_type": "code",
        "colab": {
          "base_uri": "https://localhost:8080/",
          "height": 204
        },
        "outputId": "fd615a5e-1382-4b30-c7fa-ad6184fa6403"
      },
      "source": [
        "user_ratedmovies_df = pd.read_csv(\"/root/.cornac/user_ratedmovies.dat\", sep=\"\\t\")\n",
        "user_ratedmovies_df.head()"
      ],
      "execution_count": 6,
      "outputs": [
        {
          "output_type": "execute_result",
          "data": {
            "text/html": [
              "<div>\n",
              "<style scoped>\n",
              "    .dataframe tbody tr th:only-of-type {\n",
              "        vertical-align: middle;\n",
              "    }\n",
              "\n",
              "    .dataframe tbody tr th {\n",
              "        vertical-align: top;\n",
              "    }\n",
              "\n",
              "    .dataframe thead th {\n",
              "        text-align: right;\n",
              "    }\n",
              "</style>\n",
              "<table border=\"1\" class=\"dataframe\">\n",
              "  <thead>\n",
              "    <tr style=\"text-align: right;\">\n",
              "      <th></th>\n",
              "      <th>userID</th>\n",
              "      <th>movieID</th>\n",
              "      <th>rating</th>\n",
              "      <th>date_day</th>\n",
              "      <th>date_month</th>\n",
              "      <th>date_year</th>\n",
              "      <th>date_hour</th>\n",
              "      <th>date_minute</th>\n",
              "      <th>date_second</th>\n",
              "    </tr>\n",
              "  </thead>\n",
              "  <tbody>\n",
              "    <tr>\n",
              "      <th>0</th>\n",
              "      <td>75</td>\n",
              "      <td>3</td>\n",
              "      <td>1.0</td>\n",
              "      <td>29</td>\n",
              "      <td>10</td>\n",
              "      <td>2006</td>\n",
              "      <td>23</td>\n",
              "      <td>17</td>\n",
              "      <td>16</td>\n",
              "    </tr>\n",
              "    <tr>\n",
              "      <th>1</th>\n",
              "      <td>75</td>\n",
              "      <td>32</td>\n",
              "      <td>4.5</td>\n",
              "      <td>29</td>\n",
              "      <td>10</td>\n",
              "      <td>2006</td>\n",
              "      <td>23</td>\n",
              "      <td>23</td>\n",
              "      <td>44</td>\n",
              "    </tr>\n",
              "    <tr>\n",
              "      <th>2</th>\n",
              "      <td>75</td>\n",
              "      <td>110</td>\n",
              "      <td>4.0</td>\n",
              "      <td>29</td>\n",
              "      <td>10</td>\n",
              "      <td>2006</td>\n",
              "      <td>23</td>\n",
              "      <td>30</td>\n",
              "      <td>8</td>\n",
              "    </tr>\n",
              "    <tr>\n",
              "      <th>3</th>\n",
              "      <td>75</td>\n",
              "      <td>160</td>\n",
              "      <td>2.0</td>\n",
              "      <td>29</td>\n",
              "      <td>10</td>\n",
              "      <td>2006</td>\n",
              "      <td>23</td>\n",
              "      <td>16</td>\n",
              "      <td>52</td>\n",
              "    </tr>\n",
              "    <tr>\n",
              "      <th>4</th>\n",
              "      <td>75</td>\n",
              "      <td>163</td>\n",
              "      <td>4.0</td>\n",
              "      <td>29</td>\n",
              "      <td>10</td>\n",
              "      <td>2006</td>\n",
              "      <td>23</td>\n",
              "      <td>29</td>\n",
              "      <td>30</td>\n",
              "    </tr>\n",
              "  </tbody>\n",
              "</table>\n",
              "</div>"
            ],
            "text/plain": [
              "   userID  movieID  rating  ...  date_hour  date_minute  date_second\n",
              "0      75        3     1.0  ...         23           17           16\n",
              "1      75       32     4.5  ...         23           23           44\n",
              "2      75      110     4.0  ...         23           30            8\n",
              "3      75      160     2.0  ...         23           16           52\n",
              "4      75      163     4.0  ...         23           29           30\n",
              "\n",
              "[5 rows x 9 columns]"
            ]
          },
          "metadata": {
            "tags": []
          },
          "execution_count": 6
        }
      ]
    },
    {
      "cell_type": "markdown",
      "metadata": {
        "id": "ImtzVqm5CLPg",
        "colab_type": "text"
      },
      "source": [
        "### User-Movie Tags\n",
        "\n",
        "In addition to the rating mentioned above, a user could also assign one or more tags to a movie.  Again, these are timestamped as well."
      ]
    },
    {
      "cell_type": "code",
      "metadata": {
        "id": "kBdX61sQpuLD",
        "colab_type": "code",
        "colab": {
          "base_uri": "https://localhost:8080/",
          "height": 204
        },
        "outputId": "4033ad4f-fa6f-4f9d-fb53-40a53a5b34f6"
      },
      "source": [
        "user_taggedmovies_df = pd.read_csv(\"/root/.cornac/user_taggedmovies.dat\", sep=\"\\t\")\n",
        "user_taggedmovies_df.head()"
      ],
      "execution_count": 7,
      "outputs": [
        {
          "output_type": "execute_result",
          "data": {
            "text/html": [
              "<div>\n",
              "<style scoped>\n",
              "    .dataframe tbody tr th:only-of-type {\n",
              "        vertical-align: middle;\n",
              "    }\n",
              "\n",
              "    .dataframe tbody tr th {\n",
              "        vertical-align: top;\n",
              "    }\n",
              "\n",
              "    .dataframe thead th {\n",
              "        text-align: right;\n",
              "    }\n",
              "</style>\n",
              "<table border=\"1\" class=\"dataframe\">\n",
              "  <thead>\n",
              "    <tr style=\"text-align: right;\">\n",
              "      <th></th>\n",
              "      <th>userID</th>\n",
              "      <th>movieID</th>\n",
              "      <th>tagID</th>\n",
              "      <th>date_day</th>\n",
              "      <th>date_month</th>\n",
              "      <th>date_year</th>\n",
              "      <th>date_hour</th>\n",
              "      <th>date_minute</th>\n",
              "      <th>date_second</th>\n",
              "    </tr>\n",
              "  </thead>\n",
              "  <tbody>\n",
              "    <tr>\n",
              "      <th>0</th>\n",
              "      <td>75</td>\n",
              "      <td>353</td>\n",
              "      <td>5290</td>\n",
              "      <td>29</td>\n",
              "      <td>10</td>\n",
              "      <td>2006</td>\n",
              "      <td>23</td>\n",
              "      <td>20</td>\n",
              "      <td>15</td>\n",
              "    </tr>\n",
              "    <tr>\n",
              "      <th>1</th>\n",
              "      <td>78</td>\n",
              "      <td>4223</td>\n",
              "      <td>5264</td>\n",
              "      <td>16</td>\n",
              "      <td>4</td>\n",
              "      <td>2007</td>\n",
              "      <td>4</td>\n",
              "      <td>43</td>\n",
              "      <td>45</td>\n",
              "    </tr>\n",
              "    <tr>\n",
              "      <th>2</th>\n",
              "      <td>127</td>\n",
              "      <td>1343</td>\n",
              "      <td>1544</td>\n",
              "      <td>28</td>\n",
              "      <td>8</td>\n",
              "      <td>2007</td>\n",
              "      <td>3</td>\n",
              "      <td>42</td>\n",
              "      <td>27</td>\n",
              "    </tr>\n",
              "    <tr>\n",
              "      <th>3</th>\n",
              "      <td>127</td>\n",
              "      <td>1343</td>\n",
              "      <td>12330</td>\n",
              "      <td>28</td>\n",
              "      <td>8</td>\n",
              "      <td>2007</td>\n",
              "      <td>3</td>\n",
              "      <td>42</td>\n",
              "      <td>27</td>\n",
              "    </tr>\n",
              "    <tr>\n",
              "      <th>4</th>\n",
              "      <td>127</td>\n",
              "      <td>2080</td>\n",
              "      <td>1451</td>\n",
              "      <td>28</td>\n",
              "      <td>8</td>\n",
              "      <td>2007</td>\n",
              "      <td>3</td>\n",
              "      <td>42</td>\n",
              "      <td>47</td>\n",
              "    </tr>\n",
              "  </tbody>\n",
              "</table>\n",
              "</div>"
            ],
            "text/plain": [
              "   userID  movieID  tagID  ...  date_hour  date_minute  date_second\n",
              "0      75      353   5290  ...         23           20           15\n",
              "1      78     4223   5264  ...          4           43           45\n",
              "2     127     1343   1544  ...          3           42           27\n",
              "3     127     1343  12330  ...          3           42           27\n",
              "4     127     2080   1451  ...          3           42           47\n",
              "\n",
              "[5 rows x 9 columns]"
            ]
          },
          "metadata": {
            "tags": []
          },
          "execution_count": 7
        }
      ]
    },
    {
      "cell_type": "markdown",
      "metadata": {
        "id": "GYTtMhZiCVld",
        "colab_type": "text"
      },
      "source": [
        "### Tags Info\n",
        "\n",
        "The mapping of a tag id to its textual description is available in the dataset."
      ]
    },
    {
      "cell_type": "code",
      "metadata": {
        "id": "USPYEk5eZa7J",
        "colab_type": "code",
        "colab": {
          "base_uri": "https://localhost:8080/",
          "height": 204
        },
        "outputId": "e726a700-e1e0-4eb8-a311-c87dbd36d8e1"
      },
      "source": [
        "tag_df = pd.read_csv(\"/root/.cornac/tags.dat\", sep=\"\\t\", encoding=\"iso-8859-1\")\n",
        "tag_df.head()"
      ],
      "execution_count": 8,
      "outputs": [
        {
          "output_type": "execute_result",
          "data": {
            "text/html": [
              "<div>\n",
              "<style scoped>\n",
              "    .dataframe tbody tr th:only-of-type {\n",
              "        vertical-align: middle;\n",
              "    }\n",
              "\n",
              "    .dataframe tbody tr th {\n",
              "        vertical-align: top;\n",
              "    }\n",
              "\n",
              "    .dataframe thead th {\n",
              "        text-align: right;\n",
              "    }\n",
              "</style>\n",
              "<table border=\"1\" class=\"dataframe\">\n",
              "  <thead>\n",
              "    <tr style=\"text-align: right;\">\n",
              "      <th></th>\n",
              "      <th>id</th>\n",
              "      <th>value</th>\n",
              "    </tr>\n",
              "  </thead>\n",
              "  <tbody>\n",
              "    <tr>\n",
              "      <th>0</th>\n",
              "      <td>1</td>\n",
              "      <td>earth</td>\n",
              "    </tr>\n",
              "    <tr>\n",
              "      <th>1</th>\n",
              "      <td>2</td>\n",
              "      <td>police</td>\n",
              "    </tr>\n",
              "    <tr>\n",
              "      <th>2</th>\n",
              "      <td>3</td>\n",
              "      <td>boxing</td>\n",
              "    </tr>\n",
              "    <tr>\n",
              "      <th>3</th>\n",
              "      <td>4</td>\n",
              "      <td>painter</td>\n",
              "    </tr>\n",
              "    <tr>\n",
              "      <th>4</th>\n",
              "      <td>5</td>\n",
              "      <td>whale</td>\n",
              "    </tr>\n",
              "  </tbody>\n",
              "</table>\n",
              "</div>"
            ],
            "text/plain": [
              "   id    value\n",
              "0   1    earth\n",
              "1   2   police\n",
              "2   3   boxing\n",
              "3   4  painter\n",
              "4   5    whale"
            ]
          },
          "metadata": {
            "tags": []
          },
          "execution_count": 8
        }
      ]
    },
    {
      "cell_type": "markdown",
      "metadata": {
        "id": "qjKlVMelCNW_",
        "colab_type": "text"
      },
      "source": [
        "### Movie Info\n",
        "\n",
        "The original movie information -title and year- available at MovieLens10M dataset have been extended with public data provided in IMDb and Rotten Tomatoes websites."
      ]
    },
    {
      "cell_type": "code",
      "metadata": {
        "id": "6FQ8Fh89ZKpX",
        "colab_type": "code",
        "colab": {
          "base_uri": "https://localhost:8080/",
          "height": 377
        },
        "outputId": "9b0b348b-895b-4605-d783-1dd67eec29b8"
      },
      "source": [
        "movie_df = pd.read_csv(\"/root/.cornac/movies.dat\", sep=\"\\t\", encoding=\"iso-8859-1\")\n",
        "movie_df.head()"
      ],
      "execution_count": 9,
      "outputs": [
        {
          "output_type": "execute_result",
          "data": {
            "text/html": [
              "<div>\n",
              "<style scoped>\n",
              "    .dataframe tbody tr th:only-of-type {\n",
              "        vertical-align: middle;\n",
              "    }\n",
              "\n",
              "    .dataframe tbody tr th {\n",
              "        vertical-align: top;\n",
              "    }\n",
              "\n",
              "    .dataframe thead th {\n",
              "        text-align: right;\n",
              "    }\n",
              "</style>\n",
              "<table border=\"1\" class=\"dataframe\">\n",
              "  <thead>\n",
              "    <tr style=\"text-align: right;\">\n",
              "      <th></th>\n",
              "      <th>id</th>\n",
              "      <th>title</th>\n",
              "      <th>imdbID</th>\n",
              "      <th>spanishTitle</th>\n",
              "      <th>imdbPictureURL</th>\n",
              "      <th>year</th>\n",
              "      <th>rtID</th>\n",
              "      <th>rtAllCriticsRating</th>\n",
              "      <th>rtAllCriticsNumReviews</th>\n",
              "      <th>rtAllCriticsNumFresh</th>\n",
              "      <th>rtAllCriticsNumRotten</th>\n",
              "      <th>rtAllCriticsScore</th>\n",
              "      <th>rtTopCriticsRating</th>\n",
              "      <th>rtTopCriticsNumReviews</th>\n",
              "      <th>rtTopCriticsNumFresh</th>\n",
              "      <th>rtTopCriticsNumRotten</th>\n",
              "      <th>rtTopCriticsScore</th>\n",
              "      <th>rtAudienceRating</th>\n",
              "      <th>rtAudienceNumRatings</th>\n",
              "      <th>rtAudienceScore</th>\n",
              "      <th>rtPictureURL</th>\n",
              "    </tr>\n",
              "  </thead>\n",
              "  <tbody>\n",
              "    <tr>\n",
              "      <th>0</th>\n",
              "      <td>1</td>\n",
              "      <td>Toy story</td>\n",
              "      <td>114709</td>\n",
              "      <td>Toy story (juguetes)</td>\n",
              "      <td>http://ia.media-imdb.com/images/M/MV5BMTMwNDU0...</td>\n",
              "      <td>1995</td>\n",
              "      <td>toy_story</td>\n",
              "      <td>9</td>\n",
              "      <td>73</td>\n",
              "      <td>73</td>\n",
              "      <td>0</td>\n",
              "      <td>100</td>\n",
              "      <td>8.5</td>\n",
              "      <td>17</td>\n",
              "      <td>17</td>\n",
              "      <td>0</td>\n",
              "      <td>100</td>\n",
              "      <td>3.7</td>\n",
              "      <td>102338</td>\n",
              "      <td>81</td>\n",
              "      <td>http://content7.flixster.com/movie/10/93/63/10...</td>\n",
              "    </tr>\n",
              "    <tr>\n",
              "      <th>1</th>\n",
              "      <td>2</td>\n",
              "      <td>Jumanji</td>\n",
              "      <td>113497</td>\n",
              "      <td>Jumanji</td>\n",
              "      <td>http://ia.media-imdb.com/images/M/MV5BMzM5NjE1...</td>\n",
              "      <td>1995</td>\n",
              "      <td>1068044-jumanji</td>\n",
              "      <td>5.6</td>\n",
              "      <td>28</td>\n",
              "      <td>13</td>\n",
              "      <td>15</td>\n",
              "      <td>46</td>\n",
              "      <td>5.8</td>\n",
              "      <td>5</td>\n",
              "      <td>2</td>\n",
              "      <td>3</td>\n",
              "      <td>40</td>\n",
              "      <td>3.2</td>\n",
              "      <td>44587</td>\n",
              "      <td>61</td>\n",
              "      <td>http://content8.flixster.com/movie/56/79/73/56...</td>\n",
              "    </tr>\n",
              "    <tr>\n",
              "      <th>2</th>\n",
              "      <td>3</td>\n",
              "      <td>Grumpy Old Men</td>\n",
              "      <td>107050</td>\n",
              "      <td>Dos viejos gruñones</td>\n",
              "      <td>http://ia.media-imdb.com/images/M/MV5BMTI5MTgy...</td>\n",
              "      <td>1993</td>\n",
              "      <td>grumpy_old_men</td>\n",
              "      <td>5.9</td>\n",
              "      <td>36</td>\n",
              "      <td>24</td>\n",
              "      <td>12</td>\n",
              "      <td>66</td>\n",
              "      <td>7</td>\n",
              "      <td>6</td>\n",
              "      <td>5</td>\n",
              "      <td>1</td>\n",
              "      <td>83</td>\n",
              "      <td>3.2</td>\n",
              "      <td>10489</td>\n",
              "      <td>66</td>\n",
              "      <td>http://content6.flixster.com/movie/25/60/25602...</td>\n",
              "    </tr>\n",
              "    <tr>\n",
              "      <th>3</th>\n",
              "      <td>4</td>\n",
              "      <td>Waiting to Exhale</td>\n",
              "      <td>114885</td>\n",
              "      <td>Esperando un respiro</td>\n",
              "      <td>http://ia.media-imdb.com/images/M/MV5BMTczMTMy...</td>\n",
              "      <td>1995</td>\n",
              "      <td>waiting_to_exhale</td>\n",
              "      <td>5.6</td>\n",
              "      <td>25</td>\n",
              "      <td>14</td>\n",
              "      <td>11</td>\n",
              "      <td>56</td>\n",
              "      <td>5.5</td>\n",
              "      <td>11</td>\n",
              "      <td>5</td>\n",
              "      <td>6</td>\n",
              "      <td>45</td>\n",
              "      <td>3.3</td>\n",
              "      <td>5666</td>\n",
              "      <td>79</td>\n",
              "      <td>http://content9.flixster.com/movie/10/94/17/10...</td>\n",
              "    </tr>\n",
              "    <tr>\n",
              "      <th>4</th>\n",
              "      <td>5</td>\n",
              "      <td>Father of the Bride Part II</td>\n",
              "      <td>113041</td>\n",
              "      <td>Vuelve el padre de la novia (Ahora también abu...</td>\n",
              "      <td>http://ia.media-imdb.com/images/M/MV5BMTg1NDc2...</td>\n",
              "      <td>1995</td>\n",
              "      <td>father_of_the_bride_part_ii</td>\n",
              "      <td>5.3</td>\n",
              "      <td>19</td>\n",
              "      <td>9</td>\n",
              "      <td>10</td>\n",
              "      <td>47</td>\n",
              "      <td>5.4</td>\n",
              "      <td>5</td>\n",
              "      <td>1</td>\n",
              "      <td>4</td>\n",
              "      <td>20</td>\n",
              "      <td>3</td>\n",
              "      <td>13761</td>\n",
              "      <td>64</td>\n",
              "      <td>http://content8.flixster.com/movie/25/54/25542...</td>\n",
              "    </tr>\n",
              "  </tbody>\n",
              "</table>\n",
              "</div>"
            ],
            "text/plain": [
              "   id  ...                                       rtPictureURL\n",
              "0   1  ...  http://content7.flixster.com/movie/10/93/63/10...\n",
              "1   2  ...  http://content8.flixster.com/movie/56/79/73/56...\n",
              "2   3  ...  http://content6.flixster.com/movie/25/60/25602...\n",
              "3   4  ...  http://content9.flixster.com/movie/10/94/17/10...\n",
              "4   5  ...  http://content8.flixster.com/movie/25/54/25542...\n",
              "\n",
              "[5 rows x 21 columns]"
            ]
          },
          "metadata": {
            "tags": []
          },
          "execution_count": 9
        }
      ]
    },
    {
      "cell_type": "markdown",
      "metadata": {
        "id": "VTphGzihCaLh",
        "colab_type": "text"
      },
      "source": [
        "### Data Statistics"
      ]
    },
    {
      "cell_type": "code",
      "metadata": {
        "id": "PFIyosRgxKMV",
        "colab_type": "code",
        "colab": {
          "base_uri": "https://localhost:8080/",
          "height": 136
        },
        "outputId": "f825de57-146e-488f-fffd-779e882af019"
      },
      "source": [
        "n_users = user_ratedmovies_df.userID.nunique()\n",
        "n_movies = user_ratedmovies_df.movieID.nunique()\n",
        "n_tags = tag_df.id.nunique()\n",
        "\n",
        "print(\"Number of users:\", n_users)\n",
        "print(\"Number of movies:\", n_movies)\n",
        "print(\"Number of ratings:\", len(user_ratedmovies_df))\n",
        "print(\"-\" * 30)\n",
        "print(\"Number of tags:\", n_tags)\n",
        "print(\"Number of tag assignments:\", len(user_taggedmovies_df))\n",
        "print(\"Number of tagged movies:\", user_taggedmovies_df.movieID.nunique())"
      ],
      "execution_count": 10,
      "outputs": [
        {
          "output_type": "stream",
          "text": [
            "Number of users: 2113\n",
            "Number of movies: 10109\n",
            "Number of ratings: 855598\n",
            "------------------------------\n",
            "Number of tags: 13222\n",
            "Number of tag assignments: 47957\n",
            "Number of tagged movies: 5908\n"
          ],
          "name": "stdout"
        }
      ]
    },
    {
      "cell_type": "markdown",
      "metadata": {
        "id": "Q8y1EFjcCD0s",
        "colab_type": "text"
      },
      "source": [
        "### Data Splitting"
      ]
    },
    {
      "cell_type": "code",
      "metadata": {
        "id": "I7ha44N3xKJp",
        "colab_type": "code",
        "colab": {
          "base_uri": "https://localhost:8080/",
          "height": 51
        },
        "outputId": "a595c0af-338c-4c0a-dee8-d023911ffeb6"
      },
      "source": [
        "train_df, test_df = train_test_split(user_ratedmovies_df, test_size=0.2, random_state=SEED)\n",
        "print(\"Training size:\", len(train_df))\n",
        "print(\"Test size:\", len(test_df))"
      ],
      "execution_count": 11,
      "outputs": [
        {
          "output_type": "stream",
          "text": [
            "Training size: 684478\n",
            "Test size: 171120\n"
          ],
          "name": "stdout"
        }
      ]
    },
    {
      "cell_type": "markdown",
      "metadata": {
        "id": "kxWuhq29wLZY",
        "colab_type": "text"
      },
      "source": [
        "## 3. Traditional Matrix Factorization\n",
        "\n",
        "Matrix factorization (MF) only makes use of (user, item, rating) information to train a recommendation model.  We include MF as a baseline to see if context produces an improvement.\n",
        "\n",
        "To train MF model with the provided data, we make use of the Cornac library as follows:"
      ]
    },
    {
      "cell_type": "code",
      "metadata": {
        "id": "4keFjMNswNXV",
        "colab_type": "code",
        "colab": {
          "base_uri": "https://localhost:8080/",
          "height": 85
        },
        "outputId": "8e184e81-6d32-4501-ab5f-aee3c79cd406"
      },
      "source": [
        "eval_method = cornac.eval_methods.BaseMethod.from_splits(\n",
        "  train_data=list(train_df.itertuples(index=False)), \n",
        "  test_data=list(test_df.itertuples(index=False)),\n",
        "  exclude_unknowns=False, \n",
        "  verbose=VERBOSE,\n",
        "  seed=SEED,\n",
        ")\n",
        "\n",
        "mf = cornac.models.MF(\n",
        "  k=10, \n",
        "  max_iter=20, \n",
        "  learning_rate=0.01, \n",
        "  lambda_reg=0.02, \n",
        "  use_bias=True,\n",
        "  verbose=VERBOSE, seed=SEED,\n",
        ")\n",
        "\n",
        "test_result, _ = eval_method.evaluate(\n",
        "  model=mf, metrics=[cornac.metrics.RMSE()], user_based=False\n",
        ")\n",
        "print(test_result)"
      ],
      "execution_count": 12,
      "outputs": [
        {
          "output_type": "stream",
          "text": [
            "   |   RMSE | Train (s) | Test (s)\n",
            "-- + ------ + --------- + --------\n",
            "MF | 0.7576 |    0.7268 |   2.2724\n",
            "\n"
          ],
          "name": "stdout"
        }
      ]
    },
    {
      "cell_type": "markdown",
      "metadata": {
        "id": "0GePqE99j5nr",
        "colab_type": "text"
      },
      "source": [
        "## 4. Factorization Machines with Contextual Information\n",
        "\n",
        "\n"
      ]
    },
    {
      "cell_type": "markdown",
      "metadata": {
        "id": "0_3x0YX8cz_G",
        "colab_type": "text"
      },
      "source": [
        "Factorization Machines (FM) model formulates rating prediction as a regression problem in which user, item, and additional contextual information are combined into a feature vector $\\mathbf{x}_i$.  The predictor consists of global bias, first-order, and second-order interactions of the input features.  The estimation is as follow:\n",
        "\n",
        "$$\n",
        "\\hat{y}(\\mathbf{x}_i) = w_0 + \\sum_{f=1}^{F} w_f . x_{if} + \\sum_{f=1}^{F} \\sum_{g=f+1}^{F} x_{if} . x_{ig} \\Big( \\sum_{k=1}^{K} v_{fk} . v_{gk} \\Big)\n",
        "$$\n",
        "\n",
        "where $F$ is the length of feature vectors and $K$ is the dimensionality of second-order latent factors.\n",
        "\n",
        "FM can be extended and generalized into higher-order interactions.  Given the degree of data sparsity commonly faced in recommender systems, second-order FM is usually sufficient. Higher orders would be less efficient and harder to estimate.\n",
        "\n",
        "Without the additional features and with only user and item, second-order FM is reduced to matrix factorization.  Therefore, FM is a general framework to incorporate contextual information while maintaining the effectiveness of factorization models in recommender systems.\n",
        "\n",
        "To learn the parameters of the FM regressor, we minimize the following regularized squared loss function:\n",
        "\n",
        "$$\n",
        "\\mathcal{L}(\\mathbf{w, V} | \\lambda) = \\frac{1}{2} \\sum_{(\\mathbf{x}, y) \\in \\mathcal{D}} (y - \\hat{y}(\\mathbf{x})) + \\frac{\\lambda}{2} || \\mathbf{w} ||^2 + \\frac{\\lambda}{2} ||\\mathbf{V}||_2^2\n",
        "$$\n"
      ]
    },
    {
      "cell_type": "markdown",
      "metadata": {
        "id": "2rVv89voSi94",
        "colab_type": "text"
      },
      "source": [
        "In this tutorial, we will train FM model using the [libFM](http://www.libfm.org/) package released by the original authors [2].  In order to use the software, we need to prepare the data in a specific format expected by libFM.\n",
        "\n",
        "As an example of contextual information, we use the user-movie tag assignments.  First, we identify a set of tags for each pair of (user, movie):"
      ]
    },
    {
      "cell_type": "code",
      "metadata": {
        "id": "EVsFxuMJYteh",
        "colab_type": "code",
        "colab": {}
      },
      "source": [
        "user_movie_tags = defaultdict(set)\n",
        "for uid, mid, tid, *_ in user_taggedmovies_df.itertuples(index=False):\n",
        "  user_movie_tags[(uid, mid)].add(tid)"
      ],
      "execution_count": 13,
      "outputs": []
    },
    {
      "cell_type": "markdown",
      "metadata": {
        "id": "g6z6h359ZGQ0",
        "colab_type": "text"
      },
      "source": [
        "Second, we maintain mappings from ID to index for users, movies, and tags.  These will be used to create feature vectors for the FM model.   "
      ]
    },
    {
      "cell_type": "code",
      "metadata": {
        "id": "kc3eYnrWsdts",
        "colab_type": "code",
        "colab": {}
      },
      "source": [
        "user_id2idx = eval_method.global_uid_map\n",
        "movie_id2idx = eval_method.global_iid_map\n",
        "\n",
        "# create mapping for tags\n",
        "tag_id2idx = defaultdict()\n",
        "for tagid, _ in tag_df.itertuples(index=False):\n",
        "  tag_id2idx.setdefault(tagid, len(tag_id2idx))\n",
        "assert len(tag_id2idx) == n_tags"
      ],
      "execution_count": 14,
      "outputs": []
    },
    {
      "cell_type": "markdown",
      "metadata": {
        "id": "thUygtxHZwjr",
        "colab_type": "text"
      },
      "source": [
        "For each feature vector, most of the values will be zeros.  Thus, we will save a lot of memory by storing the data in a sparse format.  The code below will create training and test data in the sparse format used by libFM."
      ]
    },
    {
      "cell_type": "code",
      "metadata": {
        "id": "l2SWfVd22HSU",
        "colab_type": "code",
        "colab": {}
      },
      "source": [
        "def to_fm_sparse_fmt(rating, uid, mid, tags):\n",
        "  # order of features: user, movie, tags\n",
        "  user_start_idx = 0\n",
        "  movie_start_idx = n_users\n",
        "  tag_start_idx = movie_start_idx + n_movies\n",
        "  return \"{} {}:1 {}:1 {}\\n\".format(\n",
        "    rating,\n",
        "    user_id2idx[uid],\n",
        "    movie_id2idx[mid] + movie_start_idx, \n",
        "    \" \".join(\"{}:1\".format(tag_id2idx[t] + tag_start_idx) for t in tags)\n",
        "  )\n",
        "\n",
        "# save training data to file\n",
        "with open(\"train.libfm\", \"w\") as f:\n",
        "  for uid, mid, rating, *_ in train_df.itertuples(index=False):\n",
        "    f.write(to_fm_sparse_fmt(rating, uid, mid, user_movie_tags[(uid, mid)]))\n",
        "\n",
        "# save test data to file\n",
        "with open(\"test.libfm\", \"w\") as f:\n",
        "  for uid, mid, rating, *_ in test_df.itertuples(index=False):\n",
        "    f.write(to_fm_sparse_fmt(rating, uid, mid, user_movie_tags[(uid, mid)]))   "
      ],
      "execution_count": 15,
      "outputs": []
    },
    {
      "cell_type": "markdown",
      "metadata": {
        "id": "Za5VSmgkaoKz",
        "colab_type": "text"
      },
      "source": [
        "Let's take a look at how the data is stored in files. "
      ]
    },
    {
      "cell_type": "code",
      "metadata": {
        "id": "OuZDbzzx7Wgz",
        "colab_type": "code",
        "colab": {
          "base_uri": "https://localhost:8080/",
          "height": 187
        },
        "outputId": "80723e4f-2ff7-403b-b9e5-349046b58c67"
      },
      "source": [
        "!head train.libfm"
      ],
      "execution_count": 16,
      "outputs": [
        {
          "output_type": "stream",
          "text": [
            "4.5 0:1 2113:1 \n",
            "3.0 1:1 2114:1 \n",
            "4.5 2:1 2115:1 \n",
            "2.0 3:1 2116:1 \n",
            "4.0 4:1 2117:1 \n",
            "2.5 5:1 2118:1 \n",
            "2.0 6:1 2119:1 \n",
            "3.5 7:1 2120:1 \n",
            "4.0 8:1 2121:1 \n",
            "3.5 9:1 2122:1 \n"
          ],
          "name": "stdout"
        }
      ]
    },
    {
      "cell_type": "code",
      "metadata": {
        "id": "DND8bDmq8Ly2",
        "colab_type": "code",
        "colab": {
          "base_uri": "https://localhost:8080/",
          "height": 187
        },
        "outputId": "d4420345-1f6e-4310-80b7-18250209e2c6"
      },
      "source": [
        "!head test.libfm"
      ],
      "execution_count": 17,
      "outputs": [
        {
          "output_type": "stream",
          "text": [
            "4.0 597:1 4195:1 13921:1\n",
            "3.0 404:1 5014:1 \n",
            "4.0 128:1 3404:1 \n",
            "3.0 66:1 2626:1 \n",
            "4.0 399:1 9555:1 \n",
            "3.5 1646:1 4225:1 \n",
            "5.0 426:1 2738:1 \n",
            "4.0 1057:1 6819:1 \n",
            "3.0 136:1 3685:1 \n",
            "4.0 229:1 3053:1 \n"
          ],
          "name": "stdout"
        }
      ]
    },
    {
      "cell_type": "markdown",
      "metadata": {
        "id": "k6XIC01uUeHp",
        "colab_type": "text"
      },
      "source": [
        "For details on how to use libFM, we can refer to the manual: http://www.libfm.org/libfm-1.42.manual.pdf.\n",
        "\n",
        "Below is the list of arguments that we can input to the libFM:"
      ]
    },
    {
      "cell_type": "code",
      "metadata": {
        "id": "o4JuScltXBra",
        "colab_type": "code",
        "colab": {
          "base_uri": "https://localhost:8080/",
          "height": 578
        },
        "outputId": "dc18acae-5eb2-4c50-918d-3986bf47ee35"
      },
      "source": [
        "!./libfm/bin/libFM"
      ],
      "execution_count": 18,
      "outputs": [
        {
          "output_type": "stream",
          "text": [
            "----------------------------------------------------------------------------\n",
            "libFM\n",
            "  Version: 1.4.4\n",
            "  Author:  Steffen Rendle, srendle@libfm.org\n",
            "  WWW:     http://www.libfm.org/\n",
            "This program comes with ABSOLUTELY NO WARRANTY; for details see license.txt.\n",
            "This is free software, and you are welcome to redistribute it under certain\n",
            "conditions; for details see license.txt.\n",
            "----------------------------------------------------------------------------\n",
            "-cache_size     cache size for data storage (only applicable if data is\n",
            "                in binary format), default=infty\n",
            "-dim            'k0,k1,k2': k0=use bias, k1=use 1-way interactions,\n",
            "                k2=dim of 2-way interactions; default=1,1,8\n",
            "-help           this screen\n",
            "-init_stdev     stdev for initialization of 2-way factors; default=0.1\n",
            "-iter           number of iterations; default=100\n",
            "-learn_rate     learn_rate for SGD; default=0.1\n",
            "-load_model     filename for reading the FM model\n",
            "-meta           filename for meta information about data set\n",
            "-method         learning method (SGD, SGDA, ALS, MCMC); default=MCMC\n",
            "-out            filename for output\n",
            "-regular        'r0,r1,r2' for SGD and ALS: r0=bias regularization,\n",
            "                r1=1-way regularization, r2=2-way regularization\n",
            "-relation       BS: filenames for the relations, default=''\n",
            "-rlog           write measurements within iterations to a file;\n",
            "                default=''\n",
            "-save_model     filename for writing the FM model\n",
            "-seed           integer value, default=None\n",
            "-task           r=regression, c=binary classification [MANDATORY]\n",
            "-test           filename for test data [MANDATORY]\n",
            "-train          filename for training data [MANDATORY]\n",
            "-validation     filename for validation data (only for SGDA)\n",
            "-verbosity      how much infos to print; default=0\n"
          ],
          "name": "stdout"
        }
      ]
    },
    {
      "cell_type": "markdown",
      "metadata": {
        "id": "vGxK_h69V1wT",
        "colab_type": "text"
      },
      "source": [
        "\n",
        "\n",
        "\n",
        "To train a model on our data, we run the following command:"
      ]
    },
    {
      "cell_type": "code",
      "metadata": {
        "id": "Dvyht7Rf8ODS",
        "colab_type": "code",
        "colab": {
          "base_uri": "https://localhost:8080/",
          "height": 1000
        },
        "outputId": "352d5a4d-3507-4220-e49f-3e13805f67b0"
      },
      "source": [
        "!./libfm/bin/libFM -task r -train train.libfm -test test.libfm -seed $SEED -dim \"1,1,10\" -iter 200"
      ],
      "execution_count": 19,
      "outputs": [
        {
          "output_type": "stream",
          "text": [
            "----------------------------------------------------------------------------\n",
            "libFM\n",
            "  Version: 1.4.4\n",
            "  Author:  Steffen Rendle, srendle@libfm.org\n",
            "  WWW:     http://www.libfm.org/\n",
            "This program comes with ABSOLUTELY NO WARRANTY; for details see license.txt.\n",
            "This is free software, and you are welcome to redistribute it under certain\n",
            "conditions; for details see license.txt.\n",
            "----------------------------------------------------------------------------\n",
            "Loading train...\t\n",
            "has x = 0\n",
            "has xt = 1\n",
            "num_rows=684478\tnum_values=1398326\tnum_features=25444\tmin_target=0.5\tmax_target=5\n",
            "Loading test... \t\n",
            "has x = 0\n",
            "has xt = 1\n",
            "num_rows=171120\tnum_values=349755\tnum_features=25431\tmin_target=0.5\tmax_target=5\n",
            "#relations: 0\n",
            "Loading meta data...\t\n",
            "#Iter=  0\tTrain=0.93938\tTest=0.937978\n",
            "#Iter=  1\tTrain=0.835144\tTest=0.872688\n",
            "#Iter=  2\tTrain=0.811651\tTest=0.845675\n",
            "#Iter=  3\tTrain=0.802268\tTest=0.830956\n",
            "#Iter=  4\tTrain=0.798476\tTest=0.822256\n",
            "#Iter=  5\tTrain=0.796305\tTest=0.816585\n",
            "#Iter=  6\tTrain=0.794784\tTest=0.812691\n",
            "#Iter=  7\tTrain=0.792521\tTest=0.809914\n",
            "#Iter=  8\tTrain=0.789273\tTest=0.807569\n",
            "#Iter=  9\tTrain=0.785672\tTest=0.805437\n",
            "#Iter= 10\tTrain=0.782158\tTest=0.803475\n",
            "#Iter= 11\tTrain=0.778231\tTest=0.801532\n",
            "#Iter= 12\tTrain=0.773548\tTest=0.799509\n",
            "#Iter= 13\tTrain=0.767043\tTest=0.797317\n",
            "#Iter= 14\tTrain=0.761528\tTest=0.794908\n",
            "#Iter= 15\tTrain=0.75776\tTest=0.792603\n",
            "#Iter= 16\tTrain=0.754953\tTest=0.79044\n",
            "#Iter= 17\tTrain=0.75333\tTest=0.788415\n",
            "#Iter= 18\tTrain=0.752143\tTest=0.786579\n",
            "#Iter= 19\tTrain=0.751226\tTest=0.78494\n",
            "#Iter= 20\tTrain=0.750046\tTest=0.783464\n",
            "#Iter= 21\tTrain=0.748248\tTest=0.782106\n",
            "#Iter= 22\tTrain=0.746881\tTest=0.780838\n",
            "#Iter= 23\tTrain=0.744981\tTest=0.77965\n",
            "#Iter= 24\tTrain=0.742758\tTest=0.778553\n",
            "#Iter= 25\tTrain=0.741283\tTest=0.777478\n",
            "#Iter= 26\tTrain=0.739512\tTest=0.776423\n",
            "#Iter= 27\tTrain=0.73802\tTest=0.775412\n",
            "#Iter= 28\tTrain=0.736859\tTest=0.77446\n",
            "#Iter= 29\tTrain=0.735028\tTest=0.77355\n",
            "#Iter= 30\tTrain=0.734021\tTest=0.772655\n",
            "#Iter= 31\tTrain=0.733378\tTest=0.77187\n",
            "#Iter= 32\tTrain=0.732332\tTest=0.771081\n",
            "#Iter= 33\tTrain=0.731917\tTest=0.770343\n",
            "#Iter= 34\tTrain=0.730953\tTest=0.769634\n",
            "#Iter= 35\tTrain=0.730497\tTest=0.768978\n",
            "#Iter= 36\tTrain=0.730213\tTest=0.768355\n",
            "#Iter= 37\tTrain=0.729894\tTest=0.767771\n",
            "#Iter= 38\tTrain=0.729232\tTest=0.767247\n",
            "#Iter= 39\tTrain=0.728846\tTest=0.766737\n",
            "#Iter= 40\tTrain=0.728679\tTest=0.766247\n",
            "#Iter= 41\tTrain=0.728289\tTest=0.765779\n",
            "#Iter= 42\tTrain=0.728229\tTest=0.765351\n",
            "#Iter= 43\tTrain=0.728032\tTest=0.764958\n",
            "#Iter= 44\tTrain=0.727905\tTest=0.764574\n",
            "#Iter= 45\tTrain=0.727527\tTest=0.764215\n",
            "#Iter= 46\tTrain=0.727584\tTest=0.763898\n",
            "#Iter= 47\tTrain=0.7275\tTest=0.763572\n",
            "#Iter= 48\tTrain=0.72737\tTest=0.763262\n",
            "#Iter= 49\tTrain=0.727113\tTest=0.762961\n",
            "#Iter= 50\tTrain=0.726681\tTest=0.762695\n",
            "#Iter= 51\tTrain=0.726687\tTest=0.762429\n",
            "#Iter= 52\tTrain=0.7261\tTest=0.762147\n",
            "#Iter= 53\tTrain=0.726017\tTest=0.761909\n",
            "#Iter= 54\tTrain=0.725856\tTest=0.761653\n",
            "#Iter= 55\tTrain=0.72513\tTest=0.761428\n",
            "#Iter= 56\tTrain=0.724987\tTest=0.761218\n",
            "#Iter= 57\tTrain=0.724348\tTest=0.761001\n",
            "#Iter= 58\tTrain=0.723802\tTest=0.760767\n",
            "#Iter= 59\tTrain=0.7229\tTest=0.760547\n",
            "#Iter= 60\tTrain=0.722071\tTest=0.76034\n",
            "#Iter= 61\tTrain=0.721194\tTest=0.760115\n",
            "#Iter= 62\tTrain=0.720287\tTest=0.759895\n",
            "#Iter= 63\tTrain=0.71959\tTest=0.759682\n",
            "#Iter= 64\tTrain=0.718247\tTest=0.759456\n",
            "#Iter= 65\tTrain=0.717953\tTest=0.759222\n",
            "#Iter= 66\tTrain=0.717089\tTest=0.758989\n",
            "#Iter= 67\tTrain=0.716182\tTest=0.758764\n",
            "#Iter= 68\tTrain=0.715354\tTest=0.758539\n",
            "#Iter= 69\tTrain=0.714789\tTest=0.758313\n",
            "#Iter= 70\tTrain=0.714493\tTest=0.758083\n",
            "#Iter= 71\tTrain=0.714378\tTest=0.757877\n",
            "#Iter= 72\tTrain=0.713573\tTest=0.757666\n",
            "#Iter= 73\tTrain=0.713056\tTest=0.757471\n",
            "#Iter= 74\tTrain=0.712369\tTest=0.757266\n",
            "#Iter= 75\tTrain=0.712096\tTest=0.757062\n",
            "#Iter= 76\tTrain=0.711705\tTest=0.756858\n",
            "#Iter= 77\tTrain=0.711166\tTest=0.756666\n",
            "#Iter= 78\tTrain=0.710628\tTest=0.756462\n",
            "#Iter= 79\tTrain=0.710044\tTest=0.756275\n",
            "#Iter= 80\tTrain=0.709898\tTest=0.756091\n",
            "#Iter= 81\tTrain=0.708808\tTest=0.755904\n",
            "#Iter= 82\tTrain=0.708803\tTest=0.75573\n",
            "#Iter= 83\tTrain=0.708332\tTest=0.755569\n",
            "#Iter= 84\tTrain=0.708198\tTest=0.755411\n",
            "#Iter= 85\tTrain=0.707938\tTest=0.75524\n",
            "#Iter= 86\tTrain=0.707593\tTest=0.755081\n",
            "#Iter= 87\tTrain=0.707456\tTest=0.754927\n",
            "#Iter= 88\tTrain=0.707002\tTest=0.754778\n",
            "#Iter= 89\tTrain=0.707031\tTest=0.75463\n",
            "#Iter= 90\tTrain=0.706737\tTest=0.754481\n",
            "#Iter= 91\tTrain=0.70664\tTest=0.754329\n",
            "#Iter= 92\tTrain=0.706804\tTest=0.754185\n",
            "#Iter= 93\tTrain=0.706465\tTest=0.754033\n",
            "#Iter= 94\tTrain=0.705991\tTest=0.753893\n",
            "#Iter= 95\tTrain=0.706373\tTest=0.753758\n",
            "#Iter= 96\tTrain=0.70619\tTest=0.753624\n",
            "#Iter= 97\tTrain=0.705897\tTest=0.753506\n",
            "#Iter= 98\tTrain=0.705783\tTest=0.753384\n",
            "#Iter= 99\tTrain=0.705611\tTest=0.753276\n",
            "#Iter=100\tTrain=0.705144\tTest=0.753157\n",
            "#Iter=101\tTrain=0.704865\tTest=0.753035\n",
            "#Iter=102\tTrain=0.704551\tTest=0.752912\n",
            "#Iter=103\tTrain=0.703745\tTest=0.752784\n",
            "#Iter=104\tTrain=0.703622\tTest=0.752681\n",
            "#Iter=105\tTrain=0.703096\tTest=0.752571\n",
            "#Iter=106\tTrain=0.703003\tTest=0.75246\n",
            "#Iter=107\tTrain=0.702668\tTest=0.752347\n",
            "#Iter=108\tTrain=0.702287\tTest=0.752223\n",
            "#Iter=109\tTrain=0.701858\tTest=0.752101\n",
            "#Iter=110\tTrain=0.701644\tTest=0.751988\n",
            "#Iter=111\tTrain=0.701824\tTest=0.751872\n",
            "#Iter=112\tTrain=0.701337\tTest=0.751758\n",
            "#Iter=113\tTrain=0.701702\tTest=0.75166\n",
            "#Iter=114\tTrain=0.701084\tTest=0.751561\n",
            "#Iter=115\tTrain=0.700745\tTest=0.751463\n",
            "#Iter=116\tTrain=0.700452\tTest=0.751359\n",
            "#Iter=117\tTrain=0.700503\tTest=0.751256\n",
            "#Iter=118\tTrain=0.700896\tTest=0.751154\n",
            "#Iter=119\tTrain=0.700376\tTest=0.751055\n",
            "#Iter=120\tTrain=0.700204\tTest=0.750964\n",
            "#Iter=121\tTrain=0.700262\tTest=0.750879\n",
            "#Iter=122\tTrain=0.70023\tTest=0.750796\n",
            "#Iter=123\tTrain=0.700112\tTest=0.750711\n",
            "#Iter=124\tTrain=0.699784\tTest=0.75062\n",
            "#Iter=125\tTrain=0.699867\tTest=0.750532\n",
            "#Iter=126\tTrain=0.70003\tTest=0.750447\n",
            "#Iter=127\tTrain=0.699917\tTest=0.750369\n",
            "#Iter=128\tTrain=0.699675\tTest=0.750292\n",
            "#Iter=129\tTrain=0.699576\tTest=0.750219\n",
            "#Iter=130\tTrain=0.699459\tTest=0.750149\n",
            "#Iter=131\tTrain=0.699654\tTest=0.750072\n",
            "#Iter=132\tTrain=0.699788\tTest=0.750003\n",
            "#Iter=133\tTrain=0.699545\tTest=0.749945\n",
            "#Iter=134\tTrain=0.699232\tTest=0.749878\n",
            "#Iter=135\tTrain=0.699466\tTest=0.74981\n",
            "#Iter=136\tTrain=0.699007\tTest=0.749739\n",
            "#Iter=137\tTrain=0.699058\tTest=0.749675\n",
            "#Iter=138\tTrain=0.699286\tTest=0.749602\n",
            "#Iter=139\tTrain=0.699078\tTest=0.749536\n",
            "#Iter=140\tTrain=0.699005\tTest=0.74947\n",
            "#Iter=141\tTrain=0.698887\tTest=0.749409\n",
            "#Iter=142\tTrain=0.698956\tTest=0.749351\n",
            "#Iter=143\tTrain=0.698949\tTest=0.749292\n",
            "#Iter=144\tTrain=0.69864\tTest=0.749234\n",
            "#Iter=145\tTrain=0.69839\tTest=0.749179\n",
            "#Iter=146\tTrain=0.698376\tTest=0.749116\n",
            "#Iter=147\tTrain=0.698085\tTest=0.749065\n",
            "#Iter=148\tTrain=0.697864\tTest=0.749014\n",
            "#Iter=149\tTrain=0.697966\tTest=0.748964\n",
            "#Iter=150\tTrain=0.697399\tTest=0.748909\n",
            "#Iter=151\tTrain=0.697359\tTest=0.748844\n",
            "#Iter=152\tTrain=0.696522\tTest=0.748793\n",
            "#Iter=153\tTrain=0.696326\tTest=0.748747\n",
            "#Iter=154\tTrain=0.696274\tTest=0.748697\n",
            "#Iter=155\tTrain=0.695988\tTest=0.748645\n",
            "#Iter=156\tTrain=0.695911\tTest=0.748595\n",
            "#Iter=157\tTrain=0.696188\tTest=0.748548\n",
            "#Iter=158\tTrain=0.69569\tTest=0.748496\n",
            "#Iter=159\tTrain=0.696096\tTest=0.748453\n",
            "#Iter=160\tTrain=0.695318\tTest=0.748403\n",
            "#Iter=161\tTrain=0.695274\tTest=0.74835\n",
            "#Iter=162\tTrain=0.695271\tTest=0.748296\n",
            "#Iter=163\tTrain=0.695299\tTest=0.748243\n",
            "#Iter=164\tTrain=0.695212\tTest=0.748193\n",
            "#Iter=165\tTrain=0.695328\tTest=0.748144\n",
            "#Iter=166\tTrain=0.694969\tTest=0.748096\n",
            "#Iter=167\tTrain=0.694584\tTest=0.748049\n",
            "#Iter=168\tTrain=0.695063\tTest=0.748003\n",
            "#Iter=169\tTrain=0.695036\tTest=0.747958\n",
            "#Iter=170\tTrain=0.694794\tTest=0.747913\n",
            "#Iter=171\tTrain=0.695167\tTest=0.747862\n",
            "#Iter=172\tTrain=0.694964\tTest=0.747819\n",
            "#Iter=173\tTrain=0.694386\tTest=0.747778\n",
            "#Iter=174\tTrain=0.694713\tTest=0.747732\n",
            "#Iter=175\tTrain=0.694974\tTest=0.747691\n",
            "#Iter=176\tTrain=0.694649\tTest=0.74765\n",
            "#Iter=177\tTrain=0.694654\tTest=0.747609\n",
            "#Iter=178\tTrain=0.694552\tTest=0.747577\n",
            "#Iter=179\tTrain=0.694649\tTest=0.747538\n",
            "#Iter=180\tTrain=0.694364\tTest=0.747503\n",
            "#Iter=181\tTrain=0.694092\tTest=0.747459\n",
            "#Iter=182\tTrain=0.694282\tTest=0.747421\n",
            "#Iter=183\tTrain=0.6939\tTest=0.747391\n",
            "#Iter=184\tTrain=0.694463\tTest=0.747361\n",
            "#Iter=185\tTrain=0.694054\tTest=0.747327\n",
            "#Iter=186\tTrain=0.693983\tTest=0.747288\n",
            "#Iter=187\tTrain=0.693524\tTest=0.747256\n",
            "#Iter=188\tTrain=0.693141\tTest=0.747223\n",
            "#Iter=189\tTrain=0.69313\tTest=0.747188\n",
            "#Iter=190\tTrain=0.692698\tTest=0.747151\n",
            "#Iter=191\tTrain=0.692638\tTest=0.747108\n",
            "#Iter=192\tTrain=0.692775\tTest=0.747073\n",
            "#Iter=193\tTrain=0.692529\tTest=0.74703\n",
            "#Iter=194\tTrain=0.691986\tTest=0.746991\n",
            "#Iter=195\tTrain=0.691638\tTest=0.746951\n",
            "#Iter=196\tTrain=0.691878\tTest=0.746906\n",
            "#Iter=197\tTrain=0.691567\tTest=0.746869\n",
            "#Iter=198\tTrain=0.691894\tTest=0.746825\n",
            "#Iter=199\tTrain=0.691627\tTest=0.746789\n"
          ],
          "name": "stdout"
        }
      ]
    },
    {
      "cell_type": "markdown",
      "metadata": {
        "id": "HnlcLXs_Wf2p",
        "colab_type": "text"
      },
      "source": [
        "The numbers reported above are RMSE. As we can observe, the decreasing RMSE over iterations illustrates a stable training process.  FM model achieves a better result (lower RMSE) on the test set as compared to the matrix factorization model.  If we train the model even longer, it could potentially improve the performance further as the RMSE is still decreasing."
      ]
    },
    {
      "cell_type": "markdown",
      "metadata": {
        "id": "aj0BqQayNXgG",
        "colab_type": "text"
      },
      "source": [
        "## 5. Other Contextual Information to Be Explored\n",
        "\n",
        "Below are some other information provided within the dataset.  They also can be used as additional features to the FM model.  Temporal information (*timestamps*) that comes with ratings and tag assignments could be utilized as well."
      ]
    },
    {
      "cell_type": "markdown",
      "metadata": {
        "id": "SMFsDD6oPtqq",
        "colab_type": "text"
      },
      "source": [
        "### Movie Genres\n",
        "\n",
        "The genres that a movie belongs to."
      ]
    },
    {
      "cell_type": "code",
      "metadata": {
        "id": "UP3ZP8F_Pwum",
        "colab_type": "code",
        "colab": {
          "base_uri": "https://localhost:8080/",
          "height": 204
        },
        "outputId": "390da904-cb28-4598-c8bc-35ce92060772"
      },
      "source": [
        "pd.read_csv(\"/root/.cornac/movie_genres.dat\", sep=\"\\t\", encoding=\"iso-8859-1\").head()"
      ],
      "execution_count": 20,
      "outputs": [
        {
          "output_type": "execute_result",
          "data": {
            "text/html": [
              "<div>\n",
              "<style scoped>\n",
              "    .dataframe tbody tr th:only-of-type {\n",
              "        vertical-align: middle;\n",
              "    }\n",
              "\n",
              "    .dataframe tbody tr th {\n",
              "        vertical-align: top;\n",
              "    }\n",
              "\n",
              "    .dataframe thead th {\n",
              "        text-align: right;\n",
              "    }\n",
              "</style>\n",
              "<table border=\"1\" class=\"dataframe\">\n",
              "  <thead>\n",
              "    <tr style=\"text-align: right;\">\n",
              "      <th></th>\n",
              "      <th>movieID</th>\n",
              "      <th>genre</th>\n",
              "    </tr>\n",
              "  </thead>\n",
              "  <tbody>\n",
              "    <tr>\n",
              "      <th>0</th>\n",
              "      <td>1</td>\n",
              "      <td>Adventure</td>\n",
              "    </tr>\n",
              "    <tr>\n",
              "      <th>1</th>\n",
              "      <td>1</td>\n",
              "      <td>Animation</td>\n",
              "    </tr>\n",
              "    <tr>\n",
              "      <th>2</th>\n",
              "      <td>1</td>\n",
              "      <td>Children</td>\n",
              "    </tr>\n",
              "    <tr>\n",
              "      <th>3</th>\n",
              "      <td>1</td>\n",
              "      <td>Comedy</td>\n",
              "    </tr>\n",
              "    <tr>\n",
              "      <th>4</th>\n",
              "      <td>1</td>\n",
              "      <td>Fantasy</td>\n",
              "    </tr>\n",
              "  </tbody>\n",
              "</table>\n",
              "</div>"
            ],
            "text/plain": [
              "   movieID      genre\n",
              "0        1  Adventure\n",
              "1        1  Animation\n",
              "2        1   Children\n",
              "3        1     Comedy\n",
              "4        1    Fantasy"
            ]
          },
          "metadata": {
            "tags": []
          },
          "execution_count": 20
        }
      ]
    },
    {
      "cell_type": "markdown",
      "metadata": {
        "id": "4GfqSEQ6PIjl",
        "colab_type": "text"
      },
      "source": [
        "### Movie Directors\n",
        "\n",
        "The directors of a movie."
      ]
    },
    {
      "cell_type": "code",
      "metadata": {
        "id": "VGwiP2gfPn7b",
        "colab_type": "code",
        "colab": {
          "base_uri": "https://localhost:8080/",
          "height": 204
        },
        "outputId": "2e60fcd1-6a10-4f0e-d571-8e342d1a962c"
      },
      "source": [
        "pd.read_csv(\"/root/.cornac/movie_directors.dat\", sep=\"\\t\", encoding=\"iso-8859-1\").head()"
      ],
      "execution_count": 21,
      "outputs": [
        {
          "output_type": "execute_result",
          "data": {
            "text/html": [
              "<div>\n",
              "<style scoped>\n",
              "    .dataframe tbody tr th:only-of-type {\n",
              "        vertical-align: middle;\n",
              "    }\n",
              "\n",
              "    .dataframe tbody tr th {\n",
              "        vertical-align: top;\n",
              "    }\n",
              "\n",
              "    .dataframe thead th {\n",
              "        text-align: right;\n",
              "    }\n",
              "</style>\n",
              "<table border=\"1\" class=\"dataframe\">\n",
              "  <thead>\n",
              "    <tr style=\"text-align: right;\">\n",
              "      <th></th>\n",
              "      <th>movieID</th>\n",
              "      <th>directorID</th>\n",
              "      <th>directorName</th>\n",
              "    </tr>\n",
              "  </thead>\n",
              "  <tbody>\n",
              "    <tr>\n",
              "      <th>0</th>\n",
              "      <td>1</td>\n",
              "      <td>john_lasseter</td>\n",
              "      <td>John Lasseter</td>\n",
              "    </tr>\n",
              "    <tr>\n",
              "      <th>1</th>\n",
              "      <td>2</td>\n",
              "      <td>joe_johnston</td>\n",
              "      <td>Joe Johnston</td>\n",
              "    </tr>\n",
              "    <tr>\n",
              "      <th>2</th>\n",
              "      <td>3</td>\n",
              "      <td>donald_petrie</td>\n",
              "      <td>Donald Petrie</td>\n",
              "    </tr>\n",
              "    <tr>\n",
              "      <th>3</th>\n",
              "      <td>4</td>\n",
              "      <td>forest_whitaker</td>\n",
              "      <td>Forest Whitaker</td>\n",
              "    </tr>\n",
              "    <tr>\n",
              "      <th>4</th>\n",
              "      <td>5</td>\n",
              "      <td>charles_shyer</td>\n",
              "      <td>Charles Shyer</td>\n",
              "    </tr>\n",
              "  </tbody>\n",
              "</table>\n",
              "</div>"
            ],
            "text/plain": [
              "   movieID       directorID     directorName\n",
              "0        1    john_lasseter    John Lasseter\n",
              "1        2     joe_johnston     Joe Johnston\n",
              "2        3    donald_petrie    Donald Petrie\n",
              "3        4  forest_whitaker  Forest Whitaker\n",
              "4        5    charles_shyer    Charles Shyer"
            ]
          },
          "metadata": {
            "tags": []
          },
          "execution_count": 21
        }
      ]
    },
    {
      "cell_type": "markdown",
      "metadata": {
        "id": "IgrUHAxVPFnT",
        "colab_type": "text"
      },
      "source": [
        "### Movie Actors\n",
        "\n",
        "The main actors and actresses of a movie. \n",
        "\n",
        "A ranking is given to each actor of a movie according to the order in which the actor appears on the movie's IMDb cast Web page."
      ]
    },
    {
      "cell_type": "code",
      "metadata": {
        "id": "-oMwZaPiNwbB",
        "colab_type": "code",
        "colab": {
          "base_uri": "https://localhost:8080/",
          "height": 204
        },
        "outputId": "01d66af9-7a0e-4fbc-adee-b51635630380"
      },
      "source": [
        "pd.read_csv(\"/root/.cornac/movie_actors.dat\", sep=\"\\t\", encoding=\"iso-8859-1\").head()"
      ],
      "execution_count": 22,
      "outputs": [
        {
          "output_type": "execute_result",
          "data": {
            "text/html": [
              "<div>\n",
              "<style scoped>\n",
              "    .dataframe tbody tr th:only-of-type {\n",
              "        vertical-align: middle;\n",
              "    }\n",
              "\n",
              "    .dataframe tbody tr th {\n",
              "        vertical-align: top;\n",
              "    }\n",
              "\n",
              "    .dataframe thead th {\n",
              "        text-align: right;\n",
              "    }\n",
              "</style>\n",
              "<table border=\"1\" class=\"dataframe\">\n",
              "  <thead>\n",
              "    <tr style=\"text-align: right;\">\n",
              "      <th></th>\n",
              "      <th>movieID</th>\n",
              "      <th>actorID</th>\n",
              "      <th>actorName</th>\n",
              "      <th>ranking</th>\n",
              "    </tr>\n",
              "  </thead>\n",
              "  <tbody>\n",
              "    <tr>\n",
              "      <th>0</th>\n",
              "      <td>1</td>\n",
              "      <td>annie_potts</td>\n",
              "      <td>Annie Potts</td>\n",
              "      <td>10</td>\n",
              "    </tr>\n",
              "    <tr>\n",
              "      <th>1</th>\n",
              "      <td>1</td>\n",
              "      <td>bill_farmer</td>\n",
              "      <td>Bill Farmer</td>\n",
              "      <td>20</td>\n",
              "    </tr>\n",
              "    <tr>\n",
              "      <th>2</th>\n",
              "      <td>1</td>\n",
              "      <td>don_rickles</td>\n",
              "      <td>Don Rickles</td>\n",
              "      <td>3</td>\n",
              "    </tr>\n",
              "    <tr>\n",
              "      <th>3</th>\n",
              "      <td>1</td>\n",
              "      <td>erik_von_detten</td>\n",
              "      <td>Erik von Detten</td>\n",
              "      <td>13</td>\n",
              "    </tr>\n",
              "    <tr>\n",
              "      <th>4</th>\n",
              "      <td>1</td>\n",
              "      <td>greg-berg</td>\n",
              "      <td>Greg Berg</td>\n",
              "      <td>17</td>\n",
              "    </tr>\n",
              "  </tbody>\n",
              "</table>\n",
              "</div>"
            ],
            "text/plain": [
              "   movieID          actorID        actorName  ranking\n",
              "0        1      annie_potts      Annie Potts       10\n",
              "1        1      bill_farmer      Bill Farmer       20\n",
              "2        1      don_rickles      Don Rickles        3\n",
              "3        1  erik_von_detten  Erik von Detten       13\n",
              "4        1        greg-berg        Greg Berg       17"
            ]
          },
          "metadata": {
            "tags": []
          },
          "execution_count": 22
        }
      ]
    },
    {
      "cell_type": "markdown",
      "metadata": {
        "id": "RGd7AEH4P-IQ",
        "colab_type": "text"
      },
      "source": [
        "### Movie Countries\n",
        "\n",
        "The country of origin of a movie."
      ]
    },
    {
      "cell_type": "code",
      "metadata": {
        "id": "wI8WDIyrQFtD",
        "colab_type": "code",
        "colab": {
          "base_uri": "https://localhost:8080/",
          "height": 204
        },
        "outputId": "68033126-caa6-495d-b45f-c151db8e45bc"
      },
      "source": [
        "pd.read_csv(\"/root/.cornac/movie_countries.dat\", sep=\"\\t\", encoding=\"iso-8859-1\").head()"
      ],
      "execution_count": 23,
      "outputs": [
        {
          "output_type": "execute_result",
          "data": {
            "text/html": [
              "<div>\n",
              "<style scoped>\n",
              "    .dataframe tbody tr th:only-of-type {\n",
              "        vertical-align: middle;\n",
              "    }\n",
              "\n",
              "    .dataframe tbody tr th {\n",
              "        vertical-align: top;\n",
              "    }\n",
              "\n",
              "    .dataframe thead th {\n",
              "        text-align: right;\n",
              "    }\n",
              "</style>\n",
              "<table border=\"1\" class=\"dataframe\">\n",
              "  <thead>\n",
              "    <tr style=\"text-align: right;\">\n",
              "      <th></th>\n",
              "      <th>movieID</th>\n",
              "      <th>country</th>\n",
              "    </tr>\n",
              "  </thead>\n",
              "  <tbody>\n",
              "    <tr>\n",
              "      <th>0</th>\n",
              "      <td>1</td>\n",
              "      <td>USA</td>\n",
              "    </tr>\n",
              "    <tr>\n",
              "      <th>1</th>\n",
              "      <td>2</td>\n",
              "      <td>USA</td>\n",
              "    </tr>\n",
              "    <tr>\n",
              "      <th>2</th>\n",
              "      <td>3</td>\n",
              "      <td>USA</td>\n",
              "    </tr>\n",
              "    <tr>\n",
              "      <th>3</th>\n",
              "      <td>4</td>\n",
              "      <td>USA</td>\n",
              "    </tr>\n",
              "    <tr>\n",
              "      <th>4</th>\n",
              "      <td>5</td>\n",
              "      <td>USA</td>\n",
              "    </tr>\n",
              "  </tbody>\n",
              "</table>\n",
              "</div>"
            ],
            "text/plain": [
              "   movieID country\n",
              "0        1     USA\n",
              "1        2     USA\n",
              "2        3     USA\n",
              "3        4     USA\n",
              "4        5     USA"
            ]
          },
          "metadata": {
            "tags": []
          },
          "execution_count": 23
        }
      ]
    },
    {
      "cell_type": "markdown",
      "metadata": {
        "id": "QaT8dDuuQ5oI",
        "colab_type": "text"
      },
      "source": [
        "### Movie Location\n",
        "\n",
        "The filming locations of a movie."
      ]
    },
    {
      "cell_type": "code",
      "metadata": {
        "id": "jvReqzzoSsXF",
        "colab_type": "code",
        "colab": {
          "base_uri": "https://localhost:8080/",
          "height": 204
        },
        "outputId": "075d7888-cd9d-403c-f2da-f7fd2b7b6a16"
      },
      "source": [
        "pd.read_csv(\"/root/.cornac/movie_locations.dat\", sep=\"\\t\", encoding=\"iso-8859-1\").head()"
      ],
      "execution_count": 24,
      "outputs": [
        {
          "output_type": "execute_result",
          "data": {
            "text/html": [
              "<div>\n",
              "<style scoped>\n",
              "    .dataframe tbody tr th:only-of-type {\n",
              "        vertical-align: middle;\n",
              "    }\n",
              "\n",
              "    .dataframe tbody tr th {\n",
              "        vertical-align: top;\n",
              "    }\n",
              "\n",
              "    .dataframe thead th {\n",
              "        text-align: right;\n",
              "    }\n",
              "</style>\n",
              "<table border=\"1\" class=\"dataframe\">\n",
              "  <thead>\n",
              "    <tr style=\"text-align: right;\">\n",
              "      <th></th>\n",
              "      <th>movieID</th>\n",
              "      <th>location1</th>\n",
              "      <th>location2</th>\n",
              "      <th>location3</th>\n",
              "      <th>location4</th>\n",
              "    </tr>\n",
              "  </thead>\n",
              "  <tbody>\n",
              "    <tr>\n",
              "      <th>0</th>\n",
              "      <td>1</td>\n",
              "      <td>NaN</td>\n",
              "      <td>NaN</td>\n",
              "      <td>NaN</td>\n",
              "      <td>NaN</td>\n",
              "    </tr>\n",
              "    <tr>\n",
              "      <th>1</th>\n",
              "      <td>2</td>\n",
              "      <td>Canada</td>\n",
              "      <td>British Columbia</td>\n",
              "      <td>NaN</td>\n",
              "      <td>NaN</td>\n",
              "    </tr>\n",
              "    <tr>\n",
              "      <th>2</th>\n",
              "      <td>2</td>\n",
              "      <td>Canada</td>\n",
              "      <td>British Columbia</td>\n",
              "      <td>Delta</td>\n",
              "      <td>NaN</td>\n",
              "    </tr>\n",
              "    <tr>\n",
              "      <th>3</th>\n",
              "      <td>2</td>\n",
              "      <td>Canada</td>\n",
              "      <td>British Columbia</td>\n",
              "      <td>Delta</td>\n",
              "      <td>Tsawwassen</td>\n",
              "    </tr>\n",
              "    <tr>\n",
              "      <th>4</th>\n",
              "      <td>2</td>\n",
              "      <td>Canada</td>\n",
              "      <td>British Columbia</td>\n",
              "      <td>Maple Ridge</td>\n",
              "      <td>NaN</td>\n",
              "    </tr>\n",
              "  </tbody>\n",
              "</table>\n",
              "</div>"
            ],
            "text/plain": [
              "   movieID location1         location2    location3   location4\n",
              "0        1       NaN               NaN          NaN         NaN\n",
              "1        2    Canada  British Columbia          NaN         NaN\n",
              "2        2    Canada  British Columbia        Delta         NaN\n",
              "3        2    Canada  British Columbia        Delta  Tsawwassen\n",
              "4        2    Canada  British Columbia  Maple Ridge         NaN"
            ]
          },
          "metadata": {
            "tags": []
          },
          "execution_count": 24
        }
      ]
    },
    {
      "cell_type": "markdown",
      "metadata": {
        "id": "T8Pt8JHo6Te6",
        "colab_type": "text"
      },
      "source": [
        "### Movie Year\n",
        "\n",
        "The released year of a movie."
      ]
    },
    {
      "cell_type": "code",
      "metadata": {
        "id": "3r3fFSBC7PNi",
        "colab_type": "code",
        "colab": {
          "base_uri": "https://localhost:8080/",
          "height": 204
        },
        "outputId": "47c1b532-16e3-4d1c-8c5e-a4eb8efb0b24"
      },
      "source": [
        "movie_df[[\"id\", \"title\", \"year\"]].head()"
      ],
      "execution_count": 25,
      "outputs": [
        {
          "output_type": "execute_result",
          "data": {
            "text/html": [
              "<div>\n",
              "<style scoped>\n",
              "    .dataframe tbody tr th:only-of-type {\n",
              "        vertical-align: middle;\n",
              "    }\n",
              "\n",
              "    .dataframe tbody tr th {\n",
              "        vertical-align: top;\n",
              "    }\n",
              "\n",
              "    .dataframe thead th {\n",
              "        text-align: right;\n",
              "    }\n",
              "</style>\n",
              "<table border=\"1\" class=\"dataframe\">\n",
              "  <thead>\n",
              "    <tr style=\"text-align: right;\">\n",
              "      <th></th>\n",
              "      <th>id</th>\n",
              "      <th>title</th>\n",
              "      <th>year</th>\n",
              "    </tr>\n",
              "  </thead>\n",
              "  <tbody>\n",
              "    <tr>\n",
              "      <th>0</th>\n",
              "      <td>1</td>\n",
              "      <td>Toy story</td>\n",
              "      <td>1995</td>\n",
              "    </tr>\n",
              "    <tr>\n",
              "      <th>1</th>\n",
              "      <td>2</td>\n",
              "      <td>Jumanji</td>\n",
              "      <td>1995</td>\n",
              "    </tr>\n",
              "    <tr>\n",
              "      <th>2</th>\n",
              "      <td>3</td>\n",
              "      <td>Grumpy Old Men</td>\n",
              "      <td>1993</td>\n",
              "    </tr>\n",
              "    <tr>\n",
              "      <th>3</th>\n",
              "      <td>4</td>\n",
              "      <td>Waiting to Exhale</td>\n",
              "      <td>1995</td>\n",
              "    </tr>\n",
              "    <tr>\n",
              "      <th>4</th>\n",
              "      <td>5</td>\n",
              "      <td>Father of the Bride Part II</td>\n",
              "      <td>1995</td>\n",
              "    </tr>\n",
              "  </tbody>\n",
              "</table>\n",
              "</div>"
            ],
            "text/plain": [
              "   id                        title  year\n",
              "0   1                    Toy story  1995\n",
              "1   2                      Jumanji  1995\n",
              "2   3               Grumpy Old Men  1993\n",
              "3   4            Waiting to Exhale  1995\n",
              "4   5  Father of the Bride Part II  1995"
            ]
          },
          "metadata": {
            "tags": []
          },
          "execution_count": 25
        }
      ]
    },
    {
      "cell_type": "markdown",
      "metadata": {
        "id": "9tdIiDqETuME",
        "colab_type": "text"
      },
      "source": [
        "### Movie Tags and Frequencies\n",
        "\n",
        "The tags assigned to a movies, and the number of times the tags were assigned to each movie."
      ]
    },
    {
      "cell_type": "code",
      "metadata": {
        "id": "hTTw2u9sTzZB",
        "colab_type": "code",
        "colab": {
          "base_uri": "https://localhost:8080/",
          "height": 204
        },
        "outputId": "22f6b8c5-b012-4483-ad5e-ebb42406c9ac"
      },
      "source": [
        "pd.read_csv(\"/root/.cornac/movie_tags.dat\", sep=\"\\t\", encoding=\"iso-8859-1\").head()"
      ],
      "execution_count": 26,
      "outputs": [
        {
          "output_type": "execute_result",
          "data": {
            "text/html": [
              "<div>\n",
              "<style scoped>\n",
              "    .dataframe tbody tr th:only-of-type {\n",
              "        vertical-align: middle;\n",
              "    }\n",
              "\n",
              "    .dataframe tbody tr th {\n",
              "        vertical-align: top;\n",
              "    }\n",
              "\n",
              "    .dataframe thead th {\n",
              "        text-align: right;\n",
              "    }\n",
              "</style>\n",
              "<table border=\"1\" class=\"dataframe\">\n",
              "  <thead>\n",
              "    <tr style=\"text-align: right;\">\n",
              "      <th></th>\n",
              "      <th>movieID</th>\n",
              "      <th>tagID</th>\n",
              "      <th>tagWeight</th>\n",
              "    </tr>\n",
              "  </thead>\n",
              "  <tbody>\n",
              "    <tr>\n",
              "      <th>0</th>\n",
              "      <td>1</td>\n",
              "      <td>7</td>\n",
              "      <td>1</td>\n",
              "    </tr>\n",
              "    <tr>\n",
              "      <th>1</th>\n",
              "      <td>1</td>\n",
              "      <td>13</td>\n",
              "      <td>3</td>\n",
              "    </tr>\n",
              "    <tr>\n",
              "      <th>2</th>\n",
              "      <td>1</td>\n",
              "      <td>25</td>\n",
              "      <td>3</td>\n",
              "    </tr>\n",
              "    <tr>\n",
              "      <th>3</th>\n",
              "      <td>1</td>\n",
              "      <td>55</td>\n",
              "      <td>3</td>\n",
              "    </tr>\n",
              "    <tr>\n",
              "      <th>4</th>\n",
              "      <td>1</td>\n",
              "      <td>60</td>\n",
              "      <td>1</td>\n",
              "    </tr>\n",
              "  </tbody>\n",
              "</table>\n",
              "</div>"
            ],
            "text/plain": [
              "   movieID  tagID  tagWeight\n",
              "0        1      7          1\n",
              "1        1     13          3\n",
              "2        1     25          3\n",
              "3        1     55          3\n",
              "4        1     60          1"
            ]
          },
          "metadata": {
            "tags": []
          },
          "execution_count": 26
        }
      ]
    },
    {
      "cell_type": "markdown",
      "metadata": {
        "id": "0FmiuTYiP_pB",
        "colab_type": "text"
      },
      "source": [
        "## References\n",
        "\n",
        "1.   Aggarwal, C. C. (2016). Recommender systems (Vol. 1). Cham: Springer International Publishing.\n",
        "2.   Rendle, S. (2012). Factorization machines with libfm. ACM Transactions on Intelligent Systems and Technology (TIST), 3(3), 1-22.\n",
        "3.   Cornac - A Comparative Framework for Multimodal Recommender Systems (https://cornac.preferred.ai/)\n",
        "\n"
      ]
    }
  ]
}
