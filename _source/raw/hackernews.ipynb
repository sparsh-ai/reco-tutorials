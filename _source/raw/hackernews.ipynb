{
 "cells": [
  {
   "cell_type": "code",
   "execution_count": 1,
   "metadata": {
    "colab": {
     "base_uri": "https://localhost:8080/"
    },
    "executionInfo": {
     "elapsed": 7651,
     "status": "ok",
     "timestamp": 1616859681530,
     "user": {
      "displayName": "Sparsh Agarwal",
      "photoUrl": "",
      "userId": "13037694610922482904"
     },
     "user_tz": -330
    },
    "id": "J3WZMtrU5t3m",
    "outputId": "27ad99e5-39cb-4e3a-8f4a-5fe900c501c7"
   },
   "outputs": [
    {
     "name": "stdout",
     "output_type": "stream",
     "text": [
      "Cloning into 'recommendation'...\n",
      "remote: Enumerating objects: 198, done.\u001b[K\n",
      "remote: Counting objects: 100% (198/198), done.\u001b[K\n",
      "remote: Compressing objects: 100% (167/167), done.\u001b[K\n",
      "remote: Total 2204 (delta 79), reused 125 (delta 30), pack-reused 2006\u001b[K\n",
      "Receiving objects: 100% (2204/2204), 63.41 MiB | 26.42 MiB/s, done.\n",
      "Resolving deltas: 100% (249/249), done.\n"
     ]
    }
   ],
   "source": [
    "!git clone https://github.com/amitkaps/recommendation.git"
   ]
  },
  {
   "cell_type": "markdown",
   "metadata": {
    "id": "bs1CofikY6IM"
   },
   "source": [
    "## Framing\n",
    "\n",
    "- Items are stories posted on HN\n",
    "- Users are users commenting or posting stories\n",
    "- Signal are comments on the stories by the user signalling interest"
   ]
  },
  {
   "cell_type": "markdown",
   "metadata": {
    "id": "pmrAebnRZCHl"
   },
   "source": [
    "## Data \n",
    "\n",
    "Lets see the sources for getting historical information posted on HackerNews\n",
    "\n",
    "- **HackerNews API** - YCombinator provides an official hackernew api through Firebase. This is a near real-time database and provides both an *items* (stories and comments) as well as an *users* api.  It is available at https://github.com/HackerNews/API\n",
    "\n",
    "- **BigQuery** : Google Big Query has a daily updated HackerNews public dataset available (from 2006 to date). It only has *items* information. It is available at https://bigquery.cloud.google.com/table/bigquery-public-data:hacker_news.full"
   ]
  },
  {
   "cell_type": "markdown",
   "metadata": {
    "id": "97Dg7_z_ZPbk"
   },
   "source": [
    "### Items (Stories) \n",
    "\n",
    "The schema for the Big Query table is\n",
    "\n",
    "| Field       | Type      | Description                           |\n",
    "|:------------|----------:|:--------------------------------------|\n",
    "| by          | STRING    | The username of the item's author.    |\n",
    "| score       | INTEGER   | Story score                           |\n",
    "| time        | INTEGER   | Unix time                             |\n",
    "| timestamp   | TIMESTAMP | Timestamp for the unix time           |\n",
    "| title       | STRING    | Story title                           |\n",
    "| type        | STRING    | Type of details (comment, story, ...) |\n",
    "| url         | STRING    | Story url                             |\n",
    "| text        | STRING    | Story or comment text                 |\n",
    "| parent      | INTEGER   | Parent comment ID                     |\n",
    "| deleted     | BOOLEAN   | Is deleted?                           |\n",
    "| dead        | BOOLEAN   | Is dead?                              |\n",
    "| descendants | INTEGER   | Number of story or poll descendants   |\n",
    "| id          | INTEGER   | The item's unique id.                 |\n",
    "| ranking     | INTEGER   | Comment ranking                       |\n",
    "\n",
    "\n",
    "- Get all the stories posted on HackerNews in **2017 (till date)**. \n",
    "- To ensure a relevant set, we will limit the stories which have atleast have **score of 5 points or more** on them. \n",
    "\n",
    "```SQL\n",
    "#standardSQL\n",
    "SELECT * \n",
    "FROM `bigquery-public-data.hacker_news.full`\n",
    "WHERE type=\"story\" AND score > 4 AND EXTRACT(YEAR FROM timestamp)=2017\n",
    "```"
   ]
  },
  {
   "cell_type": "code",
   "execution_count": null,
   "metadata": {
    "id": "xwK43afBccIk"
   },
   "outputs": [],
   "source": [
    "import pandas as pd\n",
    "from google.colab import auth\n",
    "\n",
    "auth.authenticate_user()\n",
    "print('Authenticated')\n",
    "\n",
    "project_id = 'silken-psyxxx-xxxxxx'"
   ]
  },
  {
   "cell_type": "code",
   "execution_count": 10,
   "metadata": {
    "colab": {
     "base_uri": "https://localhost:8080/",
     "height": 564
    },
    "executionInfo": {
     "elapsed": 10685,
     "status": "ok",
     "timestamp": 1616861373663,
     "user": {
      "displayName": "Sparsh Agarwal",
      "photoUrl": "",
      "userId": "13037694610922482904"
     },
     "user_tz": -330
    },
    "id": "NmP_-H66WLSr",
    "outputId": "279dffa1-4bc3-41ee-a461-3b31da07d015"
   },
   "outputs": [
    {
     "data": {
      "text/html": [
       "<div>\n",
       "<style scoped>\n",
       "    .dataframe tbody tr th:only-of-type {\n",
       "        vertical-align: middle;\n",
       "    }\n",
       "\n",
       "    .dataframe tbody tr th {\n",
       "        vertical-align: top;\n",
       "    }\n",
       "\n",
       "    .dataframe thead th {\n",
       "        text-align: right;\n",
       "    }\n",
       "</style>\n",
       "<table border=\"1\" class=\"dataframe\">\n",
       "  <thead>\n",
       "    <tr style=\"text-align: right;\">\n",
       "      <th></th>\n",
       "      <th>title</th>\n",
       "      <th>url</th>\n",
       "      <th>text</th>\n",
       "      <th>dead</th>\n",
       "      <th>by</th>\n",
       "      <th>score</th>\n",
       "      <th>time</th>\n",
       "      <th>timestamp</th>\n",
       "      <th>type</th>\n",
       "      <th>id</th>\n",
       "      <th>parent</th>\n",
       "      <th>descendants</th>\n",
       "      <th>ranking</th>\n",
       "      <th>deleted</th>\n",
       "    </tr>\n",
       "  </thead>\n",
       "  <tbody>\n",
       "    <tr>\n",
       "      <th>0</th>\n",
       "      <td>Ask HN: How Apple encrypt iCloud photos?</td>\n",
       "      <td>None</td>\n",
       "      <td>Here, at HN, we all care about privacy.&lt;p&gt;Appl...</td>\n",
       "      <td>None</td>\n",
       "      <td>ex3ndr</td>\n",
       "      <td>5</td>\n",
       "      <td>1511298567</td>\n",
       "      <td>2017-11-21 21:09:27+00:00</td>\n",
       "      <td>story</td>\n",
       "      <td>15751571</td>\n",
       "      <td>None</td>\n",
       "      <td>0.0</td>\n",
       "      <td>None</td>\n",
       "      <td>None</td>\n",
       "    </tr>\n",
       "    <tr>\n",
       "      <th>1</th>\n",
       "      <td>Ask HN: Best consumer EEG hardware and software?</td>\n",
       "      <td>None</td>\n",
       "      <td>What&amp;#x27;s the best consumer level EEG hardwa...</td>\n",
       "      <td>None</td>\n",
       "      <td>hanniabu</td>\n",
       "      <td>5</td>\n",
       "      <td>1486834334</td>\n",
       "      <td>2017-02-11 17:32:14+00:00</td>\n",
       "      <td>story</td>\n",
       "      <td>13623602</td>\n",
       "      <td>None</td>\n",
       "      <td>3.0</td>\n",
       "      <td>None</td>\n",
       "      <td>None</td>\n",
       "    </tr>\n",
       "    <tr>\n",
       "      <th>2</th>\n",
       "      <td>Ask HN: Devs: How did you go from writing just...</td>\n",
       "      <td>None</td>\n",
       "      <td>Short background: I’ve been a developer for 3 ...</td>\n",
       "      <td>None</td>\n",
       "      <td>krptos</td>\n",
       "      <td>5</td>\n",
       "      <td>1483362724</td>\n",
       "      <td>2017-01-02 13:12:04+00:00</td>\n",
       "      <td>story</td>\n",
       "      <td>13300955</td>\n",
       "      <td>None</td>\n",
       "      <td>4.0</td>\n",
       "      <td>None</td>\n",
       "      <td>None</td>\n",
       "    </tr>\n",
       "    <tr>\n",
       "      <th>3</th>\n",
       "      <td>Ask HN: Are exceptional programmers highly opi...</td>\n",
       "      <td>None</td>\n",
       "      <td>It seems to me that many respected programmers...</td>\n",
       "      <td>None</td>\n",
       "      <td>afco</td>\n",
       "      <td>5</td>\n",
       "      <td>1486402505</td>\n",
       "      <td>2017-02-06 17:35:05+00:00</td>\n",
       "      <td>story</td>\n",
       "      <td>13581818</td>\n",
       "      <td>None</td>\n",
       "      <td>3.0</td>\n",
       "      <td>None</td>\n",
       "      <td>None</td>\n",
       "    </tr>\n",
       "    <tr>\n",
       "      <th>4</th>\n",
       "      <td>Ask HN: Does your organization use SecDevOps?</td>\n",
       "      <td>None</td>\n",
       "      <td>What approach do you take for data and infrast...</td>\n",
       "      <td>None</td>\n",
       "      <td>mngutterman</td>\n",
       "      <td>5</td>\n",
       "      <td>1487086924</td>\n",
       "      <td>2017-02-14 15:42:04+00:00</td>\n",
       "      <td>story</td>\n",
       "      <td>13644257</td>\n",
       "      <td>None</td>\n",
       "      <td>5.0</td>\n",
       "      <td>None</td>\n",
       "      <td>None</td>\n",
       "    </tr>\n",
       "  </tbody>\n",
       "</table>\n",
       "</div>"
      ],
      "text/plain": [
       "                                               title   url  ... ranking deleted\n",
       "0           Ask HN: How Apple encrypt iCloud photos?  None  ...    None    None\n",
       "1   Ask HN: Best consumer EEG hardware and software?  None  ...    None    None\n",
       "2  Ask HN: Devs: How did you go from writing just...  None  ...    None    None\n",
       "3  Ask HN: Are exceptional programmers highly opi...  None  ...    None    None\n",
       "4      Ask HN: Does your organization use SecDevOps?  None  ...    None    None\n",
       "\n",
       "[5 rows x 14 columns]"
      ]
     },
     "execution_count": 10,
     "metadata": {
      "tags": []
     },
     "output_type": "execute_result"
    }
   ],
   "source": [
    "query = \"\"\"SELECT * \n",
    "FROM `bigquery-public-data.hacker_news.full`\n",
    "WHERE type=\"story\" AND score > 4 AND EXTRACT(YEAR FROM timestamp)=2017\"\"\" \n",
    "\n",
    "df = pd.read_gbq(query, project_id=project_id, dialect='standard')\n",
    "df.head()"
   ]
  },
  {
   "cell_type": "code",
   "execution_count": 5,
   "metadata": {
    "executionInfo": {
     "elapsed": 1110,
     "status": "ok",
     "timestamp": 1616860952975,
     "user": {
      "displayName": "Sparsh Agarwal",
      "photoUrl": "",
      "userId": "13037694610922482904"
     },
     "user_tz": -330
    },
    "id": "ZGcM2fjPYaBa"
   },
   "outputs": [],
   "source": [
    "# df.to_csv('HackerNews_stories.csv', index=False)\n",
    "# !cp HackerNews_stories.csv /content/drive/MyDrive/TempData"
   ]
  },
  {
   "cell_type": "code",
   "execution_count": 13,
   "metadata": {
    "colab": {
     "base_uri": "https://localhost:8080/",
     "height": 581
    },
    "executionInfo": {
     "elapsed": 101607,
     "status": "ok",
     "timestamp": 1616861835689,
     "user": {
      "displayName": "Sparsh Agarwal",
      "photoUrl": "",
      "userId": "13037694610922482904"
     },
     "user_tz": -330
    },
    "id": "xEG29W6XckEW",
    "outputId": "938b0580-a224-4e52-d4dc-4ed29f9290aa"
   },
   "outputs": [
    {
     "data": {
      "text/html": [
       "<div>\n",
       "<style scoped>\n",
       "    .dataframe tbody tr th:only-of-type {\n",
       "        vertical-align: middle;\n",
       "    }\n",
       "\n",
       "    .dataframe tbody tr th {\n",
       "        vertical-align: top;\n",
       "    }\n",
       "\n",
       "    .dataframe thead th {\n",
       "        text-align: right;\n",
       "    }\n",
       "</style>\n",
       "<table border=\"1\" class=\"dataframe\">\n",
       "  <thead>\n",
       "    <tr style=\"text-align: right;\">\n",
       "      <th></th>\n",
       "      <th>title</th>\n",
       "      <th>url</th>\n",
       "      <th>text</th>\n",
       "      <th>dead</th>\n",
       "      <th>by</th>\n",
       "      <th>score</th>\n",
       "      <th>time</th>\n",
       "      <th>timestamp</th>\n",
       "      <th>type</th>\n",
       "      <th>id</th>\n",
       "      <th>parent</th>\n",
       "      <th>descendants</th>\n",
       "      <th>ranking</th>\n",
       "      <th>deleted</th>\n",
       "    </tr>\n",
       "  </thead>\n",
       "  <tbody>\n",
       "    <tr>\n",
       "      <th>0</th>\n",
       "      <td>None</td>\n",
       "      <td>None</td>\n",
       "      <td>I&amp;#x27;m not sure I would give myself a CTO ti...</td>\n",
       "      <td>None</td>\n",
       "      <td>richardknop</td>\n",
       "      <td>None</td>\n",
       "      <td>1501843819</td>\n",
       "      <td>2017-08-04 10:50:19+00:00</td>\n",
       "      <td>comment</td>\n",
       "      <td>14927732</td>\n",
       "      <td>14923930</td>\n",
       "      <td>None</td>\n",
       "      <td>None</td>\n",
       "      <td>None</td>\n",
       "    </tr>\n",
       "    <tr>\n",
       "      <th>1</th>\n",
       "      <td>None</td>\n",
       "      <td>None</td>\n",
       "      <td>It&amp;#x27;s funny how more and more macos design...</td>\n",
       "      <td>None</td>\n",
       "      <td>jbverschoor</td>\n",
       "      <td>None</td>\n",
       "      <td>1501843976</td>\n",
       "      <td>2017-08-04 10:52:56+00:00</td>\n",
       "      <td>comment</td>\n",
       "      <td>14927739</td>\n",
       "      <td>14925743</td>\n",
       "      <td>None</td>\n",
       "      <td>None</td>\n",
       "      <td>None</td>\n",
       "    </tr>\n",
       "    <tr>\n",
       "      <th>2</th>\n",
       "      <td>None</td>\n",
       "      <td>None</td>\n",
       "      <td>And people who have more sex make more money.</td>\n",
       "      <td>None</td>\n",
       "      <td>dizzyo</td>\n",
       "      <td>None</td>\n",
       "      <td>1490995225</td>\n",
       "      <td>2017-03-31 21:20:25+00:00</td>\n",
       "      <td>comment</td>\n",
       "      <td>14008380</td>\n",
       "      <td>14007029</td>\n",
       "      <td>None</td>\n",
       "      <td>None</td>\n",
       "      <td>None</td>\n",
       "    </tr>\n",
       "    <tr>\n",
       "      <th>3</th>\n",
       "      <td>None</td>\n",
       "      <td>None</td>\n",
       "      <td>And I have evidence that robots create jobs, a...</td>\n",
       "      <td>None</td>\n",
       "      <td>dbcurtis</td>\n",
       "      <td>None</td>\n",
       "      <td>1490995247</td>\n",
       "      <td>2017-03-31 21:20:47+00:00</td>\n",
       "      <td>comment</td>\n",
       "      <td>14008382</td>\n",
       "      <td>14006390</td>\n",
       "      <td>None</td>\n",
       "      <td>None</td>\n",
       "      <td>None</td>\n",
       "    </tr>\n",
       "    <tr>\n",
       "      <th>4</th>\n",
       "      <td>None</td>\n",
       "      <td>None</td>\n",
       "      <td>I want easy upgrades. The last time I upgraded...</td>\n",
       "      <td>None</td>\n",
       "      <td>WheelsAtLarge</td>\n",
       "      <td>None</td>\n",
       "      <td>1490995255</td>\n",
       "      <td>2017-03-31 21:20:55+00:00</td>\n",
       "      <td>comment</td>\n",
       "      <td>14008385</td>\n",
       "      <td>14002821</td>\n",
       "      <td>None</td>\n",
       "      <td>None</td>\n",
       "      <td>None</td>\n",
       "    </tr>\n",
       "  </tbody>\n",
       "</table>\n",
       "</div>"
      ],
      "text/plain": [
       "  title   url  ... ranking deleted\n",
       "0  None  None  ...    None    None\n",
       "1  None  None  ...    None    None\n",
       "2  None  None  ...    None    None\n",
       "3  None  None  ...    None    None\n",
       "4  None  None  ...    None    None\n",
       "\n",
       "[5 rows x 14 columns]"
      ]
     },
     "execution_count": 13,
     "metadata": {
      "tags": []
     },
     "output_type": "execute_result"
    }
   ],
   "source": [
    "query = \"\"\"SELECT  *\n",
    "FROM `bigquery-public-data.hacker_news.full`\n",
    "WHERE type=\"comment\" AND parent IN \n",
    " (SELECT id\n",
    "  FROM `bigquery-public-data.hacker_news.full`\n",
    "  WHERE type=\"story\" AND score > 4 AND EXTRACT(YEAR FROM timestamp)=2017)\"\"\" \n",
    "\n",
    "df = pd.read_gbq(query, project_id=project_id, dialect='standard')\n",
    "df.head()"
   ]
  },
  {
   "cell_type": "code",
   "execution_count": 16,
   "metadata": {
    "executionInfo": {
     "elapsed": 1357,
     "status": "ok",
     "timestamp": 1616861979746,
     "user": {
      "displayName": "Sparsh Agarwal",
      "photoUrl": "",
      "userId": "13037694610922482904"
     },
     "user_tz": -330
    },
    "id": "h4rtXgMhevxQ"
   },
   "outputs": [],
   "source": [
    "# df = df[['by','parent']]\n",
    "# df.to_csv('HackerNews_comments.csv', index=False)\n",
    "# !cp HackerNews_comments.csv /content/drive/MyDrive/TempData"
   ]
  },
  {
   "cell_type": "code",
   "execution_count": 6,
   "metadata": {
    "executionInfo": {
     "elapsed": 1271,
     "status": "ok",
     "timestamp": 1616861013171,
     "user": {
      "displayName": "Sparsh Agarwal",
      "photoUrl": "",
      "userId": "13037694610922482904"
     },
     "user_tz": -330
    },
    "id": "P68FmStFa3Zf"
   },
   "outputs": [],
   "source": [
    "import numpy as np\n",
    "import pandas as pd\n",
    "import matplotlib.pyplot as plt\n",
    "plt.style.use('ggplot')\n",
    "\n",
    "%matplotlib inline"
   ]
  },
  {
   "cell_type": "code",
   "execution_count": 7,
   "metadata": {
    "colab": {
     "base_uri": "https://localhost:8080/"
    },
    "executionInfo": {
     "elapsed": 1172,
     "status": "ok",
     "timestamp": 1616861070583,
     "user": {
      "displayName": "Sparsh Agarwal",
      "photoUrl": "",
      "userId": "13037694610922482904"
     },
     "user_tz": -330
    },
    "id": "tniBeLasbR88",
    "outputId": "98e7c2fc-3eb4-40e6-f943-fc10d01d60ce"
   },
   "outputs": [
    {
     "name": "stdout",
     "output_type": "stream",
     "text": [
      "<class 'pandas.core.frame.DataFrame'>\n",
      "RangeIndex: 59600 entries, 0 to 59599\n",
      "Data columns (total 14 columns):\n",
      " #   Column       Non-Null Count  Dtype  \n",
      "---  ------       --------------  -----  \n",
      " 0   title        59600 non-null  object \n",
      " 1   url          54576 non-null  object \n",
      " 2   text         4349 non-null   object \n",
      " 3   dead         1998 non-null   object \n",
      " 4   by           59600 non-null  object \n",
      " 5   score        59600 non-null  int64  \n",
      " 6   time         59600 non-null  int64  \n",
      " 7   timestamp    59600 non-null  object \n",
      " 8   type         59600 non-null  object \n",
      " 9   id           59600 non-null  int64  \n",
      " 10  parent       0 non-null      float64\n",
      " 11  descendants  57602 non-null  float64\n",
      " 12  ranking      0 non-null      float64\n",
      " 13  deleted      0 non-null      float64\n",
      "dtypes: float64(4), int64(3), object(7)\n",
      "memory usage: 6.4+ MB\n"
     ]
    }
   ],
   "source": [
    "stories_all = pd.read_csv(\"HackerNews_stories.csv\")\n",
    "stories_all.info()"
   ]
  },
  {
   "cell_type": "code",
   "execution_count": 8,
   "metadata": {
    "colab": {
     "base_uri": "https://localhost:8080/",
     "height": 285
    },
    "executionInfo": {
     "elapsed": 1242,
     "status": "ok",
     "timestamp": 1616861099298,
     "user": {
      "displayName": "Sparsh Agarwal",
      "photoUrl": "",
      "userId": "13037694610922482904"
     },
     "user_tz": -330
    },
    "id": "yRs0wm2BbgAD",
    "outputId": "2bb3f962-e3a6-40f5-9597-bcb91639ff8b"
   },
   "outputs": [
    {
     "data": {
      "text/plain": [
       "<matplotlib.axes._subplots.AxesSubplot at 0x7f4380ee9210>"
      ]
     },
     "execution_count": 8,
     "metadata": {
      "tags": []
     },
     "output_type": "execute_result"
    },
    {
     "data": {
      "image/png": "[encoded data removed]",
      "text/plain": [
       "<Figure size 432x288 with 1 Axes>"
      ]
     },
     "metadata": {
      "needs_background": "light",
      "tags": []
     },
     "output_type": "display_data"
    }
   ],
   "source": [
    "np.log(stories_all.score).hist()"
   ]
  },
  {
   "cell_type": "code",
   "execution_count": 9,
   "metadata": {
    "colab": {
     "base_uri": "https://localhost:8080/",
     "height": 204
    },
    "executionInfo": {
     "elapsed": 1273,
     "status": "ok",
     "timestamp": 1616861198541,
     "user": {
      "displayName": "Sparsh Agarwal",
      "photoUrl": "",
      "userId": "13037694610922482904"
     },
     "user_tz": -330
    },
    "id": "OxIPk252bm_g",
    "outputId": "d1c7f80d-df82-48e8-ebcf-af277844ffa2"
   },
   "outputs": [
    {
     "data": {
      "text/html": [
       "<div>\n",
       "<style scoped>\n",
       "    .dataframe tbody tr th:only-of-type {\n",
       "        vertical-align: middle;\n",
       "    }\n",
       "\n",
       "    .dataframe tbody tr th {\n",
       "        vertical-align: top;\n",
       "    }\n",
       "\n",
       "    .dataframe thead th {\n",
       "        text-align: right;\n",
       "    }\n",
       "</style>\n",
       "<table border=\"1\" class=\"dataframe\">\n",
       "  <thead>\n",
       "    <tr style=\"text-align: right;\">\n",
       "      <th></th>\n",
       "      <th>story</th>\n",
       "      <th>title</th>\n",
       "      <th>score</th>\n",
       "      <th>user</th>\n",
       "    </tr>\n",
       "  </thead>\n",
       "  <tbody>\n",
       "    <tr>\n",
       "      <th>80</th>\n",
       "      <td>13840282</td>\n",
       "      <td>Ask HN: How do you set prices?</td>\n",
       "      <td>584</td>\n",
       "      <td>fnbr</td>\n",
       "    </tr>\n",
       "    <tr>\n",
       "      <th>81</th>\n",
       "      <td>14238005</td>\n",
       "      <td>Ask HN: Who is hiring? (May 2017)</td>\n",
       "      <td>589</td>\n",
       "      <td>whoishiring</td>\n",
       "    </tr>\n",
       "    <tr>\n",
       "      <th>90</th>\n",
       "      <td>14437921</td>\n",
       "      <td>Ask HN: What are some examples of successful s...</td>\n",
       "      <td>685</td>\n",
       "      <td>1ba9115454</td>\n",
       "    </tr>\n",
       "    <tr>\n",
       "      <th>474</th>\n",
       "      <td>14766889</td>\n",
       "      <td>Alibaba Cloud</td>\n",
       "      <td>520</td>\n",
       "      <td>paulmach</td>\n",
       "    </tr>\n",
       "    <tr>\n",
       "      <th>773</th>\n",
       "      <td>13382263</td>\n",
       "      <td>Georgia Tech Offers Online Master of Science i...</td>\n",
       "      <td>533</td>\n",
       "      <td>dgritsko</td>\n",
       "    </tr>\n",
       "  </tbody>\n",
       "</table>\n",
       "</div>"
      ],
      "text/plain": [
       "        story  ...         user\n",
       "80   13840282  ...         fnbr\n",
       "81   14238005  ...  whoishiring\n",
       "90   14437921  ...   1ba9115454\n",
       "474  14766889  ...     paulmach\n",
       "773  13382263  ...     dgritsko\n",
       "\n",
       "[5 rows x 4 columns]"
      ]
     },
     "execution_count": 9,
     "metadata": {
      "tags": []
     },
     "output_type": "execute_result"
    }
   ],
   "source": [
    "# Select Most Popular Stories\n",
    "stories = stories_all[stories_all.score > 500].copy()\n",
    "stories.sort_values('score', ascending=False)\n",
    "stories = stories[['id', 'title' , 'score', 'by']]\n",
    "stories.columns = ['story', 'title',  'score', 'user']\n",
    "stories.head()"
   ]
  },
  {
   "cell_type": "code",
   "execution_count": 17,
   "metadata": {
    "colab": {
     "base_uri": "https://localhost:8080/"
    },
    "executionInfo": {
     "elapsed": 1076,
     "status": "ok",
     "timestamp": 1616862041665,
     "user": {
      "displayName": "Sparsh Agarwal",
      "photoUrl": "",
      "userId": "13037694610922482904"
     },
     "user_tz": -330
    },
    "id": "6nOQDZbeb_No",
    "outputId": "267204a4-7c83-4603-d6e9-49b1a976228b"
   },
   "outputs": [
    {
     "name": "stdout",
     "output_type": "stream",
     "text": [
      "<class 'pandas.core.frame.DataFrame'>\n",
      "RangeIndex: 472241 entries, 0 to 472240\n",
      "Data columns (total 2 columns):\n",
      " #   Column  Non-Null Count   Dtype \n",
      "---  ------  --------------   ----- \n",
      " 0   by      456958 non-null  object\n",
      " 1   parent  472241 non-null  int64 \n",
      "dtypes: int64(1), object(1)\n",
      "memory usage: 7.2+ MB\n"
     ]
    }
   ],
   "source": [
    "comments_all = pd.read_csv(\"HackerNews_comments.csv\")\n",
    "comments_all.info()"
   ]
  },
  {
   "cell_type": "code",
   "execution_count": 18,
   "metadata": {
    "colab": {
     "base_uri": "https://localhost:8080/",
     "height": 204
    },
    "executionInfo": {
     "elapsed": 1230,
     "status": "ok",
     "timestamp": 1616862075420,
     "user": {
      "displayName": "Sparsh Agarwal",
      "photoUrl": "",
      "userId": "13037694610922482904"
     },
     "user_tz": -330
    },
    "id": "mkUTPGMjfNF3",
    "outputId": "8969247b-3a81-4ab2-cd75-093811e71dd8"
   },
   "outputs": [
    {
     "data": {
      "text/html": [
       "<div>\n",
       "<style scoped>\n",
       "    .dataframe tbody tr th:only-of-type {\n",
       "        vertical-align: middle;\n",
       "    }\n",
       "\n",
       "    .dataframe tbody tr th {\n",
       "        vertical-align: top;\n",
       "    }\n",
       "\n",
       "    .dataframe thead th {\n",
       "        text-align: right;\n",
       "    }\n",
       "</style>\n",
       "<table border=\"1\" class=\"dataframe\">\n",
       "  <thead>\n",
       "    <tr style=\"text-align: right;\">\n",
       "      <th></th>\n",
       "      <th>user</th>\n",
       "      <th>story</th>\n",
       "      <th>comment</th>\n",
       "    </tr>\n",
       "  </thead>\n",
       "  <tbody>\n",
       "    <tr>\n",
       "      <th>0</th>\n",
       "      <td>richardknop</td>\n",
       "      <td>14923930</td>\n",
       "      <td>1</td>\n",
       "    </tr>\n",
       "    <tr>\n",
       "      <th>1</th>\n",
       "      <td>jbverschoor</td>\n",
       "      <td>14925743</td>\n",
       "      <td>1</td>\n",
       "    </tr>\n",
       "    <tr>\n",
       "      <th>2</th>\n",
       "      <td>dizzyo</td>\n",
       "      <td>14007029</td>\n",
       "      <td>1</td>\n",
       "    </tr>\n",
       "    <tr>\n",
       "      <th>3</th>\n",
       "      <td>dbcurtis</td>\n",
       "      <td>14006390</td>\n",
       "      <td>1</td>\n",
       "    </tr>\n",
       "    <tr>\n",
       "      <th>4</th>\n",
       "      <td>WheelsAtLarge</td>\n",
       "      <td>14002821</td>\n",
       "      <td>1</td>\n",
       "    </tr>\n",
       "  </tbody>\n",
       "</table>\n",
       "</div>"
      ],
      "text/plain": [
       "            user     story  comment\n",
       "0    richardknop  14923930        1\n",
       "1    jbverschoor  14925743        1\n",
       "2         dizzyo  14007029        1\n",
       "3       dbcurtis  14006390        1\n",
       "4  WheelsAtLarge  14002821        1"
      ]
     },
     "execution_count": 18,
     "metadata": {
      "tags": []
     },
     "output_type": "execute_result"
    }
   ],
   "source": [
    "comments_all.dropna(inplace = True)\n",
    "comments_all.columns = ['user', 'story']\n",
    "comments_all['comment'] = 1\n",
    "comments_all.head()"
   ]
  },
  {
   "cell_type": "code",
   "execution_count": 25,
   "metadata": {
    "executionInfo": {
     "elapsed": 1197,
     "status": "ok",
     "timestamp": 1616864811277,
     "user": {
      "displayName": "Sparsh Agarwal",
      "photoUrl": "",
      "userId": "13037694610922482904"
     },
     "user_tz": -330
    },
    "id": "btZSwr6pfVTQ"
   },
   "outputs": [],
   "source": [
    "# story_user_comment = comments_all[comments_all['story'].isin(stories.story)]\n",
    "# story_user_comment.to_csv('HackerNews_Story_UserComments.csv', index=False)\n",
    "# !cp HackerNews_Story_UserComments.csv /content/drive/MyDrive/TempData"
   ]
  },
  {
   "cell_type": "markdown",
   "metadata": {
    "id": "fPln7UgxoF5l"
   },
   "source": [
    "We need to get the details for all the users that have made comments in our list of stories.\n",
    "\n",
    "Also, we are interested in their details\n",
    "\n",
    "- How long have they been on the HN platform? (Created)\n",
    "- How active they are? (# of comments)?\n",
    "- How good they are to the HN community (karma)?"
   ]
  },
  {
   "cell_type": "code",
   "execution_count": 23,
   "metadata": {
    "colab": {
     "base_uri": "https://localhost:8080/"
    },
    "executionInfo": {
     "elapsed": 1155,
     "status": "ok",
     "timestamp": 1616864484032,
     "user": {
      "displayName": "Sparsh Agarwal",
      "photoUrl": "",
      "userId": "13037694610922482904"
     },
     "user_tz": -330
    },
    "id": "MG5FLa6IoKck",
    "outputId": "08559334-2f67-4676-d803-0ed5b2e29cba"
   },
   "outputs": [
    {
     "name": "stdout",
     "output_type": "stream",
     "text": [
      "23804\n",
      "['WheelsAtLarge', 1381812966, 3065, 1399]\n"
     ]
    }
   ],
   "source": [
    "import requests\n",
    "\n",
    "users_list = story_user_comment.user.unique()\n",
    "print(len(users_list))\n",
    "\n",
    "# Lets get the first user\n",
    "user = users_list[0]\n",
    "\n",
    "# Lets get karma, created date and number of comments\n",
    "r = requests.get(\"https://hacker-news.firebaseio.com/v0/user/\" + user + \".json\")\n",
    "created = r.json()['created']\n",
    "karma = r.json()['karma']\n",
    "submitted = len(r.json()['submitted'])\n",
    "print([user, created, karma, submitted])"
   ]
  },
  {
   "cell_type": "code",
   "execution_count": 24,
   "metadata": {
    "executionInfo": {
     "elapsed": 1962,
     "status": "ok",
     "timestamp": 1616864605117,
     "user": {
      "displayName": "Sparsh Agarwal",
      "photoUrl": "",
      "userId": "13037694610922482904"
     },
     "user_tz": -330
    },
    "id": "brffujk2oVWv"
   },
   "outputs": [],
   "source": [
    "# Lets create a function to get the same detail from a list of users\n",
    "\n",
    "def getUserData(users): \n",
    "    '''\n",
    "    Function to get user details from the HackerNews API\n",
    "    And store in a dataframe\n",
    "    '''\n",
    "    column_names = ['user', 'created', 'karma', 'submitted']\n",
    "    userDf = pd.DataFrame(columns = column_names)\n",
    "\n",
    "    for index, user in enumerate(users):\n",
    "        \n",
    "        #Get User Details\n",
    "        try: \n",
    "            r = requests.get(\"https://hacker-news.firebaseio.com/v0/user/\"+ user +\".json\")\n",
    "            userDetails = r.json()            \n",
    "        \n",
    "            # Get details\n",
    "            created = userDetails['created']\n",
    "            karma = userDetails['karma']\n",
    "            submitted = len(userDetails['submitted'])\n",
    "\n",
    "            #Store in the DataFrame\n",
    "            userDf.loc[index] = [user, created, karma, submitted] \n",
    "            #print([user, created, karma, submitted] )\n",
    "            \n",
    "            #Print every hundred records to check progress\n",
    "            if index%100 == 0:\n",
    "                print(index)\n",
    "            \n",
    "        except:\n",
    "            continue\n",
    "     \n",
    "    return userDf\n",
    "\n",
    "def downloadUserAll(users_list): \n",
    "    total = len(users_list)\n",
    "    turn = int(total/20)\n",
    "    start = 0\n",
    "    end = turn\n",
    "    \n",
    "    for i in range(1, 21):\n",
    "        user_df_step = getUserData(users_list[start:end])\n",
    "        user_df_step.to_csv(\"data/users\" + str(i) + \".csv\", index=False)\n",
    "        print(start, end, \"data/users\" + str(i) + \".csv\")\n",
    "        start = end\n",
    "        end = min(end + turn, total)"
   ]
  },
  {
   "cell_type": "code",
   "execution_count": null,
   "metadata": {
    "id": "YdaeXlpxo-up"
   },
   "outputs": [],
   "source": [
    "# Lets dowload all the user data \n",
    "# Note: This takes about an hour to run\n",
    "downloadUserAll(users_list)"
   ]
  },
  {
   "cell_type": "code",
   "execution_count": null,
   "metadata": {
    "id": "_FhaROlRpbZG"
   },
   "outputs": [],
   "source": [
    "# Lets create the users database\n",
    "column_names = ['user', 'created', 'karma', 'submitted']\n",
    "users = pd.DataFrame(columns = column_names)\n",
    "\n",
    "for i in range(1,21):\n",
    "    print(i)\n",
    "    user_df_step = pd.read_csv(\"/content/recommendation/HackerNews/data/users\" + str(i) + \".csv\")\n",
    "    users = pd.concat([users, user_df_step], ignore_index=True)"
   ]
  },
  {
   "cell_type": "code",
   "execution_count": null,
   "metadata": {
    "id": "hyBjyCQ5p8xS"
   },
   "outputs": [],
   "source": [
    "# users.to_csv('HackerNews_users.csv', index=False)\n",
    "# !cp HackerNews_users.csv /content/drive/MyDrive/TempData"
   ]
  },
  {
   "cell_type": "markdown",
   "metadata": {
    "id": "pI2SoRohqkOc"
   },
   "source": [
    "---"
   ]
  },
  {
   "cell_type": "code",
   "execution_count": null,
   "metadata": {
    "id": "OftuMi4fqqSI"
   },
   "outputs": [],
   "source": [
    "! pip install mlxtend"
   ]
  },
  {
   "cell_type": "code",
   "execution_count": 30,
   "metadata": {
    "executionInfo": {
     "elapsed": 1243,
     "status": "ok",
     "timestamp": 1616865125357,
     "user": {
      "displayName": "Sparsh Agarwal",
      "photoUrl": "",
      "userId": "13037694610922482904"
     },
     "user_tz": -330
    },
    "id": "yX1-dYGOqF-T"
   },
   "outputs": [],
   "source": [
    "import numpy as np\n",
    "import pandas as pd\n",
    "import scipy.sparse as sparse\n",
    "from mlxtend.preprocessing import OnehotTransactions"
   ]
  },
  {
   "cell_type": "code",
   "execution_count": 28,
   "metadata": {
    "executionInfo": {
     "elapsed": 1226,
     "status": "ok",
     "timestamp": 1616865070086,
     "user": {
      "displayName": "Sparsh Agarwal",
      "photoUrl": "",
      "userId": "13037694610922482904"
     },
     "user_tz": -330
    },
    "id": "KPLhSqCaqvAK"
   },
   "outputs": [],
   "source": [
    "def OHE_Matrix( df ) :\n",
    "\n",
    "    g2 = df.groupby([\"user\"], as_index = False)\n",
    "    \n",
    "    Itemset = []\n",
    "    user = []\n",
    "    for item in list(g2.groups.keys()) :\n",
    "        Itemset.append( list(g2.get_group(item)[\"story\"]))\n",
    "        user.append(item) \n",
    "        \n",
    "    oht = OnehotTransactions()\n",
    "    u = oht.fit(Itemset).transform(Itemset)\n",
    "    \n",
    "    Matrix = pd.DataFrame(u, columns = oht.columns_)\n",
    "    Matrix[\"user\"] = user\n",
    "    Matrix = Matrix.set_index(\"user\")\n",
    "    \n",
    "    return Matrix"
   ]
  },
  {
   "cell_type": "code",
   "execution_count": 32,
   "metadata": {
    "colab": {
     "base_uri": "https://localhost:8080/",
     "height": 419
    },
    "executionInfo": {
     "elapsed": 1972,
     "status": "ok",
     "timestamp": 1616865162328,
     "user": {
      "displayName": "Sparsh Agarwal",
      "photoUrl": "",
      "userId": "13037694610922482904"
     },
     "user_tz": -330
    },
    "id": "XiM9xmh7rGiA",
    "outputId": "f0d552c3-5dbb-452d-acc6-46d0db174037"
   },
   "outputs": [
    {
     "data": {
      "text/html": [
       "<div>\n",
       "<style scoped>\n",
       "    .dataframe tbody tr th:only-of-type {\n",
       "        vertical-align: middle;\n",
       "    }\n",
       "\n",
       "    .dataframe tbody tr th {\n",
       "        vertical-align: top;\n",
       "    }\n",
       "\n",
       "    .dataframe thead th {\n",
       "        text-align: right;\n",
       "    }\n",
       "</style>\n",
       "<table border=\"1\" class=\"dataframe\">\n",
       "  <thead>\n",
       "    <tr style=\"text-align: right;\">\n",
       "      <th></th>\n",
       "      <th>user</th>\n",
       "      <th>story</th>\n",
       "      <th>comment</th>\n",
       "    </tr>\n",
       "  </thead>\n",
       "  <tbody>\n",
       "    <tr>\n",
       "      <th>4</th>\n",
       "      <td>WheelsAtLarge</td>\n",
       "      <td>14002821</td>\n",
       "      <td>1</td>\n",
       "    </tr>\n",
       "    <tr>\n",
       "      <th>26</th>\n",
       "      <td>thecompilr</td>\n",
       "      <td>15974603</td>\n",
       "      <td>1</td>\n",
       "    </tr>\n",
       "    <tr>\n",
       "      <th>40</th>\n",
       "      <td>uncensored</td>\n",
       "      <td>14073223</td>\n",
       "      <td>1</td>\n",
       "    </tr>\n",
       "    <tr>\n",
       "      <th>70</th>\n",
       "      <td>jameshart</td>\n",
       "      <td>13400291</td>\n",
       "      <td>1</td>\n",
       "    </tr>\n",
       "    <tr>\n",
       "      <th>72</th>\n",
       "      <td>GlennS</td>\n",
       "      <td>15786802</td>\n",
       "      <td>1</td>\n",
       "    </tr>\n",
       "    <tr>\n",
       "      <th>...</th>\n",
       "      <td>...</td>\n",
       "      <td>...</td>\n",
       "      <td>...</td>\n",
       "    </tr>\n",
       "    <tr>\n",
       "      <th>471877</th>\n",
       "      <td>giancarlostoro</td>\n",
       "      <td>15237896</td>\n",
       "      <td>1</td>\n",
       "    </tr>\n",
       "    <tr>\n",
       "      <th>471879</th>\n",
       "      <td>duke360</td>\n",
       "      <td>14643712</td>\n",
       "      <td>1</td>\n",
       "    </tr>\n",
       "    <tr>\n",
       "      <th>471880</th>\n",
       "      <td>trevos</td>\n",
       "      <td>14643712</td>\n",
       "      <td>1</td>\n",
       "    </tr>\n",
       "    <tr>\n",
       "      <th>471882</th>\n",
       "      <td>throwaway201</td>\n",
       "      <td>14643712</td>\n",
       "      <td>1</td>\n",
       "    </tr>\n",
       "    <tr>\n",
       "      <th>471885</th>\n",
       "      <td>be5invis</td>\n",
       "      <td>14009963</td>\n",
       "      <td>1</td>\n",
       "    </tr>\n",
       "  </tbody>\n",
       "</table>\n",
       "<p>54562 rows × 3 columns</p>\n",
       "</div>"
      ],
      "text/plain": [
       "                  user     story  comment\n",
       "4        WheelsAtLarge  14002821        1\n",
       "26          thecompilr  15974603        1\n",
       "40          uncensored  14073223        1\n",
       "70           jameshart  13400291        1\n",
       "72              GlennS  15786802        1\n",
       "...                ...       ...      ...\n",
       "471877  giancarlostoro  15237896        1\n",
       "471879         duke360  14643712        1\n",
       "471880          trevos  14643712        1\n",
       "471882    throwaway201  14643712        1\n",
       "471885        be5invis  14009963        1\n",
       "\n",
       "[54562 rows x 3 columns]"
      ]
     },
     "execution_count": 32,
     "metadata": {
      "tags": []
     },
     "output_type": "execute_result"
    }
   ],
   "source": [
    "story_user_comment"
   ]
  },
  {
   "cell_type": "code",
   "execution_count": 33,
   "metadata": {
    "colab": {
     "base_uri": "https://localhost:8080/",
     "height": 318
    },
    "executionInfo": {
     "elapsed": 9738,
     "status": "ok",
     "timestamp": 1616865226374,
     "user": {
      "displayName": "Sparsh Agarwal",
      "photoUrl": "",
      "userId": "13037694610922482904"
     },
     "user_tz": -330
    },
    "id": "XWRCJokcqwXs",
    "outputId": "cb37c1de-e1cb-4cc8-ea47-da06b95c7535"
   },
   "outputs": [
    {
     "name": "stderr",
     "output_type": "stream",
     "text": [
      "/usr/local/lib/python3.7/dist-packages/mlxtend/preprocessing/onehot.py:66: DeprecationWarning: OnehotTransactions has been deprecated and will be removed in future. Please use TransactionEncoder instead.\n",
      "  warnings.warn(msg, DeprecationWarning)\n"
     ]
    },
    {
     "data": {
      "text/html": [
       "<div>\n",
       "<style scoped>\n",
       "    .dataframe tbody tr th:only-of-type {\n",
       "        vertical-align: middle;\n",
       "    }\n",
       "\n",
       "    .dataframe tbody tr th {\n",
       "        vertical-align: top;\n",
       "    }\n",
       "\n",
       "    .dataframe thead th {\n",
       "        text-align: right;\n",
       "    }\n",
       "</style>\n",
       "<table border=\"1\" class=\"dataframe\">\n",
       "  <thead>\n",
       "    <tr style=\"text-align: right;\">\n",
       "      <th></th>\n",
       "      <th>13296502</th>\n",
       "      <th>13297792</th>\n",
       "      <th>13301832</th>\n",
       "      <th>13309025</th>\n",
       "      <th>13309610</th>\n",
       "      <th>13312629</th>\n",
       "      <th>13317902</th>\n",
       "      <th>13319904</th>\n",
       "      <th>13326535</th>\n",
       "      <th>13326792</th>\n",
       "      <th>13329525</th>\n",
       "      <th>13330611</th>\n",
       "      <th>13338592</th>\n",
       "      <th>13347852</th>\n",
       "      <th>13354329</th>\n",
       "      <th>13356318</th>\n",
       "      <th>13361019</th>\n",
       "      <th>13364583</th>\n",
       "      <th>13365430</th>\n",
       "      <th>13369510</th>\n",
       "      <th>13370310</th>\n",
       "      <th>13372985</th>\n",
       "      <th>13375337</th>\n",
       "      <th>13375543</th>\n",
       "      <th>13382263</th>\n",
       "      <th>13382963</th>\n",
       "      <th>13385873</th>\n",
       "      <th>13389935</th>\n",
       "      <th>13390511</th>\n",
       "      <th>13392620</th>\n",
       "      <th>13392885</th>\n",
       "      <th>13394900</th>\n",
       "      <th>13397145</th>\n",
       "      <th>13399095</th>\n",
       "      <th>13399974</th>\n",
       "      <th>13400291</th>\n",
       "      <th>13400350</th>\n",
       "      <th>13404758</th>\n",
       "      <th>13406119</th>\n",
       "      <th>13406638</th>\n",
       "      <th>...</th>\n",
       "      <th>15913250</th>\n",
       "      <th>15916121</th>\n",
       "      <th>15917829</th>\n",
       "      <th>15919115</th>\n",
       "      <th>15920618</th>\n",
       "      <th>15921692</th>\n",
       "      <th>15924093</th>\n",
       "      <th>15924794</th>\n",
       "      <th>15927132</th>\n",
       "      <th>15930916</th>\n",
       "      <th>15931730</th>\n",
       "      <th>15937448</th>\n",
       "      <th>15940144</th>\n",
       "      <th>15940318</th>\n",
       "      <th>15941428</th>\n",
       "      <th>15946095</th>\n",
       "      <th>15946425</th>\n",
       "      <th>15947540</th>\n",
       "      <th>15949144</th>\n",
       "      <th>15950599</th>\n",
       "      <th>15951825</th>\n",
       "      <th>15956811</th>\n",
       "      <th>15960747</th>\n",
       "      <th>15965653</th>\n",
       "      <th>15969511</th>\n",
       "      <th>15974603</th>\n",
       "      <th>15980653</th>\n",
       "      <th>15986753</th>\n",
       "      <th>15990559</th>\n",
       "      <th>15994410</th>\n",
       "      <th>16000550</th>\n",
       "      <th>16001407</th>\n",
       "      <th>16009459</th>\n",
       "      <th>16015539</th>\n",
       "      <th>16022916</th>\n",
       "      <th>16024624</th>\n",
       "      <th>16025112</th>\n",
       "      <th>16030838</th>\n",
       "      <th>16035402</th>\n",
       "      <th>16036121</th>\n",
       "    </tr>\n",
       "    <tr>\n",
       "      <th>user</th>\n",
       "      <th></th>\n",
       "      <th></th>\n",
       "      <th></th>\n",
       "      <th></th>\n",
       "      <th></th>\n",
       "      <th></th>\n",
       "      <th></th>\n",
       "      <th></th>\n",
       "      <th></th>\n",
       "      <th></th>\n",
       "      <th></th>\n",
       "      <th></th>\n",
       "      <th></th>\n",
       "      <th></th>\n",
       "      <th></th>\n",
       "      <th></th>\n",
       "      <th></th>\n",
       "      <th></th>\n",
       "      <th></th>\n",
       "      <th></th>\n",
       "      <th></th>\n",
       "      <th></th>\n",
       "      <th></th>\n",
       "      <th></th>\n",
       "      <th></th>\n",
       "      <th></th>\n",
       "      <th></th>\n",
       "      <th></th>\n",
       "      <th></th>\n",
       "      <th></th>\n",
       "      <th></th>\n",
       "      <th></th>\n",
       "      <th></th>\n",
       "      <th></th>\n",
       "      <th></th>\n",
       "      <th></th>\n",
       "      <th></th>\n",
       "      <th></th>\n",
       "      <th></th>\n",
       "      <th></th>\n",
       "      <th></th>\n",
       "      <th></th>\n",
       "      <th></th>\n",
       "      <th></th>\n",
       "      <th></th>\n",
       "      <th></th>\n",
       "      <th></th>\n",
       "      <th></th>\n",
       "      <th></th>\n",
       "      <th></th>\n",
       "      <th></th>\n",
       "      <th></th>\n",
       "      <th></th>\n",
       "      <th></th>\n",
       "      <th></th>\n",
       "      <th></th>\n",
       "      <th></th>\n",
       "      <th></th>\n",
       "      <th></th>\n",
       "      <th></th>\n",
       "      <th></th>\n",
       "      <th></th>\n",
       "      <th></th>\n",
       "      <th></th>\n",
       "      <th></th>\n",
       "      <th></th>\n",
       "      <th></th>\n",
       "      <th></th>\n",
       "      <th></th>\n",
       "      <th></th>\n",
       "      <th></th>\n",
       "      <th></th>\n",
       "      <th></th>\n",
       "      <th></th>\n",
       "      <th></th>\n",
       "      <th></th>\n",
       "      <th></th>\n",
       "      <th></th>\n",
       "      <th></th>\n",
       "      <th></th>\n",
       "      <th></th>\n",
       "    </tr>\n",
       "  </thead>\n",
       "  <tbody>\n",
       "    <tr>\n",
       "      <th>0003</th>\n",
       "      <td>False</td>\n",
       "      <td>False</td>\n",
       "      <td>False</td>\n",
       "      <td>False</td>\n",
       "      <td>False</td>\n",
       "      <td>False</td>\n",
       "      <td>False</td>\n",
       "      <td>False</td>\n",
       "      <td>False</td>\n",
       "      <td>False</td>\n",
       "      <td>False</td>\n",
       "      <td>False</td>\n",
       "      <td>False</td>\n",
       "      <td>False</td>\n",
       "      <td>False</td>\n",
       "      <td>False</td>\n",
       "      <td>False</td>\n",
       "      <td>False</td>\n",
       "      <td>False</td>\n",
       "      <td>False</td>\n",
       "      <td>False</td>\n",
       "      <td>False</td>\n",
       "      <td>False</td>\n",
       "      <td>False</td>\n",
       "      <td>False</td>\n",
       "      <td>False</td>\n",
       "      <td>False</td>\n",
       "      <td>False</td>\n",
       "      <td>False</td>\n",
       "      <td>False</td>\n",
       "      <td>False</td>\n",
       "      <td>False</td>\n",
       "      <td>False</td>\n",
       "      <td>False</td>\n",
       "      <td>False</td>\n",
       "      <td>False</td>\n",
       "      <td>False</td>\n",
       "      <td>False</td>\n",
       "      <td>False</td>\n",
       "      <td>False</td>\n",
       "      <td>...</td>\n",
       "      <td>False</td>\n",
       "      <td>False</td>\n",
       "      <td>False</td>\n",
       "      <td>False</td>\n",
       "      <td>False</td>\n",
       "      <td>False</td>\n",
       "      <td>False</td>\n",
       "      <td>False</td>\n",
       "      <td>False</td>\n",
       "      <td>False</td>\n",
       "      <td>False</td>\n",
       "      <td>False</td>\n",
       "      <td>False</td>\n",
       "      <td>False</td>\n",
       "      <td>False</td>\n",
       "      <td>False</td>\n",
       "      <td>False</td>\n",
       "      <td>False</td>\n",
       "      <td>False</td>\n",
       "      <td>False</td>\n",
       "      <td>False</td>\n",
       "      <td>False</td>\n",
       "      <td>False</td>\n",
       "      <td>False</td>\n",
       "      <td>False</td>\n",
       "      <td>False</td>\n",
       "      <td>False</td>\n",
       "      <td>False</td>\n",
       "      <td>False</td>\n",
       "      <td>False</td>\n",
       "      <td>False</td>\n",
       "      <td>False</td>\n",
       "      <td>False</td>\n",
       "      <td>False</td>\n",
       "      <td>False</td>\n",
       "      <td>False</td>\n",
       "      <td>False</td>\n",
       "      <td>False</td>\n",
       "      <td>False</td>\n",
       "      <td>False</td>\n",
       "    </tr>\n",
       "    <tr>\n",
       "      <th>01000001</th>\n",
       "      <td>False</td>\n",
       "      <td>False</td>\n",
       "      <td>False</td>\n",
       "      <td>False</td>\n",
       "      <td>False</td>\n",
       "      <td>False</td>\n",
       "      <td>False</td>\n",
       "      <td>False</td>\n",
       "      <td>False</td>\n",
       "      <td>False</td>\n",
       "      <td>False</td>\n",
       "      <td>False</td>\n",
       "      <td>False</td>\n",
       "      <td>False</td>\n",
       "      <td>False</td>\n",
       "      <td>False</td>\n",
       "      <td>False</td>\n",
       "      <td>False</td>\n",
       "      <td>False</td>\n",
       "      <td>False</td>\n",
       "      <td>False</td>\n",
       "      <td>False</td>\n",
       "      <td>False</td>\n",
       "      <td>False</td>\n",
       "      <td>False</td>\n",
       "      <td>False</td>\n",
       "      <td>False</td>\n",
       "      <td>False</td>\n",
       "      <td>False</td>\n",
       "      <td>False</td>\n",
       "      <td>False</td>\n",
       "      <td>False</td>\n",
       "      <td>False</td>\n",
       "      <td>False</td>\n",
       "      <td>False</td>\n",
       "      <td>False</td>\n",
       "      <td>False</td>\n",
       "      <td>False</td>\n",
       "      <td>False</td>\n",
       "      <td>False</td>\n",
       "      <td>...</td>\n",
       "      <td>False</td>\n",
       "      <td>False</td>\n",
       "      <td>False</td>\n",
       "      <td>False</td>\n",
       "      <td>False</td>\n",
       "      <td>False</td>\n",
       "      <td>False</td>\n",
       "      <td>False</td>\n",
       "      <td>False</td>\n",
       "      <td>False</td>\n",
       "      <td>False</td>\n",
       "      <td>False</td>\n",
       "      <td>False</td>\n",
       "      <td>False</td>\n",
       "      <td>False</td>\n",
       "      <td>False</td>\n",
       "      <td>False</td>\n",
       "      <td>False</td>\n",
       "      <td>False</td>\n",
       "      <td>False</td>\n",
       "      <td>False</td>\n",
       "      <td>False</td>\n",
       "      <td>False</td>\n",
       "      <td>False</td>\n",
       "      <td>False</td>\n",
       "      <td>False</td>\n",
       "      <td>False</td>\n",
       "      <td>False</td>\n",
       "      <td>False</td>\n",
       "      <td>False</td>\n",
       "      <td>False</td>\n",
       "      <td>False</td>\n",
       "      <td>False</td>\n",
       "      <td>False</td>\n",
       "      <td>False</td>\n",
       "      <td>False</td>\n",
       "      <td>False</td>\n",
       "      <td>False</td>\n",
       "      <td>False</td>\n",
       "      <td>False</td>\n",
       "    </tr>\n",
       "    <tr>\n",
       "      <th>010001001010</th>\n",
       "      <td>False</td>\n",
       "      <td>False</td>\n",
       "      <td>False</td>\n",
       "      <td>False</td>\n",
       "      <td>False</td>\n",
       "      <td>False</td>\n",
       "      <td>False</td>\n",
       "      <td>False</td>\n",
       "      <td>False</td>\n",
       "      <td>False</td>\n",
       "      <td>False</td>\n",
       "      <td>False</td>\n",
       "      <td>False</td>\n",
       "      <td>False</td>\n",
       "      <td>False</td>\n",
       "      <td>False</td>\n",
       "      <td>False</td>\n",
       "      <td>False</td>\n",
       "      <td>False</td>\n",
       "      <td>False</td>\n",
       "      <td>False</td>\n",
       "      <td>False</td>\n",
       "      <td>False</td>\n",
       "      <td>False</td>\n",
       "      <td>False</td>\n",
       "      <td>False</td>\n",
       "      <td>False</td>\n",
       "      <td>False</td>\n",
       "      <td>False</td>\n",
       "      <td>False</td>\n",
       "      <td>False</td>\n",
       "      <td>False</td>\n",
       "      <td>False</td>\n",
       "      <td>False</td>\n",
       "      <td>False</td>\n",
       "      <td>False</td>\n",
       "      <td>False</td>\n",
       "      <td>False</td>\n",
       "      <td>False</td>\n",
       "      <td>False</td>\n",
       "      <td>...</td>\n",
       "      <td>False</td>\n",
       "      <td>False</td>\n",
       "      <td>False</td>\n",
       "      <td>False</td>\n",
       "      <td>False</td>\n",
       "      <td>False</td>\n",
       "      <td>False</td>\n",
       "      <td>False</td>\n",
       "      <td>False</td>\n",
       "      <td>False</td>\n",
       "      <td>False</td>\n",
       "      <td>False</td>\n",
       "      <td>False</td>\n",
       "      <td>False</td>\n",
       "      <td>False</td>\n",
       "      <td>False</td>\n",
       "      <td>False</td>\n",
       "      <td>False</td>\n",
       "      <td>False</td>\n",
       "      <td>False</td>\n",
       "      <td>False</td>\n",
       "      <td>False</td>\n",
       "      <td>False</td>\n",
       "      <td>False</td>\n",
       "      <td>False</td>\n",
       "      <td>False</td>\n",
       "      <td>False</td>\n",
       "      <td>False</td>\n",
       "      <td>False</td>\n",
       "      <td>False</td>\n",
       "      <td>False</td>\n",
       "      <td>False</td>\n",
       "      <td>False</td>\n",
       "      <td>False</td>\n",
       "      <td>False</td>\n",
       "      <td>False</td>\n",
       "      <td>False</td>\n",
       "      <td>False</td>\n",
       "      <td>False</td>\n",
       "      <td>False</td>\n",
       "    </tr>\n",
       "    <tr>\n",
       "      <th>01096232042</th>\n",
       "      <td>False</td>\n",
       "      <td>False</td>\n",
       "      <td>False</td>\n",
       "      <td>False</td>\n",
       "      <td>False</td>\n",
       "      <td>False</td>\n",
       "      <td>False</td>\n",
       "      <td>False</td>\n",
       "      <td>False</td>\n",
       "      <td>False</td>\n",
       "      <td>False</td>\n",
       "      <td>False</td>\n",
       "      <td>False</td>\n",
       "      <td>False</td>\n",
       "      <td>False</td>\n",
       "      <td>False</td>\n",
       "      <td>False</td>\n",
       "      <td>False</td>\n",
       "      <td>False</td>\n",
       "      <td>False</td>\n",
       "      <td>False</td>\n",
       "      <td>False</td>\n",
       "      <td>False</td>\n",
       "      <td>False</td>\n",
       "      <td>False</td>\n",
       "      <td>False</td>\n",
       "      <td>False</td>\n",
       "      <td>False</td>\n",
       "      <td>False</td>\n",
       "      <td>False</td>\n",
       "      <td>False</td>\n",
       "      <td>False</td>\n",
       "      <td>False</td>\n",
       "      <td>False</td>\n",
       "      <td>False</td>\n",
       "      <td>False</td>\n",
       "      <td>False</td>\n",
       "      <td>False</td>\n",
       "      <td>False</td>\n",
       "      <td>False</td>\n",
       "      <td>...</td>\n",
       "      <td>False</td>\n",
       "      <td>False</td>\n",
       "      <td>False</td>\n",
       "      <td>False</td>\n",
       "      <td>False</td>\n",
       "      <td>False</td>\n",
       "      <td>False</td>\n",
       "      <td>False</td>\n",
       "      <td>False</td>\n",
       "      <td>False</td>\n",
       "      <td>False</td>\n",
       "      <td>False</td>\n",
       "      <td>False</td>\n",
       "      <td>False</td>\n",
       "      <td>False</td>\n",
       "      <td>False</td>\n",
       "      <td>False</td>\n",
       "      <td>False</td>\n",
       "      <td>False</td>\n",
       "      <td>False</td>\n",
       "      <td>False</td>\n",
       "      <td>False</td>\n",
       "      <td>False</td>\n",
       "      <td>False</td>\n",
       "      <td>False</td>\n",
       "      <td>False</td>\n",
       "      <td>False</td>\n",
       "      <td>False</td>\n",
       "      <td>False</td>\n",
       "      <td>False</td>\n",
       "      <td>False</td>\n",
       "      <td>False</td>\n",
       "      <td>False</td>\n",
       "      <td>False</td>\n",
       "      <td>False</td>\n",
       "      <td>False</td>\n",
       "      <td>False</td>\n",
       "      <td>False</td>\n",
       "      <td>False</td>\n",
       "      <td>False</td>\n",
       "    </tr>\n",
       "    <tr>\n",
       "      <th>010a</th>\n",
       "      <td>False</td>\n",
       "      <td>False</td>\n",
       "      <td>False</td>\n",
       "      <td>False</td>\n",
       "      <td>False</td>\n",
       "      <td>False</td>\n",
       "      <td>False</td>\n",
       "      <td>False</td>\n",
       "      <td>False</td>\n",
       "      <td>False</td>\n",
       "      <td>False</td>\n",
       "      <td>False</td>\n",
       "      <td>True</td>\n",
       "      <td>False</td>\n",
       "      <td>False</td>\n",
       "      <td>False</td>\n",
       "      <td>False</td>\n",
       "      <td>False</td>\n",
       "      <td>False</td>\n",
       "      <td>False</td>\n",
       "      <td>False</td>\n",
       "      <td>False</td>\n",
       "      <td>False</td>\n",
       "      <td>False</td>\n",
       "      <td>False</td>\n",
       "      <td>False</td>\n",
       "      <td>False</td>\n",
       "      <td>False</td>\n",
       "      <td>False</td>\n",
       "      <td>False</td>\n",
       "      <td>False</td>\n",
       "      <td>False</td>\n",
       "      <td>False</td>\n",
       "      <td>False</td>\n",
       "      <td>False</td>\n",
       "      <td>False</td>\n",
       "      <td>False</td>\n",
       "      <td>False</td>\n",
       "      <td>False</td>\n",
       "      <td>False</td>\n",
       "      <td>...</td>\n",
       "      <td>False</td>\n",
       "      <td>False</td>\n",
       "      <td>False</td>\n",
       "      <td>False</td>\n",
       "      <td>False</td>\n",
       "      <td>False</td>\n",
       "      <td>False</td>\n",
       "      <td>False</td>\n",
       "      <td>False</td>\n",
       "      <td>False</td>\n",
       "      <td>False</td>\n",
       "      <td>False</td>\n",
       "      <td>False</td>\n",
       "      <td>False</td>\n",
       "      <td>False</td>\n",
       "      <td>False</td>\n",
       "      <td>False</td>\n",
       "      <td>False</td>\n",
       "      <td>False</td>\n",
       "      <td>False</td>\n",
       "      <td>False</td>\n",
       "      <td>False</td>\n",
       "      <td>False</td>\n",
       "      <td>False</td>\n",
       "      <td>False</td>\n",
       "      <td>False</td>\n",
       "      <td>False</td>\n",
       "      <td>False</td>\n",
       "      <td>False</td>\n",
       "      <td>False</td>\n",
       "      <td>False</td>\n",
       "      <td>False</td>\n",
       "      <td>False</td>\n",
       "      <td>False</td>\n",
       "      <td>False</td>\n",
       "      <td>False</td>\n",
       "      <td>False</td>\n",
       "      <td>False</td>\n",
       "      <td>False</td>\n",
       "      <td>False</td>\n",
       "    </tr>\n",
       "  </tbody>\n",
       "</table>\n",
       "<p>5 rows × 1008 columns</p>\n",
       "</div>"
      ],
      "text/plain": [
       "              13296502  13297792  13301832  ...  16030838  16035402  16036121\n",
       "user                                        ...                              \n",
       "0003             False     False     False  ...     False     False     False\n",
       "01000001         False     False     False  ...     False     False     False\n",
       "010001001010     False     False     False  ...     False     False     False\n",
       "01096232042      False     False     False  ...     False     False     False\n",
       "010a             False     False     False  ...     False     False     False\n",
       "\n",
       "[5 rows x 1008 columns]"
      ]
     },
     "execution_count": 33,
     "metadata": {
      "tags": []
     },
     "output_type": "execute_result"
    }
   ],
   "source": [
    "matrix1 = OHE_Matrix(story_user_comment)\n",
    "matrix1.head()"
   ]
  },
  {
   "cell_type": "code",
   "execution_count": 34,
   "metadata": {
    "colab": {
     "base_uri": "https://localhost:8080/"
    },
    "executionInfo": {
     "elapsed": 2439,
     "status": "ok",
     "timestamp": 1616865413460,
     "user": {
      "displayName": "Sparsh Agarwal",
      "photoUrl": "",
      "userId": "13037694610922482904"
     },
     "user_tz": -330
    },
    "id": "K0V0-45aq0mS",
    "outputId": "5aa36c0c-7c14-4bbf-c8b4-9a2aee2fc632"
   },
   "outputs": [
    {
     "name": "stdout",
     "output_type": "stream",
     "text": [
      "Number of users: 23804\n",
      "Number of stories: 1008\n",
      "Sparsity: 0.002%\n"
     ]
    }
   ],
   "source": [
    "n_users = story_user_comment.user.unique().shape[0]\n",
    "n_stories = story_user_comment.story.unique().shape[0]\n",
    "\n",
    "print('Number of users: {}'.format(n_users))\n",
    "print('Number of stories: {}'.format(n_stories))\n",
    "print('Sparsity: {:4.3f}%'.format(float(story_user_comment.shape[0]) / float(n_users*n_stories)))"
   ]
  },
  {
   "cell_type": "code",
   "execution_count": 37,
   "metadata": {
    "executionInfo": {
     "elapsed": 1826,
     "status": "ok",
     "timestamp": 1616865684708,
     "user": {
      "displayName": "Sparsh Agarwal",
      "photoUrl": "",
      "userId": "13037694610922482904"
     },
     "user_tz": -330
    },
    "id": "d71mGWHDsD8z"
   },
   "outputs": [],
   "source": [
    "def Sparse_Matrix(df):\n",
    "    \n",
    "    # Create mappings\n",
    "    user_to_index = {}\n",
    "    index_to_user = {}\n",
    "    for (index, user) in enumerate(df.user.unique().tolist()):\n",
    "        user_to_index[user] = index\n",
    "        index_to_user[index] = user\n",
    "\n",
    "    story_to_index = {}\n",
    "    index_to_story = {}\n",
    "    for (index, story) in enumerate(df.story.unique().tolist()):\n",
    "        story_to_index[story] = index\n",
    "        index_to_story[index] = story\n",
    "        \n",
    "    # Create a map id function\n",
    "    def map_ids(row, mapper):\n",
    "        return mapper[row]\n",
    "    \n",
    "    # Apply the map id function \n",
    "    I = df.user.apply(map_ids, args=[user_to_index]).to_numpy()\n",
    "    J = df.story.apply(map_ids, args=[story_to_index]).to_numpy()\n",
    "    V = np.ones(I.shape[0])\n",
    "    \n",
    "    # Create the Matrix\n",
    "    story_user = sparse.coo_matrix((V, (I, J)), dtype=np.float64)\n",
    "    story_user_matrix = story_user.tocsr()\n",
    "    \n",
    "    return story_user_matrix"
   ]
  },
  {
   "cell_type": "code",
   "execution_count": 38,
   "metadata": {
    "colab": {
     "base_uri": "https://localhost:8080/"
    },
    "executionInfo": {
     "elapsed": 1428,
     "status": "ok",
     "timestamp": 1616865686605,
     "user": {
      "displayName": "Sparsh Agarwal",
      "photoUrl": "",
      "userId": "13037694610922482904"
     },
     "user_tz": -330
    },
    "id": "SCBzkEvbsqrb",
    "outputId": "21f09ff1-689d-4017-aa3e-dac7101c3b02"
   },
   "outputs": [
    {
     "data": {
      "text/plain": [
       "<23804x1008 sparse matrix of type '<class 'numpy.float64'>'\n",
       "\twith 53041 stored elements in Compressed Sparse Row format>"
      ]
     },
     "execution_count": 38,
     "metadata": {
      "tags": []
     },
     "output_type": "execute_result"
    }
   ],
   "source": [
    "matrix2 = Sparse_Matrix(story_user_comment)\n",
    "matrix2"
   ]
  },
  {
   "cell_type": "markdown",
   "metadata": {
    "id": "TltzmUomtNcw"
   },
   "source": [
    "---"
   ]
  },
  {
   "cell_type": "code",
   "execution_count": 49,
   "metadata": {
    "executionInfo": {
     "elapsed": 966,
     "status": "ok",
     "timestamp": 1616866005820,
     "user": {
      "displayName": "Sparsh Agarwal",
      "photoUrl": "",
      "userId": "13037694610922482904"
     },
     "user_tz": -330
    },
    "id": "sbZufyHVs0NC"
   },
   "outputs": [],
   "source": [
    "! pip install spacy\n",
    "! python -m spacy download en\n",
    "\n",
    "import spacy\n",
    "import warnings\n",
    "\n",
    "nlp = spacy.load('en')\n",
    "warnings.filterwarnings(\"ignore\")"
   ]
  },
  {
   "cell_type": "code",
   "execution_count": 46,
   "metadata": {
    "colab": {
     "base_uri": "https://localhost:8080/",
     "height": 318
    },
    "executionInfo": {
     "elapsed": 1487,
     "status": "ok",
     "timestamp": 1616865949356,
     "user": {
      "displayName": "Sparsh Agarwal",
      "photoUrl": "",
      "userId": "13037694610922482904"
     },
     "user_tz": -330
    },
    "id": "LdgAjyJ-t_46",
    "outputId": "f1f187d1-7182-4b01-eac1-826ec2d268bd"
   },
   "outputs": [
    {
     "data": {
      "text/html": [
       "<div>\n",
       "<style scoped>\n",
       "    .dataframe tbody tr th:only-of-type {\n",
       "        vertical-align: middle;\n",
       "    }\n",
       "\n",
       "    .dataframe tbody tr th {\n",
       "        vertical-align: top;\n",
       "    }\n",
       "\n",
       "    .dataframe thead th {\n",
       "        text-align: right;\n",
       "    }\n",
       "</style>\n",
       "<table border=\"1\" class=\"dataframe\">\n",
       "  <thead>\n",
       "    <tr style=\"text-align: right;\">\n",
       "      <th></th>\n",
       "      <th>title</th>\n",
       "      <th>url</th>\n",
       "      <th>text</th>\n",
       "      <th>dead</th>\n",
       "      <th>by</th>\n",
       "      <th>score</th>\n",
       "      <th>time</th>\n",
       "      <th>timestamp</th>\n",
       "      <th>type</th>\n",
       "      <th>id</th>\n",
       "      <th>parent</th>\n",
       "      <th>descendants</th>\n",
       "      <th>ranking</th>\n",
       "      <th>deleted</th>\n",
       "    </tr>\n",
       "  </thead>\n",
       "  <tbody>\n",
       "    <tr>\n",
       "      <th>0</th>\n",
       "      <td>Ask HN: How Apple encrypt iCloud photos?</td>\n",
       "      <td>NaN</td>\n",
       "      <td>Here, at HN, we all care about privacy.&lt;p&gt;Appl...</td>\n",
       "      <td>NaN</td>\n",
       "      <td>ex3ndr</td>\n",
       "      <td>5</td>\n",
       "      <td>1511298567</td>\n",
       "      <td>2017-11-21 21:09:27+00:00</td>\n",
       "      <td>story</td>\n",
       "      <td>15751571</td>\n",
       "      <td>NaN</td>\n",
       "      <td>0.0</td>\n",
       "      <td>NaN</td>\n",
       "      <td>NaN</td>\n",
       "    </tr>\n",
       "    <tr>\n",
       "      <th>1</th>\n",
       "      <td>Ask HN: Best consumer EEG hardware and software?</td>\n",
       "      <td>NaN</td>\n",
       "      <td>What&amp;#x27;s the best consumer level EEG hardwa...</td>\n",
       "      <td>NaN</td>\n",
       "      <td>hanniabu</td>\n",
       "      <td>5</td>\n",
       "      <td>1486834334</td>\n",
       "      <td>2017-02-11 17:32:14+00:00</td>\n",
       "      <td>story</td>\n",
       "      <td>13623602</td>\n",
       "      <td>NaN</td>\n",
       "      <td>3.0</td>\n",
       "      <td>NaN</td>\n",
       "      <td>NaN</td>\n",
       "    </tr>\n",
       "  </tbody>\n",
       "</table>\n",
       "</div>"
      ],
      "text/plain": [
       "                                              title  url  ... ranking deleted\n",
       "0          Ask HN: How Apple encrypt iCloud photos?  NaN  ...     NaN     NaN\n",
       "1  Ask HN: Best consumer EEG hardware and software?  NaN  ...     NaN     NaN\n",
       "\n",
       "[2 rows x 14 columns]"
      ]
     },
     "execution_count": 46,
     "metadata": {
      "tags": []
     },
     "output_type": "execute_result"
    }
   ],
   "source": [
    "stories = pd.read_csv('HackerNews_stories.csv')\n",
    "stories[:2]"
   ]
  },
  {
   "cell_type": "code",
   "execution_count": 50,
   "metadata": {
    "colab": {
     "base_uri": "https://localhost:8080/"
    },
    "executionInfo": {
     "elapsed": 1375,
     "status": "ok",
     "timestamp": 1616866027113,
     "user": {
      "displayName": "Sparsh Agarwal",
      "photoUrl": "",
      "userId": "13037694610922482904"
     },
     "user_tz": -330
    },
    "id": "dGGlP3u7tZRa",
    "outputId": "47c5c8dd-e9c2-4894-dfec-9b125cc0fb33"
   },
   "outputs": [
    {
     "name": "stdout",
     "output_type": "stream",
     "text": [
      "Ask HN: How Apple encrypt iCloud photos? Ask HN: Best consumer EEG hardware and software?\n",
      "96 96\n",
      "0.7358155169371403\n"
     ]
    }
   ],
   "source": [
    "title0 = nlp(stories.title[0])\n",
    "title1 = nlp(stories.title[1])\n",
    "\n",
    "print(title0, title1)\n",
    "print(len(title0.vector), len(title1.vector))\n",
    "print(title0.similarity(title1))"
   ]
  },
  {
   "cell_type": "code",
   "execution_count": 51,
   "metadata": {
    "colab": {
     "base_uri": "https://localhost:8080/",
     "height": 204
    },
    "executionInfo": {
     "elapsed": 261947,
     "status": "ok",
     "timestamp": 1616866351794,
     "user": {
      "displayName": "Sparsh Agarwal",
      "photoUrl": "",
      "userId": "13037694610922482904"
     },
     "user_tz": -330
    },
    "id": "xokUGjPjtwVe",
    "outputId": "a08605de-5875-446e-aeb6-fdf16365aac0"
   },
   "outputs": [
    {
     "data": {
      "text/html": [
       "<div>\n",
       "<style scoped>\n",
       "    .dataframe tbody tr th:only-of-type {\n",
       "        vertical-align: middle;\n",
       "    }\n",
       "\n",
       "    .dataframe tbody tr th {\n",
       "        vertical-align: top;\n",
       "    }\n",
       "\n",
       "    .dataframe thead th {\n",
       "        text-align: right;\n",
       "    }\n",
       "</style>\n",
       "<table border=\"1\" class=\"dataframe\">\n",
       "  <thead>\n",
       "    <tr style=\"text-align: right;\">\n",
       "      <th></th>\n",
       "      <th>story1</th>\n",
       "      <th>story2</th>\n",
       "      <th>similarity</th>\n",
       "    </tr>\n",
       "  </thead>\n",
       "  <tbody>\n",
       "    <tr>\n",
       "      <th>0</th>\n",
       "      <td>Ask HN: How Apple encrypt iCloud photos?</td>\n",
       "      <td>Ask HN: How Apple encrypt iCloud photos?</td>\n",
       "      <td>1.000000</td>\n",
       "    </tr>\n",
       "    <tr>\n",
       "      <th>1</th>\n",
       "      <td>Ask HN: How Apple encrypt iCloud photos?</td>\n",
       "      <td>Ask HN: Best consumer EEG hardware and software?</td>\n",
       "      <td>0.735816</td>\n",
       "    </tr>\n",
       "    <tr>\n",
       "      <th>2</th>\n",
       "      <td>Ask HN: How Apple encrypt iCloud photos?</td>\n",
       "      <td>Ask HN: Devs: How did you go from writing just...</td>\n",
       "      <td>0.649074</td>\n",
       "    </tr>\n",
       "    <tr>\n",
       "      <th>3</th>\n",
       "      <td>Ask HN: How Apple encrypt iCloud photos?</td>\n",
       "      <td>Ask HN: Are exceptional programmers highly opi...</td>\n",
       "      <td>0.660919</td>\n",
       "    </tr>\n",
       "    <tr>\n",
       "      <th>4</th>\n",
       "      <td>Ask HN: How Apple encrypt iCloud photos?</td>\n",
       "      <td>Ask HN: Does your organization use SecDevOps?</td>\n",
       "      <td>0.626567</td>\n",
       "    </tr>\n",
       "  </tbody>\n",
       "</table>\n",
       "</div>"
      ],
      "text/plain": [
       "                                     story1  ... similarity\n",
       "0  Ask HN: How Apple encrypt iCloud photos?  ...   1.000000\n",
       "1  Ask HN: How Apple encrypt iCloud photos?  ...   0.735816\n",
       "2  Ask HN: How Apple encrypt iCloud photos?  ...   0.649074\n",
       "3  Ask HN: How Apple encrypt iCloud photos?  ...   0.660919\n",
       "4  Ask HN: How Apple encrypt iCloud photos?  ...   0.626567\n",
       "\n",
       "[5 rows x 3 columns]"
      ]
     },
     "execution_count": 51,
     "metadata": {
      "tags": []
     },
     "output_type": "execute_result"
    }
   ],
   "source": [
    "story_similarity = []\n",
    "\n",
    "# The below code is time consuming - and so, we will run it only for the first 100 titles\n",
    "for story_row in stories.title[:100]:\n",
    "    for story_column in stories.title[:100]:\n",
    "        story_sim = nlp(story_row).similarity(nlp(story_column))\n",
    "        story_similarity.append([story_row, story_column, story_sim])\n",
    "\n",
    "story_similarity = pd.DataFrame(story_similarity,\n",
    "                               columns = [\"story1\", \"story2\", \"similarity\"] )\n",
    "\n",
    "story_similarity.head()"
   ]
  },
  {
   "cell_type": "code",
   "execution_count": 55,
   "metadata": {
    "colab": {
     "base_uri": "https://localhost:8080/",
     "height": 794
    },
    "executionInfo": {
     "elapsed": 3279,
     "status": "ok",
     "timestamp": 1616866686347,
     "user": {
      "displayName": "Sparsh Agarwal",
      "photoUrl": "",
      "userId": "13037694610922482904"
     },
     "user_tz": -330
    },
    "id": "jsQP6o-5t57e",
    "outputId": "892a8f65-63e5-4dae-a3d7-da836e82b47b"
   },
   "outputs": [
    {
     "data": {
      "text/html": [
       "<div>\n",
       "<style scoped>\n",
       "    .dataframe tbody tr th:only-of-type {\n",
       "        vertical-align: middle;\n",
       "    }\n",
       "\n",
       "    .dataframe tbody tr th {\n",
       "        vertical-align: top;\n",
       "    }\n",
       "\n",
       "    .dataframe thead th {\n",
       "        text-align: right;\n",
       "    }\n",
       "</style>\n",
       "<table border=\"1\" class=\"dataframe\">\n",
       "  <thead>\n",
       "    <tr style=\"text-align: right;\">\n",
       "      <th>story2</th>\n",
       "      <th>AWS IAM Down</th>\n",
       "      <th>Are the new TLDs really black holes for SEO?</th>\n",
       "      <th>Ask HN: A story about a research adviser who automated himself</th>\n",
       "      <th>Ask HN: An API to store/retrieve JSON?</th>\n",
       "      <th>Ask HN: Any great product onboarding experiences you've had lately?</th>\n",
       "      <th>Ask HN: Are all developers sith by nature?</th>\n",
       "      <th>Ask HN: Are exceptional programmers highly opinionated?</th>\n",
       "      <th>Ask HN: Are large corporations with fraudulent IT managers the norm?</th>\n",
       "      <th>Ask HN: Are there any open-source alternatives to AWS Lambda</th>\n",
       "      <th>Ask HN: Best consumer EEG hardware and software?</th>\n",
       "      <th>Ask HN: Best noise cancelling headphones for developers</th>\n",
       "      <th>Ask HN: Best tech for a web site 2018? (PHP, Rails, Django, Node, Go, etc.)?</th>\n",
       "      <th>Ask HN: Can Cryptocurrency Beat Credit Card in Consumer Micro Payment Market?</th>\n",
       "      <th>Ask HN: Devs: How did you go from writing just code, to writing code + tests?</th>\n",
       "      <th>Ask HN: Do you reveal all of your code to contractors?</th>\n",
       "      <th>Ask HN: Do you skip phone interviews for Google/FB/Tier-1 company engineers?</th>\n",
       "      <th>Ask HN: Do you use dedicated GitHub/NPM/etc. accounts for work?</th>\n",
       "      <th>Ask HN: Does anyone use online standup tools?</th>\n",
       "      <th>Ask HN: Does your organization use SecDevOps?</th>\n",
       "      <th>Ask HN: Favorite blogs?</th>\n",
       "      <th>Ask HN: Freelancer? Seeking freelancer? (May 2017)</th>\n",
       "      <th>Ask HN: Google Doc email virus?</th>\n",
       "      <th>Ask HN: Hacker News users reading habits</th>\n",
       "      <th>Ask HN: How Apple encrypt iCloud photos?</th>\n",
       "      <th>Ask HN: How best to report phishing emails to a domain holder?</th>\n",
       "      <th>Ask HN: How do I compile a list of censored websites in my country</th>\n",
       "      <th>Ask HN: How do you gain weight?</th>\n",
       "      <th>Ask HN: How do you set prices?</th>\n",
       "      <th>Ask HN: How do your team write documentation?</th>\n",
       "      <th>Ask HN: How has Satoshi Nakamoto been so good at opsec all this time?</th>\n",
       "      <th>Ask HN: How long before new developer starts contributing code in your company?</th>\n",
       "      <th>Ask HN: How often do you experience self-control issues?</th>\n",
       "      <th>Ask HN: How should I study algorithms and datastructures?</th>\n",
       "      <th>Ask HN: How to get into the space industry as citizen from 3rd world?</th>\n",
       "      <th>Ask HN: How to introduce someone to programming concepts during 12-hour drive?</th>\n",
       "      <th>Ask HN: How to learn new things better?</th>\n",
       "      <th>Ask HN: How to scale a startup after initial traction (books/resources/etc)?</th>\n",
       "      <th>Ask HN: How to succeed in tech as an introvert?</th>\n",
       "      <th>Ask HN: How you wake up?</th>\n",
       "      <th>Ask HN: Introductory CS resources for dyslexic teenager?</th>\n",
       "      <th>...</th>\n",
       "      <th>Ask HN: What was impossible earlier that is easy in the BTC and ETH blockchains?</th>\n",
       "      <th>Ask HN: What's the best indoor air quality monitor?</th>\n",
       "      <th>Ask HN: What's the most interesting URL you've seen?</th>\n",
       "      <th>Ask HN: What's your biggest struggle with Microservices?</th>\n",
       "      <th>Ask HN: Where is the days most interesting tech posts?</th>\n",
       "      <th>Ask HN: Where is there so much cryptocurrency skepticism on HN?</th>\n",
       "      <th>Ask HN: Where should I keep my recovery codes (Google account for exemple)?</th>\n",
       "      <th>Ask HN: Where to incorporate a European startup?</th>\n",
       "      <th>Ask HN: Who is hiring? (May 2017)</th>\n",
       "      <th>Ask HN: Who wants to be hired? (May 2017)</th>\n",
       "      <th>Ask HN: Who'se running a nonprofit here?</th>\n",
       "      <th>Ask HN: Why HN does not have categories for news</th>\n",
       "      <th>Ask HN: Why are flash memory prices going down so much faster than RAM?</th>\n",
       "      <th>Ask HN: Why is Google Cloud not allowed for individuals in Europe?</th>\n",
       "      <th>Ask HN: Why is law stuff seemingly against normal people?</th>\n",
       "      <th>Ask HN: Why nobody cares about good engineering rather than how to reduce costs?</th>\n",
       "      <th>Ask HN: Why wouldn't FB “steal” my startup idea?</th>\n",
       "      <th>Ask HN: Will JavaScript take over the world of programming?</th>\n",
       "      <th>Ask HN: Would you switch to Win 10 from OS X on a MacBook Pro?</th>\n",
       "      <th>Blum: “The proof is wrong. I shall elaborate precisely what the mistake is.”</th>\n",
       "      <th>Court OKs child porn prosecution of minors distributing pictures of themselves</th>\n",
       "      <th>Don't post a GitHub issue unless you have contributed code, or donated  $50 cash</th>\n",
       "      <th>Drag and drop editor like Scratch, but for Python – all coded by a 13 year old</th>\n",
       "      <th>GitHub is down</th>\n",
       "      <th>Government/FBI hacked my MacBook Pro</th>\n",
       "      <th>HTML 5P CODE</th>\n",
       "      <th>I love coding, and I am 40. Can I still become a developer – and is it worth it?</th>\n",
       "      <th>I turned $1.24 into $1000 of UberEATS credit</th>\n",
       "      <th>Launch HN: Muzmatch (YC S17) – A place where 400M single Muslims can meet</th>\n",
       "      <th>Launching a new App Store today, proceeds going to ACLU</th>\n",
       "      <th>Predictive Analysis for Crypto: The spreadsheet that got me my first 1,000% gain</th>\n",
       "      <th>Quit a job, moved to another country. Can't come up with any ideas. Need help</th>\n",
       "      <th>Show HN: RESTfender – Connect and secure your IoT devices</th>\n",
       "      <th>Steve Bannon Removed from the National Security Council</th>\n",
       "      <th>Sunset: Oracle closes down last Sun product lines</th>\n",
       "      <th>TechCrunch stores user passwords in plain text</th>\n",
       "      <th>US Supreme Court will require electronic filings and post them free online</th>\n",
       "      <th>What blogging platform do you use?</th>\n",
       "      <th>Why don't password input screens include the site's password criteria?</th>\n",
       "      <th>Will Silicon Valley remain the best hub of tech in the next 10 years?</th>\n",
       "    </tr>\n",
       "    <tr>\n",
       "      <th>story1</th>\n",
       "      <th></th>\n",
       "      <th></th>\n",
       "      <th></th>\n",
       "      <th></th>\n",
       "      <th></th>\n",
       "      <th></th>\n",
       "      <th></th>\n",
       "      <th></th>\n",
       "      <th></th>\n",
       "      <th></th>\n",
       "      <th></th>\n",
       "      <th></th>\n",
       "      <th></th>\n",
       "      <th></th>\n",
       "      <th></th>\n",
       "      <th></th>\n",
       "      <th></th>\n",
       "      <th></th>\n",
       "      <th></th>\n",
       "      <th></th>\n",
       "      <th></th>\n",
       "      <th></th>\n",
       "      <th></th>\n",
       "      <th></th>\n",
       "      <th></th>\n",
       "      <th></th>\n",
       "      <th></th>\n",
       "      <th></th>\n",
       "      <th></th>\n",
       "      <th></th>\n",
       "      <th></th>\n",
       "      <th></th>\n",
       "      <th></th>\n",
       "      <th></th>\n",
       "      <th></th>\n",
       "      <th></th>\n",
       "      <th></th>\n",
       "      <th></th>\n",
       "      <th></th>\n",
       "      <th></th>\n",
       "      <th></th>\n",
       "      <th></th>\n",
       "      <th></th>\n",
       "      <th></th>\n",
       "      <th></th>\n",
       "      <th></th>\n",
       "      <th></th>\n",
       "      <th></th>\n",
       "      <th></th>\n",
       "      <th></th>\n",
       "      <th></th>\n",
       "      <th></th>\n",
       "      <th></th>\n",
       "      <th></th>\n",
       "      <th></th>\n",
       "      <th></th>\n",
       "      <th></th>\n",
       "      <th></th>\n",
       "      <th></th>\n",
       "      <th></th>\n",
       "      <th></th>\n",
       "      <th></th>\n",
       "      <th></th>\n",
       "      <th></th>\n",
       "      <th></th>\n",
       "      <th></th>\n",
       "      <th></th>\n",
       "      <th></th>\n",
       "      <th></th>\n",
       "      <th></th>\n",
       "      <th></th>\n",
       "      <th></th>\n",
       "      <th></th>\n",
       "      <th></th>\n",
       "      <th></th>\n",
       "      <th></th>\n",
       "      <th></th>\n",
       "      <th></th>\n",
       "      <th></th>\n",
       "      <th></th>\n",
       "      <th></th>\n",
       "    </tr>\n",
       "  </thead>\n",
       "  <tbody>\n",
       "    <tr>\n",
       "      <th>AWS IAM Down</th>\n",
       "      <td>1.000000</td>\n",
       "      <td>0.372631</td>\n",
       "      <td>0.362052</td>\n",
       "      <td>0.451602</td>\n",
       "      <td>0.369173</td>\n",
       "      <td>0.415331</td>\n",
       "      <td>0.359759</td>\n",
       "      <td>0.428201</td>\n",
       "      <td>0.459098</td>\n",
       "      <td>0.337444</td>\n",
       "      <td>0.443817</td>\n",
       "      <td>0.323969</td>\n",
       "      <td>0.495128</td>\n",
       "      <td>0.332747</td>\n",
       "      <td>0.384787</td>\n",
       "      <td>0.330638</td>\n",
       "      <td>0.354062</td>\n",
       "      <td>0.480397</td>\n",
       "      <td>0.297228</td>\n",
       "      <td>0.427322</td>\n",
       "      <td>0.290506</td>\n",
       "      <td>0.489911</td>\n",
       "      <td>0.334724</td>\n",
       "      <td>0.534451</td>\n",
       "      <td>0.398375</td>\n",
       "      <td>0.408198</td>\n",
       "      <td>0.442070</td>\n",
       "      <td>0.404511</td>\n",
       "      <td>0.343674</td>\n",
       "      <td>0.537964</td>\n",
       "      <td>0.427102</td>\n",
       "      <td>0.304297</td>\n",
       "      <td>0.336563</td>\n",
       "      <td>0.440592</td>\n",
       "      <td>0.225914</td>\n",
       "      <td>0.356039</td>\n",
       "      <td>0.144703</td>\n",
       "      <td>0.378550</td>\n",
       "      <td>0.473304</td>\n",
       "      <td>0.447720</td>\n",
       "      <td>...</td>\n",
       "      <td>0.416733</td>\n",
       "      <td>0.341485</td>\n",
       "      <td>0.379792</td>\n",
       "      <td>0.378179</td>\n",
       "      <td>0.421026</td>\n",
       "      <td>0.531157</td>\n",
       "      <td>0.453343</td>\n",
       "      <td>0.340548</td>\n",
       "      <td>0.295972</td>\n",
       "      <td>0.194090</td>\n",
       "      <td>0.439703</td>\n",
       "      <td>0.430423</td>\n",
       "      <td>0.546642</td>\n",
       "      <td>0.521365</td>\n",
       "      <td>0.521691</td>\n",
       "      <td>0.532165</td>\n",
       "      <td>0.336877</td>\n",
       "      <td>0.554558</td>\n",
       "      <td>0.551684</td>\n",
       "      <td>0.380078</td>\n",
       "      <td>0.280518</td>\n",
       "      <td>0.227273</td>\n",
       "      <td>0.327589</td>\n",
       "      <td>0.629686</td>\n",
       "      <td>0.404470</td>\n",
       "      <td>0.401569</td>\n",
       "      <td>0.256871</td>\n",
       "      <td>0.088050</td>\n",
       "      <td>0.345177</td>\n",
       "      <td>0.326935</td>\n",
       "      <td>0.304195</td>\n",
       "      <td>0.359111</td>\n",
       "      <td>0.329421</td>\n",
       "      <td>0.317858</td>\n",
       "      <td>0.573709</td>\n",
       "      <td>0.393016</td>\n",
       "      <td>0.381848</td>\n",
       "      <td>0.154359</td>\n",
       "      <td>0.295900</td>\n",
       "      <td>0.303238</td>\n",
       "    </tr>\n",
       "    <tr>\n",
       "      <th>Are the new TLDs really black holes for SEO?</th>\n",
       "      <td>0.372631</td>\n",
       "      <td>1.000000</td>\n",
       "      <td>0.394458</td>\n",
       "      <td>0.522902</td>\n",
       "      <td>0.590693</td>\n",
       "      <td>0.620135</td>\n",
       "      <td>0.604438</td>\n",
       "      <td>0.750619</td>\n",
       "      <td>0.687240</td>\n",
       "      <td>0.469437</td>\n",
       "      <td>0.473253</td>\n",
       "      <td>0.493420</td>\n",
       "      <td>0.407377</td>\n",
       "      <td>0.433784</td>\n",
       "      <td>0.453174</td>\n",
       "      <td>0.582411</td>\n",
       "      <td>0.586731</td>\n",
       "      <td>0.525851</td>\n",
       "      <td>0.298820</td>\n",
       "      <td>0.530790</td>\n",
       "      <td>0.288993</td>\n",
       "      <td>0.533107</td>\n",
       "      <td>0.435086</td>\n",
       "      <td>0.532955</td>\n",
       "      <td>0.448678</td>\n",
       "      <td>0.471236</td>\n",
       "      <td>0.296137</td>\n",
       "      <td>0.300340</td>\n",
       "      <td>0.317280</td>\n",
       "      <td>0.594735</td>\n",
       "      <td>0.491133</td>\n",
       "      <td>0.438882</td>\n",
       "      <td>0.309377</td>\n",
       "      <td>0.606896</td>\n",
       "      <td>0.452847</td>\n",
       "      <td>0.360406</td>\n",
       "      <td>0.529329</td>\n",
       "      <td>0.497490</td>\n",
       "      <td>0.331907</td>\n",
       "      <td>0.616322</td>\n",
       "      <td>...</td>\n",
       "      <td>0.673573</td>\n",
       "      <td>0.579609</td>\n",
       "      <td>0.464862</td>\n",
       "      <td>0.460076</td>\n",
       "      <td>0.702212</td>\n",
       "      <td>0.631354</td>\n",
       "      <td>0.472656</td>\n",
       "      <td>0.534548</td>\n",
       "      <td>0.300982</td>\n",
       "      <td>0.301810</td>\n",
       "      <td>0.463460</td>\n",
       "      <td>0.494552</td>\n",
       "      <td>0.653727</td>\n",
       "      <td>0.594782</td>\n",
       "      <td>0.636774</td>\n",
       "      <td>0.518812</td>\n",
       "      <td>0.305265</td>\n",
       "      <td>0.527143</td>\n",
       "      <td>0.539237</td>\n",
       "      <td>0.477869</td>\n",
       "      <td>0.553001</td>\n",
       "      <td>0.541013</td>\n",
       "      <td>0.680008</td>\n",
       "      <td>0.495912</td>\n",
       "      <td>0.373539</td>\n",
       "      <td>0.486948</td>\n",
       "      <td>0.346994</td>\n",
       "      <td>0.413124</td>\n",
       "      <td>0.557924</td>\n",
       "      <td>0.524902</td>\n",
       "      <td>0.555912</td>\n",
       "      <td>0.513762</td>\n",
       "      <td>0.375995</td>\n",
       "      <td>0.309491</td>\n",
       "      <td>0.616594</td>\n",
       "      <td>0.618365</td>\n",
       "      <td>0.424649</td>\n",
       "      <td>0.295283</td>\n",
       "      <td>0.492462</td>\n",
       "      <td>0.549266</td>\n",
       "    </tr>\n",
       "    <tr>\n",
       "      <th>Ask HN: A story about a research adviser who automated himself</th>\n",
       "      <td>0.362052</td>\n",
       "      <td>0.394458</td>\n",
       "      <td>1.000000</td>\n",
       "      <td>0.606138</td>\n",
       "      <td>0.555388</td>\n",
       "      <td>0.343673</td>\n",
       "      <td>0.379489</td>\n",
       "      <td>0.500107</td>\n",
       "      <td>0.489163</td>\n",
       "      <td>0.653844</td>\n",
       "      <td>0.648348</td>\n",
       "      <td>0.467201</td>\n",
       "      <td>0.494972</td>\n",
       "      <td>0.537659</td>\n",
       "      <td>0.481938</td>\n",
       "      <td>0.543381</td>\n",
       "      <td>0.458857</td>\n",
       "      <td>0.566622</td>\n",
       "      <td>0.546903</td>\n",
       "      <td>0.451096</td>\n",
       "      <td>0.518389</td>\n",
       "      <td>0.548462</td>\n",
       "      <td>0.569596</td>\n",
       "      <td>0.586612</td>\n",
       "      <td>0.655009</td>\n",
       "      <td>0.584478</td>\n",
       "      <td>0.321454</td>\n",
       "      <td>0.386887</td>\n",
       "      <td>0.494162</td>\n",
       "      <td>0.521629</td>\n",
       "      <td>0.580649</td>\n",
       "      <td>0.468238</td>\n",
       "      <td>0.469527</td>\n",
       "      <td>0.575658</td>\n",
       "      <td>0.494570</td>\n",
       "      <td>0.272538</td>\n",
       "      <td>0.540732</td>\n",
       "      <td>0.632092</td>\n",
       "      <td>0.363669</td>\n",
       "      <td>0.543280</td>\n",
       "      <td>...</td>\n",
       "      <td>0.567008</td>\n",
       "      <td>0.560231</td>\n",
       "      <td>0.440908</td>\n",
       "      <td>0.490522</td>\n",
       "      <td>0.359671</td>\n",
       "      <td>0.497513</td>\n",
       "      <td>0.563574</td>\n",
       "      <td>0.583099</td>\n",
       "      <td>0.462003</td>\n",
       "      <td>0.398418</td>\n",
       "      <td>0.664169</td>\n",
       "      <td>0.498056</td>\n",
       "      <td>0.429154</td>\n",
       "      <td>0.463778</td>\n",
       "      <td>0.558141</td>\n",
       "      <td>0.601553</td>\n",
       "      <td>0.510902</td>\n",
       "      <td>0.619465</td>\n",
       "      <td>0.510844</td>\n",
       "      <td>0.481662</td>\n",
       "      <td>0.487100</td>\n",
       "      <td>0.499321</td>\n",
       "      <td>0.509419</td>\n",
       "      <td>0.244210</td>\n",
       "      <td>0.513279</td>\n",
       "      <td>0.570539</td>\n",
       "      <td>0.333581</td>\n",
       "      <td>0.351154</td>\n",
       "      <td>0.665584</td>\n",
       "      <td>0.600237</td>\n",
       "      <td>0.612762</td>\n",
       "      <td>0.584855</td>\n",
       "      <td>0.529744</td>\n",
       "      <td>0.399789</td>\n",
       "      <td>0.608648</td>\n",
       "      <td>0.496338</td>\n",
       "      <td>0.403867</td>\n",
       "      <td>0.426718</td>\n",
       "      <td>0.496738</td>\n",
       "      <td>0.507904</td>\n",
       "    </tr>\n",
       "    <tr>\n",
       "      <th>Ask HN: An API to store/retrieve JSON?</th>\n",
       "      <td>0.451602</td>\n",
       "      <td>0.522902</td>\n",
       "      <td>0.606138</td>\n",
       "      <td>1.000000</td>\n",
       "      <td>0.511418</td>\n",
       "      <td>0.607335</td>\n",
       "      <td>0.528460</td>\n",
       "      <td>0.684134</td>\n",
       "      <td>0.658864</td>\n",
       "      <td>0.696315</td>\n",
       "      <td>0.578406</td>\n",
       "      <td>0.567401</td>\n",
       "      <td>0.627871</td>\n",
       "      <td>0.562766</td>\n",
       "      <td>0.620577</td>\n",
       "      <td>0.702439</td>\n",
       "      <td>0.696279</td>\n",
       "      <td>0.794534</td>\n",
       "      <td>0.688389</td>\n",
       "      <td>0.740288</td>\n",
       "      <td>0.549398</td>\n",
       "      <td>0.781701</td>\n",
       "      <td>0.496584</td>\n",
       "      <td>0.683934</td>\n",
       "      <td>0.695736</td>\n",
       "      <td>0.565589</td>\n",
       "      <td>0.636788</td>\n",
       "      <td>0.568891</td>\n",
       "      <td>0.715811</td>\n",
       "      <td>0.529957</td>\n",
       "      <td>0.599923</td>\n",
       "      <td>0.621079</td>\n",
       "      <td>0.547012</td>\n",
       "      <td>0.662085</td>\n",
       "      <td>0.633707</td>\n",
       "      <td>0.599244</td>\n",
       "      <td>0.541970</td>\n",
       "      <td>0.670757</td>\n",
       "      <td>0.431340</td>\n",
       "      <td>0.736919</td>\n",
       "      <td>...</td>\n",
       "      <td>0.603255</td>\n",
       "      <td>0.653914</td>\n",
       "      <td>0.465549</td>\n",
       "      <td>0.529783</td>\n",
       "      <td>0.464889</td>\n",
       "      <td>0.630276</td>\n",
       "      <td>0.581525</td>\n",
       "      <td>0.715482</td>\n",
       "      <td>0.511210</td>\n",
       "      <td>0.486078</td>\n",
       "      <td>0.609812</td>\n",
       "      <td>0.681345</td>\n",
       "      <td>0.569396</td>\n",
       "      <td>0.491774</td>\n",
       "      <td>0.654943</td>\n",
       "      <td>0.598316</td>\n",
       "      <td>0.687841</td>\n",
       "      <td>0.671645</td>\n",
       "      <td>0.698961</td>\n",
       "      <td>0.519570</td>\n",
       "      <td>0.256636</td>\n",
       "      <td>0.440908</td>\n",
       "      <td>0.553236</td>\n",
       "      <td>0.337614</td>\n",
       "      <td>0.480815</td>\n",
       "      <td>0.550865</td>\n",
       "      <td>0.301660</td>\n",
       "      <td>0.159331</td>\n",
       "      <td>0.676743</td>\n",
       "      <td>0.487496</td>\n",
       "      <td>0.489231</td>\n",
       "      <td>0.530458</td>\n",
       "      <td>0.668560</td>\n",
       "      <td>0.284652</td>\n",
       "      <td>0.572009</td>\n",
       "      <td>0.437961</td>\n",
       "      <td>0.470930</td>\n",
       "      <td>0.433921</td>\n",
       "      <td>0.594155</td>\n",
       "      <td>0.418939</td>\n",
       "    </tr>\n",
       "    <tr>\n",
       "      <th>Ask HN: Any great product onboarding experiences you've had lately?</th>\n",
       "      <td>0.369173</td>\n",
       "      <td>0.590693</td>\n",
       "      <td>0.555388</td>\n",
       "      <td>0.511418</td>\n",
       "      <td>1.000000</td>\n",
       "      <td>0.551488</td>\n",
       "      <td>0.631748</td>\n",
       "      <td>0.627224</td>\n",
       "      <td>0.669152</td>\n",
       "      <td>0.570622</td>\n",
       "      <td>0.527864</td>\n",
       "      <td>0.364980</td>\n",
       "      <td>0.420855</td>\n",
       "      <td>0.577993</td>\n",
       "      <td>0.584148</td>\n",
       "      <td>0.558232</td>\n",
       "      <td>0.517034</td>\n",
       "      <td>0.628147</td>\n",
       "      <td>0.545884</td>\n",
       "      <td>0.591643</td>\n",
       "      <td>0.459880</td>\n",
       "      <td>0.489590</td>\n",
       "      <td>0.504250</td>\n",
       "      <td>0.611240</td>\n",
       "      <td>0.619072</td>\n",
       "      <td>0.561110</td>\n",
       "      <td>0.493248</td>\n",
       "      <td>0.576431</td>\n",
       "      <td>0.513598</td>\n",
       "      <td>0.633889</td>\n",
       "      <td>0.590834</td>\n",
       "      <td>0.649579</td>\n",
       "      <td>0.481297</td>\n",
       "      <td>0.530498</td>\n",
       "      <td>0.515189</td>\n",
       "      <td>0.544366</td>\n",
       "      <td>0.471247</td>\n",
       "      <td>0.485941</td>\n",
       "      <td>0.523671</td>\n",
       "      <td>0.565243</td>\n",
       "      <td>...</td>\n",
       "      <td>0.600865</td>\n",
       "      <td>0.612959</td>\n",
       "      <td>0.725819</td>\n",
       "      <td>0.550481</td>\n",
       "      <td>0.681418</td>\n",
       "      <td>0.599690</td>\n",
       "      <td>0.571175</td>\n",
       "      <td>0.615869</td>\n",
       "      <td>0.466314</td>\n",
       "      <td>0.529271</td>\n",
       "      <td>0.622483</td>\n",
       "      <td>0.512969</td>\n",
       "      <td>0.669307</td>\n",
       "      <td>0.531515</td>\n",
       "      <td>0.665016</td>\n",
       "      <td>0.577692</td>\n",
       "      <td>0.455420</td>\n",
       "      <td>0.611454</td>\n",
       "      <td>0.544840</td>\n",
       "      <td>0.571858</td>\n",
       "      <td>0.409421</td>\n",
       "      <td>0.636122</td>\n",
       "      <td>0.446716</td>\n",
       "      <td>0.410181</td>\n",
       "      <td>0.379224</td>\n",
       "      <td>0.466999</td>\n",
       "      <td>0.474665</td>\n",
       "      <td>0.240225</td>\n",
       "      <td>0.512836</td>\n",
       "      <td>0.458811</td>\n",
       "      <td>0.494442</td>\n",
       "      <td>0.591340</td>\n",
       "      <td>0.419484</td>\n",
       "      <td>0.241034</td>\n",
       "      <td>0.592199</td>\n",
       "      <td>0.506061</td>\n",
       "      <td>0.429612</td>\n",
       "      <td>0.470458</td>\n",
       "      <td>0.510188</td>\n",
       "      <td>0.446629</td>\n",
       "    </tr>\n",
       "  </tbody>\n",
       "</table>\n",
       "<p>5 rows × 100 columns</p>\n",
       "</div>"
      ],
      "text/plain": [
       "story2                                              AWS IAM Down  ...  Will Silicon Valley remain the best hub of tech in the next 10 years?\n",
       "story1                                                            ...                                                                       \n",
       "AWS IAM Down                                            1.000000  ...                                           0.303238                    \n",
       "Are the new TLDs really black holes for SEO?            0.372631  ...                                           0.549266                    \n",
       "Ask HN: A story about a research adviser who au...      0.362052  ...                                           0.507904                    \n",
       "Ask HN: An API to store/retrieve JSON?                  0.451602  ...                                           0.418939                    \n",
       "Ask HN: Any great product onboarding experience...      0.369173  ...                                           0.446629                    \n",
       "\n",
       "[5 rows x 100 columns]"
      ]
     },
     "execution_count": 55,
     "metadata": {
      "tags": []
     },
     "output_type": "execute_result"
    }
   ],
   "source": [
    "similarity_matrix = pd.pivot(story_similarity, \n",
    "                             index='story1',\n",
    "                             columns='story2',\n",
    "                             values='similarity')\n",
    "\n",
    "similarity_matrix.head()"
   ]
  },
  {
   "cell_type": "markdown",
   "metadata": {
    "id": "joUwdWZFxJqa"
   },
   "source": [
    "---"
   ]
  },
  {
   "cell_type": "code",
   "execution_count": null,
   "metadata": {
    "id": "WyatBzMNyRe6"
   },
   "outputs": [],
   "source": [
    "# !pip install pyfpgrowth"
   ]
  },
  {
   "cell_type": "code",
   "execution_count": 59,
   "metadata": {
    "colab": {
     "base_uri": "https://localhost:8080/"
    },
    "executionInfo": {
     "elapsed": 2119,
     "status": "ok",
     "timestamp": 1616866906736,
     "user": {
      "displayName": "Sparsh Agarwal",
      "photoUrl": "",
      "userId": "13037694610922482904"
     },
     "user_tz": -330
    },
    "id": "aZ-KEeoEw4id",
    "outputId": "d9f46678-7a79-4afe-fe5e-1e97912a2b5d"
   },
   "outputs": [
    {
     "data": {
      "text/plain": [
       "100"
      ]
     },
     "execution_count": 59,
     "metadata": {
      "tags": []
     },
     "output_type": "execute_result"
    }
   ],
   "source": [
    "import pyfpgrowth\n",
    "import random\n",
    "\n",
    "user_stories = pd.read_csv(\"HackerNews_Story_UserComments.csv\")\n",
    "user_stories_sorted = user_stories.sort_values(\"user\")\n",
    "unique_users = pd.unique(user_stories_sorted.user)\n",
    "\n",
    "basket = []\n",
    "\n",
    "for user in unique_users[:100]:\n",
    "    user_data = user_stories_sorted[user_stories_sorted.user == user].copy()\n",
    "    user_stories = pd.unique(user_data.story)\n",
    "    user_stories = [data.tolist() for data in user_stories]\n",
    "    basket.append(user_stories)\n",
    "\n",
    "len(basket)"
   ]
  },
  {
   "cell_type": "code",
   "execution_count": 63,
   "metadata": {
    "colab": {
     "base_uri": "https://localhost:8080/"
    },
    "executionInfo": {
     "elapsed": 1389,
     "status": "ok",
     "timestamp": 1616867013195,
     "user": {
      "displayName": "Sparsh Agarwal",
      "photoUrl": "",
      "userId": "13037694610922482904"
     },
     "user_tz": -330
    },
    "id": "tolgI-eaxIpx",
    "outputId": "ddbc1730-1e58-4f1c-910a-f732744d9988"
   },
   "outputs": [
    {
     "data": {
      "text/plain": [
       "[(15066729, 1),\n",
       " (15601729, 1),\n",
       " (14087381, 1),\n",
       " (14446261, 1),\n",
       " (15228712, 1),\n",
       " (15254952, 1),\n",
       " (15956811, 1),\n",
       " (14997799, 1),\n",
       " (15234207, 2),\n",
       " (13301832, 2)]"
      ]
     },
     "execution_count": 63,
     "metadata": {
      "tags": []
     },
     "output_type": "execute_result"
    }
   ],
   "source": [
    "hn_fptree = pyfpgrowth.pyfpgrowth.FPTree(basket, 0.1, 0.1, 0.1)\n",
    "random.sample(hn_fptree.frequent.items(), 10)"
   ]
  },
  {
   "cell_type": "code",
   "execution_count": 79,
   "metadata": {
    "colab": {
     "base_uri": "https://localhost:8080/"
    },
    "executionInfo": {
     "elapsed": 1929,
     "status": "ok",
     "timestamp": 1616867245793,
     "user": {
      "displayName": "Sparsh Agarwal",
      "photoUrl": "",
      "userId": "13037694610922482904"
     },
     "user_tz": -330
    },
    "id": "P9q7wwpsx0Sq",
    "outputId": "0881ce21-0e99-44f2-8401-a46afd7e43a0"
   },
   "outputs": [
    {
     "name": "stdout",
     "output_type": "stream",
     "text": [
      "20\n"
     ]
    },
    {
     "data": {
      "text/plain": [
       "[((14023198,), 2),\n",
       " ((13301832,), 2),\n",
       " ((15037960,), 3),\n",
       " ((15937448,), 2),\n",
       " ((13601451,), 2),\n",
       " ((13338592,), 2),\n",
       " ((15089476,), 2),\n",
       " ((15316175,), 3),\n",
       " ((14039135,), 2),\n",
       " ((14108797,), 2)]"
      ]
     },
     "execution_count": 79,
     "metadata": {
      "tags": []
     },
     "output_type": "execute_result"
    }
   ],
   "source": [
    "patterns = pyfpgrowth.find_frequent_patterns(basket, 2)\n",
    "print(len(patterns))\n",
    "random.sample(patterns.items(), 10)"
   ]
  },
  {
   "cell_type": "code",
   "execution_count": 80,
   "metadata": {
    "colab": {
     "base_uri": "https://localhost:8080/"
    },
    "executionInfo": {
     "elapsed": 1650,
     "status": "ok",
     "timestamp": 1616867245794,
     "user": {
      "displayName": "Sparsh Agarwal",
      "photoUrl": "",
      "userId": "13037694610922482904"
     },
     "user_tz": -330
    },
    "id": "HMgE96OsybZw",
    "outputId": "ed4c314f-0cd1-4b7d-baf7-6bbe4eeba65c"
   },
   "outputs": [
    {
     "data": {
      "text/plain": [
       "{}"
      ]
     },
     "execution_count": 80,
     "metadata": {
      "tags": []
     },
     "output_type": "execute_result"
    }
   ],
   "source": [
    "rules = pyfpgrowth.generate_association_rules(patterns, 0.7)\n",
    "rules"
   ]
  },
  {
   "cell_type": "markdown",
   "metadata": {
    "id": "2JAPUDWnzFYk"
   },
   "source": [
    "---"
   ]
  },
  {
   "cell_type": "code",
   "execution_count": 86,
   "metadata": {
    "colab": {
     "base_uri": "https://localhost:8080/"
    },
    "executionInfo": {
     "elapsed": 83338,
     "status": "ok",
     "timestamp": 1616867843932,
     "user": {
      "displayName": "Sparsh Agarwal",
      "photoUrl": "",
      "userId": "13037694610922482904"
     },
     "user_tz": -330
    },
    "id": "IDWr5fhw1BKk",
    "outputId": "9df87ff8-f981-405d-f3d2-c227e5957e9a"
   },
   "outputs": [
    {
     "name": "stdout",
     "output_type": "stream",
     "text": [
      "Collecting implicit\n",
      "\u001b[?25l  Downloading https://files.pythonhosted.org/packages/bc/07/c0121884722d16e2c5beeb815f6b84b41cbf22e738e4075f1475be2791bc/implicit-0.4.4.tar.gz (1.1MB)\n",
      "\u001b[K     |████████████████████████████████| 1.1MB 8.3MB/s \n",
      "\u001b[?25hRequirement already satisfied: numpy in /usr/local/lib/python3.7/dist-packages (from implicit) (1.19.5)\n",
      "Requirement already satisfied: scipy>=0.16 in /usr/local/lib/python3.7/dist-packages (from implicit) (1.4.1)\n",
      "Requirement already satisfied: tqdm>=4.27 in /usr/local/lib/python3.7/dist-packages (from implicit) (4.41.1)\n",
      "Building wheels for collected packages: implicit\n",
      "  Building wheel for implicit (setup.py) ... \u001b[?25l\u001b[?25hdone\n",
      "  Created wheel for implicit: filename=implicit-0.4.4-cp37-cp37m-linux_x86_64.whl size=3406364 sha256=d8394d0c1f80f33c3468d286f8b2e874e082f1f58455befd69adc4a05dbdfc4b\n",
      "  Stored in directory: /root/.cache/pip/wheels/bf/d4/ec/fd4f622fcbefb7521f149905295b2c26adecb23af38aa28217\n",
      "Successfully built implicit\n",
      "Installing collected packages: implicit\n",
      "Successfully installed implicit-0.4.4\n"
     ]
    }
   ],
   "source": [
    "! pip install implicit"
   ]
  },
  {
   "cell_type": "code",
   "execution_count": 87,
   "metadata": {
    "executionInfo": {
     "elapsed": 1794,
     "status": "ok",
     "timestamp": 1616867845755,
     "user": {
      "displayName": "Sparsh Agarwal",
      "photoUrl": "",
      "userId": "13037694610922482904"
     },
     "user_tz": -330
    },
    "id": "3MSu9VMbyh-6"
   },
   "outputs": [],
   "source": [
    "import numpy as np\n",
    "import pandas as pd\n",
    "import scipy.sparse as sparse\n",
    "import implicit\n",
    "\n",
    "import matplotlib.pyplot as plt\n",
    "%matplotlib inline\n",
    "\n",
    "plt.style.use('ggplot')\n",
    "np.set_printoptions(precision=2)"
   ]
  },
  {
   "cell_type": "code",
   "execution_count": 82,
   "metadata": {
    "executionInfo": {
     "elapsed": 1592,
     "status": "ok",
     "timestamp": 1616867713151,
     "user": {
      "displayName": "Sparsh Agarwal",
      "photoUrl": "",
      "userId": "13037694610922482904"
     },
     "user_tz": -330
    },
    "id": "Duv1HfFa005C"
   },
   "outputs": [],
   "source": [
    "\"\"\"\n",
    "@INPUT:\n",
    "    R     : a matrix to be factorized, dimension N x M\n",
    "    P     : an initial matrix of dimension N x K\n",
    "    Q     : an initial matrix of dimension M x K\n",
    "    K     : the number of latent features\n",
    "    steps : the maximum number of steps to perform the optimisation\n",
    "    alpha : the learning rate\n",
    "    beta  : the regularization parameter\n",
    "@OUTPUT:\n",
    "    the final matrices P and Q\n",
    "\"\"\"\n",
    "\n",
    "def als_matrix_factorization(R, K=2, steps=5000, alpha=0.0002, beta=0.02):\n",
    "    N = len(R)\n",
    "    M = len(R[0])\n",
    "    P = np.random.rand(N,K)\n",
    "    Q = np.random.rand(M,K)\n",
    "    Q = Q.T\n",
    "    \n",
    "    for step in range(steps):\n",
    "        for i in range(len(R)):\n",
    "            for j in range(len(R[i])):\n",
    "                if R[i][j] > 0:\n",
    "                    eij = R[i][j] - np.dot(P[i,:],Q[:,j])\n",
    "                    for k in range(K):\n",
    "                        P[i][k] = P[i][k] + alpha * (2 * eij * Q[k][j] - beta * P[i][k])\n",
    "                        Q[k][j] = Q[k][j] + alpha * (2 * eij * P[i][k] - beta * Q[k][j])\n",
    "        eR = np.dot(P,Q)\n",
    "        e = 0\n",
    "        for i in range(len(R)):\n",
    "            for j in range(len(R[i])):\n",
    "                if R[i][j] > 0:\n",
    "                    e = e + pow(R[i][j] - np.dot(P[i,:],Q[:,j]), 2)\n",
    "                    for k in range(K):\n",
    "                        e = e + (beta/2) * ( pow(P[i][k],2) + pow(Q[k][j],2) )\n",
    "        if e < 0.001:\n",
    "            break\n",
    "    return P, Q.T"
   ]
  },
  {
   "cell_type": "code",
   "execution_count": 83,
   "metadata": {
    "colab": {
     "base_uri": "https://localhost:8080/"
    },
    "executionInfo": {
     "elapsed": 2217,
     "status": "ok",
     "timestamp": 1616867745883,
     "user": {
      "displayName": "Sparsh Agarwal",
      "photoUrl": "",
      "userId": "13037694610922482904"
     },
     "user_tz": -330
    },
    "id": "FneAU26E01nA",
    "outputId": "bbbd8b94-52a8-4a6f-f743-e5b49bcee3f4"
   },
   "outputs": [
    {
     "data": {
      "text/plain": [
       "array([[1.02, 0.97, 0.99, 1.12, 1.01],\n",
       "       [1.01, 0.98, 0.99, 1.1 , 0.98],\n",
       "       [0.93, 0.71, 0.77, 1.03, 1.01],\n",
       "       [0.95, 0.99, 0.97, 1.03, 0.89]])"
      ]
     },
     "execution_count": 83,
     "metadata": {
      "tags": []
     },
     "output_type": "execute_result"
    }
   ],
   "source": [
    "R = np.array([[1, 0, 1, 0, 0], \n",
    "              [0, 1, 0, 0, 1], \n",
    "              [1, 0, 0, 1, 0], \n",
    "              [0, 0, 1, 0, 0]])\n",
    "\n",
    "# Run ALS\n",
    "nP, nQ = als_matrix_factorization(R, K=2)\n",
    "\n",
    "nP.dot(nQ.T)"
   ]
  },
  {
   "cell_type": "code",
   "execution_count": 84,
   "metadata": {
    "colab": {
     "base_uri": "https://localhost:8080/"
    },
    "executionInfo": {
     "elapsed": 2067,
     "status": "ok",
     "timestamp": 1616867751344,
     "user": {
      "displayName": "Sparsh Agarwal",
      "photoUrl": "",
      "userId": "13037694610922482904"
     },
     "user_tz": -330
    },
    "id": "k3Ka2Nsh09cR",
    "outputId": "30b4c135-c051-4295-84e9-206121c5a87d"
   },
   "outputs": [
    {
     "data": {
      "text/plain": [
       "array([[0.72, 0.66],\n",
       "       [0.98, 0.29],\n",
       "       [0.9 , 0.4 ],\n",
       "       [0.77, 0.75],\n",
       "       [0.56, 0.83]])"
      ]
     },
     "execution_count": 84,
     "metadata": {
      "tags": []
     },
     "output_type": "execute_result"
    }
   ],
   "source": [
    "nQ"
   ]
  },
  {
   "cell_type": "code",
   "execution_count": 85,
   "metadata": {
    "colab": {
     "base_uri": "https://localhost:8080/"
    },
    "executionInfo": {
     "elapsed": 2024,
     "status": "ok",
     "timestamp": 1616867752030,
     "user": {
      "displayName": "Sparsh Agarwal",
      "photoUrl": "",
      "userId": "13037694610922482904"
     },
     "user_tz": -330
    },
    "id": "VW_Qkd4V0-z8",
    "outputId": "353e4cc9-4f84-480d-9a87-639b5e92cfb8"
   },
   "outputs": [
    {
     "data": {
      "text/plain": [
       "array([[0.8 , 0.68],\n",
       "       [0.82, 0.62],\n",
       "       [0.45, 0.92],\n",
       "       [0.86, 0.49]])"
      ]
     },
     "execution_count": 85,
     "metadata": {
      "tags": []
     },
     "output_type": "execute_result"
    }
   ],
   "source": [
    "nP"
   ]
  },
  {
   "cell_type": "code",
   "execution_count": 91,
   "metadata": {
    "executionInfo": {
     "elapsed": 1536,
     "status": "ok",
     "timestamp": 1616867909378,
     "user": {
      "displayName": "Sparsh Agarwal",
      "photoUrl": "",
      "userId": "13037694610922482904"
     },
     "user_tz": -330
    },
    "id": "dTTkaZTD1hz5"
   },
   "outputs": [],
   "source": [
    "def Sparse_Matrix(df):\n",
    "    \n",
    "    # Create mappings\n",
    "    user_to_index = {}\n",
    "    index_to_user = {}\n",
    "    \n",
    "    for (index, user) in enumerate(df.user.unique().tolist()):\n",
    "        user_to_index[user] = index\n",
    "        index_to_user[index] = user\n",
    "\n",
    "    story_to_index = {}\n",
    "    index_to_story = {}\n",
    "    \n",
    "    for (index, story) in enumerate(df.story.unique().tolist()):\n",
    "        story_to_index[story] = index\n",
    "        index_to_story[index] = story\n",
    "        \n",
    "    # Create a map id function\n",
    "    def map_ids(row, mapper):\n",
    "        return mapper[row]\n",
    "    \n",
    "    # Apply the map id function \n",
    "    I = df.user.apply(map_ids, args=[user_to_index]).to_numpy()\n",
    "    J = df.story.apply(map_ids, args=[story_to_index]).to_numpy()\n",
    "    V = np.ones(I.shape[0])\n",
    "    \n",
    "    # Create the Matrix    \n",
    "    return I, J, V"
   ]
  },
  {
   "cell_type": "code",
   "execution_count": 92,
   "metadata": {
    "colab": {
     "base_uri": "https://localhost:8080/"
    },
    "executionInfo": {
     "elapsed": 898,
     "status": "ok",
     "timestamp": 1616867909380,
     "user": {
      "displayName": "Sparsh Agarwal",
      "photoUrl": "",
      "userId": "13037694610922482904"
     },
     "user_tz": -330
    },
    "id": "u6JC-_AS0-_H",
    "outputId": "eb3d9523-5ebd-4e45-d15e-4cf1bddfb5d5"
   },
   "outputs": [
    {
     "data": {
      "text/plain": [
       "<23804x1008 sparse matrix of type '<class 'numpy.float64'>'\n",
       "\twith 53041 stored elements in Compressed Sparse Row format>"
      ]
     },
     "execution_count": 92,
     "metadata": {
      "tags": []
     },
     "output_type": "execute_result"
    }
   ],
   "source": [
    "user_stories = pd.read_csv(\"HackerNews_Story_UserComments.csv\")\n",
    "I, J, V = Sparse_Matrix(user_stories)\n",
    "story_user_matrix = sparse.coo_matrix((V, (I, J)), dtype=np.float64)\n",
    "story_user_matrix = story_user_matrix.tocsr()\n",
    "story_user_matrix"
   ]
  },
  {
   "cell_type": "code",
   "execution_count": null,
   "metadata": {
    "id": "1xOUrV1k1cga"
   },
   "outputs": [],
   "source": [
    "model = implicit.als.AlternatingLeastSquares(factors=32)\n",
    "model.fit(story_user_matrix)\n",
    "user_items = story_user_matrix.T.tocsr()"
   ]
  },
  {
   "cell_type": "code",
   "execution_count": null,
   "metadata": {
    "id": "GmXI0LGl10tt"
   },
   "outputs": [],
   "source": [
    "recommendations = model.recommend(I[2000], user_items) #200th user\n",
    "recommendations"
   ]
  },
  {
   "cell_type": "code",
   "execution_count": null,
   "metadata": {
    "id": "LVyM85cJ1zfX"
   },
   "outputs": [],
   "source": [
    "related = model.similar_items(J[200])\n",
    "related"
   ]
  },
  {
   "cell_type": "markdown",
   "metadata": {
    "id": "rloufKHR1_FX"
   },
   "source": [
    "---"
   ]
  }
 ],
 "metadata": {
  "colab": {
   "authorship_tag": "ABX9TyOPXUybvQs+F2RRfKODZT23",
   "collapsed_sections": [],
   "mount_file_id": "1oHkEAM5I8-tA4KkBox_uB1RW_j19278j",
   "name": "RecSys_HackerNews.ipynb",
   "provenance": []
  },
  "kernelspec": {
   "display_name": "Python 3",
   "language": "python",
   "name": "python3"
  },
  "language_info": {
   "codemirror_mode": {
    "name": "ipython",
    "version": 3
   },
   "file_extension": ".py",
   "mimetype": "text/x-python",
   "name": "python",
   "nbconvert_exporter": "python",
   "pygments_lexer": "ipython3",
   "version": "3.7.3"
  }
 },
 "nbformat": 4,
 "nbformat_minor": 4
}
