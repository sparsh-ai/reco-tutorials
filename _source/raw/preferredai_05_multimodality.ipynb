{
  "nbformat": 4,
  "nbformat_minor": 0,
  "metadata": {
    "colab": {
      "name": "05_multimodality.ipynb",
      "provenance": [],
      "collapsed_sections": []
    },
    "kernelspec": {
      "name": "python3",
      "display_name": "Python 3"
    },
    "accelerator": "GPU"
  },
  "cells": [
    {
      "cell_type": "markdown",
      "metadata": {
        "id": "xLXWx4uhqtYJ",
        "colab_type": "text"
      },
      "source": [
        "<table class=\"tfo-notebook-buttons\" align=\"left\">\n",
        "  <td>\n",
        "    <a target=\"_blank\" href=\"https://colab.research.google.com/github/PreferredAI/tutorials/blob/master/recommender-systems/05_multimodality.ipynb\"><img src=\"https://www.tensorflow.org/images/colab_logo_32px.png\" />Run in Google Colab</a>\n",
        "  </td>\n",
        "  <td>\n",
        "    <a target=\"_blank\" href=\"https://github.com/PreferredAI/tutorials/blob/master/recommender-systems/05_multimodality.ipynb\"><img src=\"https://www.tensorflow.org/images/GitHub-Mark-32px.png\" />View source on GitHub</a>\n",
        "  </td>\n",
        "</table>"
      ]
    },
    {
      "cell_type": "markdown",
      "metadata": {
        "id": "wzPrmZOMtXt1",
        "colab_type": "text"
      },
      "source": [
        "# Multimodality"
      ]
    },
    {
      "cell_type": "markdown",
      "metadata": {
        "id": "Bh3gYub8f6qZ",
        "colab_type": "text"
      },
      "source": [
        "While preference data in the form of user-item interactions are the backbone of many recommender systems, such data tends to be sparse in nature. One way to address this sparsity is to look beyond the interaction data to the additional information associated with users or with items. The intuition is that items with similarity in \"content profiles\" would be correlated with similarity in preferences. Multimodality deals with how to model both preference data (one modality) and some content data either on user or item side (other modalities). In this tutorial, we see three forms of additional modalities, namely graph, text, and image, and investigate whether they add value to the the resulting recommendations."
      ]
    },
    {
      "cell_type": "markdown",
      "metadata": {
        "id": "MqktDa7H2hKz",
        "colab_type": "text"
      },
      "source": [
        "## 1. Setup"
      ]
    },
    {
      "cell_type": "code",
      "metadata": {
        "id": "41oWCMUG2eC_",
        "colab_type": "code",
        "colab": {}
      },
      "source": [
        "!pip install --quiet cornac==1.6.1"
      ],
      "execution_count": 0,
      "outputs": []
    },
    {
      "cell_type": "code",
      "metadata": {
        "id": "YqKrDcGH2k7E",
        "colab_type": "code",
        "outputId": "0cd4c1d6-a6f1-4da9-86f9-b4a818be12c2",
        "colab": {
          "base_uri": "https://localhost:8080/",
          "height": 85
        }
      },
      "source": [
        "import os\n",
        "import sys\n",
        "from collections import defaultdict\n",
        "\n",
        "import numpy as np\n",
        "import pandas as pd; pd.set_option(\"max_colwidth\", 0);\n",
        "%matplotlib inline\n",
        "import matplotlib.pyplot as plt\n",
        "import seaborn as sns\n",
        "\n",
        "import cornac\n",
        "from cornac.utils import cache\n",
        "from cornac.datasets import filmtrust, amazon_clothing\n",
        "from cornac.eval_methods import RatioSplit\n",
        "from cornac.models import PMF, SoRec, WMF, CTR, BPR, VBPR\n",
        "from cornac.data import GraphModality, TextModality, ImageModality\n",
        "from cornac.data.text import BaseTokenizer\n",
        "\n",
        "%tensorflow_version 1.x\n",
        "import tensorflow as tf\n",
        "\n",
        "print(f\"System version: {sys.version}\")\n",
        "print(f\"Cornac version: {cornac.__version__}\")\n",
        "print(f\"Tensorflow version: {tf.__version__}\")\n",
        "\n",
        "SEED = 42\n",
        "VERBOSE = True"
      ],
      "execution_count": 15,
      "outputs": [
        {
          "output_type": "stream",
          "text": [
            "System version: 3.6.9 (default, Apr 18 2020, 01:56:04) \n",
            "[GCC 8.4.0]\n",
            "Cornac version: 1.6.1\n",
            "Tensorflow version: 1.15.2\n"
          ],
          "name": "stdout"
        }
      ]
    },
    {
      "cell_type": "markdown",
      "metadata": {
        "id": "r76coF3ZyWxb",
        "colab_type": "text"
      },
      "source": [
        "## 2. Graph Modality\n",
        "\n",
        "In recommender systems, graph can be used to represent user social network or item contexts (e.g., co-views, co-purchases).  In this tutorial, we take the former as an example and discuss SoRec [2], a representative model for this class of algorithms. \n"
      ]
    },
    {
      "cell_type": "markdown",
      "metadata": {
        "id": "0GePqE99j5nr",
        "colab_type": "text"
      },
      "source": [
        "### Social Recommendation (SoRec)\n",
        "\n",
        "SoRec model is based on matrix factorization framework. The idea is fusing user-item rating matrix with the user’s social network.  In summary, the *user-item rating matrix* ($R$) and the *user-user graph adjacency matrix* ($G$) are factorized with shared users' latent factors.  The user latent vectors in $\\mathbf{U}$ are shared to capture both user preferences as well as their social connections.  The rating prediction is obtained as $\\hat{r}_{i,j} = \\mathbf{u}_i^T \\mathbf{v}_j$, similarly to PMF model.\n",
        "\n",
        "To learn the model parameters, we minimize the following loss function:\n",
        "\n",
        "$$ \\mathcal{L}(\\mathbf{U,V,Z}|\\lambda,\\lambda_C) = \\frac{1}{2} \\sum_{r_{i,j} \\in \\mathcal{R}} (r_{i,j} - \\mathbf{u}_i^T \\mathbf{v}_j)^2 + \\frac{\\lambda_C}{2} \\sum_{g_{i,h} \\in \\mathcal{G}} (g_{i,h} - \\mathbf{u}_i^T \\mathbf{z}_h)^2 + \\frac{\\lambda}{2} \\sum_{i=1}^{N} ||\\mathbf{u}_i||^2 + \\frac{\\lambda}{2} \\sum_{j=1}^{M} ||\\mathbf{v}_j||^2 + \\frac{\\lambda}{2} \\sum_{h=1}^{N} ||\\mathbf{z}_h||^2 $$\n",
        "\n",
        "where $\\lambda_C$ is the relative importance of the social network factorization and $\\lambda$ is the regularization weight. \n",
        "\n",
        "Let's do a comparison between SoRec and its base model PMF on [FilmTrust dataset](http://konect.cc/networks/librec-filmtrust-trust/)."
      ]
    },
    {
      "cell_type": "code",
      "metadata": {
        "id": "p2iyzuFFs1Fq",
        "colab_type": "code",
        "outputId": "887f8e96-c6b0-4637-c75c-5a9e2714cd9c",
        "colab": {
          "base_uri": "https://localhost:8080/",
          "height": 187
        }
      },
      "source": [
        "K = 20\n",
        "sorec = SoRec(k=K, max_iter=50, learning_rate=0.001, verbose=VERBOSE, seed=SEED)\n",
        "pmf = PMF(k=K, max_iter=50, learning_rate=0.001, lambda_reg=0.01, verbose=VERBOSE, seed=SEED)\n",
        "\n",
        "ratings = filmtrust.load_feedback()\n",
        "trust = filmtrust.load_trust()\n",
        "\n",
        "user_graph_modality = GraphModality(data=trust)\n",
        "\n",
        "ratio_split = RatioSplit(\n",
        "    data=ratings,\n",
        "    test_size=0.2,\n",
        "    rating_threshold=2.5,\n",
        "    exclude_unknowns=True,\n",
        "    user_graph=user_graph_modality,\n",
        "    verbose=VERBOSE,\n",
        "    seed=SEED,\n",
        ")\n",
        "\n",
        "mae = cornac.metrics.MAE()\n",
        "\n",
        "cornac.Experiment(eval_method=ratio_split, models=[sorec, pmf], metrics=[mae]).run()"
      ],
      "execution_count": 3,
      "outputs": [
        {
          "output_type": "stream",
          "text": [
            "/usr/local/lib/python3.6/dist-packages/cornac/data/dataset.py:361: UserWarning: 3 duplicated observations are removed!\n",
            "  warnings.warn(\"%d duplicated observations are removed!\" % dup_count)\n"
          ],
          "name": "stderr"
        },
        {
          "output_type": "stream",
          "text": [
            "\n",
            "TEST:\n",
            "...\n",
            "      |    MAE | Train (s) | Test (s)\n",
            "----- + ------ + --------- + --------\n",
            "SoRec | 0.6644 |    0.8935 |   0.3607\n",
            "PMF   | 0.7018 |    0.7642 |   0.3115\n",
            "\n"
          ],
          "name": "stdout"
        }
      ]
    },
    {
      "cell_type": "markdown",
      "metadata": {
        "id": "2oQ7J1_r2CGT",
        "colab_type": "text"
      },
      "source": [
        "From the experiment, we see that SoRec achieves lower (better) MAE score as compared to PMF.  This improvement should be explained by useful information from user social network captured inside the model predictions.  Let's take a look at user factors and see if there are connections to the social network.  "
      ]
    },
    {
      "cell_type": "markdown",
      "metadata": {
        "id": "QUFnKYm-uWLh",
        "colab_type": "text"
      },
      "source": [
        "### Interpreting Recommendation\n",
        "\n",
        "Below is the variance of each user latent dimension."
      ]
    },
    {
      "cell_type": "code",
      "metadata": {
        "id": "01086B3oza3N",
        "colab_type": "code",
        "outputId": "8d94f423-749c-4610-d06d-c99595d45124",
        "colab": {
          "base_uri": "https://localhost:8080/",
          "height": 334
        }
      },
      "source": [
        "var_df = pd.DataFrame({\"Factor\": np.arange(K), \"Variance\": np.var(sorec.U, axis=0)})\n",
        "fig, ax = plt.subplots(figsize=(13, 5))\n",
        "sns.barplot(x=\"Factor\", y=\"Variance\", data=var_df, palette=\"ch:.25\", ax=ax);"
      ],
      "execution_count": 4,
      "outputs": [
        {
          "output_type": "display_data",
          "data": {
            "image/png": "[encoded data removed]",
            "text/plain": [
              "<Figure size 936x360 with 1 Axes>"
            ]
          },
          "metadata": {
            "tags": [],
            "needs_background": "light"
          }
        }
      ]
    },
    {
      "cell_type": "markdown",
      "metadata": {
        "id": "aizVEPmHuh8n",
        "colab_type": "text"
      },
      "source": [
        "Let's select two dimensions and see how users are distributed in that 2D space.  In addition, we can visualize connections between two users if they are linked in the social network."
      ]
    },
    {
      "cell_type": "code",
      "metadata": {
        "id": "ndiIw1WJ8Ghv",
        "colab_type": "code",
        "outputId": "a45e31b0-0ef6-4782-bac1-026f2b0fb44b",
        "colab": {
          "base_uri": "https://localhost:8080/",
          "height": 819
        }
      },
      "source": [
        "TOP2F = (9, 19)\n",
        "SAMPLE_SIZE = 200\n",
        "\n",
        "rng = np.random.RandomState(SEED)\n",
        "sample_inds = rng.choice(np.arange(sorec.U.shape[0]), size=SAMPLE_SIZE, replace=False)\n",
        "sample_df = pd.DataFrame(data=sorec.U[sample_inds][:, TOP2F], columns=[\"x\", \"y\"])\n",
        "g = sns.lmplot(x=\"x\", y=\"y\", data=sample_df, height=11.0, fit_reg=False)\n",
        "g.ax.set_title(\"Users in latent space with their social connections\", fontsize=16)\n",
        "\n",
        "adj_mat = sorec.train_set.user_graph.matrix\n",
        "for i in range(len(sample_inds)):\n",
        "  for j in range(len(sample_inds)):\n",
        "    if j != i and adj_mat[sample_inds[i], sample_inds[j]]:\n",
        "      sns.lineplot(x=\"x\", y=\"y\", data=sample_df.loc[[i, j]])"
      ],
      "execution_count": 5,
      "outputs": [
        {
          "output_type": "display_data",
          "data": {
            "image/png": "[encoded data removed]",
            "text/plain": [
              "<Figure size 792x792 with 1 Axes>"
            ]
          },
          "metadata": {
            "tags": [],
            "needs_background": "light"
          }
        }
      ]
    },
    {
      "cell_type": "markdown",
      "metadata": {
        "id": "lNWQ6mDFu3uv",
        "colab_type": "text"
      },
      "source": [
        "There are indeed some locality of user connections shown in the figure above. That suggests social network information is captured in the user latent factors and has some influence on the recommendations by the SoRec model. "
      ]
    },
    {
      "cell_type": "markdown",
      "metadata": {
        "id": "-8iXcfuKsVa8",
        "colab_type": "text"
      },
      "source": [
        "## 3. Text Modality\n",
        "\n",
        "Often times, we are interested in building a recommender system for textual items (e.g., news, scientific papers), or items associated with text (e.g., titles, descriptions, reviews).  Text is informative and descriptive, therefore, exploiting textual information for better recommendations is an important topic in recommender systems.  In this tutorial, we introduce CTR [3], a recommendation model that combines matrix factorization and probablistic topic modeling. \n",
        "\n"
      ]
    },
    {
      "cell_type": "markdown",
      "metadata": {
        "id": "742yJ53Fj1Zz",
        "colab_type": "text"
      },
      "source": [
        "### Collaborative Topic Regression (CTR)\n",
        "\n",
        "Under factorization framework, adoption prediction is in the form of $\\hat{r}_{i,j} = \\mathbf{u}_i^T \\mathbf{v}_j $.  The intuition in CTR model is that two items with similar topics would behave similarly. Thus, item latent factors $\\mathbf{v_j}$ is assumed to be drawn from a Normal distribution:\n",
        "\n",
        "$$\n",
        "\\mathbf{v}_j \\sim \\mathcal{N}(\\mathbf{\\theta}_j, \\lambda^{-1} \\mathbf{I})\n",
        "$$\n",
        "\n",
        "where the mean $\\mathbf{\\theta}_j$ is a vector indicating topic proportions of the item $j$. It is equivalent to:\n",
        "\n",
        "\\begin{align}\n",
        "\\mathbf{v}_j &= \\mathbf{\\theta}_j + \\mathbf{\\epsilon}_j \\\\\n",
        "\\mathbf{\\epsilon}_j &\\sim \\mathcal{N}(\\mathbf{0}, \\lambda^{-1} \\mathbf{I})\n",
        "\\end{align}\n",
        "\n",
        "Please refer to paper [3] for the generative process of CTR model.\n",
        "\n",
        "\n",
        "CTR also extends matrix factorization, in which the base model is WMF under implicit feedback setting. The adoption $p_{i,j}$ and confidence $c_{i,j}$ are defined as follows: \n",
        "\n",
        "\\begin{equation}\n",
        "p_{i,j} = \n",
        "\\begin{cases} \n",
        "r_{i, j} &\\mbox{if } r_{i,j} > 0 \\\\\n",
        "0 & \\mbox{otherwise} \n",
        "\\end{cases}\n",
        "\\end{equation}\n",
        "\n",
        "\n",
        "\\begin{equation}\n",
        "c_{i,j} = \n",
        "\\begin{cases} \n",
        "a & \\mbox{if } r_{i,j} > 0 \\\\\n",
        "b & \\mbox{otherwise }\n",
        "\\end{cases}\n",
        "\\end{equation}\n",
        "\n",
        "The learning of CTR model is done via minimizing the following negative log-likelihood:\n",
        "\n",
        "$$ \\mathcal{L}(\\mathbf{U,V,\\theta, \\beta}|\\lambda) = \\frac{1}{2} \\sum_{i,j} c_{i,j} (p_{i,j} - \\mathbf{u}_i^T \\mathbf{v}_j)^2 - \\sum_{j}\\sum_{n} \\log \\big( \\sum_{k=1}^K \\mathbf{\\theta}_{j,k} \\mathbf{\\beta}_{k,w_{jn}} \\big) + \\frac{\\lambda}{2} \\sum_{i=1}^{N} ||\\mathbf{u}_i||^2 + \\frac{\\lambda}{2} \\sum_{j=1}^{M} (\\mathbf{v}_j - \\mathbf{\\theta}_j)^T (\\mathbf{v}_j - \\mathbf{\\theta}_j) $$\n",
        "\n",
        "It is an iterative procedure of alternating between three steps:\n",
        "- Optimize for user and item latent vectors, $\\mathbf{u}_i$ and $\\mathbf{v}_j$, based on the current topic proportions $\\mathbf{\\theta}_j$.  \n",
        "- Optimize for topic proportions $\\mathbf{\\theta}_j$ based on the current vectors $\\mathbf{u}_i$ and $\\mathbf{v}_j$ and topic words $\\mathbf{\\beta}_k$.\n",
        "- Optimize for topic words $\\mathbf{\\beta}_k$ based on the current topic proportions $\\mathbf{\\theta}_i$.\n",
        "\n",
        "Let's experiment with two models CTR and WMF on a dataset from Amazon Clothing category.  Using this dataset, CTR will learn topics from item description.  "
      ]
    },
    {
      "cell_type": "code",
      "metadata": {
        "id": "NZ2Al6omrlEP",
        "colab_type": "code",
        "outputId": "bce770f2-c103-44a2-bedd-7f7dce9ea76c",
        "colab": {
          "base_uri": "https://localhost:8080/",
          "height": 153
        }
      },
      "source": [
        "K = 20\n",
        "ctr = CTR(k=K, max_iter=50, a=1.0, b=0.01, lambda_u=0.01, lambda_v=0.01, verbose=VERBOSE, seed=SEED)\n",
        "wmf = WMF(k=K, max_iter=50, a=1.0, b=0.01, learning_rate=0.005, lambda_u=0.01, lambda_v=0.01, \n",
        "          verbose=VERBOSE, seed=SEED)\n",
        "\n",
        "ratings = amazon_clothing.load_feedback()\n",
        "docs, item_ids = amazon_clothing.load_text()\n",
        "\n",
        "item_text_modality = TextModality(\n",
        "    corpus=docs,\n",
        "    ids=item_ids,\n",
        "    tokenizer=BaseTokenizer(sep=\" \", stop_words=\"english\"),\n",
        "    max_vocab=8000,\n",
        "    max_doc_freq=0.5,\n",
        ")\n",
        "\n",
        "ratio_split = RatioSplit(\n",
        "    data=ratings,\n",
        "    test_size=0.2,\n",
        "    rating_threshold=4.0,\n",
        "    exclude_unknowns=True,\n",
        "    item_text=item_text_modality,\n",
        "    verbose=VERBOSE,\n",
        "    seed=SEED,\n",
        ")\n",
        "\n",
        "rec_50 = cornac.metrics.Recall(50)\n",
        "\n",
        "cornac.Experiment(eval_method=ratio_split, models=[ctr, wmf], metrics=[rec_50]).run()"
      ],
      "execution_count": 6,
      "outputs": [
        {
          "output_type": "stream",
          "text": [
            "\n",
            "TEST:\n",
            "...\n",
            "    | Recall@50 | Train (s) | Test (s)\n",
            "--- + --------- + --------- + --------\n",
            "CTR |    0.2239 |  123.8224 |   1.3055\n",
            "WMF |    0.1582 |   12.3231 |   1.3365\n",
            "\n"
          ],
          "name": "stdout"
        }
      ]
    },
    {
      "cell_type": "markdown",
      "metadata": {
        "id": "uofgWV3oFLRq",
        "colab_type": "text"
      },
      "source": [
        "The results show that CTR model performs significantly better than WMF model in terms of Recall@50, which is due to the contribution of items' textual information."
      ]
    },
    {
      "cell_type": "markdown",
      "metadata": {
        "id": "r-8mCmABFe8e",
        "colab_type": "text"
      },
      "source": [
        "### Interpreting Recommendation\n",
        "\n",
        "As CTR is based on topic model, it has intuitive explainability both in terms of model parameters as well as its recommendations. First, we can see what the top words of each topic are, based on learned topic-word distributions $\\mathbf{\\beta}$:"
      ]
    },
    {
      "cell_type": "code",
      "metadata": {
        "id": "fOY0pdwcC-VD",
        "colab_type": "code",
        "outputId": "ace3f355-e084-48e1-fc2b-034a08e67131",
        "colab": {
          "base_uri": "https://localhost:8080/",
          "height": 686
        }
      },
      "source": [
        "vocab = ctr.train_set.item_text.vocab\n",
        "topic_word_dist = ctr.model.beta.T[:, -ctr.train_set.item_text.max_vocab:] \n",
        "top_word_inds = np.argsort(topic_word_dist, axis=1) + 4  # ingore 4 special tokens\n",
        "\n",
        "topic_words = {}\n",
        "topic_df = defaultdict(list)\n",
        "print(\"WORD TOPICS:\")\n",
        "for t in range(len(topic_word_dist)):\n",
        "  top_words = vocab.to_text(top_word_inds[t][-10:][::-1], sep=\", \")\n",
        "  topic_words[t+1] = top_words\n",
        "  topic_df[\"Topic\"].append(t + 1)\n",
        "  topic_df[\"Top words\"].append(top_words)\n",
        "topic_df = pd.DataFrame(topic_df)\n",
        "topic_df"
      ],
      "execution_count": 16,
      "outputs": [
        {
          "output_type": "stream",
          "text": [
            "WORD TOPICS:\n"
          ],
          "name": "stdout"
        },
        {
          "output_type": "execute_result",
          "data": {
            "text/html": [
              "<div>\n",
              "<style scoped>\n",
              "    .dataframe tbody tr th:only-of-type {\n",
              "        vertical-align: middle;\n",
              "    }\n",
              "\n",
              "    .dataframe tbody tr th {\n",
              "        vertical-align: top;\n",
              "    }\n",
              "\n",
              "    .dataframe thead th {\n",
              "        text-align: right;\n",
              "    }\n",
              "</style>\n",
              "<table border=\"1\" class=\"dataframe\">\n",
              "  <thead>\n",
              "    <tr style=\"text-align: right;\">\n",
              "      <th></th>\n",
              "      <th>Topic</th>\n",
              "      <th>Top words</th>\n",
              "    </tr>\n",
              "  </thead>\n",
              "  <tbody>\n",
              "    <tr>\n",
              "      <th>0</th>\n",
              "      <td>1</td>\n",
              "      <td>belt, flatlock, case, size, better, choose, earrings, soft, warm, collar</td>\n",
              "    </tr>\n",
              "    <tr>\n",
              "      <th>1</th>\n",
              "      <td>2</td>\n",
              "      <td>shirt, style, breathable, princess, youre, colors, quality, come, people, socks</td>\n",
              "    </tr>\n",
              "    <tr>\n",
              "      <th>2</th>\n",
              "      <td>3</td>\n",
              "      <td>easy, collection, colors, rubber, water, quickly, stretch, lightweight, design, body</td>\n",
              "    </tr>\n",
              "    <tr>\n",
              "      <th>3</th>\n",
              "      <td>4</td>\n",
              "      <td>activities, handle, helmet, star, way, flat, makes, day, half, tee</td>\n",
              "    </tr>\n",
              "    <tr>\n",
              "      <th>4</th>\n",
              "      <td>5</td>\n",
              "      <td>fit, sweat, mesh, large, pocket, fleece, body, necklace, imported, travel</td>\n",
              "    </tr>\n",
              "    <tr>\n",
              "      <th>5</th>\n",
              "      <td>6</td>\n",
              "      <td>wicks, material, dry, fit, panels, piece, insect, construction, durability, standard</td>\n",
              "    </tr>\n",
              "    <tr>\n",
              "      <th>6</th>\n",
              "      <td>7</td>\n",
              "      <td>support, company, fabric, apparel, fun, sizes, hip, outdoor, fiber, features</td>\n",
              "    </tr>\n",
              "    <tr>\n",
              "      <th>7</th>\n",
              "      <td>8</td>\n",
              "      <td>x, merino, sleeve, fun, items, water, weather, bracelets, comfortable, display</td>\n",
              "    </tr>\n",
              "    <tr>\n",
              "      <th>8</th>\n",
              "      <td>9</td>\n",
              "      <td>great, performance, black, pockets, inches, make, away, design, jewelry, unique</td>\n",
              "    </tr>\n",
              "    <tr>\n",
              "      <th>9</th>\n",
              "      <td>10</td>\n",
              "      <td>fits, sun, store, engineered, pocket, shield, conditions, mobility, hat, maximum</td>\n",
              "    </tr>\n",
              "    <tr>\n",
              "      <th>10</th>\n",
              "      <td>11</td>\n",
              "      <td>costume, products, small, inside, classic, lightweight, comfort, white, ideal, designed</td>\n",
              "    </tr>\n",
              "    <tr>\n",
              "      <th>11</th>\n",
              "      <td>12</td>\n",
              "      <td>bag, elastic, jacket, perfect, favorite, hat, d, box, look, feature</td>\n",
              "    </tr>\n",
              "    <tr>\n",
              "      <th>12</th>\n",
              "      <td>13</td>\n",
              "      <td>s, use, sure, soft, comfort, easy, products, skin, displays, moisture</td>\n",
              "    </tr>\n",
              "    <tr>\n",
              "      <th>13</th>\n",
              "      <td>14</td>\n",
              "      <td>size, comfortable, product, warm, need, ua, accessory, clean, footwear, silver</td>\n",
              "    </tr>\n",
              "    <tr>\n",
              "      <th>14</th>\n",
              "      <td>15</td>\n",
              "      <td>high, storage, height, waistband, wide, way, chest, include, growth, new</td>\n",
              "    </tr>\n",
              "    <tr>\n",
              "      <th>15</th>\n",
              "      <td>16</td>\n",
              "      <td>delivers, tray, nylon, sturdy, free, pirate, builtin, allows, fairy, wear</td>\n",
              "    </tr>\n",
              "    <tr>\n",
              "      <th>16</th>\n",
              "      <td>17</td>\n",
              "      <td>cool, shoulder, provide, x, cold, prevents, womens, color, beautiful, years</td>\n",
              "    </tr>\n",
              "    <tr>\n",
              "      <th>17</th>\n",
              "      <td>18</td>\n",
              "      <td>pockets, mask, durable, moisture, jewelry, features, new, offers, comfort, brushed</td>\n",
              "    </tr>\n",
              "    <tr>\n",
              "      <th>18</th>\n",
              "      <td>19</td>\n",
              "      <td>straps, clothing, metal, way, microbes, shoes, silver, easily, toe, polyester</td>\n",
              "    </tr>\n",
              "    <tr>\n",
              "      <th>19</th>\n",
              "      <td>20</td>\n",
              "      <td>complete, wear, fabric, features, display, measures, merino, technology, gift, want</td>\n",
              "    </tr>\n",
              "  </tbody>\n",
              "</table>\n",
              "</div>"
            ],
            "text/plain": [
              "    Topic                                                                                Top words\n",
              "0   1      belt, flatlock, case, size, better, choose, earrings, soft, warm, collar               \n",
              "1   2      shirt, style, breathable, princess, youre, colors, quality, come, people, socks        \n",
              "2   3      easy, collection, colors, rubber, water, quickly, stretch, lightweight, design, body   \n",
              "3   4      activities, handle, helmet, star, way, flat, makes, day, half, tee                     \n",
              "4   5      fit, sweat, mesh, large, pocket, fleece, body, necklace, imported, travel              \n",
              "5   6      wicks, material, dry, fit, panels, piece, insect, construction, durability, standard   \n",
              "6   7      support, company, fabric, apparel, fun, sizes, hip, outdoor, fiber, features           \n",
              "7   8      x, merino, sleeve, fun, items, water, weather, bracelets, comfortable, display         \n",
              "8   9      great, performance, black, pockets, inches, make, away, design, jewelry, unique        \n",
              "9   10     fits, sun, store, engineered, pocket, shield, conditions, mobility, hat, maximum       \n",
              "10  11     costume, products, small, inside, classic, lightweight, comfort, white, ideal, designed\n",
              "11  12     bag, elastic, jacket, perfect, favorite, hat, d, box, look, feature                    \n",
              "12  13     s, use, sure, soft, comfort, easy, products, skin, displays, moisture                  \n",
              "13  14     size, comfortable, product, warm, need, ua, accessory, clean, footwear, silver         \n",
              "14  15     high, storage, height, waistband, wide, way, chest, include, growth, new               \n",
              "15  16     delivers, tray, nylon, sturdy, free, pirate, builtin, allows, fairy, wear              \n",
              "16  17     cool, shoulder, provide, x, cold, prevents, womens, color, beautiful, years            \n",
              "17  18     pockets, mask, durable, moisture, jewelry, features, new, offers, comfort, brushed     \n",
              "18  19     straps, clothing, metal, way, microbes, shoes, silver, easily, toe, polyester          \n",
              "19  20     complete, wear, fabric, features, display, measures, merino, technology, gift, want    "
            ]
          },
          "metadata": {
            "tags": []
          },
          "execution_count": 16
        }
      ]
    },
    {
      "cell_type": "markdown",
      "metadata": {
        "id": "eHmSmoWnG8jX",
        "colab_type": "text"
      },
      "source": [
        "As item vectors are close to its topic proportions, user vectors can also be used to explain what topics they are interested in."
      ]
    },
    {
      "cell_type": "code",
      "metadata": {
        "id": "lTs0zjSmcEOK",
        "colab_type": "code",
        "outputId": "be235d1b-fe61-4613-b5a7-322dc41d1b42",
        "colab": {
          "base_uri": "https://localhost:8080/",
          "height": 159
        }
      },
      "source": [
        "UIDX = 123\n",
        "TOPK = 5\n",
        "\n",
        "item_id2idx = ctr.train_set.iid_map\n",
        "item_idx2id = list(ctr.train_set.item_ids)\n",
        "\n",
        "print(f\"USER {UIDX} TOP-3 TOPICS:\")\n",
        "topic_df.loc[np.argsort(ctr.U[UIDX])[-3:][::-1]]"
      ],
      "execution_count": 17,
      "outputs": [
        {
          "output_type": "stream",
          "text": [
            "USER 123 TOP-3 TOPICS:\n"
          ],
          "name": "stdout"
        },
        {
          "output_type": "execute_result",
          "data": {
            "text/html": [
              "<div>\n",
              "<style scoped>\n",
              "    .dataframe tbody tr th:only-of-type {\n",
              "        vertical-align: middle;\n",
              "    }\n",
              "\n",
              "    .dataframe tbody tr th {\n",
              "        vertical-align: top;\n",
              "    }\n",
              "\n",
              "    .dataframe thead th {\n",
              "        text-align: right;\n",
              "    }\n",
              "</style>\n",
              "<table border=\"1\" class=\"dataframe\">\n",
              "  <thead>\n",
              "    <tr style=\"text-align: right;\">\n",
              "      <th></th>\n",
              "      <th>Topic</th>\n",
              "      <th>Top words</th>\n",
              "    </tr>\n",
              "  </thead>\n",
              "  <tbody>\n",
              "    <tr>\n",
              "      <th>14</th>\n",
              "      <td>15</td>\n",
              "      <td>high, storage, height, waistband, wide, way, chest, include, growth, new</td>\n",
              "    </tr>\n",
              "    <tr>\n",
              "      <th>13</th>\n",
              "      <td>14</td>\n",
              "      <td>size, comfortable, product, warm, need, ua, accessory, clean, footwear, silver</td>\n",
              "    </tr>\n",
              "    <tr>\n",
              "      <th>12</th>\n",
              "      <td>13</td>\n",
              "      <td>s, use, sure, soft, comfort, easy, products, skin, displays, moisture</td>\n",
              "    </tr>\n",
              "  </tbody>\n",
              "</table>\n",
              "</div>"
            ],
            "text/plain": [
              "    Topic                                                                       Top words\n",
              "14  15     high, storage, height, waistband, wide, way, chest, include, growth, new      \n",
              "13  14     size, comfortable, product, warm, need, ua, accessory, clean, footwear, silver\n",
              "12  13     s, use, sure, soft, comfort, easy, products, skin, displays, moisture         "
            ]
          },
          "metadata": {
            "tags": []
          },
          "execution_count": 17
        }
      ]
    },
    {
      "cell_type": "markdown",
      "metadata": {
        "id": "zkWRNVgyIR0r",
        "colab_type": "text"
      },
      "source": [
        "Those are the topics most relevant to her interests. What will be recommendations to this user? "
      ]
    },
    {
      "cell_type": "code",
      "metadata": {
        "id": "7jHH_y_iH6Bt",
        "colab_type": "code",
        "outputId": "4a31c8a5-8fba-424f-e4bd-77b47bbfdb49",
        "colab": {
          "base_uri": "https://localhost:8080/",
          "height": 306
        }
      },
      "source": [
        "recommendations, scores = ctr.rank(UIDX)\n",
        "print(f\"\\nTOP {TOPK} RECOMMENDATIONS FOR USER {UIDX}:\")\n",
        "rec_df = defaultdict(list)\n",
        "for i in recommendations[:TOPK]:\n",
        "  rec_df[\"URL\"].append(f\"https://www.amazon.com/dp/{item_idx2id[i]}\")\n",
        "  rec_df[\"Description\"].append(ctr.train_set.item_text.corpus[i])\n",
        "pd.DataFrame(rec_df)"
      ],
      "execution_count": 18,
      "outputs": [
        {
          "output_type": "stream",
          "text": [
            "\n",
            "TOP 5 RECOMMENDATIONS FOR USER 123:\n"
          ],
          "name": "stdout"
        },
        {
          "output_type": "execute_result",
          "data": {
            "text/html": [
              "<div>\n",
              "<style scoped>\n",
              "    .dataframe tbody tr th:only-of-type {\n",
              "        vertical-align: middle;\n",
              "    }\n",
              "\n",
              "    .dataframe tbody tr th {\n",
              "        vertical-align: top;\n",
              "    }\n",
              "\n",
              "    .dataframe thead th {\n",
              "        text-align: right;\n",
              "    }\n",
              "</style>\n",
              "<table border=\"1\" class=\"dataframe\">\n",
              "  <thead>\n",
              "    <tr style=\"text-align: right;\">\n",
              "      <th></th>\n",
              "      <th>URL</th>\n",
              "      <th>Description</th>\n",
              "    </tr>\n",
              "  </thead>\n",
              "  <tbody>\n",
              "    <tr>\n",
              "      <th>0</th>\n",
              "      <td>https://www.amazon.com/dp/B002M62ES6</td>\n",
              "      <td>Accessorize your Spider-man Costume with these Gloves. Fits most child sizes from 4-12.</td>\n",
              "    </tr>\n",
              "    <tr>\n",
              "      <th>1</th>\n",
              "      <td>https://www.amazon.com/dp/B002MKPKFG</td>\n",
              "      <td>This glamorous dress is perfect for a night at the ball. The stretchy blue velvet bodice is elegantly detailed with a gathered white inlay, ruffled cap sleeves, sparkling silver trim and a white rose. The silver trimmed waist drapes outlined with ruffle capture that authentic Cinderella look.The dress is designed with an empire waist that sits 1.5 inches above the waist. They are machine washable and made for long repeated use, unlike many one-off Halloween costumes that are not made for everyday play.  Our stretchy accommodating fabrics will allow for a comfortable fit for each child within the respective age ranges and there are no itchy fabrics or trims.Each dress comes with an exclusive Princess Hairbow as part of the bundle set.</td>\n",
              "    </tr>\n",
              "    <tr>\n",
              "      <th>2</th>\n",
              "      <td>https://www.amazon.com/dp/B001NAHW2U</td>\n",
              "      <td>LACY 14K GOLD on 925 Silver Charm BEAD compatible with European Bracelet</td>\n",
              "    </tr>\n",
              "    <tr>\n",
              "      <th>3</th>\n",
              "      <td>https://www.amazon.com/dp/B000HS6NEC</td>\n",
              "      <td>Includes jacket, elastic pants, hat, belt, whistle, and gun holster. Child Size Small (4-6).</td>\n",
              "    </tr>\n",
              "    <tr>\n",
              "      <th>4</th>\n",
              "      <td>https://www.amazon.com/dp/B001EDF3OU</td>\n",
              "      <td>The Child Indiana Jones Hat and Whip are two must have accessories for your child's Officially Licensed Indiana Jones costume. This Indiana Jones costume accessory contains the two hallmarks of Indy's style: his awesome whip and his trademark hat.</td>\n",
              "    </tr>\n",
              "  </tbody>\n",
              "</table>\n",
              "</div>"
            ],
            "text/plain": [
              "                                    URL                                                                                                                                                                                                                                                                                                                                                                                                                                                                                                                                                                                                                                                                                                                                                              Description\n",
              "0  https://www.amazon.com/dp/B002M62ES6  Accessorize your Spider-man Costume with these Gloves. Fits most child sizes from 4-12.                                                                                                                                                                                                                                                                                                                                                                                                                                                                                                                                                                                                                                                                                \n",
              "1  https://www.amazon.com/dp/B002MKPKFG  This glamorous dress is perfect for a night at the ball. The stretchy blue velvet bodice is elegantly detailed with a gathered white inlay, ruffled cap sleeves, sparkling silver trim and a white rose. The silver trimmed waist drapes outlined with ruffle capture that authentic Cinderella look.The dress is designed with an empire waist that sits 1.5 inches above the waist. They are machine washable and made for long repeated use, unlike many one-off Halloween costumes that are not made for everyday play.  Our stretchy accommodating fabrics will allow for a comfortable fit for each child within the respective age ranges and there are no itchy fabrics or trims.Each dress comes with an exclusive Princess Hairbow as part of the bundle set.\n",
              "2  https://www.amazon.com/dp/B001NAHW2U  LACY 14K GOLD on 925 Silver Charm BEAD compatible with European Bracelet                                                                                                                                                                                                                                                                                                                                                                                                                                                                                                                                                                                                                                                                                               \n",
              "3  https://www.amazon.com/dp/B000HS6NEC  Includes jacket, elastic pants, hat, belt, whistle, and gun holster. Child Size Small (4-6).                                                                                                                                                                                                                                                                                                                                                                                                                                                                                                                                                                                                                                                                           \n",
              "4  https://www.amazon.com/dp/B001EDF3OU  The Child Indiana Jones Hat and Whip are two must have accessories for your child's Officially Licensed Indiana Jones costume. This Indiana Jones costume accessory contains the two hallmarks of Indy's style: his awesome whip and his trademark hat.                                                                                                                                                                                                                                                                                                                                                                                                                                                                                                                "
            ]
          },
          "metadata": {
            "tags": []
          },
          "execution_count": 18
        }
      ]
    },
    {
      "cell_type": "markdown",
      "metadata": {
        "id": "L2E8LxyoIuZa",
        "colab_type": "text"
      },
      "source": [
        "Interestingly, in the desctiption of top-5 recommendations, we see words relevant to the user's topics (e.g., *Accessorize, Gloves, Bracelet, Silver*). This would suggest that CTR model can capture user preferences via the notions of item topics. "
      ]
    },
    {
      "cell_type": "markdown",
      "metadata": {
        "id": "0jb-o9QJKcaS",
        "colab_type": "text"
      },
      "source": [
        "---\n",
        "\n",
        "Let's check out another user with *index = 321*. Similarly, we see the top-3 topics this user cares most about: "
      ]
    },
    {
      "cell_type": "code",
      "metadata": {
        "id": "aKowd8UQQjkT",
        "colab_type": "code",
        "outputId": "5b35f591-5639-4b2c-9268-87418ad0e6f8",
        "colab": {
          "base_uri": "https://localhost:8080/",
          "height": 159
        }
      },
      "source": [
        "UIDX = 321\n",
        "\n",
        "print(f\"USER {UIDX} TOP-3 TOPICS:\")\n",
        "topic_df.loc[np.argsort(ctr.U[UIDX])[-3:][::-1]]"
      ],
      "execution_count": 19,
      "outputs": [
        {
          "output_type": "stream",
          "text": [
            "USER 321 TOP-3 TOPICS:\n"
          ],
          "name": "stdout"
        },
        {
          "output_type": "execute_result",
          "data": {
            "text/html": [
              "<div>\n",
              "<style scoped>\n",
              "    .dataframe tbody tr th:only-of-type {\n",
              "        vertical-align: middle;\n",
              "    }\n",
              "\n",
              "    .dataframe tbody tr th {\n",
              "        vertical-align: top;\n",
              "    }\n",
              "\n",
              "    .dataframe thead th {\n",
              "        text-align: right;\n",
              "    }\n",
              "</style>\n",
              "<table border=\"1\" class=\"dataframe\">\n",
              "  <thead>\n",
              "    <tr style=\"text-align: right;\">\n",
              "      <th></th>\n",
              "      <th>Topic</th>\n",
              "      <th>Top words</th>\n",
              "    </tr>\n",
              "  </thead>\n",
              "  <tbody>\n",
              "    <tr>\n",
              "      <th>19</th>\n",
              "      <td>20</td>\n",
              "      <td>complete, wear, fabric, features, display, measures, merino, technology, gift, want</td>\n",
              "    </tr>\n",
              "    <tr>\n",
              "      <th>2</th>\n",
              "      <td>3</td>\n",
              "      <td>easy, collection, colors, rubber, water, quickly, stretch, lightweight, design, body</td>\n",
              "    </tr>\n",
              "    <tr>\n",
              "      <th>10</th>\n",
              "      <td>11</td>\n",
              "      <td>costume, products, small, inside, classic, lightweight, comfort, white, ideal, designed</td>\n",
              "    </tr>\n",
              "  </tbody>\n",
              "</table>\n",
              "</div>"
            ],
            "text/plain": [
              "    Topic                                                                                Top words\n",
              "19  20     complete, wear, fabric, features, display, measures, merino, technology, gift, want    \n",
              "2   3      easy, collection, colors, rubber, water, quickly, stretch, lightweight, design, body   \n",
              "10  11     costume, products, small, inside, classic, lightweight, comfort, white, ideal, designed"
            ]
          },
          "metadata": {
            "tags": []
          },
          "execution_count": 19
        }
      ]
    },
    {
      "cell_type": "markdown",
      "metadata": {
        "id": "29isliv_K0uf",
        "colab_type": "text"
      },
      "source": [
        "The topics include clothing with certain characteristics (*easy, water, stretch, lightweight, comfort*).\n",
        "\n",
        "Based on this, how would the model give recommendations to the user?"
      ]
    },
    {
      "cell_type": "code",
      "metadata": {
        "id": "z7mvxNntLo8V",
        "colab_type": "code",
        "outputId": "1a7f90cd-9a20-482f-9c8c-003605b47a7d",
        "colab": {
          "base_uri": "https://localhost:8080/",
          "height": 391
        }
      },
      "source": [
        "recommendations, scores = ctr.rank(UIDX)\n",
        "print(f\"\\nTOP {TOPK} RECOMMENDATIONS FOR USER {UIDX}:\")\n",
        "rec_df = defaultdict(list)\n",
        "for i in recommendations[:TOPK]:\n",
        "  rec_df[\"URL\"].append(f\"https://www.amazon.com/dp/{item_idx2id[i]}\")\n",
        "  rec_df[\"Description\"].append(ctr.train_set.item_text.corpus[i])\n",
        "pd.DataFrame(rec_df)"
      ],
      "execution_count": 20,
      "outputs": [
        {
          "output_type": "stream",
          "text": [
            "\n",
            "TOP 5 RECOMMENDATIONS FOR USER 321:\n"
          ],
          "name": "stdout"
        },
        {
          "output_type": "execute_result",
          "data": {
            "text/html": [
              "<div>\n",
              "<style scoped>\n",
              "    .dataframe tbody tr th:only-of-type {\n",
              "        vertical-align: middle;\n",
              "    }\n",
              "\n",
              "    .dataframe tbody tr th {\n",
              "        vertical-align: top;\n",
              "    }\n",
              "\n",
              "    .dataframe thead th {\n",
              "        text-align: right;\n",
              "    }\n",
              "</style>\n",
              "<table border=\"1\" class=\"dataframe\">\n",
              "  <thead>\n",
              "    <tr style=\"text-align: right;\">\n",
              "      <th></th>\n",
              "      <th>URL</th>\n",
              "      <th>Description</th>\n",
              "    </tr>\n",
              "  </thead>\n",
              "  <tbody>\n",
              "    <tr>\n",
              "      <th>0</th>\n",
              "      <td>https://www.amazon.com/dp/B000MARQFA</td>\n",
              "      <td>You demand a lot from your pants when you're on the move and the PROPPER Tactical Pant delivers. Nine pockets hold everything from your smartphone to your multi-tool. Rugged canvas fabric offers durability and strength, with DuPont Teflon fabric protector to repel stains and liquids. An action-stretch waistband adds comfort. And with our innovative wallet \"pocket in a pocket\" you'll appreciate not sitting on your wallet all day long. Come with a free matching belt (12.99 value).</td>\n",
              "    </tr>\n",
              "    <tr>\n",
              "      <th>1</th>\n",
              "      <td>https://www.amazon.com/dp/B001VIH648</td>\n",
              "      <td>You demand a lot from your pants when you're on the move and the PROPPER Tactical Pant delivers. Nine pockets hold everything from your smartphone to your multi-tool. Rugged canvas fabric offers durability and strength, with DuPont Teflon fabric protector to repel stains and liquids. An action-stretch waistband adds comfort. And with our innovative wallet \"pocket in a pocket\" you'll appreciate not sitting on your wallet all day long. Come with a free matching belt (12.99 value).</td>\n",
              "    </tr>\n",
              "    <tr>\n",
              "      <th>2</th>\n",
              "      <td>https://www.amazon.com/dp/B002V44LTO</td>\n",
              "      <td>Sleeves - Made From 50% nylon &amp; 50% cotton. Chest &amp; Back - Made from 40% Acrylic &amp; 60% Cotton. Resists melting &amp; dripping. Melting point is rated to 230 degrees Fahrenheit. Moisture wicking. Lightweight &amp; breathable. Zippered sleeve storage pockets. Mock turtle neck. Anti abrasion padded elbow patches. Gusseted sleeves. Glint tape holder for IR tape. Loop on sleeve pockets for attaching name, rank and flag. Colors Available: Black, ACU Digital Camouflage, Olive Drab, Desert Digital Camouflage &amp; Digitial Woodland Camouflage. Sizes to choose from: Small, Medium, Large, X-Large, 2X-Large &amp; 3X-Large.</td>\n",
              "    </tr>\n",
              "    <tr>\n",
              "      <th>3</th>\n",
              "      <td>https://www.amazon.com/dp/B002FIVZD6</td>\n",
              "      <td>TRU-SPEC is one of the leading suppliers of uniforms and personal equipment to military, law enforcement and public safety markets.&amp;#xA0; Thousands of police, firefighters, EMTs and military personnel use and depend on our products daily. The name TRU-SPEC has become synonymous with quality, innovation and service. Gunnery Sgt. R. Lee Ermey, USMC (Ret.) known as \"The Gunny\" has become the official celebrity spokesperson for TRU-SPEC's line of tactically inspired apparel.</td>\n",
              "    </tr>\n",
              "    <tr>\n",
              "      <th>4</th>\n",
              "      <td>https://www.amazon.com/dp/B00062B1IC</td>\n",
              "      <td>The PROPPER BDU trouser offers an authentic military cut in comfortable, durable Battle Rip fabric. Sewn to military specification, this button-fly BDU is fade, shrink and wrinkle resistant. It features felled seams and reinforced seat and knee for maximum durability. Six pockets with fused pocket flaps ensure a clean, professional look. With adjustable waist tabs and durable drawstring leg closures for a secure fit.</td>\n",
              "    </tr>\n",
              "  </tbody>\n",
              "</table>\n",
              "</div>"
            ],
            "text/plain": [
              "                                    URL                                                                                                                                                                                                                                                                                                                                                                                                                                                                                                                                                                                                                  Description\n",
              "0  https://www.amazon.com/dp/B000MARQFA  You demand a lot from your pants when you're on the move and the PROPPER Tactical Pant delivers. Nine pockets hold everything from your smartphone to your multi-tool. Rugged canvas fabric offers durability and strength, with DuPont Teflon fabric protector to repel stains and liquids. An action-stretch waistband adds comfort. And with our innovative wallet \"pocket in a pocket\" you'll appreciate not sitting on your wallet all day long. Come with a free matching belt (12.99 value).                                                                                                                        \n",
              "1  https://www.amazon.com/dp/B001VIH648  You demand a lot from your pants when you're on the move and the PROPPER Tactical Pant delivers. Nine pockets hold everything from your smartphone to your multi-tool. Rugged canvas fabric offers durability and strength, with DuPont Teflon fabric protector to repel stains and liquids. An action-stretch waistband adds comfort. And with our innovative wallet \"pocket in a pocket\" you'll appreciate not sitting on your wallet all day long. Come with a free matching belt (12.99 value).                                                                                                                        \n",
              "2  https://www.amazon.com/dp/B002V44LTO  Sleeves - Made From 50% nylon & 50% cotton. Chest & Back - Made from 40% Acrylic & 60% Cotton. Resists melting & dripping. Melting point is rated to 230 degrees Fahrenheit. Moisture wicking. Lightweight & breathable. Zippered sleeve storage pockets. Mock turtle neck. Anti abrasion padded elbow patches. Gusseted sleeves. Glint tape holder for IR tape. Loop on sleeve pockets for attaching name, rank and flag. Colors Available: Black, ACU Digital Camouflage, Olive Drab, Desert Digital Camouflage & Digitial Woodland Camouflage. Sizes to choose from: Small, Medium, Large, X-Large, 2X-Large & 3X-Large.\n",
              "3  https://www.amazon.com/dp/B002FIVZD6  TRU-SPEC is one of the leading suppliers of uniforms and personal equipment to military, law enforcement and public safety markets.&#xA0; Thousands of police, firefighters, EMTs and military personnel use and depend on our products daily. The name TRU-SPEC has become synonymous with quality, innovation and service. Gunnery Sgt. R. Lee Ermey, USMC (Ret.) known as \"The Gunny\" has become the official celebrity spokesperson for TRU-SPEC's line of tactically inspired apparel.                                                                                                                                \n",
              "4  https://www.amazon.com/dp/B00062B1IC  The PROPPER BDU trouser offers an authentic military cut in comfortable, durable Battle Rip fabric. Sewn to military specification, this button-fly BDU is fade, shrink and wrinkle resistant. It features felled seams and reinforced seat and knee for maximum durability. Six pockets with fused pocket flaps ensure a clean, professional look. With adjustable waist tabs and durable drawstring leg closures for a secure fit.                                                                                                                                                                                       "
            ]
          },
          "metadata": {
            "tags": []
          },
          "execution_count": 20
        }
      ]
    },
    {
      "cell_type": "markdown",
      "metadata": {
        "id": "1xQu4pblNZRq",
        "colab_type": "text"
      },
      "source": [
        "From the top-5 recommendations, we notice that those items are *military/outdoor/sports* clothing, based on their descriptions as well as the URL to Amazon website. That is also evident from the user's topics that we observe above."
      ]
    },
    {
      "cell_type": "markdown",
      "metadata": {
        "id": "q1AQfgGe8fyo",
        "colab_type": "text"
      },
      "source": [
        "## 4. Image Modality\n",
        "\n",
        "In some contexts, item images are informative (e.g., fashion). With the existence of effective methods to learn image representation, using item images in recommender systems is gaining popularity. In this tutorial, we present VBPR [4], a recommendation model making use of item image features extracted from pre-trained Convolutional Neural Network (CNN)."
      ]
    },
    {
      "cell_type": "markdown",
      "metadata": {
        "id": "A7WGq2xxjqjA",
        "colab_type": "text"
      },
      "source": [
        "### Visual Bayesian Personalized Ranking (VBPR)\n",
        "\n",
        "VBPR, which is also based on matrix factorization, is an extension of BPR model.  The novelty of VBPR is on how item visual features incorporated into the matrix factorization framework.  The preference score user $i$ giving to item $j$ is predicted as follows:\n",
        "\n",
        "$$\n",
        "\\hat{r}_{i,j} = \\alpha + b_i + b_j + \\mathbf{u}_i^T \\mathbf{v}_j + \\mathbf{p}_{u}^T(\\mathbf{E} \\times \\mathbf{f}_j) + \\mathbf{\\Theta}^T \\mathbf{f}_j\n",
        "$$\n",
        "\n",
        "where:\n",
        "- $\\alpha, b_i, b_j$ are global bias, user bias, and item bias, respectively\n",
        "- $\\mathbf{u}_i \\in \\mathbb{R}^K$ and $\\mathbf{v}_j \\in \\mathbb{R}^K$ are user and item latent vectors, respectively\n",
        "- $\\mathbf{f}_j \\in \\mathbb{R}^D$ is the item image feature vector\n",
        "- $\\mathbf{p}_i \\in \\mathbb{R}^Q$ is user visual preference, and $(\\mathbf{E} \\times \\mathbf{f}_j) \\in \\mathbb{R}^Q$ is item visual representation with $\\mathbf{E} \\in \\mathbb{R}^{K \\times D}$ is the projection from visual feature space into preference space\n",
        "- $\\mathbf{\\Theta} \\in \\mathbb{R}^D$ is global visual bias vector\n",
        "\n",
        "Learning parameters of VBPR model can be done, similarly to BPR, via minimizing the following negative log-likelihood:\n",
        "\n",
        "$$ \\mathcal{L}(\\mathbf{U,V,b,E,\\Theta, P}|\\lambda) = \\sum_{(j >_i l) \\in \\mathbf{S}} \\ln (1 + \\exp\\{-(\\hat{r}_{i,j} - \\hat{r}_{i,l})\\}) + \\frac{\\lambda}{2} \\sum_{i=1}^{N} (||\\mathbf{u}_i||^2 + ||\\mathbf{p}_i||^2) + \\frac{\\lambda}{2} \\sum_{j=1}^{M} (b_j + ||\\mathbf{v}_j||^2) + \\frac{\\lambda}{2} ||\\mathbf{\\Theta}||^2 + \\frac{\\lambda}{2} ||\\mathbf{E}||^2_2 $$\n",
        "\n",
        "Noted that global bias $\\alpha$ and user bias $b_i$ do not affect the ranking of items, thus they are redundant and removed from the model parameters.\n",
        "\n",
        "Let's compare VBPR and BPR models with an experiment on Amazon Clothing dataset.\n"
      ]
    },
    {
      "cell_type": "code",
      "metadata": {
        "id": "4LQDDr1e8j6L",
        "colab_type": "code",
        "outputId": "e7cdf83c-0760-407d-b461-7977723354b8",
        "colab": {
          "base_uri": "https://localhost:8080/",
          "height": 170
        }
      },
      "source": [
        "K = 10\n",
        "vbpr = VBPR(k=K, k2=K, n_epochs=50, batch_size=100, learning_rate=0.001,\n",
        "            lambda_w=1, lambda_b=0.01, lambda_e=0.0, use_gpu=True, verbose=VERBOSE, seed=SEED)\n",
        "bpr = BPR(k=(K * 2), max_iter=50, learning_rate=0.001, lambda_reg=0.001, verbose=VERBOSE, seed=SEED)\n",
        "\n",
        "ratings = amazon_clothing.load_feedback()\n",
        "img_features, item_ids = amazon_clothing.load_image()\n",
        "\n",
        "item_image_modality = ImageModality(features=img_features, ids=item_ids, normalized=True)\n",
        "\n",
        "ratio_split = RatioSplit(\n",
        "    data=ratings,\n",
        "    test_size=0.2,\n",
        "    rating_threshold=4.0,\n",
        "    exclude_unknowns=True,\n",
        "    item_image=item_image_modality,\n",
        "    verbose=VERBOSE,\n",
        "    seed=SEED,\n",
        ")\n",
        "\n",
        "auc = cornac.metrics.AUC()\n",
        "\n",
        "cornac.Experiment(eval_method=ratio_split, models=[vbpr, bpr], metrics=[auc]).run()"
      ],
      "execution_count": 12,
      "outputs": [
        {
          "output_type": "stream",
          "text": [
            "Optimization finished!\n",
            "\n",
            "TEST:\n",
            "...\n",
            "     |    AUC | Train (s) | Test (s)\n",
            "---- + ------ + --------- + --------\n",
            "VBPR | 0.7053 |   51.0625 |   1.4523\n",
            "BPR  | 0.5992 |    0.1625 |   1.3823\n",
            "\n"
          ],
          "name": "stdout"
        }
      ]
    },
    {
      "cell_type": "markdown",
      "metadata": {
        "id": "MR6coclHv1Do",
        "colab_type": "text"
      },
      "source": [
        "The results show that VBPR obtains higher performance than BPR in terms of AUC. That can be attributed to the usage of item visual features. Let's try to get some ideas on how the visual features contributing to the model recommendations. "
      ]
    },
    {
      "cell_type": "markdown",
      "metadata": {
        "id": "JAdxJSASpswm",
        "colab_type": "text"
      },
      "source": [
        "### Interpreting Recommendation\n",
        "\n",
        "First, let's take a look at items rated by a particular user. Then we see how VBPR model recommends to the user."
      ]
    },
    {
      "cell_type": "code",
      "metadata": {
        "id": "i3FxEMm75Y_R",
        "colab_type": "code",
        "outputId": "7d80807f-b915-4a7e-d018-bfe5c5a1c6fe",
        "colab": {
          "base_uri": "https://localhost:8080/",
          "height": 128
        }
      },
      "source": [
        "UIDX = 111\n",
        "\n",
        "item_id2idx = vbpr.train_set.iid_map\n",
        "item_idx2id = list(vbpr.train_set.item_ids)\n",
        "img_features = vbpr.train_set.item_image.features\n",
        "item_desc = {iid: desc for desc, iid in zip(*amazon_clothing.load_text())}\n",
        "\n",
        "print(f\"RATED ITEMS BY USER {UIDX}:\")\n",
        "rated_items = np.nonzero(vbpr.train_set.matrix[UIDX].A)[1]\n",
        "rated_df = defaultdict(list)\n",
        "for i in rated_items:\n",
        "  rated_df[\"URL\"].append(f\"https://www.amazon.com/dp/{item_idx2id[i]}\")\n",
        "  rated_df[\"Description\"].append(item_desc[item_idx2id[i]])\n",
        "pd.DataFrame(rated_df)"
      ],
      "execution_count": 21,
      "outputs": [
        {
          "output_type": "stream",
          "text": [
            "RATED ITEMS BY USER 111:\n"
          ],
          "name": "stdout"
        },
        {
          "output_type": "execute_result",
          "data": {
            "text/html": [
              "<div>\n",
              "<style scoped>\n",
              "    .dataframe tbody tr th:only-of-type {\n",
              "        vertical-align: middle;\n",
              "    }\n",
              "\n",
              "    .dataframe tbody tr th {\n",
              "        vertical-align: top;\n",
              "    }\n",
              "\n",
              "    .dataframe thead th {\n",
              "        text-align: right;\n",
              "    }\n",
              "</style>\n",
              "<table border=\"1\" class=\"dataframe\">\n",
              "  <thead>\n",
              "    <tr style=\"text-align: right;\">\n",
              "      <th></th>\n",
              "      <th>URL</th>\n",
              "      <th>Description</th>\n",
              "    </tr>\n",
              "  </thead>\n",
              "  <tbody>\n",
              "    <tr>\n",
              "      <th>0</th>\n",
              "      <td>https://www.amazon.com/dp/B00BXQF1XG</td>\n",
              "      <td>Disguise Boy's Marvel Ultimate Spider-Man Classic Costume, 3T-4T Jumpsuit.</td>\n",
              "    </tr>\n",
              "    <tr>\n",
              "      <th>1</th>\n",
              "      <td>https://www.amazon.com/dp/B002M62ES6</td>\n",
              "      <td>Accessorize your Spider-man Costume with these Gloves. Fits most child sizes from 4-12.</td>\n",
              "    </tr>\n",
              "  </tbody>\n",
              "</table>\n",
              "</div>"
            ],
            "text/plain": [
              "                                    URL                                                                              Description\n",
              "0  https://www.amazon.com/dp/B00BXQF1XG  Disguise Boy's Marvel Ultimate Spider-Man Classic Costume, 3T-4T Jumpsuit.             \n",
              "1  https://www.amazon.com/dp/B002M62ES6  Accessorize your Spider-man Costume with these Gloves. Fits most child sizes from 4-12."
            ]
          },
          "metadata": {
            "tags": []
          },
          "execution_count": 21
        }
      ]
    },
    {
      "cell_type": "code",
      "metadata": {
        "id": "5BA12M75R6W_",
        "colab_type": "code",
        "outputId": "63f2908a-2e48-461f-c478-d01a07cd5b5e",
        "colab": {
          "base_uri": "https://localhost:8080/",
          "height": 323
        }
      },
      "source": [
        "TOPK = 5\n",
        "\n",
        "recommendations, scores = vbpr.rank(UIDX)\n",
        "\n",
        "print(f\"\\nTOP {TOPK} RECOMMENDATIONS:\")\n",
        "rec_df = defaultdict(list)\n",
        "for i in recommendations[:TOPK]:\n",
        "  cf_contrib = vbpr.beta_item[i] + np.dot(vbpr.gamma_item[i], vbpr.gamma_user[UIDX])\n",
        "  vis_contrib = vbpr.visual_bias[i] + np.dot(vbpr.theta_item[i], vbpr.theta_user[UIDX])\n",
        "  rec_df[\"URL\"].append(f\"https://www.amazon.com/dp/{item_idx2id[i]}\")\n",
        "  rec_df[\"Score\"].append(scores[i])\n",
        "  rec_df[\"CF Contribution\"].append(cf_contrib)\n",
        "  rec_df[\"Visual Contribution\"].append(vis_contrib)\n",
        "  rec_df[\"Description\"].append(item_desc[item_idx2id[i]])\n",
        "pd.DataFrame(rec_df)"
      ],
      "execution_count": 22,
      "outputs": [
        {
          "output_type": "stream",
          "text": [
            "\n",
            "TOP 5 RECOMMENDATIONS:\n"
          ],
          "name": "stdout"
        },
        {
          "output_type": "execute_result",
          "data": {
            "text/html": [
              "<div>\n",
              "<style scoped>\n",
              "    .dataframe tbody tr th:only-of-type {\n",
              "        vertical-align: middle;\n",
              "    }\n",
              "\n",
              "    .dataframe tbody tr th {\n",
              "        vertical-align: top;\n",
              "    }\n",
              "\n",
              "    .dataframe thead th {\n",
              "        text-align: right;\n",
              "    }\n",
              "</style>\n",
              "<table border=\"1\" class=\"dataframe\">\n",
              "  <thead>\n",
              "    <tr style=\"text-align: right;\">\n",
              "      <th></th>\n",
              "      <th>URL</th>\n",
              "      <th>Score</th>\n",
              "      <th>CF Contribution</th>\n",
              "      <th>Visual Contribution</th>\n",
              "      <th>Description</th>\n",
              "    </tr>\n",
              "  </thead>\n",
              "  <tbody>\n",
              "    <tr>\n",
              "      <th>0</th>\n",
              "      <td>https://www.amazon.com/dp/B002M62ES6</td>\n",
              "      <td>7.457715</td>\n",
              "      <td>1.116012</td>\n",
              "      <td>6.341703</td>\n",
              "      <td>Accessorize your Spider-man Costume with these Gloves. Fits most child sizes from 4-12.</td>\n",
              "    </tr>\n",
              "    <tr>\n",
              "      <th>1</th>\n",
              "      <td>https://www.amazon.com/dp/B007DLVLAW</td>\n",
              "      <td>7.312136</td>\n",
              "      <td>1.509102</td>\n",
              "      <td>5.803034</td>\n",
              "      <td>Patented elastic shoelace and fastening system. Engineered and designed to improve performance and keep laces locked and secure throughout the course of a race, game, practice, or workout.</td>\n",
              "    </tr>\n",
              "    <tr>\n",
              "      <th>2</th>\n",
              "      <td>https://www.amazon.com/dp/B00BHPRRKS</td>\n",
              "      <td>6.589272</td>\n",
              "      <td>-0.176793</td>\n",
              "      <td>6.766065</td>\n",
              "      <td>Jumpsuit with muscle torso and arms attached belt.</td>\n",
              "    </tr>\n",
              "    <tr>\n",
              "      <th>3</th>\n",
              "      <td>https://www.amazon.com/dp/B0000CNR1L</td>\n",
              "      <td>6.477900</td>\n",
              "      <td>0.324168</td>\n",
              "      <td>6.153731</td>\n",
              "      <td>No more digging around in deep toiletries bags for that pair of tweezers or spare safety pin you know is in there somewhere. Made of clear vinyl for quick viewing, the ten compartments on this unique organizer keep everything from dental floss to shaving cream readily retrievable. Organized in four zippered rows, the compartments vary in size and keep contents secure. When empty, the bag folds to a flat 10 by 14 inches. When filled, it can be laid inside a suitcase. The hook allows the bag to be hung inside a garment bag if desired, and then looped over a bathroom door or towel hook for accessibility.  Made of PVC microfiber, the bag extends to 28 by 14 inches when fully opened.--Ann Bieri</td>\n",
              "    </tr>\n",
              "    <tr>\n",
              "      <th>4</th>\n",
              "      <td>https://www.amazon.com/dp/B00BXQF1XG</td>\n",
              "      <td>6.426818</td>\n",
              "      <td>0.020040</td>\n",
              "      <td>6.406779</td>\n",
              "      <td>Disguise Boy's Marvel Ultimate Spider-Man Classic Costume, 3T-4T Jumpsuit.</td>\n",
              "    </tr>\n",
              "  </tbody>\n",
              "</table>\n",
              "</div>"
            ],
            "text/plain": [
              "                                    URL  ...                                                                                                                                                                                                                                                                                                                                                                                                                                                                                                                                                                                                                                                                                                                 Description\n",
              "0  https://www.amazon.com/dp/B002M62ES6  ...  Accessorize your Spider-man Costume with these Gloves. Fits most child sizes from 4-12.                                                                                                                                                                                                                                                                                                                                                                                                                                                                                                                                                                                                                                   \n",
              "1  https://www.amazon.com/dp/B007DLVLAW  ...  Patented elastic shoelace and fastening system. Engineered and designed to improve performance and keep laces locked and secure throughout the course of a race, game, practice, or workout.                                                                                                                                                                                                                                                                                                                                                                                                                                                                                                                              \n",
              "2  https://www.amazon.com/dp/B00BHPRRKS  ...  Jumpsuit with muscle torso and arms attached belt.                                                                                                                                                                                                                                                                                                                                                                                                                                                                                                                                                                                                                                                                        \n",
              "3  https://www.amazon.com/dp/B0000CNR1L  ...  No more digging around in deep toiletries bags for that pair of tweezers or spare safety pin you know is in there somewhere. Made of clear vinyl for quick viewing, the ten compartments on this unique organizer keep everything from dental floss to shaving cream readily retrievable. Organized in four zippered rows, the compartments vary in size and keep contents secure. When empty, the bag folds to a flat 10 by 14 inches. When filled, it can be laid inside a suitcase. The hook allows the bag to be hung inside a garment bag if desired, and then looped over a bathroom door or towel hook for accessibility.  Made of PVC microfiber, the bag extends to 28 by 14 inches when fully opened.--Ann Bieri\n",
              "4  https://www.amazon.com/dp/B00BXQF1XG  ...  Disguise Boy's Marvel Ultimate Spider-Man Classic Costume, 3T-4T Jumpsuit.                                                                                                                                                                                                                                                                                                                                                                                                                                                                                                                                                                                                                                                \n",
              "\n",
              "[5 rows x 5 columns]"
            ]
          },
          "metadata": {
            "tags": []
          },
          "execution_count": 22
        }
      ]
    },
    {
      "cell_type": "markdown",
      "metadata": {
        "id": "G78hw2wTk5q-",
        "colab_type": "text"
      },
      "source": [
        "The recommendations (1, 3, 5), with high visual contribution, are indeed visually similar to the two items rated by the user.  That gives us some intuition on how VPBR model makes use of the item visual features in the predictions."
      ]
    },
    {
      "cell_type": "markdown",
      "metadata": {
        "id": "0FmiuTYiP_pB",
        "colab_type": "text"
      },
      "source": [
        "## References\n",
        "\n",
        "1.   Aggarwal, C. C. (2016). Recommender systems (Vol. 1). Cham: Springer International Publishing.\n",
        "2.   Ma, H., Yang, H., Lyu, M. R., & King, I. (2008, October). Sorec: social recommendation using probabilistic matrix factorization. In Proceedings of the 17th ACM conference on Information and knowledge management (pp. 931-940).\n",
        "3.   Wang, C., & Blei, D. M. (2011, August). Collaborative topic modeling for recommending scientific articles. In Proceedings of the 17th ACM SIGKDD international conference on Knowledge discovery and data mining (pp. 448-456).   \n",
        "4.   He, R., & McAuley, J. (2016, February). VBPR: visual bayesian personalized ranking from implicit feedback. In Thirtieth AAAI Conference on Artificial Intelligence.\n",
        "5.   Cornac - A Comparative Framework for Multimodal Recommender Systems (https://cornac.preferred.ai/)\n",
        "\n"
      ]
    }
  ]
}