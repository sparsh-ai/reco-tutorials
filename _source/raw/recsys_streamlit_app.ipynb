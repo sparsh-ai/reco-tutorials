{
 "cells": [
  {
   "cell_type": "code",
   "execution_count": null,
   "metadata": {
    "id": "W2Ha-09wcsGo"
   },
   "outputs": [],
   "source": [
    "!pip install -U streamlit"
   ]
  },
  {
   "cell_type": "code",
   "execution_count": null,
   "metadata": {
    "id": "Aux2tI2BN_Aa"
   },
   "outputs": [],
   "source": [
    "# !pip install -q jupyter-dash==0.3.0rc1 dash-bootstrap-components"
   ]
  },
  {
   "cell_type": "code",
   "execution_count": 1,
   "metadata": {
    "colab": {
     "base_uri": "https://localhost:8080/"
    },
    "executionInfo": {
     "elapsed": 2223,
     "status": "ok",
     "timestamp": 1611056788255,
     "user": {
      "displayName": "Sparsh Agarwal",
      "photoUrl": "",
      "userId": "13037694610922482904"
     },
     "user_tz": -330
    },
    "id": "Hl6RnEs1Mt3B",
    "outputId": "daecf84a-47da-4533-fbd7-3c5748dafaf8"
   },
   "outputs": [
    {
     "name": "stdout",
     "output_type": "stream",
     "text": [
      "/content/pair\n"
     ]
    }
   ],
   "source": [
    "# %cd /content\r\n",
    "# !git clone https://github.com/yuanhunglo/pair.git\r\n",
    "# %cd pair\r\n",
    "# !pip install -r requirements.txt\r\n",
    "# !pip install -q colab-everything"
   ]
  },
  {
   "cell_type": "code",
   "execution_count": null,
   "metadata": {
    "id": "2pFgr93gN2zt"
   },
   "outputs": [],
   "source": [
    "import streamlit as st\r\n",
    "from colab_everything import ColabStreamlit\r\n",
    "\r\n",
    "ColabStreamlit('streamlit_app.py')"
   ]
  },
  {
   "cell_type": "code",
   "execution_count": 18,
   "metadata": {
    "executionInfo": {
     "elapsed": 3546,
     "status": "ok",
     "timestamp": 1611053824924,
     "user": {
      "displayName": "Sparsh Agarwal",
      "photoUrl": "",
      "userId": "13037694610922482904"
     },
     "user_tz": -330
    },
    "id": "Dy0RffQkSKNA"
   },
   "outputs": [],
   "source": [
    "# !mkdir ./skincare\r\n",
    "# !cp -r /content/final_project/Dash_App_and_Models/* ./skincare\r\n",
    "# !cp \"/content/drive/MyDrive/Colab Notebooks/recsys.ipynb\" ./skincare"
   ]
  },
  {
   "cell_type": "markdown",
   "metadata": {
    "id": "_n0yexWaSJMD"
   },
   "source": [
    "---"
   ]
  },
  {
   "cell_type": "code",
   "execution_count": 7,
   "metadata": {
    "executionInfo": {
     "elapsed": 1717,
     "status": "ok",
     "timestamp": 1611057401832,
     "user": {
      "displayName": "Sparsh Agarwal",
      "photoUrl": "",
      "userId": "13037694610922482904"
     },
     "user_tz": -330
    },
    "id": "SusbN-nmPpjm"
   },
   "outputs": [],
   "source": [
    "!mkdir ./ikea\r\n",
    "!cp -r /content/pair/* ./ikea"
   ]
  },
  {
   "cell_type": "code",
   "execution_count": null,
   "metadata": {
    "id": "a8gWbaoafqHp"
   },
   "outputs": [],
   "source": []
  }
 ],
 "metadata": {
  "colab": {
   "authorship_tag": "ABX9TyOukc9LCeyRjpYPR0wVd5FG",
   "collapsed_sections": [],
   "mount_file_id": "1adKlsVLfIVoDty66WO81b5SbCukeKfI0",
   "name": "recsys-app.ipynb",
   "provenance": []
  },
  "kernelspec": {
   "display_name": "Python 3",
   "language": "python",
   "name": "python3"
  },
  "language_info": {
   "codemirror_mode": {
    "name": "ipython",
    "version": 3
   },
   "file_extension": ".py",
   "mimetype": "text/x-python",
   "name": "python",
   "nbconvert_exporter": "python",
   "pygments_lexer": "ipython3",
   "version": "3.7.3"
  }
 },
 "nbformat": 4,
 "nbformat_minor": 4
}
