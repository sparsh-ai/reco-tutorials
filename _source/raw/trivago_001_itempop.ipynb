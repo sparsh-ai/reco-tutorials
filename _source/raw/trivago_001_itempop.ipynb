{
 "cells": [
  {
   "cell_type": "markdown",
   "metadata": {
    "id": "drB4hpf7bGg-"
   },
   "source": [
    "Previous work"
   ]
  },
  {
   "cell_type": "code",
   "execution_count": null,
   "metadata": {
    "id": "IXwMoTvVCAMX"
   },
   "outputs": [],
   "source": [
    "# !git clone https://github.com/rosetta-ai/rosetta_recsys2019.git\n",
    "# !git clone https://github.com/recsyschallenge/2019.git\n",
    "# !git clone https://github.com/logicai-io/recsys2019.git\n",
    "# !git clone https://github.com/mustelideos/recsys-challenge-2019.git\n",
    "# !git clone https://github.com/MaurizioFD/recsys-challenge-2019-trivago.git\n",
    "# !git clone https://github.com/rapidsai/deeplearning/tree/main/RecSys2019\n",
    "# !git clone https://github.com/jayg996/recsyschallenge.git\n",
    "# !git clone https://github.com/treyounce/Trivago-Rec-Sys.git\n",
    "# !git clone https://github.com/trivago/recsys-challenge-2019-benchmarks\n",
    "# !git clone https://github.com/trivago/recsys-challenge-2019-data-exploration"
   ]
  },
  {
   "cell_type": "markdown",
   "metadata": {
    "id": "6cr9BgsEbDdM"
   },
   "source": [
    "Data sources"
   ]
  },
  {
   "cell_type": "code",
   "execution_count": null,
   "metadata": {
    "id": "SqIjxwD7O9mf"
   },
   "outputs": [],
   "source": [
    "# !pip install -q -U kaggle\n",
    "# !pip install --upgrade --force-reinstall --no-deps kaggle\n",
    "# !mkdir ~/.kaggle\n",
    "# !cp /content/drive/MyDrive/kaggle.json ~/.kaggle/\n",
    "# !chmod 600 ~/.kaggle/kaggle.json\n",
    "# !kaggle datasets download -d pranavmahajan725/trivagorecsyschallengedata2019\n",
    "# !unzip /content/recsys_case_trivago/trivagorecsyschallengedata2019.zip -d ./data\n",
    "# !rm trivagorecsyschallengedata2019.zip"
   ]
  },
  {
   "cell_type": "code",
   "execution_count": null,
   "metadata": {
    "id": "Vxam1up1Yg7M"
   },
   "outputs": [],
   "source": [
    "# !mkdir ./data2 && cd ./data2 && \\\n",
    "# wget https://recsys2019data.trivago.com/train.csv && \\\n",
    "# wget https://recsys2019data.trivago.com/test.csv && \\\n",
    "# wget https://recsys2019data.trivago.com/item_metadata.csv && \\\n",
    "# wget https://recsys2019data.trivago.com/validation.csv && \\\n",
    "# wget https://recsys2019data.trivago.com/confirmation.csv"
   ]
  },
  {
   "cell_type": "code",
   "execution_count": null,
   "metadata": {
    "id": "6KT5csiFlI_L"
   },
   "outputs": [],
   "source": [
    "# wget https://storage.googleapis.com/logicai-recsys2019/trivagoRecSysChallengeData2019_v2.zip\n",
    "# unzip trivagoRecSysChallengeData2019_v2.zip\n",
    "# wget https://storage.googleapis.com/logicai-recsys2019/validation_items.csv"
   ]
  },
  {
   "cell_type": "code",
   "execution_count": null,
   "metadata": {
    "id": "fwV7vWm6X3Ma"
   },
   "outputs": [],
   "source": [
    "# !cp /content/trivago/data/*.csv /content/drive/MyDrive/TempData\n",
    "\n",
    "# !wget https://recsys2019data.trivago.com/test_ground_truth.csv\n",
    "# !cp test_ground_truth.csv /content/drive/MyDrive/TempData\n",
    "\n",
    "# !wget https://recsys2019data.trivago.com/validation.csv\n",
    "# !cp validation.csv /content/drive/MyDrive/TempData\n",
    "\n",
    "# !echo '*.csv' >> .gitignore\n",
    "# !cd ./data && touch .gitkeep\n",
    "# !cat .gitignore\n",
    "\n",
    "# !mkdir -p ./data && cp /content/drive/MyDrive/TempData/*.csv ./data"
   ]
  },
  {
   "cell_type": "markdown",
   "metadata": {
    "id": "knR0wuqJi1ZH"
   },
   "source": [
    "Papers"
   ]
  },
  {
   "cell_type": "code",
   "execution_count": null,
   "metadata": {
    "id": "WqrZpOESZvzU"
   },
   "outputs": [],
   "source": [
    "# !gdown --id 1SOoO0vBYXEpE6-1MY0MYNBvCQnQRjp5_\n",
    "# !gdown --id 1WxJ9ggLE3UkOUcWJq98wRjg4mg1dBV6s\n",
    "# !gdown --id 1AlCfM3Sz4SIg-9MPPwaauhORjsVfztSF\n",
    "# !gdown --id 1Y-kkaK-oqDoE6OuyXFgfVabrGZV_dVBb\n",
    "# !gdown --id 1SsnLJyDCEQimRJWGXi4ziLJezXnG2t1q\n",
    "# !gdown --id 1UQSuw-9DQ-xDq5_h-0b3n4oIGE6A7RAo\n",
    "# !gdown --id 1R5LGJgbOkSDCB_dbXZg8-elMhVEbhiVD\n",
    "# !gdown --id 1FzNc3-3InOsLmNve2ZrQp_wQuMcKdiAz\n",
    "# !gdown --id 1hQmVwKGtyT3C7fdY4hwViIEMpmsf4kGC\n",
    "# !gdown --id 1LkxJ0HHsNGvjYZkL4KvVeftK4PPUqXNi\n",
    "# !find . -name 'RSC*.pdf' | zip papers.zip -@"
   ]
  },
  {
   "cell_type": "code",
   "execution_count": null,
   "metadata": {
    "id": "ZB7JjIttZa5-"
   },
   "outputs": [],
   "source": [
    "import pandas as pd\n",
    "from src import functions as f\n",
    "pd.set_option('display.max_colwidth', None)\n",
    "%reload_ext autoreload\n",
    "%autoreload 2"
   ]
  },
  {
   "cell_type": "code",
   "execution_count": null,
   "metadata": {
    "colab": {
     "base_uri": "https://localhost:8080/",
     "height": 309
    },
    "executionInfo": {
     "elapsed": 63678,
     "status": "ok",
     "timestamp": 1617198811906,
     "user": {
      "displayName": "Sparsh Agarwal",
      "photoUrl": "",
      "userId": "13037694610922482904"
     },
     "user_tz": -330
    },
    "id": "2HZaC2anjTaO",
    "outputId": "2a2ce912-145f-4594-b2ab-b3bad1dd8f49"
   },
   "outputs": [
    {
     "data": {
      "text/html": [
       "<div>\n",
       "<style scoped>\n",
       "    .dataframe tbody tr th:only-of-type {\n",
       "        vertical-align: middle;\n",
       "    }\n",
       "\n",
       "    .dataframe tbody tr th {\n",
       "        vertical-align: top;\n",
       "    }\n",
       "\n",
       "    .dataframe thead th {\n",
       "        text-align: right;\n",
       "    }\n",
       "</style>\n",
       "<table border=\"1\" class=\"dataframe\">\n",
       "  <thead>\n",
       "    <tr style=\"text-align: right;\">\n",
       "      <th></th>\n",
       "      <th>user_id</th>\n",
       "      <th>session_id</th>\n",
       "      <th>timestamp</th>\n",
       "      <th>step</th>\n",
       "      <th>action_type</th>\n",
       "      <th>reference</th>\n",
       "      <th>platform</th>\n",
       "      <th>city</th>\n",
       "      <th>device</th>\n",
       "      <th>current_filters</th>\n",
       "      <th>impressions</th>\n",
       "      <th>prices</th>\n",
       "    </tr>\n",
       "  </thead>\n",
       "  <tbody>\n",
       "    <tr>\n",
       "      <th>0</th>\n",
       "      <td>00RL8Z82B2Z1</td>\n",
       "      <td>aff3928535f48</td>\n",
       "      <td>1541037460</td>\n",
       "      <td>1</td>\n",
       "      <td>search for poi</td>\n",
       "      <td>Newtown</td>\n",
       "      <td>AU</td>\n",
       "      <td>Sydney, Australia</td>\n",
       "      <td>mobile</td>\n",
       "      <td>NaN</td>\n",
       "      <td>NaN</td>\n",
       "      <td>NaN</td>\n",
       "    </tr>\n",
       "    <tr>\n",
       "      <th>1</th>\n",
       "      <td>00RL8Z82B2Z1</td>\n",
       "      <td>aff3928535f48</td>\n",
       "      <td>1541037522</td>\n",
       "      <td>2</td>\n",
       "      <td>interaction item image</td>\n",
       "      <td>666856</td>\n",
       "      <td>AU</td>\n",
       "      <td>Sydney, Australia</td>\n",
       "      <td>mobile</td>\n",
       "      <td>NaN</td>\n",
       "      <td>NaN</td>\n",
       "      <td>NaN</td>\n",
       "    </tr>\n",
       "    <tr>\n",
       "      <th>2</th>\n",
       "      <td>00RL8Z82B2Z1</td>\n",
       "      <td>aff3928535f48</td>\n",
       "      <td>1541037522</td>\n",
       "      <td>3</td>\n",
       "      <td>interaction item image</td>\n",
       "      <td>666856</td>\n",
       "      <td>AU</td>\n",
       "      <td>Sydney, Australia</td>\n",
       "      <td>mobile</td>\n",
       "      <td>NaN</td>\n",
       "      <td>NaN</td>\n",
       "      <td>NaN</td>\n",
       "    </tr>\n",
       "    <tr>\n",
       "      <th>3</th>\n",
       "      <td>00RL8Z82B2Z1</td>\n",
       "      <td>aff3928535f48</td>\n",
       "      <td>1541037532</td>\n",
       "      <td>4</td>\n",
       "      <td>interaction item image</td>\n",
       "      <td>666856</td>\n",
       "      <td>AU</td>\n",
       "      <td>Sydney, Australia</td>\n",
       "      <td>mobile</td>\n",
       "      <td>NaN</td>\n",
       "      <td>NaN</td>\n",
       "      <td>NaN</td>\n",
       "    </tr>\n",
       "    <tr>\n",
       "      <th>4</th>\n",
       "      <td>00RL8Z82B2Z1</td>\n",
       "      <td>aff3928535f48</td>\n",
       "      <td>1541037532</td>\n",
       "      <td>5</td>\n",
       "      <td>interaction item image</td>\n",
       "      <td>109038</td>\n",
       "      <td>AU</td>\n",
       "      <td>Sydney, Australia</td>\n",
       "      <td>mobile</td>\n",
       "      <td>NaN</td>\n",
       "      <td>NaN</td>\n",
       "      <td>NaN</td>\n",
       "    </tr>\n",
       "  </tbody>\n",
       "</table>\n",
       "</div>"
      ],
      "text/plain": [
       "        user_id     session_id   timestamp  ...  current_filters impressions prices\n",
       "0  00RL8Z82B2Z1  aff3928535f48  1541037460  ...              NaN         NaN    NaN\n",
       "1  00RL8Z82B2Z1  aff3928535f48  1541037522  ...              NaN         NaN    NaN\n",
       "2  00RL8Z82B2Z1  aff3928535f48  1541037522  ...              NaN         NaN    NaN\n",
       "3  00RL8Z82B2Z1  aff3928535f48  1541037532  ...              NaN         NaN    NaN\n",
       "4  00RL8Z82B2Z1  aff3928535f48  1541037532  ...              NaN         NaN    NaN\n",
       "\n",
       "[5 rows x 12 columns]"
      ]
     },
     "execution_count": 14,
     "metadata": {
      "tags": []
     },
     "output_type": "execute_result"
    }
   ],
   "source": [
    "train_pd = pd.read_csv('./data/train.csv')\n",
    "train_pd.head()"
   ]
  },
  {
   "cell_type": "code",
   "execution_count": null,
   "metadata": {
    "colab": {
     "base_uri": "https://localhost:8080/",
     "height": 394
    },
    "executionInfo": {
     "elapsed": 14498,
     "status": "ok",
     "timestamp": 1617201045867,
     "user": {
      "displayName": "Sparsh Agarwal",
      "photoUrl": "",
      "userId": "13037694610922482904"
     },
     "user_tz": -330
    },
    "id": "4PNxFveFsJb7",
    "outputId": "583d1238-d5de-485d-b67d-d19e1785ada3"
   },
   "outputs": [
    {
     "data": {
      "text/html": [
       "<div>\n",
       "<style scoped>\n",
       "    .dataframe tbody tr th:only-of-type {\n",
       "        vertical-align: middle;\n",
       "    }\n",
       "\n",
       "    .dataframe tbody tr th {\n",
       "        vertical-align: top;\n",
       "    }\n",
       "\n",
       "    .dataframe thead th {\n",
       "        text-align: right;\n",
       "    }\n",
       "</style>\n",
       "<table border=\"1\" class=\"dataframe\">\n",
       "  <thead>\n",
       "    <tr style=\"text-align: right;\">\n",
       "      <th></th>\n",
       "      <th>user_id</th>\n",
       "      <th>session_id</th>\n",
       "      <th>timestamp</th>\n",
       "      <th>step</th>\n",
       "      <th>action_type</th>\n",
       "      <th>reference</th>\n",
       "      <th>platform</th>\n",
       "      <th>city</th>\n",
       "      <th>device</th>\n",
       "      <th>current_filters</th>\n",
       "      <th>impressions</th>\n",
       "      <th>prices</th>\n",
       "    </tr>\n",
       "  </thead>\n",
       "  <tbody>\n",
       "    <tr>\n",
       "      <th>0</th>\n",
       "      <td>004A07DM0IDW</td>\n",
       "      <td>1d688ec168932</td>\n",
       "      <td>1541555614</td>\n",
       "      <td>1</td>\n",
       "      <td>interaction item image</td>\n",
       "      <td>2059240</td>\n",
       "      <td>CO</td>\n",
       "      <td>Santa Marta, Colombia</td>\n",
       "      <td>mobile</td>\n",
       "      <td>NaN</td>\n",
       "      <td>NaN</td>\n",
       "      <td>NaN</td>\n",
       "    </tr>\n",
       "    <tr>\n",
       "      <th>1</th>\n",
       "      <td>004A07DM0IDW</td>\n",
       "      <td>1d688ec168932</td>\n",
       "      <td>1541555614</td>\n",
       "      <td>2</td>\n",
       "      <td>interaction item image</td>\n",
       "      <td>2059240</td>\n",
       "      <td>CO</td>\n",
       "      <td>Santa Marta, Colombia</td>\n",
       "      <td>mobile</td>\n",
       "      <td>NaN</td>\n",
       "      <td>NaN</td>\n",
       "      <td>NaN</td>\n",
       "    </tr>\n",
       "    <tr>\n",
       "      <th>2</th>\n",
       "      <td>004A07DM0IDW</td>\n",
       "      <td>1d688ec168932</td>\n",
       "      <td>1541555696</td>\n",
       "      <td>3</td>\n",
       "      <td>clickout item</td>\n",
       "      <td>1050068</td>\n",
       "      <td>CO</td>\n",
       "      <td>Santa Marta, Colombia</td>\n",
       "      <td>mobile</td>\n",
       "      <td>NaN</td>\n",
       "      <td>2059240|2033381|1724779|127131|399441|103357|1...</td>\n",
       "      <td>70|46|48|76|65|65|106|66|87|43|52|44|60|61|50|...</td>\n",
       "    </tr>\n",
       "    <tr>\n",
       "      <th>3</th>\n",
       "      <td>004A07DM0IDW</td>\n",
       "      <td>1d688ec168932</td>\n",
       "      <td>1541555707</td>\n",
       "      <td>4</td>\n",
       "      <td>clickout item</td>\n",
       "      <td>1050068</td>\n",
       "      <td>CO</td>\n",
       "      <td>Santa Marta, Colombia</td>\n",
       "      <td>mobile</td>\n",
       "      <td>NaN</td>\n",
       "      <td>2059240|2033381|1724779|127131|399441|103357|1...</td>\n",
       "      <td>70|46|48|76|65|65|106|66|87|43|52|44|60|61|50|...</td>\n",
       "    </tr>\n",
       "    <tr>\n",
       "      <th>4</th>\n",
       "      <td>004A07DM0IDW</td>\n",
       "      <td>1d688ec168932</td>\n",
       "      <td>1541555717</td>\n",
       "      <td>5</td>\n",
       "      <td>clickout item</td>\n",
       "      <td>1050068</td>\n",
       "      <td>CO</td>\n",
       "      <td>Santa Marta, Colombia</td>\n",
       "      <td>mobile</td>\n",
       "      <td>NaN</td>\n",
       "      <td>2059240|2033381|1724779|127131|399441|103357|1...</td>\n",
       "      <td>70|46|48|76|65|65|106|66|87|43|52|44|60|61|50|...</td>\n",
       "    </tr>\n",
       "  </tbody>\n",
       "</table>\n",
       "</div>"
      ],
      "text/plain": [
       "        user_id  ...                                             prices\n",
       "0  004A07DM0IDW  ...                                                NaN\n",
       "1  004A07DM0IDW  ...                                                NaN\n",
       "2  004A07DM0IDW  ...  70|46|48|76|65|65|106|66|87|43|52|44|60|61|50|...\n",
       "3  004A07DM0IDW  ...  70|46|48|76|65|65|106|66|87|43|52|44|60|61|50|...\n",
       "4  004A07DM0IDW  ...  70|46|48|76|65|65|106|66|87|43|52|44|60|61|50|...\n",
       "\n",
       "[5 rows x 12 columns]"
      ]
     },
     "execution_count": 39,
     "metadata": {
      "tags": []
     },
     "output_type": "execute_result"
    }
   ],
   "source": [
    "test_pd = pd.read_csv('./data/test.csv')\n",
    "test_pd.head()"
   ]
  },
  {
   "cell_type": "code",
   "execution_count": null,
   "metadata": {
    "colab": {
     "base_uri": "https://localhost:8080/",
     "height": 204
    },
    "executionInfo": {
     "elapsed": 2901,
     "status": "ok",
     "timestamp": 1617200934769,
     "user": {
      "displayName": "Sparsh Agarwal",
      "photoUrl": "",
      "userId": "13037694610922482904"
     },
     "user_tz": -330
    },
    "id": "5gybjmktr2uZ",
    "outputId": "c2028098-8954-403c-cd21-e2491b2a5974"
   },
   "outputs": [
    {
     "data": {
      "text/html": [
       "<div>\n",
       "<style scoped>\n",
       "    .dataframe tbody tr th:only-of-type {\n",
       "        vertical-align: middle;\n",
       "    }\n",
       "\n",
       "    .dataframe tbody tr th {\n",
       "        vertical-align: top;\n",
       "    }\n",
       "\n",
       "    .dataframe thead th {\n",
       "        text-align: right;\n",
       "    }\n",
       "</style>\n",
       "<table border=\"1\" class=\"dataframe\">\n",
       "  <thead>\n",
       "    <tr style=\"text-align: right;\">\n",
       "      <th></th>\n",
       "      <th>user_id</th>\n",
       "      <th>session_id</th>\n",
       "      <th>timestamp</th>\n",
       "      <th>step</th>\n",
       "      <th>item_recommendations</th>\n",
       "    </tr>\n",
       "  </thead>\n",
       "  <tbody>\n",
       "    <tr>\n",
       "      <th>0</th>\n",
       "      <td>000324D9BBUC</td>\n",
       "      <td>89643988fdbfb</td>\n",
       "      <td>1541593942</td>\n",
       "      <td>10</td>\n",
       "      <td>924795 106315 1033140 119494 101758 903037 105...</td>\n",
       "    </tr>\n",
       "    <tr>\n",
       "      <th>1</th>\n",
       "      <td>0004Q49X39PY</td>\n",
       "      <td>9de47d9a66494</td>\n",
       "      <td>1541641157</td>\n",
       "      <td>1</td>\n",
       "      <td>3505150 3812004 2227896 2292254 3184842 222702...</td>\n",
       "    </tr>\n",
       "    <tr>\n",
       "      <th>2</th>\n",
       "      <td>0004Q49X39PY</td>\n",
       "      <td>beea5c27030cb</td>\n",
       "      <td>1541561202</td>\n",
       "      <td>1</td>\n",
       "      <td>4476010 3505150 3812004 2227896 2292254 222702...</td>\n",
       "    </tr>\n",
       "    <tr>\n",
       "      <th>3</th>\n",
       "      <td>00071784XQ6B</td>\n",
       "      <td>9617600e1ba7c</td>\n",
       "      <td>1541630328</td>\n",
       "      <td>2</td>\n",
       "      <td>22854 3067559 22721 22713 16121 22772 22727 22...</td>\n",
       "    </tr>\n",
       "    <tr>\n",
       "      <th>4</th>\n",
       "      <td>0008BO33KUQ0</td>\n",
       "      <td>2d0e2102ee0dc</td>\n",
       "      <td>1541636411</td>\n",
       "      <td>6</td>\n",
       "      <td>9857656 5849628 655716 1352530 502066 1405084 ...</td>\n",
       "    </tr>\n",
       "  </tbody>\n",
       "</table>\n",
       "</div>"
      ],
      "text/plain": [
       "        user_id  ...                               item_recommendations\n",
       "0  000324D9BBUC  ...  924795 106315 1033140 119494 101758 903037 105...\n",
       "1  0004Q49X39PY  ...  3505150 3812004 2227896 2292254 3184842 222702...\n",
       "2  0004Q49X39PY  ...  4476010 3505150 3812004 2227896 2292254 222702...\n",
       "3  00071784XQ6B  ...  22854 3067559 22721 22713 16121 22772 22727 22...\n",
       "4  0008BO33KUQ0  ...  9857656 5849628 655716 1352530 502066 1405084 ...\n",
       "\n",
       "[5 rows x 5 columns]"
      ]
     },
     "execution_count": 38,
     "metadata": {
      "tags": []
     },
     "output_type": "execute_result"
    }
   ],
   "source": [
    "subm_csv  = pd.read_csv('./data/submission_popular.csv')\n",
    "subm_csv.head()"
   ]
  },
  {
   "cell_type": "code",
   "execution_count": null,
   "metadata": {
    "colab": {
     "base_uri": "https://localhost:8080/",
     "height": 221
    },
    "executionInfo": {
     "elapsed": 4385,
     "status": "ok",
     "timestamp": 1617201112292,
     "user": {
      "displayName": "Sparsh Agarwal",
      "photoUrl": "",
      "userId": "13037694610922482904"
     },
     "user_tz": -330
    },
    "id": "tR6-aIpzoS4j",
    "outputId": "4407aeb5-02a6-4367-cbf3-af3f0524a61d"
   },
   "outputs": [
    {
     "name": "stdout",
     "output_type": "stream",
     "text": [
      "Get popular items...\n"
     ]
    },
    {
     "data": {
      "text/html": [
       "<div>\n",
       "<style scoped>\n",
       "    .dataframe tbody tr th:only-of-type {\n",
       "        vertical-align: middle;\n",
       "    }\n",
       "\n",
       "    .dataframe tbody tr th {\n",
       "        vertical-align: top;\n",
       "    }\n",
       "\n",
       "    .dataframe thead th {\n",
       "        text-align: right;\n",
       "    }\n",
       "</style>\n",
       "<table border=\"1\" class=\"dataframe\">\n",
       "  <thead>\n",
       "    <tr style=\"text-align: right;\">\n",
       "      <th></th>\n",
       "      <th>reference</th>\n",
       "      <th>n_clicks</th>\n",
       "    </tr>\n",
       "  </thead>\n",
       "  <tbody>\n",
       "    <tr>\n",
       "      <th>0</th>\n",
       "      <td>100000</td>\n",
       "      <td>1</td>\n",
       "    </tr>\n",
       "    <tr>\n",
       "      <th>1</th>\n",
       "      <td>1000005</td>\n",
       "      <td>2</td>\n",
       "    </tr>\n",
       "    <tr>\n",
       "      <th>2</th>\n",
       "      <td>100001</td>\n",
       "      <td>1</td>\n",
       "    </tr>\n",
       "    <tr>\n",
       "      <th>3</th>\n",
       "      <td>10000234</td>\n",
       "      <td>1</td>\n",
       "    </tr>\n",
       "    <tr>\n",
       "      <th>4</th>\n",
       "      <td>1000029</td>\n",
       "      <td>3</td>\n",
       "    </tr>\n",
       "  </tbody>\n",
       "</table>\n",
       "</div>"
      ],
      "text/plain": [
       "   reference  n_clicks\n",
       "0     100000         1\n",
       "1    1000005         2\n",
       "2     100001         1\n",
       "3   10000234         1\n",
       "4    1000029         3"
      ]
     },
     "execution_count": 41,
     "metadata": {
      "tags": []
     },
     "output_type": "execute_result"
    }
   ],
   "source": [
    "print(\"Get popular items...\")\n",
    "df_popular = f.get_popularity(train_pd)\n",
    "df_popular.head()"
   ]
  },
  {
   "cell_type": "code",
   "execution_count": null,
   "metadata": {
    "colab": {
     "base_uri": "https://localhost:8080/",
     "height": 343
    },
    "executionInfo": {
     "elapsed": 1751,
     "status": "ok",
     "timestamp": 1617201796704,
     "user": {
      "displayName": "Sparsh Agarwal",
      "photoUrl": "",
      "userId": "13037694610922482904"
     },
     "user_tz": -330
    },
    "id": "d3XnKcGApSu0",
    "outputId": "cb29a7ed-479d-4426-c7fa-6138182a6e55"
   },
   "outputs": [
    {
     "name": "stdout",
     "output_type": "stream",
     "text": [
      "Identify target rows...\n"
     ]
    },
    {
     "data": {
      "text/html": [
       "<div>\n",
       "<style scoped>\n",
       "    .dataframe tbody tr th:only-of-type {\n",
       "        vertical-align: middle;\n",
       "    }\n",
       "\n",
       "    .dataframe tbody tr th {\n",
       "        vertical-align: top;\n",
       "    }\n",
       "\n",
       "    .dataframe thead th {\n",
       "        text-align: right;\n",
       "    }\n",
       "</style>\n",
       "<table border=\"1\" class=\"dataframe\">\n",
       "  <thead>\n",
       "    <tr style=\"text-align: right;\">\n",
       "      <th></th>\n",
       "      <th>user_id</th>\n",
       "      <th>session_id</th>\n",
       "      <th>timestamp</th>\n",
       "      <th>step</th>\n",
       "      <th>action_type</th>\n",
       "      <th>reference</th>\n",
       "      <th>platform</th>\n",
       "      <th>city</th>\n",
       "      <th>device</th>\n",
       "      <th>current_filters</th>\n",
       "      <th>impressions</th>\n",
       "      <th>prices</th>\n",
       "    </tr>\n",
       "  </thead>\n",
       "  <tbody>\n",
       "    <tr>\n",
       "      <th>6</th>\n",
       "      <td>004A07DM0IDW</td>\n",
       "      <td>1d688ec168932</td>\n",
       "      <td>1541555799</td>\n",
       "      <td>7</td>\n",
       "      <td>clickout item</td>\n",
       "      <td>NaN</td>\n",
       "      <td>CO</td>\n",
       "      <td>Santa Marta, Colombia</td>\n",
       "      <td>mobile</td>\n",
       "      <td>NaN</td>\n",
       "      <td>2059240|2033381|1724779|127131|399441|103357|1...</td>\n",
       "      <td>70|46|48|76|65|65|106|66|87|43|52|44|60|61|50|...</td>\n",
       "    </tr>\n",
       "    <tr>\n",
       "      <th>8</th>\n",
       "      <td>009RGHI3G9A3</td>\n",
       "      <td>f05ab0de907e2</td>\n",
       "      <td>1541570940</td>\n",
       "      <td>2</td>\n",
       "      <td>clickout item</td>\n",
       "      <td>NaN</td>\n",
       "      <td>IN</td>\n",
       "      <td>Nathdwara, India</td>\n",
       "      <td>mobile</td>\n",
       "      <td>NaN</td>\n",
       "      <td>10884872|7065316</td>\n",
       "      <td>64|28</td>\n",
       "    </tr>\n",
       "    <tr>\n",
       "      <th>10</th>\n",
       "      <td>00Y1Z24X8084</td>\n",
       "      <td>26b6d294d66e7</td>\n",
       "      <td>1541651823</td>\n",
       "      <td>2</td>\n",
       "      <td>clickout item</td>\n",
       "      <td>NaN</td>\n",
       "      <td>PH</td>\n",
       "      <td>Iloilo City, Philippines</td>\n",
       "      <td>mobile</td>\n",
       "      <td>NaN</td>\n",
       "      <td>2714480|4476010|3843244|3833012|9017890|198100...</td>\n",
       "      <td>74|14|22|38|55|44|28|34|23|27|12|108|19|21|36|...</td>\n",
       "    </tr>\n",
       "    <tr>\n",
       "      <th>15</th>\n",
       "      <td>01V3WDTDM5CU</td>\n",
       "      <td>07628a0f5be0b</td>\n",
       "      <td>1541575643</td>\n",
       "      <td>5</td>\n",
       "      <td>clickout item</td>\n",
       "      <td>NaN</td>\n",
       "      <td>PL</td>\n",
       "      <td>Wisla, Poland</td>\n",
       "      <td>mobile</td>\n",
       "      <td>Sort by Price</td>\n",
       "      <td>3565720|2947584|4115018|2039671|3836538|801409...</td>\n",
       "      <td>16|18|20|21|22|22|28|28|28|30|30|33|33|35|35|3...</td>\n",
       "    </tr>\n",
       "    <tr>\n",
       "      <th>61</th>\n",
       "      <td>02AOAVF9PVYH</td>\n",
       "      <td>4a01c3afbc224</td>\n",
       "      <td>1541681278</td>\n",
       "      <td>46</td>\n",
       "      <td>clickout item</td>\n",
       "      <td>NaN</td>\n",
       "      <td>JP</td>\n",
       "      <td>Yokohama, Japan</td>\n",
       "      <td>desktop</td>\n",
       "      <td>Hotel|Resort|Sort by Price</td>\n",
       "      <td>1451247|559056|1045096|1963879|693596|1967173|...</td>\n",
       "      <td>80|81|81|82|82|82|83|83|83|85|85|88|88|91|92|9...</td>\n",
       "    </tr>\n",
       "  </tbody>\n",
       "</table>\n",
       "</div>"
      ],
      "text/plain": [
       "         user_id  ...                                             prices\n",
       "6   004A07DM0IDW  ...  70|46|48|76|65|65|106|66|87|43|52|44|60|61|50|...\n",
       "8   009RGHI3G9A3  ...                                              64|28\n",
       "10  00Y1Z24X8084  ...  74|14|22|38|55|44|28|34|23|27|12|108|19|21|36|...\n",
       "15  01V3WDTDM5CU  ...  16|18|20|21|22|22|28|28|28|30|30|33|33|35|35|3...\n",
       "61  02AOAVF9PVYH  ...  80|81|81|82|82|82|83|83|83|85|85|88|88|91|92|9...\n",
       "\n",
       "[5 rows x 12 columns]"
      ]
     },
     "execution_count": 56,
     "metadata": {
      "tags": []
     },
     "output_type": "execute_result"
    }
   ],
   "source": [
    "print(\"Identify target rows...\")\n",
    "df_target = f.get_submission_target(test_pd)\n",
    "df_target.head()"
   ]
  },
  {
   "cell_type": "code",
   "execution_count": null,
   "metadata": {
    "colab": {
     "base_uri": "https://localhost:8080/"
    },
    "executionInfo": {
     "elapsed": 969,
     "status": "ok",
     "timestamp": 1617203219470,
     "user": {
      "displayName": "Sparsh Agarwal",
      "photoUrl": "",
      "userId": "13037694610922482904"
     },
     "user_tz": -330
    },
    "id": "XVr52GLq0LK7",
    "outputId": "6f8eda06-08f6-4ad3-83fc-19cf5574d0ec"
   },
   "outputs": [
    {
     "data": {
      "text/plain": [
       "False"
      ]
     },
     "execution_count": 69,
     "metadata": {
      "tags": []
     },
     "output_type": "execute_result"
    }
   ],
   "source": [
    "subm_csv.equals(train_pd)"
   ]
  },
  {
   "cell_type": "code",
   "execution_count": null,
   "metadata": {
    "colab": {
     "base_uri": "https://localhost:8080/",
     "height": 391
    },
    "executionInfo": {
     "elapsed": 951,
     "status": "ok",
     "timestamp": 1617202159727,
     "user": {
      "displayName": "Sparsh Agarwal",
      "photoUrl": "",
      "userId": "13037694610922482904"
     },
     "user_tz": -330
    },
    "id": "yNJ_I2AArG32",
    "outputId": "3ccdd0e5-de78-4bf8-b1e6-45ae2978e779"
   },
   "outputs": [
    {
     "name": "stdout",
     "output_type": "stream",
     "text": [
      "Get recommendations...\n"
     ]
    },
    {
     "data": {
      "text/html": [
       "<div>\n",
       "<style scoped>\n",
       "    .dataframe tbody tr th:only-of-type {\n",
       "        vertical-align: middle;\n",
       "    }\n",
       "\n",
       "    .dataframe tbody tr th {\n",
       "        vertical-align: top;\n",
       "    }\n",
       "\n",
       "    .dataframe thead th {\n",
       "        text-align: right;\n",
       "    }\n",
       "</style>\n",
       "<table border=\"1\" class=\"dataframe\">\n",
       "  <thead>\n",
       "    <tr style=\"text-align: right;\">\n",
       "      <th></th>\n",
       "      <th>user_id</th>\n",
       "      <th>session_id</th>\n",
       "      <th>timestamp</th>\n",
       "      <th>step</th>\n",
       "      <th>item_recommendations</th>\n",
       "    </tr>\n",
       "  </thead>\n",
       "  <tbody>\n",
       "    <tr>\n",
       "      <th>0</th>\n",
       "      <td>000324D9BBUC</td>\n",
       "      <td>89643988fdbfb</td>\n",
       "      <td>1541593942</td>\n",
       "      <td>10</td>\n",
       "      <td>924795 106315 1033140 119494 101758 903037 1050792 97171 353141 2094950 923407 106307 1000915 97170 147907 1838901 1729121 2182130 904851 927351 4234718 2358690 2431104 1241375 152107</td>\n",
       "    </tr>\n",
       "    <tr>\n",
       "      <th>1</th>\n",
       "      <td>0004Q49X39PY</td>\n",
       "      <td>9de47d9a66494</td>\n",
       "      <td>1541641157</td>\n",
       "      <td>1</td>\n",
       "      <td>3505150 3812004 2227896 2292254 3184842 2227026 8153310 10213134 320746 2213014 1978919 4504242 1012049 595506 1953665 4486372 3508724 1984229 3202894 2714500 3202412 1987127 2714480 7769010 2712428</td>\n",
       "    </tr>\n",
       "    <tr>\n",
       "      <th>2</th>\n",
       "      <td>0004Q49X39PY</td>\n",
       "      <td>beea5c27030cb</td>\n",
       "      <td>1541561202</td>\n",
       "      <td>1</td>\n",
       "      <td>4476010 3505150 3812004 2227896 2292254 2227026 1736323 2926933 9343000 7101352 1953665 1984229 7984902 10024490 3202894 2508850 3843244 5052004 7794970 3766088 3823768 2712428 9017272 5497362 6030666</td>\n",
       "    </tr>\n",
       "    <tr>\n",
       "      <th>3</th>\n",
       "      <td>00071784XQ6B</td>\n",
       "      <td>9617600e1ba7c</td>\n",
       "      <td>1541630328</td>\n",
       "      <td>2</td>\n",
       "      <td>22854 3067559 22721 22713 16121 22772 22727 22764 150882 22716 150825 22714 22711 22798 45096 4082698 102569 5889794 102568 1478189 22819 22797 22705 22848 3498754</td>\n",
       "    </tr>\n",
       "    <tr>\n",
       "      <th>4</th>\n",
       "      <td>0008BO33KUQ0</td>\n",
       "      <td>2d0e2102ee0dc</td>\n",
       "      <td>1541636411</td>\n",
       "      <td>6</td>\n",
       "      <td>9857656 5849628 655716 1352530 502066 1405084 2176280 507861 2143854 4342348 1241177 1669587 6451832 977727 6147882 1008737 4272108 3133206 1887759 1830637 3133204 4984730 1888653 1944129 1496381</td>\n",
       "    </tr>\n",
       "  </tbody>\n",
       "</table>\n",
       "</div>"
      ],
      "text/plain": [
       "        user_id  ...                                                                                                                                                                                      item_recommendations\n",
       "0  000324D9BBUC  ...                   924795 106315 1033140 119494 101758 903037 1050792 97171 353141 2094950 923407 106307 1000915 97170 147907 1838901 1729121 2182130 904851 927351 4234718 2358690 2431104 1241375 152107\n",
       "1  0004Q49X39PY  ...    3505150 3812004 2227896 2292254 3184842 2227026 8153310 10213134 320746 2213014 1978919 4504242 1012049 595506 1953665 4486372 3508724 1984229 3202894 2714500 3202412 1987127 2714480 7769010 2712428\n",
       "2  0004Q49X39PY  ...  4476010 3505150 3812004 2227896 2292254 2227026 1736323 2926933 9343000 7101352 1953665 1984229 7984902 10024490 3202894 2508850 3843244 5052004 7794970 3766088 3823768 2712428 9017272 5497362 6030666\n",
       "3  00071784XQ6B  ...                                       22854 3067559 22721 22713 16121 22772 22727 22764 150882 22716 150825 22714 22711 22798 45096 4082698 102569 5889794 102568 1478189 22819 22797 22705 22848 3498754\n",
       "4  0008BO33KUQ0  ...       9857656 5849628 655716 1352530 502066 1405084 2176280 507861 2143854 4342348 1241177 1669587 6451832 977727 6147882 1008737 4272108 3133206 1887759 1830637 3133204 4984730 1888653 1944129 1496381\n",
       "\n",
       "[5 rows x 5 columns]"
      ]
     },
     "execution_count": 60,
     "metadata": {
      "tags": []
     },
     "output_type": "execute_result"
    }
   ],
   "source": [
    "print(\"Get recommendations...\")\n",
    "df_expl = f.explode(df_target, \"impressions\")\n",
    "df_out = f.calc_recommendation(df_expl, df_popular)\n",
    "\n",
    "df_out.head()"
   ]
  },
  {
   "cell_type": "code",
   "execution_count": null,
   "metadata": {
    "colab": {
     "base_uri": "https://localhost:8080/"
    },
    "executionInfo": {
     "elapsed": 65892,
     "status": "ok",
     "timestamp": 1617204671515,
     "user": {
      "displayName": "Sparsh Agarwal",
      "photoUrl": "",
      "userId": "13037694610922482904"
     },
     "user_tz": -330
    },
    "id": "zXtxRNM3vugQ",
    "outputId": "6a63b261-6c33-4641-8c0e-55057a54effa"
   },
   "outputs": [
    {
     "name": "stdout",
     "output_type": "stream",
     "text": [
      "Reading ground truth data ./data/validation.csv ...\n",
      "Reading submission data ./data/submission_popular.csv ...\n",
      "Mean reciprocal rank:      0.2884\n",
      "Mean average precision @3: 0.1025\n"
     ]
    }
   ],
   "source": [
    "mrr, map3 = f.score_submissions('./data/submission_popular.csv', './data/validation.csv')\n",
    "\n",
    "print(f'Mean reciprocal rank:      {mrr}')\n",
    "print(f'Mean average precision @3: {map3}')"
   ]
  },
  {
   "cell_type": "code",
   "execution_count": null,
   "metadata": {
    "colab": {
     "base_uri": "https://localhost:8080/"
    },
    "executionInfo": {
     "elapsed": 2503,
     "status": "ok",
     "timestamp": 1617204897948,
     "user": {
      "displayName": "Sparsh Agarwal",
      "photoUrl": "",
      "userId": "13037694610922482904"
     },
     "user_tz": -330
    },
    "id": "IrsDuNMo6jUF",
    "outputId": "da54aef6-78ea-497b-c876-66e6a05e4e96"
   },
   "outputs": [
    {
     "name": "stdout",
     "output_type": "stream",
     "text": [
      "Checking for required columns in the submission file...\n",
      "> check passed\n",
      "Checking for duplicate sessions in the submission file...\n",
      "> check passed\n",
      "Checking that all the required sessions are present in submission...\n",
      "> check passed\n",
      "All checks passed\n"
     ]
    }
   ],
   "source": [
    "print('Checking for required columns in the submission file...')\n",
    "check_cols = f.check_columns(subm_csv)\n",
    "f.check_passed(check_cols)\n",
    "\n",
    "print('Checking for duplicate sessions in the submission file...')\n",
    "check_dupl = f.check_duplicates(subm_csv)\n",
    "f.check_passed(check_dupl)\n",
    "\n",
    "print('Checking that all the required sessions are present in submission...')\n",
    "check_sess = f.check_sessions(subm_csv, test_pd)\n",
    "f.check_passed(check_sess)\n",
    "\n",
    "if all([check_cols, check_dupl, check_sess]):\n",
    "    print('All checks passed')\n",
    "else:\n",
    "    print('One or more checks failed')"
   ]
  },
  {
   "cell_type": "code",
   "execution_count": null,
   "metadata": {
    "id": "HtGmCKgt7F5C"
   },
   "outputs": [],
   "source": []
  }
 ],
 "metadata": {
  "colab": {
   "authorship_tag": "ABX9TyPAo6Vr8L4V3Lprvz20WszE",
   "collapsed_sections": [],
   "mount_file_id": "1U6W8t922ql68pNduCvP13rEc4Ue0Rkm8",
   "name": "RecSys_Case_Trivago_001_ItemPop.ipynb",
   "provenance": []
  },
  "kernelspec": {
   "display_name": "Python 3",
   "language": "python",
   "name": "python3"
  },
  "language_info": {
   "codemirror_mode": {
    "name": "ipython",
    "version": 3
   },
   "file_extension": ".py",
   "mimetype": "text/x-python",
   "name": "python",
   "nbconvert_exporter": "python",
   "pygments_lexer": "ipython3",
   "version": "3.7.3"
  }
 },
 "nbformat": 4,
 "nbformat_minor": 4
}
