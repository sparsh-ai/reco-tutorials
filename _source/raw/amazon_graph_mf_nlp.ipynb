{
 "cells": [
  {
   "cell_type": "code",
   "execution_count": null,
   "metadata": {
    "id": "AqPwiv_dnwKg"
   },
   "outputs": [],
   "source": [
    "# !git clone https://github.com/eugeneyan/recsys-nlp-graph.git\n",
    "# %cd recsys-nlp-graph\n",
    "\n",
    "# !pip install -r requirements.txt"
   ]
  },
  {
   "cell_type": "code",
   "execution_count": null,
   "metadata": {
    "colab": {
     "base_uri": "https://localhost:8080/"
    },
    "executionInfo": {
     "elapsed": 1275,
     "status": "ok",
     "timestamp": 1617267199574,
     "user": {
      "displayName": "Sparsh Agarwal",
      "photoUrl": "",
      "userId": "13037694610922482904"
     },
     "user_tz": -330
    },
    "id": "EMZkcNRMJoMP",
    "outputId": "5edf1b05-424b-4a3f-f87b-3c8c378176c5"
   },
   "outputs": [
    {
     "name": "stdout",
     "output_type": "stream",
     "text": [
      "/content/workdir\n"
     ]
    }
   ],
   "source": [
    "# !mkdir -p /content/workdir/data/raw\n",
    "# !mkdir -p /content/workdir/data/interim\n",
    "%cd /content/workdir"
   ]
  },
  {
   "cell_type": "code",
   "execution_count": null,
   "metadata": {
    "id": "kEJESYxU_8yn"
   },
   "outputs": [],
   "source": [
    "# !cd ./data/raw && wget http://snap.stanford.edu/data/amazon/productGraph/categoryFiles/reviews_Electronics_5.json.gz \n",
    "# !cd ./data/raw && wget http://snap.stanford.edu/data/amazon/productGraph/categoryFiles/reviews_Musical_Instruments_5.json.gz\n",
    "# !cd ./data/raw && wget http://deepyeti.ucsd.edu/jianmo/amazon/sample/meta_Computers.json.gz"
   ]
  },
  {
   "cell_type": "code",
   "execution_count": null,
   "metadata": {
    "id": "jmneJofHWfno"
   },
   "outputs": [],
   "source": [
    "# !pip install -q -U kaggle\n",
    "# !pip install --upgrade --force-reinstall --no-deps kaggle\n",
    "# !mkdir ~/.kaggle\n",
    "# !cp /content/drive/MyDrive/kaggle.json ~/.kaggle/\n",
    "# !chmod 600 ~/.kaggle/kaggle.json\n",
    "# !cd ./data/raw && kaggle datasets download -d dhawalpatel/amazon-dataset\n",
    "# !unzip ./data/raw/amazon-dataset.zip"
   ]
  },
  {
   "cell_type": "code",
   "execution_count": null,
   "metadata": {
    "id": "TqnkVVqWYorw"
   },
   "outputs": [],
   "source": [
    "# !pip install pandas -U"
   ]
  },
  {
   "cell_type": "code",
   "execution_count": null,
   "metadata": {
    "id": "jAVRAqG-X5-D"
   },
   "outputs": [],
   "source": [
    "import logging\n",
    "import csv\n",
    "import json\n",
    "import gzip\n",
    "from typing import List\n",
    "\n",
    "import numpy as np\n",
    "import pandas as pd\n",
    "from pandas.api.types import is_object_dtype"
   ]
  },
  {
   "cell_type": "markdown",
   "metadata": {
    "id": "PhPZPy5rIhcT"
   },
   "source": [
    "Parses the raw json data into csv file for faster loading into pd.DataFrame"
   ]
  },
  {
   "cell_type": "code",
   "execution_count": null,
   "metadata": {
    "id": "LRPqZBBwpteq"
   },
   "outputs": [],
   "source": [
    "# !gzip -d /content/workdir/data/raw/meta_Computers.json.gz\n",
    "# !gzip -d example.json.gz\n",
    "# !cat example.json | gzip > example.json.gz"
   ]
  },
  {
   "cell_type": "code",
   "execution_count": null,
   "metadata": {
    "id": "ZfIYqIp7X5G-"
   },
   "outputs": [],
   "source": [
    "logger = logging.getLogger(__name__)\n",
    "logger.setLevel(logging.INFO)\n",
    "formatter = logging.Formatter('%(asctime)s - %(message)s')\n",
    "\n",
    "# create console handler and set level to info\n",
    "ch = logging.StreamHandler()\n",
    "ch.setFormatter(formatter)\n",
    "ch.setLevel(logging.INFO)\n",
    "\n",
    "# add ch to logger\n",
    "logger.addHandler(ch)"
   ]
  },
  {
   "cell_type": "code",
   "execution_count": null,
   "metadata": {
    "id": "1gI6Jq0_YCkr"
   },
   "outputs": [],
   "source": [
    "def parse(path: str):\n",
    "    # g = gzip.open(path, 'rb')\n",
    "    g = open(path, 'rb')\n",
    "    for l in g:\n",
    "      yield eval(l)\n",
    "\n",
    "\n",
    "def parse_json_to_df(path: str) -> pd.DataFrame:\n",
    "    i = 0; x=0\n",
    "    df_dict = {}\n",
    "    for d in parse(path):\n",
    "        df_dict[i] = d\n",
    "        i += 1\n",
    "        if i % 100000 == 0:\n",
    "            x += 1\n",
    "            logger.info('Rows processed: {:,}'.format(i*x))\n",
    "            pd.DataFrame.from_dict(df_dict, orient='index').to_csv(f'output{x}.csv', index=False)\n",
    "            i = 0"
   ]
  },
  {
   "cell_type": "code",
   "execution_count": 116,
   "metadata": {
    "executionInfo": {
     "elapsed": 1378,
     "status": "ok",
     "timestamp": 1617278446433,
     "user": {
      "displayName": "Sparsh Agarwal",
      "photoUrl": "",
      "userId": "13037694610922482904"
     },
     "user_tz": -330
    },
    "id": "Puy652G-op3W"
   },
   "outputs": [],
   "source": [
    "# parse_json_to_df('metadata.json')\n",
    "# !zip amazon_metadata.zip output*.csv"
   ]
  },
  {
   "cell_type": "code",
   "execution_count": null,
   "metadata": {
    "id": "ZkZ6BzkP6jAS"
   },
   "outputs": [],
   "source": [
    "# !pip install -q awscli\n",
    "# !mkdir ~/.aws\n",
    "# !cp /content/drive/MyDrive/AWS/credentials ~/.aws/\n",
    "# !chmod 600 ~/.aws/credentials\n",
    "# !aws s3 ls\n",
    "# !aws s3 mb s3://amznmeta\n",
    "# !aws s3 cp amazon_metadata.zip s3://amznmeta/"
   ]
  },
  {
   "cell_type": "code",
   "execution_count": null,
   "metadata": {
    "id": "J_nM4OyDSubv"
   },
   "outputs": [],
   "source": []
  }
 ],
 "metadata": {
  "colab": {
   "authorship_tag": "ABX9TyPOc8M7nYaAZylGvxIa0SPR",
   "collapsed_sections": [],
   "mount_file_id": "1RUqhmg8KJ6GHyFo--P6s9Xa0OvAaixYU",
   "name": "RecSys NLP Graph Amazon Dataset.ipynb",
   "provenance": []
  },
  "kernelspec": {
   "display_name": "Python 3",
   "language": "python",
   "name": "python3"
  },
  "language_info": {
   "codemirror_mode": {
    "name": "ipython",
    "version": 3
   },
   "file_extension": ".py",
   "mimetype": "text/x-python",
   "name": "python",
   "nbconvert_exporter": "python",
   "pygments_lexer": "ipython3",
   "version": "3.7.3"
  }
 },
 "nbformat": 4,
 "nbformat_minor": 4
}
