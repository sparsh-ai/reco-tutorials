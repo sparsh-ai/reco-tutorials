{
 "cells": [
  {
   "cell_type": "markdown",
   "metadata": {
    "id": "VTHU63hYgwzT"
   },
   "source": [
    "summary: In this tutorial, we will learn how to setup our own tutorial repositories using codelab and git actions.\n",
    "id: how-to-setup-your-own-codelab-site\n",
    "categories: Gitaction, Web\n",
    "tags: medium\n",
    "status: Published\n",
    "authors: Sparsh A.\n",
    "Feedback Link: https://github.com/sparsh-ai/codelabs/issues"
   ]
  },
  {
   "cell_type": "markdown",
   "metadata": {
    "id": "uC6AkZdChapT"
   },
   "source": [
    "# How to setup your own codelab site (automated)"
   ]
  },
  {
   "cell_type": "markdown",
   "metadata": {
    "id": "-67Oh2k3uCIW"
   },
   "source": [
    "<!-- ------------------------ -->\n",
    "## Prepare your Tutorial\n",
    "Duration: 5"
   ]
  },
  {
   "cell_type": "markdown",
   "metadata": {},
   "source": [
    "### Setup Jupyter"
   ]
  },
  {
   "cell_type": "markdown",
   "metadata": {
    "id": "BfEICnBOqpR4"
   },
   "source": [
    "We chose jupyter notebooks as an ideal choice for preparing tutorials because it integrates markdown with code, images and million other things. If you do not have a jupyter environment setup locally, you can choose [Colab](https://colab.research.google.com/) or [Binder](https://mybinder.org/v2/gh/jupyterlab/jupyterlab-demo/master?urlpath=lab/tree/demo) to prepare your notebook on cloud for free."
   ]
  },
  {
   "cell_type": "markdown",
   "metadata": {
    "id": "SBa3rJ7SsMfU"
   },
   "source": [
    "### Create Tutorial\n",
    "Write down your tutorial in colab as per [these](https://github.com/googlecodelabs/tools/blob/master/FORMAT-GUIDE.md) markdown instructions."
   ]
  },
  {
   "cell_type": "markdown",
   "metadata": {},
   "source": [
    "<!-- ------------------------ -->\n",
    "## Setup your site\n",
    "Duration: 5"
   ]
  },
  {
   "cell_type": "markdown",
   "metadata": {},
   "source": [
    "<aside class=\"positive\">\n",
    "This step is a one-time setup process. We will use GitHub to maintain and host our codelab site for free.\n",
    "</aside>"
   ]
  },
  {
   "attachments": {},
   "cell_type": "markdown",
   "metadata": {},
   "source": [
    "### Clone\n",
    "Login to your git account and go to [this](https://github.com/sparsh-ai/codelabs-base) site and click ```Use this template``` button.\n",
    "\n",
    "![clone](img/how-to-setup-your-own-codelab-site-clone.png)"
   ]
  },
  {
   "attachments": {},
   "cell_type": "markdown",
   "metadata": {},
   "source": [
    "### Name\n",
    "Give your site a name and click on ```Include all branches```.\n",
    "\n",
    "![name](img/how-to-setup-your-own-codelab-site-rename.png)"
   ]
  },
  {
   "attachments": {},
   "cell_type": "markdown",
   "metadata": {},
   "source": [
    "### Let it bake\n",
    "\n",
    "Wait for 3-4 minutes till this yellow dot becomes green. Git Actions is preparing your site in the background. Go to ```Actions``` tab to see the process.\n",
    "\n",
    "![bake](img/how-to-setup-your-own-codelab-site-bake.png)"
   ]
  },
  {
   "cell_type": "markdown",
   "metadata": {},
   "source": [
    "<!-- ------------------------ -->\n",
    "## Customize (optional)\n",
    "Duration: 10"
   ]
  },
  {
   "cell_type": "markdown",
   "metadata": {},
   "source": [
    "<aside class=\"positive\">\n",
    "    You can customize both landing page and codelabs. Codelab customization is mainly done via tags that we provide during the creation of jupyter notebook based tutorials.\n",
    "</aside>\n",
    "\n",
    "You can customize the following items in landing page by simple modifications.\n",
    "1. Change Header and Logo\n",
    "2. Add Category\n",
    "3. Add View\n",
    "4. Change Footer\n",
    "\n",
    "#### Change Header and Logo\n",
    "1. To change header and main page content, go to ```site > app > views > default``` and change ```index.html``` content as well as ```view.json``` contents accordingly.\n",
    "2. To change logo, go to ```site > app > images``` and replace ```my-logo.svg``` with your logo.\n",
    "\n",
    "Note: assuming the basic knowledge of html formattings. scope is mainly limited to find and replace things anyway.\n",
    "\n",
    "#### Add Category\n",
    "1. Go to ```site > app > styles > _categories.scss``` and add your category at the bottom in this format: ```@include codelab-card(['gitaction'], $color-weave-green, 'gitaction.svg');``` where ```gitaction``` is the category.\n",
    "2. Go to ```site > app > images > icons``` and add svg icon with the same name as your category.\n",
    "3. To use it, while creating codelab, add this category in the ```categories``` mata tag.\n",
    "\n",
    "\n",
    "#### Add View\n",
    "1. ```site > app > views``` and duplicate the ```medium``` folder.\n",
    "2. rename the folder name to any name you want for your view.\n",
    "3. Edit its json accordingly and add any image with the same name as your view.\n",
    "\n",
    "Note: Refer to this ```medium``` folder for guidance, and delete it afterwards if required.\n",
    "\n",
    "#### Change Footer\n",
    "To change footer, go to ```site > app > views > default``` and change ```index.html``` content accordingly."
   ]
  },
  {
   "cell_type": "markdown",
   "metadata": {},
   "source": [
    "<!-- ------------------------ -->\n",
    "## Add new Codelabs\n",
    "Duration: 5"
   ]
  },
  {
   "cell_type": "markdown",
   "metadata": {},
   "source": [
    "To add a new codelab to the codelab site, pull the repo, add the notebook and push it back to the master.\n",
    "\n",
    "### Pull the repo\n",
    "Pull the repo using ```git pull origin master``` where origin is pointed to your repo where codelabs site is hosted. If repo is already there, you can opt for ```git pull --rebase origin master``` instead.\n",
    "\n",
    "### Add tutorial notebook\n",
    "Add your tutorial notebook in the ```_notebook``` folder. Make sure the notebook format is following the codelab markdown guidelines and the extension is ```.ipynb```.\n",
    "\n",
    "### Push the repo\n",
    "Push the updated repo changes to master branch using the standard set of add -> commit -> push chain. e.g. you can use ```git add . && git commit -m 'new build' && git push origin master``` to push the changes."
   ]
  },
  {
   "cell_type": "markdown",
   "metadata": {
    "id": "PM341vSUGcOq"
   },
   "source": [
    "<!-- ------------------------ -->\n",
    "## Conclusion\n",
    "Duration: 1"
   ]
  },
  {
   "cell_type": "markdown",
   "metadata": {
    "id": "6vZ-Cmw6Gknw"
   },
   "source": [
    "Git actions workflow named ```CI``` would automatically start deploying latest changes of the master branch. You can check the status in ```Actions``` tab of your git repo.\n",
    "\n",
    "To access the codelabs site, go to your github pages URL. The typical URL format is ```https://<user_name>.github.io/<repo_name>```.\n",
    "\n",
    "Verify the functionality and modify/enhance the process as per requirements."
   ]
  }
 ],
 "metadata": {
  "colab": {
   "collapsed_sections": [],
   "name": "codelabs-template.ipynb",
   "provenance": [],
   "toc_visible": true
  },
  "kernelspec": {
   "display_name": "Python 3",
   "language": "python",
   "name": "python3"
  },
  "language_info": {
   "codemirror_mode": {
    "name": "ipython",
    "version": 3
   },
   "file_extension": ".py",
   "mimetype": "text/x-python",
   "name": "python",
   "nbconvert_exporter": "python",
   "pygments_lexer": "ipython3",
   "version": "3.7.3"
  }
 },
 "nbformat": 4,
 "nbformat_minor": 4
}
